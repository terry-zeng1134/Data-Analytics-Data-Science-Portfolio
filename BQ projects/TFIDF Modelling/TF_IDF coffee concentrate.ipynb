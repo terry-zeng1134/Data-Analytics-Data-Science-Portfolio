{
 "cells": [
  {
   "cell_type": "markdown",
   "id": "208f4558-985e-49d8-a84d-d66fe28a417f",
   "metadata": {},
   "source": [
    "# Imports"
   ]
  },
  {
   "cell_type": "code",
   "execution_count": 318,
   "id": "5f2cf8f5-fd3e-4a92-8ff5-df6f9b8af487",
   "metadata": {},
   "outputs": [
    {
     "name": "stderr",
     "output_type": "stream",
     "text": [
      "[nltk_data] Downloading package stopwords to\n",
      "[nltk_data]     /home/jupyter/nltk_data...\n",
      "[nltk_data]   Package stopwords is already up-to-date!\n",
      "[nltk_data] Downloading package punkt to /home/jupyter/nltk_data...\n",
      "[nltk_data]   Package punkt is already up-to-date!\n",
      "[nltk_data] Downloading package wordnet to /home/jupyter/nltk_data...\n",
      "[nltk_data]   Package wordnet is already up-to-date!\n",
      "[nltk_data] Downloading package omw-1.4 to /home/jupyter/nltk_data...\n",
      "[nltk_data]   Package omw-1.4 is already up-to-date!\n"
     ]
    }
   ],
   "source": [
    "# Imports\n",
    "import numpy as np\n",
    "import pandas as pd\n",
    "import pyspark\n",
    "import nltk\n",
    "nltk.download('stopwords')\n",
    "nltk.download('punkt')\n",
    "nltk.download('wordnet')\n",
    "nltk.download('omw-1.4')\n",
    "import contractions\n",
    "import math\n",
    "from itertools import chain\n",
    "from nltk.corpus import stopwords\n",
    "from nltk.tokenize import word_tokenize\n",
    "from nltk.util import bigrams\n",
    "from nltk.stem import WordNetLemmatizer\n",
    "\n",
    "import re\n",
    "import string\n",
    "import plotly.express as px\n",
    "from plotly.subplots import make_subplots\n",
    "import plotly.graph_objs as go\n",
    "\n",
    "from google.cloud import bigquery\n",
    "\n",
    "from sklearn.feature_extraction.text import TfidfVectorizer "
   ]
  },
  {
   "cell_type": "code",
   "execution_count": 319,
   "id": "af189897-3888-44b6-9873-2da63a1ef32b",
   "metadata": {},
   "outputs": [
    {
     "name": "stdout",
     "output_type": "stream",
     "text": [
      "Client creating using default project: helio-staging\n"
     ]
    }
   ],
   "source": [
    "client = bigquery.Client(location=\"US\")\n",
    "print(\"Client creating using default project: {}\".format(client.project))\n",
    "\n",
    "client = bigquery.Client(location=\"US\", project=\"helio-staging\")"
   ]
  },
  {
   "cell_type": "markdown",
   "id": "c86babbf-09b8-4dcd-b3c9-bfee960f2ca6",
   "metadata": {},
   "source": [
    "# Constants + Functions"
   ]
  },
  {
   "cell_type": "code",
   "execution_count": 320,
   "id": "7cbd1e64-230c-4216-97b0-eb65ec2088b2",
   "metadata": {},
   "outputs": [],
   "source": [
    "GROUP_CUSTOM_STOPWORDS = [\n",
    "    \"bike\", \"nbsp\", \"crn\",\"sample\", \"bikes\", \"great\", \"good\", \"love\",\"like\", \"recommend\",\"smells\",\"collected\",\"part\",\"review\",\"promotion\",\"razor\",\n",
    "    \"shave\",\"shaving\",\"blade\",\"camille\",\"cantu\",\"daughter\",\"today\",\"kccc\",\"jessie\",\"miss\",\"fabric\",\"pillow\",\"softener\",\"or\",    \"tiktok\",\"OR\",\n",
    "     'Proov', 'proov','Natalist', 'natalist','Stix', 'stix','Clear Blue', 'blue','Modern Fertility', 'modern', 'free', 'app', 'mf', 'android', 'pinchme',\n",
    "    'Pregmate', 'pregmate', 'received','First Response', 'test', 'ovulation', 'none', 'see', 'store', 'day', 'month', 'amy', 'face', 'far', 'scan',\n",
    "    'it‚äôs','don‚äôt', 'using_minoxidil', '_oz','i‚äôm','moreread','using','stating',\n",
    "    'doesn‚äôt', 'classic','order','ordering', 'best', 'hard', 'seltzer', 'claw','never','got','ordered','white','product','high-noon','bottle','girl',\n",
    "    'read_lessread','read_moreread','lessread_le','le_stating','moreread_stating','scalp detox','le_serum',\n",
    "    'moreread_serum','i’ve_stem','hair_read','don’t_know','i’ve_bought', 'liquid_kinda', \"i'ḿ\"'use_serum','le_mus','read_serum','ingredient_us','oz_extreme',\n",
    "    'cell_serum','cell','stem','le','read','lessread','moreread','more','multi-colored—from_brown','findin_read','strengthening_hair','hair_oil','care_oil',\n",
    "    'hair','oil_hair','extreme_hair','hair_care','extreme','oz','_strengthening','used twice', 'oil_oil', 'customer',    'nan', 'read_moreread', 'noreferrer',\n",
    "    'noreferrer_farmer','farmer_dog/a','noreferrer_ollie/a','rel','noopener','blank_rel',\n",
    "    'rel_nofollow','blank','nofollow','target_blank','noopener_noreferrer','nofollower_noopener','nofollow_noopener',\"partake\",\"partake_cooky\", \"crunchy_cooky\",\"cooky_vegan\",\"madegood\",\"apple_jack\"\n",
    "]\n",
    "\n",
    "added_stopwords_li = [\n",
    "    \"it’s\",    \"'d\",    \"'s\",\n",
    "    \"n't\",    \"'m\",\n",
    "    \"i've\",    \"it's\",    \"'ve\",\n",
    "    \"'re\",    \"'ll\",    \"``\",    \"''\",    \"...\",    \"--\", \"https\",\n",
    "    \"voxbox\",    \"influenster\",    \"cracker\",    \"or\",    'it‚äôs',\n",
    "    'don‚äôt',    'i‚äôm',    'doesn‚äôt',    \"get\", \"also\",    \"even\",    \"since\", \"amy\"\n",
    "]\n",
    "\n",
    "REV_COLS = ['source_name',\n",
    "    'normalized_url',\n",
    "    'review_source_id',\n",
    "    'reviewer_source_id',\n",
    "    'brand_name',\n",
    "    'product_name',\n",
    "    'product_source_id',\n",
    "    'review_date',\n",
    "    'review_rating',\n",
    "    'review_content'\n",
    "]\n",
    "\n",
    "product_categories = ['Accessories',\n",
    "'Alcoholic Beverages',\n",
    "'Apparel & Footwear',\n",
    "'Food',\n",
    "'Food Establishments',\n",
    "'Health & Beauty Establishments',\n",
    "'Household Consumables',\n",
    "'Household Durables',\n",
    "'Other',\n",
    "'Pet Products',\n",
    "'Non-Alcoholic Beverages',\n",
    "'Personal Care & Beauty',\n",
    "'Retailers',\n",
    "'Sports & Outdoors'\n",
    "]\n",
    "\n",
    "drop_words = ['tablespoon_jot',\n",
    "              'micro_dose',\n",
    "              'javy_make',\n",
    "              'coffe_make',\n",
    "              'cometeer',\n",
    "              'cometeer_coffee',\n",
    "              'home_coffee',\n",
    "              'medium_roast',\n",
    "              'javy',\n",
    "              'javy_coffee',\n",
    "              'coffee_javy',\n",
    "              'thank_javy',\n",
    "              'jot_coffee',\n",
    "              'coffee_jot',\n",
    "              'jot_make',\n",
    "              'tried_jot',\n",
    "              'tbsp',\n",
    "              'coffee_cometeer',\n",
    "              'one_tablespoon',\n",
    "              'try_jot',\n",
    "              'cup_jot',\n",
    "              'teaspoon_javy',\n",
    "              'tsp',\n",
    "              'javy_taste',\n",
    "              'thanks_jot',\n",
    "              'thanks_javy',\n",
    "              'thank_jot',\n",
    "              'pilot',\n",
    "              'coffee_capsule'\n",
    "             ]\n",
    "\n",
    "MIN_TERM_PCT = 0\n",
    "\n",
    "MAX_TERM_PCT = 100\n",
    "\n",
    "TERM_PERCENT_HEAD = 1\n",
    "\n",
    "TOP_N_WORDS = 8\n",
    "\n",
    "np.random.seed(42) # set seed for models for reproducibility\n",
    "\n",
    "stopwords_li = stopwords.words('english')\n",
    "punkts_li = list(string.punctuation)\n",
    "\n",
    "REVIEWS_PER_BRAND_TO_ANALYZE = 10_000"
   ]
  },
  {
   "cell_type": "code",
   "execution_count": 321,
   "id": "439a907c-a3c2-4f25-b82a-7206b5de2095",
   "metadata": {
    "tags": []
   },
   "outputs": [],
   "source": [
    "def tokenize(s, strip_str=\"=-_/\\+.:,'* 1234567890—\"):\n",
    "    custom_words_li = GROUP_CUSTOM_STOPWORDS + added_stopwords_li+stopwords_li + punkts_li + [\"\"]\n",
    "    return [w.lower().strip(strip_str) for w in word_tokenize(str(s)) if w.lower().strip(strip_str) not in custom_words_li]\n",
    "\n",
    "def lemmatize(tokens):\n",
    "    lemmatizer = WordNetLemmatizer()\n",
    "    return [lemmatizer.lemmatize(w) for w in tokens]\n",
    "\n",
    "def unique_list(li):\n",
    "    deduped_li = list(set(li))\n",
    "    return deduped_li\n",
    "\n",
    "def bigram(tokens):\n",
    "    bi_tup = list(bigrams(tokens))\n",
    "    bi_li = ['_'.join(tup) for tup in bi_tup]\n",
    "    return bi_li\n"
   ]
  },
  {
   "cell_type": "markdown",
   "id": "50b0048c-dbad-4036-8914-ed634c8c6de4",
   "metadata": {
    "tags": []
   },
   "source": [
    "# Load Data"
   ]
  },
  {
   "cell_type": "code",
   "execution_count": 322,
   "id": "84a69a77-fa83-47df-b988-faf149483078",
   "metadata": {},
   "outputs": [],
   "source": [
    "GROUP_NAME = \"Coffee Concentrates\"\n",
    "# GROUP_NAME = 'Meat Substitutes'\n",
    "\n",
    "\n",
    "# When using Streamlit, leave list empty and un-comment cells below\n",
    "\n",
    "#Cereals\n",
    "NORMALIZED_URL_LI = [\n",
    "    \"jot.co\",\n",
    "    \"javycoffee.com\",\n",
    "    \"cometeer.com\"\n",
    "\n",
    "    \n",
    "]\n",
    "\n",
    "PRIMARY_CATEGORIES = [\n",
    "\n",
    "]                      \n",
    "\n",
    "\n",
    "BRAND_NAME_LI = [\n",
    "    \"Jot\",\n",
    "    \"Javy\",\n",
    "    \"Cometeer\"\n",
    "    \n",
    "]\n",
    "\n",
    "\n",
    "brand_name_di = dict(zip(NORMALIZED_URL_LI, BRAND_NAME_LI))\n",
    "\n",
    "external_revs_list = []\n",
    "\n",
    "\n",
    "\n",
    "    \n",
    "PROD_CAT_EXCLUDE_LI = ['Pet Products']\n",
    "    \n",
    "PRODUCT_NAME_NOT_CONTAINS_LI = ['toothpaste']\n"
   ]
  },
  {
   "cell_type": "code",
   "execution_count": null,
   "id": "00661483-9a82-42d2-b41b-c2e6e3eb9b8a",
   "metadata": {
    "tags": []
   },
   "outputs": [],
   "source": []
  },
  {
   "cell_type": "code",
   "execution_count": 323,
   "id": "4816a0bf-b10b-4e28-9837-6955b2367595",
   "metadata": {
    "tags": []
   },
   "outputs": [
    {
     "data": {
      "text/plain": [
       "'\\njob_config = bigquery.QueryJobConfig(\\n    query_parameters=[\\n        bigquery.ArrayQueryParameter(\"url\", \"STRING\", NORMALIZED_URL_LI),\\n        bigquery.ArrayQueryParameter(\"cols\", \"STRING\", REV_COLS),\\n        bigquery.ArrayQueryParameter(\"brands\", \"STRING\", BRAND_NAME_LI)\\n    ]\\n)\\n'"
      ]
     },
     "execution_count": 323,
     "metadata": {},
     "output_type": "execute_result"
    }
   ],
   "source": [
    "'''\n",
    "job_config = bigquery.QueryJobConfig(\n",
    "    query_parameters=[\n",
    "        bigquery.ArrayQueryParameter(\"url\", \"STRING\", NORMALIZED_URL_LI),\n",
    "        bigquery.ArrayQueryParameter(\"cols\", \"STRING\", REV_COLS),\n",
    "        bigquery.ArrayQueryParameter(\"brands\", \"STRING\", BRAND_NAME_LI)\n",
    "    ]\n",
    ")\n",
    "'''"
   ]
  },
  {
   "cell_type": "code",
   "execution_count": 324,
   "id": "23b0e599-ddc4-464e-930f-602a48af8100",
   "metadata": {
    "tags": []
   },
   "outputs": [
    {
     "data": {
      "text/plain": [
       "'\\njob_config = bigquery.QueryJobConfig(\\n        query_parameters=[\\n            bigquery.ArrayQueryParameter(\"url\", \"STRING\", NORMALIZED_URL_LI)\\n        ]\\n)\\nmax_date_query = \"\"\"\\n    SELECT max(execution_date)\\n    FROM `helio-staging.online_reviews.online_reviews__deduped_review__1_0`\\n    where execution_date > DATE_ADD(current_date(), INTERVAL -10 DAY)\\n    and normalized_url IS NOT NULL\\n    \"\"\"\\nquery_job = client.query(\\n    max_date_query,\\n    # Location must match that of the dataset(s) referenced in the query.\\n    location=\"US\",\\n    job_config=job_config\\n)  # API request - starts the query\\n\\nmax_date = query_job.to_dataframe()[\\'f0_\\'].astype(\\'str\\')[0]\\n'"
      ]
     },
     "execution_count": 324,
     "metadata": {},
     "output_type": "execute_result"
    }
   ],
   "source": [
    "'''\n",
    "job_config = bigquery.QueryJobConfig(\n",
    "        query_parameters=[\n",
    "            bigquery.ArrayQueryParameter(\"url\", \"STRING\", NORMALIZED_URL_LI)\n",
    "        ]\n",
    ")\n",
    "max_date_query = \"\"\"\n",
    "    SELECT max(execution_date)\n",
    "    FROM `helio-staging.online_reviews.online_reviews__deduped_review__1_0`\n",
    "    where execution_date > DATE_ADD(current_date(), INTERVAL -10 DAY)\n",
    "    and normalized_url IS NOT NULL\n",
    "    \"\"\"\n",
    "query_job = client.query(\n",
    "    max_date_query,\n",
    "    # Location must match that of the dataset(s) referenced in the query.\n",
    "    location=\"US\",\n",
    "    job_config=job_config\n",
    ")  # API request - starts the query\n",
    "\n",
    "max_date = query_job.to_dataframe()['f0_'].astype('str')[0]\n",
    "'''\n"
   ]
  },
  {
   "cell_type": "code",
   "execution_count": 325,
   "id": "3a7921a5-de2f-41ff-bebd-87870e2aebc1",
   "metadata": {
    "tags": []
   },
   "outputs": [
    {
     "data": {
      "text/plain": [
       "'max_date'"
      ]
     },
     "execution_count": 325,
     "metadata": {},
     "output_type": "execute_result"
    }
   ],
   "source": [
    "'''max_date'''"
   ]
  },
  {
   "cell_type": "code",
   "execution_count": 326,
   "id": "9f67c0f9-56e6-413d-8014-941b63a4b486",
   "metadata": {
    "tags": []
   },
   "outputs": [
    {
     "data": {
      "text/plain": [
       "'\\njob_config = bigquery.QueryJobConfig(\\n    query_parameters=[\\n        bigquery.ArrayQueryParameter(\"url\", \"STRING\", NORMALIZED_URL_LI),\\n        bigquery.ScalarQueryParameter(\"max_date\", \"STRING\", max_date)\\n    ]\\n)\\nreview_query = \"\"\"\\n    SELECT source_name,\\n    normalized_url,\\n    review_source_id,\\n    reviewer_source_id,\\n    product_name,\\n    product_source_id,\\n    review_date,\\n    review_rating,\\n    review_content\\n    FROM `helio-staging.online_reviews.online_reviews__deduped_review__1_0`\\n    WHERE (normalized_url IN UNNEST (@url)\\n    OR (product_name LIKE \\'%Jot Concentrated%\\')\\n    )\\n    AND execution_date = @max_date\\n    \"\"\"\\nquery_job = client.query(\\n    review_query,\\n    # Location must match that of the dataset(s) referenced in the query.\\n    location=\"US\",\\n    job_config=job_config\\n)  # API request - starts the query\\n\\nreviews = query_job.to_dataframe()\\nreviews = reviews.loc[reviews.astype(str).drop_duplicates().index]\\n'"
      ]
     },
     "execution_count": 326,
     "metadata": {},
     "output_type": "execute_result"
    }
   ],
   "source": [
    "'''\n",
    "job_config = bigquery.QueryJobConfig(\n",
    "    query_parameters=[\n",
    "        bigquery.ArrayQueryParameter(\"url\", \"STRING\", NORMALIZED_URL_LI),\n",
    "        bigquery.ScalarQueryParameter(\"max_date\", \"STRING\", max_date)\n",
    "    ]\n",
    ")\n",
    "review_query = \"\"\"\n",
    "    SELECT source_name,\n",
    "    normalized_url,\n",
    "    review_source_id,\n",
    "    reviewer_source_id,\n",
    "    product_name,\n",
    "    product_source_id,\n",
    "    review_date,\n",
    "    review_rating,\n",
    "    review_content\n",
    "    FROM `helio-staging.online_reviews.online_reviews__deduped_review__1_0`\n",
    "    WHERE (normalized_url IN UNNEST (@url)\n",
    "    OR (product_name LIKE '%Jot Concentrated%')\n",
    "    )\n",
    "    AND execution_date = @max_date\n",
    "    \"\"\"\n",
    "query_job = client.query(\n",
    "    review_query,\n",
    "    # Location must match that of the dataset(s) referenced in the query.\n",
    "    location=\"US\",\n",
    "    job_config=job_config\n",
    ")  # API request - starts the query\n",
    "\n",
    "reviews = query_job.to_dataframe()\n",
    "reviews = reviews.loc[reviews.astype(str).drop_duplicates().index]\n",
    "'''"
   ]
  },
  {
   "cell_type": "code",
   "execution_count": 327,
   "id": "05bab625-dca2-470c-b9b7-5cb7597fa48d",
   "metadata": {},
   "outputs": [
    {
     "name": "stderr",
     "output_type": "stream",
     "text": [
      "/opt/conda/lib/python3.7/site-packages/ipykernel_launcher.py:3: SettingWithCopyWarning:\n",
      "\n",
      "\n",
      "A value is trying to be set on a copy of a slice from a DataFrame.\n",
      "Try using .loc[row_indexer,col_indexer] = value instead\n",
      "\n",
      "See the caveats in the documentation: https://pandas.pydata.org/pandas-docs/stable/user_guide/indexing.html#returning-a-view-versus-a-copy\n",
      "\n"
     ]
    },
    {
     "data": {
      "text/plain": [
       "array(['DTC'], dtype=object)"
      ]
     },
     "execution_count": 327,
     "metadata": {},
     "output_type": "execute_result"
    }
   ],
   "source": [
    "reviews.shape\n",
    "reviews = reviews[reviews[\"normalized_url\"]!=\"jot.co\"]\n",
    "reviews[\"normalized_url\"] = reviews[\"normalized_url\"].replace(\"acuitybrands.com\",\"jot.co\")\n",
    "reviews[\"source_name\"].unique()"
   ]
  },
  {
   "cell_type": "code",
   "execution_count": 328,
   "id": "bcf58c7c-eff6-4406-b572-e66f195c65a1",
   "metadata": {
    "tags": []
   },
   "outputs": [],
   "source": [
    "# Product Category Data\n",
    "\n",
    "query = \"\"\"\n",
    "    SELECT product_source_id, parent_category, primary_category\n",
    "    FROM `helio-staging.taxonomy.product_taxonomy__1_0`\n",
    "    WHERE normalized_url IN UNNEST (@url)\n",
    "\n",
    "    \"\"\"\n",
    "query_job = client.query(\n",
    "    query,\n",
    "    # Location must match that of the dataset(s) referenced in the query.\n",
    "    location=\"US\",\n",
    "    job_config=job_config\n",
    ")  # API request - starts the query\n",
    "\n",
    "prod_cat = query_job.to_dataframe()"
   ]
  },
  {
   "cell_type": "code",
   "execution_count": 329,
   "id": "9fd54d7a-07ee-4b0a-beb4-52363b217eac",
   "metadata": {
    "tags": []
   },
   "outputs": [],
   "source": [
    "# All primary categories\n",
    "\n",
    "query = \"\"\"\n",
    "    SELECT distinct parent_category\n",
    "    FROM `helio-staging.taxonomy.product_taxonomy__1_0`\n",
    "    \"\"\"\n",
    "query_job = client.query(\n",
    "    query,\n",
    "    # Location must match that of the dataset(s) referenced in the query.\n",
    "    location=\"US\",\n",
    "    job_config=job_config\n",
    ")  # API request - starts the query\n",
    "\n",
    "cat_list = query_job.to_dataframe()"
   ]
  },
  {
   "cell_type": "code",
   "execution_count": 330,
   "id": "30e4eb10-d267-4405-a719-1223184b0689",
   "metadata": {
    "tags": []
   },
   "outputs": [
    {
     "ename": "ValueError",
     "evalue": "You are trying to merge on int64 and object columns. If you wish to proceed you should use pd.concat",
     "output_type": "error",
     "traceback": [
      "\u001b[0;31m---------------------------------------------------------------------------\u001b[0m",
      "\u001b[0;31mValueError\u001b[0m                                Traceback (most recent call last)",
      "\u001b[0;32m/tmp/ipykernel_1805/3716212468.py\u001b[0m in \u001b[0;36m<module>\u001b[0;34m\u001b[0m\n\u001b[1;32m      4\u001b[0m     \u001b[0mreviews\u001b[0m\u001b[0;34m,\u001b[0m\u001b[0;34m\u001b[0m\u001b[0;34m\u001b[0m\u001b[0m\n\u001b[1;32m      5\u001b[0m     \u001b[0mprod_cat\u001b[0m\u001b[0;34m,\u001b[0m\u001b[0;34m\u001b[0m\u001b[0;34m\u001b[0m\u001b[0m\n\u001b[0;32m----> 6\u001b[0;31m     on='product_source_id', how='left').drop_duplicates(subset=['source_name', 'review_source_id'])\n\u001b[0m\u001b[1;32m      7\u001b[0m \u001b[0;34m\u001b[0m\u001b[0m\n\u001b[1;32m      8\u001b[0m \u001b[0;31m# Filter out excluded categories, excluded product name terms\u001b[0m\u001b[0;34m\u001b[0m\u001b[0;34m\u001b[0m\u001b[0;34m\u001b[0m\u001b[0m\n",
      "\u001b[0;32m/opt/conda/lib/python3.7/site-packages/pandas/core/reshape/merge.py\u001b[0m in \u001b[0;36mmerge\u001b[0;34m(left, right, how, on, left_on, right_on, left_index, right_index, sort, suffixes, copy, indicator, validate)\u001b[0m\n\u001b[1;32m    117\u001b[0m         \u001b[0mcopy\u001b[0m\u001b[0;34m=\u001b[0m\u001b[0mcopy\u001b[0m\u001b[0;34m,\u001b[0m\u001b[0;34m\u001b[0m\u001b[0;34m\u001b[0m\u001b[0m\n\u001b[1;32m    118\u001b[0m         \u001b[0mindicator\u001b[0m\u001b[0;34m=\u001b[0m\u001b[0mindicator\u001b[0m\u001b[0;34m,\u001b[0m\u001b[0;34m\u001b[0m\u001b[0;34m\u001b[0m\u001b[0m\n\u001b[0;32m--> 119\u001b[0;31m         \u001b[0mvalidate\u001b[0m\u001b[0;34m=\u001b[0m\u001b[0mvalidate\u001b[0m\u001b[0;34m,\u001b[0m\u001b[0;34m\u001b[0m\u001b[0;34m\u001b[0m\u001b[0m\n\u001b[0m\u001b[1;32m    120\u001b[0m     )\n\u001b[1;32m    121\u001b[0m     \u001b[0;32mreturn\u001b[0m \u001b[0mop\u001b[0m\u001b[0;34m.\u001b[0m\u001b[0mget_result\u001b[0m\u001b[0;34m(\u001b[0m\u001b[0;34m)\u001b[0m\u001b[0;34m\u001b[0m\u001b[0;34m\u001b[0m\u001b[0m\n",
      "\u001b[0;32m/opt/conda/lib/python3.7/site-packages/pandas/core/reshape/merge.py\u001b[0m in \u001b[0;36m__init__\u001b[0;34m(self, left, right, how, on, left_on, right_on, axis, left_index, right_index, sort, suffixes, copy, indicator, validate)\u001b[0m\n\u001b[1;32m    701\u001b[0m         \u001b[0;31m# validate the merge keys dtypes. We may need to coerce\u001b[0m\u001b[0;34m\u001b[0m\u001b[0;34m\u001b[0m\u001b[0;34m\u001b[0m\u001b[0m\n\u001b[1;32m    702\u001b[0m         \u001b[0;31m# to avoid incompatible dtypes\u001b[0m\u001b[0;34m\u001b[0m\u001b[0;34m\u001b[0m\u001b[0;34m\u001b[0m\u001b[0m\n\u001b[0;32m--> 703\u001b[0;31m         \u001b[0mself\u001b[0m\u001b[0;34m.\u001b[0m\u001b[0m_maybe_coerce_merge_keys\u001b[0m\u001b[0;34m(\u001b[0m\u001b[0;34m)\u001b[0m\u001b[0;34m\u001b[0m\u001b[0;34m\u001b[0m\u001b[0m\n\u001b[0m\u001b[1;32m    704\u001b[0m \u001b[0;34m\u001b[0m\u001b[0m\n\u001b[1;32m    705\u001b[0m         \u001b[0;31m# If argument passed to validate,\u001b[0m\u001b[0;34m\u001b[0m\u001b[0;34m\u001b[0m\u001b[0;34m\u001b[0m\u001b[0m\n",
      "\u001b[0;32m/opt/conda/lib/python3.7/site-packages/pandas/core/reshape/merge.py\u001b[0m in \u001b[0;36m_maybe_coerce_merge_keys\u001b[0;34m(self)\u001b[0m\n\u001b[1;32m   1254\u001b[0m                     \u001b[0minferred_right\u001b[0m \u001b[0;32min\u001b[0m \u001b[0mstring_types\u001b[0m \u001b[0;32mand\u001b[0m \u001b[0minferred_left\u001b[0m \u001b[0;32mnot\u001b[0m \u001b[0;32min\u001b[0m \u001b[0mstring_types\u001b[0m\u001b[0;34m\u001b[0m\u001b[0;34m\u001b[0m\u001b[0m\n\u001b[1;32m   1255\u001b[0m                 ):\n\u001b[0;32m-> 1256\u001b[0;31m                     \u001b[0;32mraise\u001b[0m \u001b[0mValueError\u001b[0m\u001b[0;34m(\u001b[0m\u001b[0mmsg\u001b[0m\u001b[0;34m)\u001b[0m\u001b[0;34m\u001b[0m\u001b[0;34m\u001b[0m\u001b[0m\n\u001b[0m\u001b[1;32m   1257\u001b[0m \u001b[0;34m\u001b[0m\u001b[0m\n\u001b[1;32m   1258\u001b[0m             \u001b[0;31m# datetimelikes must match exactly\u001b[0m\u001b[0;34m\u001b[0m\u001b[0;34m\u001b[0m\u001b[0;34m\u001b[0m\u001b[0m\n",
      "\u001b[0;31mValueError\u001b[0m: You are trying to merge on int64 and object columns. If you wish to proceed you should use pd.concat"
     ]
    }
   ],
   "source": [
    "# Join reviews with product categories\n",
    "\n",
    "reviews = pd.merge(\n",
    "    reviews, \n",
    "    prod_cat, \n",
    "    on='product_source_id', how='left').drop_duplicates(subset=['source_name', 'review_source_id'])\n",
    "\n",
    "# Filter out excluded categories, excluded product name terms\n",
    "PROD_CAT_EXCLUDE_LI = ['Pet Products']\n",
    "\n",
    "for term in PROD_CAT_EXCLUDE_LI:\n",
    "    reviews = reviews[(~reviews['parent_category'].fillna('').str.contains(term))]\n",
    "\n",
    "    \n",
    "PRODUCT_NAME_NOT_CONTAINS_LI = ['Purina', 'Krill']\n",
    "for term in PRODUCT_NAME_NOT_CONTAINS_LI:\n",
    "    reviews = reviews[~(reviews['product_name'].str.lower().fillna('').str.contains(term.lower()))]"
   ]
  },
  {
   "cell_type": "code",
   "execution_count": 388,
   "id": "b9acefad-1843-4237-be6a-74d0947cc04d",
   "metadata": {},
   "outputs": [],
   "source": [
    "\n",
    "jot_scraped_revs = pd.read_csv('jot_scraped_revs.csv')\n",
    "javy_scraped_revs = pd.read_csv('javy_scraped_revs.csv')\n",
    "cometeer_scraped_revs = pd.read_csv('cometeer_scraped_revs.csv')\n",
    "\n",
    "jot_scraped_revs['review_content'] = jot_scraped_revs['rev_content']\n",
    "jot_scraped_revs['review_date'] = jot_scraped_revs['created_at']\n",
    "jot_scraped_revs['product_name'] = jot_scraped_revs['product']\n",
    "jot_scraped_revs['source_name'] = 'DTC'\n",
    "\n",
    "javy_scraped_revs['review_content'] = javy_scraped_revs['rev_content']\n",
    "javy_scraped_revs['review_date'] = javy_scraped_revs['created_at']\n",
    "javy_scraped_revs['product_name'] = javy_scraped_revs['product']\n",
    "javy_scraped_revs['source_name'] = 'DTC'\n",
    "\n",
    "cometeer_scraped_revs['brand_name']='Cometeer'\n",
    "cometeer_scraped_revs['review_content'] = cometeer_scraped_revs['rev_content']\n",
    "cometeer_scraped_revs['review_date'] = cometeer_scraped_revs['created_at']\n",
    "cometeer_scraped_revs['product_name'] = cometeer_scraped_revs['product']\n",
    "cometeer_scraped_revs['source_name'] = 'DTC'\n",
    "\n",
    "\n",
    "incrementing_columns = ['review_source_id','reviewer_source_id', 'product_source_id']\n",
    "\n",
    "reviews = jot_scraped_revs.append(javy_scraped_revs).append(cometeer_scraped_revs)\n",
    "for column_name in incrementing_columns:\n",
    "       reviews[column_name]=reviews.index\n",
    "\n",
    "reviews = reviews.append(pd.read_csv(\"coffee_revs.csv\").replace('acuitybrands.com','jot.co'))\n",
    "\n",
    "#reviews = pd.read_csv(\"jot javy cometeer amzn dtc reviews.csv\").replace('acuitybrands.com','jot.co')"
   ]
  },
  {
   "cell_type": "code",
   "execution_count": 389,
   "id": "cdf59dd1-c78b-478e-96b4-4a36e19c1d8b",
   "metadata": {
    "tags": []
   },
   "outputs": [],
   "source": [
    "# Read external CSVs\n",
    "\n",
    "if external_revs_list != []:\n",
    "    cleaned_external_review_list = []\n",
    "    for external_revs_csv in external_revs_list:  \n",
    "        external_revs_csv['review_rating']=pd.to_numeric(external_revs_csv['review_rating'], downcast='float')\n",
    "        external_revs_csv['source_name'] = 'DTC'\n",
    "        # Checking for static columns, to add blanksto data frame\n",
    "        # Then checking for incrementing columns, which we'll set as the index, assuming they are unique reviewers and reviews\n",
    "        static_columns = ['product_name', 'product_source_id']\n",
    "        incrementing_columns = ['review_source_id','reviewer_source_id']\n",
    "\n",
    "        for column_name in static_columns:\n",
    "            if column_name not in external_revs_csv:\n",
    "                external_revs_csv[column_name] = ''\n",
    "            else:\n",
    "                pass\n",
    "        for column_name in incrementing_columns:\n",
    "            if column_name not in external_revs_csv:\n",
    "                external_revs_csv[column_name]=external_revs_csv.index\n",
    "            else:\n",
    "                pass\n",
    "\n",
    "        # selecting the same columns as internal reviews CSV\n",
    "        external_revs_csv = external_revs_csv[brand_revs.columns]\n",
    "        cleaned_external_review_list.append(external_revs_csv)\n",
    "\n",
    "    external_revs_csv = pd.concat(cleaned_external_review_list)"
   ]
  },
  {
   "cell_type": "code",
   "execution_count": 390,
   "id": "cbbdbf29-8515-4a18-a87c-88f1f0e0307d",
   "metadata": {
    "tags": []
   },
   "outputs": [],
   "source": [
    "# Join external CSVs and clean reviews\n",
    "\n",
    "if external_revs_list != []:\n",
    "    reviews = reviews.union(external_revs_sdf)\n",
    "\n",
    "reviews['review_content'] = reviews['review_content'].str.replace('/[^a-zA-Z0-9]/g', '', regex=True);\n",
    "\n",
    "# removing hypertext from reviews\n",
    "reviews['review_content'] = reviews['review_content'].apply(lambda x: re.split('https:\\/\\/.*', str(x))[0])\n",
    "\n",
    "# removing contractions from reviews\n",
    "reviews['review_content'] = reviews['review_content'].apply(lambda x: [contractions.fix(word) for word in x.split()])"
   ]
  },
  {
   "cell_type": "code",
   "execution_count": 391,
   "id": "07556303-4013-486b-ae1a-256b7bc7a649",
   "metadata": {
    "tags": []
   },
   "outputs": [],
   "source": [
    "# Get most recent n reviews\n",
    "\n",
    "reviews = (reviews\n",
    "           .sort_values('review_date',ascending = False)\n",
    "           .groupby('normalized_url')\n",
    "           .head(REVIEWS_PER_BRAND_TO_ANALYZE)\n",
    "          )\n",
    "\n",
    "reviews_count = reviews.groupby('normalized_url').agg({'review_source_id':'count'}).reset_index().rename(columns={\"review_source_id\": \"rev_count\"})\n",
    "\n",
    "reviews = pd.merge(reviews_count, reviews, on=['normalized_url'])\n",
    "\n",
    "#reviews = reviews[reviews['primary_category'].str.contains('|'.join(PRIMARY_CATEGORIES), na=False)]"
   ]
  },
  {
   "cell_type": "code",
   "execution_count": 392,
   "id": "c85b3684-02a9-4294-8601-1f6ae1b04f74",
   "metadata": {
    "tags": []
   },
   "outputs": [
    {
     "data": {
      "text/html": [
       "<div>\n",
       "<style scoped>\n",
       "    .dataframe tbody tr th:only-of-type {\n",
       "        vertical-align: middle;\n",
       "    }\n",
       "\n",
       "    .dataframe tbody tr th {\n",
       "        vertical-align: top;\n",
       "    }\n",
       "\n",
       "    .dataframe thead th {\n",
       "        text-align: right;\n",
       "    }\n",
       "</style>\n",
       "<table border=\"1\" class=\"dataframe\">\n",
       "  <thead>\n",
       "    <tr style=\"text-align: right;\">\n",
       "      <th></th>\n",
       "      <th>normalized_url</th>\n",
       "      <th>rev_count</th>\n",
       "    </tr>\n",
       "  </thead>\n",
       "  <tbody>\n",
       "    <tr>\n",
       "      <th>0</th>\n",
       "      <td>cometeer.com</td>\n",
       "      <td>2100</td>\n",
       "    </tr>\n",
       "    <tr>\n",
       "      <th>1</th>\n",
       "      <td>javycoffee.com</td>\n",
       "      <td>3337</td>\n",
       "    </tr>\n",
       "    <tr>\n",
       "      <th>2</th>\n",
       "      <td>jot.co</td>\n",
       "      <td>10000</td>\n",
       "    </tr>\n",
       "  </tbody>\n",
       "</table>\n",
       "</div>"
      ],
      "text/plain": [
       "   normalized_url  rev_count\n",
       "0    cometeer.com       2100\n",
       "1  javycoffee.com       3337\n",
       "2          jot.co      10000"
      ]
     },
     "execution_count": 392,
     "metadata": {},
     "output_type": "execute_result"
    }
   ],
   "source": [
    "reviews_count"
   ]
  },
  {
   "cell_type": "code",
   "execution_count": 393,
   "id": "5b4aee6d-f8ee-4b6e-8403-a8faaac40cf2",
   "metadata": {},
   "outputs": [
    {
     "data": {
      "text/html": [
       "<div>\n",
       "<style scoped>\n",
       "    .dataframe tbody tr th:only-of-type {\n",
       "        vertical-align: middle;\n",
       "    }\n",
       "\n",
       "    .dataframe tbody tr th {\n",
       "        vertical-align: top;\n",
       "    }\n",
       "\n",
       "    .dataframe thead th {\n",
       "        text-align: right;\n",
       "    }\n",
       "</style>\n",
       "<table border=\"1\" class=\"dataframe\">\n",
       "  <thead>\n",
       "    <tr style=\"text-align: right;\">\n",
       "      <th></th>\n",
       "      <th>normalized_url</th>\n",
       "      <th>rev_count</th>\n",
       "      <th>Unnamed: 0</th>\n",
       "      <th>brand_name</th>\n",
       "      <th>product</th>\n",
       "      <th>created_at</th>\n",
       "      <th>rev_content</th>\n",
       "      <th>review_rating</th>\n",
       "      <th>review_content</th>\n",
       "      <th>review_date</th>\n",
       "      <th>product_name</th>\n",
       "      <th>source_name</th>\n",
       "      <th>review_source_id</th>\n",
       "      <th>reviewer_source_id</th>\n",
       "      <th>product_source_id</th>\n",
       "    </tr>\n",
       "  </thead>\n",
       "  <tbody>\n",
       "    <tr>\n",
       "      <th>0</th>\n",
       "      <td>cometeer.com</td>\n",
       "      <td>2100</td>\n",
       "      <td>175</td>\n",
       "      <td>Cometeer</td>\n",
       "      <td>8 Pack: Red Bay - East Fourteenth</td>\n",
       "      <td>12/30/2021</td>\n",
       "      <td>The coffee is great, I love the variety and ea...</td>\n",
       "      <td>5.0</td>\n",
       "      <td>[The, coffee, is, great,, I, love, the, variet...</td>\n",
       "      <td>12/30/2021</td>\n",
       "      <td>8 Pack: Red Bay - East Fourteenth</td>\n",
       "      <td>DTC</td>\n",
       "      <td>175</td>\n",
       "      <td>175</td>\n",
       "      <td>175</td>\n",
       "    </tr>\n",
       "    <tr>\n",
       "      <th>1</th>\n",
       "      <td>cometeer.com</td>\n",
       "      <td>2100</td>\n",
       "      <td>177</td>\n",
       "      <td>Cometeer</td>\n",
       "      <td>Pilot Program - Medium/Dark Box</td>\n",
       "      <td>12/24/2021</td>\n",
       "      <td>It took a few try’s to figure out the right am...</td>\n",
       "      <td>5.0</td>\n",
       "      <td>[It, took, a, few, try’s, to, figure, out, the...</td>\n",
       "      <td>12/24/2021</td>\n",
       "      <td>Pilot Program - Medium/Dark Box</td>\n",
       "      <td>DTC</td>\n",
       "      <td>177</td>\n",
       "      <td>177</td>\n",
       "      <td>177</td>\n",
       "    </tr>\n",
       "    <tr>\n",
       "      <th>2</th>\n",
       "      <td>cometeer.com</td>\n",
       "      <td>2100</td>\n",
       "      <td>176</td>\n",
       "      <td>Cometeer</td>\n",
       "      <td>Pilot Program - Dark Box</td>\n",
       "      <td>12/24/2021</td>\n",
       "      <td>This is a great concept and I love all of the ...</td>\n",
       "      <td>5.0</td>\n",
       "      <td>[This, is, a, great, concept, and, I, love, al...</td>\n",
       "      <td>12/24/2021</td>\n",
       "      <td>Pilot Program - Dark Box</td>\n",
       "      <td>DTC</td>\n",
       "      <td>176</td>\n",
       "      <td>176</td>\n",
       "      <td>176</td>\n",
       "    </tr>\n",
       "    <tr>\n",
       "      <th>3</th>\n",
       "      <td>cometeer.com</td>\n",
       "      <td>2100</td>\n",
       "      <td>178</td>\n",
       "      <td>Cometeer</td>\n",
       "      <td>Pilot Program - Mixed Box</td>\n",
       "      <td>12/22/2021</td>\n",
       "      <td>I’m not a coffee snob but I often find coffee ...</td>\n",
       "      <td>5.0</td>\n",
       "      <td>[I am, not, a, coffee, snob, but, I, often, fi...</td>\n",
       "      <td>12/22/2021</td>\n",
       "      <td>Pilot Program - Mixed Box</td>\n",
       "      <td>DTC</td>\n",
       "      <td>178</td>\n",
       "      <td>178</td>\n",
       "      <td>178</td>\n",
       "    </tr>\n",
       "    <tr>\n",
       "      <th>4</th>\n",
       "      <td>cometeer.com</td>\n",
       "      <td>2100</td>\n",
       "      <td>179</td>\n",
       "      <td>Cometeer</td>\n",
       "      <td>Pilot Program - Mixed Box</td>\n",
       "      <td>12/21/2021</td>\n",
       "      <td>Love the variety and convenient way to have a ...</td>\n",
       "      <td>5.0</td>\n",
       "      <td>[Love, the, variety, and, convenient, way, to,...</td>\n",
       "      <td>12/21/2021</td>\n",
       "      <td>Pilot Program - Mixed Box</td>\n",
       "      <td>DTC</td>\n",
       "      <td>179</td>\n",
       "      <td>179</td>\n",
       "      <td>179</td>\n",
       "    </tr>\n",
       "    <tr>\n",
       "      <th>...</th>\n",
       "      <td>...</td>\n",
       "      <td>...</td>\n",
       "      <td>...</td>\n",
       "      <td>...</td>\n",
       "      <td>...</td>\n",
       "      <td>...</td>\n",
       "      <td>...</td>\n",
       "      <td>...</td>\n",
       "      <td>...</td>\n",
       "      <td>...</td>\n",
       "      <td>...</td>\n",
       "      <td>...</td>\n",
       "      <td>...</td>\n",
       "      <td>...</td>\n",
       "      <td>...</td>\n",
       "    </tr>\n",
       "    <tr>\n",
       "      <th>15432</th>\n",
       "      <td>jot.co</td>\n",
       "      <td>10000</td>\n",
       "      <td>5798</td>\n",
       "      <td>Jot</td>\n",
       "      <td>Wavelength Ultra Coffee (Limited Edition)</td>\n",
       "      <td>03/06/2021</td>\n",
       "      <td>I love how simple it is to make a cup of amazi...</td>\n",
       "      <td>5.0</td>\n",
       "      <td>[I, love, how, simple, it, is, to, make, a, cu...</td>\n",
       "      <td>03/06/2021</td>\n",
       "      <td>Wavelength Ultra Coffee (Limited Edition)</td>\n",
       "      <td>DTC</td>\n",
       "      <td>5798</td>\n",
       "      <td>5798</td>\n",
       "      <td>5798</td>\n",
       "    </tr>\n",
       "    <tr>\n",
       "      <th>15433</th>\n",
       "      <td>jot.co</td>\n",
       "      <td>10000</td>\n",
       "      <td>5799</td>\n",
       "      <td>Jot</td>\n",
       "      <td>Ultra Coffee – Original</td>\n",
       "      <td>03/06/2021</td>\n",
       "      <td>As a former barista, I have a high standard fo...</td>\n",
       "      <td>5.0</td>\n",
       "      <td>[As, a, former, barista,, I, have, a, high, st...</td>\n",
       "      <td>03/06/2021</td>\n",
       "      <td>Ultra Coffee – Original</td>\n",
       "      <td>DTC</td>\n",
       "      <td>5799</td>\n",
       "      <td>5799</td>\n",
       "      <td>5799</td>\n",
       "    </tr>\n",
       "    <tr>\n",
       "      <th>15434</th>\n",
       "      <td>jot.co</td>\n",
       "      <td>10000</td>\n",
       "      <td>5792</td>\n",
       "      <td>Jot</td>\n",
       "      <td>Ultra Coffee – Original</td>\n",
       "      <td>03/06/2021</td>\n",
       "      <td>Wow to be a small jar is very very good</td>\n",
       "      <td>5.0</td>\n",
       "      <td>[Wow, to, be, a, small, jar, is, very, very, g...</td>\n",
       "      <td>03/06/2021</td>\n",
       "      <td>Ultra Coffee – Original</td>\n",
       "      <td>DTC</td>\n",
       "      <td>5792</td>\n",
       "      <td>5792</td>\n",
       "      <td>5792</td>\n",
       "    </tr>\n",
       "    <tr>\n",
       "      <th>15435</th>\n",
       "      <td>jot.co</td>\n",
       "      <td>10000</td>\n",
       "      <td>5796</td>\n",
       "      <td>Jot</td>\n",
       "      <td>Ultra Coffee – Original</td>\n",
       "      <td>03/06/2021</td>\n",
       "      <td>My husband only likes Starbucks cold brew and ...</td>\n",
       "      <td>5.0</td>\n",
       "      <td>[My, husband, only, likes, Starbucks, cold, br...</td>\n",
       "      <td>03/06/2021</td>\n",
       "      <td>Ultra Coffee – Original</td>\n",
       "      <td>DTC</td>\n",
       "      <td>5796</td>\n",
       "      <td>5796</td>\n",
       "      <td>5796</td>\n",
       "    </tr>\n",
       "    <tr>\n",
       "      <th>15436</th>\n",
       "      <td>jot.co</td>\n",
       "      <td>10000</td>\n",
       "      <td>5790</td>\n",
       "      <td>Jot</td>\n",
       "      <td>Ultra Coffee – Original</td>\n",
       "      <td>03/06/2021</td>\n",
       "      <td>The coffee great was. I really enjoyed it both...</td>\n",
       "      <td>5.0</td>\n",
       "      <td>[The, coffee, great, was., I, really, enjoyed,...</td>\n",
       "      <td>03/06/2021</td>\n",
       "      <td>Ultra Coffee – Original</td>\n",
       "      <td>DTC</td>\n",
       "      <td>5790</td>\n",
       "      <td>5790</td>\n",
       "      <td>5790</td>\n",
       "    </tr>\n",
       "  </tbody>\n",
       "</table>\n",
       "<p>15437 rows × 15 columns</p>\n",
       "</div>"
      ],
      "text/plain": [
       "      normalized_url  rev_count  Unnamed: 0 brand_name  \\\n",
       "0       cometeer.com       2100         175   Cometeer   \n",
       "1       cometeer.com       2100         177   Cometeer   \n",
       "2       cometeer.com       2100         176   Cometeer   \n",
       "3       cometeer.com       2100         178   Cometeer   \n",
       "4       cometeer.com       2100         179   Cometeer   \n",
       "...              ...        ...         ...        ...   \n",
       "15432         jot.co      10000        5798        Jot   \n",
       "15433         jot.co      10000        5799        Jot   \n",
       "15434         jot.co      10000        5792        Jot   \n",
       "15435         jot.co      10000        5796        Jot   \n",
       "15436         jot.co      10000        5790        Jot   \n",
       "\n",
       "                                         product  created_at  \\\n",
       "0              8 Pack: Red Bay - East Fourteenth  12/30/2021   \n",
       "1                Pilot Program - Medium/Dark Box  12/24/2021   \n",
       "2                       Pilot Program - Dark Box  12/24/2021   \n",
       "3                      Pilot Program - Mixed Box  12/22/2021   \n",
       "4                      Pilot Program - Mixed Box  12/21/2021   \n",
       "...                                          ...         ...   \n",
       "15432  Wavelength Ultra Coffee (Limited Edition)  03/06/2021   \n",
       "15433                    Ultra Coffee – Original  03/06/2021   \n",
       "15434                    Ultra Coffee – Original  03/06/2021   \n",
       "15435                    Ultra Coffee – Original  03/06/2021   \n",
       "15436                    Ultra Coffee – Original  03/06/2021   \n",
       "\n",
       "                                             rev_content  review_rating  \\\n",
       "0      The coffee is great, I love the variety and ea...            5.0   \n",
       "1      It took a few try’s to figure out the right am...            5.0   \n",
       "2      This is a great concept and I love all of the ...            5.0   \n",
       "3      I’m not a coffee snob but I often find coffee ...            5.0   \n",
       "4      Love the variety and convenient way to have a ...            5.0   \n",
       "...                                                  ...            ...   \n",
       "15432  I love how simple it is to make a cup of amazi...            5.0   \n",
       "15433  As a former barista, I have a high standard fo...            5.0   \n",
       "15434            Wow to be a small jar is very very good            5.0   \n",
       "15435  My husband only likes Starbucks cold brew and ...            5.0   \n",
       "15436  The coffee great was. I really enjoyed it both...            5.0   \n",
       "\n",
       "                                          review_content review_date  \\\n",
       "0      [The, coffee, is, great,, I, love, the, variet...  12/30/2021   \n",
       "1      [It, took, a, few, try’s, to, figure, out, the...  12/24/2021   \n",
       "2      [This, is, a, great, concept, and, I, love, al...  12/24/2021   \n",
       "3      [I am, not, a, coffee, snob, but, I, often, fi...  12/22/2021   \n",
       "4      [Love, the, variety, and, convenient, way, to,...  12/21/2021   \n",
       "...                                                  ...         ...   \n",
       "15432  [I, love, how, simple, it, is, to, make, a, cu...  03/06/2021   \n",
       "15433  [As, a, former, barista,, I, have, a, high, st...  03/06/2021   \n",
       "15434  [Wow, to, be, a, small, jar, is, very, very, g...  03/06/2021   \n",
       "15435  [My, husband, only, likes, Starbucks, cold, br...  03/06/2021   \n",
       "15436  [The, coffee, great, was., I, really, enjoyed,...  03/06/2021   \n",
       "\n",
       "                                    product_name source_name review_source_id  \\\n",
       "0              8 Pack: Red Bay - East Fourteenth         DTC              175   \n",
       "1                Pilot Program - Medium/Dark Box         DTC              177   \n",
       "2                       Pilot Program - Dark Box         DTC              176   \n",
       "3                      Pilot Program - Mixed Box         DTC              178   \n",
       "4                      Pilot Program - Mixed Box         DTC              179   \n",
       "...                                          ...         ...              ...   \n",
       "15432  Wavelength Ultra Coffee (Limited Edition)         DTC             5798   \n",
       "15433                    Ultra Coffee – Original         DTC             5799   \n",
       "15434                    Ultra Coffee – Original         DTC             5792   \n",
       "15435                    Ultra Coffee – Original         DTC             5796   \n",
       "15436                    Ultra Coffee – Original         DTC             5790   \n",
       "\n",
       "      reviewer_source_id product_source_id  \n",
       "0                    175               175  \n",
       "1                    177               177  \n",
       "2                    176               176  \n",
       "3                    178               178  \n",
       "4                    179               179  \n",
       "...                  ...               ...  \n",
       "15432               5798              5798  \n",
       "15433               5799              5799  \n",
       "15434               5792              5792  \n",
       "15435               5796              5796  \n",
       "15436               5790              5790  \n",
       "\n",
       "[15437 rows x 15 columns]"
      ]
     },
     "execution_count": 393,
     "metadata": {},
     "output_type": "execute_result"
    }
   ],
   "source": [
    "#reviews[reviews[\"normalized_url\"]==\"jot.co\"]\n",
    "reviews"
   ]
  },
  {
   "cell_type": "code",
   "execution_count": 394,
   "id": "f648a208-3b3c-44de-8e69-581962020d38",
   "metadata": {
    "tags": []
   },
   "outputs": [],
   "source": [
    "tokenized_reviews = reviews.copy()\n",
    "tokenized_reviews['tokenized_review'] = tokenized_reviews['review_content'].apply(lambda x: lemmatize(tokenize(x)))\n",
    "tokenized_reviews = tokenized_reviews.dropna(subset=['tokenized_review'])"
   ]
  },
  {
   "cell_type": "code",
   "execution_count": 395,
   "id": "e0f57cd5-03a2-4323-a7c5-2c71cd5ee017",
   "metadata": {
    "tags": []
   },
   "outputs": [],
   "source": [
    "unibi_reviews = tokenized_reviews.copy()\n",
    "\n",
    "unibi_reviews['unibi'] = unibi_reviews['tokenized_review'].apply(lambda x: unique_list(bigram(x)+x))\n",
    "unibi_reviews = unibi_reviews.loc[unibi_reviews.astype(str).drop_duplicates().index]\n",
    "\n",
    "unibi_words = unibi_reviews.copy()\n",
    "unibi_words['unibi_word'] = unibi_words['unibi']\n",
    "unibi_words = unibi_words.explode('unibi_word')\n",
    "unibi_words= unibi_words[~unibi_words[\"unibi_word\"].isin(drop_words)]\n",
    "#unibi_words=unibi_words[unibi_words[\"parent_category\"]==\"Food\"]"
   ]
  },
  {
   "cell_type": "code",
   "execution_count": null,
   "id": "0b65e537-2804-42ad-a31e-bdc7f8bb4190",
   "metadata": {},
   "outputs": [],
   "source": []
  },
  {
   "cell_type": "code",
   "execution_count": 396,
   "id": "d709c3b3-78f2-4675-a6bd-083082fac885",
   "metadata": {},
   "outputs": [],
   "source": [
    "grouped_sdf = pd.DataFrame(unibi_reviews.groupby('normalized_url').unibi.apply(sum)).reset_index()"
   ]
  },
  {
   "cell_type": "code",
   "execution_count": 397,
   "id": "04750519-ac57-40bd-9bd8-100543d5b55c",
   "metadata": {},
   "outputs": [],
   "source": [
    "pd.set_option('max_colwidth', 50)\n",
    "\n",
    "#tokenized_reviews[(tokenized_reviews['review_source_id']=='232203656')]\n",
    "\n",
    "grouped_sdf['unibi_str'] = [','.join(map(str, l)) for l in grouped_sdf['unibi']]"
   ]
  },
  {
   "cell_type": "code",
   "execution_count": null,
   "id": "4ffa0762-989a-4f78-b4ac-0ebd7e92053d",
   "metadata": {},
   "outputs": [],
   "source": []
  },
  {
   "cell_type": "code",
   "execution_count": 399,
   "id": "47974363-123e-477f-a459-ae2c4e0eb582",
   "metadata": {},
   "outputs": [],
   "source": [
    "frames = []\n",
    "\n",
    "for i in range(len(grouped_sdf)):    \n",
    "# settings that you use for count vectorizer will go here \n",
    "    tfidf_vectorizer=TfidfVectorizer(\n",
    "        norm=None,\n",
    "        sublinear_tf=False,\n",
    "        use_idf=True,\n",
    "        lowercase=False,\n",
    "        stop_words='english',\n",
    "        smooth_idf=True,\n",
    "        max_df = len(grouped_sdf['normalized_url'])-1\n",
    "    ) \n",
    "\n",
    "    # just send in all your docs here \n",
    "    tfidf_vectorizer_vectors=tfidf_vectorizer.fit_transform(grouped_sdf['unibi_str'])\n",
    "\n",
    "    # get the first vector out (for the first document) \n",
    "    first_vector_tfidfvectorizer=tfidf_vectorizer_vectors[i]\n",
    "\n",
    "    # place tf-idf values in a pandas data frame \n",
    "    df = pd.DataFrame(first_vector_tfidfvectorizer.T.todense(), index=tfidf_vectorizer.get_feature_names(), columns=[\"tfidf\"])\n",
    "    joined_df = unibi_words[(unibi_words['normalized_url']==grouped_sdf.reset_index()['normalized_url'][i])].join(df, on='unibi_word', how='inner', lsuffix='_left', rsuffix='_right')\n",
    "    frames.append(joined_df)\n",
    "\n",
    "df = pd.concat(frames)\n",
    "#reviews = unibi_reviews[(unibi_reviews['normalized_url'] == url)]\n",
    "#joined_df = unibi_reviews.join(df, on='unibi_word', how='inner', lsuffix='_left', rsuffix='_right')\n",
    "sorted_df = df[['normalized_url', 'unibi_word', 'tfidf']].sort_values(by=['normalized_url', \"tfidf\"],ascending=False).drop_duplicates()\n"
   ]
  },
  {
   "cell_type": "code",
   "execution_count": 400,
   "id": "bb04098e-fceb-4ee9-8e28-7119e03d8721",
   "metadata": {},
   "outputs": [],
   "source": [
    "tf_idf_words = sorted_df.groupby('normalized_url')\n",
    "tf_idf_output = sorted_df.groupby('normalized_url').head(TOP_N_WORDS)"
   ]
  },
  {
   "cell_type": "code",
   "execution_count": 401,
   "id": "d938625e-c81c-445d-a67a-4465df37d2ec",
   "metadata": {},
   "outputs": [],
   "source": [
    "tf_idf_words = sorted_df.groupby('normalized_url').head(1000000)"
   ]
  },
  {
   "cell_type": "code",
   "execution_count": 402,
   "id": "de16d647-d2cf-4e84-8bf4-eaaf46b09855",
   "metadata": {},
   "outputs": [],
   "source": [
    "unibi_reviews_grouped = unibi_words.groupby(['normalized_url', 'unibi_word']).agg({'review_rating':'mean', 'review_source_id':'count'})\n",
    "\n",
    "unibi_reviews_grouped = unibi_reviews_grouped.rename(columns={\"review_rating\": \"avg_rating\", \"review_source_id\": \"review_count\"})"
   ]
  },
  {
   "cell_type": "code",
   "execution_count": 403,
   "id": "fc4a8fa7-9f54-494e-8e3d-941d0c9297b7",
   "metadata": {},
   "outputs": [],
   "source": [
    "avg_rating_tfidf = pd.merge(unibi_reviews_grouped, tf_idf_output, on=['normalized_url', 'unibi_word'], how='inner').sort_values(by=['normalized_url', \"tfidf\"],ascending=False)[['normalized_url','unibi_word', 'tfidf', 'avg_rating']]"
   ]
  },
  {
   "cell_type": "code",
   "execution_count": 404,
   "id": "1f917cfa-8cc5-4a01-b1a4-d08f1b25bcad",
   "metadata": {},
   "outputs": [],
   "source": [
    "avg_rating_tfidf = pd.merge(unibi_reviews_grouped, tf_idf_words, on=['normalized_url', 'unibi_word'], how='inner').sort_values(by=['normalized_url', \"tfidf\"],ascending=False)[['normalized_url','unibi_word', 'tfidf', 'avg_rating']]"
   ]
  },
  {
   "cell_type": "code",
   "execution_count": 405,
   "id": "b577894c-aea4-4bb2-a1fb-fd5b62eccdb8",
   "metadata": {},
   "outputs": [],
   "source": [
    "avg_rating_tfidf.to_csv('dtc amzn tfidf.csv')"
   ]
  },
  {
   "cell_type": "code",
   "execution_count": 249,
   "id": "a2d7be2e-a0fb-4b20-a97f-0273f82e5c52",
   "metadata": {},
   "outputs": [
    {
     "data": {
      "application/vnd.plotly.v1+json": {
       "config": {
        "plotlyServerURL": "https://plot.ly"
       },
       "data": [
        {
         "marker": {
          "color": [
           4.944444444444445,
           4.975609756097561,
           4.921348314606742,
           4.892156862745098,
           4.828571428571428,
           4.751908396946565,
           4.8469945355191255,
           4.826164874551972
          ],
          "coloraxis": "coloraxis"
         },
         "orientation": "h",
         "type": "bar",
         "x": [
          121.90659700031607,
          138.83806880591553,
          150.69009906983513,
          172.70101241711444,
          177.78045395879425,
          345.09879541707727,
          484.1684592418696,
          731.4034171526115
         ],
         "xaxis": "x",
         "y": [
          "jot_easy",
          "jot_perfect",
          "first_jot",
          "ultra_coffee",
          "jot_taste",
          "spoon",
          "bottle",
          "tablespoon"
         ],
         "yaxis": "y"
        },
        {
         "marker": {
          "color": [
           4.695652173913044,
           4.96,
           4.8,
           4.896551724137931,
           4.666666666666667,
           4.9411764705882355,
           4.733333333333333,
           4.8861788617886175
          ],
          "coloraxis": "coloraxis"
         },
         "orientation": "h",
         "type": "bar",
         "x": [
          29.61668766639096,
          32.19205181129452,
          34.76741595619808,
          37.342780101101646,
          38.630462173553425,
          57.56700413903815,
          115.89138652066028,
          166.11098734627973
         ],
         "xaxis": "x3",
         "y": [
          "cap",
          "peppermint",
          "spoon",
          "make_strong",
          "tablespoon",
          "straw",
          "teaspoon",
          "bottle"
         ],
         "yaxis": "y3"
        },
        {
         "marker": {
          "color": [
           4.5,
           4.75,
           4.85,
           4.470588235294118,
           4.684210526315789,
           4.631578947368421,
           4.849056603773585,
           4.784810126582278
          ],
          "coloraxis": "coloraxis"
         },
         "orientation": "h",
         "type": "bar",
         "x": [
          20.317766166719345,
          20.317766166719345,
          25.753641449035616,
          28.783502069519074,
          32.16979643063896,
          32.16979643063896,
          68.24714983994438,
          104.30224786859425
         ],
         "xaxis": "x2",
         "y": [
          "dark_box",
          "overall_experience",
          "fantastic_coffee",
          "dry_ice",
          "mixed_box",
          "puck",
          "recyclable",
          "capsule"
         ],
         "yaxis": "y2"
        }
       ],
       "layout": {
        "autosize": true,
        "coloraxis": {
         "cmax": 5,
         "cmin": 1,
         "colorbar": {
          "title": {
           "text": "<b>average rating</b>"
          }
         },
         "colorscale": [
          [
           0,
           "rgb(165,0,38)"
          ],
          [
           0.1,
           "rgb(215,48,39)"
          ],
          [
           0.2,
           "rgb(244,109,67)"
          ],
          [
           0.3,
           "rgb(253,174,97)"
          ],
          [
           0.4,
           "rgb(254,224,139)"
          ],
          [
           0.5,
           "rgb(255,255,191)"
          ],
          [
           0.6,
           "rgb(217,239,139)"
          ],
          [
           0.7,
           "rgb(166,217,106)"
          ],
          [
           0.8,
           "rgb(102,189,99)"
          ],
          [
           0.9,
           "rgb(26,152,80)"
          ],
          [
           1,
           "rgb(0,104,55)"
          ]
         ]
        },
        "font": {
         "size": 12
        },
        "height": 1000,
        "margin": {
         "t": 50
        },
        "plot_bgcolor": "white",
        "showlegend": false,
        "template": {
         "data": {
          "bar": [
           {
            "error_x": {
             "color": "#2a3f5f"
            },
            "error_y": {
             "color": "#2a3f5f"
            },
            "marker": {
             "line": {
              "color": "#E5ECF6",
              "width": 0.5
             },
             "pattern": {
              "fillmode": "overlay",
              "size": 10,
              "solidity": 0.2
             }
            },
            "type": "bar"
           }
          ],
          "barpolar": [
           {
            "marker": {
             "line": {
              "color": "#E5ECF6",
              "width": 0.5
             },
             "pattern": {
              "fillmode": "overlay",
              "size": 10,
              "solidity": 0.2
             }
            },
            "type": "barpolar"
           }
          ],
          "carpet": [
           {
            "aaxis": {
             "endlinecolor": "#2a3f5f",
             "gridcolor": "white",
             "linecolor": "white",
             "minorgridcolor": "white",
             "startlinecolor": "#2a3f5f"
            },
            "baxis": {
             "endlinecolor": "#2a3f5f",
             "gridcolor": "white",
             "linecolor": "white",
             "minorgridcolor": "white",
             "startlinecolor": "#2a3f5f"
            },
            "type": "carpet"
           }
          ],
          "choropleth": [
           {
            "colorbar": {
             "outlinewidth": 0,
             "ticks": ""
            },
            "type": "choropleth"
           }
          ],
          "contour": [
           {
            "colorbar": {
             "outlinewidth": 0,
             "ticks": ""
            },
            "colorscale": [
             [
              0,
              "#0d0887"
             ],
             [
              0.1111111111111111,
              "#46039f"
             ],
             [
              0.2222222222222222,
              "#7201a8"
             ],
             [
              0.3333333333333333,
              "#9c179e"
             ],
             [
              0.4444444444444444,
              "#bd3786"
             ],
             [
              0.5555555555555556,
              "#d8576b"
             ],
             [
              0.6666666666666666,
              "#ed7953"
             ],
             [
              0.7777777777777778,
              "#fb9f3a"
             ],
             [
              0.8888888888888888,
              "#fdca26"
             ],
             [
              1,
              "#f0f921"
             ]
            ],
            "type": "contour"
           }
          ],
          "contourcarpet": [
           {
            "colorbar": {
             "outlinewidth": 0,
             "ticks": ""
            },
            "type": "contourcarpet"
           }
          ],
          "heatmap": [
           {
            "colorbar": {
             "outlinewidth": 0,
             "ticks": ""
            },
            "colorscale": [
             [
              0,
              "#0d0887"
             ],
             [
              0.1111111111111111,
              "#46039f"
             ],
             [
              0.2222222222222222,
              "#7201a8"
             ],
             [
              0.3333333333333333,
              "#9c179e"
             ],
             [
              0.4444444444444444,
              "#bd3786"
             ],
             [
              0.5555555555555556,
              "#d8576b"
             ],
             [
              0.6666666666666666,
              "#ed7953"
             ],
             [
              0.7777777777777778,
              "#fb9f3a"
             ],
             [
              0.8888888888888888,
              "#fdca26"
             ],
             [
              1,
              "#f0f921"
             ]
            ],
            "type": "heatmap"
           }
          ],
          "heatmapgl": [
           {
            "colorbar": {
             "outlinewidth": 0,
             "ticks": ""
            },
            "colorscale": [
             [
              0,
              "#0d0887"
             ],
             [
              0.1111111111111111,
              "#46039f"
             ],
             [
              0.2222222222222222,
              "#7201a8"
             ],
             [
              0.3333333333333333,
              "#9c179e"
             ],
             [
              0.4444444444444444,
              "#bd3786"
             ],
             [
              0.5555555555555556,
              "#d8576b"
             ],
             [
              0.6666666666666666,
              "#ed7953"
             ],
             [
              0.7777777777777778,
              "#fb9f3a"
             ],
             [
              0.8888888888888888,
              "#fdca26"
             ],
             [
              1,
              "#f0f921"
             ]
            ],
            "type": "heatmapgl"
           }
          ],
          "histogram": [
           {
            "marker": {
             "pattern": {
              "fillmode": "overlay",
              "size": 10,
              "solidity": 0.2
             }
            },
            "type": "histogram"
           }
          ],
          "histogram2d": [
           {
            "colorbar": {
             "outlinewidth": 0,
             "ticks": ""
            },
            "colorscale": [
             [
              0,
              "#0d0887"
             ],
             [
              0.1111111111111111,
              "#46039f"
             ],
             [
              0.2222222222222222,
              "#7201a8"
             ],
             [
              0.3333333333333333,
              "#9c179e"
             ],
             [
              0.4444444444444444,
              "#bd3786"
             ],
             [
              0.5555555555555556,
              "#d8576b"
             ],
             [
              0.6666666666666666,
              "#ed7953"
             ],
             [
              0.7777777777777778,
              "#fb9f3a"
             ],
             [
              0.8888888888888888,
              "#fdca26"
             ],
             [
              1,
              "#f0f921"
             ]
            ],
            "type": "histogram2d"
           }
          ],
          "histogram2dcontour": [
           {
            "colorbar": {
             "outlinewidth": 0,
             "ticks": ""
            },
            "colorscale": [
             [
              0,
              "#0d0887"
             ],
             [
              0.1111111111111111,
              "#46039f"
             ],
             [
              0.2222222222222222,
              "#7201a8"
             ],
             [
              0.3333333333333333,
              "#9c179e"
             ],
             [
              0.4444444444444444,
              "#bd3786"
             ],
             [
              0.5555555555555556,
              "#d8576b"
             ],
             [
              0.6666666666666666,
              "#ed7953"
             ],
             [
              0.7777777777777778,
              "#fb9f3a"
             ],
             [
              0.8888888888888888,
              "#fdca26"
             ],
             [
              1,
              "#f0f921"
             ]
            ],
            "type": "histogram2dcontour"
           }
          ],
          "mesh3d": [
           {
            "colorbar": {
             "outlinewidth": 0,
             "ticks": ""
            },
            "type": "mesh3d"
           }
          ],
          "parcoords": [
           {
            "line": {
             "colorbar": {
              "outlinewidth": 0,
              "ticks": ""
             }
            },
            "type": "parcoords"
           }
          ],
          "pie": [
           {
            "automargin": true,
            "type": "pie"
           }
          ],
          "scatter": [
           {
            "marker": {
             "colorbar": {
              "outlinewidth": 0,
              "ticks": ""
             }
            },
            "type": "scatter"
           }
          ],
          "scatter3d": [
           {
            "line": {
             "colorbar": {
              "outlinewidth": 0,
              "ticks": ""
             }
            },
            "marker": {
             "colorbar": {
              "outlinewidth": 0,
              "ticks": ""
             }
            },
            "type": "scatter3d"
           }
          ],
          "scattercarpet": [
           {
            "marker": {
             "colorbar": {
              "outlinewidth": 0,
              "ticks": ""
             }
            },
            "type": "scattercarpet"
           }
          ],
          "scattergeo": [
           {
            "marker": {
             "colorbar": {
              "outlinewidth": 0,
              "ticks": ""
             }
            },
            "type": "scattergeo"
           }
          ],
          "scattergl": [
           {
            "marker": {
             "colorbar": {
              "outlinewidth": 0,
              "ticks": ""
             }
            },
            "type": "scattergl"
           }
          ],
          "scattermapbox": [
           {
            "marker": {
             "colorbar": {
              "outlinewidth": 0,
              "ticks": ""
             }
            },
            "type": "scattermapbox"
           }
          ],
          "scatterpolar": [
           {
            "marker": {
             "colorbar": {
              "outlinewidth": 0,
              "ticks": ""
             }
            },
            "type": "scatterpolar"
           }
          ],
          "scatterpolargl": [
           {
            "marker": {
             "colorbar": {
              "outlinewidth": 0,
              "ticks": ""
             }
            },
            "type": "scatterpolargl"
           }
          ],
          "scatterternary": [
           {
            "marker": {
             "colorbar": {
              "outlinewidth": 0,
              "ticks": ""
             }
            },
            "type": "scatterternary"
           }
          ],
          "surface": [
           {
            "colorbar": {
             "outlinewidth": 0,
             "ticks": ""
            },
            "colorscale": [
             [
              0,
              "#0d0887"
             ],
             [
              0.1111111111111111,
              "#46039f"
             ],
             [
              0.2222222222222222,
              "#7201a8"
             ],
             [
              0.3333333333333333,
              "#9c179e"
             ],
             [
              0.4444444444444444,
              "#bd3786"
             ],
             [
              0.5555555555555556,
              "#d8576b"
             ],
             [
              0.6666666666666666,
              "#ed7953"
             ],
             [
              0.7777777777777778,
              "#fb9f3a"
             ],
             [
              0.8888888888888888,
              "#fdca26"
             ],
             [
              1,
              "#f0f921"
             ]
            ],
            "type": "surface"
           }
          ],
          "table": [
           {
            "cells": {
             "fill": {
              "color": "#EBF0F8"
             },
             "line": {
              "color": "white"
             }
            },
            "header": {
             "fill": {
              "color": "#C8D4E3"
             },
             "line": {
              "color": "white"
             }
            },
            "type": "table"
           }
          ]
         },
         "layout": {
          "annotationdefaults": {
           "arrowcolor": "#2a3f5f",
           "arrowhead": 0,
           "arrowwidth": 1
          },
          "autotypenumbers": "strict",
          "coloraxis": {
           "colorbar": {
            "outlinewidth": 0,
            "ticks": ""
           }
          },
          "colorscale": {
           "diverging": [
            [
             0,
             "#8e0152"
            ],
            [
             0.1,
             "#c51b7d"
            ],
            [
             0.2,
             "#de77ae"
            ],
            [
             0.3,
             "#f1b6da"
            ],
            [
             0.4,
             "#fde0ef"
            ],
            [
             0.5,
             "#f7f7f7"
            ],
            [
             0.6,
             "#e6f5d0"
            ],
            [
             0.7,
             "#b8e186"
            ],
            [
             0.8,
             "#7fbc41"
            ],
            [
             0.9,
             "#4d9221"
            ],
            [
             1,
             "#276419"
            ]
           ],
           "sequential": [
            [
             0,
             "#0d0887"
            ],
            [
             0.1111111111111111,
             "#46039f"
            ],
            [
             0.2222222222222222,
             "#7201a8"
            ],
            [
             0.3333333333333333,
             "#9c179e"
            ],
            [
             0.4444444444444444,
             "#bd3786"
            ],
            [
             0.5555555555555556,
             "#d8576b"
            ],
            [
             0.6666666666666666,
             "#ed7953"
            ],
            [
             0.7777777777777778,
             "#fb9f3a"
            ],
            [
             0.8888888888888888,
             "#fdca26"
            ],
            [
             1,
             "#f0f921"
            ]
           ],
           "sequentialminus": [
            [
             0,
             "#0d0887"
            ],
            [
             0.1111111111111111,
             "#46039f"
            ],
            [
             0.2222222222222222,
             "#7201a8"
            ],
            [
             0.3333333333333333,
             "#9c179e"
            ],
            [
             0.4444444444444444,
             "#bd3786"
            ],
            [
             0.5555555555555556,
             "#d8576b"
            ],
            [
             0.6666666666666666,
             "#ed7953"
            ],
            [
             0.7777777777777778,
             "#fb9f3a"
            ],
            [
             0.8888888888888888,
             "#fdca26"
            ],
            [
             1,
             "#f0f921"
            ]
           ]
          },
          "colorway": [
           "#636efa",
           "#EF553B",
           "#00cc96",
           "#ab63fa",
           "#FFA15A",
           "#19d3f3",
           "#FF6692",
           "#B6E880",
           "#FF97FF",
           "#FECB52"
          ],
          "font": {
           "color": "#2a3f5f"
          },
          "geo": {
           "bgcolor": "white",
           "lakecolor": "white",
           "landcolor": "#E5ECF6",
           "showlakes": true,
           "showland": true,
           "subunitcolor": "white"
          },
          "hoverlabel": {
           "align": "left"
          },
          "hovermode": "closest",
          "mapbox": {
           "style": "light"
          },
          "paper_bgcolor": "white",
          "plot_bgcolor": "#E5ECF6",
          "polar": {
           "angularaxis": {
            "gridcolor": "white",
            "linecolor": "white",
            "ticks": ""
           },
           "bgcolor": "#E5ECF6",
           "radialaxis": {
            "gridcolor": "white",
            "linecolor": "white",
            "ticks": ""
           }
          },
          "scene": {
           "xaxis": {
            "backgroundcolor": "#E5ECF6",
            "gridcolor": "white",
            "gridwidth": 2,
            "linecolor": "white",
            "showbackground": true,
            "ticks": "",
            "zerolinecolor": "white"
           },
           "yaxis": {
            "backgroundcolor": "#E5ECF6",
            "gridcolor": "white",
            "gridwidth": 2,
            "linecolor": "white",
            "showbackground": true,
            "ticks": "",
            "zerolinecolor": "white"
           },
           "zaxis": {
            "backgroundcolor": "#E5ECF6",
            "gridcolor": "white",
            "gridwidth": 2,
            "linecolor": "white",
            "showbackground": true,
            "ticks": "",
            "zerolinecolor": "white"
           }
          },
          "shapedefaults": {
           "line": {
            "color": "#2a3f5f"
           }
          },
          "ternary": {
           "aaxis": {
            "gridcolor": "white",
            "linecolor": "white",
            "ticks": ""
           },
           "baxis": {
            "gridcolor": "white",
            "linecolor": "white",
            "ticks": ""
           },
           "bgcolor": "#E5ECF6",
           "caxis": {
            "gridcolor": "white",
            "linecolor": "white",
            "ticks": ""
           }
          },
          "title": {
           "x": 0.05
          },
          "xaxis": {
           "automargin": true,
           "gridcolor": "white",
           "linecolor": "white",
           "ticks": "",
           "title": {
            "standoff": 15
           },
           "zerolinecolor": "white",
           "zerolinewidth": 2
          },
          "yaxis": {
           "automargin": true,
           "gridcolor": "white",
           "linecolor": "white",
           "ticks": "",
           "title": {
            "standoff": 15
           },
           "zerolinecolor": "white",
           "zerolinewidth": 2
          }
         }
        },
        "title": {
         "text": "Top Unique Terms by Review Sentiment for Select Coffee Concentrates Brands",
         "x": 0.5,
         "xanchor": "center",
         "y": 0.99,
         "yanchor": "top"
        },
        "width": 1000,
        "xaxis": {
         "anchor": "y",
         "automargin": true,
         "autorange": true,
         "domain": [
          0,
          0.35
         ],
         "range": [
          0,
          769.8983338448542
         ],
         "showticklabels": false,
         "type": "linear"
        },
        "xaxis2": {
         "anchor": "y2",
         "automargin": true,
         "autorange": true,
         "domain": [
          0.6499999999999999,
          0.9999999999999999
         ],
         "range": [
          0,
          109.79183986167816
         ],
         "showticklabels": false,
         "type": "linear"
        },
        "xaxis3": {
         "anchor": "y3",
         "automargin": true,
         "autorange": true,
         "domain": [
          0,
          0.35
         ],
         "range": [
          0,
          174.85367089082078
         ],
         "showticklabels": false,
         "type": "linear"
        },
        "xaxis4": {
         "anchor": "y4",
         "automargin": true,
         "domain": [
          0.6499999999999999,
          0.9999999999999999
         ],
         "showticklabels": false
        },
        "yaxis": {
         "anchor": "x",
         "automargin": true,
         "autorange": true,
         "domain": [
          0.575,
          1
         ],
         "dtick": 0.3,
         "range": [
          -0.5,
          7.5
         ],
         "title": {
          "text": "Jot"
         },
         "type": "category"
        },
        "yaxis2": {
         "anchor": "x2",
         "automargin": true,
         "autorange": true,
         "domain": [
          0.575,
          1
         ],
         "dtick": 0.3,
         "range": [
          -0.5,
          7.5
         ],
         "title": {
          "text": "Cometeer"
         },
         "type": "category"
        },
        "yaxis3": {
         "anchor": "x3",
         "automargin": true,
         "autorange": true,
         "domain": [
          0,
          0.425
         ],
         "dtick": 0.3,
         "range": [
          -0.5,
          7.5
         ],
         "title": {
          "text": "Javy"
         },
         "type": "category"
        },
        "yaxis4": {
         "anchor": "x4",
         "domain": [
          0,
          0.425
         ]
        }
       }
      },
      "image/png": "[encoded data removed]",
      "text/html": [
       "<div>                            <div id=\"c24c26a8-d1e3-4f35-8f8e-3f4d3944de78\" class=\"plotly-graph-div\" style=\"height:1000px; width:1000px;\"></div>            <script type=\"text/javascript\">                require([\"plotly\"], function(Plotly) {                    window.PLOTLYENV=window.PLOTLYENV || {};                                    if (document.getElementById(\"c24c26a8-d1e3-4f35-8f8e-3f4d3944de78\")) {                    Plotly.newPlot(                        \"c24c26a8-d1e3-4f35-8f8e-3f4d3944de78\",                        [{\"marker\":{\"color\":[4.944444444444445,4.975609756097561,4.921348314606742,4.892156862745098,4.828571428571428,4.751908396946565,4.8469945355191255,4.826164874551972],\"coloraxis\":\"coloraxis\"},\"orientation\":\"h\",\"x\":[121.90659700031607,138.83806880591553,150.69009906983513,172.70101241711444,177.78045395879425,345.09879541707727,484.1684592418696,731.4034171526115],\"y\":[\"jot_easy\",\"jot_perfect\",\"first_jot\",\"ultra_coffee\",\"jot_taste\",\"spoon\",\"bottle\",\"tablespoon\"],\"type\":\"bar\",\"xaxis\":\"x\",\"yaxis\":\"y\"},{\"marker\":{\"color\":[4.695652173913044,4.96,4.8,4.896551724137931,4.666666666666667,4.9411764705882355,4.733333333333333,4.8861788617886175],\"coloraxis\":\"coloraxis\"},\"orientation\":\"h\",\"x\":[29.61668766639096,32.19205181129452,34.76741595619808,37.342780101101646,38.630462173553425,57.56700413903815,115.89138652066028,166.11098734627973],\"y\":[\"cap\",\"peppermint\",\"spoon\",\"make_strong\",\"tablespoon\",\"straw\",\"teaspoon\",\"bottle\"],\"type\":\"bar\",\"xaxis\":\"x3\",\"yaxis\":\"y3\"},{\"marker\":{\"color\":[4.5,4.75,4.85,4.470588235294118,4.684210526315789,4.631578947368421,4.849056603773585,4.784810126582278],\"coloraxis\":\"coloraxis\"},\"orientation\":\"h\",\"x\":[20.317766166719345,20.317766166719345,25.753641449035616,28.783502069519074,32.16979643063896,32.16979643063896,68.24714983994438,104.30224786859425],\"y\":[\"dark_box\",\"overall_experience\",\"fantastic_coffee\",\"dry_ice\",\"mixed_box\",\"puck\",\"recyclable\",\"capsule\"],\"type\":\"bar\",\"xaxis\":\"x2\",\"yaxis\":\"y2\"}],                        {\"template\":{\"data\":{\"bar\":[{\"error_x\":{\"color\":\"#2a3f5f\"},\"error_y\":{\"color\":\"#2a3f5f\"},\"marker\":{\"line\":{\"color\":\"#E5ECF6\",\"width\":0.5},\"pattern\":{\"fillmode\":\"overlay\",\"size\":10,\"solidity\":0.2}},\"type\":\"bar\"}],\"barpolar\":[{\"marker\":{\"line\":{\"color\":\"#E5ECF6\",\"width\":0.5},\"pattern\":{\"fillmode\":\"overlay\",\"size\":10,\"solidity\":0.2}},\"type\":\"barpolar\"}],\"carpet\":[{\"aaxis\":{\"endlinecolor\":\"#2a3f5f\",\"gridcolor\":\"white\",\"linecolor\":\"white\",\"minorgridcolor\":\"white\",\"startlinecolor\":\"#2a3f5f\"},\"baxis\":{\"endlinecolor\":\"#2a3f5f\",\"gridcolor\":\"white\",\"linecolor\":\"white\",\"minorgridcolor\":\"white\",\"startlinecolor\":\"#2a3f5f\"},\"type\":\"carpet\"}],\"choropleth\":[{\"colorbar\":{\"outlinewidth\":0,\"ticks\":\"\"},\"type\":\"choropleth\"}],\"contour\":[{\"colorbar\":{\"outlinewidth\":0,\"ticks\":\"\"},\"colorscale\":[[0.0,\"#0d0887\"],[0.1111111111111111,\"#46039f\"],[0.2222222222222222,\"#7201a8\"],[0.3333333333333333,\"#9c179e\"],[0.4444444444444444,\"#bd3786\"],[0.5555555555555556,\"#d8576b\"],[0.6666666666666666,\"#ed7953\"],[0.7777777777777778,\"#fb9f3a\"],[0.8888888888888888,\"#fdca26\"],[1.0,\"#f0f921\"]],\"type\":\"contour\"}],\"contourcarpet\":[{\"colorbar\":{\"outlinewidth\":0,\"ticks\":\"\"},\"type\":\"contourcarpet\"}],\"heatmap\":[{\"colorbar\":{\"outlinewidth\":0,\"ticks\":\"\"},\"colorscale\":[[0.0,\"#0d0887\"],[0.1111111111111111,\"#46039f\"],[0.2222222222222222,\"#7201a8\"],[0.3333333333333333,\"#9c179e\"],[0.4444444444444444,\"#bd3786\"],[0.5555555555555556,\"#d8576b\"],[0.6666666666666666,\"#ed7953\"],[0.7777777777777778,\"#fb9f3a\"],[0.8888888888888888,\"#fdca26\"],[1.0,\"#f0f921\"]],\"type\":\"heatmap\"}],\"heatmapgl\":[{\"colorbar\":{\"outlinewidth\":0,\"ticks\":\"\"},\"colorscale\":[[0.0,\"#0d0887\"],[0.1111111111111111,\"#46039f\"],[0.2222222222222222,\"#7201a8\"],[0.3333333333333333,\"#9c179e\"],[0.4444444444444444,\"#bd3786\"],[0.5555555555555556,\"#d8576b\"],[0.6666666666666666,\"#ed7953\"],[0.7777777777777778,\"#fb9f3a\"],[0.8888888888888888,\"#fdca26\"],[1.0,\"#f0f921\"]],\"type\":\"heatmapgl\"}],\"histogram\":[{\"marker\":{\"pattern\":{\"fillmode\":\"overlay\",\"size\":10,\"solidity\":0.2}},\"type\":\"histogram\"}],\"histogram2d\":[{\"colorbar\":{\"outlinewidth\":0,\"ticks\":\"\"},\"colorscale\":[[0.0,\"#0d0887\"],[0.1111111111111111,\"#46039f\"],[0.2222222222222222,\"#7201a8\"],[0.3333333333333333,\"#9c179e\"],[0.4444444444444444,\"#bd3786\"],[0.5555555555555556,\"#d8576b\"],[0.6666666666666666,\"#ed7953\"],[0.7777777777777778,\"#fb9f3a\"],[0.8888888888888888,\"#fdca26\"],[1.0,\"#f0f921\"]],\"type\":\"histogram2d\"}],\"histogram2dcontour\":[{\"colorbar\":{\"outlinewidth\":0,\"ticks\":\"\"},\"colorscale\":[[0.0,\"#0d0887\"],[0.1111111111111111,\"#46039f\"],[0.2222222222222222,\"#7201a8\"],[0.3333333333333333,\"#9c179e\"],[0.4444444444444444,\"#bd3786\"],[0.5555555555555556,\"#d8576b\"],[0.6666666666666666,\"#ed7953\"],[0.7777777777777778,\"#fb9f3a\"],[0.8888888888888888,\"#fdca26\"],[1.0,\"#f0f921\"]],\"type\":\"histogram2dcontour\"}],\"mesh3d\":[{\"colorbar\":{\"outlinewidth\":0,\"ticks\":\"\"},\"type\":\"mesh3d\"}],\"parcoords\":[{\"line\":{\"colorbar\":{\"outlinewidth\":0,\"ticks\":\"\"}},\"type\":\"parcoords\"}],\"pie\":[{\"automargin\":true,\"type\":\"pie\"}],\"scatter\":[{\"marker\":{\"colorbar\":{\"outlinewidth\":0,\"ticks\":\"\"}},\"type\":\"scatter\"}],\"scatter3d\":[{\"line\":{\"colorbar\":{\"outlinewidth\":0,\"ticks\":\"\"}},\"marker\":{\"colorbar\":{\"outlinewidth\":0,\"ticks\":\"\"}},\"type\":\"scatter3d\"}],\"scattercarpet\":[{\"marker\":{\"colorbar\":{\"outlinewidth\":0,\"ticks\":\"\"}},\"type\":\"scattercarpet\"}],\"scattergeo\":[{\"marker\":{\"colorbar\":{\"outlinewidth\":0,\"ticks\":\"\"}},\"type\":\"scattergeo\"}],\"scattergl\":[{\"marker\":{\"colorbar\":{\"outlinewidth\":0,\"ticks\":\"\"}},\"type\":\"scattergl\"}],\"scattermapbox\":[{\"marker\":{\"colorbar\":{\"outlinewidth\":0,\"ticks\":\"\"}},\"type\":\"scattermapbox\"}],\"scatterpolar\":[{\"marker\":{\"colorbar\":{\"outlinewidth\":0,\"ticks\":\"\"}},\"type\":\"scatterpolar\"}],\"scatterpolargl\":[{\"marker\":{\"colorbar\":{\"outlinewidth\":0,\"ticks\":\"\"}},\"type\":\"scatterpolargl\"}],\"scatterternary\":[{\"marker\":{\"colorbar\":{\"outlinewidth\":0,\"ticks\":\"\"}},\"type\":\"scatterternary\"}],\"surface\":[{\"colorbar\":{\"outlinewidth\":0,\"ticks\":\"\"},\"colorscale\":[[0.0,\"#0d0887\"],[0.1111111111111111,\"#46039f\"],[0.2222222222222222,\"#7201a8\"],[0.3333333333333333,\"#9c179e\"],[0.4444444444444444,\"#bd3786\"],[0.5555555555555556,\"#d8576b\"],[0.6666666666666666,\"#ed7953\"],[0.7777777777777778,\"#fb9f3a\"],[0.8888888888888888,\"#fdca26\"],[1.0,\"#f0f921\"]],\"type\":\"surface\"}],\"table\":[{\"cells\":{\"fill\":{\"color\":\"#EBF0F8\"},\"line\":{\"color\":\"white\"}},\"header\":{\"fill\":{\"color\":\"#C8D4E3\"},\"line\":{\"color\":\"white\"}},\"type\":\"table\"}]},\"layout\":{\"annotationdefaults\":{\"arrowcolor\":\"#2a3f5f\",\"arrowhead\":0,\"arrowwidth\":1},\"autotypenumbers\":\"strict\",\"coloraxis\":{\"colorbar\":{\"outlinewidth\":0,\"ticks\":\"\"}},\"colorscale\":{\"diverging\":[[0,\"#8e0152\"],[0.1,\"#c51b7d\"],[0.2,\"#de77ae\"],[0.3,\"#f1b6da\"],[0.4,\"#fde0ef\"],[0.5,\"#f7f7f7\"],[0.6,\"#e6f5d0\"],[0.7,\"#b8e186\"],[0.8,\"#7fbc41\"],[0.9,\"#4d9221\"],[1,\"#276419\"]],\"sequential\":[[0.0,\"#0d0887\"],[0.1111111111111111,\"#46039f\"],[0.2222222222222222,\"#7201a8\"],[0.3333333333333333,\"#9c179e\"],[0.4444444444444444,\"#bd3786\"],[0.5555555555555556,\"#d8576b\"],[0.6666666666666666,\"#ed7953\"],[0.7777777777777778,\"#fb9f3a\"],[0.8888888888888888,\"#fdca26\"],[1.0,\"#f0f921\"]],\"sequentialminus\":[[0.0,\"#0d0887\"],[0.1111111111111111,\"#46039f\"],[0.2222222222222222,\"#7201a8\"],[0.3333333333333333,\"#9c179e\"],[0.4444444444444444,\"#bd3786\"],[0.5555555555555556,\"#d8576b\"],[0.6666666666666666,\"#ed7953\"],[0.7777777777777778,\"#fb9f3a\"],[0.8888888888888888,\"#fdca26\"],[1.0,\"#f0f921\"]]},\"colorway\":[\"#636efa\",\"#EF553B\",\"#00cc96\",\"#ab63fa\",\"#FFA15A\",\"#19d3f3\",\"#FF6692\",\"#B6E880\",\"#FF97FF\",\"#FECB52\"],\"font\":{\"color\":\"#2a3f5f\"},\"geo\":{\"bgcolor\":\"white\",\"lakecolor\":\"white\",\"landcolor\":\"#E5ECF6\",\"showlakes\":true,\"showland\":true,\"subunitcolor\":\"white\"},\"hoverlabel\":{\"align\":\"left\"},\"hovermode\":\"closest\",\"mapbox\":{\"style\":\"light\"},\"paper_bgcolor\":\"white\",\"plot_bgcolor\":\"#E5ECF6\",\"polar\":{\"angularaxis\":{\"gridcolor\":\"white\",\"linecolor\":\"white\",\"ticks\":\"\"},\"bgcolor\":\"#E5ECF6\",\"radialaxis\":{\"gridcolor\":\"white\",\"linecolor\":\"white\",\"ticks\":\"\"}},\"scene\":{\"xaxis\":{\"backgroundcolor\":\"#E5ECF6\",\"gridcolor\":\"white\",\"gridwidth\":2,\"linecolor\":\"white\",\"showbackground\":true,\"ticks\":\"\",\"zerolinecolor\":\"white\"},\"yaxis\":{\"backgroundcolor\":\"#E5ECF6\",\"gridcolor\":\"white\",\"gridwidth\":2,\"linecolor\":\"white\",\"showbackground\":true,\"ticks\":\"\",\"zerolinecolor\":\"white\"},\"zaxis\":{\"backgroundcolor\":\"#E5ECF6\",\"gridcolor\":\"white\",\"gridwidth\":2,\"linecolor\":\"white\",\"showbackground\":true,\"ticks\":\"\",\"zerolinecolor\":\"white\"}},\"shapedefaults\":{\"line\":{\"color\":\"#2a3f5f\"}},\"ternary\":{\"aaxis\":{\"gridcolor\":\"white\",\"linecolor\":\"white\",\"ticks\":\"\"},\"baxis\":{\"gridcolor\":\"white\",\"linecolor\":\"white\",\"ticks\":\"\"},\"bgcolor\":\"#E5ECF6\",\"caxis\":{\"gridcolor\":\"white\",\"linecolor\":\"white\",\"ticks\":\"\"}},\"title\":{\"x\":0.05},\"xaxis\":{\"automargin\":true,\"gridcolor\":\"white\",\"linecolor\":\"white\",\"ticks\":\"\",\"title\":{\"standoff\":15},\"zerolinecolor\":\"white\",\"zerolinewidth\":2},\"yaxis\":{\"automargin\":true,\"gridcolor\":\"white\",\"linecolor\":\"white\",\"ticks\":\"\",\"title\":{\"standoff\":15},\"zerolinecolor\":\"white\",\"zerolinewidth\":2}}},\"xaxis\":{\"anchor\":\"y\",\"domain\":[0.0,0.35],\"automargin\":true,\"showticklabels\":false},\"yaxis\":{\"anchor\":\"x\",\"domain\":[0.575,1.0],\"title\":{\"text\":\"Jot\"},\"automargin\":true,\"dtick\":0.3},\"xaxis2\":{\"anchor\":\"y2\",\"domain\":[0.6499999999999999,0.9999999999999999],\"automargin\":true,\"showticklabels\":false},\"yaxis2\":{\"anchor\":\"x2\",\"domain\":[0.575,1.0],\"title\":{\"text\":\"Cometeer\"},\"automargin\":true,\"dtick\":0.3},\"xaxis3\":{\"anchor\":\"y3\",\"domain\":[0.0,0.35],\"automargin\":true,\"showticklabels\":false},\"yaxis3\":{\"anchor\":\"x3\",\"domain\":[0.0,0.425],\"title\":{\"text\":\"Javy\"},\"automargin\":true,\"dtick\":0.3},\"xaxis4\":{\"anchor\":\"y4\",\"domain\":[0.6499999999999999,0.9999999999999999],\"automargin\":true,\"showticklabels\":false},\"yaxis4\":{\"anchor\":\"x4\",\"domain\":[0.0,0.425]},\"margin\":{\"t\":50},\"title\":{\"y\":0.99,\"x\":0.5,\"xanchor\":\"center\",\"yanchor\":\"top\",\"text\":\"Top Unique Terms by Review Sentiment for Select Coffee Concentrates Brands\"},\"coloraxis\":{\"colorbar\":{\"title\":{\"text\":\"<b>average rating</b>\"}},\"colorscale\":[[0.0,\"rgb(165,0,38)\"],[0.1,\"rgb(215,48,39)\"],[0.2,\"rgb(244,109,67)\"],[0.3,\"rgb(253,174,97)\"],[0.4,\"rgb(254,224,139)\"],[0.5,\"rgb(255,255,191)\"],[0.6,\"rgb(217,239,139)\"],[0.7,\"rgb(166,217,106)\"],[0.8,\"rgb(102,189,99)\"],[0.9,\"rgb(26,152,80)\"],[1.0,\"rgb(0,104,55)\"]],\"cmin\":1,\"cmax\":5},\"font\":{\"size\":12},\"autosize\":true,\"width\":1000,\"height\":1000,\"plot_bgcolor\":\"white\",\"showlegend\":false},                        {\"responsive\": true}                    ).then(function(){\n",
       "                            \n",
       "var gd = document.getElementById('c24c26a8-d1e3-4f35-8f8e-3f4d3944de78');\n",
       "var x = new MutationObserver(function (mutations, observer) {{\n",
       "        var display = window.getComputedStyle(gd).display;\n",
       "        if (!display || display === 'none') {{\n",
       "            console.log([gd, 'removed!']);\n",
       "            Plotly.purge(gd);\n",
       "            observer.disconnect();\n",
       "        }}\n",
       "}});\n",
       "\n",
       "// Listen for the removal of the full notebook cells\n",
       "var notebookContainer = gd.closest('#notebook-container');\n",
       "if (notebookContainer) {{\n",
       "    x.observe(notebookContainer, {childList: true});\n",
       "}}\n",
       "\n",
       "// Listen for the clearing of the current output cell\n",
       "var outputEl = gd.closest('.output');\n",
       "if (outputEl) {{\n",
       "    x.observe(outputEl, {childList: true});\n",
       "}}\n",
       "\n",
       "                        })                };                });            </script>        </div>"
      ]
     },
     "metadata": {},
     "output_type": "display_data"
    }
   ],
   "source": [
    "avg_rating_tfidf['normalized_url_cat'] = pd.Categorical(\n",
    "    avg_rating_tfidf['normalized_url'], \n",
    "    categories=NORMALIZED_URL_LI, \n",
    "    ordered=True\n",
    ")\n",
    "\n",
    "n_brands = len(grouped_sdf['normalized_url'])\n",
    "\n",
    "fig = make_subplots(\n",
    "    rows=math.ceil(n_brands/2),\n",
    "    cols=2,\n",
    "    horizontal_spacing = 0.3\n",
    ")\n",
    "\n",
    "# Loop through\n",
    "# If j is greater than (number of brands/2)-1, then the graph will be shown in the second column\n",
    "j = 0\n",
    "\n",
    "for url, data in avg_rating_tfidf.sort_values(['normalized_url_cat', 'tfidf']).groupby('normalized_url', sort = False):\n",
    "    if j <= math.ceil(n_brands/2)-1:\n",
    "        fig.add_trace(\n",
    "            go.Bar(\n",
    "                orientation='h',\n",
    "                x=data.tfidf,\n",
    "                y=data.unibi_word,\n",
    "                marker=dict(color=data.avg_rating, coloraxis=\"coloraxis\")\n",
    "            ),\n",
    "            row=j+1, col=1\n",
    "        )\n",
    "        j += 1\n",
    "        fig.update_yaxes(automargin = True,title_text=brand_name_di.get(url), row=j, col=1, dtick =.3)#use dtick if not all term labels show up \n",
    "        fig.update_xaxes(automargin = True,showticklabels=False)\n",
    "        \n",
    "    else:\n",
    "        fig.add_trace(\n",
    "            go.Bar(\n",
    "                orientation='h',\n",
    "                x=data.tfidf,\n",
    "                y=data.unibi_word,\n",
    "                marker=dict(color=data.avg_rating, coloraxis=\"coloraxis\")\n",
    "            ),\n",
    "            row=j-math.ceil(n_brands/2)+1, col=2\n",
    "        )\n",
    "        j += 1\n",
    "        fig.update_yaxes(automargin = True,title_text=brand_name_di.get(url), row=j-round(n_brands/2), col=2, dtick =.3)#use dtick if not all term labels show up \n",
    "        fig.update_xaxes(automargin = True,showticklabels=False)\n",
    "  \n",
    "    \n",
    "fig.update_layout(\n",
    "    autosize = True,\n",
    "    width=1000,\n",
    "    height=1000,\n",
    "    margin=dict(t=50),\n",
    "    plot_bgcolor=\"white\",\n",
    "    title={\"y\": 0.99, \"x\": 0.5, 'xanchor': 'center', 'yanchor': 'top'},\n",
    "    coloraxis=dict(colorscale='RdYlGn', colorbar_title_text='<b>average rating</b>'),\n",
    "    title_text=f\"Top Unique Terms by Review Sentiment for Select {GROUP_NAME} Brands\",\n",
    "    showlegend=False,\n",
    "    font=dict(\n",
    "        size=12,\n",
    "    ),\n",
    ")\n",
    "\n",
    "\n",
    "# Change width,height,margin for the layout of the chart\n",
    "#fig.update_yaxes(title_text=\"Gardein\", row=2, col=2)\n",
    "#fig.update_yaxes(title_text=\"Beyond Meat\", row=1, col=2)\n",
    "fig.update_coloraxes(cmin=1,cmax=5)\n",
    "fig.show()"
   ]
  },
  {
   "cell_type": "code",
   "execution_count": null,
   "id": "bde92d43-7ca2-4442-9871-aa95e6f2617c",
   "metadata": {},
   "outputs": [],
   "source": []
  },
  {
   "cell_type": "code",
   "execution_count": 250,
   "id": "5ef69d1f-0546-4bf4-8868-67d9d939be34",
   "metadata": {},
   "outputs": [
    {
     "data": {
      "text/plain": [
       "0      cometeer.com\n",
       "1    javycoffee.com\n",
       "2            jot.co\n",
       "Name: normalized_url, dtype: object"
      ]
     },
     "execution_count": 250,
     "metadata": {},
     "output_type": "execute_result"
    }
   ],
   "source": [
    "grouped_sdf['normalized_url']"
   ]
  },
  {
   "cell_type": "code",
   "execution_count": 251,
   "id": "be0e5048-01f7-436c-ae43-aca0b6af98dc",
   "metadata": {},
   "outputs": [
    {
     "ename": "KeyError",
     "evalue": "'parent_category'",
     "output_type": "error",
     "traceback": [
      "\u001b[0;31m---------------------------------------------------------------------------\u001b[0m",
      "\u001b[0;31mKeyError\u001b[0m                                  Traceback (most recent call last)",
      "\u001b[0;32m/tmp/ipykernel_1805/788434460.py\u001b[0m in \u001b[0;36m<module>\u001b[0;34m\u001b[0m\n\u001b[0;32m----> 1\u001b[0;31m \u001b[0mreviews\u001b[0m\u001b[0;34m.\u001b[0m\u001b[0mgroupby\u001b[0m\u001b[0;34m(\u001b[0m\u001b[0;34m'parent_category'\u001b[0m\u001b[0;34m)\u001b[0m\u001b[0;34m.\u001b[0m\u001b[0magg\u001b[0m\u001b[0;34m(\u001b[0m\u001b[0;34m{\u001b[0m\u001b[0;34m'review_source_id'\u001b[0m\u001b[0;34m:\u001b[0m\u001b[0;34m'count'\u001b[0m\u001b[0;34m}\u001b[0m\u001b[0;34m)\u001b[0m\u001b[0;34m\u001b[0m\u001b[0;34m\u001b[0m\u001b[0m\n\u001b[0m",
      "\u001b[0;32m/opt/conda/lib/python3.7/site-packages/pandas/core/frame.py\u001b[0m in \u001b[0;36mgroupby\u001b[0;34m(self, by, axis, level, as_index, sort, group_keys, squeeze, observed, dropna)\u001b[0m\n\u001b[1;32m   7639\u001b[0m             \u001b[0msqueeze\u001b[0m\u001b[0;34m=\u001b[0m\u001b[0msqueeze\u001b[0m\u001b[0;34m,\u001b[0m  \u001b[0;31m# type: ignore[arg-type]\u001b[0m\u001b[0;34m\u001b[0m\u001b[0;34m\u001b[0m\u001b[0m\n\u001b[1;32m   7640\u001b[0m             \u001b[0mobserved\u001b[0m\u001b[0;34m=\u001b[0m\u001b[0mobserved\u001b[0m\u001b[0;34m,\u001b[0m\u001b[0;34m\u001b[0m\u001b[0;34m\u001b[0m\u001b[0m\n\u001b[0;32m-> 7641\u001b[0;31m             \u001b[0mdropna\u001b[0m\u001b[0;34m=\u001b[0m\u001b[0mdropna\u001b[0m\u001b[0;34m,\u001b[0m\u001b[0;34m\u001b[0m\u001b[0;34m\u001b[0m\u001b[0m\n\u001b[0m\u001b[1;32m   7642\u001b[0m         )\n\u001b[1;32m   7643\u001b[0m \u001b[0;34m\u001b[0m\u001b[0m\n",
      "\u001b[0;32m/opt/conda/lib/python3.7/site-packages/pandas/core/groupby/groupby.py\u001b[0m in \u001b[0;36m__init__\u001b[0;34m(self, obj, keys, axis, level, grouper, exclusions, selection, as_index, sort, group_keys, squeeze, observed, mutated, dropna)\u001b[0m\n\u001b[1;32m    895\u001b[0m                 \u001b[0mobserved\u001b[0m\u001b[0;34m=\u001b[0m\u001b[0mobserved\u001b[0m\u001b[0;34m,\u001b[0m\u001b[0;34m\u001b[0m\u001b[0;34m\u001b[0m\u001b[0m\n\u001b[1;32m    896\u001b[0m                 \u001b[0mmutated\u001b[0m\u001b[0;34m=\u001b[0m\u001b[0mself\u001b[0m\u001b[0;34m.\u001b[0m\u001b[0mmutated\u001b[0m\u001b[0;34m,\u001b[0m\u001b[0;34m\u001b[0m\u001b[0;34m\u001b[0m\u001b[0m\n\u001b[0;32m--> 897\u001b[0;31m                 \u001b[0mdropna\u001b[0m\u001b[0;34m=\u001b[0m\u001b[0mself\u001b[0m\u001b[0;34m.\u001b[0m\u001b[0mdropna\u001b[0m\u001b[0;34m,\u001b[0m\u001b[0;34m\u001b[0m\u001b[0;34m\u001b[0m\u001b[0m\n\u001b[0m\u001b[1;32m    898\u001b[0m             )\n\u001b[1;32m    899\u001b[0m \u001b[0;34m\u001b[0m\u001b[0m\n",
      "\u001b[0;32m/opt/conda/lib/python3.7/site-packages/pandas/core/groupby/grouper.py\u001b[0m in \u001b[0;36mget_grouper\u001b[0;34m(obj, key, axis, level, sort, observed, mutated, validate, dropna)\u001b[0m\n\u001b[1;32m    860\u001b[0m                 \u001b[0min_axis\u001b[0m\u001b[0;34m,\u001b[0m \u001b[0mlevel\u001b[0m\u001b[0;34m,\u001b[0m \u001b[0mgpr\u001b[0m \u001b[0;34m=\u001b[0m \u001b[0;32mFalse\u001b[0m\u001b[0;34m,\u001b[0m \u001b[0mgpr\u001b[0m\u001b[0;34m,\u001b[0m \u001b[0;32mNone\u001b[0m\u001b[0;34m\u001b[0m\u001b[0;34m\u001b[0m\u001b[0m\n\u001b[1;32m    861\u001b[0m             \u001b[0;32melse\u001b[0m\u001b[0;34m:\u001b[0m\u001b[0;34m\u001b[0m\u001b[0;34m\u001b[0m\u001b[0m\n\u001b[0;32m--> 862\u001b[0;31m                 \u001b[0;32mraise\u001b[0m \u001b[0mKeyError\u001b[0m\u001b[0;34m(\u001b[0m\u001b[0mgpr\u001b[0m\u001b[0;34m)\u001b[0m\u001b[0;34m\u001b[0m\u001b[0;34m\u001b[0m\u001b[0m\n\u001b[0m\u001b[1;32m    863\u001b[0m         \u001b[0;32melif\u001b[0m \u001b[0misinstance\u001b[0m\u001b[0;34m(\u001b[0m\u001b[0mgpr\u001b[0m\u001b[0;34m,\u001b[0m \u001b[0mGrouper\u001b[0m\u001b[0;34m)\u001b[0m \u001b[0;32mand\u001b[0m \u001b[0mgpr\u001b[0m\u001b[0;34m.\u001b[0m\u001b[0mkey\u001b[0m \u001b[0;32mis\u001b[0m \u001b[0;32mnot\u001b[0m \u001b[0;32mNone\u001b[0m\u001b[0;34m:\u001b[0m\u001b[0;34m\u001b[0m\u001b[0;34m\u001b[0m\u001b[0m\n\u001b[1;32m    864\u001b[0m             \u001b[0;31m# Add key to exclusions\u001b[0m\u001b[0;34m\u001b[0m\u001b[0;34m\u001b[0m\u001b[0;34m\u001b[0m\u001b[0m\n",
      "\u001b[0;31mKeyError\u001b[0m: 'parent_category'"
     ]
    }
   ],
   "source": [
    "reviews.groupby('parent_category').agg({'review_source_id':'count'})"
   ]
  },
  {
   "cell_type": "code",
   "execution_count": null,
   "id": "b9ad42a9-04eb-44a7-b09f-bd2a8d8cfaf3",
   "metadata": {},
   "outputs": [],
   "source": []
  },
  {
   "cell_type": "code",
   "execution_count": null,
   "id": "b34e3bd1-4058-4e60-8455-2b2326a84dea",
   "metadata": {
    "tags": []
   },
   "outputs": [],
   "source": [
    "reviews_dist = reviews.groupby(\"normalized_url\")[\"review_rating\"].value_counts(normalize = True).reset_index(name = \"percent_reviews\").sort_values([\"review_rating\",\"normalized_url\"])\n",
    "brands = dict(zip(NORMALIZED_URL_LI,BRAND_NAME_LI))\n",
    "\n",
    "reviews_dist[\"brand\"] = reviews_dist[\"normalized_url\"].map(brands)\n",
    "\n",
    "fig = px.bar(reviews_dist, \n",
    "                   color=\"review_rating\",\n",
    "                   x = \"percent_reviews\",\n",
    "                   y=\"brand\", color_continuous_scale='RdYlGn',\n",
    "                   orientation='h', \n",
    "                   barmode=\"stack\",\n",
    "                   width=800, height=600,\n",
    "                   title = \"Review Rating Distribution\"\n",
    "                   )\n",
    "\n",
    "\n",
    "fig.update_layout(\n",
    "    plot_bgcolor= 'rgba(0, 0, 0, 0)',\n",
    "    paper_bgcolor= 'rgba(0, 0, 0, 0)',\n",
    "    xaxis_title=\"% of total reviews\",\n",
    "    yaxis_title=\" \",\n",
    "    coloraxis_colorbar=dict(\n",
    "        title=\"Rating\",\n",
    "    ),\n",
    "    font=dict(\n",
    "        size=16,\n",
    "    ),\n",
    "    xaxis=dict(tickformat=\".0%\")\n",
    ")\n",
    "fig.show()"
   ]
  },
  {
   "cell_type": "code",
   "execution_count": null,
   "id": "91dbdd4a-7232-4194-a979-e104d4b1eb64",
   "metadata": {},
   "outputs": [],
   "source": [
    "reviews.groupby('parent_category').agg({'review_source_id':'count'})"
   ]
  }
 ],
 "metadata": {
  "environment": {
   "kernel": "python3",
   "name": "common-cpu.m87",
   "type": "gcloud",
   "uri": "gcr.io/deeplearning-platform-release/base-cpu:m87"
  },
  "kernelspec": {
   "display_name": "Python 3",
   "language": "python",
   "name": "python3"
  },
  "language_info": {
   "codemirror_mode": {
    "name": "ipython",
    "version": 3
   },
   "file_extension": ".py",
   "mimetype": "text/x-python",
   "name": "python",
   "nbconvert_exporter": "python",
   "pygments_lexer": "ipython3",
   "version": "3.7.12"
  },
  "toc-autonumbering": true
 },
 "nbformat": 4,
 "nbformat_minor": 5
}
