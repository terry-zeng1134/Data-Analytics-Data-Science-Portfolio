{
 "cells": [
  {
   "cell_type": "markdown",
   "id": "208f4558-985e-49d8-a84d-d66fe28a417f",
   "metadata": {},
   "source": [
    "# Imports"
   ]
  },
  {
   "cell_type": "code",
   "execution_count": 1,
   "id": "5f2cf8f5-fd3e-4a92-8ff5-df6f9b8af487",
   "metadata": {},
   "outputs": [
    {
     "name": "stderr",
     "output_type": "stream",
     "text": [
      "[nltk_data] Downloading package stopwords to\n",
      "[nltk_data]     /home/jupyter/nltk_data...\n",
      "[nltk_data]   Package stopwords is already up-to-date!\n",
      "[nltk_data] Downloading package punkt to /home/jupyter/nltk_data...\n",
      "[nltk_data]   Package punkt is already up-to-date!\n",
      "[nltk_data] Downloading package wordnet to /home/jupyter/nltk_data...\n",
      "[nltk_data]   Package wordnet is already up-to-date!\n",
      "[nltk_data] Downloading package omw-1.4 to /home/jupyter/nltk_data...\n",
      "[nltk_data]   Package omw-1.4 is already up-to-date!\n"
     ]
    }
   ],
   "source": [
    "# Imports\n",
    "import numpy as np\n",
    "import pandas as pd\n",
    "import pyspark\n",
    "import nltk\n",
    "nltk.download('stopwords')\n",
    "nltk.download('punkt')\n",
    "nltk.download('wordnet')\n",
    "nltk.download('omw-1.4')\n",
    "import contractions\n",
    "import math\n",
    "from itertools import chain\n",
    "from nltk.corpus import stopwords\n",
    "from nltk.tokenize import word_tokenize\n",
    "from nltk.util import bigrams\n",
    "from nltk.stem import WordNetLemmatizer\n",
    "\n",
    "import re\n",
    "import string\n",
    "import plotly.express as px\n",
    "from plotly.subplots import make_subplots\n",
    "import plotly.graph_objs as go\n",
    "\n",
    "from google.cloud import bigquery\n",
    "\n",
    "from sklearn.feature_extraction.text import TfidfVectorizer "
   ]
  },
  {
   "cell_type": "code",
   "execution_count": 140,
   "id": "af189897-3888-44b6-9873-2da63a1ef32b",
   "metadata": {},
   "outputs": [
    {
     "name": "stdout",
     "output_type": "stream",
     "text": [
      "Client creating using default project: helio-staging\n"
     ]
    }
   ],
   "source": [
    "client = bigquery.Client(location=\"US\")\n",
    "print(\"Client creating using default project: {}\".format(client.project))\n",
    "\n",
    "client = bigquery.Client(location=\"US\", project=\"helio-staging\")"
   ]
  },
  {
   "cell_type": "markdown",
   "id": "c86babbf-09b8-4dcd-b3c9-bfee960f2ca6",
   "metadata": {},
   "source": [
    "# Constants + Functions"
   ]
  },
  {
   "cell_type": "code",
   "execution_count": 257,
   "id": "7cbd1e64-230c-4216-97b0-eb65ec2088b2",
   "metadata": {},
   "outputs": [],
   "source": [
    "GROUP_CUSTOM_STOPWORDS = [\n",
    "    \"bike\", \"nbsp\", \"crn\",\"sample\", \"bikes\", \"great\", \"good\", \"love\",\"like\", \"recommend\",\"smells\",\"collected\",\"part\",\"review\",\"promotion\",\"razor\",\n",
    "    \"shave\",\"shaving\",\"blade\",\"camille\",\"cantu\",\"daughter\",\"today\",\"kccc\",\"jessie\",\"miss\",\"fabric\",\"pillow\",\"softener\",\"or\",    \"tiktok\",\"OR\",\n",
    "     'Proov', 'proov','Natalist', 'natalist','Stix', 'stix','Clear Blue', 'blue','Modern Fertility', 'modern', 'free', 'app', 'mf', 'android', 'pinchme',\n",
    "    'Pregmate', 'pregmate', 'received','First Response', 'test', 'ovulation', 'none', 'see', 'store', 'day', 'month', 'amy', 'face', 'far', 'scan',\n",
    "    'it‚äôs','don‚äôt', 'using_minoxidil', '_oz','i‚äôm','moreread','using','stating',\n",
    "    'doesn‚äôt', 'classic','order','ordering', 'best', 'hard', 'seltzer', 'claw','never','got','ordered','white','product','high-noon','bottle','girl',\n",
    "    'read_lessread','read_moreread','lessread_le','le_stating','moreread_stating','scalp detox','le_serum',\n",
    "    'moreread_serum','i’ve_stem','hair_read','don’t_know','i’ve_bought', 'liquid_kinda', \"i'ḿ\"'use_serum','le_mus','read_serum','ingredient_us','oz_extreme',\n",
    "    'cell_serum','cell','stem','le','read','lessread','moreread','more','multi-colored—from_brown','findin_read','strengthening_hair','hair_oil','care_oil',\n",
    "    'hair','oil_hair','extreme_hair','hair_care','extreme','oz','_strengthening','used twice', 'oil_oil', 'customer',    'nan', 'read_moreread', 'noreferrer',\n",
    "    'noreferrer_farmer','farmer_dog/a','noreferrer_ollie/a','rel','noopener','blank_rel',\n",
    "    'rel_nofollow','blank','nofollow','target_blank','noopener_noreferrer','nofollower_noopener','nofollow_noopener',\"partake\",\"partake_cooky\", \"crunchy_cooky\",\"cooky_vegan\",\"madegood\"\n",
    "]\n",
    "\n",
    "added_stopwords_li = [\n",
    "    \"it’s\",    \"'d\",    \"'s\",\n",
    "    \"n't\",    \"'m\",\n",
    "    \"i've\",    \"it's\",    \"'ve\",\n",
    "    \"'re\",    \"'ll\",    \"``\",    \"''\",    \"...\",    \"--\", \"https\",\n",
    "    \"voxbox\",    \"influenster\",    \"cracker\",    \"or\",    'it‚äôs',\n",
    "    'don‚äôt',    'i‚äôm',    'doesn‚äôt',    \"get\", \"also\",    \"even\",    \"since\", \"amy\"\n",
    "]\n",
    "\n",
    "REV_COLS = ['source_name',\n",
    "    'normalized_url',\n",
    "    'review_source_id',\n",
    "    'reviewer_source_id',\n",
    "    'brand_name',\n",
    "    'product_name',\n",
    "    'product_source_id',\n",
    "    'review_date',\n",
    "    'review_rating',\n",
    "    'review_content'\n",
    "]\n",
    "\n",
    "product_categories = ['Accessories',\n",
    "'Alcoholic Beverages',\n",
    "'Apparel & Footwear',\n",
    "'Food',\n",
    "'Food Establishments',\n",
    "'Health & Beauty Establishments',\n",
    "'Household Consumables',\n",
    "'Household Durables',\n",
    "'Other',\n",
    "'Pet Products',\n",
    "'Non-Alcoholic Beverages',\n",
    "'Personal Care & Beauty',\n",
    "'Retailers',\n",
    "'Sports & Outdoors'\n",
    "]\n",
    "\n",
    "drop_words = ['cooky',\n",
    "              'partake',\n",
    "              'madegood']\n",
    "\n",
    "MIN_TERM_PCT = 0\n",
    "\n",
    "MAX_TERM_PCT = 100\n",
    "\n",
    "TERM_PERCENT_HEAD = 1\n",
    "\n",
    "TOP_N_WORDS = 8\n",
    "\n",
    "np.random.seed(42) # set seed for models for reproducibility\n",
    "\n",
    "stopwords_li = stopwords.words('english')\n",
    "punkts_li = list(string.punctuation)\n",
    "\n",
    "REVIEWS_PER_BRAND_TO_ANALYZE = 10_000"
   ]
  },
  {
   "cell_type": "code",
   "execution_count": 258,
   "id": "439a907c-a3c2-4f25-b82a-7206b5de2095",
   "metadata": {},
   "outputs": [],
   "source": [
    "def tokenize(s, strip_str=\"=-_/\\+.:,'* 1234567890—\"):\n",
    "    custom_words_li = GROUP_CUSTOM_STOPWORDS + added_stopwords_li+stopwords_li + punkts_li + [\"\"]\n",
    "    return [w.lower().strip(strip_str) for w in word_tokenize(str(s)) if w.lower().strip(strip_str) not in custom_words_li]\n",
    "\n",
    "def lemmatize(tokens):\n",
    "    lemmatizer = WordNetLemmatizer()\n",
    "    return [lemmatizer.lemmatize(w) for w in tokens]\n",
    "\n",
    "def unique_list(li):\n",
    "    deduped_li = list(set(li))\n",
    "    return deduped_li\n",
    "\n",
    "def bigram(tokens):\n",
    "    bi_tup = list(bigrams(tokens))\n",
    "    bi_li = ['_'.join(tup) for tup in bi_tup]\n",
    "    return bi_li\n"
   ]
  },
  {
   "cell_type": "markdown",
   "id": "50b0048c-dbad-4036-8914-ed634c8c6de4",
   "metadata": {},
   "source": [
    "# Load Data"
   ]
  },
  {
   "cell_type": "code",
   "execution_count": 307,
   "id": "84a69a77-fa83-47df-b988-faf149483078",
   "metadata": {},
   "outputs": [],
   "source": [
    "GROUP_NAME = \"Cookie\"\n",
    "# GROUP_NAME = 'Meat Substitutes'\n",
    "\n",
    "\n",
    "# When using Streamlit, leave list empty and un-comment cells below\n",
    "NORMALIZED_URL_LI = [\n",
    "    'partakefoods.com',\n",
    "    'enjoylifefoods.com',\n",
    "    'madegoodfoods.com'\n",
    "]\n",
    "\n",
    "\n",
    "\n",
    "\n",
    "BRAND_NAME_LI = [\n",
    "    'Partake Foods',\n",
    "    'Enjoy Life',\n",
    "    'Made Good'\n",
    "]\n",
    "\n",
    "\n",
    "\n",
    "brand_name_di = dict(zip(NORMALIZED_URL_LI, BRAND_NAME_LI))\n",
    "\n",
    "external_revs_list = []\n",
    "\n",
    "\n",
    "\n",
    "    \n",
    "PROD_CAT_EXCLUDE_LI = ['Pet Products']\n",
    "    \n",
    "PRODUCT_NAME_NOT_CONTAINS_LI = ['toothpaste']\n"
   ]
  },
  {
   "cell_type": "code",
   "execution_count": null,
   "id": "00661483-9a82-42d2-b41b-c2e6e3eb9b8a",
   "metadata": {},
   "outputs": [],
   "source": []
  },
  {
   "cell_type": "code",
   "execution_count": 308,
   "id": "4816a0bf-b10b-4e28-9837-6955b2367595",
   "metadata": {},
   "outputs": [],
   "source": [
    "job_config = bigquery.QueryJobConfig(\n",
    "    query_parameters=[\n",
    "        bigquery.ArrayQueryParameter(\"url\", \"STRING\", NORMALIZED_URL_LI),\n",
    "        bigquery.ArrayQueryParameter(\"cols\", \"STRING\", REV_COLS),\n",
    "        bigquery.ArrayQueryParameter(\"brands\", \"STRING\", BRAND_NAME_LI)\n",
    "    ]\n",
    ")"
   ]
  },
  {
   "cell_type": "code",
   "execution_count": 309,
   "id": "23b0e599-ddc4-464e-930f-602a48af8100",
   "metadata": {},
   "outputs": [],
   "source": [
    "job_config = bigquery.QueryJobConfig(\n",
    "        query_parameters=[\n",
    "            bigquery.ArrayQueryParameter(\"url\", \"STRING\", NORMALIZED_URL_LI)\n",
    "        ]\n",
    ")\n",
    "max_date_query = \"\"\"\n",
    "    SELECT max(execution_date)\n",
    "    FROM `helio-staging.online_reviews.online_reviews__deduped_review__1_0`\n",
    "    where execution_date > DATE_ADD(current_date(), INTERVAL -10 DAY)\n",
    "    and normalized_url IS NOT NULL\n",
    "    \"\"\"\n",
    "query_job = client.query(\n",
    "    max_date_query,\n",
    "    # Location must match that of the dataset(s) referenced in the query.\n",
    "    location=\"US\",\n",
    "    job_config=job_config\n",
    ")  # API request - starts the query\n",
    "\n",
    "max_date = query_job.to_dataframe()['f0_'].astype('str')[0]\n"
   ]
  },
  {
   "cell_type": "code",
   "execution_count": 310,
   "id": "3a7921a5-de2f-41ff-bebd-87870e2aebc1",
   "metadata": {},
   "outputs": [
    {
     "data": {
      "text/plain": [
       "'2022-01-05'"
      ]
     },
     "execution_count": 310,
     "metadata": {},
     "output_type": "execute_result"
    }
   ],
   "source": [
    "max_date"
   ]
  },
  {
   "cell_type": "code",
   "execution_count": 311,
   "id": "9f67c0f9-56e6-413d-8014-941b63a4b486",
   "metadata": {},
   "outputs": [],
   "source": [
    "job_config = bigquery.QueryJobConfig(\n",
    "    query_parameters=[\n",
    "        bigquery.ArrayQueryParameter(\"url\", \"STRING\", NORMALIZED_URL_LI),\n",
    "        bigquery.ScalarQueryParameter(\"max_date\", \"STRING\", max_date)\n",
    "    ]\n",
    ")\n",
    "review_query = \"\"\"\n",
    "    SELECT source_name,\n",
    "    normalized_url,\n",
    "    review_source_id,\n",
    "    reviewer_source_id,\n",
    "    product_name,\n",
    "    product_source_id,\n",
    "    review_date,\n",
    "    review_rating,\n",
    "    review_content\n",
    "    FROM `helio-staging.online_reviews.online_reviews__deduped_review__1_0`\n",
    "    WHERE normalized_url IN UNNEST (@url)\n",
    "    AND execution_date = @max_date\n",
    "    \"\"\"\n",
    "query_job = client.query(\n",
    "    review_query,\n",
    "    # Location must match that of the dataset(s) referenced in the query.\n",
    "    location=\"US\",\n",
    "    job_config=job_config\n",
    ")  # API request - starts the query\n",
    "\n",
    "reviews = query_job.to_dataframe()\n",
    "reviews = reviews.loc[reviews.astype(str).drop_duplicates().index]\n"
   ]
  },
  {
   "cell_type": "code",
   "execution_count": 312,
   "id": "05bab625-dca2-470c-b9b7-5cb7597fa48d",
   "metadata": {},
   "outputs": [
    {
     "data": {
      "text/plain": [
       "(19523, 9)"
      ]
     },
     "execution_count": 312,
     "metadata": {},
     "output_type": "execute_result"
    }
   ],
   "source": [
    "reviews.shape"
   ]
  },
  {
   "cell_type": "code",
   "execution_count": 313,
   "id": "bcf58c7c-eff6-4406-b572-e66f195c65a1",
   "metadata": {},
   "outputs": [],
   "source": [
    "# Product Category Data\n",
    "\n",
    "query = \"\"\"\n",
    "    SELECT product_source_id, parent_category\n",
    "    FROM `helio-staging.taxonomy.product_taxonomy__1_0`\n",
    "    WHERE normalized_url IN UNNEST (@url)\n",
    "\n",
    "    \"\"\"\n",
    "query_job = client.query(\n",
    "    query,\n",
    "    # Location must match that of the dataset(s) referenced in the query.\n",
    "    location=\"US\",\n",
    "    job_config=job_config\n",
    ")  # API request - starts the query\n",
    "\n",
    "prod_cat = query_job.to_dataframe()"
   ]
  },
  {
   "cell_type": "code",
   "execution_count": 314,
   "id": "9fd54d7a-07ee-4b0a-beb4-52363b217eac",
   "metadata": {},
   "outputs": [],
   "source": [
    "# All primary categories\n",
    "\n",
    "query = \"\"\"\n",
    "    SELECT distinct parent_category\n",
    "    FROM `helio-staging.taxonomy.product_taxonomy__1_0`\n",
    "    \"\"\"\n",
    "query_job = client.query(\n",
    "    query,\n",
    "    # Location must match that of the dataset(s) referenced in the query.\n",
    "    location=\"US\",\n",
    "    job_config=job_config\n",
    ")  # API request - starts the query\n",
    "\n",
    "cat_list = query_job.to_dataframe()"
   ]
  },
  {
   "cell_type": "code",
   "execution_count": 315,
   "id": "30e4eb10-d267-4405-a719-1223184b0689",
   "metadata": {},
   "outputs": [],
   "source": [
    "# Join reviews with product categories\n",
    "\n",
    "reviews = pd.merge(\n",
    "    reviews, \n",
    "    prod_cat, \n",
    "    on='product_source_id', how='left').drop_duplicates(subset=['source_name', 'review_source_id'])\n",
    "\n",
    "# Filter out excluded categories, excluded product name terms\n",
    "PROD_CAT_EXCLUDE_LI = ['Pet Products']\n",
    "\n",
    "for term in PROD_CAT_EXCLUDE_LI:\n",
    "    reviews = reviews[(~reviews['parent_category'].fillna('').str.contains(term))]\n",
    "\n",
    "    \n",
    "PRODUCT_NAME_NOT_CONTAINS_LI = ['Purina', 'Krill']\n",
    "for term in PRODUCT_NAME_NOT_CONTAINS_LI:\n",
    "    reviews = reviews[~(reviews['product_name'].str.lower().fillna('').str.contains(term.lower()))]"
   ]
  },
  {
   "cell_type": "code",
   "execution_count": 316,
   "id": "cdf59dd1-c78b-478e-96b4-4a36e19c1d8b",
   "metadata": {},
   "outputs": [],
   "source": [
    "# Read external CSVs\n",
    "\n",
    "if external_revs_list != []:\n",
    "    cleaned_external_review_list = []\n",
    "    for external_revs_csv in external_revs_list:  \n",
    "        external_revs_csv['review_rating']=pd.to_numeric(external_revs_csv['review_rating'], downcast='float')\n",
    "        external_revs_csv['source_name'] = 'DTC'\n",
    "        # Checking for static columns, to add blanksto data frame\n",
    "        # Then checking for incrementing columns, which we'll set as the index, assuming they are unique reviewers and reviews\n",
    "        static_columns = ['product_name', 'product_source_id']\n",
    "        incrementing_columns = ['review_source_id','reviewer_source_id']\n",
    "\n",
    "        for column_name in static_columns:\n",
    "            if column_name not in external_revs_csv:\n",
    "                external_revs_csv[column_name] = ''\n",
    "            else:\n",
    "                pass\n",
    "        for column_name in incrementing_columns:\n",
    "            if column_name not in external_revs_csv:\n",
    "                external_revs_csv[column_name]=external_revs_csv.index\n",
    "            else:\n",
    "                pass\n",
    "\n",
    "        # selecting the same columns as internal reviews CSV\n",
    "        external_revs_csv = external_revs_csv[brand_revs.columns]\n",
    "        cleaned_external_review_list.append(external_revs_csv)\n",
    "\n",
    "    external_revs_csv = pd.concat(cleaned_external_review_list)"
   ]
  },
  {
   "cell_type": "code",
   "execution_count": 317,
   "id": "cbbdbf29-8515-4a18-a87c-88f1f0e0307d",
   "metadata": {},
   "outputs": [],
   "source": [
    "# Join external CSVs and clean reviews\n",
    "\n",
    "if external_revs_list != []:\n",
    "    reviews = reviews.union(external_revs_sdf)\n",
    "\n",
    "reviews['review_content'] = reviews['review_content'].str.replace('/[^a-zA-Z0-9]/g', '', regex=True);\n",
    "\n",
    "# removing hypertext from reviews\n",
    "reviews['review_content'] = reviews['review_content'].apply(lambda x: re.split('https:\\/\\/.*', str(x))[0])\n",
    "\n",
    "# removing contractions from reviews\n",
    "reviews['review_content'] = reviews['review_content'].apply(lambda x: [contractions.fix(word) for word in x.split()])"
   ]
  },
  {
   "cell_type": "code",
   "execution_count": 318,
   "id": "07556303-4013-486b-ae1a-256b7bc7a649",
   "metadata": {},
   "outputs": [],
   "source": [
    "# Get most recent n reviews\n",
    "\n",
    "reviews = (reviews\n",
    "           .sort_values('review_date',ascending = False)\n",
    "           .groupby('normalized_url')\n",
    "           .head(REVIEWS_PER_BRAND_TO_ANALYZE)\n",
    "          )\n",
    "\n",
    "reviews_count = reviews.groupby('normalized_url').agg({'review_source_id':'count'}).reset_index().rename(columns={\"review_source_id\": \"rev_count\"})\n",
    "\n",
    "reviews = pd.merge(reviews_count, reviews, on=['normalized_url'])"
   ]
  },
  {
   "cell_type": "code",
   "execution_count": 319,
   "id": "c85b3684-02a9-4294-8601-1f6ae1b04f74",
   "metadata": {},
   "outputs": [
    {
     "data": {
      "text/html": [
       "<div>\n",
       "<style scoped>\n",
       "    .dataframe tbody tr th:only-of-type {\n",
       "        vertical-align: middle;\n",
       "    }\n",
       "\n",
       "    .dataframe tbody tr th {\n",
       "        vertical-align: top;\n",
       "    }\n",
       "\n",
       "    .dataframe thead th {\n",
       "        text-align: right;\n",
       "    }\n",
       "</style>\n",
       "<table border=\"1\" class=\"dataframe\">\n",
       "  <thead>\n",
       "    <tr style=\"text-align: right;\">\n",
       "      <th></th>\n",
       "      <th>normalized_url</th>\n",
       "      <th>rev_count</th>\n",
       "    </tr>\n",
       "  </thead>\n",
       "  <tbody>\n",
       "    <tr>\n",
       "      <th>0</th>\n",
       "      <td>enjoylifefoods.com</td>\n",
       "      <td>10000</td>\n",
       "    </tr>\n",
       "    <tr>\n",
       "      <th>1</th>\n",
       "      <td>madegoodfoods.com</td>\n",
       "      <td>2512</td>\n",
       "    </tr>\n",
       "    <tr>\n",
       "      <th>2</th>\n",
       "      <td>partakefoods.com</td>\n",
       "      <td>2649</td>\n",
       "    </tr>\n",
       "  </tbody>\n",
       "</table>\n",
       "</div>"
      ],
      "text/plain": [
       "       normalized_url  rev_count\n",
       "0  enjoylifefoods.com      10000\n",
       "1   madegoodfoods.com       2512\n",
       "2    partakefoods.com       2649"
      ]
     },
     "execution_count": 319,
     "metadata": {},
     "output_type": "execute_result"
    }
   ],
   "source": [
    "reviews_count"
   ]
  },
  {
   "cell_type": "code",
   "execution_count": null,
   "id": "5b4aee6d-f8ee-4b6e-8403-a8faaac40cf2",
   "metadata": {},
   "outputs": [],
   "source": []
  },
  {
   "cell_type": "code",
   "execution_count": 320,
   "id": "f648a208-3b3c-44de-8e69-581962020d38",
   "metadata": {},
   "outputs": [],
   "source": [
    "tokenized_reviews = reviews.copy()\n",
    "tokenized_reviews['tokenized_review'] = tokenized_reviews['review_content'].apply(lambda x: lemmatize(tokenize(x)))\n",
    "tokenized_reviews = tokenized_reviews.dropna(subset=['tokenized_review'])"
   ]
  },
  {
   "cell_type": "code",
   "execution_count": 321,
   "id": "e0f57cd5-03a2-4323-a7c5-2c71cd5ee017",
   "metadata": {},
   "outputs": [],
   "source": [
    "unibi_reviews = tokenized_reviews.copy()\n",
    "\n",
    "unibi_reviews['unibi'] = unibi_reviews['tokenized_review'].apply(lambda x: unique_list(bigram(x)+x))\n",
    "unibi_reviews = unibi_reviews.loc[unibi_reviews.astype(str).drop_duplicates().index]\n",
    "\n",
    "unibi_words = unibi_reviews.copy()\n",
    "unibi_words['unibi_word'] = unibi_words['unibi']\n",
    "unibi_words = unibi_words.explode('unibi_word')\n",
    "unibi_words= unibi_words[unibi_words[\"unibi_word\"].str.contains(\"cooky\")==False]"
   ]
  },
  {
   "cell_type": "code",
   "execution_count": 322,
   "id": "d709c3b3-78f2-4675-a6bd-083082fac885",
   "metadata": {},
   "outputs": [],
   "source": [
    "grouped_sdf = pd.DataFrame(unibi_reviews.groupby('normalized_url').unibi.apply(sum)).reset_index()"
   ]
  },
  {
   "cell_type": "code",
   "execution_count": 323,
   "id": "04750519-ac57-40bd-9bd8-100543d5b55c",
   "metadata": {},
   "outputs": [],
   "source": [
    "pd.set_option('max_colwidth', 50)\n",
    "\n",
    "#tokenized_reviews[(tokenized_reviews['review_source_id']=='232203656')]\n",
    "\n",
    "grouped_sdf['unibi_str'] = [','.join(map(str, l)) for l in grouped_sdf['unibi']]"
   ]
  },
  {
   "cell_type": "code",
   "execution_count": 324,
   "id": "4ffa0762-989a-4f78-b4ac-0ebd7e92053d",
   "metadata": {},
   "outputs": [
    {
     "data": {
      "text/html": [
       "<div>\n",
       "<style scoped>\n",
       "    .dataframe tbody tr th:only-of-type {\n",
       "        vertical-align: middle;\n",
       "    }\n",
       "\n",
       "    .dataframe tbody tr th {\n",
       "        vertical-align: top;\n",
       "    }\n",
       "\n",
       "    .dataframe thead th {\n",
       "        text-align: right;\n",
       "    }\n",
       "</style>\n",
       "<table border=\"1\" class=\"dataframe\">\n",
       "  <thead>\n",
       "    <tr style=\"text-align: right;\">\n",
       "      <th></th>\n",
       "      <th>normalized_url</th>\n",
       "      <th>unibi</th>\n",
       "      <th>unibi_str</th>\n",
       "    </tr>\n",
       "  </thead>\n",
       "  <tbody>\n",
       "    <tr>\n",
       "      <th>0</th>\n",
       "      <td>enjoylifefoods.com</td>\n",
       "      <td>[would, star_could, always, could, worth_amazi...</td>\n",
       "      <td>would,star_could,always,could,worth_amazing,al...</td>\n",
       "    </tr>\n",
       "    <tr>\n",
       "      <th>1</th>\n",
       "      <td>madegoodfoods.com</td>\n",
       "      <td>[along, time, pouch, along_fruit, fruit, favor...</td>\n",
       "      <td>along,time,pouch,along_fruit,fruit,favorite,ho...</td>\n",
       "    </tr>\n",
       "    <tr>\n",
       "      <th>2</th>\n",
       "      <td>partakefoods.com</td>\n",
       "      <td>[baked, medium, always, sale, soft_baked, daug...</td>\n",
       "      <td>baked,medium,always,sale,soft_baked,daughter_f...</td>\n",
       "    </tr>\n",
       "  </tbody>\n",
       "</table>\n",
       "</div>"
      ],
      "text/plain": [
       "       normalized_url                                              unibi  \\\n",
       "0  enjoylifefoods.com  [would, star_could, always, could, worth_amazi...   \n",
       "1   madegoodfoods.com  [along, time, pouch, along_fruit, fruit, favor...   \n",
       "2    partakefoods.com  [baked, medium, always, sale, soft_baked, daug...   \n",
       "\n",
       "                                           unibi_str  \n",
       "0  would,star_could,always,could,worth_amazing,al...  \n",
       "1  along,time,pouch,along_fruit,fruit,favorite,ho...  \n",
       "2  baked,medium,always,sale,soft_baked,daughter_f...  "
      ]
     },
     "execution_count": 324,
     "metadata": {},
     "output_type": "execute_result"
    }
   ],
   "source": [
    "grouped_sdf"
   ]
  },
  {
   "cell_type": "code",
   "execution_count": 325,
   "id": "47974363-123e-477f-a459-ae2c4e0eb582",
   "metadata": {},
   "outputs": [
    {
     "name": "stderr",
     "output_type": "stream",
     "text": [
      "/opt/conda/lib/python3.7/site-packages/sklearn/utils/deprecation.py:87: FutureWarning:\n",
      "\n",
      "Function get_feature_names is deprecated; get_feature_names is deprecated in 1.0 and will be removed in 1.2. Please use get_feature_names_out instead.\n",
      "\n"
     ]
    }
   ],
   "source": [
    "frames = []\n",
    "\n",
    "for i in range(len(grouped_sdf)):    \n",
    "# settings that you use for count vectorizer will go here \n",
    "    tfidf_vectorizer=TfidfVectorizer(\n",
    "        norm=None,\n",
    "        sublinear_tf=False,\n",
    "        use_idf=True,\n",
    "        lowercase=False,\n",
    "        stop_words='english',\n",
    "        smooth_idf=True,\n",
    "        max_df = len(grouped_sdf['normalized_url'])-1\n",
    "    ) \n",
    "\n",
    "    # just send in all your docs here \n",
    "    tfidf_vectorizer_vectors=tfidf_vectorizer.fit_transform(grouped_sdf['unibi_str'])\n",
    "\n",
    "    # get the first vector out (for the first document) \n",
    "    first_vector_tfidfvectorizer=tfidf_vectorizer_vectors[i]\n",
    "\n",
    "    # place tf-idf values in a pandas data frame \n",
    "    df = pd.DataFrame(first_vector_tfidfvectorizer.T.todense(), index=tfidf_vectorizer.get_feature_names(), columns=[\"tfidf\"])\n",
    "    joined_df = unibi_words[(unibi_words['normalized_url']==grouped_sdf.reset_index()['normalized_url'][i])].join(df, on='unibi_word', how='inner', lsuffix='_left', rsuffix='_right')\n",
    "    frames.append(joined_df)\n",
    "\n",
    "df = pd.concat(frames)\n",
    "#reviews = unibi_reviews[(unibi_reviews['normalized_url'] == url)]\n",
    "#joined_df = unibi_reviews.join(df, on='unibi_word', how='inner', lsuffix='_left', rsuffix='_right')\n",
    "sorted_df = df[['normalized_url', 'unibi_word', 'tfidf']].sort_values(by=['normalized_url', \"tfidf\"],ascending=False).drop_duplicates()\n"
   ]
  },
  {
   "cell_type": "code",
   "execution_count": 326,
   "id": "bb04098e-fceb-4ee9-8e28-7119e03d8721",
   "metadata": {},
   "outputs": [],
   "source": [
    "tf_idf_output = sorted_df.groupby('normalized_url').head(TOP_N_WORDS)"
   ]
  },
  {
   "cell_type": "code",
   "execution_count": 327,
   "id": "de16d647-d2cf-4e84-8bf4-eaaf46b09855",
   "metadata": {},
   "outputs": [],
   "source": [
    "unibi_reviews_grouped = unibi_words.groupby(['normalized_url', 'unibi_word']).agg({'review_rating':'mean', 'review_source_id':'count'})\n",
    "\n",
    "unibi_reviews_grouped = unibi_reviews_grouped.rename(columns={\"review_rating\": \"avg_rating\", \"review_source_id\": \"review_count\"})"
   ]
  },
  {
   "cell_type": "code",
   "execution_count": 328,
   "id": "fc4a8fa7-9f54-494e-8e3d-941d0c9297b7",
   "metadata": {},
   "outputs": [],
   "source": [
    "avg_rating_tfidf = pd.merge(unibi_reviews_grouped, tf_idf_output, on=['normalized_url', 'unibi_word'], how='inner').sort_values(by=['normalized_url', \"tfidf\"],ascending=False)[['normalized_url','unibi_word', 'tfidf', 'avg_rating']]"
   ]
  },
  {
   "cell_type": "code",
   "execution_count": 329,
   "id": "a2d7be2e-a0fb-4b20-a97f-0273f82e5c52",
   "metadata": {},
   "outputs": [
    {
     "data": {
      "application/vnd.plotly.v1+json": {
       "config": {
        "plotlyServerURL": "https://plot.ly"
       },
       "data": [
        {
         "marker": {
          "color": [
           4.071428571428571,
           4.514285714285714,
           4.457142857142857,
           3.6875,
           3.9607843137254903,
           4.478260869565218,
           4.58,
           4.094827586206897
          ],
          "coloraxis": "coloraxis"
         },
         "orientation": "h",
         "type": "bar",
         "x": [
          59.23337533278192,
          59.26015131959809,
          59.26015131959809,
          63.09642155013726,
          65.67178569504082,
          77.88477030575748,
          132.06548008367574,
          149.37112040440658
         ],
         "xaxis": "x",
         "y": [
          "shortbread",
          "black_owned",
          "cookie_butter",
          "cookie_taste",
          "taste_birthday",
          "complimentary",
          "owned",
          "cake_flavor"
         ],
         "yaxis": "y"
        },
        {
         "marker": {
          "color": [
           4.825242718446602,
           4.430894308943089,
           4.705263157894737,
           4.857142857142857,
           3.6611570247933884,
           4.311111111111111,
           4.1875,
           4.2153284671532845
          ],
          "coloraxis": "coloraxis"
         },
         "orientation": "h",
         "type": "bar",
         "x": [
          136.49429967988877,
          158.38489491156903,
          162.54212933375476,
          191.32563140327383,
          204.87080884775338,
          234.3581371862241,
          243.81319400063214,
          360.5509802864986
         ],
         "xaxis": "x3",
         "y": [
          "vegan_chocolate",
          "chocolate_bar",
          "trail_mix",
          "dairy_chocolate",
          "life_product",
          "pancake",
          "mini_chip",
          "brownie"
         ],
         "yaxis": "y3"
        },
        {
         "marker": {
          "color": [
           4.638297872340425,
           4.285714285714286,
           4.2894736842105265,
           4.842105263157895,
           4.703703703703703,
           4.6891891891891895,
           4.4576271186440675,
           4.5625
          ],
          "coloraxis": "coloraxis"
         },
         "orientation": "h",
         "type": "bar",
         "x": [
          60.5210574052337,
          63.09642155013726,
          64.33959286127792,
          64.33959286127792,
          69.53483191239616,
          95.28847336143178,
          99.89568365303678,
          105.58992994104602
         ],
         "xaxis": "x2",
         "y": [
          "costco",
          "rice_crispy",
          "crispy_square",
          "serving_vegetable",
          "mixed_berry",
          "strawberry",
          "granola_mini",
          "ball"
         ],
         "yaxis": "y2"
        }
       ],
       "layout": {
        "autosize": true,
        "coloraxis": {
         "cmax": 5,
         "cmin": 1,
         "colorbar": {
          "title": {
           "text": "<b>average rating</b>"
          }
         },
         "colorscale": [
          [
           0,
           "rgb(165,0,38)"
          ],
          [
           0.1,
           "rgb(215,48,39)"
          ],
          [
           0.2,
           "rgb(244,109,67)"
          ],
          [
           0.3,
           "rgb(253,174,97)"
          ],
          [
           0.4,
           "rgb(254,224,139)"
          ],
          [
           0.5,
           "rgb(255,255,191)"
          ],
          [
           0.6,
           "rgb(217,239,139)"
          ],
          [
           0.7,
           "rgb(166,217,106)"
          ],
          [
           0.8,
           "rgb(102,189,99)"
          ],
          [
           0.9,
           "rgb(26,152,80)"
          ],
          [
           1,
           "rgb(0,104,55)"
          ]
         ]
        },
        "font": {
         "size": 12
        },
        "height": 600,
        "margin": {
         "t": 100
        },
        "plot_bgcolor": "white",
        "showlegend": false,
        "template": {
         "data": {
          "bar": [
           {
            "error_x": {
             "color": "#2a3f5f"
            },
            "error_y": {
             "color": "#2a3f5f"
            },
            "marker": {
             "line": {
              "color": "#E5ECF6",
              "width": 0.5
             },
             "pattern": {
              "fillmode": "overlay",
              "size": 10,
              "solidity": 0.2
             }
            },
            "type": "bar"
           }
          ],
          "barpolar": [
           {
            "marker": {
             "line": {
              "color": "#E5ECF6",
              "width": 0.5
             },
             "pattern": {
              "fillmode": "overlay",
              "size": 10,
              "solidity": 0.2
             }
            },
            "type": "barpolar"
           }
          ],
          "carpet": [
           {
            "aaxis": {
             "endlinecolor": "#2a3f5f",
             "gridcolor": "white",
             "linecolor": "white",
             "minorgridcolor": "white",
             "startlinecolor": "#2a3f5f"
            },
            "baxis": {
             "endlinecolor": "#2a3f5f",
             "gridcolor": "white",
             "linecolor": "white",
             "minorgridcolor": "white",
             "startlinecolor": "#2a3f5f"
            },
            "type": "carpet"
           }
          ],
          "choropleth": [
           {
            "colorbar": {
             "outlinewidth": 0,
             "ticks": ""
            },
            "type": "choropleth"
           }
          ],
          "contour": [
           {
            "colorbar": {
             "outlinewidth": 0,
             "ticks": ""
            },
            "colorscale": [
             [
              0,
              "#0d0887"
             ],
             [
              0.1111111111111111,
              "#46039f"
             ],
             [
              0.2222222222222222,
              "#7201a8"
             ],
             [
              0.3333333333333333,
              "#9c179e"
             ],
             [
              0.4444444444444444,
              "#bd3786"
             ],
             [
              0.5555555555555556,
              "#d8576b"
             ],
             [
              0.6666666666666666,
              "#ed7953"
             ],
             [
              0.7777777777777778,
              "#fb9f3a"
             ],
             [
              0.8888888888888888,
              "#fdca26"
             ],
             [
              1,
              "#f0f921"
             ]
            ],
            "type": "contour"
           }
          ],
          "contourcarpet": [
           {
            "colorbar": {
             "outlinewidth": 0,
             "ticks": ""
            },
            "type": "contourcarpet"
           }
          ],
          "heatmap": [
           {
            "colorbar": {
             "outlinewidth": 0,
             "ticks": ""
            },
            "colorscale": [
             [
              0,
              "#0d0887"
             ],
             [
              0.1111111111111111,
              "#46039f"
             ],
             [
              0.2222222222222222,
              "#7201a8"
             ],
             [
              0.3333333333333333,
              "#9c179e"
             ],
             [
              0.4444444444444444,
              "#bd3786"
             ],
             [
              0.5555555555555556,
              "#d8576b"
             ],
             [
              0.6666666666666666,
              "#ed7953"
             ],
             [
              0.7777777777777778,
              "#fb9f3a"
             ],
             [
              0.8888888888888888,
              "#fdca26"
             ],
             [
              1,
              "#f0f921"
             ]
            ],
            "type": "heatmap"
           }
          ],
          "heatmapgl": [
           {
            "colorbar": {
             "outlinewidth": 0,
             "ticks": ""
            },
            "colorscale": [
             [
              0,
              "#0d0887"
             ],
             [
              0.1111111111111111,
              "#46039f"
             ],
             [
              0.2222222222222222,
              "#7201a8"
             ],
             [
              0.3333333333333333,
              "#9c179e"
             ],
             [
              0.4444444444444444,
              "#bd3786"
             ],
             [
              0.5555555555555556,
              "#d8576b"
             ],
             [
              0.6666666666666666,
              "#ed7953"
             ],
             [
              0.7777777777777778,
              "#fb9f3a"
             ],
             [
              0.8888888888888888,
              "#fdca26"
             ],
             [
              1,
              "#f0f921"
             ]
            ],
            "type": "heatmapgl"
           }
          ],
          "histogram": [
           {
            "marker": {
             "pattern": {
              "fillmode": "overlay",
              "size": 10,
              "solidity": 0.2
             }
            },
            "type": "histogram"
           }
          ],
          "histogram2d": [
           {
            "colorbar": {
             "outlinewidth": 0,
             "ticks": ""
            },
            "colorscale": [
             [
              0,
              "#0d0887"
             ],
             [
              0.1111111111111111,
              "#46039f"
             ],
             [
              0.2222222222222222,
              "#7201a8"
             ],
             [
              0.3333333333333333,
              "#9c179e"
             ],
             [
              0.4444444444444444,
              "#bd3786"
             ],
             [
              0.5555555555555556,
              "#d8576b"
             ],
             [
              0.6666666666666666,
              "#ed7953"
             ],
             [
              0.7777777777777778,
              "#fb9f3a"
             ],
             [
              0.8888888888888888,
              "#fdca26"
             ],
             [
              1,
              "#f0f921"
             ]
            ],
            "type": "histogram2d"
           }
          ],
          "histogram2dcontour": [
           {
            "colorbar": {
             "outlinewidth": 0,
             "ticks": ""
            },
            "colorscale": [
             [
              0,
              "#0d0887"
             ],
             [
              0.1111111111111111,
              "#46039f"
             ],
             [
              0.2222222222222222,
              "#7201a8"
             ],
             [
              0.3333333333333333,
              "#9c179e"
             ],
             [
              0.4444444444444444,
              "#bd3786"
             ],
             [
              0.5555555555555556,
              "#d8576b"
             ],
             [
              0.6666666666666666,
              "#ed7953"
             ],
             [
              0.7777777777777778,
              "#fb9f3a"
             ],
             [
              0.8888888888888888,
              "#fdca26"
             ],
             [
              1,
              "#f0f921"
             ]
            ],
            "type": "histogram2dcontour"
           }
          ],
          "mesh3d": [
           {
            "colorbar": {
             "outlinewidth": 0,
             "ticks": ""
            },
            "type": "mesh3d"
           }
          ],
          "parcoords": [
           {
            "line": {
             "colorbar": {
              "outlinewidth": 0,
              "ticks": ""
             }
            },
            "type": "parcoords"
           }
          ],
          "pie": [
           {
            "automargin": true,
            "type": "pie"
           }
          ],
          "scatter": [
           {
            "marker": {
             "colorbar": {
              "outlinewidth": 0,
              "ticks": ""
             }
            },
            "type": "scatter"
           }
          ],
          "scatter3d": [
           {
            "line": {
             "colorbar": {
              "outlinewidth": 0,
              "ticks": ""
             }
            },
            "marker": {
             "colorbar": {
              "outlinewidth": 0,
              "ticks": ""
             }
            },
            "type": "scatter3d"
           }
          ],
          "scattercarpet": [
           {
            "marker": {
             "colorbar": {
              "outlinewidth": 0,
              "ticks": ""
             }
            },
            "type": "scattercarpet"
           }
          ],
          "scattergeo": [
           {
            "marker": {
             "colorbar": {
              "outlinewidth": 0,
              "ticks": ""
             }
            },
            "type": "scattergeo"
           }
          ],
          "scattergl": [
           {
            "marker": {
             "colorbar": {
              "outlinewidth": 0,
              "ticks": ""
             }
            },
            "type": "scattergl"
           }
          ],
          "scattermapbox": [
           {
            "marker": {
             "colorbar": {
              "outlinewidth": 0,
              "ticks": ""
             }
            },
            "type": "scattermapbox"
           }
          ],
          "scatterpolar": [
           {
            "marker": {
             "colorbar": {
              "outlinewidth": 0,
              "ticks": ""
             }
            },
            "type": "scatterpolar"
           }
          ],
          "scatterpolargl": [
           {
            "marker": {
             "colorbar": {
              "outlinewidth": 0,
              "ticks": ""
             }
            },
            "type": "scatterpolargl"
           }
          ],
          "scatterternary": [
           {
            "marker": {
             "colorbar": {
              "outlinewidth": 0,
              "ticks": ""
             }
            },
            "type": "scatterternary"
           }
          ],
          "surface": [
           {
            "colorbar": {
             "outlinewidth": 0,
             "ticks": ""
            },
            "colorscale": [
             [
              0,
              "#0d0887"
             ],
             [
              0.1111111111111111,
              "#46039f"
             ],
             [
              0.2222222222222222,
              "#7201a8"
             ],
             [
              0.3333333333333333,
              "#9c179e"
             ],
             [
              0.4444444444444444,
              "#bd3786"
             ],
             [
              0.5555555555555556,
              "#d8576b"
             ],
             [
              0.6666666666666666,
              "#ed7953"
             ],
             [
              0.7777777777777778,
              "#fb9f3a"
             ],
             [
              0.8888888888888888,
              "#fdca26"
             ],
             [
              1,
              "#f0f921"
             ]
            ],
            "type": "surface"
           }
          ],
          "table": [
           {
            "cells": {
             "fill": {
              "color": "#EBF0F8"
             },
             "line": {
              "color": "white"
             }
            },
            "header": {
             "fill": {
              "color": "#C8D4E3"
             },
             "line": {
              "color": "white"
             }
            },
            "type": "table"
           }
          ]
         },
         "layout": {
          "annotationdefaults": {
           "arrowcolor": "#2a3f5f",
           "arrowhead": 0,
           "arrowwidth": 1
          },
          "autotypenumbers": "strict",
          "coloraxis": {
           "colorbar": {
            "outlinewidth": 0,
            "ticks": ""
           }
          },
          "colorscale": {
           "diverging": [
            [
             0,
             "#8e0152"
            ],
            [
             0.1,
             "#c51b7d"
            ],
            [
             0.2,
             "#de77ae"
            ],
            [
             0.3,
             "#f1b6da"
            ],
            [
             0.4,
             "#fde0ef"
            ],
            [
             0.5,
             "#f7f7f7"
            ],
            [
             0.6,
             "#e6f5d0"
            ],
            [
             0.7,
             "#b8e186"
            ],
            [
             0.8,
             "#7fbc41"
            ],
            [
             0.9,
             "#4d9221"
            ],
            [
             1,
             "#276419"
            ]
           ],
           "sequential": [
            [
             0,
             "#0d0887"
            ],
            [
             0.1111111111111111,
             "#46039f"
            ],
            [
             0.2222222222222222,
             "#7201a8"
            ],
            [
             0.3333333333333333,
             "#9c179e"
            ],
            [
             0.4444444444444444,
             "#bd3786"
            ],
            [
             0.5555555555555556,
             "#d8576b"
            ],
            [
             0.6666666666666666,
             "#ed7953"
            ],
            [
             0.7777777777777778,
             "#fb9f3a"
            ],
            [
             0.8888888888888888,
             "#fdca26"
            ],
            [
             1,
             "#f0f921"
            ]
           ],
           "sequentialminus": [
            [
             0,
             "#0d0887"
            ],
            [
             0.1111111111111111,
             "#46039f"
            ],
            [
             0.2222222222222222,
             "#7201a8"
            ],
            [
             0.3333333333333333,
             "#9c179e"
            ],
            [
             0.4444444444444444,
             "#bd3786"
            ],
            [
             0.5555555555555556,
             "#d8576b"
            ],
            [
             0.6666666666666666,
             "#ed7953"
            ],
            [
             0.7777777777777778,
             "#fb9f3a"
            ],
            [
             0.8888888888888888,
             "#fdca26"
            ],
            [
             1,
             "#f0f921"
            ]
           ]
          },
          "colorway": [
           "#636efa",
           "#EF553B",
           "#00cc96",
           "#ab63fa",
           "#FFA15A",
           "#19d3f3",
           "#FF6692",
           "#B6E880",
           "#FF97FF",
           "#FECB52"
          ],
          "font": {
           "color": "#2a3f5f"
          },
          "geo": {
           "bgcolor": "white",
           "lakecolor": "white",
           "landcolor": "#E5ECF6",
           "showlakes": true,
           "showland": true,
           "subunitcolor": "white"
          },
          "hoverlabel": {
           "align": "left"
          },
          "hovermode": "closest",
          "mapbox": {
           "style": "light"
          },
          "paper_bgcolor": "white",
          "plot_bgcolor": "#E5ECF6",
          "polar": {
           "angularaxis": {
            "gridcolor": "white",
            "linecolor": "white",
            "ticks": ""
           },
           "bgcolor": "#E5ECF6",
           "radialaxis": {
            "gridcolor": "white",
            "linecolor": "white",
            "ticks": ""
           }
          },
          "scene": {
           "xaxis": {
            "backgroundcolor": "#E5ECF6",
            "gridcolor": "white",
            "gridwidth": 2,
            "linecolor": "white",
            "showbackground": true,
            "ticks": "",
            "zerolinecolor": "white"
           },
           "yaxis": {
            "backgroundcolor": "#E5ECF6",
            "gridcolor": "white",
            "gridwidth": 2,
            "linecolor": "white",
            "showbackground": true,
            "ticks": "",
            "zerolinecolor": "white"
           },
           "zaxis": {
            "backgroundcolor": "#E5ECF6",
            "gridcolor": "white",
            "gridwidth": 2,
            "linecolor": "white",
            "showbackground": true,
            "ticks": "",
            "zerolinecolor": "white"
           }
          },
          "shapedefaults": {
           "line": {
            "color": "#2a3f5f"
           }
          },
          "ternary": {
           "aaxis": {
            "gridcolor": "white",
            "linecolor": "white",
            "ticks": ""
           },
           "baxis": {
            "gridcolor": "white",
            "linecolor": "white",
            "ticks": ""
           },
           "bgcolor": "#E5ECF6",
           "caxis": {
            "gridcolor": "white",
            "linecolor": "white",
            "ticks": ""
           }
          },
          "title": {
           "x": 0.05
          },
          "xaxis": {
           "automargin": true,
           "gridcolor": "white",
           "linecolor": "white",
           "ticks": "",
           "title": {
            "standoff": 15
           },
           "zerolinecolor": "white",
           "zerolinewidth": 2
          },
          "yaxis": {
           "automargin": true,
           "gridcolor": "white",
           "linecolor": "white",
           "ticks": "",
           "title": {
            "standoff": 15
           },
           "zerolinecolor": "white",
           "zerolinewidth": 2
          }
         }
        },
        "title": {
         "text": "Top Unique Terms by Review Sentiment for Select Cookie Brands",
         "x": 0.5,
         "xanchor": "center",
         "y": 0.99,
         "yanchor": "top"
        },
        "width": 800,
        "xaxis": {
         "anchor": "y",
         "automargin": true,
         "autorange": true,
         "domain": [
          0,
          0.35
         ],
         "range": [
          0,
          157.232758320428
         ],
         "showticklabels": false,
         "type": "linear"
        },
        "xaxis2": {
         "anchor": "y2",
         "automargin": true,
         "autorange": true,
         "domain": [
          0.6499999999999999,
          0.9999999999999999
         ],
         "range": [
          0,
          111.14729467478529
         ],
         "showticklabels": false,
         "type": "linear"
        },
        "xaxis3": {
         "anchor": "y3",
         "automargin": true,
         "autorange": true,
         "domain": [
          0,
          0.35
         ],
         "range": [
          0,
          379.5273476699985
         ],
         "showticklabels": false,
         "type": "linear"
        },
        "xaxis4": {
         "anchor": "y4",
         "automargin": true,
         "domain": [
          0.6499999999999999,
          0.9999999999999999
         ],
         "showticklabels": false
        },
        "yaxis": {
         "anchor": "x",
         "automargin": true,
         "autorange": true,
         "domain": [
          0.575,
          1
         ],
         "dtick": 0.3,
         "range": [
          -0.5,
          7.5
         ],
         "title": {
          "text": "Partake Foods"
         },
         "type": "category"
        },
        "yaxis2": {
         "anchor": "x2",
         "automargin": true,
         "autorange": true,
         "domain": [
          0.575,
          1
         ],
         "dtick": 0.3,
         "range": [
          -0.5,
          7.5
         ],
         "title": {
          "text": "Made Good"
         },
         "type": "category"
        },
        "yaxis3": {
         "anchor": "x3",
         "automargin": true,
         "autorange": true,
         "domain": [
          0,
          0.425
         ],
         "dtick": 0.3,
         "range": [
          -0.5,
          7.5
         ],
         "title": {
          "text": "Enjoy Life"
         },
         "type": "category"
        },
        "yaxis4": {
         "anchor": "x4",
         "domain": [
          0,
          0.425
         ]
        }
       }
      },
      "image/png": "[encoded data removed]",
      "text/html": [
       "<div>                            <div id=\"3eb88287-ff78-4d38-842d-01fa673db59f\" class=\"plotly-graph-div\" style=\"height:600px; width:800px;\"></div>            <script type=\"text/javascript\">                require([\"plotly\"], function(Plotly) {                    window.PLOTLYENV=window.PLOTLYENV || {};                                    if (document.getElementById(\"3eb88287-ff78-4d38-842d-01fa673db59f\")) {                    Plotly.newPlot(                        \"3eb88287-ff78-4d38-842d-01fa673db59f\",                        [{\"marker\":{\"color\":[4.071428571428571,4.514285714285714,4.457142857142857,3.6875,3.9607843137254903,4.478260869565218,4.58,4.094827586206897],\"coloraxis\":\"coloraxis\"},\"orientation\":\"h\",\"x\":[59.23337533278192,59.26015131959809,59.26015131959809,63.09642155013726,65.67178569504082,77.88477030575748,132.06548008367574,149.37112040440658],\"y\":[\"shortbread\",\"black_owned\",\"cookie_butter\",\"cookie_taste\",\"taste_birthday\",\"complimentary\",\"owned\",\"cake_flavor\"],\"type\":\"bar\",\"xaxis\":\"x\",\"yaxis\":\"y\"},{\"marker\":{\"color\":[4.825242718446602,4.430894308943089,4.705263157894737,4.857142857142857,3.6611570247933884,4.311111111111111,4.1875,4.2153284671532845],\"coloraxis\":\"coloraxis\"},\"orientation\":\"h\",\"x\":[136.49429967988877,158.38489491156903,162.54212933375476,191.32563140327383,204.87080884775338,234.3581371862241,243.81319400063214,360.5509802864986],\"y\":[\"vegan_chocolate\",\"chocolate_bar\",\"trail_mix\",\"dairy_chocolate\",\"life_product\",\"pancake\",\"mini_chip\",\"brownie\"],\"type\":\"bar\",\"xaxis\":\"x3\",\"yaxis\":\"y3\"},{\"marker\":{\"color\":[4.638297872340425,4.285714285714286,4.2894736842105265,4.842105263157895,4.703703703703703,4.6891891891891895,4.4576271186440675,4.5625],\"coloraxis\":\"coloraxis\"},\"orientation\":\"h\",\"x\":[60.5210574052337,63.09642155013726,64.33959286127792,64.33959286127792,69.53483191239616,95.28847336143178,99.89568365303678,105.58992994104602],\"y\":[\"costco\",\"rice_crispy\",\"crispy_square\",\"serving_vegetable\",\"mixed_berry\",\"strawberry\",\"granola_mini\",\"ball\"],\"type\":\"bar\",\"xaxis\":\"x2\",\"yaxis\":\"y2\"}],                        {\"template\":{\"data\":{\"bar\":[{\"error_x\":{\"color\":\"#2a3f5f\"},\"error_y\":{\"color\":\"#2a3f5f\"},\"marker\":{\"line\":{\"color\":\"#E5ECF6\",\"width\":0.5},\"pattern\":{\"fillmode\":\"overlay\",\"size\":10,\"solidity\":0.2}},\"type\":\"bar\"}],\"barpolar\":[{\"marker\":{\"line\":{\"color\":\"#E5ECF6\",\"width\":0.5},\"pattern\":{\"fillmode\":\"overlay\",\"size\":10,\"solidity\":0.2}},\"type\":\"barpolar\"}],\"carpet\":[{\"aaxis\":{\"endlinecolor\":\"#2a3f5f\",\"gridcolor\":\"white\",\"linecolor\":\"white\",\"minorgridcolor\":\"white\",\"startlinecolor\":\"#2a3f5f\"},\"baxis\":{\"endlinecolor\":\"#2a3f5f\",\"gridcolor\":\"white\",\"linecolor\":\"white\",\"minorgridcolor\":\"white\",\"startlinecolor\":\"#2a3f5f\"},\"type\":\"carpet\"}],\"choropleth\":[{\"colorbar\":{\"outlinewidth\":0,\"ticks\":\"\"},\"type\":\"choropleth\"}],\"contour\":[{\"colorbar\":{\"outlinewidth\":0,\"ticks\":\"\"},\"colorscale\":[[0.0,\"#0d0887\"],[0.1111111111111111,\"#46039f\"],[0.2222222222222222,\"#7201a8\"],[0.3333333333333333,\"#9c179e\"],[0.4444444444444444,\"#bd3786\"],[0.5555555555555556,\"#d8576b\"],[0.6666666666666666,\"#ed7953\"],[0.7777777777777778,\"#fb9f3a\"],[0.8888888888888888,\"#fdca26\"],[1.0,\"#f0f921\"]],\"type\":\"contour\"}],\"contourcarpet\":[{\"colorbar\":{\"outlinewidth\":0,\"ticks\":\"\"},\"type\":\"contourcarpet\"}],\"heatmap\":[{\"colorbar\":{\"outlinewidth\":0,\"ticks\":\"\"},\"colorscale\":[[0.0,\"#0d0887\"],[0.1111111111111111,\"#46039f\"],[0.2222222222222222,\"#7201a8\"],[0.3333333333333333,\"#9c179e\"],[0.4444444444444444,\"#bd3786\"],[0.5555555555555556,\"#d8576b\"],[0.6666666666666666,\"#ed7953\"],[0.7777777777777778,\"#fb9f3a\"],[0.8888888888888888,\"#fdca26\"],[1.0,\"#f0f921\"]],\"type\":\"heatmap\"}],\"heatmapgl\":[{\"colorbar\":{\"outlinewidth\":0,\"ticks\":\"\"},\"colorscale\":[[0.0,\"#0d0887\"],[0.1111111111111111,\"#46039f\"],[0.2222222222222222,\"#7201a8\"],[0.3333333333333333,\"#9c179e\"],[0.4444444444444444,\"#bd3786\"],[0.5555555555555556,\"#d8576b\"],[0.6666666666666666,\"#ed7953\"],[0.7777777777777778,\"#fb9f3a\"],[0.8888888888888888,\"#fdca26\"],[1.0,\"#f0f921\"]],\"type\":\"heatmapgl\"}],\"histogram\":[{\"marker\":{\"pattern\":{\"fillmode\":\"overlay\",\"size\":10,\"solidity\":0.2}},\"type\":\"histogram\"}],\"histogram2d\":[{\"colorbar\":{\"outlinewidth\":0,\"ticks\":\"\"},\"colorscale\":[[0.0,\"#0d0887\"],[0.1111111111111111,\"#46039f\"],[0.2222222222222222,\"#7201a8\"],[0.3333333333333333,\"#9c179e\"],[0.4444444444444444,\"#bd3786\"],[0.5555555555555556,\"#d8576b\"],[0.6666666666666666,\"#ed7953\"],[0.7777777777777778,\"#fb9f3a\"],[0.8888888888888888,\"#fdca26\"],[1.0,\"#f0f921\"]],\"type\":\"histogram2d\"}],\"histogram2dcontour\":[{\"colorbar\":{\"outlinewidth\":0,\"ticks\":\"\"},\"colorscale\":[[0.0,\"#0d0887\"],[0.1111111111111111,\"#46039f\"],[0.2222222222222222,\"#7201a8\"],[0.3333333333333333,\"#9c179e\"],[0.4444444444444444,\"#bd3786\"],[0.5555555555555556,\"#d8576b\"],[0.6666666666666666,\"#ed7953\"],[0.7777777777777778,\"#fb9f3a\"],[0.8888888888888888,\"#fdca26\"],[1.0,\"#f0f921\"]],\"type\":\"histogram2dcontour\"}],\"mesh3d\":[{\"colorbar\":{\"outlinewidth\":0,\"ticks\":\"\"},\"type\":\"mesh3d\"}],\"parcoords\":[{\"line\":{\"colorbar\":{\"outlinewidth\":0,\"ticks\":\"\"}},\"type\":\"parcoords\"}],\"pie\":[{\"automargin\":true,\"type\":\"pie\"}],\"scatter\":[{\"marker\":{\"colorbar\":{\"outlinewidth\":0,\"ticks\":\"\"}},\"type\":\"scatter\"}],\"scatter3d\":[{\"line\":{\"colorbar\":{\"outlinewidth\":0,\"ticks\":\"\"}},\"marker\":{\"colorbar\":{\"outlinewidth\":0,\"ticks\":\"\"}},\"type\":\"scatter3d\"}],\"scattercarpet\":[{\"marker\":{\"colorbar\":{\"outlinewidth\":0,\"ticks\":\"\"}},\"type\":\"scattercarpet\"}],\"scattergeo\":[{\"marker\":{\"colorbar\":{\"outlinewidth\":0,\"ticks\":\"\"}},\"type\":\"scattergeo\"}],\"scattergl\":[{\"marker\":{\"colorbar\":{\"outlinewidth\":0,\"ticks\":\"\"}},\"type\":\"scattergl\"}],\"scattermapbox\":[{\"marker\":{\"colorbar\":{\"outlinewidth\":0,\"ticks\":\"\"}},\"type\":\"scattermapbox\"}],\"scatterpolar\":[{\"marker\":{\"colorbar\":{\"outlinewidth\":0,\"ticks\":\"\"}},\"type\":\"scatterpolar\"}],\"scatterpolargl\":[{\"marker\":{\"colorbar\":{\"outlinewidth\":0,\"ticks\":\"\"}},\"type\":\"scatterpolargl\"}],\"scatterternary\":[{\"marker\":{\"colorbar\":{\"outlinewidth\":0,\"ticks\":\"\"}},\"type\":\"scatterternary\"}],\"surface\":[{\"colorbar\":{\"outlinewidth\":0,\"ticks\":\"\"},\"colorscale\":[[0.0,\"#0d0887\"],[0.1111111111111111,\"#46039f\"],[0.2222222222222222,\"#7201a8\"],[0.3333333333333333,\"#9c179e\"],[0.4444444444444444,\"#bd3786\"],[0.5555555555555556,\"#d8576b\"],[0.6666666666666666,\"#ed7953\"],[0.7777777777777778,\"#fb9f3a\"],[0.8888888888888888,\"#fdca26\"],[1.0,\"#f0f921\"]],\"type\":\"surface\"}],\"table\":[{\"cells\":{\"fill\":{\"color\":\"#EBF0F8\"},\"line\":{\"color\":\"white\"}},\"header\":{\"fill\":{\"color\":\"#C8D4E3\"},\"line\":{\"color\":\"white\"}},\"type\":\"table\"}]},\"layout\":{\"annotationdefaults\":{\"arrowcolor\":\"#2a3f5f\",\"arrowhead\":0,\"arrowwidth\":1},\"autotypenumbers\":\"strict\",\"coloraxis\":{\"colorbar\":{\"outlinewidth\":0,\"ticks\":\"\"}},\"colorscale\":{\"diverging\":[[0,\"#8e0152\"],[0.1,\"#c51b7d\"],[0.2,\"#de77ae\"],[0.3,\"#f1b6da\"],[0.4,\"#fde0ef\"],[0.5,\"#f7f7f7\"],[0.6,\"#e6f5d0\"],[0.7,\"#b8e186\"],[0.8,\"#7fbc41\"],[0.9,\"#4d9221\"],[1,\"#276419\"]],\"sequential\":[[0.0,\"#0d0887\"],[0.1111111111111111,\"#46039f\"],[0.2222222222222222,\"#7201a8\"],[0.3333333333333333,\"#9c179e\"],[0.4444444444444444,\"#bd3786\"],[0.5555555555555556,\"#d8576b\"],[0.6666666666666666,\"#ed7953\"],[0.7777777777777778,\"#fb9f3a\"],[0.8888888888888888,\"#fdca26\"],[1.0,\"#f0f921\"]],\"sequentialminus\":[[0.0,\"#0d0887\"],[0.1111111111111111,\"#46039f\"],[0.2222222222222222,\"#7201a8\"],[0.3333333333333333,\"#9c179e\"],[0.4444444444444444,\"#bd3786\"],[0.5555555555555556,\"#d8576b\"],[0.6666666666666666,\"#ed7953\"],[0.7777777777777778,\"#fb9f3a\"],[0.8888888888888888,\"#fdca26\"],[1.0,\"#f0f921\"]]},\"colorway\":[\"#636efa\",\"#EF553B\",\"#00cc96\",\"#ab63fa\",\"#FFA15A\",\"#19d3f3\",\"#FF6692\",\"#B6E880\",\"#FF97FF\",\"#FECB52\"],\"font\":{\"color\":\"#2a3f5f\"},\"geo\":{\"bgcolor\":\"white\",\"lakecolor\":\"white\",\"landcolor\":\"#E5ECF6\",\"showlakes\":true,\"showland\":true,\"subunitcolor\":\"white\"},\"hoverlabel\":{\"align\":\"left\"},\"hovermode\":\"closest\",\"mapbox\":{\"style\":\"light\"},\"paper_bgcolor\":\"white\",\"plot_bgcolor\":\"#E5ECF6\",\"polar\":{\"angularaxis\":{\"gridcolor\":\"white\",\"linecolor\":\"white\",\"ticks\":\"\"},\"bgcolor\":\"#E5ECF6\",\"radialaxis\":{\"gridcolor\":\"white\",\"linecolor\":\"white\",\"ticks\":\"\"}},\"scene\":{\"xaxis\":{\"backgroundcolor\":\"#E5ECF6\",\"gridcolor\":\"white\",\"gridwidth\":2,\"linecolor\":\"white\",\"showbackground\":true,\"ticks\":\"\",\"zerolinecolor\":\"white\"},\"yaxis\":{\"backgroundcolor\":\"#E5ECF6\",\"gridcolor\":\"white\",\"gridwidth\":2,\"linecolor\":\"white\",\"showbackground\":true,\"ticks\":\"\",\"zerolinecolor\":\"white\"},\"zaxis\":{\"backgroundcolor\":\"#E5ECF6\",\"gridcolor\":\"white\",\"gridwidth\":2,\"linecolor\":\"white\",\"showbackground\":true,\"ticks\":\"\",\"zerolinecolor\":\"white\"}},\"shapedefaults\":{\"line\":{\"color\":\"#2a3f5f\"}},\"ternary\":{\"aaxis\":{\"gridcolor\":\"white\",\"linecolor\":\"white\",\"ticks\":\"\"},\"baxis\":{\"gridcolor\":\"white\",\"linecolor\":\"white\",\"ticks\":\"\"},\"bgcolor\":\"#E5ECF6\",\"caxis\":{\"gridcolor\":\"white\",\"linecolor\":\"white\",\"ticks\":\"\"}},\"title\":{\"x\":0.05},\"xaxis\":{\"automargin\":true,\"gridcolor\":\"white\",\"linecolor\":\"white\",\"ticks\":\"\",\"title\":{\"standoff\":15},\"zerolinecolor\":\"white\",\"zerolinewidth\":2},\"yaxis\":{\"automargin\":true,\"gridcolor\":\"white\",\"linecolor\":\"white\",\"ticks\":\"\",\"title\":{\"standoff\":15},\"zerolinecolor\":\"white\",\"zerolinewidth\":2}}},\"xaxis\":{\"anchor\":\"y\",\"domain\":[0.0,0.35],\"automargin\":true,\"showticklabels\":false},\"yaxis\":{\"anchor\":\"x\",\"domain\":[0.575,1.0],\"title\":{\"text\":\"Partake Foods\"},\"automargin\":true,\"dtick\":0.3},\"xaxis2\":{\"anchor\":\"y2\",\"domain\":[0.6499999999999999,0.9999999999999999],\"automargin\":true,\"showticklabels\":false},\"yaxis2\":{\"anchor\":\"x2\",\"domain\":[0.575,1.0],\"title\":{\"text\":\"Made Good\"},\"automargin\":true,\"dtick\":0.3},\"xaxis3\":{\"anchor\":\"y3\",\"domain\":[0.0,0.35],\"automargin\":true,\"showticklabels\":false},\"yaxis3\":{\"anchor\":\"x3\",\"domain\":[0.0,0.425],\"title\":{\"text\":\"Enjoy Life\"},\"automargin\":true,\"dtick\":0.3},\"xaxis4\":{\"anchor\":\"y4\",\"domain\":[0.6499999999999999,0.9999999999999999],\"automargin\":true,\"showticklabels\":false},\"yaxis4\":{\"anchor\":\"x4\",\"domain\":[0.0,0.425]},\"margin\":{\"t\":100},\"title\":{\"y\":0.99,\"x\":0.5,\"xanchor\":\"center\",\"yanchor\":\"top\",\"text\":\"Top Unique Terms by Review Sentiment for Select Cookie Brands\"},\"coloraxis\":{\"colorbar\":{\"title\":{\"text\":\"<b>average rating</b>\"}},\"colorscale\":[[0.0,\"rgb(165,0,38)\"],[0.1,\"rgb(215,48,39)\"],[0.2,\"rgb(244,109,67)\"],[0.3,\"rgb(253,174,97)\"],[0.4,\"rgb(254,224,139)\"],[0.5,\"rgb(255,255,191)\"],[0.6,\"rgb(217,239,139)\"],[0.7,\"rgb(166,217,106)\"],[0.8,\"rgb(102,189,99)\"],[0.9,\"rgb(26,152,80)\"],[1.0,\"rgb(0,104,55)\"]],\"cmin\":1,\"cmax\":5},\"font\":{\"size\":12},\"autosize\":true,\"width\":800,\"height\":600,\"plot_bgcolor\":\"white\",\"showlegend\":false},                        {\"responsive\": true}                    ).then(function(){\n",
       "                            \n",
       "var gd = document.getElementById('3eb88287-ff78-4d38-842d-01fa673db59f');\n",
       "var x = new MutationObserver(function (mutations, observer) {{\n",
       "        var display = window.getComputedStyle(gd).display;\n",
       "        if (!display || display === 'none') {{\n",
       "            console.log([gd, 'removed!']);\n",
       "            Plotly.purge(gd);\n",
       "            observer.disconnect();\n",
       "        }}\n",
       "}});\n",
       "\n",
       "// Listen for the removal of the full notebook cells\n",
       "var notebookContainer = gd.closest('#notebook-container');\n",
       "if (notebookContainer) {{\n",
       "    x.observe(notebookContainer, {childList: true});\n",
       "}}\n",
       "\n",
       "// Listen for the clearing of the current output cell\n",
       "var outputEl = gd.closest('.output');\n",
       "if (outputEl) {{\n",
       "    x.observe(outputEl, {childList: true});\n",
       "}}\n",
       "\n",
       "                        })                };                });            </script>        </div>"
      ]
     },
     "metadata": {},
     "output_type": "display_data"
    }
   ],
   "source": [
    "avg_rating_tfidf['normalized_url_cat'] = pd.Categorical(\n",
    "    avg_rating_tfidf['normalized_url'], \n",
    "    categories=NORMALIZED_URL_LI, \n",
    "    ordered=True\n",
    ")\n",
    "\n",
    "n_brands = len(grouped_sdf['normalized_url'])\n",
    "\n",
    "fig = make_subplots(\n",
    "    rows=math.ceil(n_brands/2),\n",
    "    cols=2,\n",
    "    horizontal_spacing = 0.3\n",
    ")\n",
    "\n",
    "# Loop through\n",
    "# If j is greater than (number of brands/2)-1, then the graph will be shown in the second column\n",
    "j = 0\n",
    "\n",
    "for url, data in avg_rating_tfidf.sort_values(['normalized_url_cat', 'tfidf']).groupby('normalized_url', sort = False):\n",
    "    if j <= math.ceil(n_brands/2)-1:\n",
    "        fig.add_trace(\n",
    "            go.Bar(\n",
    "                orientation='h',\n",
    "                x=data.tfidf,\n",
    "                y=data.unibi_word,\n",
    "                marker=dict(color=data.avg_rating, coloraxis=\"coloraxis\")\n",
    "            ),\n",
    "            row=j+1, col=1\n",
    "        )\n",
    "        j += 1\n",
    "        fig.update_yaxes(automargin = True,title_text=brand_name_di.get(url), row=j, col=1, dtick =.3)#use dtick if not all term labels show up \n",
    "        fig.update_xaxes(automargin = True,showticklabels=False)\n",
    "        \n",
    "    else:\n",
    "        fig.add_trace(\n",
    "            go.Bar(\n",
    "                orientation='h',\n",
    "                x=data.tfidf,\n",
    "                y=data.unibi_word,\n",
    "                marker=dict(color=data.avg_rating, coloraxis=\"coloraxis\")\n",
    "            ),\n",
    "            row=j-math.ceil(n_brands/2)+1, col=2\n",
    "        )\n",
    "        j += 1\n",
    "        fig.update_yaxes(automargin = True,title_text=brand_name_di.get(url), row=j-round(n_brands/2), col=2, dtick =.3)#use dtick if not all term labels show up \n",
    "        fig.update_xaxes(automargin = True,showticklabels=False)\n",
    "  \n",
    "    \n",
    "fig.update_layout(\n",
    "    autosize = True,\n",
    "    width=800,\n",
    "    height=600,\n",
    "    margin=dict(t=100),\n",
    "    plot_bgcolor=\"white\",\n",
    "    title={\"y\": 0.99, \"x\": 0.5, 'xanchor': 'center', 'yanchor': 'top'},\n",
    "    coloraxis=dict(colorscale='RdYlGn', colorbar_title_text='<b>average rating</b>'),\n",
    "    title_text=f\"Top Unique Terms by Review Sentiment for Select {GROUP_NAME} Brands\",\n",
    "    showlegend=False,\n",
    "    font=dict(\n",
    "        size=12,\n",
    "    ),\n",
    ")\n",
    "\n",
    "\n",
    "# Change width,height,margin for the layout of the chart\n",
    "#fig.update_yaxes(title_text=\"Gardein\", row=2, col=2)\n",
    "#fig.update_yaxes(title_text=\"Beyond Meat\", row=1, col=2)\n",
    "fig.update_coloraxes(cmin=1,cmax=5)\n",
    "fig.show()"
   ]
  },
  {
   "cell_type": "code",
   "execution_count": 330,
   "id": "03e50385-2060-443a-b4e8-51d3c0810c5c",
   "metadata": {},
   "outputs": [
    {
     "data": {
      "text/plain": [
       "3"
      ]
     },
     "execution_count": 330,
     "metadata": {},
     "output_type": "execute_result"
    }
   ],
   "source": [
    "len(grouped_sdf['normalized_url'])"
   ]
  },
  {
   "cell_type": "code",
   "execution_count": null,
   "id": "d904e5a6-30c8-4680-8d4b-6c93d299e7a8",
   "metadata": {},
   "outputs": [],
   "source": []
  },
  {
   "cell_type": "code",
   "execution_count": 331,
   "id": "bde92d43-7ca2-4442-9871-aa95e6f2617c",
   "metadata": {},
   "outputs": [
    {
     "data": {
      "text/plain": [
       "3"
      ]
     },
     "execution_count": 331,
     "metadata": {},
     "output_type": "execute_result"
    }
   ],
   "source": [
    "len(grouped_sdf['normalized_url'])"
   ]
  },
  {
   "cell_type": "code",
   "execution_count": 332,
   "id": "5ef69d1f-0546-4bf4-8868-67d9d939be34",
   "metadata": {},
   "outputs": [
    {
     "data": {
      "text/plain": [
       "0    enjoylifefoods.com\n",
       "1     madegoodfoods.com\n",
       "2      partakefoods.com\n",
       "Name: normalized_url, dtype: object"
      ]
     },
     "execution_count": 332,
     "metadata": {},
     "output_type": "execute_result"
    }
   ],
   "source": [
    "grouped_sdf['normalized_url']"
   ]
  },
  {
   "cell_type": "code",
   "execution_count": 333,
   "id": "be0e5048-01f7-436c-ae43-aca0b6af98dc",
   "metadata": {},
   "outputs": [
    {
     "data": {
      "text/html": [
       "<div>\n",
       "<style scoped>\n",
       "    .dataframe tbody tr th:only-of-type {\n",
       "        vertical-align: middle;\n",
       "    }\n",
       "\n",
       "    .dataframe tbody tr th {\n",
       "        vertical-align: top;\n",
       "    }\n",
       "\n",
       "    .dataframe thead th {\n",
       "        text-align: right;\n",
       "    }\n",
       "</style>\n",
       "<table border=\"1\" class=\"dataframe\">\n",
       "  <thead>\n",
       "    <tr style=\"text-align: right;\">\n",
       "      <th></th>\n",
       "      <th>review_source_id</th>\n",
       "    </tr>\n",
       "    <tr>\n",
       "      <th>parent_category</th>\n",
       "      <th></th>\n",
       "    </tr>\n",
       "  </thead>\n",
       "  <tbody>\n",
       "    <tr>\n",
       "      <th>Food</th>\n",
       "      <td>14601</td>\n",
       "    </tr>\n",
       "    <tr>\n",
       "      <th>Household Consumables</th>\n",
       "      <td>6</td>\n",
       "    </tr>\n",
       "    <tr>\n",
       "      <th>Household Durables</th>\n",
       "      <td>31</td>\n",
       "    </tr>\n",
       "    <tr>\n",
       "      <th>Other</th>\n",
       "      <td>25</td>\n",
       "    </tr>\n",
       "    <tr>\n",
       "      <th>Personal Care &amp; Beauty</th>\n",
       "      <td>49</td>\n",
       "    </tr>\n",
       "    <tr>\n",
       "      <th>Sports &amp; Outdoors</th>\n",
       "      <td>146</td>\n",
       "    </tr>\n",
       "  </tbody>\n",
       "</table>\n",
       "</div>"
      ],
      "text/plain": [
       "                        review_source_id\n",
       "parent_category                         \n",
       "Food                               14601\n",
       "Household Consumables                  6\n",
       "Household Durables                    31\n",
       "Other                                 25\n",
       "Personal Care & Beauty                49\n",
       "Sports & Outdoors                    146"
      ]
     },
     "execution_count": 333,
     "metadata": {},
     "output_type": "execute_result"
    }
   ],
   "source": [
    "reviews.groupby('parent_category').agg({'review_source_id':'count'})"
   ]
  },
  {
   "cell_type": "code",
   "execution_count": null,
   "id": "b9ad42a9-04eb-44a7-b09f-bd2a8d8cfaf3",
   "metadata": {},
   "outputs": [],
   "source": []
  },
  {
   "cell_type": "code",
   "execution_count": null,
   "id": "b34e3bd1-4058-4e60-8455-2b2326a84dea",
   "metadata": {},
   "outputs": [],
   "source": []
  },
  {
   "cell_type": "code",
   "execution_count": null,
   "id": "6cbb4ba0-2671-447f-8783-f188e4cd9a1b",
   "metadata": {},
   "outputs": [],
   "source": []
  },
  {
   "cell_type": "code",
   "execution_count": null,
   "id": "91dbdd4a-7232-4194-a979-e104d4b1eb64",
   "metadata": {},
   "outputs": [],
   "source": []
  },
  {
   "cell_type": "code",
   "execution_count": null,
   "id": "33c7fbcd-c99d-45e1-82f0-6467f096b449",
   "metadata": {},
   "outputs": [],
   "source": []
  },
  {
   "cell_type": "code",
   "execution_count": null,
   "id": "1b9a30dd-e47d-4943-9cd7-c64b877eb902",
   "metadata": {},
   "outputs": [],
   "source": []
  },
  {
   "cell_type": "code",
   "execution_count": null,
   "id": "724276d1-c705-4b33-aa28-3449b2c64368",
   "metadata": {},
   "outputs": [],
   "source": []
  },
  {
   "cell_type": "code",
   "execution_count": null,
   "id": "9f3ba27f-04df-4bad-9eea-fdd1acf1e035",
   "metadata": {},
   "outputs": [],
   "source": []
  },
  {
   "cell_type": "code",
   "execution_count": null,
   "id": "da79d03a-4137-470e-a5f9-60c5a5fbba00",
   "metadata": {},
   "outputs": [],
   "source": []
  },
  {
   "cell_type": "code",
   "execution_count": null,
   "id": "367776fd-f706-462e-92ac-a959604c67f7",
   "metadata": {},
   "outputs": [],
   "source": []
  }
 ],
 "metadata": {
  "environment": {
   "kernel": "python3",
   "name": "common-cpu.m87",
   "type": "gcloud",
   "uri": "gcr.io/deeplearning-platform-release/base-cpu:m87"
  },
  "kernelspec": {
   "display_name": "Python 3",
   "language": "python",
   "name": "python3"
  },
  "language_info": {
   "codemirror_mode": {
    "name": "ipython",
    "version": 3
   },
   "file_extension": ".py",
   "mimetype": "text/x-python",
   "name": "python",
   "nbconvert_exporter": "python",
   "pygments_lexer": "ipython3",
   "version": "3.7.12"
  },
  "toc-autonumbering": true
 },
 "nbformat": 4,
 "nbformat_minor": 5
}
