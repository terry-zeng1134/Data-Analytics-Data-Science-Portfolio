{
 "cells": [
  {
   "cell_type": "markdown",
   "id": "208f4558-985e-49d8-a84d-d66fe28a417f",
   "metadata": {},
   "source": [
    "# Imports"
   ]
  },
  {
   "cell_type": "code",
   "execution_count": 134,
   "id": "5f2cf8f5-fd3e-4a92-8ff5-df6f9b8af487",
   "metadata": {},
   "outputs": [
    {
     "name": "stderr",
     "output_type": "stream",
     "text": [
      "[nltk_data] Downloading package stopwords to\n",
      "[nltk_data]     /home/jupyter/nltk_data...\n",
      "[nltk_data]   Package stopwords is already up-to-date!\n",
      "[nltk_data] Downloading package punkt to /home/jupyter/nltk_data...\n",
      "[nltk_data]   Package punkt is already up-to-date!\n",
      "[nltk_data] Downloading package wordnet to /home/jupyter/nltk_data...\n",
      "[nltk_data]   Package wordnet is already up-to-date!\n",
      "[nltk_data] Downloading package omw-1.4 to /home/jupyter/nltk_data...\n",
      "[nltk_data]   Package omw-1.4 is already up-to-date!\n"
     ]
    }
   ],
   "source": [
    "# Imports\n",
    "import numpy as np\n",
    "import pandas as pd\n",
    "import pyspark\n",
    "import nltk\n",
    "nltk.download('stopwords')\n",
    "nltk.download('punkt')\n",
    "nltk.download('wordnet')\n",
    "nltk.download('omw-1.4')\n",
    "import contractions\n",
    "import math\n",
    "from itertools import chain\n",
    "from nltk.corpus import stopwords\n",
    "from nltk.tokenize import word_tokenize\n",
    "from nltk.util import bigrams\n",
    "from nltk.stem import WordNetLemmatizer\n",
    "\n",
    "import re\n",
    "import string\n",
    "import plotly.express as px\n",
    "from plotly.subplots import make_subplots\n",
    "import plotly.graph_objs as go\n",
    "\n",
    "from google.cloud import bigquery\n",
    "\n",
    "from sklearn.feature_extraction.text import TfidfVectorizer "
   ]
  },
  {
   "cell_type": "code",
   "execution_count": 135,
   "id": "af189897-3888-44b6-9873-2da63a1ef32b",
   "metadata": {},
   "outputs": [
    {
     "name": "stdout",
     "output_type": "stream",
     "text": [
      "Client creating using default project: helio-staging\n"
     ]
    }
   ],
   "source": [
    "client = bigquery.Client(location=\"US\")\n",
    "print(\"Client creating using default project: {}\".format(client.project))\n",
    "\n",
    "client = bigquery.Client(location=\"US\", project=\"helio-staging\")"
   ]
  },
  {
   "cell_type": "markdown",
   "id": "c86babbf-09b8-4dcd-b3c9-bfee960f2ca6",
   "metadata": {},
   "source": [
    "# Constants + Functions"
   ]
  },
  {
   "cell_type": "code",
   "execution_count": 136,
   "id": "7cbd1e64-230c-4216-97b0-eb65ec2088b2",
   "metadata": {},
   "outputs": [],
   "source": [
    "GROUP_CUSTOM_STOPWORDS = [\n",
    "    \"bike\", \"nbsp\", \"crn\",\"sample\", \"bikes\", \"great\", \"good\", \"love\",\"like\", \"recommend\",\"smells\",\"collected\",\"part\",\"review\",\"promotion\",\"razor\",\n",
    "    \"shave\",\"shaving\",\"blade\",\"camille\",\"cantu\",\"daughter\",\"today\",\"kccc\",\"jessie\",\"miss\",\"fabric\",\"pillow\",\"softener\",\"or\",    \"tiktok\",\"OR\",\n",
    "     'Proov', 'proov','Natalist', 'natalist','Stix', 'stix','Clear Blue', 'blue','Modern Fertility', 'modern', 'free', 'app', 'mf', 'android', 'pinchme',\n",
    "    'Pregmate', 'pregmate', 'received','First Response', 'test', 'ovulation', 'none', 'see', 'store', 'day', 'month', 'amy', 'face', 'far', 'scan',\n",
    "    'it‚äôs','don‚äôt', 'using_minoxidil', '_oz','i‚äôm','moreread','using','stating',\n",
    "    'doesn‚äôt', 'classic','order','ordering', 'best', 'hard', 'seltzer', 'claw','never','got','ordered','white','product','high-noon','bottle','girl',\n",
    "    'read_lessread','read_moreread','lessread_le','le_stating','moreread_stating','scalp detox','le_serum',\n",
    "    'moreread_serum','i’ve_stem','hair_read','don’t_know','i’ve_bought', 'liquid_kinda', \"i'ḿ\"'use_serum','le_mus','read_serum','ingredient_us','oz_extreme',\n",
    "    'cell_serum','cell','stem','le','read','lessread','moreread','more','multi-colored—from_brown','findin_read','strengthening_hair','hair_oil','care_oil',\n",
    "    'hair','oil_hair','extreme_hair','hair_care','extreme','oz','_strengthening','used twice', 'oil_oil', 'customer',    'nan', 'read_moreread', 'noreferrer',\n",
    "    'noreferrer_farmer','farmer_dog/a','noreferrer_ollie/a','rel','noopener','blank_rel',\n",
    "    'rel_nofollow','blank','nofollow','target_blank','noopener_noreferrer','nofollower_noopener','nofollow_noopener',\"partake\",\"partake_cooky\", \"crunchy_cooky\",\"cooky_vegan\",\"madegood\",\"apple_jack\"\n",
    "]\n",
    "\n",
    "added_stopwords_li = [\n",
    "    \"it’s\",    \"'d\",    \"'s\",\n",
    "    \"n't\",    \"'m\",\n",
    "    \"i've\",    \"it's\",    \"'ve\",\n",
    "    \"'re\",    \"'ll\",    \"``\",    \"''\",    \"...\",    \"--\", \"https\",\n",
    "    \"voxbox\",    \"influenster\",    \"cracker\",    \"or\",    'it‚äôs',\n",
    "    'don‚äôt',    'i‚äôm',    'doesn‚äôt',    \"get\", \"also\",    \"even\",    \"since\", \"amy\"\n",
    "]\n",
    "\n",
    "REV_COLS = ['source_name',\n",
    "    'normalized_url',\n",
    "    'review_source_id',\n",
    "    'reviewer_source_id',\n",
    "    'brand_name',\n",
    "    'product_name',\n",
    "    'product_source_id',\n",
    "    'review_date',\n",
    "    'review_rating',\n",
    "    'review_content'\n",
    "]\n",
    "\n",
    "product_categories = ['Accessories',\n",
    "'Alcoholic Beverages',\n",
    "'Apparel & Footwear',\n",
    "'Food',\n",
    "'Food Establishments',\n",
    "'Health & Beauty Establishments',\n",
    "'Household Consumables',\n",
    "'Household Durables',\n",
    "'Other',\n",
    "'Pet Products',\n",
    "'Non-Alcoholic Beverages',\n",
    "'Personal Care & Beauty',\n",
    "'Retailers',\n",
    "'Sports & Outdoors'\n",
    "]\n",
    "\n",
    "drop_words = [\n",
    "             ]\n",
    "\n",
    "MIN_TERM_PCT = 0\n",
    "\n",
    "MAX_TERM_PCT = 100\n",
    "\n",
    "TERM_PERCENT_HEAD = 1\n",
    "\n",
    "TOP_N_WORDS = 8\n",
    "\n",
    "np.random.seed(42) # set seed for models for reproducibility\n",
    "\n",
    "stopwords_li = stopwords.words('english')\n",
    "punkts_li = list(string.punctuation)\n",
    "\n",
    "REVIEWS_PER_BRAND_TO_ANALYZE = 10_000"
   ]
  },
  {
   "cell_type": "code",
   "execution_count": 137,
   "id": "439a907c-a3c2-4f25-b82a-7206b5de2095",
   "metadata": {
    "tags": []
   },
   "outputs": [],
   "source": [
    "def tokenize(s, strip_str=\"=-_/\\+.:,'* 1234567890—\"):\n",
    "    custom_words_li = GROUP_CUSTOM_STOPWORDS + added_stopwords_li+stopwords_li + punkts_li + [\"\"]\n",
    "    return [w.lower().strip(strip_str) for w in word_tokenize(str(s)) if w.lower().strip(strip_str) not in custom_words_li]\n",
    "\n",
    "def lemmatize(tokens):\n",
    "    lemmatizer = WordNetLemmatizer()\n",
    "    return [lemmatizer.lemmatize(w) for w in tokens]\n",
    "\n",
    "def unique_list(li):\n",
    "    deduped_li = list(set(li))\n",
    "    return deduped_li\n",
    "\n",
    "def bigram(tokens):\n",
    "    bi_tup = list(bigrams(tokens))\n",
    "    bi_li = ['_'.join(tup) for tup in bi_tup]\n",
    "    return bi_li\n"
   ]
  },
  {
   "cell_type": "markdown",
   "id": "50b0048c-dbad-4036-8914-ed634c8c6de4",
   "metadata": {
    "tags": []
   },
   "source": [
    "# Load Data"
   ]
  },
  {
   "cell_type": "code",
   "execution_count": 138,
   "id": "84a69a77-fa83-47df-b988-faf149483078",
   "metadata": {},
   "outputs": [],
   "source": [
    "GROUP_NAME = \"Freck\"\n",
    "# GROUP_NAME = 'Meat Substitutes'\n",
    "\n",
    "\n",
    "# When using Streamlit, leave list empty and un-comment cells below\n",
    "\n",
    "#Cereals\n",
    "NORMALIZED_URL_LI = [\n",
    "    \"freckbeauty.com\"\n",
    "]\n",
    "\n",
    "PRIMARY_CATEGORIES = [\n",
    "    \n",
    "]                      \n",
    "\n",
    "\n",
    "BRAND_NAME_LI = [\n",
    "    \"Freck\"\n",
    "    \n",
    "]\n",
    "\n",
    "\n",
    "brand_name_di = dict(zip(NORMALIZED_URL_LI, BRAND_NAME_LI))\n",
    "\n",
    "external_revs_list = []\n",
    "\n",
    "\n",
    "\n",
    "    \n",
    "PROD_CAT_EXCLUDE_LI = ['Pet Products']\n",
    "    \n",
    "PRODUCT_NAME_NOT_CONTAINS_LI = ['toothpaste']\n"
   ]
  },
  {
   "cell_type": "code",
   "execution_count": null,
   "id": "00661483-9a82-42d2-b41b-c2e6e3eb9b8a",
   "metadata": {
    "tags": []
   },
   "outputs": [],
   "source": []
  },
  {
   "cell_type": "code",
   "execution_count": 139,
   "id": "4816a0bf-b10b-4e28-9837-6955b2367595",
   "metadata": {
    "tags": []
   },
   "outputs": [],
   "source": [
    "job_config = bigquery.QueryJobConfig(\n",
    "    query_parameters=[\n",
    "        bigquery.ArrayQueryParameter(\"url\", \"STRING\", NORMALIZED_URL_LI),\n",
    "        bigquery.ArrayQueryParameter(\"cols\", \"STRING\", REV_COLS),\n",
    "        bigquery.ArrayQueryParameter(\"brands\", \"STRING\", BRAND_NAME_LI)\n",
    "    ]\n",
    ")"
   ]
  },
  {
   "cell_type": "code",
   "execution_count": 140,
   "id": "23b0e599-ddc4-464e-930f-602a48af8100",
   "metadata": {
    "tags": []
   },
   "outputs": [],
   "source": [
    "job_config = bigquery.QueryJobConfig(\n",
    "        query_parameters=[\n",
    "            bigquery.ArrayQueryParameter(\"url\", \"STRING\", NORMALIZED_URL_LI)\n",
    "        ]\n",
    ")\n",
    "max_date_query = \"\"\"\n",
    "    SELECT max(execution_date)\n",
    "    FROM `helio-staging.online_reviews.online_reviews__deduped_review__1_0`\n",
    "    where execution_date > DATE_ADD(current_date(), INTERVAL -10 DAY)\n",
    "    and normalized_url IS NOT NULL\n",
    "    \"\"\"\n",
    "query_job = client.query(\n",
    "    max_date_query,\n",
    "    # Location must match that of the dataset(s) referenced in the query.\n",
    "    location=\"US\",\n",
    "    job_config=job_config\n",
    ")  # API request - starts the query\n",
    "\n",
    "max_date = query_job.to_dataframe()['f0_'].astype('str')[0]\n"
   ]
  },
  {
   "cell_type": "code",
   "execution_count": 141,
   "id": "3a7921a5-de2f-41ff-bebd-87870e2aebc1",
   "metadata": {},
   "outputs": [
    {
     "data": {
      "text/plain": [
       "'2022-02-28'"
      ]
     },
     "execution_count": 141,
     "metadata": {},
     "output_type": "execute_result"
    }
   ],
   "source": [
    "max_date"
   ]
  },
  {
   "cell_type": "code",
   "execution_count": 142,
   "id": "9f67c0f9-56e6-413d-8014-941b63a4b486",
   "metadata": {
    "tags": []
   },
   "outputs": [],
   "source": [
    "job_config = bigquery.QueryJobConfig(\n",
    "    query_parameters=[\n",
    "        bigquery.ArrayQueryParameter(\"url\", \"STRING\", NORMALIZED_URL_LI),\n",
    "        bigquery.ScalarQueryParameter(\"max_date\", \"STRING\", max_date)\n",
    "    ]\n",
    ")\n",
    "review_query = \"\"\"\n",
    "    SELECT source_name,\n",
    "    normalized_url,\n",
    "    review_source_id,\n",
    "    reviewer_source_id,\n",
    "    product_name,\n",
    "    product_source_id,\n",
    "    review_date,\n",
    "    review_rating,\n",
    "    review_content\n",
    "    FROM `helio-staging.online_reviews.online_reviews__deduped_review__1_0`\n",
    "    WHERE normalized_url IN UNNEST (@url)\n",
    "    AND execution_date = @max_date\n",
    "    \"\"\"\n",
    "query_job = client.query(\n",
    "    review_query,\n",
    "    # Location must match that of the dataset(s) referenced in the query.\n",
    "    location=\"US\",\n",
    "    job_config=job_config\n",
    ")  # API request - starts the query\n",
    "\n",
    "reviews = query_job.to_dataframe()\n",
    "reviews = reviews.loc[reviews.astype(str).drop_duplicates().index]\n"
   ]
  },
  {
   "cell_type": "code",
   "execution_count": 143,
   "id": "05bab625-dca2-470c-b9b7-5cb7597fa48d",
   "metadata": {},
   "outputs": [
    {
     "data": {
      "text/plain": [
       "(1015, 9)"
      ]
     },
     "execution_count": 143,
     "metadata": {},
     "output_type": "execute_result"
    }
   ],
   "source": [
    "reviews.shape"
   ]
  },
  {
   "cell_type": "code",
   "execution_count": 145,
   "id": "4e036d8a-cedb-4328-b143-a1613fc545a9",
   "metadata": {},
   "outputs": [],
   "source": [
    "reviews[\"color\"] = reviews[\"review_content\"].str.contains(\"color\", regex = True, flags= re.IGNORECASE)\n",
    "reviews[\"skincare\"] = reviews[\"review_content\"].str.contains(\"skincare|skin care\", regex = True, flags= re.IGNORECASE)\n",
    "reviews[\"both color and skincare\"] = reviews[\"color\"] & reviews[\"skincare\"]"
   ]
  },
  {
   "cell_type": "code",
   "execution_count": null,
   "id": "d4ba47af-0a24-4528-b0de-3302c09cadfd",
   "metadata": {},
   "outputs": [],
   "source": []
  },
  {
   "cell_type": "code",
   "execution_count": 146,
   "id": "bcf58c7c-eff6-4406-b572-e66f195c65a1",
   "metadata": {
    "tags": []
   },
   "outputs": [],
   "source": [
    "# Product Category Data\n",
    "\n",
    "query = \"\"\"\n",
    "    SELECT product_source_id, parent_category, primary_category\n",
    "    FROM `helio-staging.taxonomy.product_taxonomy__1_0`\n",
    "    WHERE normalized_url IN UNNEST (@url)\n",
    "\n",
    "    \"\"\"\n",
    "query_job = client.query(\n",
    "    query,\n",
    "    # Location must match that of the dataset(s) referenced in the query.\n",
    "    location=\"US\",\n",
    "    job_config=job_config\n",
    ")  # API request - starts the query\n",
    "\n",
    "prod_cat = query_job.to_dataframe()"
   ]
  },
  {
   "cell_type": "code",
   "execution_count": 147,
   "id": "9fd54d7a-07ee-4b0a-beb4-52363b217eac",
   "metadata": {
    "tags": []
   },
   "outputs": [],
   "source": [
    "# All primary categories\n",
    "\n",
    "query = \"\"\"\n",
    "    SELECT distinct parent_category\n",
    "    FROM `helio-staging.taxonomy.product_taxonomy__1_0`\n",
    "    \"\"\"\n",
    "query_job = client.query(\n",
    "    query,\n",
    "    # Location must match that of the dataset(s) referenced in the query.\n",
    "    location=\"US\",\n",
    "    job_config=job_config\n",
    ")  # API request - starts the query\n",
    "\n",
    "cat_list = query_job.to_dataframe()"
   ]
  },
  {
   "cell_type": "code",
   "execution_count": 148,
   "id": "30e4eb10-d267-4405-a719-1223184b0689",
   "metadata": {
    "tags": []
   },
   "outputs": [],
   "source": [
    "# Join reviews with product categories\n",
    "\n",
    "reviews = pd.merge(\n",
    "    reviews, \n",
    "    prod_cat, \n",
    "    on='product_source_id', how='left').drop_duplicates(subset=['source_name', 'review_source_id'])\n",
    "\n",
    "# Filter out excluded categories, excluded product name terms\n",
    "PROD_CAT_EXCLUDE_LI = ['Pet Products']\n",
    "\n",
    "for term in PROD_CAT_EXCLUDE_LI:\n",
    "    reviews = reviews[(~reviews['parent_category'].fillna('').str.contains(term))]\n",
    "\n",
    "    \n",
    "PRODUCT_NAME_NOT_CONTAINS_LI = ['Purina', 'Krill']\n",
    "for term in PRODUCT_NAME_NOT_CONTAINS_LI:\n",
    "    reviews = reviews[~(reviews['product_name'].str.lower().fillna('').str.contains(term.lower()))]"
   ]
  },
  {
   "cell_type": "code",
   "execution_count": null,
   "id": "b9acefad-1843-4237-be6a-74d0947cc04d",
   "metadata": {},
   "outputs": [],
   "source": []
  },
  {
   "cell_type": "code",
   "execution_count": 149,
   "id": "cdf59dd1-c78b-478e-96b4-4a36e19c1d8b",
   "metadata": {
    "tags": []
   },
   "outputs": [],
   "source": [
    "# Read external CSVs\n",
    "\n",
    "if external_revs_list != []:\n",
    "    cleaned_external_review_list = []\n",
    "    for external_revs_csv in external_revs_list:  \n",
    "        external_revs_csv['review_rating']=pd.to_numeric(external_revs_csv['review_rating'], downcast='float')\n",
    "        external_revs_csv['source_name'] = 'DTC'\n",
    "        # Checking for static columns, to add blanksto data frame\n",
    "        # Then checking for incrementing columns, which we'll set as the index, assuming they are unique reviewers and reviews\n",
    "        static_columns = ['product_name', 'product_source_id']\n",
    "        incrementing_columns = ['review_source_id','reviewer_source_id']\n",
    "\n",
    "        for column_name in static_columns:\n",
    "            if column_name not in external_revs_csv:\n",
    "                external_revs_csv[column_name] = ''\n",
    "            else:\n",
    "                pass\n",
    "        for column_name in incrementing_columns:\n",
    "            if column_name not in external_revs_csv:\n",
    "                external_revs_csv[column_name]=external_revs_csv.index\n",
    "            else:\n",
    "                pass\n",
    "\n",
    "        # selecting the same columns as internal reviews CSV\n",
    "        external_revs_csv = external_revs_csv[brand_revs.columns]\n",
    "        cleaned_external_review_list.append(external_revs_csv)\n",
    "\n",
    "    external_revs_csv = pd.concat(cleaned_external_review_list)"
   ]
  },
  {
   "cell_type": "code",
   "execution_count": 150,
   "id": "cbbdbf29-8515-4a18-a87c-88f1f0e0307d",
   "metadata": {
    "tags": []
   },
   "outputs": [],
   "source": [
    "# Join external CSVs and clean reviews\n",
    "\n",
    "if external_revs_list != []:\n",
    "    reviews = reviews.union(external_revs_sdf)\n",
    "\n",
    "reviews['review_content'] = reviews['review_content'].str.replace('/[^a-zA-Z0-9]/g', '', regex=True);\n",
    "\n",
    "# removing hypertext from reviews\n",
    "reviews['review_content'] = reviews['review_content'].apply(lambda x: re.split('https:\\/\\/.*', str(x))[0])\n",
    "\n",
    "# removing contractions from reviews\n",
    "reviews['review_content'] = reviews['review_content'].apply(lambda x: [contractions.fix(word) for word in x.split()])"
   ]
  },
  {
   "cell_type": "code",
   "execution_count": 151,
   "id": "07556303-4013-486b-ae1a-256b7bc7a649",
   "metadata": {
    "tags": []
   },
   "outputs": [],
   "source": [
    "# Get most recent n reviews\n",
    "\n",
    "reviews = (reviews\n",
    "           .sort_values('review_date',ascending = False)\n",
    "           .groupby('normalized_url')\n",
    "           .head(REVIEWS_PER_BRAND_TO_ANALYZE)\n",
    "          )\n",
    "\n",
    "reviews_count = reviews.groupby('normalized_url').agg({'review_source_id':'count'}).reset_index().rename(columns={\"review_source_id\": \"rev_count\"})\n",
    "\n",
    "reviews = pd.merge(reviews_count, reviews, on=['normalized_url'])\n",
    "\n",
    "reviews = reviews[reviews['primary_category'].str.contains('|'.join(PRIMARY_CATEGORIES), na=False)]"
   ]
  },
  {
   "cell_type": "code",
   "execution_count": 157,
   "id": "c85b3684-02a9-4294-8601-1f6ae1b04f74",
   "metadata": {
    "tags": []
   },
   "outputs": [],
   "source": [
    "\n",
    "dist = { \"labels\" : [\"Color\",\"Skincare/Skin care\",\"Color and Skincare/Skin care\"],\n",
    "        \"data\" : [reviews[\"color\"].value_counts(normalize=True).tolist()[1]*100,\n",
    "                  reviews[\"skincare\"].value_counts(normalize=True).tolist()[1]*100,\n",
    "                  reviews[\"both color and skincare\"].value_counts(normalize=True).tolist()[1]*100]\n",
    "\n",
    "}\n",
    "\n",
    "#reviews[\"color\"].value_counts(normalize=True)\n",
    "#reviews[\"skin\"].value_counts(normalize=True)\n",
    "#reviews[\"both color and skin\"].value_counts(normalize=True)\n"
   ]
  },
  {
   "cell_type": "code",
   "execution_count": 158,
   "id": "3afa44bf-99ef-45e2-beae-d79219d54a1f",
   "metadata": {},
   "outputs": [
    {
     "data": {
      "text/plain": [
       "{'labels': ['Color', 'Skincare/Skin care', 'Color and Skincare/Skin care'],\n",
       " 'data': [17.142857142857142, 3.4482758620689653, 0.19704433497536944]}"
      ]
     },
     "execution_count": 158,
     "metadata": {},
     "output_type": "execute_result"
    }
   ],
   "source": [
    "dist"
   ]
  },
  {
   "cell_type": "code",
   "execution_count": 159,
   "id": "8cf736e4-608f-45b6-9f0d-7751fe0b1029",
   "metadata": {},
   "outputs": [
    {
     "data": {
      "application/vnd.plotly.v1+json": {
       "config": {
        "plotlyServerURL": "https://plot.ly"
       },
       "data": [
        {
         "alignmentgroup": "True",
         "hovertemplate": " =%{x}<br>%=%{y}<extra></extra>",
         "legendgroup": "Color",
         "marker": {
          "color": "#636efa",
          "pattern": {
           "shape": ""
          }
         },
         "name": "Color",
         "offsetgroup": "Color",
         "orientation": "v",
         "showlegend": true,
         "textposition": "auto",
         "type": "bar",
         "x": [
          "Color"
         ],
         "xaxis": "x",
         "y": [
          17.142857142857142
         ],
         "yaxis": "y"
        },
        {
         "alignmentgroup": "True",
         "hovertemplate": " =%{x}<br>%=%{y}<extra></extra>",
         "legendgroup": "Skincare/Skin care",
         "marker": {
          "color": "#EF553B",
          "pattern": {
           "shape": ""
          }
         },
         "name": "Skincare/Skin care",
         "offsetgroup": "Skincare/Skin care",
         "orientation": "v",
         "showlegend": true,
         "textposition": "auto",
         "type": "bar",
         "x": [
          "Skincare/Skin care"
         ],
         "xaxis": "x",
         "y": [
          3.4482758620689653
         ],
         "yaxis": "y"
        },
        {
         "alignmentgroup": "True",
         "hovertemplate": " =%{x}<br>%=%{y}<extra></extra>",
         "legendgroup": "Color and Skincare/Skin care",
         "marker": {
          "color": "#00cc96",
          "pattern": {
           "shape": ""
          }
         },
         "name": "Color and Skincare/Skin care",
         "offsetgroup": "Color and Skincare/Skin care",
         "orientation": "v",
         "showlegend": true,
         "textposition": "auto",
         "type": "bar",
         "x": [
          "Color and Skincare/Skin care"
         ],
         "xaxis": "x",
         "y": [
          0.19704433497536944
         ],
         "yaxis": "y"
        }
       ],
       "layout": {
        "autosize": true,
        "barmode": "relative",
        "legend": {
         "title": {
          "text": " "
         },
         "tracegroupgap": 0
        },
        "margin": {
         "t": 60
        },
        "paper_bgcolor": "rgba(0, 0, 0, 0)",
        "plot_bgcolor": "rgba(0, 0, 0, 0)",
        "showlegend": false,
        "template": {
         "data": {
          "bar": [
           {
            "error_x": {
             "color": "#2a3f5f"
            },
            "error_y": {
             "color": "#2a3f5f"
            },
            "marker": {
             "line": {
              "color": "#E5ECF6",
              "width": 0.5
             },
             "pattern": {
              "fillmode": "overlay",
              "size": 10,
              "solidity": 0.2
             }
            },
            "type": "bar"
           }
          ],
          "barpolar": [
           {
            "marker": {
             "line": {
              "color": "#E5ECF6",
              "width": 0.5
             },
             "pattern": {
              "fillmode": "overlay",
              "size": 10,
              "solidity": 0.2
             }
            },
            "type": "barpolar"
           }
          ],
          "carpet": [
           {
            "aaxis": {
             "endlinecolor": "#2a3f5f",
             "gridcolor": "white",
             "linecolor": "white",
             "minorgridcolor": "white",
             "startlinecolor": "#2a3f5f"
            },
            "baxis": {
             "endlinecolor": "#2a3f5f",
             "gridcolor": "white",
             "linecolor": "white",
             "minorgridcolor": "white",
             "startlinecolor": "#2a3f5f"
            },
            "type": "carpet"
           }
          ],
          "choropleth": [
           {
            "colorbar": {
             "outlinewidth": 0,
             "ticks": ""
            },
            "type": "choropleth"
           }
          ],
          "contour": [
           {
            "colorbar": {
             "outlinewidth": 0,
             "ticks": ""
            },
            "colorscale": [
             [
              0,
              "#0d0887"
             ],
             [
              0.1111111111111111,
              "#46039f"
             ],
             [
              0.2222222222222222,
              "#7201a8"
             ],
             [
              0.3333333333333333,
              "#9c179e"
             ],
             [
              0.4444444444444444,
              "#bd3786"
             ],
             [
              0.5555555555555556,
              "#d8576b"
             ],
             [
              0.6666666666666666,
              "#ed7953"
             ],
             [
              0.7777777777777778,
              "#fb9f3a"
             ],
             [
              0.8888888888888888,
              "#fdca26"
             ],
             [
              1,
              "#f0f921"
             ]
            ],
            "type": "contour"
           }
          ],
          "contourcarpet": [
           {
            "colorbar": {
             "outlinewidth": 0,
             "ticks": ""
            },
            "type": "contourcarpet"
           }
          ],
          "heatmap": [
           {
            "colorbar": {
             "outlinewidth": 0,
             "ticks": ""
            },
            "colorscale": [
             [
              0,
              "#0d0887"
             ],
             [
              0.1111111111111111,
              "#46039f"
             ],
             [
              0.2222222222222222,
              "#7201a8"
             ],
             [
              0.3333333333333333,
              "#9c179e"
             ],
             [
              0.4444444444444444,
              "#bd3786"
             ],
             [
              0.5555555555555556,
              "#d8576b"
             ],
             [
              0.6666666666666666,
              "#ed7953"
             ],
             [
              0.7777777777777778,
              "#fb9f3a"
             ],
             [
              0.8888888888888888,
              "#fdca26"
             ],
             [
              1,
              "#f0f921"
             ]
            ],
            "type": "heatmap"
           }
          ],
          "heatmapgl": [
           {
            "colorbar": {
             "outlinewidth": 0,
             "ticks": ""
            },
            "colorscale": [
             [
              0,
              "#0d0887"
             ],
             [
              0.1111111111111111,
              "#46039f"
             ],
             [
              0.2222222222222222,
              "#7201a8"
             ],
             [
              0.3333333333333333,
              "#9c179e"
             ],
             [
              0.4444444444444444,
              "#bd3786"
             ],
             [
              0.5555555555555556,
              "#d8576b"
             ],
             [
              0.6666666666666666,
              "#ed7953"
             ],
             [
              0.7777777777777778,
              "#fb9f3a"
             ],
             [
              0.8888888888888888,
              "#fdca26"
             ],
             [
              1,
              "#f0f921"
             ]
            ],
            "type": "heatmapgl"
           }
          ],
          "histogram": [
           {
            "marker": {
             "pattern": {
              "fillmode": "overlay",
              "size": 10,
              "solidity": 0.2
             }
            },
            "type": "histogram"
           }
          ],
          "histogram2d": [
           {
            "colorbar": {
             "outlinewidth": 0,
             "ticks": ""
            },
            "colorscale": [
             [
              0,
              "#0d0887"
             ],
             [
              0.1111111111111111,
              "#46039f"
             ],
             [
              0.2222222222222222,
              "#7201a8"
             ],
             [
              0.3333333333333333,
              "#9c179e"
             ],
             [
              0.4444444444444444,
              "#bd3786"
             ],
             [
              0.5555555555555556,
              "#d8576b"
             ],
             [
              0.6666666666666666,
              "#ed7953"
             ],
             [
              0.7777777777777778,
              "#fb9f3a"
             ],
             [
              0.8888888888888888,
              "#fdca26"
             ],
             [
              1,
              "#f0f921"
             ]
            ],
            "type": "histogram2d"
           }
          ],
          "histogram2dcontour": [
           {
            "colorbar": {
             "outlinewidth": 0,
             "ticks": ""
            },
            "colorscale": [
             [
              0,
              "#0d0887"
             ],
             [
              0.1111111111111111,
              "#46039f"
             ],
             [
              0.2222222222222222,
              "#7201a8"
             ],
             [
              0.3333333333333333,
              "#9c179e"
             ],
             [
              0.4444444444444444,
              "#bd3786"
             ],
             [
              0.5555555555555556,
              "#d8576b"
             ],
             [
              0.6666666666666666,
              "#ed7953"
             ],
             [
              0.7777777777777778,
              "#fb9f3a"
             ],
             [
              0.8888888888888888,
              "#fdca26"
             ],
             [
              1,
              "#f0f921"
             ]
            ],
            "type": "histogram2dcontour"
           }
          ],
          "mesh3d": [
           {
            "colorbar": {
             "outlinewidth": 0,
             "ticks": ""
            },
            "type": "mesh3d"
           }
          ],
          "parcoords": [
           {
            "line": {
             "colorbar": {
              "outlinewidth": 0,
              "ticks": ""
             }
            },
            "type": "parcoords"
           }
          ],
          "pie": [
           {
            "automargin": true,
            "type": "pie"
           }
          ],
          "scatter": [
           {
            "marker": {
             "colorbar": {
              "outlinewidth": 0,
              "ticks": ""
             }
            },
            "type": "scatter"
           }
          ],
          "scatter3d": [
           {
            "line": {
             "colorbar": {
              "outlinewidth": 0,
              "ticks": ""
             }
            },
            "marker": {
             "colorbar": {
              "outlinewidth": 0,
              "ticks": ""
             }
            },
            "type": "scatter3d"
           }
          ],
          "scattercarpet": [
           {
            "marker": {
             "colorbar": {
              "outlinewidth": 0,
              "ticks": ""
             }
            },
            "type": "scattercarpet"
           }
          ],
          "scattergeo": [
           {
            "marker": {
             "colorbar": {
              "outlinewidth": 0,
              "ticks": ""
             }
            },
            "type": "scattergeo"
           }
          ],
          "scattergl": [
           {
            "marker": {
             "colorbar": {
              "outlinewidth": 0,
              "ticks": ""
             }
            },
            "type": "scattergl"
           }
          ],
          "scattermapbox": [
           {
            "marker": {
             "colorbar": {
              "outlinewidth": 0,
              "ticks": ""
             }
            },
            "type": "scattermapbox"
           }
          ],
          "scatterpolar": [
           {
            "marker": {
             "colorbar": {
              "outlinewidth": 0,
              "ticks": ""
             }
            },
            "type": "scatterpolar"
           }
          ],
          "scatterpolargl": [
           {
            "marker": {
             "colorbar": {
              "outlinewidth": 0,
              "ticks": ""
             }
            },
            "type": "scatterpolargl"
           }
          ],
          "scatterternary": [
           {
            "marker": {
             "colorbar": {
              "outlinewidth": 0,
              "ticks": ""
             }
            },
            "type": "scatterternary"
           }
          ],
          "surface": [
           {
            "colorbar": {
             "outlinewidth": 0,
             "ticks": ""
            },
            "colorscale": [
             [
              0,
              "#0d0887"
             ],
             [
              0.1111111111111111,
              "#46039f"
             ],
             [
              0.2222222222222222,
              "#7201a8"
             ],
             [
              0.3333333333333333,
              "#9c179e"
             ],
             [
              0.4444444444444444,
              "#bd3786"
             ],
             [
              0.5555555555555556,
              "#d8576b"
             ],
             [
              0.6666666666666666,
              "#ed7953"
             ],
             [
              0.7777777777777778,
              "#fb9f3a"
             ],
             [
              0.8888888888888888,
              "#fdca26"
             ],
             [
              1,
              "#f0f921"
             ]
            ],
            "type": "surface"
           }
          ],
          "table": [
           {
            "cells": {
             "fill": {
              "color": "#EBF0F8"
             },
             "line": {
              "color": "white"
             }
            },
            "header": {
             "fill": {
              "color": "#C8D4E3"
             },
             "line": {
              "color": "white"
             }
            },
            "type": "table"
           }
          ]
         },
         "layout": {
          "annotationdefaults": {
           "arrowcolor": "#2a3f5f",
           "arrowhead": 0,
           "arrowwidth": 1
          },
          "autotypenumbers": "strict",
          "coloraxis": {
           "colorbar": {
            "outlinewidth": 0,
            "ticks": ""
           }
          },
          "colorscale": {
           "diverging": [
            [
             0,
             "#8e0152"
            ],
            [
             0.1,
             "#c51b7d"
            ],
            [
             0.2,
             "#de77ae"
            ],
            [
             0.3,
             "#f1b6da"
            ],
            [
             0.4,
             "#fde0ef"
            ],
            [
             0.5,
             "#f7f7f7"
            ],
            [
             0.6,
             "#e6f5d0"
            ],
            [
             0.7,
             "#b8e186"
            ],
            [
             0.8,
             "#7fbc41"
            ],
            [
             0.9,
             "#4d9221"
            ],
            [
             1,
             "#276419"
            ]
           ],
           "sequential": [
            [
             0,
             "#0d0887"
            ],
            [
             0.1111111111111111,
             "#46039f"
            ],
            [
             0.2222222222222222,
             "#7201a8"
            ],
            [
             0.3333333333333333,
             "#9c179e"
            ],
            [
             0.4444444444444444,
             "#bd3786"
            ],
            [
             0.5555555555555556,
             "#d8576b"
            ],
            [
             0.6666666666666666,
             "#ed7953"
            ],
            [
             0.7777777777777778,
             "#fb9f3a"
            ],
            [
             0.8888888888888888,
             "#fdca26"
            ],
            [
             1,
             "#f0f921"
            ]
           ],
           "sequentialminus": [
            [
             0,
             "#0d0887"
            ],
            [
             0.1111111111111111,
             "#46039f"
            ],
            [
             0.2222222222222222,
             "#7201a8"
            ],
            [
             0.3333333333333333,
             "#9c179e"
            ],
            [
             0.4444444444444444,
             "#bd3786"
            ],
            [
             0.5555555555555556,
             "#d8576b"
            ],
            [
             0.6666666666666666,
             "#ed7953"
            ],
            [
             0.7777777777777778,
             "#fb9f3a"
            ],
            [
             0.8888888888888888,
             "#fdca26"
            ],
            [
             1,
             "#f0f921"
            ]
           ]
          },
          "colorway": [
           "#636efa",
           "#EF553B",
           "#00cc96",
           "#ab63fa",
           "#FFA15A",
           "#19d3f3",
           "#FF6692",
           "#B6E880",
           "#FF97FF",
           "#FECB52"
          ],
          "font": {
           "color": "#2a3f5f"
          },
          "geo": {
           "bgcolor": "white",
           "lakecolor": "white",
           "landcolor": "#E5ECF6",
           "showlakes": true,
           "showland": true,
           "subunitcolor": "white"
          },
          "hoverlabel": {
           "align": "left"
          },
          "hovermode": "closest",
          "mapbox": {
           "style": "light"
          },
          "paper_bgcolor": "white",
          "plot_bgcolor": "#E5ECF6",
          "polar": {
           "angularaxis": {
            "gridcolor": "white",
            "linecolor": "white",
            "ticks": ""
           },
           "bgcolor": "#E5ECF6",
           "radialaxis": {
            "gridcolor": "white",
            "linecolor": "white",
            "ticks": ""
           }
          },
          "scene": {
           "xaxis": {
            "backgroundcolor": "#E5ECF6",
            "gridcolor": "white",
            "gridwidth": 2,
            "linecolor": "white",
            "showbackground": true,
            "ticks": "",
            "zerolinecolor": "white"
           },
           "yaxis": {
            "backgroundcolor": "#E5ECF6",
            "gridcolor": "white",
            "gridwidth": 2,
            "linecolor": "white",
            "showbackground": true,
            "ticks": "",
            "zerolinecolor": "white"
           },
           "zaxis": {
            "backgroundcolor": "#E5ECF6",
            "gridcolor": "white",
            "gridwidth": 2,
            "linecolor": "white",
            "showbackground": true,
            "ticks": "",
            "zerolinecolor": "white"
           }
          },
          "shapedefaults": {
           "line": {
            "color": "#2a3f5f"
           }
          },
          "ternary": {
           "aaxis": {
            "gridcolor": "white",
            "linecolor": "white",
            "ticks": ""
           },
           "baxis": {
            "gridcolor": "white",
            "linecolor": "white",
            "ticks": ""
           },
           "bgcolor": "#E5ECF6",
           "caxis": {
            "gridcolor": "white",
            "linecolor": "white",
            "ticks": ""
           }
          },
          "title": {
           "x": 0.05
          },
          "xaxis": {
           "automargin": true,
           "gridcolor": "white",
           "linecolor": "white",
           "ticks": "",
           "title": {
            "standoff": 15
           },
           "zerolinecolor": "white",
           "zerolinewidth": 2
          },
          "yaxis": {
           "automargin": true,
           "gridcolor": "white",
           "linecolor": "white",
           "ticks": "",
           "title": {
            "standoff": 15
           },
           "zerolinecolor": "white",
           "zerolinewidth": 2
          }
         }
        },
        "title": {
         "text": "Freck: Percent of reviews mentioning"
        },
        "xaxis": {
         "anchor": "y",
         "autorange": true,
         "categoryarray": [
          "Color",
          "Skincare/Skin care",
          "Color and Skincare/Skin care"
         ],
         "categoryorder": "array",
         "domain": [
          0,
          1
         ],
         "range": [
          -0.5,
          2.5
         ],
         "title": {
          "text": " "
         },
         "type": "category"
        },
        "yaxis": {
         "anchor": "x",
         "autorange": true,
         "domain": [
          0,
          1
         ],
         "range": [
          0,
          18.045112781954888
         ],
         "title": {
          "text": "%"
         },
         "type": "linear"
        }
       }
      },
      "image/png": "[encoded data removed]",
      "text/html": [
       "<div>                            <div id=\"6d29b57c-1b36-4e32-98e8-e976021501f5\" class=\"plotly-graph-div\" style=\"height:525px; width:100%;\"></div>            <script type=\"text/javascript\">                require([\"plotly\"], function(Plotly) {                    window.PLOTLYENV=window.PLOTLYENV || {};                                    if (document.getElementById(\"6d29b57c-1b36-4e32-98e8-e976021501f5\")) {                    Plotly.newPlot(                        \"6d29b57c-1b36-4e32-98e8-e976021501f5\",                        [{\"alignmentgroup\":\"True\",\"hovertemplate\":\" =%{x}<br>%=%{y}<extra></extra>\",\"legendgroup\":\"Color\",\"marker\":{\"color\":\"#636efa\",\"pattern\":{\"shape\":\"\"}},\"name\":\"Color\",\"offsetgroup\":\"Color\",\"orientation\":\"v\",\"showlegend\":true,\"textposition\":\"auto\",\"x\":[\"Color\"],\"xaxis\":\"x\",\"y\":[17.142857142857142],\"yaxis\":\"y\",\"type\":\"bar\"},{\"alignmentgroup\":\"True\",\"hovertemplate\":\" =%{x}<br>%=%{y}<extra></extra>\",\"legendgroup\":\"Skincare/Skin care\",\"marker\":{\"color\":\"#EF553B\",\"pattern\":{\"shape\":\"\"}},\"name\":\"Skincare/Skin care\",\"offsetgroup\":\"Skincare/Skin care\",\"orientation\":\"v\",\"showlegend\":true,\"textposition\":\"auto\",\"x\":[\"Skincare/Skin care\"],\"xaxis\":\"x\",\"y\":[3.4482758620689653],\"yaxis\":\"y\",\"type\":\"bar\"},{\"alignmentgroup\":\"True\",\"hovertemplate\":\" =%{x}<br>%=%{y}<extra></extra>\",\"legendgroup\":\"Color and Skincare/Skin care\",\"marker\":{\"color\":\"#00cc96\",\"pattern\":{\"shape\":\"\"}},\"name\":\"Color and Skincare/Skin care\",\"offsetgroup\":\"Color and Skincare/Skin care\",\"orientation\":\"v\",\"showlegend\":true,\"textposition\":\"auto\",\"x\":[\"Color and Skincare/Skin care\"],\"xaxis\":\"x\",\"y\":[0.19704433497536944],\"yaxis\":\"y\",\"type\":\"bar\"}],                        {\"template\":{\"data\":{\"bar\":[{\"error_x\":{\"color\":\"#2a3f5f\"},\"error_y\":{\"color\":\"#2a3f5f\"},\"marker\":{\"line\":{\"color\":\"#E5ECF6\",\"width\":0.5},\"pattern\":{\"fillmode\":\"overlay\",\"size\":10,\"solidity\":0.2}},\"type\":\"bar\"}],\"barpolar\":[{\"marker\":{\"line\":{\"color\":\"#E5ECF6\",\"width\":0.5},\"pattern\":{\"fillmode\":\"overlay\",\"size\":10,\"solidity\":0.2}},\"type\":\"barpolar\"}],\"carpet\":[{\"aaxis\":{\"endlinecolor\":\"#2a3f5f\",\"gridcolor\":\"white\",\"linecolor\":\"white\",\"minorgridcolor\":\"white\",\"startlinecolor\":\"#2a3f5f\"},\"baxis\":{\"endlinecolor\":\"#2a3f5f\",\"gridcolor\":\"white\",\"linecolor\":\"white\",\"minorgridcolor\":\"white\",\"startlinecolor\":\"#2a3f5f\"},\"type\":\"carpet\"}],\"choropleth\":[{\"colorbar\":{\"outlinewidth\":0,\"ticks\":\"\"},\"type\":\"choropleth\"}],\"contour\":[{\"colorbar\":{\"outlinewidth\":0,\"ticks\":\"\"},\"colorscale\":[[0.0,\"#0d0887\"],[0.1111111111111111,\"#46039f\"],[0.2222222222222222,\"#7201a8\"],[0.3333333333333333,\"#9c179e\"],[0.4444444444444444,\"#bd3786\"],[0.5555555555555556,\"#d8576b\"],[0.6666666666666666,\"#ed7953\"],[0.7777777777777778,\"#fb9f3a\"],[0.8888888888888888,\"#fdca26\"],[1.0,\"#f0f921\"]],\"type\":\"contour\"}],\"contourcarpet\":[{\"colorbar\":{\"outlinewidth\":0,\"ticks\":\"\"},\"type\":\"contourcarpet\"}],\"heatmap\":[{\"colorbar\":{\"outlinewidth\":0,\"ticks\":\"\"},\"colorscale\":[[0.0,\"#0d0887\"],[0.1111111111111111,\"#46039f\"],[0.2222222222222222,\"#7201a8\"],[0.3333333333333333,\"#9c179e\"],[0.4444444444444444,\"#bd3786\"],[0.5555555555555556,\"#d8576b\"],[0.6666666666666666,\"#ed7953\"],[0.7777777777777778,\"#fb9f3a\"],[0.8888888888888888,\"#fdca26\"],[1.0,\"#f0f921\"]],\"type\":\"heatmap\"}],\"heatmapgl\":[{\"colorbar\":{\"outlinewidth\":0,\"ticks\":\"\"},\"colorscale\":[[0.0,\"#0d0887\"],[0.1111111111111111,\"#46039f\"],[0.2222222222222222,\"#7201a8\"],[0.3333333333333333,\"#9c179e\"],[0.4444444444444444,\"#bd3786\"],[0.5555555555555556,\"#d8576b\"],[0.6666666666666666,\"#ed7953\"],[0.7777777777777778,\"#fb9f3a\"],[0.8888888888888888,\"#fdca26\"],[1.0,\"#f0f921\"]],\"type\":\"heatmapgl\"}],\"histogram\":[{\"marker\":{\"pattern\":{\"fillmode\":\"overlay\",\"size\":10,\"solidity\":0.2}},\"type\":\"histogram\"}],\"histogram2d\":[{\"colorbar\":{\"outlinewidth\":0,\"ticks\":\"\"},\"colorscale\":[[0.0,\"#0d0887\"],[0.1111111111111111,\"#46039f\"],[0.2222222222222222,\"#7201a8\"],[0.3333333333333333,\"#9c179e\"],[0.4444444444444444,\"#bd3786\"],[0.5555555555555556,\"#d8576b\"],[0.6666666666666666,\"#ed7953\"],[0.7777777777777778,\"#fb9f3a\"],[0.8888888888888888,\"#fdca26\"],[1.0,\"#f0f921\"]],\"type\":\"histogram2d\"}],\"histogram2dcontour\":[{\"colorbar\":{\"outlinewidth\":0,\"ticks\":\"\"},\"colorscale\":[[0.0,\"#0d0887\"],[0.1111111111111111,\"#46039f\"],[0.2222222222222222,\"#7201a8\"],[0.3333333333333333,\"#9c179e\"],[0.4444444444444444,\"#bd3786\"],[0.5555555555555556,\"#d8576b\"],[0.6666666666666666,\"#ed7953\"],[0.7777777777777778,\"#fb9f3a\"],[0.8888888888888888,\"#fdca26\"],[1.0,\"#f0f921\"]],\"type\":\"histogram2dcontour\"}],\"mesh3d\":[{\"colorbar\":{\"outlinewidth\":0,\"ticks\":\"\"},\"type\":\"mesh3d\"}],\"parcoords\":[{\"line\":{\"colorbar\":{\"outlinewidth\":0,\"ticks\":\"\"}},\"type\":\"parcoords\"}],\"pie\":[{\"automargin\":true,\"type\":\"pie\"}],\"scatter\":[{\"marker\":{\"colorbar\":{\"outlinewidth\":0,\"ticks\":\"\"}},\"type\":\"scatter\"}],\"scatter3d\":[{\"line\":{\"colorbar\":{\"outlinewidth\":0,\"ticks\":\"\"}},\"marker\":{\"colorbar\":{\"outlinewidth\":0,\"ticks\":\"\"}},\"type\":\"scatter3d\"}],\"scattercarpet\":[{\"marker\":{\"colorbar\":{\"outlinewidth\":0,\"ticks\":\"\"}},\"type\":\"scattercarpet\"}],\"scattergeo\":[{\"marker\":{\"colorbar\":{\"outlinewidth\":0,\"ticks\":\"\"}},\"type\":\"scattergeo\"}],\"scattergl\":[{\"marker\":{\"colorbar\":{\"outlinewidth\":0,\"ticks\":\"\"}},\"type\":\"scattergl\"}],\"scattermapbox\":[{\"marker\":{\"colorbar\":{\"outlinewidth\":0,\"ticks\":\"\"}},\"type\":\"scattermapbox\"}],\"scatterpolar\":[{\"marker\":{\"colorbar\":{\"outlinewidth\":0,\"ticks\":\"\"}},\"type\":\"scatterpolar\"}],\"scatterpolargl\":[{\"marker\":{\"colorbar\":{\"outlinewidth\":0,\"ticks\":\"\"}},\"type\":\"scatterpolargl\"}],\"scatterternary\":[{\"marker\":{\"colorbar\":{\"outlinewidth\":0,\"ticks\":\"\"}},\"type\":\"scatterternary\"}],\"surface\":[{\"colorbar\":{\"outlinewidth\":0,\"ticks\":\"\"},\"colorscale\":[[0.0,\"#0d0887\"],[0.1111111111111111,\"#46039f\"],[0.2222222222222222,\"#7201a8\"],[0.3333333333333333,\"#9c179e\"],[0.4444444444444444,\"#bd3786\"],[0.5555555555555556,\"#d8576b\"],[0.6666666666666666,\"#ed7953\"],[0.7777777777777778,\"#fb9f3a\"],[0.8888888888888888,\"#fdca26\"],[1.0,\"#f0f921\"]],\"type\":\"surface\"}],\"table\":[{\"cells\":{\"fill\":{\"color\":\"#EBF0F8\"},\"line\":{\"color\":\"white\"}},\"header\":{\"fill\":{\"color\":\"#C8D4E3\"},\"line\":{\"color\":\"white\"}},\"type\":\"table\"}]},\"layout\":{\"annotationdefaults\":{\"arrowcolor\":\"#2a3f5f\",\"arrowhead\":0,\"arrowwidth\":1},\"autotypenumbers\":\"strict\",\"coloraxis\":{\"colorbar\":{\"outlinewidth\":0,\"ticks\":\"\"}},\"colorscale\":{\"diverging\":[[0,\"#8e0152\"],[0.1,\"#c51b7d\"],[0.2,\"#de77ae\"],[0.3,\"#f1b6da\"],[0.4,\"#fde0ef\"],[0.5,\"#f7f7f7\"],[0.6,\"#e6f5d0\"],[0.7,\"#b8e186\"],[0.8,\"#7fbc41\"],[0.9,\"#4d9221\"],[1,\"#276419\"]],\"sequential\":[[0.0,\"#0d0887\"],[0.1111111111111111,\"#46039f\"],[0.2222222222222222,\"#7201a8\"],[0.3333333333333333,\"#9c179e\"],[0.4444444444444444,\"#bd3786\"],[0.5555555555555556,\"#d8576b\"],[0.6666666666666666,\"#ed7953\"],[0.7777777777777778,\"#fb9f3a\"],[0.8888888888888888,\"#fdca26\"],[1.0,\"#f0f921\"]],\"sequentialminus\":[[0.0,\"#0d0887\"],[0.1111111111111111,\"#46039f\"],[0.2222222222222222,\"#7201a8\"],[0.3333333333333333,\"#9c179e\"],[0.4444444444444444,\"#bd3786\"],[0.5555555555555556,\"#d8576b\"],[0.6666666666666666,\"#ed7953\"],[0.7777777777777778,\"#fb9f3a\"],[0.8888888888888888,\"#fdca26\"],[1.0,\"#f0f921\"]]},\"colorway\":[\"#636efa\",\"#EF553B\",\"#00cc96\",\"#ab63fa\",\"#FFA15A\",\"#19d3f3\",\"#FF6692\",\"#B6E880\",\"#FF97FF\",\"#FECB52\"],\"font\":{\"color\":\"#2a3f5f\"},\"geo\":{\"bgcolor\":\"white\",\"lakecolor\":\"white\",\"landcolor\":\"#E5ECF6\",\"showlakes\":true,\"showland\":true,\"subunitcolor\":\"white\"},\"hoverlabel\":{\"align\":\"left\"},\"hovermode\":\"closest\",\"mapbox\":{\"style\":\"light\"},\"paper_bgcolor\":\"white\",\"plot_bgcolor\":\"#E5ECF6\",\"polar\":{\"angularaxis\":{\"gridcolor\":\"white\",\"linecolor\":\"white\",\"ticks\":\"\"},\"bgcolor\":\"#E5ECF6\",\"radialaxis\":{\"gridcolor\":\"white\",\"linecolor\":\"white\",\"ticks\":\"\"}},\"scene\":{\"xaxis\":{\"backgroundcolor\":\"#E5ECF6\",\"gridcolor\":\"white\",\"gridwidth\":2,\"linecolor\":\"white\",\"showbackground\":true,\"ticks\":\"\",\"zerolinecolor\":\"white\"},\"yaxis\":{\"backgroundcolor\":\"#E5ECF6\",\"gridcolor\":\"white\",\"gridwidth\":2,\"linecolor\":\"white\",\"showbackground\":true,\"ticks\":\"\",\"zerolinecolor\":\"white\"},\"zaxis\":{\"backgroundcolor\":\"#E5ECF6\",\"gridcolor\":\"white\",\"gridwidth\":2,\"linecolor\":\"white\",\"showbackground\":true,\"ticks\":\"\",\"zerolinecolor\":\"white\"}},\"shapedefaults\":{\"line\":{\"color\":\"#2a3f5f\"}},\"ternary\":{\"aaxis\":{\"gridcolor\":\"white\",\"linecolor\":\"white\",\"ticks\":\"\"},\"baxis\":{\"gridcolor\":\"white\",\"linecolor\":\"white\",\"ticks\":\"\"},\"bgcolor\":\"#E5ECF6\",\"caxis\":{\"gridcolor\":\"white\",\"linecolor\":\"white\",\"ticks\":\"\"}},\"title\":{\"x\":0.05},\"xaxis\":{\"automargin\":true,\"gridcolor\":\"white\",\"linecolor\":\"white\",\"ticks\":\"\",\"title\":{\"standoff\":15},\"zerolinecolor\":\"white\",\"zerolinewidth\":2},\"yaxis\":{\"automargin\":true,\"gridcolor\":\"white\",\"linecolor\":\"white\",\"ticks\":\"\",\"title\":{\"standoff\":15},\"zerolinecolor\":\"white\",\"zerolinewidth\":2}}},\"xaxis\":{\"anchor\":\"y\",\"domain\":[0.0,1.0],\"title\":{\"text\":\" \"},\"categoryorder\":\"array\",\"categoryarray\":[\"Color\",\"Skincare/Skin care\",\"Color and Skincare/Skin care\"]},\"yaxis\":{\"anchor\":\"x\",\"domain\":[0.0,1.0],\"title\":{\"text\":\"%\"}},\"legend\":{\"title\":{\"text\":\" \"},\"tracegroupgap\":0},\"margin\":{\"t\":60},\"barmode\":\"relative\",\"title\":{\"text\":\"Freck: Percent of reviews mentioning\"},\"paper_bgcolor\":\"rgba(0,0,0,0)\",\"plot_bgcolor\":\"rgba(0,0,0,0)\",\"showlegend\":false},                        {\"responsive\": true}                    ).then(function(){\n",
       "                            \n",
       "var gd = document.getElementById('6d29b57c-1b36-4e32-98e8-e976021501f5');\n",
       "var x = new MutationObserver(function (mutations, observer) {{\n",
       "        var display = window.getComputedStyle(gd).display;\n",
       "        if (!display || display === 'none') {{\n",
       "            console.log([gd, 'removed!']);\n",
       "            Plotly.purge(gd);\n",
       "            observer.disconnect();\n",
       "        }}\n",
       "}});\n",
       "\n",
       "// Listen for the removal of the full notebook cells\n",
       "var notebookContainer = gd.closest('#notebook-container');\n",
       "if (notebookContainer) {{\n",
       "    x.observe(notebookContainer, {childList: true});\n",
       "}}\n",
       "\n",
       "// Listen for the clearing of the current output cell\n",
       "var outputEl = gd.closest('.output');\n",
       "if (outputEl) {{\n",
       "    x.observe(outputEl, {childList: true});\n",
       "}}\n",
       "\n",
       "                        })                };                });            </script>        </div>"
      ]
     },
     "metadata": {},
     "output_type": "display_data"
    }
   ],
   "source": [
    "fig = px.bar(dist, x =\"labels\", y = \"data\",color = \"labels\", labels=dict(labels=\" \", data=\"%\"))\n",
    "fig.update_layout(title = \"Freck: Percent of reviews mentioning\", paper_bgcolor='rgba(0,0,0,0)',\n",
    "    plot_bgcolor='rgba(0,0,0,0)',showlegend=False)\n",
    "fig.show()"
   ]
  },
  {
   "cell_type": "code",
   "execution_count": 34,
   "id": "5b4aee6d-f8ee-4b6e-8403-a8faaac40cf2",
   "metadata": {},
   "outputs": [],
   "source": [
    "reviews[\"product_name\"].unique()\n",
    "\n",
    "products = ['Freck The Original Freckle',\n",
    "       'Cheekslime Blush + Lip Tint with Plant Collagen',\n",
    "       'Rich Bitch Cactus + Vitamin C Moisturizer',\n",
    "       'Cactus Water Cleansing Lactic Acid Toner',\n",
    "       'Best of Freck Duo Face Set',\n",
    "       'Freck Beauty Rich Bitch Cactus + Vitamin C Moisturizer 1.7 oz/ 50 mL',\n",
    "       'SLIMELIGHT Highlighter',\n",
    "       'Freck Beauty Cactus Water Cleansing Lactic Acid Toner 6.5 oz/ 192 mL',\n",
    "       'Freck Beauty Foreclay Cactus Clay Mask 3.6 Oz',\n",
    "       'Rich Bitch Cactus + Vitamin C Moisturizer. 3.6 Oz. Bnib Sealed',\n",
    "       'Freck Beauty']\n",
    "\n",
    "category = ['Color','Color','Skin','Skin','Color','Skin','Color','Skin','Skin','Skin','Color']\n",
    "\n",
    "prod_cat_di = dict(zip(products,category))\n"
   ]
  },
  {
   "cell_type": "code",
   "execution_count": 41,
   "id": "dca3d693-e8b1-4e02-9570-b15715943dc8",
   "metadata": {},
   "outputs": [
    {
     "data": {
      "text/plain": [
       "0"
      ]
     },
     "execution_count": 41,
     "metadata": {},
     "output_type": "execute_result"
    }
   ],
   "source": [
    "reviews[\"review_content\"]"
   ]
  },
  {
   "cell_type": "code",
   "execution_count": 26,
   "id": "f648a208-3b3c-44de-8e69-581962020d38",
   "metadata": {
    "tags": []
   },
   "outputs": [],
   "source": [
    "tokenized_reviews = reviews.copy()\n",
    "tokenized_reviews['tokenized_review'] = tokenized_reviews['review_content'].apply(lambda x: lemmatize(tokenize(x)))\n",
    "tokenized_reviews = tokenized_reviews.dropna(subset=['tokenized_review'])"
   ]
  },
  {
   "cell_type": "code",
   "execution_count": 27,
   "id": "e0f57cd5-03a2-4323-a7c5-2c71cd5ee017",
   "metadata": {
    "tags": []
   },
   "outputs": [],
   "source": [
    "unibi_reviews = tokenized_reviews.copy()\n",
    "\n",
    "unibi_reviews['unibi'] = unibi_reviews['tokenized_review'].apply(lambda x: unique_list(bigram(x)+x))\n",
    "unibi_reviews = unibi_reviews.loc[unibi_reviews.astype(str).drop_duplicates().index]\n",
    "\n",
    "unibi_words = unibi_reviews.copy()\n",
    "unibi_words['unibi_word'] = unibi_words['unibi']\n",
    "unibi_words = unibi_words.explode('unibi_word')\n",
    "unibi_words= unibi_words[~unibi_words[\"unibi_word\"].isin(drop_words)]\n",
    "#unibi_words=unibi_words[unibi_words[\"parent_category\"]==\"Food\"]"
   ]
  },
  {
   "cell_type": "code",
   "execution_count": null,
   "id": "0b65e537-2804-42ad-a31e-bdc7f8bb4190",
   "metadata": {},
   "outputs": [],
   "source": []
  },
  {
   "cell_type": "code",
   "execution_count": 28,
   "id": "d709c3b3-78f2-4675-a6bd-083082fac885",
   "metadata": {},
   "outputs": [],
   "source": [
    "grouped_sdf = pd.DataFrame(unibi_reviews.groupby('normalized_url').unibi.apply(sum)).reset_index()"
   ]
  },
  {
   "cell_type": "code",
   "execution_count": 29,
   "id": "04750519-ac57-40bd-9bd8-100543d5b55c",
   "metadata": {},
   "outputs": [],
   "source": [
    "pd.set_option('max_colwidth', 50)\n",
    "\n",
    "#tokenized_reviews[(tokenized_reviews['review_source_id']=='232203656')]\n",
    "\n",
    "grouped_sdf['unibi_str'] = [','.join(map(str, l)) for l in grouped_sdf['unibi']]"
   ]
  },
  {
   "cell_type": "code",
   "execution_count": 30,
   "id": "4ffa0762-989a-4f78-b4ac-0ebd7e92053d",
   "metadata": {},
   "outputs": [
    {
     "data": {
      "text/html": [
       "<div>\n",
       "<style scoped>\n",
       "    .dataframe tbody tr th:only-of-type {\n",
       "        vertical-align: middle;\n",
       "    }\n",
       "\n",
       "    .dataframe tbody tr th {\n",
       "        vertical-align: top;\n",
       "    }\n",
       "\n",
       "    .dataframe thead th {\n",
       "        text-align: right;\n",
       "    }\n",
       "</style>\n",
       "<table border=\"1\" class=\"dataframe\">\n",
       "  <thead>\n",
       "    <tr style=\"text-align: right;\">\n",
       "      <th></th>\n",
       "      <th>normalized_url</th>\n",
       "      <th>unibi</th>\n",
       "      <th>unibi_str</th>\n",
       "    </tr>\n",
       "  </thead>\n",
       "  <tbody>\n",
       "    <tr>\n",
       "      <th>0</th>\n",
       "      <td>freckbeauty.com</td>\n",
       "      <td>[summer, natural, natural_perfect, perfect_sum...</td>\n",
       "      <td>summer,natural,natural_perfect,perfect_summer,...</td>\n",
       "    </tr>\n",
       "  </tbody>\n",
       "</table>\n",
       "</div>"
      ],
      "text/plain": [
       "    normalized_url                                              unibi  \\\n",
       "0  freckbeauty.com  [summer, natural, natural_perfect, perfect_sum...   \n",
       "\n",
       "                                           unibi_str  \n",
       "0  summer,natural,natural_perfect,perfect_summer,...  "
      ]
     },
     "execution_count": 30,
     "metadata": {},
     "output_type": "execute_result"
    }
   ],
   "source": [
    "grouped_sdf"
   ]
  },
  {
   "cell_type": "code",
   "execution_count": 24,
   "id": "47974363-123e-477f-a459-ae2c4e0eb582",
   "metadata": {},
   "outputs": [
    {
     "name": "stderr",
     "output_type": "stream",
     "text": [
      "/opt/conda/lib/python3.7/site-packages/sklearn/utils/deprecation.py:87: FutureWarning: Function get_feature_names is deprecated; get_feature_names is deprecated in 1.0 and will be removed in 1.2. Please use get_feature_names_out instead.\n",
      "  warnings.warn(msg, category=FutureWarning)\n"
     ]
    }
   ],
   "source": [
    "frames = []\n",
    "\n",
    "for i in range(len(grouped_sdf)):    \n",
    "# settings that you use for count vectorizer will go here \n",
    "    tfidf_vectorizer=TfidfVectorizer(\n",
    "        norm=None,\n",
    "        sublinear_tf=False,\n",
    "        use_idf=True,\n",
    "        lowercase=False,\n",
    "        stop_words='english',\n",
    "        smooth_idf=True,\n",
    "        max_df = len(grouped_sdf['normalized_url'])-1\n",
    "    ) \n",
    "\n",
    "    # just send in all your docs here \n",
    "    tfidf_vectorizer_vectors=tfidf_vectorizer.fit_transform(grouped_sdf['unibi_str'])\n",
    "\n",
    "    # get the first vector out (for the first document) \n",
    "    first_vector_tfidfvectorizer=tfidf_vectorizer_vectors[i]\n",
    "\n",
    "    # place tf-idf values in a pandas data frame \n",
    "    df = pd.DataFrame(first_vector_tfidfvectorizer.T.todense(), index=tfidf_vectorizer.get_feature_names(), columns=[\"tfidf\"])\n",
    "    joined_df = unibi_words[(unibi_words['normalized_url']==grouped_sdf.reset_index()['normalized_url'][i])].join(df, on='unibi_word', how='inner', lsuffix='_left', rsuffix='_right')\n",
    "    frames.append(joined_df)\n",
    "\n",
    "df = pd.concat(frames)\n",
    "#reviews = unibi_reviews[(unibi_reviews['normalized_url'] == url)]\n",
    "#joined_df = unibi_reviews.join(df, on='unibi_word', how='inner', lsuffix='_left', rsuffix='_right')\n",
    "sorted_df = df[['normalized_url', 'unibi_word', 'tfidf']].sort_values(by=['normalized_url', \"tfidf\"],ascending=False).drop_duplicates()\n"
   ]
  },
  {
   "cell_type": "code",
   "execution_count": 25,
   "id": "bb04098e-fceb-4ee9-8e28-7119e03d8721",
   "metadata": {},
   "outputs": [],
   "source": [
    "tf_idf_output = sorted_df.groupby('normalized_url').head(TOP_N_WORDS)"
   ]
  },
  {
   "cell_type": "code",
   "execution_count": 26,
   "id": "de16d647-d2cf-4e84-8bf4-eaaf46b09855",
   "metadata": {},
   "outputs": [],
   "source": [
    "unibi_reviews_grouped = unibi_words.groupby(['normalized_url', 'unibi_word']).agg({'review_rating':'mean', 'review_source_id':'count'})\n",
    "\n",
    "unibi_reviews_grouped = unibi_reviews_grouped.rename(columns={\"review_rating\": \"avg_rating\", \"review_source_id\": \"review_count\"})"
   ]
  },
  {
   "cell_type": "code",
   "execution_count": 27,
   "id": "fc4a8fa7-9f54-494e-8e3d-941d0c9297b7",
   "metadata": {},
   "outputs": [],
   "source": [
    "avg_rating_tfidf = pd.merge(unibi_reviews_grouped, tf_idf_output, on=['normalized_url', 'unibi_word'], how='inner').sort_values(by=['normalized_url', \"tfidf\"],ascending=False)[['normalized_url','unibi_word', 'tfidf', 'avg_rating']]"
   ]
  },
  {
   "cell_type": "code",
   "execution_count": 28,
   "id": "9fb197b1-601b-4d14-a66d-40353330986f",
   "metadata": {},
   "outputs": [
    {
     "data": {
      "text/plain": [
       "array(['unrealsnacks.com', 'tonyschocolonely.com', 'tcho.com',\n",
       "       'tazachocolate.com', 'skinnydipped.com', 'lilys.com',\n",
       "       'jojoschocolate.com', 'hukitchen.com', 'hersheyland.com',\n",
       "       'eatingevolved.com'], dtype=object)"
      ]
     },
     "execution_count": 28,
     "metadata": {},
     "output_type": "execute_result"
    }
   ],
   "source": [
    "avg_rating_tfidf[\"normalized_url\"].unique()"
   ]
  },
  {
   "cell_type": "code",
   "execution_count": 36,
   "id": "a2d7be2e-a0fb-4b20-a97f-0273f82e5c52",
   "metadata": {
    "collapsed": true,
    "jupyter": {
     "outputs_hidden": true,
     "source_hidden": true
    },
    "tags": []
   },
   "outputs": [
    {
     "data": {
      "application/vnd.plotly.v1+json": {
       "config": {
        "plotlyServerURL": "https://plot.ly"
       },
       "data": [
        {
         "marker": {
          "color": [
           4.777777777777778,
           2.75,
           4.555555555555555,
           4.666666666666667,
           4.777777777777778,
           5,
           5,
           4.785714285714286
          ],
          "coloraxis": "coloraxis"
         },
         "orientation": "h",
         "type": "bar",
         "x": [
          10.806036259159361,
          11.615880989944458,
          11.86608358006681,
          13.795697904781564,
          14.239032337456225,
          14.408048345545815,
          16.09611624327843,
          17.5249628768692
         ],
         "xaxis": "x",
         "y": [
          "peanut",
          "costco",
          "protein",
          "cranberry",
          "low",
          "guilt",
          "cacao_powder",
          "healthy"
         ],
         "yaxis": "y"
        },
        {
         "marker": {
          "color": [
           3.380952380952381,
           4.775862068965517,
           4.578616352201258,
           3.1842105263157894,
           3.63905325443787,
           3.1869158878504673,
           4.118279569892473,
           4.586374695863747
          ],
          "coloraxis": "coloraxis"
         },
         "orientation": "h",
         "type": "bar",
         "x": [
          201.71267683764142,
          216.22641190343967,
          227.8245173992996,
          231.72944422419522,
          238.64012533245474,
          264.1475530016733,
          316.40875330335217,
          549.9071785216653
         ],
         "xaxis": "x3",
         "y": [
          "cup",
          "carb",
          "low",
          "peanut_butter",
          "caramel",
          "peanut",
          "stevia",
          "keto"
         ],
         "yaxis": "y3"
        },
        {
         "marker": {
          "color": [
           4.448979591836735,
           4.515151515151516,
           4.648648648648648,
           4.637931034482759,
           4.611111111111111,
           4.923076923076923,
           4.583333333333333,
           3.9452054794520546
          ],
          "coloraxis": "coloraxis"
         },
         "orientation": "h",
         "type": "bar",
         "x": [
          53.670198810411925,
          59.019092892020915,
          64.62330060845517,
          69.63890033680478,
          70.66997535709388,
          71.19516168728113,
          91.2509728551235,
          117.24791366063303
         ],
         "xaxis": "x5",
         "y": [
          "brand",
          "coconut_sugar",
          "dairy",
          "clean",
          "paleo",
          "healthy",
          "baking",
          "gem"
         ],
         "yaxis": "y5"
        },
        {
         "marker": {
          "color": [
           3.90625,
           1.625,
           3.96875,
           1.7346938775510203,
           4.355555555555555,
           3.5308641975308643,
           3.8636363636363638,
           3.6222222222222222
          ],
          "coloraxis": "coloraxis"
         },
         "orientation": "h",
         "type": "bar",
         "x": [
          40.822803645713144,
          43.812407192173,
          49.367494207263945,
          53.670198810411925,
          53.670198810411925,
          99.65566772335856,
          144.08048345545816,
          169.29456806016333
         ],
         "xaxis": "x7",
         "y": [
          "filling",
          "completely_melted",
          "hazelnut",
          "completely",
          "diet",
          "coconut",
          "keto",
          "cup"
         ],
         "yaxis": "y7"
        },
        {
         "marker": {
          "color": [
           4.621621621621622,
           4.433333333333334,
           4.217391304347826,
           4.4035087719298245,
           4.7073170731707314,
           4.148936170212766,
           4.132231404958677,
           4.167224080267559
          ],
          "coloraxis": "coloraxis"
         },
         "orientation": "h",
         "type": "bar",
         "x": [
          76.90366649566361,
          84.3810387915862,
          85.43419402473735,
          91.54974080350799,
          97.48260600258493,
          112.86304537344222,
          147.68249554184462,
          334.06960484031913
         ],
         "xaxis": "x9",
         "y": [
          "espresso",
          "raspberry",
          "covered",
          "cashew",
          "healthy",
          "peanut_butter",
          "peanut",
          "almond"
         ],
         "yaxis": "y9"
        },
        {
         "marker": {
          "color": [
           4.632352941176471,
           4.472222222222222,
           4.336538461538462,
           4.719298245614035,
           4.372881355932203,
           4.446043165467626,
           4.699029126213592,
           4.403614457831325
          ],
          "coloraxis": "coloraxis"
         },
         "orientation": "h",
         "type": "bar",
         "x": [
          74.4810922266941,
          81.05295330552005,
          124.86975232806374,
          131.05913009542485,
          141.67914206453386,
          180.1006043193227,
          184.2111081175198,
          204.11401822856573
         ],
         "xaxis": "x2",
         "y": [
          "healthy",
          "brand",
          "peanut_butter",
          "mound_bar",
          "cup",
          "coconut",
          "mound",
          "peanut"
         ],
         "yaxis": "y2"
        },
        {
         "marker": {
          "color": [
           4.461538461538462,
           5,
           4.5,
           4.888888888888889,
           4.75,
           4.3076923076923075,
           3.9583333333333335,
           5
          ],
          "coloraxis": "coloraxis"
         },
         "orientation": "h",
         "type": "bar",
         "x": [
          18.875806608659744,
          18.933236645668977,
          20.3277917324028,
          20.693546857172347,
          21.9062035960865,
          25.192134135499476,
          28.81609669109163,
          45.62548642756175
         ],
         "xaxis": "x4",
         "y": [
          "fair_trade",
          "mokaccino",
          "trade",
          "popping_candy",
          "smooth",
          "cacao",
          "milk_chocolate",
          "coffee"
         ],
         "yaxis": "y4"
        },
        {
         "marker": {
          "color": [
           4.875,
           3.2857142857142856,
           4.285714285714286,
           4.333333333333333,
           4.875,
           4.411764705882353,
           4.3076923076923075,
           4.809523809523809
          ],
          "coloraxis": "coloraxis"
         },
         "orientation": "h",
         "type": "bar",
         "x": [
          12.849086428562524,
          14.08120638174936,
          15.33434251726055,
          16.429652697064874,
          18.394263873042085,
          18.620273056673526,
          18.875806608659744,
          25.192134135499476
         ],
         "xaxis": "x6",
         "y": [
          "pumpkin",
          "pretzel",
          "sea_salt",
          "sea",
          "pumpkin_seed",
          "salt",
          "costco",
          "almond"
         ],
         "yaxis": "y6"
        },
        {
         "marker": {
          "color": [
           4.916666666666667,
           4.333333333333333,
           4.388888888888889,
           4.481012658227848,
           4.612903225806452,
           4.369230769230769,
           4.956521739130435,
           4.346938775510204
          ],
          "coloraxis": "coloraxis"
         },
         "orientation": "h",
         "type": "bar",
         "x": [
          64.9139542137222,
          78.8623329459114,
          82.77418742868939,
          86.52950420454168,
          89.25668704386803,
          93.61021490941594,
          105.767017269992,
          121.26774024167729
         ],
         "xaxis": "x8",
         "y": [
          "slave_labor",
          "salt",
          "mission",
          "brand",
          "slavery",
          "caramel",
          "labor",
          "milk_chocolate"
         ],
         "yaxis": "y8"
        },
        {
         "marker": {
          "color": [
           3.76271186440678,
           4.428571428571429,
           4.307142857142857,
           3.513333333333333,
           4.040404040404041,
           4.032258064516129,
           3.5784313725490198,
           4.310077519379845
          ],
          "coloraxis": "coloraxis"
         },
         "orientation": "h",
         "type": "bar",
         "x": [
          159.5801374420671,
          188.54120469868138,
          203.277917324028,
          208.31568951672844,
          232.2275813971563,
          232.2275813971563,
          279.5121909971293,
          351.61725199099527
         ],
         "xaxis": "x10",
         "y": [
          "disk",
          "chili",
          "hot_chocolate",
          "grainy",
          "disc",
          "mexican",
          "gritty",
          "stone_ground"
         ],
         "yaxis": "y10"
        }
       ],
       "layout": {
        "autosize": true,
        "coloraxis": {
         "cmax": 5,
         "cmin": 1,
         "colorbar": {
          "title": {
           "text": "<b>average rating</b>"
          }
         },
         "colorscale": [
          [
           0,
           "rgb(165,0,38)"
          ],
          [
           0.1,
           "rgb(215,48,39)"
          ],
          [
           0.2,
           "rgb(244,109,67)"
          ],
          [
           0.3,
           "rgb(253,174,97)"
          ],
          [
           0.4,
           "rgb(254,224,139)"
          ],
          [
           0.5,
           "rgb(255,255,191)"
          ],
          [
           0.6,
           "rgb(217,239,139)"
          ],
          [
           0.7,
           "rgb(166,217,106)"
          ],
          [
           0.8,
           "rgb(102,189,99)"
          ],
          [
           0.9,
           "rgb(26,152,80)"
          ],
          [
           1,
           "rgb(0,104,55)"
          ]
         ]
        },
        "font": {
         "size": 12
        },
        "height": 1000,
        "margin": {
         "t": 50
        },
        "plot_bgcolor": "white",
        "showlegend": false,
        "template": {
         "data": {
          "bar": [
           {
            "error_x": {
             "color": "#2a3f5f"
            },
            "error_y": {
             "color": "#2a3f5f"
            },
            "marker": {
             "line": {
              "color": "#E5ECF6",
              "width": 0.5
             },
             "pattern": {
              "fillmode": "overlay",
              "size": 10,
              "solidity": 0.2
             }
            },
            "type": "bar"
           }
          ],
          "barpolar": [
           {
            "marker": {
             "line": {
              "color": "#E5ECF6",
              "width": 0.5
             },
             "pattern": {
              "fillmode": "overlay",
              "size": 10,
              "solidity": 0.2
             }
            },
            "type": "barpolar"
           }
          ],
          "carpet": [
           {
            "aaxis": {
             "endlinecolor": "#2a3f5f",
             "gridcolor": "white",
             "linecolor": "white",
             "minorgridcolor": "white",
             "startlinecolor": "#2a3f5f"
            },
            "baxis": {
             "endlinecolor": "#2a3f5f",
             "gridcolor": "white",
             "linecolor": "white",
             "minorgridcolor": "white",
             "startlinecolor": "#2a3f5f"
            },
            "type": "carpet"
           }
          ],
          "choropleth": [
           {
            "colorbar": {
             "outlinewidth": 0,
             "ticks": ""
            },
            "type": "choropleth"
           }
          ],
          "contour": [
           {
            "colorbar": {
             "outlinewidth": 0,
             "ticks": ""
            },
            "colorscale": [
             [
              0,
              "#0d0887"
             ],
             [
              0.1111111111111111,
              "#46039f"
             ],
             [
              0.2222222222222222,
              "#7201a8"
             ],
             [
              0.3333333333333333,
              "#9c179e"
             ],
             [
              0.4444444444444444,
              "#bd3786"
             ],
             [
              0.5555555555555556,
              "#d8576b"
             ],
             [
              0.6666666666666666,
              "#ed7953"
             ],
             [
              0.7777777777777778,
              "#fb9f3a"
             ],
             [
              0.8888888888888888,
              "#fdca26"
             ],
             [
              1,
              "#f0f921"
             ]
            ],
            "type": "contour"
           }
          ],
          "contourcarpet": [
           {
            "colorbar": {
             "outlinewidth": 0,
             "ticks": ""
            },
            "type": "contourcarpet"
           }
          ],
          "heatmap": [
           {
            "colorbar": {
             "outlinewidth": 0,
             "ticks": ""
            },
            "colorscale": [
             [
              0,
              "#0d0887"
             ],
             [
              0.1111111111111111,
              "#46039f"
             ],
             [
              0.2222222222222222,
              "#7201a8"
             ],
             [
              0.3333333333333333,
              "#9c179e"
             ],
             [
              0.4444444444444444,
              "#bd3786"
             ],
             [
              0.5555555555555556,
              "#d8576b"
             ],
             [
              0.6666666666666666,
              "#ed7953"
             ],
             [
              0.7777777777777778,
              "#fb9f3a"
             ],
             [
              0.8888888888888888,
              "#fdca26"
             ],
             [
              1,
              "#f0f921"
             ]
            ],
            "type": "heatmap"
           }
          ],
          "heatmapgl": [
           {
            "colorbar": {
             "outlinewidth": 0,
             "ticks": ""
            },
            "colorscale": [
             [
              0,
              "#0d0887"
             ],
             [
              0.1111111111111111,
              "#46039f"
             ],
             [
              0.2222222222222222,
              "#7201a8"
             ],
             [
              0.3333333333333333,
              "#9c179e"
             ],
             [
              0.4444444444444444,
              "#bd3786"
             ],
             [
              0.5555555555555556,
              "#d8576b"
             ],
             [
              0.6666666666666666,
              "#ed7953"
             ],
             [
              0.7777777777777778,
              "#fb9f3a"
             ],
             [
              0.8888888888888888,
              "#fdca26"
             ],
             [
              1,
              "#f0f921"
             ]
            ],
            "type": "heatmapgl"
           }
          ],
          "histogram": [
           {
            "marker": {
             "pattern": {
              "fillmode": "overlay",
              "size": 10,
              "solidity": 0.2
             }
            },
            "type": "histogram"
           }
          ],
          "histogram2d": [
           {
            "colorbar": {
             "outlinewidth": 0,
             "ticks": ""
            },
            "colorscale": [
             [
              0,
              "#0d0887"
             ],
             [
              0.1111111111111111,
              "#46039f"
             ],
             [
              0.2222222222222222,
              "#7201a8"
             ],
             [
              0.3333333333333333,
              "#9c179e"
             ],
             [
              0.4444444444444444,
              "#bd3786"
             ],
             [
              0.5555555555555556,
              "#d8576b"
             ],
             [
              0.6666666666666666,
              "#ed7953"
             ],
             [
              0.7777777777777778,
              "#fb9f3a"
             ],
             [
              0.8888888888888888,
              "#fdca26"
             ],
             [
              1,
              "#f0f921"
             ]
            ],
            "type": "histogram2d"
           }
          ],
          "histogram2dcontour": [
           {
            "colorbar": {
             "outlinewidth": 0,
             "ticks": ""
            },
            "colorscale": [
             [
              0,
              "#0d0887"
             ],
             [
              0.1111111111111111,
              "#46039f"
             ],
             [
              0.2222222222222222,
              "#7201a8"
             ],
             [
              0.3333333333333333,
              "#9c179e"
             ],
             [
              0.4444444444444444,
              "#bd3786"
             ],
             [
              0.5555555555555556,
              "#d8576b"
             ],
             [
              0.6666666666666666,
              "#ed7953"
             ],
             [
              0.7777777777777778,
              "#fb9f3a"
             ],
             [
              0.8888888888888888,
              "#fdca26"
             ],
             [
              1,
              "#f0f921"
             ]
            ],
            "type": "histogram2dcontour"
           }
          ],
          "mesh3d": [
           {
            "colorbar": {
             "outlinewidth": 0,
             "ticks": ""
            },
            "type": "mesh3d"
           }
          ],
          "parcoords": [
           {
            "line": {
             "colorbar": {
              "outlinewidth": 0,
              "ticks": ""
             }
            },
            "type": "parcoords"
           }
          ],
          "pie": [
           {
            "automargin": true,
            "type": "pie"
           }
          ],
          "scatter": [
           {
            "marker": {
             "colorbar": {
              "outlinewidth": 0,
              "ticks": ""
             }
            },
            "type": "scatter"
           }
          ],
          "scatter3d": [
           {
            "line": {
             "colorbar": {
              "outlinewidth": 0,
              "ticks": ""
             }
            },
            "marker": {
             "colorbar": {
              "outlinewidth": 0,
              "ticks": ""
             }
            },
            "type": "scatter3d"
           }
          ],
          "scattercarpet": [
           {
            "marker": {
             "colorbar": {
              "outlinewidth": 0,
              "ticks": ""
             }
            },
            "type": "scattercarpet"
           }
          ],
          "scattergeo": [
           {
            "marker": {
             "colorbar": {
              "outlinewidth": 0,
              "ticks": ""
             }
            },
            "type": "scattergeo"
           }
          ],
          "scattergl": [
           {
            "marker": {
             "colorbar": {
              "outlinewidth": 0,
              "ticks": ""
             }
            },
            "type": "scattergl"
           }
          ],
          "scattermapbox": [
           {
            "marker": {
             "colorbar": {
              "outlinewidth": 0,
              "ticks": ""
             }
            },
            "type": "scattermapbox"
           }
          ],
          "scatterpolar": [
           {
            "marker": {
             "colorbar": {
              "outlinewidth": 0,
              "ticks": ""
             }
            },
            "type": "scatterpolar"
           }
          ],
          "scatterpolargl": [
           {
            "marker": {
             "colorbar": {
              "outlinewidth": 0,
              "ticks": ""
             }
            },
            "type": "scatterpolargl"
           }
          ],
          "scatterternary": [
           {
            "marker": {
             "colorbar": {
              "outlinewidth": 0,
              "ticks": ""
             }
            },
            "type": "scatterternary"
           }
          ],
          "surface": [
           {
            "colorbar": {
             "outlinewidth": 0,
             "ticks": ""
            },
            "colorscale": [
             [
              0,
              "#0d0887"
             ],
             [
              0.1111111111111111,
              "#46039f"
             ],
             [
              0.2222222222222222,
              "#7201a8"
             ],
             [
              0.3333333333333333,
              "#9c179e"
             ],
             [
              0.4444444444444444,
              "#bd3786"
             ],
             [
              0.5555555555555556,
              "#d8576b"
             ],
             [
              0.6666666666666666,
              "#ed7953"
             ],
             [
              0.7777777777777778,
              "#fb9f3a"
             ],
             [
              0.8888888888888888,
              "#fdca26"
             ],
             [
              1,
              "#f0f921"
             ]
            ],
            "type": "surface"
           }
          ],
          "table": [
           {
            "cells": {
             "fill": {
              "color": "#EBF0F8"
             },
             "line": {
              "color": "white"
             }
            },
            "header": {
             "fill": {
              "color": "#C8D4E3"
             },
             "line": {
              "color": "white"
             }
            },
            "type": "table"
           }
          ]
         },
         "layout": {
          "annotationdefaults": {
           "arrowcolor": "#2a3f5f",
           "arrowhead": 0,
           "arrowwidth": 1
          },
          "autotypenumbers": "strict",
          "coloraxis": {
           "colorbar": {
            "outlinewidth": 0,
            "ticks": ""
           }
          },
          "colorscale": {
           "diverging": [
            [
             0,
             "#8e0152"
            ],
            [
             0.1,
             "#c51b7d"
            ],
            [
             0.2,
             "#de77ae"
            ],
            [
             0.3,
             "#f1b6da"
            ],
            [
             0.4,
             "#fde0ef"
            ],
            [
             0.5,
             "#f7f7f7"
            ],
            [
             0.6,
             "#e6f5d0"
            ],
            [
             0.7,
             "#b8e186"
            ],
            [
             0.8,
             "#7fbc41"
            ],
            [
             0.9,
             "#4d9221"
            ],
            [
             1,
             "#276419"
            ]
           ],
           "sequential": [
            [
             0,
             "#0d0887"
            ],
            [
             0.1111111111111111,
             "#46039f"
            ],
            [
             0.2222222222222222,
             "#7201a8"
            ],
            [
             0.3333333333333333,
             "#9c179e"
            ],
            [
             0.4444444444444444,
             "#bd3786"
            ],
            [
             0.5555555555555556,
             "#d8576b"
            ],
            [
             0.6666666666666666,
             "#ed7953"
            ],
            [
             0.7777777777777778,
             "#fb9f3a"
            ],
            [
             0.8888888888888888,
             "#fdca26"
            ],
            [
             1,
             "#f0f921"
            ]
           ],
           "sequentialminus": [
            [
             0,
             "#0d0887"
            ],
            [
             0.1111111111111111,
             "#46039f"
            ],
            [
             0.2222222222222222,
             "#7201a8"
            ],
            [
             0.3333333333333333,
             "#9c179e"
            ],
            [
             0.4444444444444444,
             "#bd3786"
            ],
            [
             0.5555555555555556,
             "#d8576b"
            ],
            [
             0.6666666666666666,
             "#ed7953"
            ],
            [
             0.7777777777777778,
             "#fb9f3a"
            ],
            [
             0.8888888888888888,
             "#fdca26"
            ],
            [
             1,
             "#f0f921"
            ]
           ]
          },
          "colorway": [
           "#636efa",
           "#EF553B",
           "#00cc96",
           "#ab63fa",
           "#FFA15A",
           "#19d3f3",
           "#FF6692",
           "#B6E880",
           "#FF97FF",
           "#FECB52"
          ],
          "font": {
           "color": "#2a3f5f"
          },
          "geo": {
           "bgcolor": "white",
           "lakecolor": "white",
           "landcolor": "#E5ECF6",
           "showlakes": true,
           "showland": true,
           "subunitcolor": "white"
          },
          "hoverlabel": {
           "align": "left"
          },
          "hovermode": "closest",
          "mapbox": {
           "style": "light"
          },
          "paper_bgcolor": "white",
          "plot_bgcolor": "#E5ECF6",
          "polar": {
           "angularaxis": {
            "gridcolor": "white",
            "linecolor": "white",
            "ticks": ""
           },
           "bgcolor": "#E5ECF6",
           "radialaxis": {
            "gridcolor": "white",
            "linecolor": "white",
            "ticks": ""
           }
          },
          "scene": {
           "xaxis": {
            "backgroundcolor": "#E5ECF6",
            "gridcolor": "white",
            "gridwidth": 2,
            "linecolor": "white",
            "showbackground": true,
            "ticks": "",
            "zerolinecolor": "white"
           },
           "yaxis": {
            "backgroundcolor": "#E5ECF6",
            "gridcolor": "white",
            "gridwidth": 2,
            "linecolor": "white",
            "showbackground": true,
            "ticks": "",
            "zerolinecolor": "white"
           },
           "zaxis": {
            "backgroundcolor": "#E5ECF6",
            "gridcolor": "white",
            "gridwidth": 2,
            "linecolor": "white",
            "showbackground": true,
            "ticks": "",
            "zerolinecolor": "white"
           }
          },
          "shapedefaults": {
           "line": {
            "color": "#2a3f5f"
           }
          },
          "ternary": {
           "aaxis": {
            "gridcolor": "white",
            "linecolor": "white",
            "ticks": ""
           },
           "baxis": {
            "gridcolor": "white",
            "linecolor": "white",
            "ticks": ""
           },
           "bgcolor": "#E5ECF6",
           "caxis": {
            "gridcolor": "white",
            "linecolor": "white",
            "ticks": ""
           }
          },
          "title": {
           "x": 0.05
          },
          "xaxis": {
           "automargin": true,
           "gridcolor": "white",
           "linecolor": "white",
           "ticks": "",
           "title": {
            "standoff": 15
           },
           "zerolinecolor": "white",
           "zerolinewidth": 2
          },
          "yaxis": {
           "automargin": true,
           "gridcolor": "white",
           "linecolor": "white",
           "ticks": "",
           "title": {
            "standoff": 15
           },
           "zerolinecolor": "white",
           "zerolinewidth": 2
          }
         }
        },
        "title": {
         "text": "Top Unique Terms by Review Sentiment for Select Chocolate Brands",
         "x": 0.5,
         "xanchor": "center",
         "y": 0.99,
         "yanchor": "top"
        },
        "width": 1000,
        "xaxis": {
         "anchor": "y",
         "automargin": true,
         "autorange": true,
         "domain": [
          0,
          0.35
         ],
         "range": [
          0,
          18.44732934407284
         ],
         "showticklabels": false,
         "type": "linear"
        },
        "xaxis10": {
         "anchor": "y10",
         "automargin": true,
         "autorange": true,
         "domain": [
          0.6499999999999999,
          0.9999999999999999
         ],
         "range": [
          0,
          370.12342314841607
         ],
         "showticklabels": false,
         "type": "linear"
        },
        "xaxis2": {
         "anchor": "y2",
         "automargin": true,
         "autorange": true,
         "domain": [
          0.6499999999999999,
          0.9999999999999999
         ],
         "range": [
          0,
          214.85686129322707
         ],
         "showticklabels": false,
         "type": "linear"
        },
        "xaxis3": {
         "anchor": "y3",
         "automargin": true,
         "autorange": true,
         "domain": [
          0,
          0.35
         ],
         "range": [
          0,
          578.8496616017529
         ],
         "showticklabels": false,
         "type": "linear"
        },
        "xaxis4": {
         "anchor": "y4",
         "automargin": true,
         "autorange": true,
         "domain": [
          0.6499999999999999,
          0.9999999999999999
         ],
         "range": [
          0,
          48.026827818486055
         ],
         "showticklabels": false,
         "type": "linear"
        },
        "xaxis5": {
         "anchor": "y5",
         "automargin": true,
         "autorange": true,
         "domain": [
          0,
          0.35
         ],
         "range": [
          0,
          123.41885648487687
         ],
         "showticklabels": false,
         "type": "linear"
        },
        "xaxis6": {
         "anchor": "y6",
         "automargin": true,
         "autorange": true,
         "domain": [
          0.6499999999999999,
          0.9999999999999999
         ],
         "range": [
          0,
          26.518035932104713
         ],
         "showticklabels": false,
         "type": "linear"
        },
        "xaxis7": {
         "anchor": "y7",
         "automargin": true,
         "autorange": true,
         "domain": [
          0,
          0.35
         ],
         "range": [
          0,
          178.20480848438245
         ],
         "showticklabels": false,
         "type": "linear"
        },
        "xaxis8": {
         "anchor": "y8",
         "automargin": true,
         "autorange": true,
         "domain": [
          0.6499999999999999,
          0.9999999999999999
         ],
         "range": [
          0,
          127.65025288597609
         ],
         "showticklabels": false,
         "type": "linear"
        },
        "xaxis9": {
         "anchor": "y9",
         "automargin": true,
         "autorange": true,
         "domain": [
          0,
          0.35
         ],
         "range": [
          0,
          351.65221562138856
         ],
         "showticklabels": false,
         "type": "linear"
        },
        "yaxis": {
         "anchor": "x",
         "automargin": true,
         "autorange": true,
         "domain": [
          0.848,
          1
         ],
         "dtick": 0.3,
         "range": [
          -0.5,
          7.5
         ],
         "title": {
          "text": "JOJO's"
         },
         "type": "category"
        },
        "yaxis10": {
         "anchor": "x10",
         "automargin": true,
         "autorange": true,
         "domain": [
          0,
          0.152
         ],
         "dtick": 0.3,
         "range": [
          -0.5,
          7.5
         ],
         "title": {
          "text": "Taza Chocolate"
         },
         "type": "category"
        },
        "yaxis2": {
         "anchor": "x2",
         "automargin": true,
         "autorange": true,
         "domain": [
          0.848,
          1
         ],
         "dtick": 0.3,
         "range": [
          -0.5,
          7.5
         ],
         "title": {
          "text": "Unreal Snacks"
         },
         "type": "category"
        },
        "yaxis3": {
         "anchor": "x3",
         "automargin": true,
         "autorange": true,
         "domain": [
          0.6359999999999999,
          0.7879999999999999
         ],
         "dtick": 0.3,
         "range": [
          -0.5,
          7.5
         ],
         "title": {
          "text": "Lily's"
         },
         "type": "category"
        },
        "yaxis4": {
         "anchor": "x4",
         "automargin": true,
         "autorange": true,
         "domain": [
          0.6359999999999999,
          0.7879999999999999
         ],
         "dtick": 0.3,
         "range": [
          -0.5,
          7.5
         ],
         "title": {
          "text": "TCHO"
         },
         "type": "category"
        },
        "yaxis5": {
         "anchor": "x5",
         "automargin": true,
         "autorange": true,
         "domain": [
          0.424,
          0.576
         ],
         "dtick": 0.3,
         "range": [
          -0.5,
          7.5
         ],
         "title": {
          "text": "Hu"
         },
         "type": "category"
        },
        "yaxis6": {
         "anchor": "x6",
         "automargin": true,
         "autorange": true,
         "domain": [
          0.424,
          0.576
         ],
         "dtick": 0.3,
         "range": [
          -0.5,
          7.5
         ],
         "title": {
          "text": "Bark Thins"
         },
         "type": "category"
        },
        "yaxis7": {
         "anchor": "x7",
         "automargin": true,
         "autorange": true,
         "domain": [
          0.212,
          0.364
         ],
         "dtick": 0.3,
         "range": [
          -0.5,
          7.5
         ],
         "title": {
          "text": "Eating Evolved"
         },
         "type": "category"
        },
        "yaxis8": {
         "anchor": "x8",
         "automargin": true,
         "autorange": true,
         "domain": [
          0.212,
          0.364
         ],
         "dtick": 0.3,
         "range": [
          -0.5,
          7.5
         ],
         "title": {
          "text": "Tony's Chocolonely"
         },
         "type": "category"
        },
        "yaxis9": {
         "anchor": "x9",
         "automargin": true,
         "autorange": true,
         "domain": [
          0,
          0.152
         ],
         "dtick": 0.3,
         "range": [
          -0.5,
          7.5
         ],
         "title": {
          "text": "Skinny Dipped"
         },
         "type": "category"
        }
       }
      },
      "image/png": "[encoded data removed]",
      "text/html": [
       "<div>                            <div id=\"2b77a79d-2b1c-4548-8241-25508e6b8dc7\" class=\"plotly-graph-div\" style=\"height:1000px; width:1000px;\"></div>            <script type=\"text/javascript\">                require([\"plotly\"], function(Plotly) {                    window.PLOTLYENV=window.PLOTLYENV || {};                                    if (document.getElementById(\"2b77a79d-2b1c-4548-8241-25508e6b8dc7\")) {                    Plotly.newPlot(                        \"2b77a79d-2b1c-4548-8241-25508e6b8dc7\",                        [{\"marker\":{\"color\":[4.777777777777778,2.75,4.555555555555555,4.666666666666667,4.777777777777778,5.0,5.0,4.785714285714286],\"coloraxis\":\"coloraxis\"},\"orientation\":\"h\",\"x\":[10.806036259159361,11.615880989944458,11.86608358006681,13.795697904781564,14.239032337456225,14.408048345545815,16.09611624327843,17.5249628768692],\"y\":[\"peanut\",\"costco\",\"protein\",\"cranberry\",\"low\",\"guilt\",\"cacao_powder\",\"healthy\"],\"type\":\"bar\",\"xaxis\":\"x\",\"yaxis\":\"y\"},{\"marker\":{\"color\":[3.380952380952381,4.775862068965517,4.578616352201258,3.1842105263157894,3.63905325443787,3.1869158878504673,4.118279569892473,4.586374695863747],\"coloraxis\":\"coloraxis\"},\"orientation\":\"h\",\"x\":[201.71267683764142,216.22641190343967,227.8245173992996,231.72944422419522,238.64012533245474,264.1475530016733,316.40875330335217,549.9071785216653],\"y\":[\"cup\",\"carb\",\"low\",\"peanut_butter\",\"caramel\",\"peanut\",\"stevia\",\"keto\"],\"type\":\"bar\",\"xaxis\":\"x3\",\"yaxis\":\"y3\"},{\"marker\":{\"color\":[4.448979591836735,4.515151515151516,4.648648648648648,4.637931034482759,4.611111111111111,4.923076923076923,4.583333333333333,3.9452054794520546],\"coloraxis\":\"coloraxis\"},\"orientation\":\"h\",\"x\":[53.670198810411925,59.019092892020915,64.62330060845517,69.63890033680478,70.66997535709388,71.19516168728113,91.2509728551235,117.24791366063303],\"y\":[\"brand\",\"coconut_sugar\",\"dairy\",\"clean\",\"paleo\",\"healthy\",\"baking\",\"gem\"],\"type\":\"bar\",\"xaxis\":\"x5\",\"yaxis\":\"y5\"},{\"marker\":{\"color\":[3.90625,1.625,3.96875,1.7346938775510203,4.355555555555555,3.5308641975308643,3.8636363636363638,3.6222222222222222],\"coloraxis\":\"coloraxis\"},\"orientation\":\"h\",\"x\":[40.822803645713144,43.812407192173,49.367494207263945,53.670198810411925,53.670198810411925,99.65566772335856,144.08048345545816,169.29456806016333],\"y\":[\"filling\",\"completely_melted\",\"hazelnut\",\"completely\",\"diet\",\"coconut\",\"keto\",\"cup\"],\"type\":\"bar\",\"xaxis\":\"x7\",\"yaxis\":\"y7\"},{\"marker\":{\"color\":[4.621621621621622,4.433333333333334,4.217391304347826,4.4035087719298245,4.7073170731707314,4.148936170212766,4.132231404958677,4.167224080267559],\"coloraxis\":\"coloraxis\"},\"orientation\":\"h\",\"x\":[76.90366649566361,84.3810387915862,85.43419402473735,91.54974080350799,97.48260600258493,112.86304537344222,147.68249554184462,334.06960484031913],\"y\":[\"espresso\",\"raspberry\",\"covered\",\"cashew\",\"healthy\",\"peanut_butter\",\"peanut\",\"almond\"],\"type\":\"bar\",\"xaxis\":\"x9\",\"yaxis\":\"y9\"},{\"marker\":{\"color\":[4.632352941176471,4.472222222222222,4.336538461538462,4.719298245614035,4.372881355932203,4.446043165467626,4.699029126213592,4.403614457831325],\"coloraxis\":\"coloraxis\"},\"orientation\":\"h\",\"x\":[74.4810922266941,81.05295330552005,124.86975232806374,131.05913009542485,141.67914206453386,180.1006043193227,184.2111081175198,204.11401822856573],\"y\":[\"healthy\",\"brand\",\"peanut_butter\",\"mound_bar\",\"cup\",\"coconut\",\"mound\",\"peanut\"],\"type\":\"bar\",\"xaxis\":\"x2\",\"yaxis\":\"y2\"},{\"marker\":{\"color\":[4.461538461538462,5.0,4.5,4.888888888888889,4.75,4.3076923076923075,3.9583333333333335,5.0],\"coloraxis\":\"coloraxis\"},\"orientation\":\"h\",\"x\":[18.875806608659744,18.933236645668977,20.3277917324028,20.693546857172347,21.9062035960865,25.192134135499476,28.81609669109163,45.62548642756175],\"y\":[\"fair_trade\",\"mokaccino\",\"trade\",\"popping_candy\",\"smooth\",\"cacao\",\"milk_chocolate\",\"coffee\"],\"type\":\"bar\",\"xaxis\":\"x4\",\"yaxis\":\"y4\"},{\"marker\":{\"color\":[4.875,3.2857142857142856,4.285714285714286,4.333333333333333,4.875,4.411764705882353,4.3076923076923075,4.809523809523809],\"coloraxis\":\"coloraxis\"},\"orientation\":\"h\",\"x\":[12.849086428562524,14.08120638174936,15.33434251726055,16.429652697064874,18.394263873042085,18.620273056673526,18.875806608659744,25.192134135499476],\"y\":[\"pumpkin\",\"pretzel\",\"sea_salt\",\"sea\",\"pumpkin_seed\",\"salt\",\"costco\",\"almond\"],\"type\":\"bar\",\"xaxis\":\"x6\",\"yaxis\":\"y6\"},{\"marker\":{\"color\":[4.916666666666667,4.333333333333333,4.388888888888889,4.481012658227848,4.612903225806452,4.369230769230769,4.956521739130435,4.346938775510204],\"coloraxis\":\"coloraxis\"},\"orientation\":\"h\",\"x\":[64.9139542137222,78.8623329459114,82.77418742868939,86.52950420454168,89.25668704386803,93.61021490941594,105.767017269992,121.26774024167729],\"y\":[\"slave_labor\",\"salt\",\"mission\",\"brand\",\"slavery\",\"caramel\",\"labor\",\"milk_chocolate\"],\"type\":\"bar\",\"xaxis\":\"x8\",\"yaxis\":\"y8\"},{\"marker\":{\"color\":[3.76271186440678,4.428571428571429,4.307142857142857,3.513333333333333,4.040404040404041,4.032258064516129,3.5784313725490198,4.310077519379845],\"coloraxis\":\"coloraxis\"},\"orientation\":\"h\",\"x\":[159.5801374420671,188.54120469868138,203.277917324028,208.31568951672844,232.2275813971563,232.2275813971563,279.5121909971293,351.61725199099527],\"y\":[\"disk\",\"chili\",\"hot_chocolate\",\"grainy\",\"disc\",\"mexican\",\"gritty\",\"stone_ground\"],\"type\":\"bar\",\"xaxis\":\"x10\",\"yaxis\":\"y10\"}],                        {\"template\":{\"data\":{\"bar\":[{\"error_x\":{\"color\":\"#2a3f5f\"},\"error_y\":{\"color\":\"#2a3f5f\"},\"marker\":{\"line\":{\"color\":\"#E5ECF6\",\"width\":0.5},\"pattern\":{\"fillmode\":\"overlay\",\"size\":10,\"solidity\":0.2}},\"type\":\"bar\"}],\"barpolar\":[{\"marker\":{\"line\":{\"color\":\"#E5ECF6\",\"width\":0.5},\"pattern\":{\"fillmode\":\"overlay\",\"size\":10,\"solidity\":0.2}},\"type\":\"barpolar\"}],\"carpet\":[{\"aaxis\":{\"endlinecolor\":\"#2a3f5f\",\"gridcolor\":\"white\",\"linecolor\":\"white\",\"minorgridcolor\":\"white\",\"startlinecolor\":\"#2a3f5f\"},\"baxis\":{\"endlinecolor\":\"#2a3f5f\",\"gridcolor\":\"white\",\"linecolor\":\"white\",\"minorgridcolor\":\"white\",\"startlinecolor\":\"#2a3f5f\"},\"type\":\"carpet\"}],\"choropleth\":[{\"colorbar\":{\"outlinewidth\":0,\"ticks\":\"\"},\"type\":\"choropleth\"}],\"contour\":[{\"colorbar\":{\"outlinewidth\":0,\"ticks\":\"\"},\"colorscale\":[[0.0,\"#0d0887\"],[0.1111111111111111,\"#46039f\"],[0.2222222222222222,\"#7201a8\"],[0.3333333333333333,\"#9c179e\"],[0.4444444444444444,\"#bd3786\"],[0.5555555555555556,\"#d8576b\"],[0.6666666666666666,\"#ed7953\"],[0.7777777777777778,\"#fb9f3a\"],[0.8888888888888888,\"#fdca26\"],[1.0,\"#f0f921\"]],\"type\":\"contour\"}],\"contourcarpet\":[{\"colorbar\":{\"outlinewidth\":0,\"ticks\":\"\"},\"type\":\"contourcarpet\"}],\"heatmap\":[{\"colorbar\":{\"outlinewidth\":0,\"ticks\":\"\"},\"colorscale\":[[0.0,\"#0d0887\"],[0.1111111111111111,\"#46039f\"],[0.2222222222222222,\"#7201a8\"],[0.3333333333333333,\"#9c179e\"],[0.4444444444444444,\"#bd3786\"],[0.5555555555555556,\"#d8576b\"],[0.6666666666666666,\"#ed7953\"],[0.7777777777777778,\"#fb9f3a\"],[0.8888888888888888,\"#fdca26\"],[1.0,\"#f0f921\"]],\"type\":\"heatmap\"}],\"heatmapgl\":[{\"colorbar\":{\"outlinewidth\":0,\"ticks\":\"\"},\"colorscale\":[[0.0,\"#0d0887\"],[0.1111111111111111,\"#46039f\"],[0.2222222222222222,\"#7201a8\"],[0.3333333333333333,\"#9c179e\"],[0.4444444444444444,\"#bd3786\"],[0.5555555555555556,\"#d8576b\"],[0.6666666666666666,\"#ed7953\"],[0.7777777777777778,\"#fb9f3a\"],[0.8888888888888888,\"#fdca26\"],[1.0,\"#f0f921\"]],\"type\":\"heatmapgl\"}],\"histogram\":[{\"marker\":{\"pattern\":{\"fillmode\":\"overlay\",\"size\":10,\"solidity\":0.2}},\"type\":\"histogram\"}],\"histogram2d\":[{\"colorbar\":{\"outlinewidth\":0,\"ticks\":\"\"},\"colorscale\":[[0.0,\"#0d0887\"],[0.1111111111111111,\"#46039f\"],[0.2222222222222222,\"#7201a8\"],[0.3333333333333333,\"#9c179e\"],[0.4444444444444444,\"#bd3786\"],[0.5555555555555556,\"#d8576b\"],[0.6666666666666666,\"#ed7953\"],[0.7777777777777778,\"#fb9f3a\"],[0.8888888888888888,\"#fdca26\"],[1.0,\"#f0f921\"]],\"type\":\"histogram2d\"}],\"histogram2dcontour\":[{\"colorbar\":{\"outlinewidth\":0,\"ticks\":\"\"},\"colorscale\":[[0.0,\"#0d0887\"],[0.1111111111111111,\"#46039f\"],[0.2222222222222222,\"#7201a8\"],[0.3333333333333333,\"#9c179e\"],[0.4444444444444444,\"#bd3786\"],[0.5555555555555556,\"#d8576b\"],[0.6666666666666666,\"#ed7953\"],[0.7777777777777778,\"#fb9f3a\"],[0.8888888888888888,\"#fdca26\"],[1.0,\"#f0f921\"]],\"type\":\"histogram2dcontour\"}],\"mesh3d\":[{\"colorbar\":{\"outlinewidth\":0,\"ticks\":\"\"},\"type\":\"mesh3d\"}],\"parcoords\":[{\"line\":{\"colorbar\":{\"outlinewidth\":0,\"ticks\":\"\"}},\"type\":\"parcoords\"}],\"pie\":[{\"automargin\":true,\"type\":\"pie\"}],\"scatter\":[{\"marker\":{\"colorbar\":{\"outlinewidth\":0,\"ticks\":\"\"}},\"type\":\"scatter\"}],\"scatter3d\":[{\"line\":{\"colorbar\":{\"outlinewidth\":0,\"ticks\":\"\"}},\"marker\":{\"colorbar\":{\"outlinewidth\":0,\"ticks\":\"\"}},\"type\":\"scatter3d\"}],\"scattercarpet\":[{\"marker\":{\"colorbar\":{\"outlinewidth\":0,\"ticks\":\"\"}},\"type\":\"scattercarpet\"}],\"scattergeo\":[{\"marker\":{\"colorbar\":{\"outlinewidth\":0,\"ticks\":\"\"}},\"type\":\"scattergeo\"}],\"scattergl\":[{\"marker\":{\"colorbar\":{\"outlinewidth\":0,\"ticks\":\"\"}},\"type\":\"scattergl\"}],\"scattermapbox\":[{\"marker\":{\"colorbar\":{\"outlinewidth\":0,\"ticks\":\"\"}},\"type\":\"scattermapbox\"}],\"scatterpolar\":[{\"marker\":{\"colorbar\":{\"outlinewidth\":0,\"ticks\":\"\"}},\"type\":\"scatterpolar\"}],\"scatterpolargl\":[{\"marker\":{\"colorbar\":{\"outlinewidth\":0,\"ticks\":\"\"}},\"type\":\"scatterpolargl\"}],\"scatterternary\":[{\"marker\":{\"colorbar\":{\"outlinewidth\":0,\"ticks\":\"\"}},\"type\":\"scatterternary\"}],\"surface\":[{\"colorbar\":{\"outlinewidth\":0,\"ticks\":\"\"},\"colorscale\":[[0.0,\"#0d0887\"],[0.1111111111111111,\"#46039f\"],[0.2222222222222222,\"#7201a8\"],[0.3333333333333333,\"#9c179e\"],[0.4444444444444444,\"#bd3786\"],[0.5555555555555556,\"#d8576b\"],[0.6666666666666666,\"#ed7953\"],[0.7777777777777778,\"#fb9f3a\"],[0.8888888888888888,\"#fdca26\"],[1.0,\"#f0f921\"]],\"type\":\"surface\"}],\"table\":[{\"cells\":{\"fill\":{\"color\":\"#EBF0F8\"},\"line\":{\"color\":\"white\"}},\"header\":{\"fill\":{\"color\":\"#C8D4E3\"},\"line\":{\"color\":\"white\"}},\"type\":\"table\"}]},\"layout\":{\"annotationdefaults\":{\"arrowcolor\":\"#2a3f5f\",\"arrowhead\":0,\"arrowwidth\":1},\"autotypenumbers\":\"strict\",\"coloraxis\":{\"colorbar\":{\"outlinewidth\":0,\"ticks\":\"\"}},\"colorscale\":{\"diverging\":[[0,\"#8e0152\"],[0.1,\"#c51b7d\"],[0.2,\"#de77ae\"],[0.3,\"#f1b6da\"],[0.4,\"#fde0ef\"],[0.5,\"#f7f7f7\"],[0.6,\"#e6f5d0\"],[0.7,\"#b8e186\"],[0.8,\"#7fbc41\"],[0.9,\"#4d9221\"],[1,\"#276419\"]],\"sequential\":[[0.0,\"#0d0887\"],[0.1111111111111111,\"#46039f\"],[0.2222222222222222,\"#7201a8\"],[0.3333333333333333,\"#9c179e\"],[0.4444444444444444,\"#bd3786\"],[0.5555555555555556,\"#d8576b\"],[0.6666666666666666,\"#ed7953\"],[0.7777777777777778,\"#fb9f3a\"],[0.8888888888888888,\"#fdca26\"],[1.0,\"#f0f921\"]],\"sequentialminus\":[[0.0,\"#0d0887\"],[0.1111111111111111,\"#46039f\"],[0.2222222222222222,\"#7201a8\"],[0.3333333333333333,\"#9c179e\"],[0.4444444444444444,\"#bd3786\"],[0.5555555555555556,\"#d8576b\"],[0.6666666666666666,\"#ed7953\"],[0.7777777777777778,\"#fb9f3a\"],[0.8888888888888888,\"#fdca26\"],[1.0,\"#f0f921\"]]},\"colorway\":[\"#636efa\",\"#EF553B\",\"#00cc96\",\"#ab63fa\",\"#FFA15A\",\"#19d3f3\",\"#FF6692\",\"#B6E880\",\"#FF97FF\",\"#FECB52\"],\"font\":{\"color\":\"#2a3f5f\"},\"geo\":{\"bgcolor\":\"white\",\"lakecolor\":\"white\",\"landcolor\":\"#E5ECF6\",\"showlakes\":true,\"showland\":true,\"subunitcolor\":\"white\"},\"hoverlabel\":{\"align\":\"left\"},\"hovermode\":\"closest\",\"mapbox\":{\"style\":\"light\"},\"paper_bgcolor\":\"white\",\"plot_bgcolor\":\"#E5ECF6\",\"polar\":{\"angularaxis\":{\"gridcolor\":\"white\",\"linecolor\":\"white\",\"ticks\":\"\"},\"bgcolor\":\"#E5ECF6\",\"radialaxis\":{\"gridcolor\":\"white\",\"linecolor\":\"white\",\"ticks\":\"\"}},\"scene\":{\"xaxis\":{\"backgroundcolor\":\"#E5ECF6\",\"gridcolor\":\"white\",\"gridwidth\":2,\"linecolor\":\"white\",\"showbackground\":true,\"ticks\":\"\",\"zerolinecolor\":\"white\"},\"yaxis\":{\"backgroundcolor\":\"#E5ECF6\",\"gridcolor\":\"white\",\"gridwidth\":2,\"linecolor\":\"white\",\"showbackground\":true,\"ticks\":\"\",\"zerolinecolor\":\"white\"},\"zaxis\":{\"backgroundcolor\":\"#E5ECF6\",\"gridcolor\":\"white\",\"gridwidth\":2,\"linecolor\":\"white\",\"showbackground\":true,\"ticks\":\"\",\"zerolinecolor\":\"white\"}},\"shapedefaults\":{\"line\":{\"color\":\"#2a3f5f\"}},\"ternary\":{\"aaxis\":{\"gridcolor\":\"white\",\"linecolor\":\"white\",\"ticks\":\"\"},\"baxis\":{\"gridcolor\":\"white\",\"linecolor\":\"white\",\"ticks\":\"\"},\"bgcolor\":\"#E5ECF6\",\"caxis\":{\"gridcolor\":\"white\",\"linecolor\":\"white\",\"ticks\":\"\"}},\"title\":{\"x\":0.05},\"xaxis\":{\"automargin\":true,\"gridcolor\":\"white\",\"linecolor\":\"white\",\"ticks\":\"\",\"title\":{\"standoff\":15},\"zerolinecolor\":\"white\",\"zerolinewidth\":2},\"yaxis\":{\"automargin\":true,\"gridcolor\":\"white\",\"linecolor\":\"white\",\"ticks\":\"\",\"title\":{\"standoff\":15},\"zerolinecolor\":\"white\",\"zerolinewidth\":2}}},\"xaxis\":{\"anchor\":\"y\",\"domain\":[0.0,0.35],\"automargin\":true,\"showticklabels\":false},\"yaxis\":{\"anchor\":\"x\",\"domain\":[0.848,1.0],\"title\":{\"text\":\"JOJO's\"},\"automargin\":true,\"dtick\":0.3},\"xaxis2\":{\"anchor\":\"y2\",\"domain\":[0.6499999999999999,0.9999999999999999],\"automargin\":true,\"showticklabels\":false},\"yaxis2\":{\"anchor\":\"x2\",\"domain\":[0.848,1.0],\"title\":{\"text\":\"Unreal Snacks\"},\"automargin\":true,\"dtick\":0.3},\"xaxis3\":{\"anchor\":\"y3\",\"domain\":[0.0,0.35],\"automargin\":true,\"showticklabels\":false},\"yaxis3\":{\"anchor\":\"x3\",\"domain\":[0.6359999999999999,0.7879999999999999],\"title\":{\"text\":\"Lily's\"},\"automargin\":true,\"dtick\":0.3},\"xaxis4\":{\"anchor\":\"y4\",\"domain\":[0.6499999999999999,0.9999999999999999],\"automargin\":true,\"showticklabels\":false},\"yaxis4\":{\"anchor\":\"x4\",\"domain\":[0.6359999999999999,0.7879999999999999],\"title\":{\"text\":\"TCHO\"},\"automargin\":true,\"dtick\":0.3},\"xaxis5\":{\"anchor\":\"y5\",\"domain\":[0.0,0.35],\"automargin\":true,\"showticklabels\":false},\"yaxis5\":{\"anchor\":\"x5\",\"domain\":[0.424,0.576],\"title\":{\"text\":\"Hu\"},\"automargin\":true,\"dtick\":0.3},\"xaxis6\":{\"anchor\":\"y6\",\"domain\":[0.6499999999999999,0.9999999999999999],\"automargin\":true,\"showticklabels\":false},\"yaxis6\":{\"anchor\":\"x6\",\"domain\":[0.424,0.576],\"title\":{\"text\":\"Bark Thins\"},\"automargin\":true,\"dtick\":0.3},\"xaxis7\":{\"anchor\":\"y7\",\"domain\":[0.0,0.35],\"automargin\":true,\"showticklabels\":false},\"yaxis7\":{\"anchor\":\"x7\",\"domain\":[0.212,0.364],\"title\":{\"text\":\"Eating Evolved\"},\"automargin\":true,\"dtick\":0.3},\"xaxis8\":{\"anchor\":\"y8\",\"domain\":[0.6499999999999999,0.9999999999999999],\"automargin\":true,\"showticklabels\":false},\"yaxis8\":{\"anchor\":\"x8\",\"domain\":[0.212,0.364],\"title\":{\"text\":\"Tony's Chocolonely\"},\"automargin\":true,\"dtick\":0.3},\"xaxis9\":{\"anchor\":\"y9\",\"domain\":[0.0,0.35],\"automargin\":true,\"showticklabels\":false},\"yaxis9\":{\"anchor\":\"x9\",\"domain\":[0.0,0.152],\"title\":{\"text\":\"Skinny Dipped\"},\"automargin\":true,\"dtick\":0.3},\"xaxis10\":{\"anchor\":\"y10\",\"domain\":[0.6499999999999999,0.9999999999999999],\"automargin\":true,\"showticklabels\":false},\"yaxis10\":{\"anchor\":\"x10\",\"domain\":[0.0,0.152],\"title\":{\"text\":\"Taza Chocolate\"},\"automargin\":true,\"dtick\":0.3},\"margin\":{\"t\":50},\"title\":{\"y\":0.99,\"x\":0.5,\"xanchor\":\"center\",\"yanchor\":\"top\",\"text\":\"Top Unique Terms by Review Sentiment for Select Chocolate Brands\"},\"coloraxis\":{\"colorbar\":{\"title\":{\"text\":\"<b>average rating</b>\"}},\"colorscale\":[[0.0,\"rgb(165,0,38)\"],[0.1,\"rgb(215,48,39)\"],[0.2,\"rgb(244,109,67)\"],[0.3,\"rgb(253,174,97)\"],[0.4,\"rgb(254,224,139)\"],[0.5,\"rgb(255,255,191)\"],[0.6,\"rgb(217,239,139)\"],[0.7,\"rgb(166,217,106)\"],[0.8,\"rgb(102,189,99)\"],[0.9,\"rgb(26,152,80)\"],[1.0,\"rgb(0,104,55)\"]],\"cmin\":1,\"cmax\":5},\"font\":{\"size\":12},\"autosize\":true,\"width\":1000,\"height\":1000,\"plot_bgcolor\":\"white\",\"showlegend\":false},                        {\"responsive\": true}                    ).then(function(){\n",
       "                            \n",
       "var gd = document.getElementById('2b77a79d-2b1c-4548-8241-25508e6b8dc7');\n",
       "var x = new MutationObserver(function (mutations, observer) {{\n",
       "        var display = window.getComputedStyle(gd).display;\n",
       "        if (!display || display === 'none') {{\n",
       "            console.log([gd, 'removed!']);\n",
       "            Plotly.purge(gd);\n",
       "            observer.disconnect();\n",
       "        }}\n",
       "}});\n",
       "\n",
       "// Listen for the removal of the full notebook cells\n",
       "var notebookContainer = gd.closest('#notebook-container');\n",
       "if (notebookContainer) {{\n",
       "    x.observe(notebookContainer, {childList: true});\n",
       "}}\n",
       "\n",
       "// Listen for the clearing of the current output cell\n",
       "var outputEl = gd.closest('.output');\n",
       "if (outputEl) {{\n",
       "    x.observe(outputEl, {childList: true});\n",
       "}}\n",
       "\n",
       "                        })                };                });            </script>        </div>"
      ]
     },
     "metadata": {},
     "output_type": "display_data"
    }
   ],
   "source": [
    "avg_rating_tfidf['normalized_url_cat'] = pd.Categorical(\n",
    "    avg_rating_tfidf['normalized_url'], \n",
    "    categories=NORMALIZED_URL_LI, \n",
    "    ordered=True\n",
    ")\n",
    "\n",
    "n_brands = len(grouped_sdf['normalized_url'])\n",
    "\n",
    "fig = make_subplots(\n",
    "    rows=math.ceil(n_brands/2),\n",
    "    cols=2,\n",
    "    horizontal_spacing = 0.3\n",
    ")\n",
    "\n",
    "# Loop through\n",
    "# If j is greater than (number of brands/2)-1, then the graph will be shown in the second column\n",
    "j = 0\n",
    "\n",
    "for url, data in avg_rating_tfidf.sort_values(['normalized_url_cat', 'tfidf']).groupby('normalized_url', sort = False):\n",
    "    if j <= math.ceil(n_brands/2)-1:\n",
    "        fig.add_trace(\n",
    "            go.Bar(\n",
    "                orientation='h',\n",
    "                x=data.tfidf,\n",
    "                y=data.unibi_word,\n",
    "                marker=dict(color=data.avg_rating, coloraxis=\"coloraxis\")\n",
    "                \n",
    "            ),\n",
    "            row=j+1, col=1\n",
    "        )\n",
    "        j += 1\n",
    "        fig.update_yaxes(automargin = True,title_text=brand_name_di.get(url), row=j, col=1, dtick =.3)#use dtick if not all term labels show up \n",
    "        fig.update_xaxes(automargin = True,showticklabels=False)\n",
    "        \n",
    "    else:\n",
    "        fig.add_trace(\n",
    "            go.Bar(\n",
    "                orientation='h',\n",
    "                x=data.tfidf,\n",
    "                y=data.unibi_word,\n",
    "                marker=dict(color=data.avg_rating, coloraxis=\"coloraxis\")\n",
    "            ),\n",
    "            row=j-math.ceil(n_brands/2)+1, col=2\n",
    "        )\n",
    "        j += 1\n",
    "        fig.update_yaxes(automargin = True,title_text=brand_name_di.get(url), row=j-round(n_brands/2), col=2, dtick =.3)#use dtick if not all term labels show up \n",
    "        fig.update_xaxes(automargin = True,showticklabels=False)\n",
    "\n",
    "  \n",
    "    \n",
    "fig.update_layout(\n",
    "    autosize = True,\n",
    "    width=1000,\n",
    "    height=1000,\n",
    "    margin=dict(t=50),\n",
    "    plot_bgcolor=\"white\",\n",
    "    title={\"y\": 0.99, \"x\": 0.5, 'xanchor': 'center', 'yanchor': 'top'},\n",
    "    coloraxis=dict(colorscale='RdYlGn', colorbar_title_text='<b>average rating</b>'),\n",
    "    title_text=f\"Top Unique Terms by Review Sentiment for Select {GROUP_NAME} Brands\",\n",
    "    showlegend=False,\n",
    "    font=dict(\n",
    "        size=12,\n",
    "    ),\n",
    ")\n",
    "\n",
    "\n",
    "# Change width,height,margin for the layout of the chart\n",
    "#fig.update_yaxes(title_text=\"Gardein\", row=2, col=2)\n",
    "#fig.update_yaxes(title_text=\"Beyond Meat\", row=1, col=2)\n",
    "fig.update_coloraxes(cmin=1,cmax=5)\n",
    "fig.show()"
   ]
  },
  {
   "cell_type": "code",
   "execution_count": null,
   "id": "bde92d43-7ca2-4442-9871-aa95e6f2617c",
   "metadata": {},
   "outputs": [],
   "source": []
  },
  {
   "cell_type": "code",
   "execution_count": 30,
   "id": "5ef69d1f-0546-4bf4-8868-67d9d939be34",
   "metadata": {},
   "outputs": [
    {
     "data": {
      "text/plain": [
       "0       eatingevolved.com\n",
       "1         hersheyland.com\n",
       "2           hukitchen.com\n",
       "3      jojoschocolate.com\n",
       "4               lilys.com\n",
       "5        skinnydipped.com\n",
       "6       tazachocolate.com\n",
       "7                tcho.com\n",
       "8    tonyschocolonely.com\n",
       "9        unrealsnacks.com\n",
       "Name: normalized_url, dtype: object"
      ]
     },
     "execution_count": 30,
     "metadata": {},
     "output_type": "execute_result"
    }
   ],
   "source": [
    "grouped_sdf['normalized_url']"
   ]
  },
  {
   "cell_type": "code",
   "execution_count": 31,
   "id": "be0e5048-01f7-436c-ae43-aca0b6af98dc",
   "metadata": {},
   "outputs": [
    {
     "data": {
      "text/html": [
       "<div>\n",
       "<style scoped>\n",
       "    .dataframe tbody tr th:only-of-type {\n",
       "        vertical-align: middle;\n",
       "    }\n",
       "\n",
       "    .dataframe tbody tr th {\n",
       "        vertical-align: top;\n",
       "    }\n",
       "\n",
       "    .dataframe thead th {\n",
       "        text-align: right;\n",
       "    }\n",
       "</style>\n",
       "<table border=\"1\" class=\"dataframe\">\n",
       "  <thead>\n",
       "    <tr style=\"text-align: right;\">\n",
       "      <th></th>\n",
       "      <th>review_source_id</th>\n",
       "    </tr>\n",
       "    <tr>\n",
       "      <th>parent_category</th>\n",
       "      <th></th>\n",
       "    </tr>\n",
       "  </thead>\n",
       "  <tbody>\n",
       "    <tr>\n",
       "      <th>Food</th>\n",
       "      <td>11380</td>\n",
       "    </tr>\n",
       "    <tr>\n",
       "      <th>Non-Alcoholic Beverages</th>\n",
       "      <td>46</td>\n",
       "    </tr>\n",
       "  </tbody>\n",
       "</table>\n",
       "</div>"
      ],
      "text/plain": [
       "                         review_source_id\n",
       "parent_category                          \n",
       "Food                                11380\n",
       "Non-Alcoholic Beverages                46"
      ]
     },
     "execution_count": 31,
     "metadata": {},
     "output_type": "execute_result"
    }
   ],
   "source": [
    "reviews.groupby('parent_category').agg({'review_source_id':'count'})"
   ]
  },
  {
   "cell_type": "code",
   "execution_count": 185,
   "id": "b9ad42a9-04eb-44a7-b09f-bd2a8d8cfaf3",
   "metadata": {},
   "outputs": [
    {
     "name": "stderr",
     "output_type": "stream",
     "text": [
      "/opt/conda/lib/python3.7/site-packages/ipykernel_launcher.py:3: SettingWithCopyWarning:\n",
      "\n",
      "\n",
      "A value is trying to be set on a copy of a slice from a DataFrame.\n",
      "Try using .loc[row_indexer,col_indexer] = value instead\n",
      "\n",
      "See the caveats in the documentation: https://pandas.pydata.org/pandas-docs/stable/user_guide/indexing.html#returning-a-view-versus-a-copy\n",
      "\n"
     ]
    }
   ],
   "source": [
    "\n",
    "\n",
    "conditions = [reviews[\"color\"]==True, reviews[\"skincare\"]==True]\n",
    "choices = [\"Color\",\"Skincare/Skin care\"]\n",
    "reviews[\"mentions\"] = np.select(conditions, choices, default='None')\n",
    "reviews = reviews[reviews[\"mentions\"]!=\"None\"]"
   ]
  },
  {
   "cell_type": "code",
   "execution_count": 187,
   "id": "b34e3bd1-4058-4e60-8455-2b2326a84dea",
   "metadata": {
    "tags": []
   },
   "outputs": [
    {
     "name": "stdout",
     "output_type": "stream",
     "text": [
      "    normalized_url  review_rating  percent_reviews\n",
      "4  freckbeauty.com            1.0         0.024155\n",
      "3  freckbeauty.com            2.0         0.043478\n",
      "2  freckbeauty.com            3.0         0.053140\n",
      "1  freckbeauty.com            4.0         0.164251\n",
      "0  freckbeauty.com            5.0         0.714976\n",
      "             mentions  review_rating  percent_reviews\n",
      "4               Color            1.0         0.022989\n",
      "8  Skincare/Skin care            1.0         0.030303\n",
      "2               Color            2.0         0.051724\n",
      "3               Color            3.0         0.051724\n",
      "7  Skincare/Skin care            3.0         0.060606\n",
      "1               Color            4.0         0.155172\n",
      "6  Skincare/Skin care            4.0         0.212121\n",
      "0               Color            5.0         0.718391\n",
      "5  Skincare/Skin care            5.0         0.696970\n"
     ]
    },
    {
     "data": {
      "application/vnd.plotly.v1+json": {
       "config": {
        "plotlyServerURL": "https://plot.ly"
       },
       "data": [
        {
         "alignmentgroup": "True",
         "hovertemplate": "percent_reviews=%{x}<br>mentions=%{y}<br>review_rating=%{marker.color}<extra></extra>",
         "legendgroup": "",
         "marker": {
          "color": [
           1,
           1,
           2,
           3,
           3,
           4,
           4,
           5,
           5
          ],
          "coloraxis": "coloraxis",
          "pattern": {
           "shape": ""
          }
         },
         "name": "",
         "offsetgroup": "",
         "orientation": "h",
         "showlegend": false,
         "textposition": "auto",
         "type": "bar",
         "x": [
          0.022988505747126436,
          0.030303030303030304,
          0.05172413793103448,
          0.05172413793103448,
          0.06060606060606061,
          0.15517241379310345,
          0.21212121212121213,
          0.7183908045977011,
          0.696969696969697
         ],
         "xaxis": "x",
         "y": [
          "Color",
          "Skincare/Skin care",
          "Color",
          "Color",
          "Skincare/Skin care",
          "Color",
          "Skincare/Skin care",
          "Color",
          "Skincare/Skin care"
         ],
         "yaxis": "y"
        }
       ],
       "layout": {
        "barmode": "stack",
        "coloraxis": {
         "colorbar": {
          "title": {
           "text": "Rating"
          }
         },
         "colorscale": [
          [
           0,
           "rgb(165,0,38)"
          ],
          [
           0.1,
           "rgb(215,48,39)"
          ],
          [
           0.2,
           "rgb(244,109,67)"
          ],
          [
           0.3,
           "rgb(253,174,97)"
          ],
          [
           0.4,
           "rgb(254,224,139)"
          ],
          [
           0.5,
           "rgb(255,255,191)"
          ],
          [
           0.6,
           "rgb(217,239,139)"
          ],
          [
           0.7,
           "rgb(166,217,106)"
          ],
          [
           0.8,
           "rgb(102,189,99)"
          ],
          [
           0.9,
           "rgb(26,152,80)"
          ],
          [
           1,
           "rgb(0,104,55)"
          ]
         ]
        },
        "font": {
         "size": 16
        },
        "height": 600,
        "legend": {
         "tracegroupgap": 0
        },
        "paper_bgcolor": "rgba(0, 0, 0, 0)",
        "plot_bgcolor": "rgba(0, 0, 0, 0)",
        "template": {
         "data": {
          "bar": [
           {
            "error_x": {
             "color": "#2a3f5f"
            },
            "error_y": {
             "color": "#2a3f5f"
            },
            "marker": {
             "line": {
              "color": "#E5ECF6",
              "width": 0.5
             },
             "pattern": {
              "fillmode": "overlay",
              "size": 10,
              "solidity": 0.2
             }
            },
            "type": "bar"
           }
          ],
          "barpolar": [
           {
            "marker": {
             "line": {
              "color": "#E5ECF6",
              "width": 0.5
             },
             "pattern": {
              "fillmode": "overlay",
              "size": 10,
              "solidity": 0.2
             }
            },
            "type": "barpolar"
           }
          ],
          "carpet": [
           {
            "aaxis": {
             "endlinecolor": "#2a3f5f",
             "gridcolor": "white",
             "linecolor": "white",
             "minorgridcolor": "white",
             "startlinecolor": "#2a3f5f"
            },
            "baxis": {
             "endlinecolor": "#2a3f5f",
             "gridcolor": "white",
             "linecolor": "white",
             "minorgridcolor": "white",
             "startlinecolor": "#2a3f5f"
            },
            "type": "carpet"
           }
          ],
          "choropleth": [
           {
            "colorbar": {
             "outlinewidth": 0,
             "ticks": ""
            },
            "type": "choropleth"
           }
          ],
          "contour": [
           {
            "colorbar": {
             "outlinewidth": 0,
             "ticks": ""
            },
            "colorscale": [
             [
              0,
              "#0d0887"
             ],
             [
              0.1111111111111111,
              "#46039f"
             ],
             [
              0.2222222222222222,
              "#7201a8"
             ],
             [
              0.3333333333333333,
              "#9c179e"
             ],
             [
              0.4444444444444444,
              "#bd3786"
             ],
             [
              0.5555555555555556,
              "#d8576b"
             ],
             [
              0.6666666666666666,
              "#ed7953"
             ],
             [
              0.7777777777777778,
              "#fb9f3a"
             ],
             [
              0.8888888888888888,
              "#fdca26"
             ],
             [
              1,
              "#f0f921"
             ]
            ],
            "type": "contour"
           }
          ],
          "contourcarpet": [
           {
            "colorbar": {
             "outlinewidth": 0,
             "ticks": ""
            },
            "type": "contourcarpet"
           }
          ],
          "heatmap": [
           {
            "colorbar": {
             "outlinewidth": 0,
             "ticks": ""
            },
            "colorscale": [
             [
              0,
              "#0d0887"
             ],
             [
              0.1111111111111111,
              "#46039f"
             ],
             [
              0.2222222222222222,
              "#7201a8"
             ],
             [
              0.3333333333333333,
              "#9c179e"
             ],
             [
              0.4444444444444444,
              "#bd3786"
             ],
             [
              0.5555555555555556,
              "#d8576b"
             ],
             [
              0.6666666666666666,
              "#ed7953"
             ],
             [
              0.7777777777777778,
              "#fb9f3a"
             ],
             [
              0.8888888888888888,
              "#fdca26"
             ],
             [
              1,
              "#f0f921"
             ]
            ],
            "type": "heatmap"
           }
          ],
          "heatmapgl": [
           {
            "colorbar": {
             "outlinewidth": 0,
             "ticks": ""
            },
            "colorscale": [
             [
              0,
              "#0d0887"
             ],
             [
              0.1111111111111111,
              "#46039f"
             ],
             [
              0.2222222222222222,
              "#7201a8"
             ],
             [
              0.3333333333333333,
              "#9c179e"
             ],
             [
              0.4444444444444444,
              "#bd3786"
             ],
             [
              0.5555555555555556,
              "#d8576b"
             ],
             [
              0.6666666666666666,
              "#ed7953"
             ],
             [
              0.7777777777777778,
              "#fb9f3a"
             ],
             [
              0.8888888888888888,
              "#fdca26"
             ],
             [
              1,
              "#f0f921"
             ]
            ],
            "type": "heatmapgl"
           }
          ],
          "histogram": [
           {
            "marker": {
             "pattern": {
              "fillmode": "overlay",
              "size": 10,
              "solidity": 0.2
             }
            },
            "type": "histogram"
           }
          ],
          "histogram2d": [
           {
            "colorbar": {
             "outlinewidth": 0,
             "ticks": ""
            },
            "colorscale": [
             [
              0,
              "#0d0887"
             ],
             [
              0.1111111111111111,
              "#46039f"
             ],
             [
              0.2222222222222222,
              "#7201a8"
             ],
             [
              0.3333333333333333,
              "#9c179e"
             ],
             [
              0.4444444444444444,
              "#bd3786"
             ],
             [
              0.5555555555555556,
              "#d8576b"
             ],
             [
              0.6666666666666666,
              "#ed7953"
             ],
             [
              0.7777777777777778,
              "#fb9f3a"
             ],
             [
              0.8888888888888888,
              "#fdca26"
             ],
             [
              1,
              "#f0f921"
             ]
            ],
            "type": "histogram2d"
           }
          ],
          "histogram2dcontour": [
           {
            "colorbar": {
             "outlinewidth": 0,
             "ticks": ""
            },
            "colorscale": [
             [
              0,
              "#0d0887"
             ],
             [
              0.1111111111111111,
              "#46039f"
             ],
             [
              0.2222222222222222,
              "#7201a8"
             ],
             [
              0.3333333333333333,
              "#9c179e"
             ],
             [
              0.4444444444444444,
              "#bd3786"
             ],
             [
              0.5555555555555556,
              "#d8576b"
             ],
             [
              0.6666666666666666,
              "#ed7953"
             ],
             [
              0.7777777777777778,
              "#fb9f3a"
             ],
             [
              0.8888888888888888,
              "#fdca26"
             ],
             [
              1,
              "#f0f921"
             ]
            ],
            "type": "histogram2dcontour"
           }
          ],
          "mesh3d": [
           {
            "colorbar": {
             "outlinewidth": 0,
             "ticks": ""
            },
            "type": "mesh3d"
           }
          ],
          "parcoords": [
           {
            "line": {
             "colorbar": {
              "outlinewidth": 0,
              "ticks": ""
             }
            },
            "type": "parcoords"
           }
          ],
          "pie": [
           {
            "automargin": true,
            "type": "pie"
           }
          ],
          "scatter": [
           {
            "marker": {
             "colorbar": {
              "outlinewidth": 0,
              "ticks": ""
             }
            },
            "type": "scatter"
           }
          ],
          "scatter3d": [
           {
            "line": {
             "colorbar": {
              "outlinewidth": 0,
              "ticks": ""
             }
            },
            "marker": {
             "colorbar": {
              "outlinewidth": 0,
              "ticks": ""
             }
            },
            "type": "scatter3d"
           }
          ],
          "scattercarpet": [
           {
            "marker": {
             "colorbar": {
              "outlinewidth": 0,
              "ticks": ""
             }
            },
            "type": "scattercarpet"
           }
          ],
          "scattergeo": [
           {
            "marker": {
             "colorbar": {
              "outlinewidth": 0,
              "ticks": ""
             }
            },
            "type": "scattergeo"
           }
          ],
          "scattergl": [
           {
            "marker": {
             "colorbar": {
              "outlinewidth": 0,
              "ticks": ""
             }
            },
            "type": "scattergl"
           }
          ],
          "scattermapbox": [
           {
            "marker": {
             "colorbar": {
              "outlinewidth": 0,
              "ticks": ""
             }
            },
            "type": "scattermapbox"
           }
          ],
          "scatterpolar": [
           {
            "marker": {
             "colorbar": {
              "outlinewidth": 0,
              "ticks": ""
             }
            },
            "type": "scatterpolar"
           }
          ],
          "scatterpolargl": [
           {
            "marker": {
             "colorbar": {
              "outlinewidth": 0,
              "ticks": ""
             }
            },
            "type": "scatterpolargl"
           }
          ],
          "scatterternary": [
           {
            "marker": {
             "colorbar": {
              "outlinewidth": 0,
              "ticks": ""
             }
            },
            "type": "scatterternary"
           }
          ],
          "surface": [
           {
            "colorbar": {
             "outlinewidth": 0,
             "ticks": ""
            },
            "colorscale": [
             [
              0,
              "#0d0887"
             ],
             [
              0.1111111111111111,
              "#46039f"
             ],
             [
              0.2222222222222222,
              "#7201a8"
             ],
             [
              0.3333333333333333,
              "#9c179e"
             ],
             [
              0.4444444444444444,
              "#bd3786"
             ],
             [
              0.5555555555555556,
              "#d8576b"
             ],
             [
              0.6666666666666666,
              "#ed7953"
             ],
             [
              0.7777777777777778,
              "#fb9f3a"
             ],
             [
              0.8888888888888888,
              "#fdca26"
             ],
             [
              1,
              "#f0f921"
             ]
            ],
            "type": "surface"
           }
          ],
          "table": [
           {
            "cells": {
             "fill": {
              "color": "#EBF0F8"
             },
             "line": {
              "color": "white"
             }
            },
            "header": {
             "fill": {
              "color": "#C8D4E3"
             },
             "line": {
              "color": "white"
             }
            },
            "type": "table"
           }
          ]
         },
         "layout": {
          "annotationdefaults": {
           "arrowcolor": "#2a3f5f",
           "arrowhead": 0,
           "arrowwidth": 1
          },
          "autotypenumbers": "strict",
          "coloraxis": {
           "colorbar": {
            "outlinewidth": 0,
            "ticks": ""
           }
          },
          "colorscale": {
           "diverging": [
            [
             0,
             "#8e0152"
            ],
            [
             0.1,
             "#c51b7d"
            ],
            [
             0.2,
             "#de77ae"
            ],
            [
             0.3,
             "#f1b6da"
            ],
            [
             0.4,
             "#fde0ef"
            ],
            [
             0.5,
             "#f7f7f7"
            ],
            [
             0.6,
             "#e6f5d0"
            ],
            [
             0.7,
             "#b8e186"
            ],
            [
             0.8,
             "#7fbc41"
            ],
            [
             0.9,
             "#4d9221"
            ],
            [
             1,
             "#276419"
            ]
           ],
           "sequential": [
            [
             0,
             "#0d0887"
            ],
            [
             0.1111111111111111,
             "#46039f"
            ],
            [
             0.2222222222222222,
             "#7201a8"
            ],
            [
             0.3333333333333333,
             "#9c179e"
            ],
            [
             0.4444444444444444,
             "#bd3786"
            ],
            [
             0.5555555555555556,
             "#d8576b"
            ],
            [
             0.6666666666666666,
             "#ed7953"
            ],
            [
             0.7777777777777778,
             "#fb9f3a"
            ],
            [
             0.8888888888888888,
             "#fdca26"
            ],
            [
             1,
             "#f0f921"
            ]
           ],
           "sequentialminus": [
            [
             0,
             "#0d0887"
            ],
            [
             0.1111111111111111,
             "#46039f"
            ],
            [
             0.2222222222222222,
             "#7201a8"
            ],
            [
             0.3333333333333333,
             "#9c179e"
            ],
            [
             0.4444444444444444,
             "#bd3786"
            ],
            [
             0.5555555555555556,
             "#d8576b"
            ],
            [
             0.6666666666666666,
             "#ed7953"
            ],
            [
             0.7777777777777778,
             "#fb9f3a"
            ],
            [
             0.8888888888888888,
             "#fdca26"
            ],
            [
             1,
             "#f0f921"
            ]
           ]
          },
          "colorway": [
           "#636efa",
           "#EF553B",
           "#00cc96",
           "#ab63fa",
           "#FFA15A",
           "#19d3f3",
           "#FF6692",
           "#B6E880",
           "#FF97FF",
           "#FECB52"
          ],
          "font": {
           "color": "#2a3f5f"
          },
          "geo": {
           "bgcolor": "white",
           "lakecolor": "white",
           "landcolor": "#E5ECF6",
           "showlakes": true,
           "showland": true,
           "subunitcolor": "white"
          },
          "hoverlabel": {
           "align": "left"
          },
          "hovermode": "closest",
          "mapbox": {
           "style": "light"
          },
          "paper_bgcolor": "white",
          "plot_bgcolor": "#E5ECF6",
          "polar": {
           "angularaxis": {
            "gridcolor": "white",
            "linecolor": "white",
            "ticks": ""
           },
           "bgcolor": "#E5ECF6",
           "radialaxis": {
            "gridcolor": "white",
            "linecolor": "white",
            "ticks": ""
           }
          },
          "scene": {
           "xaxis": {
            "backgroundcolor": "#E5ECF6",
            "gridcolor": "white",
            "gridwidth": 2,
            "linecolor": "white",
            "showbackground": true,
            "ticks": "",
            "zerolinecolor": "white"
           },
           "yaxis": {
            "backgroundcolor": "#E5ECF6",
            "gridcolor": "white",
            "gridwidth": 2,
            "linecolor": "white",
            "showbackground": true,
            "ticks": "",
            "zerolinecolor": "white"
           },
           "zaxis": {
            "backgroundcolor": "#E5ECF6",
            "gridcolor": "white",
            "gridwidth": 2,
            "linecolor": "white",
            "showbackground": true,
            "ticks": "",
            "zerolinecolor": "white"
           }
          },
          "shapedefaults": {
           "line": {
            "color": "#2a3f5f"
           }
          },
          "ternary": {
           "aaxis": {
            "gridcolor": "white",
            "linecolor": "white",
            "ticks": ""
           },
           "baxis": {
            "gridcolor": "white",
            "linecolor": "white",
            "ticks": ""
           },
           "bgcolor": "#E5ECF6",
           "caxis": {
            "gridcolor": "white",
            "linecolor": "white",
            "ticks": ""
           }
          },
          "title": {
           "x": 0.05
          },
          "xaxis": {
           "automargin": true,
           "gridcolor": "white",
           "linecolor": "white",
           "ticks": "",
           "title": {
            "standoff": 15
           },
           "zerolinecolor": "white",
           "zerolinewidth": 2
          },
          "yaxis": {
           "automargin": true,
           "gridcolor": "white",
           "linecolor": "white",
           "ticks": "",
           "title": {
            "standoff": 15
           },
           "zerolinecolor": "white",
           "zerolinewidth": 2
          }
         }
        },
        "title": {
         "text": "Review Rating Distribution of Reviews Mentioning:"
        },
        "width": 800,
        "xaxis": {
         "anchor": "y",
         "autorange": true,
         "domain": [
          0,
          1
         ],
         "range": [
          0,
          1.0526315789473684
         ],
         "tickformat": ".0%",
         "title": {
          "text": "% of total reviews"
         },
         "type": "linear"
        },
        "yaxis": {
         "anchor": "x",
         "autorange": true,
         "domain": [
          0,
          1
         ],
         "range": [
          -0.5,
          1.5
         ],
         "title": {
          "text": " "
         },
         "type": "category"
        }
       }
      },
      "image/png": "[encoded data removed]",
      "text/html": [
       "<div>                            <div id=\"55d5a8e0-0022-40d3-b5e8-ccd533e20d32\" class=\"plotly-graph-div\" style=\"height:600px; width:800px;\"></div>            <script type=\"text/javascript\">                require([\"plotly\"], function(Plotly) {                    window.PLOTLYENV=window.PLOTLYENV || {};                                    if (document.getElementById(\"55d5a8e0-0022-40d3-b5e8-ccd533e20d32\")) {                    Plotly.newPlot(                        \"55d5a8e0-0022-40d3-b5e8-ccd533e20d32\",                        [{\"alignmentgroup\":\"True\",\"hovertemplate\":\"percent_reviews=%{x}<br>mentions=%{y}<br>review_rating=%{marker.color}<extra></extra>\",\"legendgroup\":\"\",\"marker\":{\"color\":[1.0,1.0,2.0,3.0,3.0,4.0,4.0,5.0,5.0],\"coloraxis\":\"coloraxis\",\"pattern\":{\"shape\":\"\"}},\"name\":\"\",\"offsetgroup\":\"\",\"orientation\":\"h\",\"showlegend\":false,\"textposition\":\"auto\",\"x\":[0.022988505747126436,0.030303030303030304,0.05172413793103448,0.05172413793103448,0.06060606060606061,0.15517241379310345,0.21212121212121213,0.7183908045977011,0.696969696969697],\"xaxis\":\"x\",\"y\":[\"Color\",\"Skincare/Skin care\",\"Color\",\"Color\",\"Skincare/Skin care\",\"Color\",\"Skincare/Skin care\",\"Color\",\"Skincare/Skin care\"],\"yaxis\":\"y\",\"type\":\"bar\"}],                        {\"template\":{\"data\":{\"bar\":[{\"error_x\":{\"color\":\"#2a3f5f\"},\"error_y\":{\"color\":\"#2a3f5f\"},\"marker\":{\"line\":{\"color\":\"#E5ECF6\",\"width\":0.5},\"pattern\":{\"fillmode\":\"overlay\",\"size\":10,\"solidity\":0.2}},\"type\":\"bar\"}],\"barpolar\":[{\"marker\":{\"line\":{\"color\":\"#E5ECF6\",\"width\":0.5},\"pattern\":{\"fillmode\":\"overlay\",\"size\":10,\"solidity\":0.2}},\"type\":\"barpolar\"}],\"carpet\":[{\"aaxis\":{\"endlinecolor\":\"#2a3f5f\",\"gridcolor\":\"white\",\"linecolor\":\"white\",\"minorgridcolor\":\"white\",\"startlinecolor\":\"#2a3f5f\"},\"baxis\":{\"endlinecolor\":\"#2a3f5f\",\"gridcolor\":\"white\",\"linecolor\":\"white\",\"minorgridcolor\":\"white\",\"startlinecolor\":\"#2a3f5f\"},\"type\":\"carpet\"}],\"choropleth\":[{\"colorbar\":{\"outlinewidth\":0,\"ticks\":\"\"},\"type\":\"choropleth\"}],\"contour\":[{\"colorbar\":{\"outlinewidth\":0,\"ticks\":\"\"},\"colorscale\":[[0.0,\"#0d0887\"],[0.1111111111111111,\"#46039f\"],[0.2222222222222222,\"#7201a8\"],[0.3333333333333333,\"#9c179e\"],[0.4444444444444444,\"#bd3786\"],[0.5555555555555556,\"#d8576b\"],[0.6666666666666666,\"#ed7953\"],[0.7777777777777778,\"#fb9f3a\"],[0.8888888888888888,\"#fdca26\"],[1.0,\"#f0f921\"]],\"type\":\"contour\"}],\"contourcarpet\":[{\"colorbar\":{\"outlinewidth\":0,\"ticks\":\"\"},\"type\":\"contourcarpet\"}],\"heatmap\":[{\"colorbar\":{\"outlinewidth\":0,\"ticks\":\"\"},\"colorscale\":[[0.0,\"#0d0887\"],[0.1111111111111111,\"#46039f\"],[0.2222222222222222,\"#7201a8\"],[0.3333333333333333,\"#9c179e\"],[0.4444444444444444,\"#bd3786\"],[0.5555555555555556,\"#d8576b\"],[0.6666666666666666,\"#ed7953\"],[0.7777777777777778,\"#fb9f3a\"],[0.8888888888888888,\"#fdca26\"],[1.0,\"#f0f921\"]],\"type\":\"heatmap\"}],\"heatmapgl\":[{\"colorbar\":{\"outlinewidth\":0,\"ticks\":\"\"},\"colorscale\":[[0.0,\"#0d0887\"],[0.1111111111111111,\"#46039f\"],[0.2222222222222222,\"#7201a8\"],[0.3333333333333333,\"#9c179e\"],[0.4444444444444444,\"#bd3786\"],[0.5555555555555556,\"#d8576b\"],[0.6666666666666666,\"#ed7953\"],[0.7777777777777778,\"#fb9f3a\"],[0.8888888888888888,\"#fdca26\"],[1.0,\"#f0f921\"]],\"type\":\"heatmapgl\"}],\"histogram\":[{\"marker\":{\"pattern\":{\"fillmode\":\"overlay\",\"size\":10,\"solidity\":0.2}},\"type\":\"histogram\"}],\"histogram2d\":[{\"colorbar\":{\"outlinewidth\":0,\"ticks\":\"\"},\"colorscale\":[[0.0,\"#0d0887\"],[0.1111111111111111,\"#46039f\"],[0.2222222222222222,\"#7201a8\"],[0.3333333333333333,\"#9c179e\"],[0.4444444444444444,\"#bd3786\"],[0.5555555555555556,\"#d8576b\"],[0.6666666666666666,\"#ed7953\"],[0.7777777777777778,\"#fb9f3a\"],[0.8888888888888888,\"#fdca26\"],[1.0,\"#f0f921\"]],\"type\":\"histogram2d\"}],\"histogram2dcontour\":[{\"colorbar\":{\"outlinewidth\":0,\"ticks\":\"\"},\"colorscale\":[[0.0,\"#0d0887\"],[0.1111111111111111,\"#46039f\"],[0.2222222222222222,\"#7201a8\"],[0.3333333333333333,\"#9c179e\"],[0.4444444444444444,\"#bd3786\"],[0.5555555555555556,\"#d8576b\"],[0.6666666666666666,\"#ed7953\"],[0.7777777777777778,\"#fb9f3a\"],[0.8888888888888888,\"#fdca26\"],[1.0,\"#f0f921\"]],\"type\":\"histogram2dcontour\"}],\"mesh3d\":[{\"colorbar\":{\"outlinewidth\":0,\"ticks\":\"\"},\"type\":\"mesh3d\"}],\"parcoords\":[{\"line\":{\"colorbar\":{\"outlinewidth\":0,\"ticks\":\"\"}},\"type\":\"parcoords\"}],\"pie\":[{\"automargin\":true,\"type\":\"pie\"}],\"scatter\":[{\"marker\":{\"colorbar\":{\"outlinewidth\":0,\"ticks\":\"\"}},\"type\":\"scatter\"}],\"scatter3d\":[{\"line\":{\"colorbar\":{\"outlinewidth\":0,\"ticks\":\"\"}},\"marker\":{\"colorbar\":{\"outlinewidth\":0,\"ticks\":\"\"}},\"type\":\"scatter3d\"}],\"scattercarpet\":[{\"marker\":{\"colorbar\":{\"outlinewidth\":0,\"ticks\":\"\"}},\"type\":\"scattercarpet\"}],\"scattergeo\":[{\"marker\":{\"colorbar\":{\"outlinewidth\":0,\"ticks\":\"\"}},\"type\":\"scattergeo\"}],\"scattergl\":[{\"marker\":{\"colorbar\":{\"outlinewidth\":0,\"ticks\":\"\"}},\"type\":\"scattergl\"}],\"scattermapbox\":[{\"marker\":{\"colorbar\":{\"outlinewidth\":0,\"ticks\":\"\"}},\"type\":\"scattermapbox\"}],\"scatterpolar\":[{\"marker\":{\"colorbar\":{\"outlinewidth\":0,\"ticks\":\"\"}},\"type\":\"scatterpolar\"}],\"scatterpolargl\":[{\"marker\":{\"colorbar\":{\"outlinewidth\":0,\"ticks\":\"\"}},\"type\":\"scatterpolargl\"}],\"scatterternary\":[{\"marker\":{\"colorbar\":{\"outlinewidth\":0,\"ticks\":\"\"}},\"type\":\"scatterternary\"}],\"surface\":[{\"colorbar\":{\"outlinewidth\":0,\"ticks\":\"\"},\"colorscale\":[[0.0,\"#0d0887\"],[0.1111111111111111,\"#46039f\"],[0.2222222222222222,\"#7201a8\"],[0.3333333333333333,\"#9c179e\"],[0.4444444444444444,\"#bd3786\"],[0.5555555555555556,\"#d8576b\"],[0.6666666666666666,\"#ed7953\"],[0.7777777777777778,\"#fb9f3a\"],[0.8888888888888888,\"#fdca26\"],[1.0,\"#f0f921\"]],\"type\":\"surface\"}],\"table\":[{\"cells\":{\"fill\":{\"color\":\"#EBF0F8\"},\"line\":{\"color\":\"white\"}},\"header\":{\"fill\":{\"color\":\"#C8D4E3\"},\"line\":{\"color\":\"white\"}},\"type\":\"table\"}]},\"layout\":{\"annotationdefaults\":{\"arrowcolor\":\"#2a3f5f\",\"arrowhead\":0,\"arrowwidth\":1},\"autotypenumbers\":\"strict\",\"coloraxis\":{\"colorbar\":{\"outlinewidth\":0,\"ticks\":\"\"}},\"colorscale\":{\"diverging\":[[0,\"#8e0152\"],[0.1,\"#c51b7d\"],[0.2,\"#de77ae\"],[0.3,\"#f1b6da\"],[0.4,\"#fde0ef\"],[0.5,\"#f7f7f7\"],[0.6,\"#e6f5d0\"],[0.7,\"#b8e186\"],[0.8,\"#7fbc41\"],[0.9,\"#4d9221\"],[1,\"#276419\"]],\"sequential\":[[0.0,\"#0d0887\"],[0.1111111111111111,\"#46039f\"],[0.2222222222222222,\"#7201a8\"],[0.3333333333333333,\"#9c179e\"],[0.4444444444444444,\"#bd3786\"],[0.5555555555555556,\"#d8576b\"],[0.6666666666666666,\"#ed7953\"],[0.7777777777777778,\"#fb9f3a\"],[0.8888888888888888,\"#fdca26\"],[1.0,\"#f0f921\"]],\"sequentialminus\":[[0.0,\"#0d0887\"],[0.1111111111111111,\"#46039f\"],[0.2222222222222222,\"#7201a8\"],[0.3333333333333333,\"#9c179e\"],[0.4444444444444444,\"#bd3786\"],[0.5555555555555556,\"#d8576b\"],[0.6666666666666666,\"#ed7953\"],[0.7777777777777778,\"#fb9f3a\"],[0.8888888888888888,\"#fdca26\"],[1.0,\"#f0f921\"]]},\"colorway\":[\"#636efa\",\"#EF553B\",\"#00cc96\",\"#ab63fa\",\"#FFA15A\",\"#19d3f3\",\"#FF6692\",\"#B6E880\",\"#FF97FF\",\"#FECB52\"],\"font\":{\"color\":\"#2a3f5f\"},\"geo\":{\"bgcolor\":\"white\",\"lakecolor\":\"white\",\"landcolor\":\"#E5ECF6\",\"showlakes\":true,\"showland\":true,\"subunitcolor\":\"white\"},\"hoverlabel\":{\"align\":\"left\"},\"hovermode\":\"closest\",\"mapbox\":{\"style\":\"light\"},\"paper_bgcolor\":\"white\",\"plot_bgcolor\":\"#E5ECF6\",\"polar\":{\"angularaxis\":{\"gridcolor\":\"white\",\"linecolor\":\"white\",\"ticks\":\"\"},\"bgcolor\":\"#E5ECF6\",\"radialaxis\":{\"gridcolor\":\"white\",\"linecolor\":\"white\",\"ticks\":\"\"}},\"scene\":{\"xaxis\":{\"backgroundcolor\":\"#E5ECF6\",\"gridcolor\":\"white\",\"gridwidth\":2,\"linecolor\":\"white\",\"showbackground\":true,\"ticks\":\"\",\"zerolinecolor\":\"white\"},\"yaxis\":{\"backgroundcolor\":\"#E5ECF6\",\"gridcolor\":\"white\",\"gridwidth\":2,\"linecolor\":\"white\",\"showbackground\":true,\"ticks\":\"\",\"zerolinecolor\":\"white\"},\"zaxis\":{\"backgroundcolor\":\"#E5ECF6\",\"gridcolor\":\"white\",\"gridwidth\":2,\"linecolor\":\"white\",\"showbackground\":true,\"ticks\":\"\",\"zerolinecolor\":\"white\"}},\"shapedefaults\":{\"line\":{\"color\":\"#2a3f5f\"}},\"ternary\":{\"aaxis\":{\"gridcolor\":\"white\",\"linecolor\":\"white\",\"ticks\":\"\"},\"baxis\":{\"gridcolor\":\"white\",\"linecolor\":\"white\",\"ticks\":\"\"},\"bgcolor\":\"#E5ECF6\",\"caxis\":{\"gridcolor\":\"white\",\"linecolor\":\"white\",\"ticks\":\"\"}},\"title\":{\"x\":0.05},\"xaxis\":{\"automargin\":true,\"gridcolor\":\"white\",\"linecolor\":\"white\",\"ticks\":\"\",\"title\":{\"standoff\":15},\"zerolinecolor\":\"white\",\"zerolinewidth\":2},\"yaxis\":{\"automargin\":true,\"gridcolor\":\"white\",\"linecolor\":\"white\",\"ticks\":\"\",\"title\":{\"standoff\":15},\"zerolinecolor\":\"white\",\"zerolinewidth\":2}}},\"xaxis\":{\"anchor\":\"y\",\"domain\":[0.0,1.0],\"title\":{\"text\":\"% of total reviews\"},\"tickformat\":\".0%\"},\"yaxis\":{\"anchor\":\"x\",\"domain\":[0.0,1.0],\"title\":{\"text\":\" \"}},\"coloraxis\":{\"colorbar\":{\"title\":{\"text\":\"Rating\"}},\"colorscale\":[[0.0,\"rgb(165,0,38)\"],[0.1,\"rgb(215,48,39)\"],[0.2,\"rgb(244,109,67)\"],[0.3,\"rgb(253,174,97)\"],[0.4,\"rgb(254,224,139)\"],[0.5,\"rgb(255,255,191)\"],[0.6,\"rgb(217,239,139)\"],[0.7,\"rgb(166,217,106)\"],[0.8,\"rgb(102,189,99)\"],[0.9,\"rgb(26,152,80)\"],[1.0,\"rgb(0,104,55)\"]]},\"legend\":{\"tracegroupgap\":0},\"title\":{\"text\":\"Review Rating Distribution of Reviews Mentioning:\"},\"barmode\":\"stack\",\"height\":600,\"width\":800,\"font\":{\"size\":16},\"plot_bgcolor\":\"rgba(0, 0, 0, 0)\",\"paper_bgcolor\":\"rgba(0, 0, 0, 0)\"},                        {\"responsive\": true}                    ).then(function(){\n",
       "                            \n",
       "var gd = document.getElementById('55d5a8e0-0022-40d3-b5e8-ccd533e20d32');\n",
       "var x = new MutationObserver(function (mutations, observer) {{\n",
       "        var display = window.getComputedStyle(gd).display;\n",
       "        if (!display || display === 'none') {{\n",
       "            console.log([gd, 'removed!']);\n",
       "            Plotly.purge(gd);\n",
       "            observer.disconnect();\n",
       "        }}\n",
       "}});\n",
       "\n",
       "// Listen for the removal of the full notebook cells\n",
       "var notebookContainer = gd.closest('#notebook-container');\n",
       "if (notebookContainer) {{\n",
       "    x.observe(notebookContainer, {childList: true});\n",
       "}}\n",
       "\n",
       "// Listen for the clearing of the current output cell\n",
       "var outputEl = gd.closest('.output');\n",
       "if (outputEl) {{\n",
       "    x.observe(outputEl, {childList: true});\n",
       "}}\n",
       "\n",
       "                        })                };                });            </script>        </div>"
      ]
     },
     "metadata": {},
     "output_type": "display_data"
    }
   ],
   "source": [
    "reviews_dist = reviews.groupby(\"normalized_url\")[\"review_rating\"].value_counts(normalize = True).reset_index(name = \"percent_reviews\").sort_values([\"review_rating\",\"normalized_url\"])\n",
    "brands = dict(zip(NORMALIZED_URL_LI,BRAND_NAME_LI))\n",
    "print(reviews_dist)\n",
    "reviews_dist[\"brand\"] = reviews_dist[\"normalized_url\"].map(brands)\n",
    "\n",
    "reviews_dist1 = reviews.groupby(\"mentions\")[\"review_rating\"].value_counts(normalize = True).reset_index(name = \"percent_reviews\").sort_values([\"review_rating\",\"mentions\"])\n",
    "print(reviews_dist1)\n",
    "\n",
    "fig = px.bar(reviews_dist1, \n",
    "                   color=\"review_rating\",\n",
    "                   x = \"percent_reviews\",\n",
    "                   y=\"mentions\", color_continuous_scale='RdYlGn',\n",
    "                   orientation='h', \n",
    "                   barmode=\"stack\",\n",
    "                   width=800, height=600,\n",
    "                   title = \"Review Rating Distribution of Reviews Mentioning:\"\n",
    "                   )\n",
    "\n",
    "\n",
    "fig.update_layout(\n",
    "    plot_bgcolor= 'rgba(0, 0, 0, 0)',\n",
    "    paper_bgcolor= 'rgba(0, 0, 0, 0)',\n",
    "    xaxis_title=\"% of total reviews\",\n",
    "    yaxis_title=\" \",\n",
    "    coloraxis_colorbar=dict(\n",
    "        title=\"Rating\",\n",
    "    ),\n",
    "    font=dict(\n",
    "        size=16,\n",
    "    ),\n",
    "    xaxis=dict(tickformat=\".0%\")\n",
    ")\n",
    "fig.show()"
   ]
  },
  {
   "cell_type": "code",
   "execution_count": 168,
   "id": "91dbdd4a-7232-4194-a979-e104d4b1eb64",
   "metadata": {},
   "outputs": [],
   "source": [
    "reviews.to_csv(\"Freck reviews 2022 03 02.csv\")"
   ]
  },
  {
   "cell_type": "code",
   "execution_count": 178,
   "id": "e23ae291-14ac-46ec-9958-ccaae98dfc61",
   "metadata": {},
   "outputs": [
    {
     "data": {
      "text/html": [
       "<div>\n",
       "<style scoped>\n",
       "    .dataframe tbody tr th:only-of-type {\n",
       "        vertical-align: middle;\n",
       "    }\n",
       "\n",
       "    .dataframe tbody tr th {\n",
       "        vertical-align: top;\n",
       "    }\n",
       "\n",
       "    .dataframe thead th {\n",
       "        text-align: right;\n",
       "    }\n",
       "</style>\n",
       "<table border=\"1\" class=\"dataframe\">\n",
       "  <thead>\n",
       "    <tr style=\"text-align: right;\">\n",
       "      <th></th>\n",
       "      <th>normalized_url</th>\n",
       "      <th>rev_count</th>\n",
       "      <th>source_name</th>\n",
       "      <th>review_source_id</th>\n",
       "      <th>reviewer_source_id</th>\n",
       "      <th>product_name</th>\n",
       "      <th>product_source_id</th>\n",
       "      <th>review_date</th>\n",
       "      <th>review_rating</th>\n",
       "      <th>review_content</th>\n",
       "      <th>color</th>\n",
       "      <th>skincare</th>\n",
       "      <th>both color and skincare</th>\n",
       "      <th>parent_category</th>\n",
       "      <th>primary_category</th>\n",
       "      <th>mentions</th>\n",
       "    </tr>\n",
       "  </thead>\n",
       "  <tbody>\n",
       "    <tr>\n",
       "      <th>404</th>\n",
       "      <td>freckbeauty.com</td>\n",
       "      <td>1015</td>\n",
       "      <td>sephora</td>\n",
       "      <td>183196628</td>\n",
       "      <td>5459410415</td>\n",
       "      <td>Cheekslime Blush + Lip Tint with Plant Collagen</td>\n",
       "      <td>P469819</td>\n",
       "      <td>2021-07-06 00:07:24</td>\n",
       "      <td>5.0</td>\n",
       "      <td>[I have, been, using, this, product, for, abou...</td>\n",
       "      <td>True</td>\n",
       "      <td>True</td>\n",
       "      <td>True</td>\n",
       "      <td>Personal Care &amp; Beauty</td>\n",
       "      <td>Makeup</td>\n",
       "      <td>Color</td>\n",
       "    </tr>\n",
       "    <tr>\n",
       "      <th>457</th>\n",
       "      <td>freckbeauty.com</td>\n",
       "      <td>1015</td>\n",
       "      <td>sephora</td>\n",
       "      <td>181385697</td>\n",
       "      <td>2079014998</td>\n",
       "      <td>Freck The Original Freckle</td>\n",
       "      <td>P468653</td>\n",
       "      <td>2021-06-05 04:16:58</td>\n",
       "      <td>4.0</td>\n",
       "      <td>[Let, me, start, with, saying, -, I, have, fre...</td>\n",
       "      <td>True</td>\n",
       "      <td>True</td>\n",
       "      <td>True</td>\n",
       "      <td>Personal Care &amp; Beauty</td>\n",
       "      <td>Makeup</td>\n",
       "      <td>Color</td>\n",
       "    </tr>\n",
       "  </tbody>\n",
       "</table>\n",
       "</div>"
      ],
      "text/plain": [
       "      normalized_url  rev_count source_name review_source_id  \\\n",
       "404  freckbeauty.com       1015     sephora        183196628   \n",
       "457  freckbeauty.com       1015     sephora        181385697   \n",
       "\n",
       "    reviewer_source_id                                     product_name  \\\n",
       "404         5459410415  Cheekslime Blush + Lip Tint with Plant Collagen   \n",
       "457         2079014998                       Freck The Original Freckle   \n",
       "\n",
       "    product_source_id          review_date  review_rating  \\\n",
       "404           P469819  2021-07-06 00:07:24            5.0   \n",
       "457           P468653  2021-06-05 04:16:58            4.0   \n",
       "\n",
       "                                        review_content  color  skincare  \\\n",
       "404  [I have, been, using, this, product, for, abou...   True      True   \n",
       "457  [Let, me, start, with, saying, -, I, have, fre...   True      True   \n",
       "\n",
       "     both color and skincare         parent_category primary_category mentions  \n",
       "404                     True  Personal Care & Beauty           Makeup    Color  \n",
       "457                     True  Personal Care & Beauty           Makeup    Color  "
      ]
     },
     "execution_count": 178,
     "metadata": {},
     "output_type": "execute_result"
    }
   ],
   "source": [
    "reviews[reviews[\"both color and skincare\"]==True]"
   ]
  },
  {
   "cell_type": "code",
   "execution_count": null,
   "id": "f78e9301-2dee-4a1a-a3f5-e96cd5d69dab",
   "metadata": {},
   "outputs": [],
   "source": []
  },
  {
   "cell_type": "code",
   "execution_count": null,
   "id": "72e5353e-2bf0-46ad-9f76-0c25cd6f7ac6",
   "metadata": {},
   "outputs": [],
   "source": []
  }
 ],
 "metadata": {
  "environment": {
   "kernel": "python3",
   "name": "common-cpu.m87",
   "type": "gcloud",
   "uri": "gcr.io/deeplearning-platform-release/base-cpu:m87"
  },
  "kernelspec": {
   "display_name": "Python 3",
   "language": "python",
   "name": "python3"
  },
  "language_info": {
   "codemirror_mode": {
    "name": "ipython",
    "version": 3
   },
   "file_extension": ".py",
   "mimetype": "text/x-python",
   "name": "python",
   "nbconvert_exporter": "python",
   "pygments_lexer": "ipython3",
   "version": "3.7.12"
  },
  "toc-autonumbering": true
 },
 "nbformat": 4,
 "nbformat_minor": 5
}
