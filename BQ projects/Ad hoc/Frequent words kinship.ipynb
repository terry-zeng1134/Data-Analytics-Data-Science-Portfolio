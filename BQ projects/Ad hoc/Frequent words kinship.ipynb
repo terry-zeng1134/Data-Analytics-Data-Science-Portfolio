{
 "cells": [
  {
   "cell_type": "markdown",
   "id": "208f4558-985e-49d8-a84d-d66fe28a417f",
   "metadata": {},
   "source": [
    "# Imports"
   ]
  },
  {
   "cell_type": "code",
   "execution_count": 4,
   "id": "5f2cf8f5-fd3e-4a92-8ff5-df6f9b8af487",
   "metadata": {},
   "outputs": [
    {
     "name": "stderr",
     "output_type": "stream",
     "text": [
      "[nltk_data] Downloading package stopwords to\n",
      "[nltk_data]     /home/jupyter/nltk_data...\n",
      "[nltk_data]   Package stopwords is already up-to-date!\n",
      "[nltk_data] Downloading package punkt to /home/jupyter/nltk_data...\n",
      "[nltk_data]   Package punkt is already up-to-date!\n",
      "[nltk_data] Downloading package wordnet to /home/jupyter/nltk_data...\n",
      "[nltk_data]   Package wordnet is already up-to-date!\n",
      "[nltk_data] Downloading package omw-1.4 to /home/jupyter/nltk_data...\n",
      "[nltk_data]   Package omw-1.4 is already up-to-date!\n"
     ]
    }
   ],
   "source": [
    "# Imports\n",
    "import numpy as np\n",
    "import pandas as pd\n",
    "import pyspark\n",
    "import nltk\n",
    "nltk.download('stopwords')\n",
    "nltk.download('punkt')\n",
    "nltk.download('wordnet')\n",
    "nltk.download('omw-1.4')\n",
    "import contractions\n",
    "import math\n",
    "from itertools import chain\n",
    "from nltk.corpus import stopwords\n",
    "from nltk.tokenize import word_tokenize\n",
    "from nltk.util import bigrams\n",
    "from nltk.stem import WordNetLemmatizer\n",
    "\n",
    "import re\n",
    "import string\n",
    "import plotly.express as px\n",
    "from plotly.subplots import make_subplots\n",
    "import plotly.graph_objs as go\n",
    "\n",
    "from google.cloud import bigquery\n",
    "\n",
    "from sklearn.feature_extraction.text import TfidfVectorizer "
   ]
  },
  {
   "cell_type": "code",
   "execution_count": 5,
   "id": "af189897-3888-44b6-9873-2da63a1ef32b",
   "metadata": {},
   "outputs": [
    {
     "name": "stdout",
     "output_type": "stream",
     "text": [
      "Client creating using default project: helio-staging\n"
     ]
    }
   ],
   "source": [
    "client = bigquery.Client(location=\"US\")\n",
    "print(\"Client creating using default project: {}\".format(client.project))\n",
    "\n",
    "client = bigquery.Client(location=\"US\", project=\"helio-staging\")"
   ]
  },
  {
   "cell_type": "markdown",
   "id": "c86babbf-09b8-4dcd-b3c9-bfee960f2ca6",
   "metadata": {},
   "source": [
    "# Constants + Functions"
   ]
  },
  {
   "cell_type": "code",
   "execution_count": 6,
   "id": "7cbd1e64-230c-4216-97b0-eb65ec2088b2",
   "metadata": {},
   "outputs": [],
   "source": [
    "GROUP_CUSTOM_STOPWORDS = [\n",
    "    \"bike\", \"nbsp\", \"crn\",\"sample\", \"bikes\", \"great\", \"good\", \"love\",\"like\", \"recommend\",\"smells\",\"collected\",\"part\",\"review\",\"promotion\",\"razor\",\n",
    "    \"shave\",\"shaving\",\"blade\",\"camille\",\"cantu\",\"daughter\",\"today\",\"kccc\",\"jessie\",\"miss\",\"fabric\",\"pillow\",\"softener\",\"or\",    \"tiktok\",\"OR\",\n",
    "     'Proov', 'proov','Natalist', 'natalist','Stix', 'stix','Clear Blue', 'blue','Modern Fertility', 'modern', 'free', 'app', 'mf', 'android', 'pinchme',\n",
    "    'Pregmate', 'pregmate', 'received','First Response', 'test', 'ovulation', 'none', 'see', 'store', 'day', 'month', 'amy', 'face', 'far', 'scan',\n",
    "    'it‚äôs','don‚äôt', 'using_minoxidil', '_oz','i‚äôm','moreread','using','stating',\n",
    "    'doesn‚äôt', 'classic','order','ordering', 'best', 'hard', 'seltzer', 'claw','never','got','ordered','white','product','high-noon','bottle','girl',\n",
    "    'read_lessread','read_moreread','lessread_le','le_stating','moreread_stating','scalp detox','le_serum',\n",
    "    'moreread_serum','i’ve_stem','hair_read','don’t_know','i’ve_bought', 'liquid_kinda', \"i'ḿ\"'use_serum','le_mus','read_serum','ingredient_us','oz_extreme',\n",
    "    'cell_serum','cell','stem','le','read','lessread','moreread','more','multi-colored—from_brown','findin_read','strengthening_hair','hair_oil','care_oil',\n",
    "    'hair','oil_hair','extreme_hair','hair_care','extreme','oz','_strengthening','used twice', 'oil_oil', 'customer',    'nan', 'read_moreread', 'noreferrer',\n",
    "    'noreferrer_farmer','farmer_dog/a','noreferrer_ollie/a','rel','noopener','blank_rel',\n",
    "    'rel_nofollow','blank','nofollow','target_blank','noopener_noreferrer','nofollower_noopener','nofollow_noopener',\"partake\",\"partake_cooky\", \"crunchy_cooky\",\"cooky_vegan\",\"madegood\",\"apple_jack\"\n",
    "]\n",
    "\n",
    "added_stopwords_li = [\n",
    "    \"it’s\",    \"'d\",    \"'s\",\n",
    "    \"n't\",    \"'m\",\n",
    "    \"i've\",    \"it's\",    \"'ve\",\n",
    "    \"'re\",    \"'ll\",    \"``\",    \"''\",    \"...\",    \"--\", \"https\",\n",
    "    \"voxbox\",    \"influenster\",    \"cracker\",    \"or\",    'it‚äôs',\n",
    "    'don‚äôt',    'i‚äôm',    'doesn‚äôt',    \"get\", \"also\",    \"even\",    \"since\", \"amy\"\n",
    "]\n",
    "\n",
    "REV_COLS = ['source_name',\n",
    "    'normalized_url',\n",
    "    'review_source_id',\n",
    "    'reviewer_source_id',\n",
    "    'brand_name',\n",
    "    'product_name',\n",
    "    'product_source_id',\n",
    "    'review_date',\n",
    "    'review_rating',\n",
    "    'review_content'\n",
    "]\n",
    "\n",
    "product_categories = ['Accessories',\n",
    "'Alcoholic Beverages',\n",
    "'Apparel & Footwear',\n",
    "'Food',\n",
    "'Food Establishments',\n",
    "'Health & Beauty Establishments',\n",
    "'Household Consumables',\n",
    "'Household Durables',\n",
    "'Other',\n",
    "'Pet Products',\n",
    "'Non-Alcoholic Beverages',\n",
    "'Personal Care & Beauty',\n",
    "'Retailers',\n",
    "'Sports & Outdoors'\n",
    "]\n",
    "\n",
    "drop_words = [\"kinship\",\n",
    "              \"mineral\",\n",
    "              \"trendmood\",\n",
    "              \"hue_stick\",\n",
    "              \"huesticks\",\n",
    "              \"stick\",\n",
    "              \"blume\",\n",
    "              \"daydreamer\",\n",
    "              \"loli\",\n",
    "              \"plum\",\n",
    "              \"elixir\",\n",
    "              \"nut\",\n",
    "              \"beekman\",\n",
    "              \"goat\",\n",
    "              \"milk\",\n",
    "              \"bloom\",\n",
    "              \"fifth_root\",\n",
    "              \"fifth\",\n",
    "              \"lip\",\n",
    "              \"cannuka\",\n",
    "              \"review\",\n",
    "              \"zitsticka\",\n",
    "              \"discipline\",\n",
    "              \"uoma\",\n",
    "              \"bv\",\n",
    "              \"yeast\",\n",
    "              \"bye_bloat\",\n",
    "              \"tula\",\n",
    "              \"tula_product\",\n",
    "              \"huestick\",\n",
    "              \"hue\",\n",
    "              \"live_tinted\",\n",
    "              \"meltdown\",\n",
    "              \"loli_product\",\n",
    "              \"bloom_cream\",\n",
    "              \"beekman_product\",\n",
    "              \"pure_goat\",\n",
    "              \"karmic_cleanse\",\n",
    "              \n",
    "             ]\n",
    "\n",
    "MIN_TERM_PCT = 0\n",
    "\n",
    "MAX_TERM_PCT = 100\n",
    "\n",
    "TERM_PERCENT_HEAD = 1\n",
    "\n",
    "TOP_N_WORDS = 8\n",
    "\n",
    "np.random.seed(42) # set seed for models for reproducibility\n",
    "\n",
    "stopwords_li = stopwords.words('english')\n",
    "punkts_li = list(string.punctuation)\n",
    "\n",
    "REVIEWS_PER_BRAND_TO_ANALYZE = 10_000"
   ]
  },
  {
   "cell_type": "code",
   "execution_count": 7,
   "id": "439a907c-a3c2-4f25-b82a-7206b5de2095",
   "metadata": {
    "tags": []
   },
   "outputs": [],
   "source": [
    "def tokenize(s, strip_str=\"=-_/\\+.:,'* 1234567890—\"):\n",
    "    custom_words_li = GROUP_CUSTOM_STOPWORDS + added_stopwords_li+stopwords_li + punkts_li + [\"\"]\n",
    "    return [w.lower().strip(strip_str) for w in word_tokenize(str(s)) if w.lower().strip(strip_str) not in custom_words_li]\n",
    "\n",
    "def lemmatize(tokens):\n",
    "    lemmatizer = WordNetLemmatizer()\n",
    "    return [lemmatizer.lemmatize(w) for w in tokens]\n",
    "\n",
    "def unique_list(li):\n",
    "    deduped_li = list(set(li))\n",
    "    return deduped_li\n",
    "\n",
    "def bigram(tokens):\n",
    "    bi_tup = list(bigrams(tokens))\n",
    "    bi_li = ['_'.join(tup) for tup in bi_tup]\n",
    "    return bi_li\n"
   ]
  },
  {
   "cell_type": "markdown",
   "id": "50b0048c-dbad-4036-8914-ed634c8c6de4",
   "metadata": {
    "tags": []
   },
   "source": [
    "# Load Data"
   ]
  },
  {
   "cell_type": "code",
   "execution_count": 8,
   "id": "84a69a77-fa83-47df-b988-faf149483078",
   "metadata": {},
   "outputs": [],
   "source": [
    "GROUP_NAME = \"Skincare\"\n",
    "# GROUP_NAME = 'Meat Substitutes'\n",
    "\n",
    "\n",
    "# When using Streamlit, leave list empty and un-comment cells below\n",
    "\n",
    "#Cereals\n",
    "NORMALIZED_URL_LI = [\n",
    "    \"lovekinship.com\",\n",
    "]\n",
    "\n",
    "PRIMARY_CATEGORIES = [\n",
    "    'Skincare',\n",
    "]                      \n",
    "\n",
    "\n",
    "BRAND_NAME_LI = [\n",
    "    \"Kinship\",\n",
    "]\n",
    "\n",
    "retailer = [\"ulta\", \"credo\"]\n",
    "brand_name_di = dict(zip(NORMALIZED_URL_LI, BRAND_NAME_LI))\n",
    "\n",
    "external_revs_list = []\n",
    "\n",
    "\n",
    "\n",
    "    \n",
    "PROD_CAT_EXCLUDE_LI = ['Pet Products']\n",
    "    \n",
    "PRODUCT_NAME_NOT_CONTAINS_LI = ['toothpaste']\n"
   ]
  },
  {
   "cell_type": "code",
   "execution_count": null,
   "id": "00661483-9a82-42d2-b41b-c2e6e3eb9b8a",
   "metadata": {
    "tags": []
   },
   "outputs": [],
   "source": []
  },
  {
   "cell_type": "code",
   "execution_count": 9,
   "id": "4816a0bf-b10b-4e28-9837-6955b2367595",
   "metadata": {
    "tags": []
   },
   "outputs": [],
   "source": [
    "job_config = bigquery.QueryJobConfig(\n",
    "    query_parameters=[\n",
    "        bigquery.ArrayQueryParameter(\"url\", \"STRING\", NORMALIZED_URL_LI),\n",
    "        bigquery.ArrayQueryParameter(\"cols\", \"STRING\", REV_COLS),\n",
    "        bigquery.ArrayQueryParameter(\"brands\", \"STRING\", BRAND_NAME_LI)\n",
    "    ]\n",
    ")"
   ]
  },
  {
   "cell_type": "code",
   "execution_count": 10,
   "id": "23b0e599-ddc4-464e-930f-602a48af8100",
   "metadata": {
    "tags": []
   },
   "outputs": [],
   "source": [
    "job_config = bigquery.QueryJobConfig(\n",
    "        query_parameters=[\n",
    "            bigquery.ArrayQueryParameter(\"url\", \"STRING\", NORMALIZED_URL_LI)\n",
    "        ]\n",
    ")\n",
    "max_date_query = \"\"\"\n",
    "    SELECT max(execution_date)\n",
    "    FROM `helio-staging.online_reviews.online_reviews__deduped_review__1_0`\n",
    "    where execution_date > DATE_ADD(current_date(), INTERVAL -10 DAY)\n",
    "    and normalized_url IS NOT NULL\n",
    "    \"\"\"\n",
    "query_job = client.query(\n",
    "    max_date_query,\n",
    "    # Location must match that of the dataset(s) referenced in the query.\n",
    "    location=\"US\",\n",
    "    job_config=job_config\n",
    ")  # API request - starts the query\n",
    "\n",
    "max_date = query_job.to_dataframe()['f0_'].astype('str')[0]\n"
   ]
  },
  {
   "cell_type": "code",
   "execution_count": 11,
   "id": "3a7921a5-de2f-41ff-bebd-87870e2aebc1",
   "metadata": {},
   "outputs": [
    {
     "data": {
      "text/plain": [
       "'2022-03-14'"
      ]
     },
     "execution_count": 11,
     "metadata": {},
     "output_type": "execute_result"
    }
   ],
   "source": [
    "max_date"
   ]
  },
  {
   "cell_type": "code",
   "execution_count": 12,
   "id": "9f67c0f9-56e6-413d-8014-941b63a4b486",
   "metadata": {
    "tags": []
   },
   "outputs": [],
   "source": [
    "job_config = bigquery.QueryJobConfig(\n",
    "    query_parameters=[\n",
    "        bigquery.ArrayQueryParameter(\"url\", \"STRING\", NORMALIZED_URL_LI),\n",
    "        bigquery.ScalarQueryParameter(\"max_date\", \"STRING\", max_date),\n",
    "        bigquery.ArrayQueryParameter(\"retailers\", \"STRING\", retailer)\n",
    "\n",
    "    ]\n",
    ")\n",
    "review_query = \"\"\"\n",
    "    SELECT source_name,\n",
    "    normalized_url,\n",
    "    review_source_id,\n",
    "    reviewer_source_id,\n",
    "    product_name,\n",
    "    product_source_id,\n",
    "    review_date,\n",
    "    review_rating,\n",
    "    review_content\n",
    "    FROM `helio-staging.online_reviews.online_reviews__deduped_review__1_0`\n",
    "    WHERE normalized_url IN UNNEST (@url)\n",
    "    AND source_name IN UNNEST (@retailers)\n",
    "    AND execution_date = @max_date\n",
    "    \"\"\"\n",
    "query_job = client.query(\n",
    "    review_query,\n",
    "    # Location must match that of the dataset(s) referenced in the query.\n",
    "    location=\"US\",\n",
    "    job_config=job_config\n",
    ")  # API request - starts the query\n",
    "\n",
    "reviews = query_job.to_dataframe()\n",
    "reviews = reviews.loc[reviews.astype(str).drop_duplicates().index]\n"
   ]
  },
  {
   "cell_type": "code",
   "execution_count": 284,
   "id": "e623ffd7-f4ba-462a-8f64-9bf6f762aff9",
   "metadata": {},
   "outputs": [],
   "source": []
  },
  {
   "cell_type": "code",
   "execution_count": 285,
   "id": "05bab625-dca2-470c-b9b7-5cb7597fa48d",
   "metadata": {},
   "outputs": [],
   "source": []
  },
  {
   "cell_type": "code",
   "execution_count": null,
   "id": "4e036d8a-cedb-4328-b143-a1613fc545a9",
   "metadata": {},
   "outputs": [
    {
     "data": {
      "text/html": [
       "<div>\n",
       "<style scoped>\n",
       "    .dataframe tbody tr th:only-of-type {\n",
       "        vertical-align: middle;\n",
       "    }\n",
       "\n",
       "    .dataframe tbody tr th {\n",
       "        vertical-align: top;\n",
       "    }\n",
       "\n",
       "    .dataframe thead th {\n",
       "        text-align: right;\n",
       "    }\n",
       "</style>\n",
       "<table border=\"1\" class=\"dataframe\">\n",
       "  <thead>\n",
       "    <tr style=\"text-align: right;\">\n",
       "      <th></th>\n",
       "      <th>source_name</th>\n",
       "      <th>review_source_id</th>\n",
       "      <th>reviewer_source_id</th>\n",
       "      <th>product_name</th>\n",
       "      <th>product_source_id</th>\n",
       "      <th>review_date</th>\n",
       "      <th>review_rating</th>\n",
       "      <th>review_content</th>\n",
       "    </tr>\n",
       "    <tr>\n",
       "      <th>normalized_url</th>\n",
       "      <th></th>\n",
       "      <th></th>\n",
       "      <th></th>\n",
       "      <th></th>\n",
       "      <th></th>\n",
       "      <th></th>\n",
       "      <th></th>\n",
       "      <th></th>\n",
       "    </tr>\n",
       "  </thead>\n",
       "  <tbody>\n",
       "    <tr>\n",
       "      <th>lovekinship.com</th>\n",
       "      <td>2508</td>\n",
       "      <td>2508</td>\n",
       "      <td>1432</td>\n",
       "      <td>2508</td>\n",
       "      <td>2508</td>\n",
       "      <td>2508</td>\n",
       "      <td>2508</td>\n",
       "      <td>2508</td>\n",
       "    </tr>\n",
       "  </tbody>\n",
       "</table>\n",
       "</div>"
      ],
      "text/plain": [
       "                 source_name  review_source_id  reviewer_source_id  \\\n",
       "normalized_url                                                       \n",
       "lovekinship.com         2508              2508                1432   \n",
       "\n",
       "                 product_name  product_source_id  review_date  review_rating  \\\n",
       "normalized_url                                                                 \n",
       "lovekinship.com          2508               2508         2508           2508   \n",
       "\n",
       "                 review_content  \n",
       "normalized_url                   \n",
       "lovekinship.com            2508  "
      ]
     },
     "execution_count": 13,
     "metadata": {},
     "output_type": "execute_result"
    }
   ],
   "source": [
    "reviews.groupby(\"normalized_url\").count()"
   ]
  },
  {
   "cell_type": "code",
   "execution_count": 14,
   "id": "bcf58c7c-eff6-4406-b572-e66f195c65a1",
   "metadata": {
    "tags": []
   },
   "outputs": [],
   "source": [
    "# Product Category Data\n",
    "\n",
    "query = \"\"\"\n",
    "    SELECT product_source_id, parent_category, primary_category\n",
    "    FROM `helio-staging.taxonomy.product_taxonomy__1_0`\n",
    "    WHERE normalized_url IN UNNEST (@url)\n",
    "\n",
    "    \"\"\"\n",
    "query_job = client.query(\n",
    "    query,\n",
    "    # Location must match that of the dataset(s) referenced in the query.\n",
    "    location=\"US\",\n",
    "    job_config=job_config\n",
    ")  # API request - starts the query\n",
    "\n",
    "prod_cat = query_job.to_dataframe()"
   ]
  },
  {
   "cell_type": "code",
   "execution_count": 15,
   "id": "9fd54d7a-07ee-4b0a-beb4-52363b217eac",
   "metadata": {
    "tags": []
   },
   "outputs": [],
   "source": [
    "# All primary categories\n",
    "\n",
    "query = \"\"\"\n",
    "    SELECT distinct parent_category\n",
    "    FROM `helio-staging.taxonomy.product_taxonomy__1_0`\n",
    "    \"\"\"\n",
    "query_job = client.query(\n",
    "    query,\n",
    "    # Location must match that of the dataset(s) referenced in the query.\n",
    "    location=\"US\",\n",
    "    job_config=job_config\n",
    ")  # API request - starts the query\n",
    "\n",
    "cat_list = query_job.to_dataframe()"
   ]
  },
  {
   "cell_type": "code",
   "execution_count": 231,
   "id": "30e4eb10-d267-4405-a719-1223184b0689",
   "metadata": {
    "tags": []
   },
   "outputs": [],
   "source": [
    "# Join reviews with product categories\n",
    "\n",
    "reviews = pd.merge(\n",
    "    reviews, \n",
    "    prod_cat, \n",
    "    on='product_source_id', how='left').drop_duplicates(subset=['source_name', 'review_source_id'])\n",
    "\n",
    "# Filter out excluded categories, excluded product name terms\n",
    "PROD_CAT_EXCLUDE_LI = ['Pet Products']\n",
    "\n",
    "for term in PROD_CAT_EXCLUDE_LI:\n",
    "    reviews = reviews[(~reviews['parent_category'].fillna('').str.contains(term))]\n",
    "\n",
    "    \n",
    "PRODUCT_NAME_NOT_CONTAINS_LI = ['Purina', 'Krill']\n",
    "for term in PRODUCT_NAME_NOT_CONTAINS_LI:\n",
    "    reviews = reviews[~(reviews['product_name'].str.lower().fillna('').str.contains(term.lower()))]"
   ]
  },
  {
   "cell_type": "code",
   "execution_count": null,
   "id": "b9acefad-1843-4237-be6a-74d0947cc04d",
   "metadata": {},
   "outputs": [],
   "source": []
  },
  {
   "cell_type": "code",
   "execution_count": null,
   "id": "cdf59dd1-c78b-478e-96b4-4a36e19c1d8b",
   "metadata": {
    "tags": []
   },
   "outputs": [],
   "source": []
  },
  {
   "cell_type": "code",
   "execution_count": null,
   "id": "cbbdbf29-8515-4a18-a87c-88f1f0e0307d",
   "metadata": {
    "tags": []
   },
   "outputs": [],
   "source": []
  },
  {
   "cell_type": "code",
   "execution_count": 288,
   "id": "07556303-4013-486b-ae1a-256b7bc7a649",
   "metadata": {
    "tags": []
   },
   "outputs": [
    {
     "ename": "KeyError",
     "evalue": "'primary_category'",
     "output_type": "error",
     "traceback": [
      "\u001b[0;31m---------------------------------------------------------------------------\u001b[0m",
      "\u001b[0;31mKeyError\u001b[0m                                  Traceback (most recent call last)",
      "\u001b[0;32m/opt/conda/lib/python3.7/site-packages/pandas/core/indexes/base.py\u001b[0m in \u001b[0;36mget_loc\u001b[0;34m(self, key, method, tolerance)\u001b[0m\n\u001b[1;32m   3360\u001b[0m             \u001b[0;32mtry\u001b[0m\u001b[0;34m:\u001b[0m\u001b[0;34m\u001b[0m\u001b[0;34m\u001b[0m\u001b[0m\n\u001b[0;32m-> 3361\u001b[0;31m                 \u001b[0;32mreturn\u001b[0m \u001b[0mself\u001b[0m\u001b[0;34m.\u001b[0m\u001b[0m_engine\u001b[0m\u001b[0;34m.\u001b[0m\u001b[0mget_loc\u001b[0m\u001b[0;34m(\u001b[0m\u001b[0mcasted_key\u001b[0m\u001b[0;34m)\u001b[0m\u001b[0;34m\u001b[0m\u001b[0;34m\u001b[0m\u001b[0m\n\u001b[0m\u001b[1;32m   3362\u001b[0m             \u001b[0;32mexcept\u001b[0m \u001b[0mKeyError\u001b[0m \u001b[0;32mas\u001b[0m \u001b[0merr\u001b[0m\u001b[0;34m:\u001b[0m\u001b[0;34m\u001b[0m\u001b[0;34m\u001b[0m\u001b[0m\n",
      "\u001b[0;32m/opt/conda/lib/python3.7/site-packages/pandas/_libs/index.pyx\u001b[0m in \u001b[0;36mpandas._libs.index.IndexEngine.get_loc\u001b[0;34m()\u001b[0m\n",
      "\u001b[0;32m/opt/conda/lib/python3.7/site-packages/pandas/_libs/index.pyx\u001b[0m in \u001b[0;36mpandas._libs.index.IndexEngine.get_loc\u001b[0;34m()\u001b[0m\n",
      "\u001b[0;32mpandas/_libs/hashtable_class_helper.pxi\u001b[0m in \u001b[0;36mpandas._libs.hashtable.PyObjectHashTable.get_item\u001b[0;34m()\u001b[0m\n",
      "\u001b[0;32mpandas/_libs/hashtable_class_helper.pxi\u001b[0m in \u001b[0;36mpandas._libs.hashtable.PyObjectHashTable.get_item\u001b[0;34m()\u001b[0m\n",
      "\u001b[0;31mKeyError\u001b[0m: 'primary_category'",
      "\nThe above exception was the direct cause of the following exception:\n",
      "\u001b[0;31mKeyError\u001b[0m                                  Traceback (most recent call last)",
      "\u001b[0;32m/tmp/ipykernel_11032/1534568215.py\u001b[0m in \u001b[0;36m<module>\u001b[0;34m\u001b[0m\n\u001b[1;32m     11\u001b[0m \u001b[0mreviews\u001b[0m \u001b[0;34m=\u001b[0m \u001b[0mpd\u001b[0m\u001b[0;34m.\u001b[0m\u001b[0mmerge\u001b[0m\u001b[0;34m(\u001b[0m\u001b[0mreviews_count\u001b[0m\u001b[0;34m,\u001b[0m \u001b[0mreviews\u001b[0m\u001b[0;34m,\u001b[0m \u001b[0mon\u001b[0m\u001b[0;34m=\u001b[0m\u001b[0;34m[\u001b[0m\u001b[0;34m'normalized_url'\u001b[0m\u001b[0;34m]\u001b[0m\u001b[0;34m)\u001b[0m\u001b[0;34m\u001b[0m\u001b[0;34m\u001b[0m\u001b[0m\n\u001b[1;32m     12\u001b[0m \u001b[0;34m\u001b[0m\u001b[0m\n\u001b[0;32m---> 13\u001b[0;31m \u001b[0mreviews\u001b[0m \u001b[0;34m=\u001b[0m \u001b[0mreviews\u001b[0m\u001b[0;34m[\u001b[0m\u001b[0mreviews\u001b[0m\u001b[0;34m[\u001b[0m\u001b[0;34m'primary_category'\u001b[0m\u001b[0;34m]\u001b[0m\u001b[0;34m.\u001b[0m\u001b[0mstr\u001b[0m\u001b[0;34m.\u001b[0m\u001b[0mcontains\u001b[0m\u001b[0;34m(\u001b[0m\u001b[0;34m'|'\u001b[0m\u001b[0;34m.\u001b[0m\u001b[0mjoin\u001b[0m\u001b[0;34m(\u001b[0m\u001b[0mPRIMARY_CATEGORIES\u001b[0m\u001b[0;34m)\u001b[0m\u001b[0;34m,\u001b[0m \u001b[0mna\u001b[0m\u001b[0;34m=\u001b[0m\u001b[0;32mFalse\u001b[0m\u001b[0;34m)\u001b[0m\u001b[0;34m]\u001b[0m\u001b[0;34m\u001b[0m\u001b[0;34m\u001b[0m\u001b[0m\n\u001b[0m",
      "\u001b[0;32m/opt/conda/lib/python3.7/site-packages/pandas/core/frame.py\u001b[0m in \u001b[0;36m__getitem__\u001b[0;34m(self, key)\u001b[0m\n\u001b[1;32m   3456\u001b[0m             \u001b[0;32mif\u001b[0m \u001b[0mself\u001b[0m\u001b[0;34m.\u001b[0m\u001b[0mcolumns\u001b[0m\u001b[0;34m.\u001b[0m\u001b[0mnlevels\u001b[0m \u001b[0;34m>\u001b[0m \u001b[0;36m1\u001b[0m\u001b[0;34m:\u001b[0m\u001b[0;34m\u001b[0m\u001b[0;34m\u001b[0m\u001b[0m\n\u001b[1;32m   3457\u001b[0m                 \u001b[0;32mreturn\u001b[0m \u001b[0mself\u001b[0m\u001b[0;34m.\u001b[0m\u001b[0m_getitem_multilevel\u001b[0m\u001b[0;34m(\u001b[0m\u001b[0mkey\u001b[0m\u001b[0;34m)\u001b[0m\u001b[0;34m\u001b[0m\u001b[0;34m\u001b[0m\u001b[0m\n\u001b[0;32m-> 3458\u001b[0;31m             \u001b[0mindexer\u001b[0m \u001b[0;34m=\u001b[0m \u001b[0mself\u001b[0m\u001b[0;34m.\u001b[0m\u001b[0mcolumns\u001b[0m\u001b[0;34m.\u001b[0m\u001b[0mget_loc\u001b[0m\u001b[0;34m(\u001b[0m\u001b[0mkey\u001b[0m\u001b[0;34m)\u001b[0m\u001b[0;34m\u001b[0m\u001b[0;34m\u001b[0m\u001b[0m\n\u001b[0m\u001b[1;32m   3459\u001b[0m             \u001b[0;32mif\u001b[0m \u001b[0mis_integer\u001b[0m\u001b[0;34m(\u001b[0m\u001b[0mindexer\u001b[0m\u001b[0;34m)\u001b[0m\u001b[0;34m:\u001b[0m\u001b[0;34m\u001b[0m\u001b[0;34m\u001b[0m\u001b[0m\n\u001b[1;32m   3460\u001b[0m                 \u001b[0mindexer\u001b[0m \u001b[0;34m=\u001b[0m \u001b[0;34m[\u001b[0m\u001b[0mindexer\u001b[0m\u001b[0;34m]\u001b[0m\u001b[0;34m\u001b[0m\u001b[0;34m\u001b[0m\u001b[0m\n",
      "\u001b[0;32m/opt/conda/lib/python3.7/site-packages/pandas/core/indexes/base.py\u001b[0m in \u001b[0;36mget_loc\u001b[0;34m(self, key, method, tolerance)\u001b[0m\n\u001b[1;32m   3361\u001b[0m                 \u001b[0;32mreturn\u001b[0m \u001b[0mself\u001b[0m\u001b[0;34m.\u001b[0m\u001b[0m_engine\u001b[0m\u001b[0;34m.\u001b[0m\u001b[0mget_loc\u001b[0m\u001b[0;34m(\u001b[0m\u001b[0mcasted_key\u001b[0m\u001b[0;34m)\u001b[0m\u001b[0;34m\u001b[0m\u001b[0;34m\u001b[0m\u001b[0m\n\u001b[1;32m   3362\u001b[0m             \u001b[0;32mexcept\u001b[0m \u001b[0mKeyError\u001b[0m \u001b[0;32mas\u001b[0m \u001b[0merr\u001b[0m\u001b[0;34m:\u001b[0m\u001b[0;34m\u001b[0m\u001b[0;34m\u001b[0m\u001b[0m\n\u001b[0;32m-> 3363\u001b[0;31m                 \u001b[0;32mraise\u001b[0m \u001b[0mKeyError\u001b[0m\u001b[0;34m(\u001b[0m\u001b[0mkey\u001b[0m\u001b[0;34m)\u001b[0m \u001b[0;32mfrom\u001b[0m \u001b[0merr\u001b[0m\u001b[0;34m\u001b[0m\u001b[0;34m\u001b[0m\u001b[0m\n\u001b[0m\u001b[1;32m   3364\u001b[0m \u001b[0;34m\u001b[0m\u001b[0m\n\u001b[1;32m   3365\u001b[0m         \u001b[0;32mif\u001b[0m \u001b[0mis_scalar\u001b[0m\u001b[0;34m(\u001b[0m\u001b[0mkey\u001b[0m\u001b[0;34m)\u001b[0m \u001b[0;32mand\u001b[0m \u001b[0misna\u001b[0m\u001b[0;34m(\u001b[0m\u001b[0mkey\u001b[0m\u001b[0;34m)\u001b[0m \u001b[0;32mand\u001b[0m \u001b[0;32mnot\u001b[0m \u001b[0mself\u001b[0m\u001b[0;34m.\u001b[0m\u001b[0mhasnans\u001b[0m\u001b[0;34m:\u001b[0m\u001b[0;34m\u001b[0m\u001b[0;34m\u001b[0m\u001b[0m\n",
      "\u001b[0;31mKeyError\u001b[0m: 'primary_category'"
     ]
    }
   ],
   "source": [
    "# Get most recent n reviews\n",
    "\n",
    "reviews = (reviews\n",
    "           .sort_values('review_date',ascending = False)\n",
    "           .groupby('normalized_url')\n",
    "           .head(REVIEWS_PER_BRAND_TO_ANALYZE)\n",
    "          )\n",
    "\n",
    "reviews_count = reviews.groupby('normalized_url').agg({'review_source_id':'count'}).reset_index().rename(columns={\"review_source_id\": \"rev_count\"})\n",
    "\n",
    "reviews = pd.merge(reviews_count, reviews, on=['normalized_url'])\n",
    "\n",
    "reviews = reviews[reviews['primary_category'].str.contains('|'.join(PRIMARY_CATEGORIES), na=False)]"
   ]
  },
  {
   "cell_type": "code",
   "execution_count": null,
   "id": "c85b3684-02a9-4294-8601-1f6ae1b04f74",
   "metadata": {
    "tags": []
   },
   "outputs": [],
   "source": [
    "reviews_count"
   ]
  },
  {
   "cell_type": "code",
   "execution_count": 234,
   "id": "5b4aee6d-f8ee-4b6e-8403-a8faaac40cf2",
   "metadata": {},
   "outputs": [],
   "source": [
    "#reviews = reviews[~reviews['product_name'].str.contains(\"REESE'S|TWIZZLERS|HERSHEY'S|Reese's|Reeses|ALMOND JOY|Mounds|Reese’s|Laeta|Kisses|Reese'S|Hershey\")]\n",
    "\n"
   ]
  },
  {
   "cell_type": "code",
   "execution_count": 235,
   "id": "dca3d693-e8b1-4e02-9570-b15715943dc8",
   "metadata": {},
   "outputs": [],
   "source": [
    "#reviews.to_csv(\"JOJO comps reviews 2022 02 22.csv\")"
   ]
  },
  {
   "cell_type": "code",
   "execution_count": 16,
   "id": "f648a208-3b3c-44de-8e69-581962020d38",
   "metadata": {
    "tags": []
   },
   "outputs": [],
   "source": [
    "tokenized_reviews = reviews.copy()\n",
    "tokenized_reviews['tokenized_review'] = tokenized_reviews['review_content'].apply(lambda x: lemmatize(tokenize(x)))\n",
    "tokenized_reviews = tokenized_reviews.dropna(subset=['tokenized_review'])"
   ]
  },
  {
   "cell_type": "code",
   "execution_count": 18,
   "id": "e0f57cd5-03a2-4323-a7c5-2c71cd5ee017",
   "metadata": {
    "tags": []
   },
   "outputs": [],
   "source": [
    "unibi_reviews = tokenized_reviews.copy()\n",
    "\n",
    "unibi_reviews['unibi'] = unibi_reviews['tokenized_review'].apply(lambda x: unique_list(bigram(x)+x))\n",
    "unibi_reviews = unibi_reviews.loc[unibi_reviews.astype(str).drop_duplicates().index]\n",
    "\n",
    "unibi_words = unibi_reviews.copy()\n",
    "unibi_words['unibi_word'] = unibi_words['unibi']\n",
    "unibi_words = unibi_words.explode('unibi_word')\n",
    "unibi_words= unibi_words[~unibi_words[\"unibi_word\"].isin(drop_words)]\n",
    "#unibi_words=unibi_words[unibi_words[\"parent_category\"]==\"Food\"]"
   ]
  },
  {
   "cell_type": "code",
   "execution_count": 29,
   "id": "885a66d6-f38b-47c6-9fb2-1e3e602d2dd4",
   "metadata": {},
   "outputs": [],
   "source": [
    "words = tokenized_reviews.explode('tokenized_review')\n",
    "exp = words.groupby(\"source_name\")[\"tokenized_review\"].value_counts()\n",
    "exp.to_csv(\"kinship.csv\")"
   ]
  },
  {
   "cell_type": "code",
   "execution_count": 291,
   "id": "d709c3b3-78f2-4675-a6bd-083082fac885",
   "metadata": {},
   "outputs": [],
   "source": [
    "grouped_sdf = pd.DataFrame(unibi_reviews.groupby('normalized_url').unibi.apply(sum)).reset_index()"
   ]
  },
  {
   "cell_type": "code",
   "execution_count": 292,
   "id": "04750519-ac57-40bd-9bd8-100543d5b55c",
   "metadata": {},
   "outputs": [],
   "source": [
    "pd.set_option('max_colwidth', 50)\n",
    "\n",
    "#tokenized_reviews[(tokenized_reviews['review_source_id']=='232203656')]\n",
    "\n",
    "grouped_sdf['unibi_str'] = [','.join(map(str, l)) for l in grouped_sdf['unibi']]"
   ]
  },
  {
   "cell_type": "code",
   "execution_count": 293,
   "id": "4ffa0762-989a-4f78-b4ac-0ebd7e92053d",
   "metadata": {},
   "outputs": [
    {
     "data": {
      "text/html": [
       "<div>\n",
       "<style scoped>\n",
       "    .dataframe tbody tr th:only-of-type {\n",
       "        vertical-align: middle;\n",
       "    }\n",
       "\n",
       "    .dataframe tbody tr th {\n",
       "        vertical-align: top;\n",
       "    }\n",
       "\n",
       "    .dataframe thead th {\n",
       "        text-align: right;\n",
       "    }\n",
       "</style>\n",
       "<table border=\"1\" class=\"dataframe\">\n",
       "  <thead>\n",
       "    <tr style=\"text-align: right;\">\n",
       "      <th></th>\n",
       "      <th>normalized_url</th>\n",
       "      <th>unibi</th>\n",
       "      <th>unibi_str</th>\n",
       "    </tr>\n",
       "  </thead>\n",
       "  <tbody>\n",
       "    <tr>\n",
       "      <th>0</th>\n",
       "      <td>beekman1802.com</td>\n",
       "      <td>[soft, finally_found, fortune_rodan, found_org...</td>\n",
       "      <td>soft,finally_found,fortune_rodan,found_organic...</td>\n",
       "    </tr>\n",
       "    <tr>\n",
       "      <th>1</th>\n",
       "      <td>blume.com</td>\n",
       "      <td>[acne, give_moisturized, acne_scar, morning, a...</td>\n",
       "      <td>acne,give_moisturized,acne_scar,morning,acne_r...</td>\n",
       "    </tr>\n",
       "    <tr>\n",
       "      <th>2</th>\n",
       "      <td>cannuka.com</td>\n",
       "      <td>[moisturizing_wake, hoping, would_hydrating, e...</td>\n",
       "      <td>moisturizing_wake,hoping,would_hydrating,eye_c...</td>\n",
       "    </tr>\n",
       "    <tr>\n",
       "      <th>3</th>\n",
       "      <td>fifthandroot.com</td>\n",
       "      <td>[odd, deeply, odd_smell, drier, start, tlc, ne...</td>\n",
       "      <td>odd,deeply,odd_smell,drier,start,tlc,need,smel...</td>\n",
       "    </tr>\n",
       "    <tr>\n",
       "      <th>4</th>\n",
       "      <td>livetinted.com</td>\n",
       "      <td>[peachy, work_beautifully, dark_age, excellent...</td>\n",
       "      <td>peachy,work_beautifully,dark_age,excellent_pac...</td>\n",
       "    </tr>\n",
       "    <tr>\n",
       "      <th>5</th>\n",
       "      <td>lolibeauty.com</td>\n",
       "      <td>[daily, looking_oil, little, fragrance, need_l...</td>\n",
       "      <td>daily,looking_oil,little,fragrance,need_little...</td>\n",
       "    </tr>\n",
       "    <tr>\n",
       "      <th>6</th>\n",
       "      <td>lovekinship.com</td>\n",
       "      <td>[long, last_especially, especially_use, overpo...</td>\n",
       "      <td>long,last_especially,especially_use,overpoweri...</td>\n",
       "    </tr>\n",
       "    <tr>\n",
       "      <th>7</th>\n",
       "      <td>lovewellness.com</td>\n",
       "      <td>[cleared, cleared_bv, bv, infection_instead, g...</td>\n",
       "      <td>cleared,cleared_bv,bv,infection_instead,gave,b...</td>\n",
       "    </tr>\n",
       "    <tr>\n",
       "      <th>8</th>\n",
       "      <td>tula.com</td>\n",
       "      <td>[right, damp, say_make, claim_dry, watched_mak...</td>\n",
       "      <td>right,damp,say_make,claim_dry,watched_make,dam...</td>\n",
       "    </tr>\n",
       "    <tr>\n",
       "      <th>9</th>\n",
       "      <td>uomabeauty.com</td>\n",
       "      <td>[wish, everyday, would_purchased, wear_especia...</td>\n",
       "      <td>wish,everyday,would_purchased,wear_especially,...</td>\n",
       "    </tr>\n",
       "    <tr>\n",
       "      <th>10</th>\n",
       "      <td>zitsticka.com</td>\n",
       "      <td>[acne_unlike, unlike_brand, come_patch, going_...</td>\n",
       "      <td>acne_unlike,unlike_brand,come_patch,going_buy,...</td>\n",
       "    </tr>\n",
       "  </tbody>\n",
       "</table>\n",
       "</div>"
      ],
      "text/plain": [
       "      normalized_url                                              unibi  \\\n",
       "0    beekman1802.com  [soft, finally_found, fortune_rodan, found_org...   \n",
       "1          blume.com  [acne, give_moisturized, acne_scar, morning, a...   \n",
       "2        cannuka.com  [moisturizing_wake, hoping, would_hydrating, e...   \n",
       "3   fifthandroot.com  [odd, deeply, odd_smell, drier, start, tlc, ne...   \n",
       "4     livetinted.com  [peachy, work_beautifully, dark_age, excellent...   \n",
       "5     lolibeauty.com  [daily, looking_oil, little, fragrance, need_l...   \n",
       "6    lovekinship.com  [long, last_especially, especially_use, overpo...   \n",
       "7   lovewellness.com  [cleared, cleared_bv, bv, infection_instead, g...   \n",
       "8           tula.com  [right, damp, say_make, claim_dry, watched_mak...   \n",
       "9     uomabeauty.com  [wish, everyday, would_purchased, wear_especia...   \n",
       "10     zitsticka.com  [acne_unlike, unlike_brand, come_patch, going_...   \n",
       "\n",
       "                                            unibi_str  \n",
       "0   soft,finally_found,fortune_rodan,found_organic...  \n",
       "1   acne,give_moisturized,acne_scar,morning,acne_r...  \n",
       "2   moisturizing_wake,hoping,would_hydrating,eye_c...  \n",
       "3   odd,deeply,odd_smell,drier,start,tlc,need,smel...  \n",
       "4   peachy,work_beautifully,dark_age,excellent_pac...  \n",
       "5   daily,looking_oil,little,fragrance,need_little...  \n",
       "6   long,last_especially,especially_use,overpoweri...  \n",
       "7   cleared,cleared_bv,bv,infection_instead,gave,b...  \n",
       "8   right,damp,say_make,claim_dry,watched_make,dam...  \n",
       "9   wish,everyday,would_purchased,wear_especially,...  \n",
       "10  acne_unlike,unlike_brand,come_patch,going_buy,...  "
      ]
     },
     "execution_count": 293,
     "metadata": {},
     "output_type": "execute_result"
    }
   ],
   "source": [
    "grouped_sdf"
   ]
  },
  {
   "cell_type": "code",
   "execution_count": 294,
   "id": "47974363-123e-477f-a459-ae2c4e0eb582",
   "metadata": {},
   "outputs": [
    {
     "name": "stderr",
     "output_type": "stream",
     "text": [
      "/opt/conda/lib/python3.7/site-packages/sklearn/utils/deprecation.py:87: FutureWarning:\n",
      "\n",
      "Function get_feature_names is deprecated; get_feature_names is deprecated in 1.0 and will be removed in 1.2. Please use get_feature_names_out instead.\n",
      "\n"
     ]
    }
   ],
   "source": [
    "frames = []\n",
    "\n",
    "for i in range(len(grouped_sdf)):    \n",
    "# settings that you use for count vectorizer will go here \n",
    "    tfidf_vectorizer=TfidfVectorizer(\n",
    "        norm=None,\n",
    "        sublinear_tf=False,\n",
    "        use_idf=True,\n",
    "        lowercase=False,\n",
    "        stop_words='english',\n",
    "        smooth_idf=True,\n",
    "        max_df = len(grouped_sdf['normalized_url'])-1\n",
    "    ) \n",
    "\n",
    "    # just send in all your docs here \n",
    "    tfidf_vectorizer_vectors=tfidf_vectorizer.fit_transform(grouped_sdf['unibi_str'])\n",
    "\n",
    "    # get the first vector out (for the first document) \n",
    "    first_vector_tfidfvectorizer=tfidf_vectorizer_vectors[i]\n",
    "\n",
    "    # place tf-idf values in a pandas data frame \n",
    "    df = pd.DataFrame(first_vector_tfidfvectorizer.T.todense(), index=tfidf_vectorizer.get_feature_names(), columns=[\"tfidf\"])\n",
    "    joined_df = unibi_words[(unibi_words['normalized_url']==grouped_sdf.reset_index()['normalized_url'][i])].join(df, on='unibi_word', how='inner', lsuffix='_left', rsuffix='_right')\n",
    "    frames.append(joined_df)\n",
    "\n",
    "df = pd.concat(frames)\n",
    "#reviews = unibi_reviews[(unibi_reviews['normalized_url'] == url)]\n",
    "#joined_df = unibi_reviews.join(df, on='unibi_word', how='inner', lsuffix='_left', rsuffix='_right')\n",
    "sorted_df = df[['normalized_url', 'unibi_word', 'tfidf']].sort_values(by=['normalized_url', \"tfidf\"],ascending=False).drop_duplicates()\n"
   ]
  },
  {
   "cell_type": "code",
   "execution_count": 295,
   "id": "bb04098e-fceb-4ee9-8e28-7119e03d8721",
   "metadata": {},
   "outputs": [],
   "source": [
    "tf_idf_output = sorted_df.groupby('normalized_url').head(TOP_N_WORDS)"
   ]
  },
  {
   "cell_type": "code",
   "execution_count": 296,
   "id": "de16d647-d2cf-4e84-8bf4-eaaf46b09855",
   "metadata": {},
   "outputs": [],
   "source": [
    "unibi_reviews_grouped = unibi_words.groupby(['normalized_url', 'unibi_word']).agg({'review_rating':'mean', 'review_source_id':'count'})\n",
    "\n",
    "unibi_reviews_grouped = unibi_reviews_grouped.rename(columns={\"review_rating\": \"avg_rating\", \"review_source_id\": \"review_count\"})"
   ]
  },
  {
   "cell_type": "code",
   "execution_count": 297,
   "id": "fc4a8fa7-9f54-494e-8e3d-941d0c9297b7",
   "metadata": {},
   "outputs": [],
   "source": [
    "avg_rating_tfidf = pd.merge(unibi_reviews_grouped, tf_idf_output, on=['normalized_url', 'unibi_word'], how='inner').sort_values(by=['normalized_url', \"tfidf\"],ascending=False)[['normalized_url','unibi_word', 'tfidf', 'avg_rating']]"
   ]
  },
  {
   "cell_type": "code",
   "execution_count": 298,
   "id": "9fb197b1-601b-4d14-a66d-40353330986f",
   "metadata": {},
   "outputs": [
    {
     "data": {
      "text/plain": [
       "array(['zitsticka.com', 'uomabeauty.com', 'tula.com', 'lovewellness.com',\n",
       "       'lovekinship.com', 'lolibeauty.com', 'livetinted.com',\n",
       "       'fifthandroot.com', 'cannuka.com', 'blume.com', 'beekman1802.com'],\n",
       "      dtype=object)"
      ]
     },
     "execution_count": 298,
     "metadata": {},
     "output_type": "execute_result"
    }
   ],
   "source": [
    "avg_rating_tfidf[\"normalized_url\"].unique()"
   ]
  },
  {
   "cell_type": "code",
   "execution_count": 299,
   "id": "a2d7be2e-a0fb-4b20-a97f-0273f82e5c52",
   "metadata": {},
   "outputs": [
    {
     "data": {
      "application/vnd.plotly.v1+json": {
       "config": {
        "plotlyServerURL": "https://plot.ly"
       },
       "data": [
        {
         "marker": {
          "color": [
           4.536585365853658,
           4.273684210526316,
           4.627906976744186,
           4.839285714285714,
           4.435294117647059,
           4.626016260162602,
           4.168224299065421,
           4.3283582089552235
          ],
          "coloraxis": "coloraxis"
         },
         "orientation": "h",
         "type": "bar",
         "x": [
          96.53616527873307,
          107.61412632197334,
          122.83741664603441,
          133.63248422271388,
          147.30380470871526,
          147.79019459924433,
          284.57773801184356,
          445.6746645657482
         ],
         "xaxis": "x",
         "y": [
          "marshmallow",
          "spf",
          "trendmood_box",
          "papaya",
          "mineral_sunscreen",
          "cleanser",
          "cast",
          "sunscreen"
         ],
         "yaxis": "y"
        },
        {
         "marker": {
          "color": [
           4.595744680851064,
           4.586956521739131,
           4.645161290322581,
           4.633928571428571,
           4.577464788732394,
           4.6688311688311686,
           4.56,
           4.730769230769231
          ],
          "coloraxis": "coloraxis"
         },
         "orientation": "h",
         "type": "bar",
         "x": [
          176.29406131126657,
          189.28926465041178,
          204.35813887405038,
          217.55437353305237,
          224.6934891069723,
          237.00546111283379,
          258.70870772353186,
          334.50069572974314
         ],
         "xaxis": "x3",
         "y": [
          "colour",
          "blush",
          "skin_tone",
          "corrector",
          "lipstick",
          "rise",
          "tone",
          "shade"
         ],
         "yaxis": "y3"
        },
        {
         "marker": {
          "color": [
           4.8061224489795915,
           4.815668202764977,
           4.842741935483871,
           4.88546255506608,
           4.8427672955974845,
           4.9147727272727275,
           4.873595505617978,
           4.836309523809524
          ],
          "coloraxis": "coloraxis"
         },
         "orientation": "h",
         "type": "bar",
         "x": [
          221.75032090588445,
          256.56377782428814,
          303.85664009604636,
          327.4733701892023,
          403.17165086673856,
          419.9878075571008,
          486.74382338677316,
          520.1808172476482
         ],
         "xaxis": "x5",
         "y": [
          "redness",
          "cleanser",
          "cystic_acne",
          "hormonal_acne",
          "cystic",
          "natural_deodorant",
          "hormonal",
          "deodorant"
         ],
         "yaxis": "y5"
        },
        {
         "marker": {
          "color": [
           4.933333333333334,
           5,
           4.769230769230769,
           4.794871794871795,
           4.823529411764706,
           4.857142857142857,
           4.757575757575758,
           4.91358024691358
          ],
          "coloraxis": "coloraxis"
         },
         "orientation": "h",
         "type": "bar",
         "x": [
          44.66815150764888,
          47.459910976876934,
          47.78581367567759,
          48.47518382855214,
          63.76593707003259,
          78.16926513838554,
          78.7477139169564,
          228.9242764767005
         ],
         "xaxis": "x7",
         "y": [
          "tea_seed",
          "purple_corn",
          "toner",
          "date",
          "matcha",
          "brulee",
          "date_nut",
          "plum_elixir"
         ],
         "yaxis": "y7"
        },
        {
         "marker": {
          "color": [
           4.817647058823529,
           4.653543307086614,
           4.865030674846626,
           4.625,
           4.81140350877193,
           4.597674418604651,
           4.808924485125858,
           4.7
          ],
          "coloraxis": "coloraxis"
         },
         "orientation": "h",
         "type": "bar",
         "x": [
          324.4560915622247,
          354.553452591963,
          393.738569584782,
          405.6700413903814,
          646.5139497297556,
          667.9244813179861,
          1143.4616803371814,
          1147.8075876986675
         ],
         "xaxis": "x9",
         "y": [
          "body_cream",
          "milk_drop",
          "milk_soap",
          "natural_deodorant",
          "bar",
          "deodorant",
          "soap",
          "goat_milk"
         ],
         "yaxis": "y9"
        },
        {
         "marker": {
          "color": [
           4.75,
           4.65625,
           4.5,
           4.638297872340425,
           4.5,
           4.115384615384615,
           4.5064935064935066,
           4.472972972972973
          ],
          "coloraxis": "coloraxis"
         },
         "orientation": "h",
         "type": "bar",
         "x": [
          43.480455079585184,
          50.78688452417867,
          54.35056884948148,
          55.56911316931587,
          61.418708323017206,
          72.58574619992943,
          93.40340298672243,
          138.78468656418858
         ],
         "xaxis": "x11",
         "y": [
          "gentle",
          "facial_oil",
          "root",
          "calming",
          "high_glow",
          "karmic",
          "cleanser",
          "cbd"
         ],
         "yaxis": "y11"
        },
        {
         "marker": {
          "color": [
           4.565217391304348,
           4.631578947368421,
           4.956521739130435,
           3.6333333333333333,
           4.5625,
           4.117647058823529,
           3.96875,
           4.508771929824562
          ],
          "coloraxis": "coloraxis"
         },
         "orientation": "h",
         "type": "bar",
         "x": [
          25.001261670761483,
          26.703837054055125,
          27.17528442474074,
          32.61034130968889,
          34.78436406366815,
          35.67640890735787,
          60.014999595324795,
          81.51697627027353
         ],
         "xaxis": "x2",
         "y": [
          "hydrating",
          "eye_cream",
          "eczema",
          "apply",
          "redness",
          "eye_balm",
          "cbd",
          "lip_balm"
         ],
         "yaxis": "y2"
        },
        {
         "marker": {
          "color": [
           4.654970760233918,
           4.700902934537246,
           4.545304777594728,
           4.698710433763189,
           4.6875,
           4.67409948542024,
           4.644021739130435,
           4.738831615120275
          ],
          "coloraxis": "coloraxis"
         },
         "orientation": "h",
         "type": "bar",
         "x": [
          924.5557280203786,
          963.092080012812,
          1037.8992216832464,
          1189.8182349454455,
          1397.5040801304544,
          2171.924699830495,
          2194.38880940958,
          2445.581295043776
         ],
         "xaxis": "x4",
         "y": [
          "painful",
          "overnight",
          "sticker",
          "hormonal",
          "cystic_acne",
          "cystic",
          "zit",
          "skin_discipline"
         ],
         "yaxis": "y4"
        },
        {
         "marker": {
          "color": [
           4.431818181818182,
           4.052631578947368,
           3.8823529411764706,
           4.326923076923077,
           4.220338983050848,
           4.462962962962963,
           4.222222222222222,
           4.007407407407407
          ],
          "coloraxis": "coloraxis"
         },
         "orientation": "h",
         "type": "bar",
         "x": [
          52.02214849893401,
          53.40767410811025,
          55.40387402637673,
          56.52459160346074,
          79.21554430519497,
          86.18380404103047,
          107.61412632197334,
          192.5487198108185
         ],
         "xaxis": "x6",
         "y": [
          "concealer",
          "mascara",
          "undertone",
          "match",
          "matte",
          "lipstick",
          "coverage",
          "shade"
         ],
         "yaxis": "y6"
        },
        {
         "marker": {
          "color": [
           4.762910798122066,
           4.80990099009901,
           4.705263157894737,
           4.740177439797212,
           4.766265060240964,
           4.8125,
           4.796610169491525,
           4.7995618838992335
          ],
          "coloraxis": "coloraxis"
         },
         "orientation": "h",
         "type": "bar",
         "x": [
          798.9496821127614,
          855.0393261827725,
          889.539977423493,
          970.6859981278368,
          1016.5613978370735,
          1120.6589621487708,
          1161.371939198871,
          1411.259791171874
         ],
         "xaxis": "x8",
         "y": [
          "energy",
          "infection",
          "supplement",
          "vitamin",
          "bloat",
          "wellness",
          "yeast_infection",
          "probiotic"
         ],
         "yaxis": "y8"
        },
        {
         "marker": {
          "color": [
           4.444043321299639,
           4.354515050167224,
           4.26,
           4.231182795698925,
           4.192170818505338,
           4.374133949191686,
           4.091633466135458,
           4.161178509532062
          ],
          "coloraxis": "coloraxis"
         },
         "orientation": "h",
         "type": "bar",
         "x": [
          308.71123106505485,
          325.01640171989925,
          386.97605020830815,
          392.4404979809366,
          397.7466255946105,
          480.4590286294163,
          595.8900646241532,
          638.0756782929126
         ],
         "xaxis": "x10",
         "y": [
          "tone",
          "apply",
          "sunscreen",
          "eye_balm",
          "toner",
          "primer",
          "cleanser",
          "cooling"
         ],
         "yaxis": "y10"
        }
       ],
       "layout": {
        "autosize": true,
        "coloraxis": {
         "cmax": 5,
         "cmin": 1,
         "colorbar": {
          "title": {
           "text": "<b>average rating</b>"
          }
         },
         "colorscale": [
          [
           0,
           "rgb(165,0,38)"
          ],
          [
           0.1,
           "rgb(215,48,39)"
          ],
          [
           0.2,
           "rgb(244,109,67)"
          ],
          [
           0.3,
           "rgb(253,174,97)"
          ],
          [
           0.4,
           "rgb(254,224,139)"
          ],
          [
           0.5,
           "rgb(255,255,191)"
          ],
          [
           0.6,
           "rgb(217,239,139)"
          ],
          [
           0.7,
           "rgb(166,217,106)"
          ],
          [
           0.8,
           "rgb(102,189,99)"
          ],
          [
           0.9,
           "rgb(26,152,80)"
          ],
          [
           1,
           "rgb(0,104,55)"
          ]
         ]
        },
        "font": {
         "size": 12
        },
        "height": 1000,
        "margin": {
         "t": 50
        },
        "plot_bgcolor": "white",
        "showlegend": false,
        "template": {
         "data": {
          "bar": [
           {
            "error_x": {
             "color": "#2a3f5f"
            },
            "error_y": {
             "color": "#2a3f5f"
            },
            "marker": {
             "line": {
              "color": "#E5ECF6",
              "width": 0.5
             },
             "pattern": {
              "fillmode": "overlay",
              "size": 10,
              "solidity": 0.2
             }
            },
            "type": "bar"
           }
          ],
          "barpolar": [
           {
            "marker": {
             "line": {
              "color": "#E5ECF6",
              "width": 0.5
             },
             "pattern": {
              "fillmode": "overlay",
              "size": 10,
              "solidity": 0.2
             }
            },
            "type": "barpolar"
           }
          ],
          "carpet": [
           {
            "aaxis": {
             "endlinecolor": "#2a3f5f",
             "gridcolor": "white",
             "linecolor": "white",
             "minorgridcolor": "white",
             "startlinecolor": "#2a3f5f"
            },
            "baxis": {
             "endlinecolor": "#2a3f5f",
             "gridcolor": "white",
             "linecolor": "white",
             "minorgridcolor": "white",
             "startlinecolor": "#2a3f5f"
            },
            "type": "carpet"
           }
          ],
          "choropleth": [
           {
            "colorbar": {
             "outlinewidth": 0,
             "ticks": ""
            },
            "type": "choropleth"
           }
          ],
          "contour": [
           {
            "colorbar": {
             "outlinewidth": 0,
             "ticks": ""
            },
            "colorscale": [
             [
              0,
              "#0d0887"
             ],
             [
              0.1111111111111111,
              "#46039f"
             ],
             [
              0.2222222222222222,
              "#7201a8"
             ],
             [
              0.3333333333333333,
              "#9c179e"
             ],
             [
              0.4444444444444444,
              "#bd3786"
             ],
             [
              0.5555555555555556,
              "#d8576b"
             ],
             [
              0.6666666666666666,
              "#ed7953"
             ],
             [
              0.7777777777777778,
              "#fb9f3a"
             ],
             [
              0.8888888888888888,
              "#fdca26"
             ],
             [
              1,
              "#f0f921"
             ]
            ],
            "type": "contour"
           }
          ],
          "contourcarpet": [
           {
            "colorbar": {
             "outlinewidth": 0,
             "ticks": ""
            },
            "type": "contourcarpet"
           }
          ],
          "heatmap": [
           {
            "colorbar": {
             "outlinewidth": 0,
             "ticks": ""
            },
            "colorscale": [
             [
              0,
              "#0d0887"
             ],
             [
              0.1111111111111111,
              "#46039f"
             ],
             [
              0.2222222222222222,
              "#7201a8"
             ],
             [
              0.3333333333333333,
              "#9c179e"
             ],
             [
              0.4444444444444444,
              "#bd3786"
             ],
             [
              0.5555555555555556,
              "#d8576b"
             ],
             [
              0.6666666666666666,
              "#ed7953"
             ],
             [
              0.7777777777777778,
              "#fb9f3a"
             ],
             [
              0.8888888888888888,
              "#fdca26"
             ],
             [
              1,
              "#f0f921"
             ]
            ],
            "type": "heatmap"
           }
          ],
          "heatmapgl": [
           {
            "colorbar": {
             "outlinewidth": 0,
             "ticks": ""
            },
            "colorscale": [
             [
              0,
              "#0d0887"
             ],
             [
              0.1111111111111111,
              "#46039f"
             ],
             [
              0.2222222222222222,
              "#7201a8"
             ],
             [
              0.3333333333333333,
              "#9c179e"
             ],
             [
              0.4444444444444444,
              "#bd3786"
             ],
             [
              0.5555555555555556,
              "#d8576b"
             ],
             [
              0.6666666666666666,
              "#ed7953"
             ],
             [
              0.7777777777777778,
              "#fb9f3a"
             ],
             [
              0.8888888888888888,
              "#fdca26"
             ],
             [
              1,
              "#f0f921"
             ]
            ],
            "type": "heatmapgl"
           }
          ],
          "histogram": [
           {
            "marker": {
             "pattern": {
              "fillmode": "overlay",
              "size": 10,
              "solidity": 0.2
             }
            },
            "type": "histogram"
           }
          ],
          "histogram2d": [
           {
            "colorbar": {
             "outlinewidth": 0,
             "ticks": ""
            },
            "colorscale": [
             [
              0,
              "#0d0887"
             ],
             [
              0.1111111111111111,
              "#46039f"
             ],
             [
              0.2222222222222222,
              "#7201a8"
             ],
             [
              0.3333333333333333,
              "#9c179e"
             ],
             [
              0.4444444444444444,
              "#bd3786"
             ],
             [
              0.5555555555555556,
              "#d8576b"
             ],
             [
              0.6666666666666666,
              "#ed7953"
             ],
             [
              0.7777777777777778,
              "#fb9f3a"
             ],
             [
              0.8888888888888888,
              "#fdca26"
             ],
             [
              1,
              "#f0f921"
             ]
            ],
            "type": "histogram2d"
           }
          ],
          "histogram2dcontour": [
           {
            "colorbar": {
             "outlinewidth": 0,
             "ticks": ""
            },
            "colorscale": [
             [
              0,
              "#0d0887"
             ],
             [
              0.1111111111111111,
              "#46039f"
             ],
             [
              0.2222222222222222,
              "#7201a8"
             ],
             [
              0.3333333333333333,
              "#9c179e"
             ],
             [
              0.4444444444444444,
              "#bd3786"
             ],
             [
              0.5555555555555556,
              "#d8576b"
             ],
             [
              0.6666666666666666,
              "#ed7953"
             ],
             [
              0.7777777777777778,
              "#fb9f3a"
             ],
             [
              0.8888888888888888,
              "#fdca26"
             ],
             [
              1,
              "#f0f921"
             ]
            ],
            "type": "histogram2dcontour"
           }
          ],
          "mesh3d": [
           {
            "colorbar": {
             "outlinewidth": 0,
             "ticks": ""
            },
            "type": "mesh3d"
           }
          ],
          "parcoords": [
           {
            "line": {
             "colorbar": {
              "outlinewidth": 0,
              "ticks": ""
             }
            },
            "type": "parcoords"
           }
          ],
          "pie": [
           {
            "automargin": true,
            "type": "pie"
           }
          ],
          "scatter": [
           {
            "marker": {
             "colorbar": {
              "outlinewidth": 0,
              "ticks": ""
             }
            },
            "type": "scatter"
           }
          ],
          "scatter3d": [
           {
            "line": {
             "colorbar": {
              "outlinewidth": 0,
              "ticks": ""
             }
            },
            "marker": {
             "colorbar": {
              "outlinewidth": 0,
              "ticks": ""
             }
            },
            "type": "scatter3d"
           }
          ],
          "scattercarpet": [
           {
            "marker": {
             "colorbar": {
              "outlinewidth": 0,
              "ticks": ""
             }
            },
            "type": "scattercarpet"
           }
          ],
          "scattergeo": [
           {
            "marker": {
             "colorbar": {
              "outlinewidth": 0,
              "ticks": ""
             }
            },
            "type": "scattergeo"
           }
          ],
          "scattergl": [
           {
            "marker": {
             "colorbar": {
              "outlinewidth": 0,
              "ticks": ""
             }
            },
            "type": "scattergl"
           }
          ],
          "scattermapbox": [
           {
            "marker": {
             "colorbar": {
              "outlinewidth": 0,
              "ticks": ""
             }
            },
            "type": "scattermapbox"
           }
          ],
          "scatterpolar": [
           {
            "marker": {
             "colorbar": {
              "outlinewidth": 0,
              "ticks": ""
             }
            },
            "type": "scatterpolar"
           }
          ],
          "scatterpolargl": [
           {
            "marker": {
             "colorbar": {
              "outlinewidth": 0,
              "ticks": ""
             }
            },
            "type": "scatterpolargl"
           }
          ],
          "scatterternary": [
           {
            "marker": {
             "colorbar": {
              "outlinewidth": 0,
              "ticks": ""
             }
            },
            "type": "scatterternary"
           }
          ],
          "surface": [
           {
            "colorbar": {
             "outlinewidth": 0,
             "ticks": ""
            },
            "colorscale": [
             [
              0,
              "#0d0887"
             ],
             [
              0.1111111111111111,
              "#46039f"
             ],
             [
              0.2222222222222222,
              "#7201a8"
             ],
             [
              0.3333333333333333,
              "#9c179e"
             ],
             [
              0.4444444444444444,
              "#bd3786"
             ],
             [
              0.5555555555555556,
              "#d8576b"
             ],
             [
              0.6666666666666666,
              "#ed7953"
             ],
             [
              0.7777777777777778,
              "#fb9f3a"
             ],
             [
              0.8888888888888888,
              "#fdca26"
             ],
             [
              1,
              "#f0f921"
             ]
            ],
            "type": "surface"
           }
          ],
          "table": [
           {
            "cells": {
             "fill": {
              "color": "#EBF0F8"
             },
             "line": {
              "color": "white"
             }
            },
            "header": {
             "fill": {
              "color": "#C8D4E3"
             },
             "line": {
              "color": "white"
             }
            },
            "type": "table"
           }
          ]
         },
         "layout": {
          "annotationdefaults": {
           "arrowcolor": "#2a3f5f",
           "arrowhead": 0,
           "arrowwidth": 1
          },
          "autotypenumbers": "strict",
          "coloraxis": {
           "colorbar": {
            "outlinewidth": 0,
            "ticks": ""
           }
          },
          "colorscale": {
           "diverging": [
            [
             0,
             "#8e0152"
            ],
            [
             0.1,
             "#c51b7d"
            ],
            [
             0.2,
             "#de77ae"
            ],
            [
             0.3,
             "#f1b6da"
            ],
            [
             0.4,
             "#fde0ef"
            ],
            [
             0.5,
             "#f7f7f7"
            ],
            [
             0.6,
             "#e6f5d0"
            ],
            [
             0.7,
             "#b8e186"
            ],
            [
             0.8,
             "#7fbc41"
            ],
            [
             0.9,
             "#4d9221"
            ],
            [
             1,
             "#276419"
            ]
           ],
           "sequential": [
            [
             0,
             "#0d0887"
            ],
            [
             0.1111111111111111,
             "#46039f"
            ],
            [
             0.2222222222222222,
             "#7201a8"
            ],
            [
             0.3333333333333333,
             "#9c179e"
            ],
            [
             0.4444444444444444,
             "#bd3786"
            ],
            [
             0.5555555555555556,
             "#d8576b"
            ],
            [
             0.6666666666666666,
             "#ed7953"
            ],
            [
             0.7777777777777778,
             "#fb9f3a"
            ],
            [
             0.8888888888888888,
             "#fdca26"
            ],
            [
             1,
             "#f0f921"
            ]
           ],
           "sequentialminus": [
            [
             0,
             "#0d0887"
            ],
            [
             0.1111111111111111,
             "#46039f"
            ],
            [
             0.2222222222222222,
             "#7201a8"
            ],
            [
             0.3333333333333333,
             "#9c179e"
            ],
            [
             0.4444444444444444,
             "#bd3786"
            ],
            [
             0.5555555555555556,
             "#d8576b"
            ],
            [
             0.6666666666666666,
             "#ed7953"
            ],
            [
             0.7777777777777778,
             "#fb9f3a"
            ],
            [
             0.8888888888888888,
             "#fdca26"
            ],
            [
             1,
             "#f0f921"
            ]
           ]
          },
          "colorway": [
           "#636efa",
           "#EF553B",
           "#00cc96",
           "#ab63fa",
           "#FFA15A",
           "#19d3f3",
           "#FF6692",
           "#B6E880",
           "#FF97FF",
           "#FECB52"
          ],
          "font": {
           "color": "#2a3f5f"
          },
          "geo": {
           "bgcolor": "white",
           "lakecolor": "white",
           "landcolor": "#E5ECF6",
           "showlakes": true,
           "showland": true,
           "subunitcolor": "white"
          },
          "hoverlabel": {
           "align": "left"
          },
          "hovermode": "closest",
          "mapbox": {
           "style": "light"
          },
          "paper_bgcolor": "white",
          "plot_bgcolor": "#E5ECF6",
          "polar": {
           "angularaxis": {
            "gridcolor": "white",
            "linecolor": "white",
            "ticks": ""
           },
           "bgcolor": "#E5ECF6",
           "radialaxis": {
            "gridcolor": "white",
            "linecolor": "white",
            "ticks": ""
           }
          },
          "scene": {
           "xaxis": {
            "backgroundcolor": "#E5ECF6",
            "gridcolor": "white",
            "gridwidth": 2,
            "linecolor": "white",
            "showbackground": true,
            "ticks": "",
            "zerolinecolor": "white"
           },
           "yaxis": {
            "backgroundcolor": "#E5ECF6",
            "gridcolor": "white",
            "gridwidth": 2,
            "linecolor": "white",
            "showbackground": true,
            "ticks": "",
            "zerolinecolor": "white"
           },
           "zaxis": {
            "backgroundcolor": "#E5ECF6",
            "gridcolor": "white",
            "gridwidth": 2,
            "linecolor": "white",
            "showbackground": true,
            "ticks": "",
            "zerolinecolor": "white"
           }
          },
          "shapedefaults": {
           "line": {
            "color": "#2a3f5f"
           }
          },
          "ternary": {
           "aaxis": {
            "gridcolor": "white",
            "linecolor": "white",
            "ticks": ""
           },
           "baxis": {
            "gridcolor": "white",
            "linecolor": "white",
            "ticks": ""
           },
           "bgcolor": "#E5ECF6",
           "caxis": {
            "gridcolor": "white",
            "linecolor": "white",
            "ticks": ""
           }
          },
          "title": {
           "x": 0.05
          },
          "xaxis": {
           "automargin": true,
           "gridcolor": "white",
           "linecolor": "white",
           "ticks": "",
           "title": {
            "standoff": 15
           },
           "zerolinecolor": "white",
           "zerolinewidth": 2
          },
          "yaxis": {
           "automargin": true,
           "gridcolor": "white",
           "linecolor": "white",
           "ticks": "",
           "title": {
            "standoff": 15
           },
           "zerolinecolor": "white",
           "zerolinewidth": 2
          }
         }
        },
        "title": {
         "text": "Top Unique Terms by Review Sentiment for Select Skincare Brands",
         "x": 0.5,
         "xanchor": "center",
         "y": 0.99,
         "yanchor": "top"
        },
        "width": 1000,
        "xaxis": {
         "anchor": "y",
         "automargin": true,
         "autorange": true,
         "domain": [
          0,
          0.35
         ],
         "range": [
          0,
          469.1312258586823
         ],
         "showticklabels": false,
         "type": "linear"
        },
        "xaxis10": {
         "anchor": "y10",
         "automargin": true,
         "autorange": true,
         "domain": [
          0.6499999999999999,
          0.9999999999999999
         ],
         "range": [
          0,
          671.6586087293816
         ],
         "showticklabels": false,
         "type": "linear"
        },
        "xaxis11": {
         "anchor": "y11",
         "automargin": true,
         "autorange": true,
         "domain": [
          0,
          0.35
         ],
         "range": [
          0,
          146.08914375177744
         ],
         "showticklabels": false,
         "type": "linear"
        },
        "xaxis12": {
         "anchor": "y12",
         "automargin": true,
         "domain": [
          0.6499999999999999,
          0.9999999999999999
         ],
         "showticklabels": false
        },
        "xaxis2": {
         "anchor": "y2",
         "automargin": true,
         "autorange": true,
         "domain": [
          0.6499999999999999,
          0.9999999999999999
         ],
         "range": [
          0,
          85.80734344239319
         ],
         "showticklabels": false,
         "type": "linear"
        },
        "xaxis3": {
         "anchor": "y3",
         "automargin": true,
         "autorange": true,
         "domain": [
          0,
          0.35
         ],
         "range": [
          0,
          352.1059955049928
         ],
         "showticklabels": false,
         "type": "linear"
        },
        "xaxis4": {
         "anchor": "y4",
         "automargin": true,
         "autorange": true,
         "domain": [
          0.6499999999999999,
          0.9999999999999999
         ],
         "range": [
          0,
          2574.29610004608
         ],
         "showticklabels": false,
         "type": "linear"
        },
        "xaxis5": {
         "anchor": "y5",
         "automargin": true,
         "autorange": true,
         "domain": [
          0,
          0.35
         ],
         "range": [
          0,
          547.5587549975244
         ],
         "showticklabels": false,
         "type": "linear"
        },
        "xaxis6": {
         "anchor": "y6",
         "automargin": true,
         "autorange": true,
         "domain": [
          0.6499999999999999,
          0.9999999999999999
         ],
         "range": [
          0,
          202.68286295875632
         ],
         "showticklabels": false,
         "type": "linear"
        },
        "xaxis7": {
         "anchor": "y7",
         "automargin": true,
         "autorange": true,
         "domain": [
          0,
          0.35
         ],
         "range": [
          0,
          240.97292260705316
         ],
         "showticklabels": false,
         "type": "linear"
        },
        "xaxis8": {
         "anchor": "y8",
         "automargin": true,
         "autorange": true,
         "domain": [
          0.6499999999999999,
          0.9999999999999999
         ],
         "range": [
          0,
          1485.536622286183
         ],
         "showticklabels": false,
         "type": "linear"
        },
        "xaxis9": {
         "anchor": "y9",
         "automargin": true,
         "autorange": true,
         "domain": [
          0,
          0.35
         ],
         "range": [
          0,
          1208.2185133670184
         ],
         "showticklabels": false,
         "type": "linear"
        },
        "yaxis": {
         "anchor": "x",
         "automargin": true,
         "autorange": true,
         "domain": [
          0.875,
          1
         ],
         "dtick": 0.3,
         "range": [
          -0.5,
          7.5
         ],
         "title": {
          "text": "Kinship"
         },
         "type": "category"
        },
        "yaxis10": {
         "anchor": "x10",
         "automargin": true,
         "autorange": true,
         "domain": [
          0.175,
          0.3
         ],
         "dtick": 0.3,
         "range": [
          -0.5,
          7.5
         ],
         "title": {
          "text": "Tula Skincare"
         },
         "type": "category"
        },
        "yaxis11": {
         "anchor": "x11",
         "automargin": true,
         "autorange": true,
         "domain": [
          0,
          0.125
         ],
         "dtick": 0.3,
         "range": [
          -0.5,
          7.5
         ],
         "title": {
          "text": "fith & root"
         },
         "type": "category"
        },
        "yaxis12": {
         "anchor": "x12",
         "domain": [
          0,
          0.125
         ]
        },
        "yaxis2": {
         "anchor": "x2",
         "automargin": true,
         "autorange": true,
         "domain": [
          0.875,
          1
         ],
         "dtick": 0.3,
         "range": [
          -0.5,
          7.5
         ],
         "title": {
          "text": "Cannuka"
         },
         "type": "category"
        },
        "yaxis3": {
         "anchor": "x3",
         "automargin": true,
         "autorange": true,
         "domain": [
          0.7,
          0.825
         ],
         "dtick": 0.3,
         "range": [
          -0.5,
          7.5
         ],
         "title": {
          "text": "Live Tinted"
         },
         "type": "category"
        },
        "yaxis4": {
         "anchor": "x4",
         "automargin": true,
         "autorange": true,
         "domain": [
          0.7,
          0.825
         ],
         "dtick": 0.3,
         "range": [
          -0.5,
          7.5
         ],
         "title": {
          "text": "ZitSticka"
         },
         "type": "category"
        },
        "yaxis5": {
         "anchor": "x5",
         "automargin": true,
         "autorange": true,
         "domain": [
          0.525,
          0.65
         ],
         "dtick": 0.3,
         "range": [
          -0.5,
          7.5
         ],
         "title": {
          "text": "Blume"
         },
         "type": "category"
        },
        "yaxis6": {
         "anchor": "x6",
         "automargin": true,
         "autorange": true,
         "domain": [
          0.525,
          0.65
         ],
         "dtick": 0.3,
         "range": [
          -0.5,
          7.5
         ],
         "title": {
          "text": "Uoma Beauty"
         },
         "type": "category"
        },
        "yaxis7": {
         "anchor": "x7",
         "automargin": true,
         "autorange": true,
         "domain": [
          0.35,
          0.475
         ],
         "dtick": 0.3,
         "range": [
          -0.5,
          7.5
         ],
         "title": {
          "text": "LOLI Beauty"
         },
         "type": "category"
        },
        "yaxis8": {
         "anchor": "x8",
         "automargin": true,
         "autorange": true,
         "domain": [
          0.35,
          0.475
         ],
         "dtick": 0.3,
         "range": [
          -0.5,
          7.5
         ],
         "title": {
          "text": "Love Wellness"
         },
         "type": "category"
        },
        "yaxis9": {
         "anchor": "x9",
         "automargin": true,
         "autorange": true,
         "domain": [
          0.175,
          0.3
         ],
         "dtick": 0.3,
         "range": [
          -0.5,
          7.5
         ],
         "title": {
          "text": "Beekman 1802"
         },
         "type": "category"
        }
       }
      },
      "image/png": "[encoded data removed]",
      "text/html": [
       "<div>                            <div id=\"be525000-3944-4ee4-bfad-ce76e8673ba0\" class=\"plotly-graph-div\" style=\"height:1000px; width:1000px;\"></div>            <script type=\"text/javascript\">                require([\"plotly\"], function(Plotly) {                    window.PLOTLYENV=window.PLOTLYENV || {};                                    if (document.getElementById(\"be525000-3944-4ee4-bfad-ce76e8673ba0\")) {                    Plotly.newPlot(                        \"be525000-3944-4ee4-bfad-ce76e8673ba0\",                        [{\"marker\":{\"color\":[4.536585365853658,4.273684210526316,4.627906976744186,4.839285714285714,4.435294117647059,4.626016260162602,4.168224299065421,4.3283582089552235],\"coloraxis\":\"coloraxis\"},\"orientation\":\"h\",\"x\":[96.53616527873307,107.61412632197334,122.83741664603441,133.63248422271388,147.30380470871526,147.79019459924433,284.57773801184356,445.6746645657482],\"y\":[\"marshmallow\",\"spf\",\"trendmood_box\",\"papaya\",\"mineral_sunscreen\",\"cleanser\",\"cast\",\"sunscreen\"],\"type\":\"bar\",\"xaxis\":\"x\",\"yaxis\":\"y\"},{\"marker\":{\"color\":[4.595744680851064,4.586956521739131,4.645161290322581,4.633928571428571,4.577464788732394,4.6688311688311686,4.56,4.730769230769231],\"coloraxis\":\"coloraxis\"},\"orientation\":\"h\",\"x\":[176.29406131126657,189.28926465041178,204.35813887405038,217.55437353305237,224.6934891069723,237.00546111283379,258.70870772353186,334.50069572974314],\"y\":[\"colour\",\"blush\",\"skin_tone\",\"corrector\",\"lipstick\",\"rise\",\"tone\",\"shade\"],\"type\":\"bar\",\"xaxis\":\"x3\",\"yaxis\":\"y3\"},{\"marker\":{\"color\":[4.8061224489795915,4.815668202764977,4.842741935483871,4.88546255506608,4.8427672955974845,4.9147727272727275,4.873595505617978,4.836309523809524],\"coloraxis\":\"coloraxis\"},\"orientation\":\"h\",\"x\":[221.75032090588445,256.56377782428814,303.85664009604636,327.4733701892023,403.17165086673856,419.9878075571008,486.74382338677316,520.1808172476482],\"y\":[\"redness\",\"cleanser\",\"cystic_acne\",\"hormonal_acne\",\"cystic\",\"natural_deodorant\",\"hormonal\",\"deodorant\"],\"type\":\"bar\",\"xaxis\":\"x5\",\"yaxis\":\"y5\"},{\"marker\":{\"color\":[4.933333333333334,5.0,4.769230769230769,4.794871794871795,4.823529411764706,4.857142857142857,4.757575757575758,4.91358024691358],\"coloraxis\":\"coloraxis\"},\"orientation\":\"h\",\"x\":[44.66815150764888,47.459910976876934,47.78581367567759,48.47518382855214,63.76593707003259,78.16926513838554,78.7477139169564,228.9242764767005],\"y\":[\"tea_seed\",\"purple_corn\",\"toner\",\"date\",\"matcha\",\"brulee\",\"date_nut\",\"plum_elixir\"],\"type\":\"bar\",\"xaxis\":\"x7\",\"yaxis\":\"y7\"},{\"marker\":{\"color\":[4.817647058823529,4.653543307086614,4.865030674846626,4.625,4.81140350877193,4.597674418604651,4.808924485125858,4.7],\"coloraxis\":\"coloraxis\"},\"orientation\":\"h\",\"x\":[324.4560915622247,354.553452591963,393.738569584782,405.6700413903814,646.5139497297556,667.9244813179861,1143.4616803371814,1147.8075876986675],\"y\":[\"body_cream\",\"milk_drop\",\"milk_soap\",\"natural_deodorant\",\"bar\",\"deodorant\",\"soap\",\"goat_milk\"],\"type\":\"bar\",\"xaxis\":\"x9\",\"yaxis\":\"y9\"},{\"marker\":{\"color\":[4.75,4.65625,4.5,4.638297872340425,4.5,4.115384615384615,4.5064935064935066,4.472972972972973],\"coloraxis\":\"coloraxis\"},\"orientation\":\"h\",\"x\":[43.480455079585184,50.78688452417867,54.35056884948148,55.56911316931587,61.418708323017206,72.58574619992943,93.40340298672243,138.78468656418858],\"y\":[\"gentle\",\"facial_oil\",\"root\",\"calming\",\"high_glow\",\"karmic\",\"cleanser\",\"cbd\"],\"type\":\"bar\",\"xaxis\":\"x11\",\"yaxis\":\"y11\"},{\"marker\":{\"color\":[4.565217391304348,4.631578947368421,4.956521739130435,3.6333333333333333,4.5625,4.117647058823529,3.96875,4.508771929824562],\"coloraxis\":\"coloraxis\"},\"orientation\":\"h\",\"x\":[25.001261670761483,26.703837054055125,27.17528442474074,32.61034130968889,34.78436406366815,35.67640890735787,60.014999595324795,81.51697627027353],\"y\":[\"hydrating\",\"eye_cream\",\"eczema\",\"apply\",\"redness\",\"eye_balm\",\"cbd\",\"lip_balm\"],\"type\":\"bar\",\"xaxis\":\"x2\",\"yaxis\":\"y2\"},{\"marker\":{\"color\":[4.654970760233918,4.700902934537246,4.545304777594728,4.698710433763189,4.6875,4.67409948542024,4.644021739130435,4.738831615120275],\"coloraxis\":\"coloraxis\"},\"orientation\":\"h\",\"x\":[924.5557280203786,963.092080012812,1037.8992216832464,1189.8182349454455,1397.5040801304544,2171.924699830495,2194.38880940958,2445.581295043776],\"y\":[\"painful\",\"overnight\",\"sticker\",\"hormonal\",\"cystic_acne\",\"cystic\",\"zit\",\"skin_discipline\"],\"type\":\"bar\",\"xaxis\":\"x4\",\"yaxis\":\"y4\"},{\"marker\":{\"color\":[4.431818181818182,4.052631578947368,3.8823529411764706,4.326923076923077,4.220338983050848,4.462962962962963,4.222222222222222,4.007407407407407],\"coloraxis\":\"coloraxis\"},\"orientation\":\"h\",\"x\":[52.02214849893401,53.40767410811025,55.40387402637673,56.52459160346074,79.21554430519497,86.18380404103047,107.61412632197334,192.5487198108185],\"y\":[\"concealer\",\"mascara\",\"undertone\",\"match\",\"matte\",\"lipstick\",\"coverage\",\"shade\"],\"type\":\"bar\",\"xaxis\":\"x6\",\"yaxis\":\"y6\"},{\"marker\":{\"color\":[4.762910798122066,4.80990099009901,4.705263157894737,4.740177439797212,4.766265060240964,4.8125,4.796610169491525,4.7995618838992335],\"coloraxis\":\"coloraxis\"},\"orientation\":\"h\",\"x\":[798.9496821127614,855.0393261827725,889.539977423493,970.6859981278368,1016.5613978370735,1120.6589621487708,1161.371939198871,1411.259791171874],\"y\":[\"energy\",\"infection\",\"supplement\",\"vitamin\",\"bloat\",\"wellness\",\"yeast_infection\",\"probiotic\"],\"type\":\"bar\",\"xaxis\":\"x8\",\"yaxis\":\"y8\"},{\"marker\":{\"color\":[4.444043321299639,4.354515050167224,4.26,4.231182795698925,4.192170818505338,4.374133949191686,4.091633466135458,4.161178509532062],\"coloraxis\":\"coloraxis\"},\"orientation\":\"h\",\"x\":[308.71123106505485,325.01640171989925,386.97605020830815,392.4404979809366,397.7466255946105,480.4590286294163,595.8900646241532,638.0756782929126],\"y\":[\"tone\",\"apply\",\"sunscreen\",\"eye_balm\",\"toner\",\"primer\",\"cleanser\",\"cooling\"],\"type\":\"bar\",\"xaxis\":\"x10\",\"yaxis\":\"y10\"}],                        {\"template\":{\"data\":{\"bar\":[{\"error_x\":{\"color\":\"#2a3f5f\"},\"error_y\":{\"color\":\"#2a3f5f\"},\"marker\":{\"line\":{\"color\":\"#E5ECF6\",\"width\":0.5},\"pattern\":{\"fillmode\":\"overlay\",\"size\":10,\"solidity\":0.2}},\"type\":\"bar\"}],\"barpolar\":[{\"marker\":{\"line\":{\"color\":\"#E5ECF6\",\"width\":0.5},\"pattern\":{\"fillmode\":\"overlay\",\"size\":10,\"solidity\":0.2}},\"type\":\"barpolar\"}],\"carpet\":[{\"aaxis\":{\"endlinecolor\":\"#2a3f5f\",\"gridcolor\":\"white\",\"linecolor\":\"white\",\"minorgridcolor\":\"white\",\"startlinecolor\":\"#2a3f5f\"},\"baxis\":{\"endlinecolor\":\"#2a3f5f\",\"gridcolor\":\"white\",\"linecolor\":\"white\",\"minorgridcolor\":\"white\",\"startlinecolor\":\"#2a3f5f\"},\"type\":\"carpet\"}],\"choropleth\":[{\"colorbar\":{\"outlinewidth\":0,\"ticks\":\"\"},\"type\":\"choropleth\"}],\"contour\":[{\"colorbar\":{\"outlinewidth\":0,\"ticks\":\"\"},\"colorscale\":[[0.0,\"#0d0887\"],[0.1111111111111111,\"#46039f\"],[0.2222222222222222,\"#7201a8\"],[0.3333333333333333,\"#9c179e\"],[0.4444444444444444,\"#bd3786\"],[0.5555555555555556,\"#d8576b\"],[0.6666666666666666,\"#ed7953\"],[0.7777777777777778,\"#fb9f3a\"],[0.8888888888888888,\"#fdca26\"],[1.0,\"#f0f921\"]],\"type\":\"contour\"}],\"contourcarpet\":[{\"colorbar\":{\"outlinewidth\":0,\"ticks\":\"\"},\"type\":\"contourcarpet\"}],\"heatmap\":[{\"colorbar\":{\"outlinewidth\":0,\"ticks\":\"\"},\"colorscale\":[[0.0,\"#0d0887\"],[0.1111111111111111,\"#46039f\"],[0.2222222222222222,\"#7201a8\"],[0.3333333333333333,\"#9c179e\"],[0.4444444444444444,\"#bd3786\"],[0.5555555555555556,\"#d8576b\"],[0.6666666666666666,\"#ed7953\"],[0.7777777777777778,\"#fb9f3a\"],[0.8888888888888888,\"#fdca26\"],[1.0,\"#f0f921\"]],\"type\":\"heatmap\"}],\"heatmapgl\":[{\"colorbar\":{\"outlinewidth\":0,\"ticks\":\"\"},\"colorscale\":[[0.0,\"#0d0887\"],[0.1111111111111111,\"#46039f\"],[0.2222222222222222,\"#7201a8\"],[0.3333333333333333,\"#9c179e\"],[0.4444444444444444,\"#bd3786\"],[0.5555555555555556,\"#d8576b\"],[0.6666666666666666,\"#ed7953\"],[0.7777777777777778,\"#fb9f3a\"],[0.8888888888888888,\"#fdca26\"],[1.0,\"#f0f921\"]],\"type\":\"heatmapgl\"}],\"histogram\":[{\"marker\":{\"pattern\":{\"fillmode\":\"overlay\",\"size\":10,\"solidity\":0.2}},\"type\":\"histogram\"}],\"histogram2d\":[{\"colorbar\":{\"outlinewidth\":0,\"ticks\":\"\"},\"colorscale\":[[0.0,\"#0d0887\"],[0.1111111111111111,\"#46039f\"],[0.2222222222222222,\"#7201a8\"],[0.3333333333333333,\"#9c179e\"],[0.4444444444444444,\"#bd3786\"],[0.5555555555555556,\"#d8576b\"],[0.6666666666666666,\"#ed7953\"],[0.7777777777777778,\"#fb9f3a\"],[0.8888888888888888,\"#fdca26\"],[1.0,\"#f0f921\"]],\"type\":\"histogram2d\"}],\"histogram2dcontour\":[{\"colorbar\":{\"outlinewidth\":0,\"ticks\":\"\"},\"colorscale\":[[0.0,\"#0d0887\"],[0.1111111111111111,\"#46039f\"],[0.2222222222222222,\"#7201a8\"],[0.3333333333333333,\"#9c179e\"],[0.4444444444444444,\"#bd3786\"],[0.5555555555555556,\"#d8576b\"],[0.6666666666666666,\"#ed7953\"],[0.7777777777777778,\"#fb9f3a\"],[0.8888888888888888,\"#fdca26\"],[1.0,\"#f0f921\"]],\"type\":\"histogram2dcontour\"}],\"mesh3d\":[{\"colorbar\":{\"outlinewidth\":0,\"ticks\":\"\"},\"type\":\"mesh3d\"}],\"parcoords\":[{\"line\":{\"colorbar\":{\"outlinewidth\":0,\"ticks\":\"\"}},\"type\":\"parcoords\"}],\"pie\":[{\"automargin\":true,\"type\":\"pie\"}],\"scatter\":[{\"marker\":{\"colorbar\":{\"outlinewidth\":0,\"ticks\":\"\"}},\"type\":\"scatter\"}],\"scatter3d\":[{\"line\":{\"colorbar\":{\"outlinewidth\":0,\"ticks\":\"\"}},\"marker\":{\"colorbar\":{\"outlinewidth\":0,\"ticks\":\"\"}},\"type\":\"scatter3d\"}],\"scattercarpet\":[{\"marker\":{\"colorbar\":{\"outlinewidth\":0,\"ticks\":\"\"}},\"type\":\"scattercarpet\"}],\"scattergeo\":[{\"marker\":{\"colorbar\":{\"outlinewidth\":0,\"ticks\":\"\"}},\"type\":\"scattergeo\"}],\"scattergl\":[{\"marker\":{\"colorbar\":{\"outlinewidth\":0,\"ticks\":\"\"}},\"type\":\"scattergl\"}],\"scattermapbox\":[{\"marker\":{\"colorbar\":{\"outlinewidth\":0,\"ticks\":\"\"}},\"type\":\"scattermapbox\"}],\"scatterpolar\":[{\"marker\":{\"colorbar\":{\"outlinewidth\":0,\"ticks\":\"\"}},\"type\":\"scatterpolar\"}],\"scatterpolargl\":[{\"marker\":{\"colorbar\":{\"outlinewidth\":0,\"ticks\":\"\"}},\"type\":\"scatterpolargl\"}],\"scatterternary\":[{\"marker\":{\"colorbar\":{\"outlinewidth\":0,\"ticks\":\"\"}},\"type\":\"scatterternary\"}],\"surface\":[{\"colorbar\":{\"outlinewidth\":0,\"ticks\":\"\"},\"colorscale\":[[0.0,\"#0d0887\"],[0.1111111111111111,\"#46039f\"],[0.2222222222222222,\"#7201a8\"],[0.3333333333333333,\"#9c179e\"],[0.4444444444444444,\"#bd3786\"],[0.5555555555555556,\"#d8576b\"],[0.6666666666666666,\"#ed7953\"],[0.7777777777777778,\"#fb9f3a\"],[0.8888888888888888,\"#fdca26\"],[1.0,\"#f0f921\"]],\"type\":\"surface\"}],\"table\":[{\"cells\":{\"fill\":{\"color\":\"#EBF0F8\"},\"line\":{\"color\":\"white\"}},\"header\":{\"fill\":{\"color\":\"#C8D4E3\"},\"line\":{\"color\":\"white\"}},\"type\":\"table\"}]},\"layout\":{\"annotationdefaults\":{\"arrowcolor\":\"#2a3f5f\",\"arrowhead\":0,\"arrowwidth\":1},\"autotypenumbers\":\"strict\",\"coloraxis\":{\"colorbar\":{\"outlinewidth\":0,\"ticks\":\"\"}},\"colorscale\":{\"diverging\":[[0,\"#8e0152\"],[0.1,\"#c51b7d\"],[0.2,\"#de77ae\"],[0.3,\"#f1b6da\"],[0.4,\"#fde0ef\"],[0.5,\"#f7f7f7\"],[0.6,\"#e6f5d0\"],[0.7,\"#b8e186\"],[0.8,\"#7fbc41\"],[0.9,\"#4d9221\"],[1,\"#276419\"]],\"sequential\":[[0.0,\"#0d0887\"],[0.1111111111111111,\"#46039f\"],[0.2222222222222222,\"#7201a8\"],[0.3333333333333333,\"#9c179e\"],[0.4444444444444444,\"#bd3786\"],[0.5555555555555556,\"#d8576b\"],[0.6666666666666666,\"#ed7953\"],[0.7777777777777778,\"#fb9f3a\"],[0.8888888888888888,\"#fdca26\"],[1.0,\"#f0f921\"]],\"sequentialminus\":[[0.0,\"#0d0887\"],[0.1111111111111111,\"#46039f\"],[0.2222222222222222,\"#7201a8\"],[0.3333333333333333,\"#9c179e\"],[0.4444444444444444,\"#bd3786\"],[0.5555555555555556,\"#d8576b\"],[0.6666666666666666,\"#ed7953\"],[0.7777777777777778,\"#fb9f3a\"],[0.8888888888888888,\"#fdca26\"],[1.0,\"#f0f921\"]]},\"colorway\":[\"#636efa\",\"#EF553B\",\"#00cc96\",\"#ab63fa\",\"#FFA15A\",\"#19d3f3\",\"#FF6692\",\"#B6E880\",\"#FF97FF\",\"#FECB52\"],\"font\":{\"color\":\"#2a3f5f\"},\"geo\":{\"bgcolor\":\"white\",\"lakecolor\":\"white\",\"landcolor\":\"#E5ECF6\",\"showlakes\":true,\"showland\":true,\"subunitcolor\":\"white\"},\"hoverlabel\":{\"align\":\"left\"},\"hovermode\":\"closest\",\"mapbox\":{\"style\":\"light\"},\"paper_bgcolor\":\"white\",\"plot_bgcolor\":\"#E5ECF6\",\"polar\":{\"angularaxis\":{\"gridcolor\":\"white\",\"linecolor\":\"white\",\"ticks\":\"\"},\"bgcolor\":\"#E5ECF6\",\"radialaxis\":{\"gridcolor\":\"white\",\"linecolor\":\"white\",\"ticks\":\"\"}},\"scene\":{\"xaxis\":{\"backgroundcolor\":\"#E5ECF6\",\"gridcolor\":\"white\",\"gridwidth\":2,\"linecolor\":\"white\",\"showbackground\":true,\"ticks\":\"\",\"zerolinecolor\":\"white\"},\"yaxis\":{\"backgroundcolor\":\"#E5ECF6\",\"gridcolor\":\"white\",\"gridwidth\":2,\"linecolor\":\"white\",\"showbackground\":true,\"ticks\":\"\",\"zerolinecolor\":\"white\"},\"zaxis\":{\"backgroundcolor\":\"#E5ECF6\",\"gridcolor\":\"white\",\"gridwidth\":2,\"linecolor\":\"white\",\"showbackground\":true,\"ticks\":\"\",\"zerolinecolor\":\"white\"}},\"shapedefaults\":{\"line\":{\"color\":\"#2a3f5f\"}},\"ternary\":{\"aaxis\":{\"gridcolor\":\"white\",\"linecolor\":\"white\",\"ticks\":\"\"},\"baxis\":{\"gridcolor\":\"white\",\"linecolor\":\"white\",\"ticks\":\"\"},\"bgcolor\":\"#E5ECF6\",\"caxis\":{\"gridcolor\":\"white\",\"linecolor\":\"white\",\"ticks\":\"\"}},\"title\":{\"x\":0.05},\"xaxis\":{\"automargin\":true,\"gridcolor\":\"white\",\"linecolor\":\"white\",\"ticks\":\"\",\"title\":{\"standoff\":15},\"zerolinecolor\":\"white\",\"zerolinewidth\":2},\"yaxis\":{\"automargin\":true,\"gridcolor\":\"white\",\"linecolor\":\"white\",\"ticks\":\"\",\"title\":{\"standoff\":15},\"zerolinecolor\":\"white\",\"zerolinewidth\":2}}},\"xaxis\":{\"anchor\":\"y\",\"domain\":[0.0,0.35],\"automargin\":true,\"showticklabels\":false},\"yaxis\":{\"anchor\":\"x\",\"domain\":[0.875,1.0],\"title\":{\"text\":\"Kinship\"},\"automargin\":true,\"dtick\":0.3},\"xaxis2\":{\"anchor\":\"y2\",\"domain\":[0.6499999999999999,0.9999999999999999],\"automargin\":true,\"showticklabels\":false},\"yaxis2\":{\"anchor\":\"x2\",\"domain\":[0.875,1.0],\"title\":{\"text\":\"Cannuka\"},\"automargin\":true,\"dtick\":0.3},\"xaxis3\":{\"anchor\":\"y3\",\"domain\":[0.0,0.35],\"automargin\":true,\"showticklabels\":false},\"yaxis3\":{\"anchor\":\"x3\",\"domain\":[0.7,0.825],\"title\":{\"text\":\"Live Tinted\"},\"automargin\":true,\"dtick\":0.3},\"xaxis4\":{\"anchor\":\"y4\",\"domain\":[0.6499999999999999,0.9999999999999999],\"automargin\":true,\"showticklabels\":false},\"yaxis4\":{\"anchor\":\"x4\",\"domain\":[0.7,0.825],\"title\":{\"text\":\"ZitSticka\"},\"automargin\":true,\"dtick\":0.3},\"xaxis5\":{\"anchor\":\"y5\",\"domain\":[0.0,0.35],\"automargin\":true,\"showticklabels\":false},\"yaxis5\":{\"anchor\":\"x5\",\"domain\":[0.525,0.65],\"title\":{\"text\":\"Blume\"},\"automargin\":true,\"dtick\":0.3},\"xaxis6\":{\"anchor\":\"y6\",\"domain\":[0.6499999999999999,0.9999999999999999],\"automargin\":true,\"showticklabels\":false},\"yaxis6\":{\"anchor\":\"x6\",\"domain\":[0.525,0.65],\"title\":{\"text\":\"Uoma Beauty\"},\"automargin\":true,\"dtick\":0.3},\"xaxis7\":{\"anchor\":\"y7\",\"domain\":[0.0,0.35],\"automargin\":true,\"showticklabels\":false},\"yaxis7\":{\"anchor\":\"x7\",\"domain\":[0.35,0.475],\"title\":{\"text\":\"LOLI Beauty\"},\"automargin\":true,\"dtick\":0.3},\"xaxis8\":{\"anchor\":\"y8\",\"domain\":[0.6499999999999999,0.9999999999999999],\"automargin\":true,\"showticklabels\":false},\"yaxis8\":{\"anchor\":\"x8\",\"domain\":[0.35,0.475],\"title\":{\"text\":\"Love Wellness\"},\"automargin\":true,\"dtick\":0.3},\"xaxis9\":{\"anchor\":\"y9\",\"domain\":[0.0,0.35],\"automargin\":true,\"showticklabels\":false},\"yaxis9\":{\"anchor\":\"x9\",\"domain\":[0.175,0.3],\"title\":{\"text\":\"Beekman 1802\"},\"automargin\":true,\"dtick\":0.3},\"xaxis10\":{\"anchor\":\"y10\",\"domain\":[0.6499999999999999,0.9999999999999999],\"automargin\":true,\"showticklabels\":false},\"yaxis10\":{\"anchor\":\"x10\",\"domain\":[0.175,0.3],\"title\":{\"text\":\"Tula Skincare\"},\"automargin\":true,\"dtick\":0.3},\"xaxis11\":{\"anchor\":\"y11\",\"domain\":[0.0,0.35],\"automargin\":true,\"showticklabels\":false},\"yaxis11\":{\"anchor\":\"x11\",\"domain\":[0.0,0.125],\"title\":{\"text\":\"fith & root\"},\"automargin\":true,\"dtick\":0.3},\"xaxis12\":{\"anchor\":\"y12\",\"domain\":[0.6499999999999999,0.9999999999999999],\"automargin\":true,\"showticklabels\":false},\"yaxis12\":{\"anchor\":\"x12\",\"domain\":[0.0,0.125]},\"margin\":{\"t\":50},\"title\":{\"y\":0.99,\"x\":0.5,\"xanchor\":\"center\",\"yanchor\":\"top\",\"text\":\"Top Unique Terms by Review Sentiment for Select Skincare Brands\"},\"coloraxis\":{\"colorbar\":{\"title\":{\"text\":\"<b>average rating</b>\"}},\"colorscale\":[[0.0,\"rgb(165,0,38)\"],[0.1,\"rgb(215,48,39)\"],[0.2,\"rgb(244,109,67)\"],[0.3,\"rgb(253,174,97)\"],[0.4,\"rgb(254,224,139)\"],[0.5,\"rgb(255,255,191)\"],[0.6,\"rgb(217,239,139)\"],[0.7,\"rgb(166,217,106)\"],[0.8,\"rgb(102,189,99)\"],[0.9,\"rgb(26,152,80)\"],[1.0,\"rgb(0,104,55)\"]],\"cmin\":1,\"cmax\":5},\"font\":{\"size\":12},\"autosize\":true,\"width\":1000,\"height\":1000,\"plot_bgcolor\":\"white\",\"showlegend\":false},                        {\"responsive\": true}                    ).then(function(){\n",
       "                            \n",
       "var gd = document.getElementById('be525000-3944-4ee4-bfad-ce76e8673ba0');\n",
       "var x = new MutationObserver(function (mutations, observer) {{\n",
       "        var display = window.getComputedStyle(gd).display;\n",
       "        if (!display || display === 'none') {{\n",
       "            console.log([gd, 'removed!']);\n",
       "            Plotly.purge(gd);\n",
       "            observer.disconnect();\n",
       "        }}\n",
       "}});\n",
       "\n",
       "// Listen for the removal of the full notebook cells\n",
       "var notebookContainer = gd.closest('#notebook-container');\n",
       "if (notebookContainer) {{\n",
       "    x.observe(notebookContainer, {childList: true});\n",
       "}}\n",
       "\n",
       "// Listen for the clearing of the current output cell\n",
       "var outputEl = gd.closest('.output');\n",
       "if (outputEl) {{\n",
       "    x.observe(outputEl, {childList: true});\n",
       "}}\n",
       "\n",
       "                        })                };                });            </script>        </div>"
      ]
     },
     "metadata": {},
     "output_type": "display_data"
    }
   ],
   "source": [
    "avg_rating_tfidf['normalized_url_cat'] = pd.Categorical(\n",
    "    avg_rating_tfidf['normalized_url'], \n",
    "    categories=NORMALIZED_URL_LI, \n",
    "    ordered=True\n",
    ")\n",
    "\n",
    "n_brands = len(grouped_sdf['normalized_url'])\n",
    "\n",
    "fig = make_subplots(\n",
    "    rows=math.ceil(n_brands/2),\n",
    "    cols=2,\n",
    "    horizontal_spacing = 0.3\n",
    ")\n",
    "\n",
    "# Loop through\n",
    "# If j is greater than (number of brands/2)-1, then the graph will be shown in the second column\n",
    "j = 0\n",
    "\n",
    "for url, data in avg_rating_tfidf.sort_values(['normalized_url_cat', 'tfidf']).groupby('normalized_url', sort = False):\n",
    "    if j <= math.ceil(n_brands/2)-1:\n",
    "        fig.add_trace(\n",
    "            go.Bar(\n",
    "                orientation='h',\n",
    "                x=data.tfidf,\n",
    "                y=data.unibi_word,\n",
    "                marker=dict(color=data.avg_rating, coloraxis=\"coloraxis\")\n",
    "                \n",
    "            ),\n",
    "            row=j+1, col=1\n",
    "        )\n",
    "        j += 1\n",
    "        fig.update_yaxes(automargin = True,title_text=brand_name_di.get(url), row=j, col=1, dtick =.3)#use dtick if not all term labels show up \n",
    "        fig.update_xaxes(automargin = True,showticklabels=False)\n",
    "        \n",
    "    else:\n",
    "        fig.add_trace(\n",
    "            go.Bar(\n",
    "                orientation='h',\n",
    "                x=data.tfidf,\n",
    "                y=data.unibi_word,\n",
    "                marker=dict(color=data.avg_rating, coloraxis=\"coloraxis\")\n",
    "            ),\n",
    "            row=j-math.ceil(n_brands/2)+1, col=2\n",
    "        )\n",
    "        j += 1\n",
    "        fig.update_yaxes(automargin = True,title_text=brand_name_di.get(url), row=j-round(n_brands/2), col=2, dtick =.3)#use dtick if not all term labels show up \n",
    "        fig.update_xaxes(automargin = True,showticklabels=False)\n",
    "\n",
    "  \n",
    "    \n",
    "fig.update_layout(\n",
    "    autosize = True,\n",
    "    width=1000,\n",
    "    height=1000,\n",
    "    margin=dict(t=50),\n",
    "    plot_bgcolor=\"white\",\n",
    "    title={\"y\": 0.99, \"x\": 0.5, 'xanchor': 'center', 'yanchor': 'top'},\n",
    "    coloraxis=dict(colorscale='RdYlGn', colorbar_title_text='<b>average rating</b>'),\n",
    "    title_text=f\"Top Unique Terms by Review Sentiment for Select {GROUP_NAME} Brands\",\n",
    "    showlegend=False,\n",
    "    font=dict(\n",
    "        size=12,\n",
    "    ),\n",
    ")\n",
    "\n",
    "\n",
    "# Change width,height,margin for the layout of the chart\n",
    "#fig.update_yaxes(title_text=\"Gardein\", row=2, col=2)\n",
    "#fig.update_yaxes(title_text=\"Beyond Meat\", row=1, col=2)\n",
    "fig.update_coloraxes(cmin=1,cmax=5)\n",
    "fig.show()"
   ]
  },
  {
   "cell_type": "code",
   "execution_count": null,
   "id": "bde92d43-7ca2-4442-9871-aa95e6f2617c",
   "metadata": {},
   "outputs": [],
   "source": []
  },
  {
   "cell_type": "code",
   "execution_count": 300,
   "id": "5ef69d1f-0546-4bf4-8868-67d9d939be34",
   "metadata": {},
   "outputs": [
    {
     "data": {
      "text/plain": [
       "0      beekman1802.com\n",
       "1            blume.com\n",
       "2          cannuka.com\n",
       "3     fifthandroot.com\n",
       "4       livetinted.com\n",
       "5       lolibeauty.com\n",
       "6      lovekinship.com\n",
       "7     lovewellness.com\n",
       "8             tula.com\n",
       "9       uomabeauty.com\n",
       "10       zitsticka.com\n",
       "Name: normalized_url, dtype: object"
      ]
     },
     "execution_count": 300,
     "metadata": {},
     "output_type": "execute_result"
    }
   ],
   "source": [
    "grouped_sdf['normalized_url']"
   ]
  },
  {
   "cell_type": "code",
   "execution_count": 301,
   "id": "be0e5048-01f7-436c-ae43-aca0b6af98dc",
   "metadata": {},
   "outputs": [
    {
     "ename": "KeyError",
     "evalue": "'parent_category'",
     "output_type": "error",
     "traceback": [
      "\u001b[0;31m---------------------------------------------------------------------------\u001b[0m",
      "\u001b[0;31mKeyError\u001b[0m                                  Traceback (most recent call last)",
      "\u001b[0;32m/tmp/ipykernel_11032/788434460.py\u001b[0m in \u001b[0;36m<module>\u001b[0;34m\u001b[0m\n\u001b[0;32m----> 1\u001b[0;31m \u001b[0mreviews\u001b[0m\u001b[0;34m.\u001b[0m\u001b[0mgroupby\u001b[0m\u001b[0;34m(\u001b[0m\u001b[0;34m'parent_category'\u001b[0m\u001b[0;34m)\u001b[0m\u001b[0;34m.\u001b[0m\u001b[0magg\u001b[0m\u001b[0;34m(\u001b[0m\u001b[0;34m{\u001b[0m\u001b[0;34m'review_source_id'\u001b[0m\u001b[0;34m:\u001b[0m\u001b[0;34m'count'\u001b[0m\u001b[0;34m}\u001b[0m\u001b[0;34m)\u001b[0m\u001b[0;34m\u001b[0m\u001b[0;34m\u001b[0m\u001b[0m\n\u001b[0m",
      "\u001b[0;32m/opt/conda/lib/python3.7/site-packages/pandas/core/frame.py\u001b[0m in \u001b[0;36mgroupby\u001b[0;34m(self, by, axis, level, as_index, sort, group_keys, squeeze, observed, dropna)\u001b[0m\n\u001b[1;32m   7639\u001b[0m             \u001b[0msqueeze\u001b[0m\u001b[0;34m=\u001b[0m\u001b[0msqueeze\u001b[0m\u001b[0;34m,\u001b[0m  \u001b[0;31m# type: ignore[arg-type]\u001b[0m\u001b[0;34m\u001b[0m\u001b[0;34m\u001b[0m\u001b[0m\n\u001b[1;32m   7640\u001b[0m             \u001b[0mobserved\u001b[0m\u001b[0;34m=\u001b[0m\u001b[0mobserved\u001b[0m\u001b[0;34m,\u001b[0m\u001b[0;34m\u001b[0m\u001b[0;34m\u001b[0m\u001b[0m\n\u001b[0;32m-> 7641\u001b[0;31m             \u001b[0mdropna\u001b[0m\u001b[0;34m=\u001b[0m\u001b[0mdropna\u001b[0m\u001b[0;34m,\u001b[0m\u001b[0;34m\u001b[0m\u001b[0;34m\u001b[0m\u001b[0m\n\u001b[0m\u001b[1;32m   7642\u001b[0m         )\n\u001b[1;32m   7643\u001b[0m \u001b[0;34m\u001b[0m\u001b[0m\n",
      "\u001b[0;32m/opt/conda/lib/python3.7/site-packages/pandas/core/groupby/groupby.py\u001b[0m in \u001b[0;36m__init__\u001b[0;34m(self, obj, keys, axis, level, grouper, exclusions, selection, as_index, sort, group_keys, squeeze, observed, mutated, dropna)\u001b[0m\n\u001b[1;32m    895\u001b[0m                 \u001b[0mobserved\u001b[0m\u001b[0;34m=\u001b[0m\u001b[0mobserved\u001b[0m\u001b[0;34m,\u001b[0m\u001b[0;34m\u001b[0m\u001b[0;34m\u001b[0m\u001b[0m\n\u001b[1;32m    896\u001b[0m                 \u001b[0mmutated\u001b[0m\u001b[0;34m=\u001b[0m\u001b[0mself\u001b[0m\u001b[0;34m.\u001b[0m\u001b[0mmutated\u001b[0m\u001b[0;34m,\u001b[0m\u001b[0;34m\u001b[0m\u001b[0;34m\u001b[0m\u001b[0m\n\u001b[0;32m--> 897\u001b[0;31m                 \u001b[0mdropna\u001b[0m\u001b[0;34m=\u001b[0m\u001b[0mself\u001b[0m\u001b[0;34m.\u001b[0m\u001b[0mdropna\u001b[0m\u001b[0;34m,\u001b[0m\u001b[0;34m\u001b[0m\u001b[0;34m\u001b[0m\u001b[0m\n\u001b[0m\u001b[1;32m    898\u001b[0m             )\n\u001b[1;32m    899\u001b[0m \u001b[0;34m\u001b[0m\u001b[0m\n",
      "\u001b[0;32m/opt/conda/lib/python3.7/site-packages/pandas/core/groupby/grouper.py\u001b[0m in \u001b[0;36mget_grouper\u001b[0;34m(obj, key, axis, level, sort, observed, mutated, validate, dropna)\u001b[0m\n\u001b[1;32m    860\u001b[0m                 \u001b[0min_axis\u001b[0m\u001b[0;34m,\u001b[0m \u001b[0mlevel\u001b[0m\u001b[0;34m,\u001b[0m \u001b[0mgpr\u001b[0m \u001b[0;34m=\u001b[0m \u001b[0;32mFalse\u001b[0m\u001b[0;34m,\u001b[0m \u001b[0mgpr\u001b[0m\u001b[0;34m,\u001b[0m \u001b[0;32mNone\u001b[0m\u001b[0;34m\u001b[0m\u001b[0;34m\u001b[0m\u001b[0m\n\u001b[1;32m    861\u001b[0m             \u001b[0;32melse\u001b[0m\u001b[0;34m:\u001b[0m\u001b[0;34m\u001b[0m\u001b[0;34m\u001b[0m\u001b[0m\n\u001b[0;32m--> 862\u001b[0;31m                 \u001b[0;32mraise\u001b[0m \u001b[0mKeyError\u001b[0m\u001b[0;34m(\u001b[0m\u001b[0mgpr\u001b[0m\u001b[0;34m)\u001b[0m\u001b[0;34m\u001b[0m\u001b[0;34m\u001b[0m\u001b[0m\n\u001b[0m\u001b[1;32m    863\u001b[0m         \u001b[0;32melif\u001b[0m \u001b[0misinstance\u001b[0m\u001b[0;34m(\u001b[0m\u001b[0mgpr\u001b[0m\u001b[0;34m,\u001b[0m \u001b[0mGrouper\u001b[0m\u001b[0;34m)\u001b[0m \u001b[0;32mand\u001b[0m \u001b[0mgpr\u001b[0m\u001b[0;34m.\u001b[0m\u001b[0mkey\u001b[0m \u001b[0;32mis\u001b[0m \u001b[0;32mnot\u001b[0m \u001b[0;32mNone\u001b[0m\u001b[0;34m:\u001b[0m\u001b[0;34m\u001b[0m\u001b[0;34m\u001b[0m\u001b[0m\n\u001b[1;32m    864\u001b[0m             \u001b[0;31m# Add key to exclusions\u001b[0m\u001b[0;34m\u001b[0m\u001b[0;34m\u001b[0m\u001b[0;34m\u001b[0m\u001b[0m\n",
      "\u001b[0;31mKeyError\u001b[0m: 'parent_category'"
     ]
    }
   ],
   "source": [
    "reviews.groupby('parent_category').agg({'review_source_id':'count'})"
   ]
  },
  {
   "cell_type": "code",
   "execution_count": null,
   "id": "b9ad42a9-04eb-44a7-b09f-bd2a8d8cfaf3",
   "metadata": {},
   "outputs": [],
   "source": []
  },
  {
   "cell_type": "code",
   "execution_count": null,
   "id": "b34e3bd1-4058-4e60-8455-2b2326a84dea",
   "metadata": {
    "tags": []
   },
   "outputs": [],
   "source": [
    "reviews_dist = reviews.groupby(\"normalized_url\")[\"review_rating\"].value_counts(normalize = True).reset_index(name = \"percent_reviews\").sort_values([\"review_rating\",\"normalized_url\"])\n",
    "brands = dict(zip(NORMALIZED_URL_LI,BRAND_NAME_LI))\n",
    "\n",
    "reviews_dist[\"brand\"] = reviews_dist[\"normalized_url\"].map(brands)\n",
    "\n",
    "fig = px.bar(reviews_dist, \n",
    "                   color=\"review_rating\",\n",
    "                   x = \"percent_reviews\",\n",
    "                   y=\"brand\", color_continuous_scale='RdYlGn',\n",
    "                   orientation='h', \n",
    "                   barmode=\"stack\",\n",
    "                   width=800, height=600,\n",
    "                   title = \"Review Rating Distribution\"\n",
    "                   )\n",
    "\n",
    "\n",
    "fig.update_layout(\n",
    "    plot_bgcolor= 'rgba(0, 0, 0, 0)',\n",
    "    paper_bgcolor= 'rgba(0, 0, 0, 0)',\n",
    "    xaxis_title=\"% of total reviews\",\n",
    "    yaxis_title=\" \",\n",
    "    coloraxis_colorbar=dict(\n",
    "        title=\"Rating\",\n",
    "    ),\n",
    "    font=dict(\n",
    "        size=16,\n",
    "    ),\n",
    "    xaxis=dict(tickformat=\".0%\")\n",
    ")\n",
    "fig.show()"
   ]
  },
  {
   "cell_type": "code",
   "execution_count": null,
   "id": "91dbdd4a-7232-4194-a979-e104d4b1eb64",
   "metadata": {},
   "outputs": [],
   "source": [
    "reviews.groupby('parent_category').agg({'review_source_id':'count'})"
   ]
  },
  {
   "cell_type": "code",
   "execution_count": null,
   "id": "e23ae291-14ac-46ec-9958-ccaae98dfc61",
   "metadata": {},
   "outputs": [],
   "source": []
  },
  {
   "cell_type": "code",
   "execution_count": null,
   "id": "f78e9301-2dee-4a1a-a3f5-e96cd5d69dab",
   "metadata": {},
   "outputs": [],
   "source": []
  },
  {
   "cell_type": "code",
   "execution_count": null,
   "id": "72e5353e-2bf0-46ad-9f76-0c25cd6f7ac6",
   "metadata": {},
   "outputs": [],
   "source": []
  }
 ],
 "metadata": {
  "environment": {
   "kernel": "python3",
   "name": "common-cpu.m87",
   "type": "gcloud",
   "uri": "gcr.io/deeplearning-platform-release/base-cpu:m87"
  },
  "kernelspec": {
   "display_name": "Python 3",
   "language": "python",
   "name": "python3"
  },
  "language_info": {
   "codemirror_mode": {
    "name": "ipython",
    "version": 3
   },
   "file_extension": ".py",
   "mimetype": "text/x-python",
   "name": "python",
   "nbconvert_exporter": "python",
   "pygments_lexer": "ipython3",
   "version": "3.7.12"
  },
  "toc-autonumbering": true
 },
 "nbformat": 4,
 "nbformat_minor": 5
}
