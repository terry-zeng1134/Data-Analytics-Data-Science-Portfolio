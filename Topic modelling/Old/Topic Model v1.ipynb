{
 "cells": [
  {
   "cell_type": "code",
   "execution_count": 1,
   "metadata": {
    "ExecuteTime": {
     "end_time": "2022-06-30T20:58:22.606791Z",
     "start_time": "2022-06-30T20:58:22.594702Z"
    }
   },
   "outputs": [
    {
     "data": {
      "text/html": [
       "\n",
       "        <div>\n",
       "            <p><b>SparkContext</b></p>\n",
       "\n",
       "            <p><a href=\"http://ip-10-0-101-73.us-west-1.compute.internal:4040\">Spark UI</a></p>\n",
       "\n",
       "            <dl>\n",
       "              <dt>Version</dt>\n",
       "                <dd><code>v2.4.5</code></dd>\n",
       "              <dt>Master</dt>\n",
       "                <dd><code>spark://terry.cu:7077</code></dd>\n",
       "              <dt>AppName</dt>\n",
       "                <dd><code>PySparkShell</code></dd>\n",
       "            </dl>\n",
       "        </div>\n",
       "        "
      ],
      "text/plain": [
       "<SparkContext master=spark://terry.cu:7077 appName=PySparkShell>"
      ]
     },
     "execution_count": 1,
     "metadata": {},
     "output_type": "execute_result"
    }
   ],
   "source": [
    "sc"
   ]
  },
  {
   "cell_type": "code",
   "execution_count": 3,
   "metadata": {
    "ExecuteTime": {
     "end_time": "2022-06-30T20:59:05.295033Z",
     "start_time": "2022-06-30T20:59:01.892891Z"
    }
   },
   "outputs": [],
   "source": [
    "import numpy as np\n",
    "import pandas as pd\n",
    "from pyspark.sql.window import Window\n",
    "#from pyspark.sql.functions import arrays_zip\n",
    "from pyspark.ml.feature import CountVectorizer, IDF, HashingTF\n",
    "from pyspark.ml.pipeline import Pipeline\n",
    "from nltk.corpus import stopwords\n",
    "from nltk.tokenize import word_tokenize\n",
    "from nltk.util import bigrams\n",
    "from nltk.stem import WordNetLemmatizer\n",
    "from nltk import sent_tokenize\n",
    "import string\n",
    "import plotly\n",
    "import plotly.graph_objs as go\n",
    "from plotly.offline import download_plotlyjs, init_notebook_mode, plot, iplot\n",
    "import plotly.express as px\n",
    "from plotly.subplots import make_subplots\n",
    "from scipy import stats\n",
    "from sklearn import linear_model\n",
    "import numpy as np\n",
    "import statsmodels.api as sm\n",
    "from itertools import chain\n",
    "\n",
    "\n",
    "from spark_tools import T, F, c, read_google_sheet\n",
    "import apollo\n",
    "from apollo import OverrideConfiguration\n",
    "from apollo import dataset\n",
    "import apollo_artifacts\n",
    "from apollo_artifacts import datasets\n",
    "from transform.attributes.utils import tf_idf_attributes\n",
    "\n",
    "import builtins"
   ]
  },
  {
   "cell_type": "code",
   "execution_count": 5,
   "metadata": {
    "ExecuteTime": {
     "end_time": "2022-06-30T20:59:51.635930Z",
     "start_time": "2022-06-30T20:59:47.366082Z"
    }
   },
   "outputs": [
    {
     "ename": "DatasetNotAvailable",
     "evalue": "physical dataset for online_reviews__deduped_review__1_0 does not exist or has been deleted for context DevelopmentContext(environment=Environment.DEVELOPMENT, user='tzeng'). If this exists in another context use dataset('online_reviews__deduped_review__1_0').make_available_in_current_context() to make it available",
     "output_type": "error",
     "traceback": [
      "\u001b[0;31m---------------------------------------------------------------------------\u001b[0m",
      "\u001b[0;31mDatasetNotAvailable\u001b[0m                       Traceback (most recent call last)",
      "\u001b[0;32m<ipython-input-5-feb7a3594438>\u001b[0m in \u001b[0;36m<module>\u001b[0;34m()\u001b[0m\n\u001b[1;32m      5\u001b[0m test_timeline_data = (\n\u001b[1;32m      6\u001b[0m \u001b[0mapollo\u001b[0m\u001b[0;34m\u001b[0m\u001b[0;34m\u001b[0m\u001b[0m\n\u001b[0;32m----> 7\u001b[0;31m \u001b[0;34m.\u001b[0m\u001b[0mdataset\u001b[0m\u001b[0;34m(\u001b[0m\u001b[0;34m'online_reviews__deduped_review__1_0'\u001b[0m\u001b[0;34m)\u001b[0m\u001b[0;34m\u001b[0m\u001b[0;34m\u001b[0m\u001b[0m\n\u001b[0m\u001b[1;32m      8\u001b[0m \u001b[0;34m.\u001b[0m\u001b[0mread\u001b[0m\u001b[0;34m(\u001b[0m\u001b[0;34m)\u001b[0m\u001b[0;34m\u001b[0m\u001b[0;34m\u001b[0m\u001b[0m\n\u001b[1;32m      9\u001b[0m \u001b[0;34m.\u001b[0m\u001b[0mselect\u001b[0m\u001b[0;34m(\u001b[0m\u001b[0;34m'normalized_url'\u001b[0m\u001b[0;34m,\u001b[0m \u001b[0;34m'execution_date'\u001b[0m\u001b[0;34m)\u001b[0m\u001b[0;34m\u001b[0m\u001b[0;34m\u001b[0m\u001b[0m\n",
      "\u001b[0;32m/usr/local/lib/python3.6/site-packages/apollo/api/dataset.py\u001b[0m in \u001b[0;36mread\u001b[0;34m(self)\u001b[0m\n\u001b[1;32m     99\u001b[0m \u001b[0;34m\u001b[0m\u001b[0m\n\u001b[1;32m    100\u001b[0m         \u001b[0;32mwith\u001b[0m \u001b[0msession_scope\u001b[0m\u001b[0;34m(\u001b[0m\u001b[0;34m)\u001b[0m \u001b[0;32mas\u001b[0m \u001b[0msession\u001b[0m\u001b[0;34m:\u001b[0m\u001b[0;34m\u001b[0m\u001b[0;34m\u001b[0m\u001b[0m\n\u001b[0;32m--> 101\u001b[0;31m             \u001b[0mphysical_dataset\u001b[0m \u001b[0;34m=\u001b[0m \u001b[0mload_physical_dataset\u001b[0m\u001b[0;34m(\u001b[0m\u001b[0mname\u001b[0m\u001b[0;34m=\u001b[0m\u001b[0mself\u001b[0m\u001b[0;34m.\u001b[0m\u001b[0mname\u001b[0m\u001b[0;34m,\u001b[0m \u001b[0msession\u001b[0m\u001b[0;34m=\u001b[0m\u001b[0msession\u001b[0m\u001b[0;34m)\u001b[0m\u001b[0;34m\u001b[0m\u001b[0;34m\u001b[0m\u001b[0m\n\u001b[0m\u001b[1;32m    102\u001b[0m             \u001b[0mdata_location\u001b[0m \u001b[0;34m=\u001b[0m \u001b[0mcreate_location\u001b[0m\u001b[0;34m(\u001b[0m\u001b[0mphysical_dataset\u001b[0m\u001b[0;34m.\u001b[0m\u001b[0mlocation\u001b[0m\u001b[0;34m,\u001b[0m \u001b[0mHiveLocation\u001b[0m\u001b[0;34m)\u001b[0m\u001b[0;34m\u001b[0m\u001b[0;34m\u001b[0m\u001b[0m\n\u001b[1;32m    103\u001b[0m             \u001b[0mdf\u001b[0m \u001b[0;34m=\u001b[0m \u001b[0mget_spark\u001b[0m\u001b[0;34m(\u001b[0m\u001b[0;34m)\u001b[0m\u001b[0;34m.\u001b[0m\u001b[0mtable\u001b[0m\u001b[0;34m(\u001b[0m\u001b[0mdata_location\u001b[0m\u001b[0;34m.\u001b[0m\u001b[0mlocation\u001b[0m\u001b[0;34m)\u001b[0m\u001b[0;34m\u001b[0m\u001b[0;34m\u001b[0m\u001b[0m\n",
      "\u001b[0;32m/usr/local/lib/python3.6/site-packages/apollo/core/dataset_business_logic.py\u001b[0m in \u001b[0;36mload_physical_dataset\u001b[0;34m(name, session)\u001b[0m\n\u001b[1;32m     16\u001b[0m \u001b[0;34m\u001b[0m\u001b[0m\n\u001b[1;32m     17\u001b[0m         raise DatasetNotAvailable(\n\u001b[0;32m---> 18\u001b[0;31m             \u001b[0;34mf\"physical dataset for {name} does not exist or has been deleted for context {dataset_context}. \"\u001b[0m\u001b[0;34m\u001b[0m\u001b[0;34m\u001b[0m\u001b[0m\n\u001b[0m\u001b[1;32m     19\u001b[0m             \u001b[0;34mf\"If this exists in another context use dataset({name!r}).{Dataset.make_available_in_current_context.__name__}() to make it available\"\u001b[0m\u001b[0;34m\u001b[0m\u001b[0;34m\u001b[0m\u001b[0m\n\u001b[1;32m     20\u001b[0m         )\n",
      "\u001b[0;31mDatasetNotAvailable\u001b[0m: physical dataset for online_reviews__deduped_review__1_0 does not exist or has been deleted for context DevelopmentContext(environment=Environment.DEVELOPMENT, user='tzeng'). If this exists in another context use dataset('online_reviews__deduped_review__1_0').make_available_in_current_context() to make it available"
     ]
    }
   ],
   "source": [
    "from datetime import *\n",
    "from datetime import datetime, timedelta\n",
    "\n",
    "\n",
    "test_timeline_data = (\n",
    "apollo\n",
    ".dataset('online_reviews__deduped_review__1_0')\n",
    ".read()\n",
    ".select('normalized_url', 'execution_date')\n",
    ".where(c.execution_date > date.today() - timedelta(days=7))\n",
    ")\n",
    "\n",
    "max_date = test_timeline_data.where(c.normalized_url.isNotNull()).agg({'execution_date':'max'}).collect()[0][0]\n",
    "\n",
    "reviews = (\n",
    "dataset('online_reviews__deduped_review__1_0')\n",
    ".read_segment_df({'execution_date': max_date})\n",
    ".select(REV_COLS)\n",
    ".persist()\n",
    ")"
   ]
  },
  {
   "cell_type": "code",
   "execution_count": null,
   "metadata": {},
   "outputs": [],
   "source": []
  }
 ],
 "metadata": {
  "kernelspec": {
   "display_name": "Python 3",
   "language": "python",
   "name": "python3"
  },
  "language_info": {
   "codemirror_mode": {
    "name": "ipython",
    "version": 3
   },
   "file_extension": ".py",
   "mimetype": "text/x-python",
   "name": "python",
   "nbconvert_exporter": "python",
   "pygments_lexer": "ipython3",
   "version": "3.6.8"
  },
  "toc": {
   "colors": {
    "hover_highlight": "#DAA520",
    "navigate_num": "#000000",
    "navigate_text": "#333333",
    "running_highlight": "#FF0000",
    "selected_highlight": "#FFD700",
    "sidebar_border": "#EEEEEE",
    "wrapper_background": "#FFFFFF"
   },
   "moveMenuLeft": true,
   "nav_menu": {
    "height": "12px",
    "width": "252px"
   },
   "navigate_menu": true,
   "number_sections": true,
   "sideBar": true,
   "threshold": 4,
   "toc_cell": false,
   "toc_section_display": "block",
   "toc_window_display": false,
   "widenNotebook": false
  }
 },
 "nbformat": 4,
 "nbformat_minor": 4
}
