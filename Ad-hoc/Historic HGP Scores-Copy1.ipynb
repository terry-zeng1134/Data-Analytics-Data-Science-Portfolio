{
 "cells": [
  {
   "cell_type": "code",
   "execution_count": 2,
   "metadata": {
    "ExecuteTime": {
     "end_time": "2022-03-08T02:03:47.226576Z",
     "start_time": "2022-03-08T02:03:47.220376Z"
    }
   },
   "outputs": [],
   "source": [
    "from spark_tools import *\n",
    "\n",
    "from matplotlib import pyplot as plt\n",
    "import pandas as pd\n",
    "import numpy as np\n",
    "import matplotlib as mpl\n",
    "#import seaborn as sns\n",
    "\n",
    "import apollo\n",
    "from apollo import OverrideConfiguration\n",
    "from apollo import dataset\n",
    "import apollo_artifacts\n",
    "from apollo_artifacts import datasets\n"
   ]
  },
  {
   "cell_type": "code",
   "execution_count": 3,
   "metadata": {
    "ExecuteTime": {
     "end_time": "2022-03-08T02:03:48.850438Z",
     "start_time": "2022-03-08T02:03:47.900927Z"
    }
   },
   "outputs": [],
   "source": [
    "import pygsheets\n",
    "\n",
    "def gsheets_client() -> pygsheets.client.Client:\n",
    "    client_secret = '{\"installed\":{\"client_id\":\"721835620182-1bnpnhso6blqgnud8p28eo635cvprd24.apps.googleusercontent.com\",\"project_id\":\"circleup-dev\",\"auth_uri\":\"https://accounts.google.com/o/oauth2/auth\",\"token_uri\":\"https://accounts.google.com/o/oauth2/token\",\"auth_provider_x509_cert_url\":\"https://www.googleapis.com/oauth2/v1/certs\",\"client_secret\":\"4QVTGL6G2ktoF1_pQiUavVnQ\",\"redirect_uris\":[\"urn:ietf:wg:oauth:2.0:oob\",\"http://localhost\"]}}'\n",
    "    open('/tmp/client_secret.json', 'w').write(client_secret)\n",
    "    return pygsheets.authorize(outh_file='/tmp/client_secret.json', outh_nonlocal=True)\n",
    "gsheets_client()\n",
    "\n",
    "def write_google_sheet(url, *, df, title, mode='overwrite'):\n",
    "    gs = gsheets_client()\n",
    "    spreadsheet = gs.open_by_url(url)\n",
    "\n",
    "    header = [str(x) for x in df.columns]\n",
    "    values = df.rdd.map(lambda row: [str(x) if x else '' for x in row]).collect()\n",
    "\n",
    "    if mode == 'overwrite':\n",
    "        try:\n",
    "            worksheet = spreadsheet.worksheet_by_title(title)\n",
    "        except WorksheetNotFound:\n",
    "            worksheet = None\n",
    "    else:\n",
    "        worksheet = None\n",
    "\n",
    "    if worksheet is None:\n",
    "        worksheet = spreadsheet.add_worksheet(title=title, rows=1, cols=len(header))\n",
    "\n",
    "    worksheet.resize(rows=1, cols=len(header))\n",
    "    worksheet.update_row(index=1, values=header)\n",
    "    worksheet.insert_rows(row=1, values=values, inherit=True)\n",
    "    return worksheet"
   ]
  },
  {
   "cell_type": "code",
   "execution_count": 4,
   "metadata": {
    "ExecuteTime": {
     "end_time": "2022-03-08T02:03:49.024124Z",
     "start_time": "2022-03-08T02:03:49.021877Z"
    }
   },
   "outputs": [],
   "source": [
    "# look in https://s3.console.aws.amazon.com/s3/buckets/circleup-datascience?prefix=HGP/ for filepaths with hgp dimensions outputs"
   ]
  },
  {
   "cell_type": "code",
   "execution_count": 5,
   "metadata": {
    "ExecuteTime": {
     "end_time": "2022-03-08T02:03:49.483828Z",
     "start_time": "2022-03-08T02:03:49.480367Z"
    }
   },
   "outputs": [],
   "source": [
    "paths = ['s3a://circleup-datascience/HGP/2021-03-04/combined_hgp_dimensions_scored_output_202101',\n",
    "        's3a://circleup-datascience/HGP/2021-01-07/combined_hgp_dimensions_scored_output_202012',\n",
    "        's3a://circleup-datascience/HGP/2020-12-16/combined_hgp_dimensions_scored_output_202011',\n",
    "        's3a://circleup-datascience/HGP/2020-11-12/combined_hgp_dimensions_scored_output_202010',\n",
    "        's3a://circleup-datascience/HGP/2020-10-15/combined_hgp_dimensions_scored_output_202009',\n",
    "        's3a://circleup-datascience/HGP/2020-09-22/combined_hgp_dimensions_scored_output_202008',\n",
    "        's3a://circleup-datascience/HGP/2020-09-08/combined_hgp_dimensions_scored_output_202007',\n",
    "        's3a://circleup-datascience/HGP/2020-07-06/combined_hgp_dimensions_scored_output_202005',\n",
    "        's3a://circleup-datascience/HGP/2020-06-03/combined_hgp_dimensions_scored_output_202004',\n",
    "        's3a://circleup-datascience/HGP/2020-05-04/combined_hgp_dimensions_scored_output_202003',\n",
    "        's3a://circleup-datascience/HGP/2020-04-09/combined_hgp_dimensions_scored_output_202002'] "
   ]
  },
  {
   "cell_type": "code",
   "execution_count": 6,
   "metadata": {
    "ExecuteTime": {
     "end_time": "2022-03-08T02:03:51.440274Z",
     "start_time": "2022-03-08T02:03:51.438050Z"
    }
   },
   "outputs": [],
   "source": [
    "hgp_dict={}"
   ]
  },
  {
   "cell_type": "code",
   "execution_count": 8,
   "metadata": {
    "ExecuteTime": {
     "end_time": "2022-03-08T02:23:42.159352Z",
     "start_time": "2022-03-08T02:23:36.324763Z"
    }
   },
   "outputs": [
    {
     "name": "stdout",
     "output_type": "stream",
     "text": [
      "Reading: s3a://circleup-datascience/HGP/2021-03-04/combined_hgp_dimensions_scored_output_202101\n",
      "Values\n",
      "{'s3a://circleup-datascience/HGP/2021-03-04/combined_hgp_dimensions_scored_output_202101': DataFrame[normalized_url: string, fct_date: string, score_date: string, parent_category: string, parent_category_hgp_score: double, overall_hgp_score: double, overall_feature_density: double, t12m_nielsen_sales: double, t12m_nielsen_sales_pct_growth: double, nielsen_feature_density: double, nielsen_score: double, parent_category_nielsen_score: double, nielsen_weight: double, offline_distribution_feature_density: double, offline_distribution_score: double, parent_category_offline_distribution_score: double, offline_distribution_weight: double, reviews_feature_density: double, reviews_score: double, parent_category_reviews_score: double, reviews_weight: double, social_feature_density: double, social_score: double, parent_category_social_score: double, social_weight: double, web_feature_density: double, web_score: double, parent_category_web_score: double, web_weight: double, overall_confidence: double, reliability_bucket: string], 's3a://circleup-datascience/HGP/2021-01-07/combined_hgp_dimensions_scored_output_202012': DataFrame[normalized_url: string, fct_date: string, score_date: string, parent_category: string, parent_category_hgp_score: double, overall_hgp_score: double, overall_feature_density: double, t12m_nielsen_sales: double, t12m_nielsen_sales_pct_growth: double, nielsen_feature_density: double, nielsen_score: double, parent_category_nielsen_score: double, nielsen_weight: double, offline_distribution_feature_density: double, offline_distribution_score: double, parent_category_offline_distribution_score: double, offline_distribution_weight: double, reviews_feature_density: double, reviews_score: double, parent_category_reviews_score: double, reviews_weight: double, social_feature_density: double, social_score: double, parent_category_social_score: double, social_weight: double, web_feature_density: double, web_score: double, parent_category_web_score: double, web_weight: double, overall_confidence: double, reliability_bucket: string], 's3a://circleup-datascience/HGP/2020-12-16/combined_hgp_dimensions_scored_output_202011': DataFrame[normalized_url: string, fct_date: string, score_date: string, parent_category: string, parent_category_hgp_score: double, overall_hgp_score: double, overall_feature_density: double, t12m_nielsen_sales: double, t12m_nielsen_sales_pct_growth: double, nielsen_feature_density: double, nielsen_score: double, parent_category_nielsen_score: double, nielsen_weight: double, offline_distribution_feature_density: double, offline_distribution_score: double, parent_category_offline_distribution_score: double, offline_distribution_weight: double, reviews_feature_density: double, reviews_score: double, parent_category_reviews_score: double, reviews_weight: double, social_feature_density: double, social_score: double, parent_category_social_score: double, social_weight: double, web_feature_density: double, web_score: double, parent_category_web_score: double, web_weight: double, overall_confidence: double, reliability_bucket: string], 's3a://circleup-datascience/HGP/2020-11-12/combined_hgp_dimensions_scored_output_202010': DataFrame[normalized_url: string, fct_date: string, score_date: string, parent_category: string, parent_category_hgp_score: double, overall_hgp_score: double, overall_feature_density: double, t12m_nielsen_sales: double, t12m_nielsen_sales_pct_growth: double, nielsen_feature_density: double, nielsen_score: double, parent_category_nielsen_score: double, nielsen_weight: double, offline_distribution_feature_density: double, offline_distribution_score: double, parent_category_offline_distribution_score: double, offline_distribution_weight: double, reviews_feature_density: double, reviews_score: double, parent_category_reviews_score: double, reviews_weight: double, social_feature_density: double, social_score: double, parent_category_social_score: double, social_weight: double, web_feature_density: double, web_score: double, parent_category_web_score: double, web_weight: double, overall_confidence: double, reliability_bucket: string], 's3a://circleup-datascience/HGP/2020-10-15/combined_hgp_dimensions_scored_output_202009': DataFrame[normalized_url: string, fct_date: string, score_date: string, parent_category: string, parent_category_hgp_score: double, overall_hgp_score: double, overall_feature_density: double, t12m_nielsen_sales: double, t12m_nielsen_sales_pct_growth: double, nielsen_feature_density: double, nielsen_score: double, parent_category_nielsen_score: double, nielsen_weight: double, offline_distribution_feature_density: double, offline_distribution_score: double, parent_category_offline_distribution_score: double, offline_distribution_weight: double, reviews_feature_density: double, reviews_score: double, parent_category_reviews_score: double, reviews_weight: double, social_feature_density: double, social_score: double, parent_category_social_score: double, social_weight: double, web_feature_density: double, web_score: double, parent_category_web_score: double, web_weight: double, overall_confidence: double, reliability_bucket: string], 's3a://circleup-datascience/HGP/2020-09-22/combined_hgp_dimensions_scored_output_202008': DataFrame[normalized_url: string, fct_date: string, score_date: string, parent_category: string, parent_category_hgp_score: double, overall_hgp_score: double, overall_feature_density: double, t12m_nielsen_sales: double, t12m_nielsen_sales_pct_growth: double, nielsen_feature_density: double, nielsen_score: double, parent_category_nielsen_score: double, nielsen_weight: double, offline_distribution_feature_density: double, offline_distribution_score: double, parent_category_offline_distribution_score: double, offline_distribution_weight: double, reviews_feature_density: double, reviews_score: double, parent_category_reviews_score: double, reviews_weight: double, social_feature_density: double, social_score: double, parent_category_social_score: double, social_weight: double, web_feature_density: double, web_score: double, parent_category_web_score: double, web_weight: double, overall_confidence: double, reliability_bucket: string], 's3a://circleup-datascience/HGP/2020-09-08/combined_hgp_dimensions_scored_output_202007': DataFrame[normalized_url: string, fct_date: string, score_date: string, parent_category: string, parent_category_hgp_score: double, overall_hgp_score: double, overall_feature_density: double, t12m_nielsen_sales: double, t12m_nielsen_sales_pct_growth: double, nielsen_feature_density: double, nielsen_score: double, parent_category_nielsen_score: double, nielsen_weight: double, offline_distribution_feature_density: double, offline_distribution_score: double, parent_category_offline_distribution_score: double, offline_distribution_weight: double, reviews_feature_density: double, reviews_score: double, parent_category_reviews_score: double, reviews_weight: double, social_feature_density: double, social_score: double, parent_category_social_score: double, social_weight: double, web_feature_density: double, web_score: double, parent_category_web_score: double, web_weight: double, overall_confidence: double, reliability_bucket: string]}\n",
      "Reading: s3a://circleup-datascience/HGP/2021-01-07/combined_hgp_dimensions_scored_output_202012\n",
      "Values\n",
      "{'s3a://circleup-datascience/HGP/2021-03-04/combined_hgp_dimensions_scored_output_202101': DataFrame[normalized_url: string, fct_date: string, score_date: string, parent_category: string, parent_category_hgp_score: double, overall_hgp_score: double, overall_feature_density: double, t12m_nielsen_sales: double, t12m_nielsen_sales_pct_growth: double, nielsen_feature_density: double, nielsen_score: double, parent_category_nielsen_score: double, nielsen_weight: double, offline_distribution_feature_density: double, offline_distribution_score: double, parent_category_offline_distribution_score: double, offline_distribution_weight: double, reviews_feature_density: double, reviews_score: double, parent_category_reviews_score: double, reviews_weight: double, social_feature_density: double, social_score: double, parent_category_social_score: double, social_weight: double, web_feature_density: double, web_score: double, parent_category_web_score: double, web_weight: double, overall_confidence: double, reliability_bucket: string], 's3a://circleup-datascience/HGP/2021-01-07/combined_hgp_dimensions_scored_output_202012': DataFrame[normalized_url: string, fct_date: string, score_date: string, parent_category: string, parent_category_hgp_score: double, overall_hgp_score: double, overall_feature_density: double, t12m_nielsen_sales: double, t12m_nielsen_sales_pct_growth: double, nielsen_feature_density: double, nielsen_score: double, parent_category_nielsen_score: double, nielsen_weight: double, offline_distribution_feature_density: double, offline_distribution_score: double, parent_category_offline_distribution_score: double, offline_distribution_weight: double, reviews_feature_density: double, reviews_score: double, parent_category_reviews_score: double, reviews_weight: double, social_feature_density: double, social_score: double, parent_category_social_score: double, social_weight: double, web_feature_density: double, web_score: double, parent_category_web_score: double, web_weight: double, overall_confidence: double, reliability_bucket: string], 's3a://circleup-datascience/HGP/2020-12-16/combined_hgp_dimensions_scored_output_202011': DataFrame[normalized_url: string, fct_date: string, score_date: string, parent_category: string, parent_category_hgp_score: double, overall_hgp_score: double, overall_feature_density: double, t12m_nielsen_sales: double, t12m_nielsen_sales_pct_growth: double, nielsen_feature_density: double, nielsen_score: double, parent_category_nielsen_score: double, nielsen_weight: double, offline_distribution_feature_density: double, offline_distribution_score: double, parent_category_offline_distribution_score: double, offline_distribution_weight: double, reviews_feature_density: double, reviews_score: double, parent_category_reviews_score: double, reviews_weight: double, social_feature_density: double, social_score: double, parent_category_social_score: double, social_weight: double, web_feature_density: double, web_score: double, parent_category_web_score: double, web_weight: double, overall_confidence: double, reliability_bucket: string], 's3a://circleup-datascience/HGP/2020-11-12/combined_hgp_dimensions_scored_output_202010': DataFrame[normalized_url: string, fct_date: string, score_date: string, parent_category: string, parent_category_hgp_score: double, overall_hgp_score: double, overall_feature_density: double, t12m_nielsen_sales: double, t12m_nielsen_sales_pct_growth: double, nielsen_feature_density: double, nielsen_score: double, parent_category_nielsen_score: double, nielsen_weight: double, offline_distribution_feature_density: double, offline_distribution_score: double, parent_category_offline_distribution_score: double, offline_distribution_weight: double, reviews_feature_density: double, reviews_score: double, parent_category_reviews_score: double, reviews_weight: double, social_feature_density: double, social_score: double, parent_category_social_score: double, social_weight: double, web_feature_density: double, web_score: double, parent_category_web_score: double, web_weight: double, overall_confidence: double, reliability_bucket: string], 's3a://circleup-datascience/HGP/2020-10-15/combined_hgp_dimensions_scored_output_202009': DataFrame[normalized_url: string, fct_date: string, score_date: string, parent_category: string, parent_category_hgp_score: double, overall_hgp_score: double, overall_feature_density: double, t12m_nielsen_sales: double, t12m_nielsen_sales_pct_growth: double, nielsen_feature_density: double, nielsen_score: double, parent_category_nielsen_score: double, nielsen_weight: double, offline_distribution_feature_density: double, offline_distribution_score: double, parent_category_offline_distribution_score: double, offline_distribution_weight: double, reviews_feature_density: double, reviews_score: double, parent_category_reviews_score: double, reviews_weight: double, social_feature_density: double, social_score: double, parent_category_social_score: double, social_weight: double, web_feature_density: double, web_score: double, parent_category_web_score: double, web_weight: double, overall_confidence: double, reliability_bucket: string], 's3a://circleup-datascience/HGP/2020-09-22/combined_hgp_dimensions_scored_output_202008': DataFrame[normalized_url: string, fct_date: string, score_date: string, parent_category: string, parent_category_hgp_score: double, overall_hgp_score: double, overall_feature_density: double, t12m_nielsen_sales: double, t12m_nielsen_sales_pct_growth: double, nielsen_feature_density: double, nielsen_score: double, parent_category_nielsen_score: double, nielsen_weight: double, offline_distribution_feature_density: double, offline_distribution_score: double, parent_category_offline_distribution_score: double, offline_distribution_weight: double, reviews_feature_density: double, reviews_score: double, parent_category_reviews_score: double, reviews_weight: double, social_feature_density: double, social_score: double, parent_category_social_score: double, social_weight: double, web_feature_density: double, web_score: double, parent_category_web_score: double, web_weight: double, overall_confidence: double, reliability_bucket: string], 's3a://circleup-datascience/HGP/2020-09-08/combined_hgp_dimensions_scored_output_202007': DataFrame[normalized_url: string, fct_date: string, score_date: string, parent_category: string, parent_category_hgp_score: double, overall_hgp_score: double, overall_feature_density: double, t12m_nielsen_sales: double, t12m_nielsen_sales_pct_growth: double, nielsen_feature_density: double, nielsen_score: double, parent_category_nielsen_score: double, nielsen_weight: double, offline_distribution_feature_density: double, offline_distribution_score: double, parent_category_offline_distribution_score: double, offline_distribution_weight: double, reviews_feature_density: double, reviews_score: double, parent_category_reviews_score: double, reviews_weight: double, social_feature_density: double, social_score: double, parent_category_social_score: double, social_weight: double, web_feature_density: double, web_score: double, parent_category_web_score: double, web_weight: double, overall_confidence: double, reliability_bucket: string]}\n",
      "Reading: s3a://circleup-datascience/HGP/2020-12-16/combined_hgp_dimensions_scored_output_202011\n"
     ]
    },
    {
     "name": "stdout",
     "output_type": "stream",
     "text": [
      "Values\n",
      "{'s3a://circleup-datascience/HGP/2021-03-04/combined_hgp_dimensions_scored_output_202101': DataFrame[normalized_url: string, fct_date: string, score_date: string, parent_category: string, parent_category_hgp_score: double, overall_hgp_score: double, overall_feature_density: double, t12m_nielsen_sales: double, t12m_nielsen_sales_pct_growth: double, nielsen_feature_density: double, nielsen_score: double, parent_category_nielsen_score: double, nielsen_weight: double, offline_distribution_feature_density: double, offline_distribution_score: double, parent_category_offline_distribution_score: double, offline_distribution_weight: double, reviews_feature_density: double, reviews_score: double, parent_category_reviews_score: double, reviews_weight: double, social_feature_density: double, social_score: double, parent_category_social_score: double, social_weight: double, web_feature_density: double, web_score: double, parent_category_web_score: double, web_weight: double, overall_confidence: double, reliability_bucket: string], 's3a://circleup-datascience/HGP/2021-01-07/combined_hgp_dimensions_scored_output_202012': DataFrame[normalized_url: string, fct_date: string, score_date: string, parent_category: string, parent_category_hgp_score: double, overall_hgp_score: double, overall_feature_density: double, t12m_nielsen_sales: double, t12m_nielsen_sales_pct_growth: double, nielsen_feature_density: double, nielsen_score: double, parent_category_nielsen_score: double, nielsen_weight: double, offline_distribution_feature_density: double, offline_distribution_score: double, parent_category_offline_distribution_score: double, offline_distribution_weight: double, reviews_feature_density: double, reviews_score: double, parent_category_reviews_score: double, reviews_weight: double, social_feature_density: double, social_score: double, parent_category_social_score: double, social_weight: double, web_feature_density: double, web_score: double, parent_category_web_score: double, web_weight: double, overall_confidence: double, reliability_bucket: string], 's3a://circleup-datascience/HGP/2020-12-16/combined_hgp_dimensions_scored_output_202011': DataFrame[normalized_url: string, fct_date: string, score_date: string, parent_category: string, parent_category_hgp_score: double, overall_hgp_score: double, overall_feature_density: double, t12m_nielsen_sales: double, t12m_nielsen_sales_pct_growth: double, nielsen_feature_density: double, nielsen_score: double, parent_category_nielsen_score: double, nielsen_weight: double, offline_distribution_feature_density: double, offline_distribution_score: double, parent_category_offline_distribution_score: double, offline_distribution_weight: double, reviews_feature_density: double, reviews_score: double, parent_category_reviews_score: double, reviews_weight: double, social_feature_density: double, social_score: double, parent_category_social_score: double, social_weight: double, web_feature_density: double, web_score: double, parent_category_web_score: double, web_weight: double, overall_confidence: double, reliability_bucket: string], 's3a://circleup-datascience/HGP/2020-11-12/combined_hgp_dimensions_scored_output_202010': DataFrame[normalized_url: string, fct_date: string, score_date: string, parent_category: string, parent_category_hgp_score: double, overall_hgp_score: double, overall_feature_density: double, t12m_nielsen_sales: double, t12m_nielsen_sales_pct_growth: double, nielsen_feature_density: double, nielsen_score: double, parent_category_nielsen_score: double, nielsen_weight: double, offline_distribution_feature_density: double, offline_distribution_score: double, parent_category_offline_distribution_score: double, offline_distribution_weight: double, reviews_feature_density: double, reviews_score: double, parent_category_reviews_score: double, reviews_weight: double, social_feature_density: double, social_score: double, parent_category_social_score: double, social_weight: double, web_feature_density: double, web_score: double, parent_category_web_score: double, web_weight: double, overall_confidence: double, reliability_bucket: string], 's3a://circleup-datascience/HGP/2020-10-15/combined_hgp_dimensions_scored_output_202009': DataFrame[normalized_url: string, fct_date: string, score_date: string, parent_category: string, parent_category_hgp_score: double, overall_hgp_score: double, overall_feature_density: double, t12m_nielsen_sales: double, t12m_nielsen_sales_pct_growth: double, nielsen_feature_density: double, nielsen_score: double, parent_category_nielsen_score: double, nielsen_weight: double, offline_distribution_feature_density: double, offline_distribution_score: double, parent_category_offline_distribution_score: double, offline_distribution_weight: double, reviews_feature_density: double, reviews_score: double, parent_category_reviews_score: double, reviews_weight: double, social_feature_density: double, social_score: double, parent_category_social_score: double, social_weight: double, web_feature_density: double, web_score: double, parent_category_web_score: double, web_weight: double, overall_confidence: double, reliability_bucket: string], 's3a://circleup-datascience/HGP/2020-09-22/combined_hgp_dimensions_scored_output_202008': DataFrame[normalized_url: string, fct_date: string, score_date: string, parent_category: string, parent_category_hgp_score: double, overall_hgp_score: double, overall_feature_density: double, t12m_nielsen_sales: double, t12m_nielsen_sales_pct_growth: double, nielsen_feature_density: double, nielsen_score: double, parent_category_nielsen_score: double, nielsen_weight: double, offline_distribution_feature_density: double, offline_distribution_score: double, parent_category_offline_distribution_score: double, offline_distribution_weight: double, reviews_feature_density: double, reviews_score: double, parent_category_reviews_score: double, reviews_weight: double, social_feature_density: double, social_score: double, parent_category_social_score: double, social_weight: double, web_feature_density: double, web_score: double, parent_category_web_score: double, web_weight: double, overall_confidence: double, reliability_bucket: string], 's3a://circleup-datascience/HGP/2020-09-08/combined_hgp_dimensions_scored_output_202007': DataFrame[normalized_url: string, fct_date: string, score_date: string, parent_category: string, parent_category_hgp_score: double, overall_hgp_score: double, overall_feature_density: double, t12m_nielsen_sales: double, t12m_nielsen_sales_pct_growth: double, nielsen_feature_density: double, nielsen_score: double, parent_category_nielsen_score: double, nielsen_weight: double, offline_distribution_feature_density: double, offline_distribution_score: double, parent_category_offline_distribution_score: double, offline_distribution_weight: double, reviews_feature_density: double, reviews_score: double, parent_category_reviews_score: double, reviews_weight: double, social_feature_density: double, social_score: double, parent_category_social_score: double, social_weight: double, web_feature_density: double, web_score: double, parent_category_web_score: double, web_weight: double, overall_confidence: double, reliability_bucket: string]}\n",
      "Reading: s3a://circleup-datascience/HGP/2020-11-12/combined_hgp_dimensions_scored_output_202010\n"
     ]
    },
    {
     "ename": "KeyboardInterrupt",
     "evalue": "",
     "output_type": "error",
     "traceback": [
      "\u001b[0;31m---------------------------------------------------------------------------\u001b[0m",
      "\u001b[0;31mKeyboardInterrupt\u001b[0m                         Traceback (most recent call last)",
      "\u001b[0;32m<ipython-input-8-99b0ef8c6705>\u001b[0m in \u001b[0;36m<module>\u001b[0;34m()\u001b[0m\n\u001b[1;32m      1\u001b[0m \u001b[0;32mfor\u001b[0m \u001b[0mpath\u001b[0m \u001b[0;32min\u001b[0m \u001b[0mpaths\u001b[0m\u001b[0;34m:\u001b[0m\u001b[0;34m\u001b[0m\u001b[0;34m\u001b[0m\u001b[0m\n\u001b[1;32m      2\u001b[0m     \u001b[0mprint\u001b[0m\u001b[0;34m(\u001b[0m\u001b[0;34m\"Reading: \"\u001b[0m \u001b[0;34m+\u001b[0m \u001b[0mstr\u001b[0m\u001b[0;34m(\u001b[0m\u001b[0mpath\u001b[0m\u001b[0;34m)\u001b[0m\u001b[0;34m)\u001b[0m\u001b[0;34m\u001b[0m\u001b[0;34m\u001b[0m\u001b[0m\n\u001b[0;32m----> 3\u001b[0;31m     \u001b[0mhgp_dict\u001b[0m\u001b[0;34m[\u001b[0m\u001b[0mpath\u001b[0m\u001b[0;34m]\u001b[0m\u001b[0;34m=\u001b[0m \u001b[0mspark\u001b[0m\u001b[0;34m.\u001b[0m\u001b[0mread\u001b[0m\u001b[0;34m.\u001b[0m\u001b[0mparquet\u001b[0m\u001b[0;34m(\u001b[0m\u001b[0mpath\u001b[0m\u001b[0;34m)\u001b[0m\u001b[0;34m\u001b[0m\u001b[0;34m\u001b[0m\u001b[0m\n\u001b[0m\u001b[1;32m      4\u001b[0m     \u001b[0mprint\u001b[0m\u001b[0;34m(\u001b[0m\u001b[0;34m\"Values\"\u001b[0m\u001b[0;34m)\u001b[0m\u001b[0;34m\u001b[0m\u001b[0;34m\u001b[0m\u001b[0m\n\u001b[1;32m      5\u001b[0m     \u001b[0mprint\u001b[0m\u001b[0;34m(\u001b[0m\u001b[0mhgp_dict\u001b[0m\u001b[0;34m)\u001b[0m\u001b[0;34m\u001b[0m\u001b[0;34m\u001b[0m\u001b[0m\n",
      "\u001b[0;32m/usr/local/spark/python/pyspark/sql/readwriter.py\u001b[0m in \u001b[0;36mparquet\u001b[0;34m(self, *paths)\u001b[0m\n\u001b[1;32m    314\u001b[0m         \u001b[0;34m[\u001b[0m\u001b[0;34m(\u001b[0m\u001b[0;34m'name'\u001b[0m\u001b[0;34m,\u001b[0m \u001b[0;34m'string'\u001b[0m\u001b[0;34m)\u001b[0m\u001b[0;34m,\u001b[0m \u001b[0;34m(\u001b[0m\u001b[0;34m'year'\u001b[0m\u001b[0;34m,\u001b[0m \u001b[0;34m'int'\u001b[0m\u001b[0;34m)\u001b[0m\u001b[0;34m,\u001b[0m \u001b[0;34m(\u001b[0m\u001b[0;34m'month'\u001b[0m\u001b[0;34m,\u001b[0m \u001b[0;34m'int'\u001b[0m\u001b[0;34m)\u001b[0m\u001b[0;34m,\u001b[0m \u001b[0;34m(\u001b[0m\u001b[0;34m'day'\u001b[0m\u001b[0;34m,\u001b[0m \u001b[0;34m'int'\u001b[0m\u001b[0;34m)\u001b[0m\u001b[0;34m]\u001b[0m\u001b[0;34m\u001b[0m\u001b[0;34m\u001b[0m\u001b[0m\n\u001b[1;32m    315\u001b[0m         \"\"\"\n\u001b[0;32m--> 316\u001b[0;31m         \u001b[0;32mreturn\u001b[0m \u001b[0mself\u001b[0m\u001b[0;34m.\u001b[0m\u001b[0m_df\u001b[0m\u001b[0;34m(\u001b[0m\u001b[0mself\u001b[0m\u001b[0;34m.\u001b[0m\u001b[0m_jreader\u001b[0m\u001b[0;34m.\u001b[0m\u001b[0mparquet\u001b[0m\u001b[0;34m(\u001b[0m\u001b[0m_to_seq\u001b[0m\u001b[0;34m(\u001b[0m\u001b[0mself\u001b[0m\u001b[0;34m.\u001b[0m\u001b[0m_spark\u001b[0m\u001b[0;34m.\u001b[0m\u001b[0m_sc\u001b[0m\u001b[0;34m,\u001b[0m \u001b[0mpaths\u001b[0m\u001b[0;34m)\u001b[0m\u001b[0;34m)\u001b[0m\u001b[0;34m)\u001b[0m\u001b[0;34m\u001b[0m\u001b[0;34m\u001b[0m\u001b[0m\n\u001b[0m\u001b[1;32m    317\u001b[0m \u001b[0;34m\u001b[0m\u001b[0m\n\u001b[1;32m    318\u001b[0m     \u001b[0;34m@\u001b[0m\u001b[0mignore_unicode_prefix\u001b[0m\u001b[0;34m\u001b[0m\u001b[0;34m\u001b[0m\u001b[0m\n",
      "\u001b[0;32m/usr/local/spark/python/lib/py4j-0.10.7-src.zip/py4j/java_gateway.py\u001b[0m in \u001b[0;36m__call__\u001b[0;34m(self, *args)\u001b[0m\n\u001b[1;32m   1253\u001b[0m             \u001b[0mproto\u001b[0m\u001b[0;34m.\u001b[0m\u001b[0mEND_COMMAND_PART\u001b[0m\u001b[0;34m\u001b[0m\u001b[0;34m\u001b[0m\u001b[0m\n\u001b[1;32m   1254\u001b[0m \u001b[0;34m\u001b[0m\u001b[0m\n\u001b[0;32m-> 1255\u001b[0;31m         \u001b[0manswer\u001b[0m \u001b[0;34m=\u001b[0m \u001b[0mself\u001b[0m\u001b[0;34m.\u001b[0m\u001b[0mgateway_client\u001b[0m\u001b[0;34m.\u001b[0m\u001b[0msend_command\u001b[0m\u001b[0;34m(\u001b[0m\u001b[0mcommand\u001b[0m\u001b[0;34m)\u001b[0m\u001b[0;34m\u001b[0m\u001b[0;34m\u001b[0m\u001b[0m\n\u001b[0m\u001b[1;32m   1256\u001b[0m         return_value = get_return_value(\n\u001b[1;32m   1257\u001b[0m             answer, self.gateway_client, self.target_id, self.name)\n",
      "\u001b[0;32m/usr/local/spark/python/lib/py4j-0.10.7-src.zip/py4j/java_gateway.py\u001b[0m in \u001b[0;36msend_command\u001b[0;34m(self, command, retry, binary)\u001b[0m\n\u001b[1;32m    983\u001b[0m         \u001b[0mconnection\u001b[0m \u001b[0;34m=\u001b[0m \u001b[0mself\u001b[0m\u001b[0;34m.\u001b[0m\u001b[0m_get_connection\u001b[0m\u001b[0;34m(\u001b[0m\u001b[0;34m)\u001b[0m\u001b[0;34m\u001b[0m\u001b[0;34m\u001b[0m\u001b[0m\n\u001b[1;32m    984\u001b[0m         \u001b[0;32mtry\u001b[0m\u001b[0;34m:\u001b[0m\u001b[0;34m\u001b[0m\u001b[0;34m\u001b[0m\u001b[0m\n\u001b[0;32m--> 985\u001b[0;31m             \u001b[0mresponse\u001b[0m \u001b[0;34m=\u001b[0m \u001b[0mconnection\u001b[0m\u001b[0;34m.\u001b[0m\u001b[0msend_command\u001b[0m\u001b[0;34m(\u001b[0m\u001b[0mcommand\u001b[0m\u001b[0;34m)\u001b[0m\u001b[0;34m\u001b[0m\u001b[0;34m\u001b[0m\u001b[0m\n\u001b[0m\u001b[1;32m    986\u001b[0m             \u001b[0;32mif\u001b[0m \u001b[0mbinary\u001b[0m\u001b[0;34m:\u001b[0m\u001b[0;34m\u001b[0m\u001b[0;34m\u001b[0m\u001b[0m\n\u001b[1;32m    987\u001b[0m                 \u001b[0;32mreturn\u001b[0m \u001b[0mresponse\u001b[0m\u001b[0;34m,\u001b[0m \u001b[0mself\u001b[0m\u001b[0;34m.\u001b[0m\u001b[0m_create_connection_guard\u001b[0m\u001b[0;34m(\u001b[0m\u001b[0mconnection\u001b[0m\u001b[0;34m)\u001b[0m\u001b[0;34m\u001b[0m\u001b[0;34m\u001b[0m\u001b[0m\n",
      "\u001b[0;32m/usr/local/spark/python/lib/py4j-0.10.7-src.zip/py4j/java_gateway.py\u001b[0m in \u001b[0;36msend_command\u001b[0;34m(self, command)\u001b[0m\n\u001b[1;32m   1150\u001b[0m \u001b[0;34m\u001b[0m\u001b[0m\n\u001b[1;32m   1151\u001b[0m         \u001b[0;32mtry\u001b[0m\u001b[0;34m:\u001b[0m\u001b[0;34m\u001b[0m\u001b[0;34m\u001b[0m\u001b[0m\n\u001b[0;32m-> 1152\u001b[0;31m             \u001b[0manswer\u001b[0m \u001b[0;34m=\u001b[0m \u001b[0msmart_decode\u001b[0m\u001b[0;34m(\u001b[0m\u001b[0mself\u001b[0m\u001b[0;34m.\u001b[0m\u001b[0mstream\u001b[0m\u001b[0;34m.\u001b[0m\u001b[0mreadline\u001b[0m\u001b[0;34m(\u001b[0m\u001b[0;34m)\u001b[0m\u001b[0;34m[\u001b[0m\u001b[0;34m:\u001b[0m\u001b[0;34m-\u001b[0m\u001b[0;36m1\u001b[0m\u001b[0;34m]\u001b[0m\u001b[0;34m)\u001b[0m\u001b[0;34m\u001b[0m\u001b[0;34m\u001b[0m\u001b[0m\n\u001b[0m\u001b[1;32m   1153\u001b[0m             \u001b[0mlogger\u001b[0m\u001b[0;34m.\u001b[0m\u001b[0mdebug\u001b[0m\u001b[0;34m(\u001b[0m\u001b[0;34m\"Answer received: {0}\"\u001b[0m\u001b[0;34m.\u001b[0m\u001b[0mformat\u001b[0m\u001b[0;34m(\u001b[0m\u001b[0manswer\u001b[0m\u001b[0;34m)\u001b[0m\u001b[0;34m)\u001b[0m\u001b[0;34m\u001b[0m\u001b[0;34m\u001b[0m\u001b[0m\n\u001b[1;32m   1154\u001b[0m             \u001b[0;32mif\u001b[0m \u001b[0manswer\u001b[0m\u001b[0;34m.\u001b[0m\u001b[0mstartswith\u001b[0m\u001b[0;34m(\u001b[0m\u001b[0mproto\u001b[0m\u001b[0;34m.\u001b[0m\u001b[0mRETURN_MESSAGE\u001b[0m\u001b[0;34m)\u001b[0m\u001b[0;34m:\u001b[0m\u001b[0;34m\u001b[0m\u001b[0;34m\u001b[0m\u001b[0m\n",
      "\u001b[0;32m/usr/local/lib/python3.6/socket.py\u001b[0m in \u001b[0;36mreadinto\u001b[0;34m(self, b)\u001b[0m\n\u001b[1;32m    584\u001b[0m         \u001b[0;32mwhile\u001b[0m \u001b[0;32mTrue\u001b[0m\u001b[0;34m:\u001b[0m\u001b[0;34m\u001b[0m\u001b[0;34m\u001b[0m\u001b[0m\n\u001b[1;32m    585\u001b[0m             \u001b[0;32mtry\u001b[0m\u001b[0;34m:\u001b[0m\u001b[0;34m\u001b[0m\u001b[0;34m\u001b[0m\u001b[0m\n\u001b[0;32m--> 586\u001b[0;31m                 \u001b[0;32mreturn\u001b[0m \u001b[0mself\u001b[0m\u001b[0;34m.\u001b[0m\u001b[0m_sock\u001b[0m\u001b[0;34m.\u001b[0m\u001b[0mrecv_into\u001b[0m\u001b[0;34m(\u001b[0m\u001b[0mb\u001b[0m\u001b[0;34m)\u001b[0m\u001b[0;34m\u001b[0m\u001b[0;34m\u001b[0m\u001b[0m\n\u001b[0m\u001b[1;32m    587\u001b[0m             \u001b[0;32mexcept\u001b[0m \u001b[0mtimeout\u001b[0m\u001b[0;34m:\u001b[0m\u001b[0;34m\u001b[0m\u001b[0;34m\u001b[0m\u001b[0m\n\u001b[1;32m    588\u001b[0m                 \u001b[0mself\u001b[0m\u001b[0;34m.\u001b[0m\u001b[0m_timeout_occurred\u001b[0m \u001b[0;34m=\u001b[0m \u001b[0;32mTrue\u001b[0m\u001b[0;34m\u001b[0m\u001b[0;34m\u001b[0m\u001b[0m\n",
      "\u001b[0;31mKeyboardInterrupt\u001b[0m: "
     ]
    }
   ],
   "source": [
    "for path in paths:\n",
    "    print(\"Reading: \" + str(path))\n",
    "    hgp_dict[path]= spark.read.parquet(path)\n",
    "    print(\"Values\")\n",
    "    print(hgp_dict)"
   ]
  },
  {
   "cell_type": "code",
   "execution_count": 35,
   "metadata": {
    "ExecuteTime": {
     "end_time": "2021-03-31T22:51:47.965740Z",
     "start_time": "2021-03-31T22:51:47.313406Z"
    }
   },
   "outputs": [],
   "source": [
    "df_read = (cu_read_google_sheet(url='https://docs.google.com/spreadsheets/d/1RwpsFUyXEMCMLqVdfK5gNrpcNgcobhqfC8yR9hxcXsw/edit#gid=343650079',\n",
    "                               sheet='cbd').select('url').withColumn('normalized_url', c.url))"
   ]
  },
  {
   "cell_type": "code",
   "execution_count": 36,
   "metadata": {
    "ExecuteTime": {
     "end_time": "2021-03-31T22:51:49.029553Z",
     "start_time": "2021-03-31T22:51:49.023306Z"
    }
   },
   "outputs": [
    {
     "name": "stdout",
     "output_type": "stream",
     "text": [
      "root\n",
      " |-- url: string (nullable = true)\n",
      " |-- normalized_url: string (nullable = true)\n",
      "\n"
     ]
    }
   ],
   "source": [
    "df_read = ['']"
   ]
  },
  {
   "cell_type": "code",
   "execution_count": 7,
   "metadata": {
    "ExecuteTime": {
     "end_time": "2021-04-22T22:44:15.232773Z",
     "start_time": "2021-04-22T22:44:15.228976Z"
    }
   },
   "outputs": [],
   "source": [
    "filtered_df_dict={}"
   ]
  },
  {
   "cell_type": "code",
   "execution_count": 13,
   "metadata": {
    "ExecuteTime": {
     "end_time": "2021-04-22T22:48:05.126625Z",
     "start_time": "2021-04-22T22:47:55.332143Z"
    }
   },
   "outputs": [
    {
     "name": "stdout",
     "output_type": "stream",
     "text": [
      "s3a://circleup-datascience/HGP/2021-03-04/combined_hgp_dimensions_scored_output_202101\n",
      "s3a://circleup-datascience/HGP/2021-01-07/combined_hgp_dimensions_scored_output_202012\n",
      "s3a://circleup-datascience/HGP/2020-12-16/combined_hgp_dimensions_scored_output_202011\n",
      "s3a://circleup-datascience/HGP/2020-11-12/combined_hgp_dimensions_scored_output_202010\n",
      "s3a://circleup-datascience/HGP/2020-10-15/combined_hgp_dimensions_scored_output_202009\n",
      "s3a://circleup-datascience/HGP/2020-09-22/combined_hgp_dimensions_scored_output_202008\n",
      "s3a://circleup-datascience/HGP/2020-09-08/combined_hgp_dimensions_scored_output_202007\n",
      "s3a://circleup-datascience/HGP/2020-07-06/combined_hgp_dimensions_scored_output_202005\n",
      "s3a://circleup-datascience/HGP/2020-06-03/combined_hgp_dimensions_scored_output_202004\n",
      "s3a://circleup-datascience/HGP/2020-05-04/combined_hgp_dimensions_scored_output_202003\n",
      "s3a://circleup-datascience/HGP/2020-04-09/combined_hgp_dimensions_scored_output_202002\n"
     ]
    }
   ],
   "source": [
    "for key in hgp_dict.keys():\n",
    "    print(key)\n",
    "    filtered_df_dict[key]=(hgp_dict[key]\n",
    "                           #.join(df_read, on = ['normalized_url'])\n",
    "                           .where(F.col('normalized_url')=='foodstirs.com')\n",
    "                           .select(['normalized_url', 'fct_date', 'parent_category_hgp_score']).toPandas())"
   ]
  },
  {
   "cell_type": "code",
   "execution_count": 14,
   "metadata": {
    "ExecuteTime": {
     "end_time": "2021-04-22T22:48:09.774487Z",
     "start_time": "2021-04-22T22:48:09.766318Z"
    }
   },
   "outputs": [],
   "source": [
    "outframe=pd.concat(filtered_df_dict.values(), ignore_index=True)"
   ]
  },
  {
   "cell_type": "code",
   "execution_count": 10,
   "metadata": {
    "ExecuteTime": {
     "end_time": "2021-04-22T22:44:55.869004Z",
     "start_time": "2021-04-22T22:44:55.861190Z"
    }
   },
   "outputs": [
    {
     "data": {
      "text/plain": [
       "11"
      ]
     },
     "execution_count": 10,
     "metadata": {},
     "output_type": "execute_result"
    }
   ],
   "source": [
    "len(outframe)"
   ]
  },
  {
   "cell_type": "code",
   "execution_count": 11,
   "metadata": {
    "ExecuteTime": {
     "end_time": "2021-04-22T22:45:05.513010Z",
     "start_time": "2021-04-22T22:45:05.504118Z"
    }
   },
   "outputs": [
    {
     "data": {
      "text/plain": [
       "2020-07    1\n",
       "2020-02    1\n",
       "2020-11    1\n",
       "2020-10    1\n",
       "2020-08    1\n",
       "2021-01    1\n",
       "2020-05    1\n",
       "2020-09    1\n",
       "2020-12    1\n",
       "2020-04    1\n",
       "2020-03    1\n",
       "Name: fct_date, dtype: int64"
      ]
     },
     "execution_count": 11,
     "metadata": {},
     "output_type": "execute_result"
    }
   ],
   "source": [
    "outframe['fct_date'].value_counts()"
   ]
  },
  {
   "cell_type": "code",
   "execution_count": 15,
   "metadata": {
    "ExecuteTime": {
     "end_time": "2021-04-22T22:48:13.540937Z",
     "start_time": "2021-04-22T22:48:13.526806Z"
    }
   },
   "outputs": [
    {
     "data": {
      "text/html": [
       "<div>\n",
       "<style>\n",
       "    .dataframe thead tr:only-child th {\n",
       "        text-align: right;\n",
       "    }\n",
       "\n",
       "    .dataframe thead th {\n",
       "        text-align: left;\n",
       "    }\n",
       "\n",
       "    .dataframe tbody tr th {\n",
       "        vertical-align: top;\n",
       "    }\n",
       "</style>\n",
       "<table border=\"1\" class=\"dataframe\">\n",
       "  <thead>\n",
       "    <tr style=\"text-align: right;\">\n",
       "      <th></th>\n",
       "      <th>normalized_url</th>\n",
       "      <th>fct_date</th>\n",
       "      <th>parent_category_hgp_score</th>\n",
       "    </tr>\n",
       "  </thead>\n",
       "  <tbody>\n",
       "    <tr>\n",
       "      <th>0</th>\n",
       "      <td>foodstirs.com</td>\n",
       "      <td>2021-01</td>\n",
       "      <td>0.001213</td>\n",
       "    </tr>\n",
       "    <tr>\n",
       "      <th>1</th>\n",
       "      <td>foodstirs.com</td>\n",
       "      <td>2020-12</td>\n",
       "      <td>0.000140</td>\n",
       "    </tr>\n",
       "    <tr>\n",
       "      <th>2</th>\n",
       "      <td>foodstirs.com</td>\n",
       "      <td>2020-11</td>\n",
       "      <td>0.000398</td>\n",
       "    </tr>\n",
       "    <tr>\n",
       "      <th>3</th>\n",
       "      <td>foodstirs.com</td>\n",
       "      <td>2020-10</td>\n",
       "      <td>0.002909</td>\n",
       "    </tr>\n",
       "    <tr>\n",
       "      <th>4</th>\n",
       "      <td>foodstirs.com</td>\n",
       "      <td>2020-09</td>\n",
       "      <td>0.001473</td>\n",
       "    </tr>\n",
       "    <tr>\n",
       "      <th>5</th>\n",
       "      <td>foodstirs.com</td>\n",
       "      <td>2020-08</td>\n",
       "      <td>0.002130</td>\n",
       "    </tr>\n",
       "    <tr>\n",
       "      <th>6</th>\n",
       "      <td>foodstirs.com</td>\n",
       "      <td>2020-07</td>\n",
       "      <td>0.000184</td>\n",
       "    </tr>\n",
       "    <tr>\n",
       "      <th>7</th>\n",
       "      <td>foodstirs.com</td>\n",
       "      <td>2020-05</td>\n",
       "      <td>0.007329</td>\n",
       "    </tr>\n",
       "    <tr>\n",
       "      <th>8</th>\n",
       "      <td>foodstirs.com</td>\n",
       "      <td>2020-04</td>\n",
       "      <td>0.253510</td>\n",
       "    </tr>\n",
       "    <tr>\n",
       "      <th>9</th>\n",
       "      <td>foodstirs.com</td>\n",
       "      <td>2020-03</td>\n",
       "      <td>0.025618</td>\n",
       "    </tr>\n",
       "    <tr>\n",
       "      <th>10</th>\n",
       "      <td>foodstirs.com</td>\n",
       "      <td>2020-02</td>\n",
       "      <td>0.010560</td>\n",
       "    </tr>\n",
       "  </tbody>\n",
       "</table>\n",
       "</div>"
      ],
      "text/plain": [
       "   normalized_url fct_date  parent_category_hgp_score\n",
       "0   foodstirs.com  2021-01                   0.001213\n",
       "1   foodstirs.com  2020-12                   0.000140\n",
       "2   foodstirs.com  2020-11                   0.000398\n",
       "3   foodstirs.com  2020-10                   0.002909\n",
       "4   foodstirs.com  2020-09                   0.001473\n",
       "5   foodstirs.com  2020-08                   0.002130\n",
       "6   foodstirs.com  2020-07                   0.000184\n",
       "7   foodstirs.com  2020-05                   0.007329\n",
       "8   foodstirs.com  2020-04                   0.253510\n",
       "9   foodstirs.com  2020-03                   0.025618\n",
       "10  foodstirs.com  2020-02                   0.010560"
      ]
     },
     "execution_count": 15,
     "metadata": {},
     "output_type": "execute_result"
    }
   ],
   "source": [
    "outframe"
   ]
  },
  {
   "cell_type": "code",
   "execution_count": 51,
   "metadata": {
    "ExecuteTime": {
     "end_time": "2021-03-31T22:58:13.164952Z",
     "start_time": "2021-03-31T22:58:12.665620Z"
    }
   },
   "outputs": [],
   "source": [
    "outframe.to_csv('cbd_historic_hgp_scores_210331.csv', index=False)"
   ]
  }
 ],
 "metadata": {
  "kernelspec": {
   "display_name": "Python 3",
   "language": "python",
   "name": "python3"
  },
  "language_info": {
   "codemirror_mode": {
    "name": "ipython",
    "version": 3
   },
   "file_extension": ".py",
   "mimetype": "text/x-python",
   "name": "python",
   "nbconvert_exporter": "python",
   "pygments_lexer": "ipython3",
   "version": "3.6.8"
  },
  "toc": {
   "colors": {
    "hover_highlight": "#DAA520",
    "navigate_num": "#000000",
    "navigate_text": "#333333",
    "running_highlight": "#FF0000",
    "selected_highlight": "#FFD700",
    "sidebar_border": "#EEEEEE",
    "wrapper_background": "#FFFFFF"
   },
   "moveMenuLeft": true,
   "nav_menu": {
    "height": "12px",
    "width": "252px"
   },
   "navigate_menu": true,
   "number_sections": true,
   "sideBar": true,
   "threshold": 4,
   "toc_cell": false,
   "toc_section_display": "block",
   "toc_window_display": false,
   "widenNotebook": false
  }
 },
 "nbformat": 4,
 "nbformat_minor": 5
}
