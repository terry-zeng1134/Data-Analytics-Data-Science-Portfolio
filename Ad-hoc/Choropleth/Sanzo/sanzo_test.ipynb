{
 "cells": [
  {
   "cell_type": "markdown",
   "metadata": {},
   "source": [
    "# Choropleth Test"
   ]
  },
  {
   "cell_type": "code",
   "execution_count": 74,
   "metadata": {},
   "outputs": [],
   "source": [
    "import datetime\n",
    "import pandas as pd\n",
    "import numpy as np\n",
    "\n",
    "\n",
    "import plotly\n",
    "import plotly.express as px\n",
    "from plotly import graph_objects as go\n"
   ]
  },
  {
   "cell_type": "markdown",
   "metadata": {},
   "source": [
    "# Import Data"
   ]
  },
  {
   "cell_type": "code",
   "execution_count": 75,
   "metadata": {},
   "outputs": [],
   "source": [
    "df = pd.read_csv(\"sanzo_dist_test.csv\")\n",
    "df[\"id\"]  = df[\"retailer_name\"] + \" \" + df[\"address\"]"
   ]
  },
  {
   "cell_type": "code",
   "execution_count": 76,
   "metadata": {},
   "outputs": [],
   "source": [
    "import pgeocode\n",
    "nomi = pgeocode.Nominatim('us')\n",
    "\n",
    "def fourtofive (x):\n",
    "    if len(x)<5: \n",
    "        return \"0\" + x\n",
    "    else:\n",
    "        return x\n",
    "\n",
    "df['zip_code5'] = df['zip_code'].astype(str)\n",
    "df['zip_code5'] = df['zip_code5'].map(lambda x : fourtofive(x))\n",
    "\n",
    "\n",
    "\n",
    "df['lat'] = (nomi.query_postal_code(df['zip_code5'].astype(str).tolist()).latitude)\n",
    "df['long'] = (nomi.query_postal_code(df['zip_code5'].astype(str).tolist()).longitude)\n",
    "df = df.sort_values(by=\"fct_date\")\n",
    "\n"
   ]
  },
  {
   "cell_type": "markdown",
   "metadata": {},
   "source": [
    "# Clean Data"
   ]
  },
  {
   "cell_type": "code",
   "execution_count": 77,
   "metadata": {},
   "outputs": [
    {
     "data": {
      "text/html": [
       "<div>\n",
       "<style scoped>\n",
       "    .dataframe tbody tr th:only-of-type {\n",
       "        vertical-align: middle;\n",
       "    }\n",
       "\n",
       "    .dataframe tbody tr th {\n",
       "        vertical-align: top;\n",
       "    }\n",
       "\n",
       "    .dataframe thead th {\n",
       "        text-align: right;\n",
       "    }\n",
       "</style>\n",
       "<table border=\"1\" class=\"dataframe\">\n",
       "  <thead>\n",
       "    <tr style=\"text-align: right;\">\n",
       "      <th></th>\n",
       "      <th>Unnamed: 0</th>\n",
       "      <th>normalized_url</th>\n",
       "      <th>brand_source_id</th>\n",
       "      <th>retailer_name</th>\n",
       "      <th>store_source_id</th>\n",
       "      <th>address</th>\n",
       "      <th>city</th>\n",
       "      <th>state</th>\n",
       "      <th>zip_code</th>\n",
       "      <th>country</th>\n",
       "      <th>latitude</th>\n",
       "      <th>longitude</th>\n",
       "      <th>store_info</th>\n",
       "      <th>id</th>\n",
       "      <th>zip_code5</th>\n",
       "      <th>lat</th>\n",
       "      <th>long</th>\n",
       "    </tr>\n",
       "  </thead>\n",
       "  <tbody>\n",
       "    <tr>\n",
       "      <th>712</th>\n",
       "      <td>712</td>\n",
       "      <td>drinksanzo.com</td>\n",
       "      <td>NaN</td>\n",
       "      <td>Foodtown</td>\n",
       "      <td>1952</td>\n",
       "      <td>1291 Broadway</td>\n",
       "      <td>Brooklyn</td>\n",
       "      <td>NY</td>\n",
       "      <td>11221</td>\n",
       "      <td>USA</td>\n",
       "      <td>40.690968</td>\n",
       "      <td>-73.92630</td>\n",
       "      <td>&lt;b&gt;Foodtown&lt;/b&gt;&lt;br&gt;&lt;br&gt;1291 Broadway&lt;br&gt;Brookl...</td>\n",
       "      <td>Foodtown 1291 Broadway</td>\n",
       "      <td>11221</td>\n",
       "      <td>40.6907</td>\n",
       "      <td>-73.9274</td>\n",
       "    </tr>\n",
       "    <tr>\n",
       "      <th>727</th>\n",
       "      <td>727</td>\n",
       "      <td>drinksanzo.com</td>\n",
       "      <td>NaN</td>\n",
       "      <td>Foodtown</td>\n",
       "      <td>53</td>\n",
       "      <td>1420 Fulton St</td>\n",
       "      <td>Brooklyn</td>\n",
       "      <td>NY</td>\n",
       "      <td>11216</td>\n",
       "      <td>USA</td>\n",
       "      <td>40.679730</td>\n",
       "      <td>-73.94439</td>\n",
       "      <td>&lt;b&gt;Foodtown&lt;/b&gt;&lt;br&gt;&lt;br&gt;1420 Fulton St&lt;br&gt;Brook...</td>\n",
       "      <td>Foodtown 1420 Fulton St</td>\n",
       "      <td>11216</td>\n",
       "      <td>40.6794</td>\n",
       "      <td>-73.9496</td>\n",
       "    </tr>\n",
       "    <tr>\n",
       "      <th>697</th>\n",
       "      <td>697</td>\n",
       "      <td>drinksanzo.com</td>\n",
       "      <td>NaN</td>\n",
       "      <td>Foodtown</td>\n",
       "      <td>1952</td>\n",
       "      <td>1291 Broadway</td>\n",
       "      <td>Brooklyn</td>\n",
       "      <td>NY</td>\n",
       "      <td>11221</td>\n",
       "      <td>USA</td>\n",
       "      <td>40.690968</td>\n",
       "      <td>-73.92630</td>\n",
       "      <td>&lt;b&gt;Foodtown&lt;/b&gt;&lt;br&gt;&lt;br&gt;1291 Broadway&lt;br&gt;Brookl...</td>\n",
       "      <td>Foodtown 1291 Broadway</td>\n",
       "      <td>11221</td>\n",
       "      <td>40.6907</td>\n",
       "      <td>-73.9274</td>\n",
       "    </tr>\n",
       "    <tr>\n",
       "      <th>1</th>\n",
       "      <td>1</td>\n",
       "      <td>drinksanzo.com</td>\n",
       "      <td>NaN</td>\n",
       "      <td>Food Cellar</td>\n",
       "      <td>3019</td>\n",
       "      <td>4-85 47th Rd</td>\n",
       "      <td>Long Island City</td>\n",
       "      <td>NY</td>\n",
       "      <td>11101</td>\n",
       "      <td>USA</td>\n",
       "      <td>40.745300</td>\n",
       "      <td>-73.95593</td>\n",
       "      <td>&lt;b&gt;Food Cellar&lt;/b&gt;&lt;br&gt;&lt;br&gt;4-85 47th Rd&lt;br&gt;Long...</td>\n",
       "      <td>Food Cellar 4-85 47th Rd</td>\n",
       "      <td>11101</td>\n",
       "      <td>40.7446</td>\n",
       "      <td>-73.9345</td>\n",
       "    </tr>\n",
       "    <tr>\n",
       "      <th>724</th>\n",
       "      <td>724</td>\n",
       "      <td>drinksanzo.com</td>\n",
       "      <td>NaN</td>\n",
       "      <td>Foodtown</td>\n",
       "      <td>53</td>\n",
       "      <td>1420 Fulton St</td>\n",
       "      <td>Brooklyn</td>\n",
       "      <td>NY</td>\n",
       "      <td>11216</td>\n",
       "      <td>USA</td>\n",
       "      <td>40.679730</td>\n",
       "      <td>-73.94439</td>\n",
       "      <td>&lt;b&gt;Foodtown&lt;/b&gt;&lt;br&gt;&lt;br&gt;1420 Fulton St&lt;br&gt;Brook...</td>\n",
       "      <td>Foodtown 1420 Fulton St</td>\n",
       "      <td>11216</td>\n",
       "      <td>40.6794</td>\n",
       "      <td>-73.9496</td>\n",
       "    </tr>\n",
       "    <tr>\n",
       "      <th>...</th>\n",
       "      <td>...</td>\n",
       "      <td>...</td>\n",
       "      <td>...</td>\n",
       "      <td>...</td>\n",
       "      <td>...</td>\n",
       "      <td>...</td>\n",
       "      <td>...</td>\n",
       "      <td>...</td>\n",
       "      <td>...</td>\n",
       "      <td>...</td>\n",
       "      <td>...</td>\n",
       "      <td>...</td>\n",
       "      <td>...</td>\n",
       "      <td>...</td>\n",
       "      <td>...</td>\n",
       "      <td>...</td>\n",
       "      <td>...</td>\n",
       "    </tr>\n",
       "    <tr>\n",
       "      <th>278</th>\n",
       "      <td>278</td>\n",
       "      <td>drinksanzo.com</td>\n",
       "      <td>NaN</td>\n",
       "      <td>Whole Foods Market</td>\n",
       "      <td>WHB292935</td>\n",
       "      <td>200 Harker Pl Ste 100</td>\n",
       "      <td>Annapolis</td>\n",
       "      <td>MD</td>\n",
       "      <td>21401</td>\n",
       "      <td>US</td>\n",
       "      <td>38.981700</td>\n",
       "      <td>-76.53990</td>\n",
       "      <td>&lt;b&gt;Whole Foods Market&lt;/b&gt;&lt;br&gt;&lt;br&gt;200 Harker Pl...</td>\n",
       "      <td>Whole Foods Market 200 Harker Pl Ste 100</td>\n",
       "      <td>21401</td>\n",
       "      <td>38.9898</td>\n",
       "      <td>-76.5501</td>\n",
       "    </tr>\n",
       "    <tr>\n",
       "      <th>277</th>\n",
       "      <td>277</td>\n",
       "      <td>drinksanzo.com</td>\n",
       "      <td>NaN</td>\n",
       "      <td>Whole Foods Market</td>\n",
       "      <td>WHB292929</td>\n",
       "      <td>1425 Central Ave</td>\n",
       "      <td>Albany</td>\n",
       "      <td>NY</td>\n",
       "      <td>12205</td>\n",
       "      <td>US</td>\n",
       "      <td>42.707600</td>\n",
       "      <td>-73.82110</td>\n",
       "      <td>&lt;b&gt;Whole Foods Market&lt;/b&gt;&lt;br&gt;&lt;br&gt;1425 Central ...</td>\n",
       "      <td>Whole Foods Market 1425 Central Ave</td>\n",
       "      <td>12205</td>\n",
       "      <td>42.7198</td>\n",
       "      <td>-73.8207</td>\n",
       "    </tr>\n",
       "    <tr>\n",
       "      <th>549</th>\n",
       "      <td>549</td>\n",
       "      <td>drinksanzo.com</td>\n",
       "      <td>NaN</td>\n",
       "      <td>Whole Foods Market</td>\n",
       "      <td>WHB293353</td>\n",
       "      <td>110 Bloomingdale Rd</td>\n",
       "      <td>White Plains</td>\n",
       "      <td>NY</td>\n",
       "      <td>10605</td>\n",
       "      <td>US</td>\n",
       "      <td>41.027300</td>\n",
       "      <td>-73.75820</td>\n",
       "      <td>&lt;b&gt;Whole Foods Market&lt;/b&gt;&lt;br&gt;&lt;br&gt;110 Bloomingd...</td>\n",
       "      <td>Whole Foods Market 110 Bloomingdale Rd</td>\n",
       "      <td>10605</td>\n",
       "      <td>41.0141</td>\n",
       "      <td>-73.7552</td>\n",
       "    </tr>\n",
       "    <tr>\n",
       "      <th>288</th>\n",
       "      <td>288</td>\n",
       "      <td>drinksanzo.com</td>\n",
       "      <td>NaN</td>\n",
       "      <td>Whole Foods Market</td>\n",
       "      <td>WHB168857</td>\n",
       "      <td>2024 W Broad St</td>\n",
       "      <td>Richmond</td>\n",
       "      <td>VA</td>\n",
       "      <td>23220</td>\n",
       "      <td>US</td>\n",
       "      <td>37.557600</td>\n",
       "      <td>-77.46150</td>\n",
       "      <td>&lt;b&gt;Whole Foods Market&lt;/b&gt;&lt;br&gt;&lt;br&gt;2024 W Broad ...</td>\n",
       "      <td>Whole Foods Market 2024 W Broad St</td>\n",
       "      <td>23220</td>\n",
       "      <td>37.5498</td>\n",
       "      <td>-77.4588</td>\n",
       "    </tr>\n",
       "    <tr>\n",
       "      <th>30</th>\n",
       "      <td>30</td>\n",
       "      <td>drinksanzo.com</td>\n",
       "      <td>NaN</td>\n",
       "      <td>ShopRite</td>\n",
       "      <td>WKA149557</td>\n",
       "      <td>200 Shippan Ave</td>\n",
       "      <td>Stamford</td>\n",
       "      <td>CT</td>\n",
       "      <td>6902</td>\n",
       "      <td>US</td>\n",
       "      <td>41.048300</td>\n",
       "      <td>-73.52410</td>\n",
       "      <td>&lt;b&gt;ShopRite&lt;/b&gt;&lt;br&gt;&lt;br&gt;200 Shippan Ave&lt;br&gt;Stam...</td>\n",
       "      <td>ShopRite 200 Shippan Ave</td>\n",
       "      <td>06902</td>\n",
       "      <td>41.0602</td>\n",
       "      <td>-73.5445</td>\n",
       "    </tr>\n",
       "  </tbody>\n",
       "</table>\n",
       "<p>730 rows × 17 columns</p>\n",
       "</div>"
      ],
      "text/plain": [
       "     Unnamed: 0  normalized_url  brand_source_id       retailer_name  \\\n",
       "712         712  drinksanzo.com              NaN            Foodtown   \n",
       "727         727  drinksanzo.com              NaN            Foodtown   \n",
       "697         697  drinksanzo.com              NaN            Foodtown   \n",
       "1             1  drinksanzo.com              NaN         Food Cellar   \n",
       "724         724  drinksanzo.com              NaN            Foodtown   \n",
       "..          ...             ...              ...                 ...   \n",
       "278         278  drinksanzo.com              NaN  Whole Foods Market   \n",
       "277         277  drinksanzo.com              NaN  Whole Foods Market   \n",
       "549         549  drinksanzo.com              NaN  Whole Foods Market   \n",
       "288         288  drinksanzo.com              NaN  Whole Foods Market   \n",
       "30           30  drinksanzo.com              NaN            ShopRite   \n",
       "\n",
       "    store_source_id                address              city state  zip_code  \\\n",
       "712            1952          1291 Broadway          Brooklyn    NY     11221   \n",
       "727              53         1420 Fulton St          Brooklyn    NY     11216   \n",
       "697            1952          1291 Broadway          Brooklyn    NY     11221   \n",
       "1              3019           4-85 47th Rd  Long Island City    NY     11101   \n",
       "724              53         1420 Fulton St          Brooklyn    NY     11216   \n",
       "..              ...                    ...               ...   ...       ...   \n",
       "278       WHB292935  200 Harker Pl Ste 100         Annapolis    MD     21401   \n",
       "277       WHB292929       1425 Central Ave            Albany    NY     12205   \n",
       "549       WHB293353    110 Bloomingdale Rd      White Plains    NY     10605   \n",
       "288       WHB168857        2024 W Broad St          Richmond    VA     23220   \n",
       "30        WKA149557        200 Shippan Ave          Stamford    CT      6902   \n",
       "\n",
       "    country   latitude  longitude  \\\n",
       "712     USA  40.690968  -73.92630   \n",
       "727     USA  40.679730  -73.94439   \n",
       "697     USA  40.690968  -73.92630   \n",
       "1       USA  40.745300  -73.95593   \n",
       "724     USA  40.679730  -73.94439   \n",
       "..      ...        ...        ...   \n",
       "278      US  38.981700  -76.53990   \n",
       "277      US  42.707600  -73.82110   \n",
       "549      US  41.027300  -73.75820   \n",
       "288      US  37.557600  -77.46150   \n",
       "30       US  41.048300  -73.52410   \n",
       "\n",
       "                                            store_info  \\\n",
       "712  <b>Foodtown</b><br><br>1291 Broadway<br>Brookl...   \n",
       "727  <b>Foodtown</b><br><br>1420 Fulton St<br>Brook...   \n",
       "697  <b>Foodtown</b><br><br>1291 Broadway<br>Brookl...   \n",
       "1    <b>Food Cellar</b><br><br>4-85 47th Rd<br>Long...   \n",
       "724  <b>Foodtown</b><br><br>1420 Fulton St<br>Brook...   \n",
       "..                                                 ...   \n",
       "278  <b>Whole Foods Market</b><br><br>200 Harker Pl...   \n",
       "277  <b>Whole Foods Market</b><br><br>1425 Central ...   \n",
       "549  <b>Whole Foods Market</b><br><br>110 Bloomingd...   \n",
       "288  <b>Whole Foods Market</b><br><br>2024 W Broad ...   \n",
       "30   <b>ShopRite</b><br><br>200 Shippan Ave<br>Stam...   \n",
       "\n",
       "                                           id zip_code5      lat     long  \n",
       "712                    Foodtown 1291 Broadway     11221  40.6907 -73.9274  \n",
       "727                   Foodtown 1420 Fulton St     11216  40.6794 -73.9496  \n",
       "697                    Foodtown 1291 Broadway     11221  40.6907 -73.9274  \n",
       "1                    Food Cellar 4-85 47th Rd     11101  40.7446 -73.9345  \n",
       "724                   Foodtown 1420 Fulton St     11216  40.6794 -73.9496  \n",
       "..                                        ...       ...      ...      ...  \n",
       "278  Whole Foods Market 200 Harker Pl Ste 100     21401  38.9898 -76.5501  \n",
       "277       Whole Foods Market 1425 Central Ave     12205  42.7198 -73.8207  \n",
       "549    Whole Foods Market 110 Bloomingdale Rd     10605  41.0141 -73.7552  \n",
       "288        Whole Foods Market 2024 W Broad St     23220  37.5498 -77.4588  \n",
       "30                   ShopRite 200 Shippan Ave     06902  41.0602 -73.5445  \n",
       "\n",
       "[730 rows x 17 columns]"
      ]
     },
     "execution_count": 77,
     "metadata": {},
     "output_type": "execute_result"
    }
   ],
   "source": [
    "#get long/lat from zip code\n",
    "retailer_li = df[\"id\"].unique().tolist()\n",
    "dates = df[\"fct_date\"].unique().tolist()\n",
    "\n",
    "df_retailers = df.drop(\"fct_date\", axis=1).drop_duplicates()\n",
    "\n",
    "df_retailers\n",
    "    \n",
    "\n"
   ]
  },
  {
   "cell_type": "markdown",
   "metadata": {},
   "source": [
    "# Visualize"
   ]
  },
  {
   "cell_type": "code",
   "execution_count": 78,
   "metadata": {},
   "outputs": [
    {
     "data": {
      "application/vnd.plotly.v1+json": {
       "config": {
        "plotlyServerURL": "https://plot.ly"
       },
       "data": [
        {
         "geo": "geo",
         "hovertemplate": "retailer_name=Foodtown<br>fct_date=2021-03<br>lat=%{lat}<br>long=%{lon}<extra></extra>",
         "ids": [
          "Foodtown 1291 Broadway"
         ],
         "lat": [
          40.6907
         ],
         "legendgroup": "Foodtown",
         "lon": [
          -73.9274
         ],
         "marker": {
          "color": "#636efa",
          "symbol": "circle"
         },
         "mode": "markers",
         "name": "Foodtown",
         "showlegend": true,
         "type": "scattergeo"
        }
       ],
       "layout": {
        "geo": {
         "center": {},
         "domain": {
          "x": [
           0,
           1
          ],
          "y": [
           0,
           1
          ]
         },
         "scope": "usa"
        },
        "legend": {
         "title": {
          "text": "retailer_name"
         },
         "tracegroupgap": 0
        },
        "margin": {
         "t": 60
        },
        "template": {
         "data": {
          "bar": [
           {
            "error_x": {
             "color": "#2a3f5f"
            },
            "error_y": {
             "color": "#2a3f5f"
            },
            "marker": {
             "line": {
              "color": "#E5ECF6",
              "width": 0.5
             },
             "pattern": {
              "fillmode": "overlay",
              "size": 10,
              "solidity": 0.2
             }
            },
            "type": "bar"
           }
          ],
          "barpolar": [
           {
            "marker": {
             "line": {
              "color": "#E5ECF6",
              "width": 0.5
             },
             "pattern": {
              "fillmode": "overlay",
              "size": 10,
              "solidity": 0.2
             }
            },
            "type": "barpolar"
           }
          ],
          "carpet": [
           {
            "aaxis": {
             "endlinecolor": "#2a3f5f",
             "gridcolor": "white",
             "linecolor": "white",
             "minorgridcolor": "white",
             "startlinecolor": "#2a3f5f"
            },
            "baxis": {
             "endlinecolor": "#2a3f5f",
             "gridcolor": "white",
             "linecolor": "white",
             "minorgridcolor": "white",
             "startlinecolor": "#2a3f5f"
            },
            "type": "carpet"
           }
          ],
          "choropleth": [
           {
            "colorbar": {
             "outlinewidth": 0,
             "ticks": ""
            },
            "type": "choropleth"
           }
          ],
          "contour": [
           {
            "colorbar": {
             "outlinewidth": 0,
             "ticks": ""
            },
            "colorscale": [
             [
              0,
              "#0d0887"
             ],
             [
              0.1111111111111111,
              "#46039f"
             ],
             [
              0.2222222222222222,
              "#7201a8"
             ],
             [
              0.3333333333333333,
              "#9c179e"
             ],
             [
              0.4444444444444444,
              "#bd3786"
             ],
             [
              0.5555555555555556,
              "#d8576b"
             ],
             [
              0.6666666666666666,
              "#ed7953"
             ],
             [
              0.7777777777777778,
              "#fb9f3a"
             ],
             [
              0.8888888888888888,
              "#fdca26"
             ],
             [
              1,
              "#f0f921"
             ]
            ],
            "type": "contour"
           }
          ],
          "contourcarpet": [
           {
            "colorbar": {
             "outlinewidth": 0,
             "ticks": ""
            },
            "type": "contourcarpet"
           }
          ],
          "heatmap": [
           {
            "colorbar": {
             "outlinewidth": 0,
             "ticks": ""
            },
            "colorscale": [
             [
              0,
              "#0d0887"
             ],
             [
              0.1111111111111111,
              "#46039f"
             ],
             [
              0.2222222222222222,
              "#7201a8"
             ],
             [
              0.3333333333333333,
              "#9c179e"
             ],
             [
              0.4444444444444444,
              "#bd3786"
             ],
             [
              0.5555555555555556,
              "#d8576b"
             ],
             [
              0.6666666666666666,
              "#ed7953"
             ],
             [
              0.7777777777777778,
              "#fb9f3a"
             ],
             [
              0.8888888888888888,
              "#fdca26"
             ],
             [
              1,
              "#f0f921"
             ]
            ],
            "type": "heatmap"
           }
          ],
          "heatmapgl": [
           {
            "colorbar": {
             "outlinewidth": 0,
             "ticks": ""
            },
            "colorscale": [
             [
              0,
              "#0d0887"
             ],
             [
              0.1111111111111111,
              "#46039f"
             ],
             [
              0.2222222222222222,
              "#7201a8"
             ],
             [
              0.3333333333333333,
              "#9c179e"
             ],
             [
              0.4444444444444444,
              "#bd3786"
             ],
             [
              0.5555555555555556,
              "#d8576b"
             ],
             [
              0.6666666666666666,
              "#ed7953"
             ],
             [
              0.7777777777777778,
              "#fb9f3a"
             ],
             [
              0.8888888888888888,
              "#fdca26"
             ],
             [
              1,
              "#f0f921"
             ]
            ],
            "type": "heatmapgl"
           }
          ],
          "histogram": [
           {
            "marker": {
             "pattern": {
              "fillmode": "overlay",
              "size": 10,
              "solidity": 0.2
             }
            },
            "type": "histogram"
           }
          ],
          "histogram2d": [
           {
            "colorbar": {
             "outlinewidth": 0,
             "ticks": ""
            },
            "colorscale": [
             [
              0,
              "#0d0887"
             ],
             [
              0.1111111111111111,
              "#46039f"
             ],
             [
              0.2222222222222222,
              "#7201a8"
             ],
             [
              0.3333333333333333,
              "#9c179e"
             ],
             [
              0.4444444444444444,
              "#bd3786"
             ],
             [
              0.5555555555555556,
              "#d8576b"
             ],
             [
              0.6666666666666666,
              "#ed7953"
             ],
             [
              0.7777777777777778,
              "#fb9f3a"
             ],
             [
              0.8888888888888888,
              "#fdca26"
             ],
             [
              1,
              "#f0f921"
             ]
            ],
            "type": "histogram2d"
           }
          ],
          "histogram2dcontour": [
           {
            "colorbar": {
             "outlinewidth": 0,
             "ticks": ""
            },
            "colorscale": [
             [
              0,
              "#0d0887"
             ],
             [
              0.1111111111111111,
              "#46039f"
             ],
             [
              0.2222222222222222,
              "#7201a8"
             ],
             [
              0.3333333333333333,
              "#9c179e"
             ],
             [
              0.4444444444444444,
              "#bd3786"
             ],
             [
              0.5555555555555556,
              "#d8576b"
             ],
             [
              0.6666666666666666,
              "#ed7953"
             ],
             [
              0.7777777777777778,
              "#fb9f3a"
             ],
             [
              0.8888888888888888,
              "#fdca26"
             ],
             [
              1,
              "#f0f921"
             ]
            ],
            "type": "histogram2dcontour"
           }
          ],
          "mesh3d": [
           {
            "colorbar": {
             "outlinewidth": 0,
             "ticks": ""
            },
            "type": "mesh3d"
           }
          ],
          "parcoords": [
           {
            "line": {
             "colorbar": {
              "outlinewidth": 0,
              "ticks": ""
             }
            },
            "type": "parcoords"
           }
          ],
          "pie": [
           {
            "automargin": true,
            "type": "pie"
           }
          ],
          "scatter": [
           {
            "marker": {
             "colorbar": {
              "outlinewidth": 0,
              "ticks": ""
             }
            },
            "type": "scatter"
           }
          ],
          "scatter3d": [
           {
            "line": {
             "colorbar": {
              "outlinewidth": 0,
              "ticks": ""
             }
            },
            "marker": {
             "colorbar": {
              "outlinewidth": 0,
              "ticks": ""
             }
            },
            "type": "scatter3d"
           }
          ],
          "scattercarpet": [
           {
            "marker": {
             "colorbar": {
              "outlinewidth": 0,
              "ticks": ""
             }
            },
            "type": "scattercarpet"
           }
          ],
          "scattergeo": [
           {
            "marker": {
             "colorbar": {
              "outlinewidth": 0,
              "ticks": ""
             }
            },
            "type": "scattergeo"
           }
          ],
          "scattergl": [
           {
            "marker": {
             "colorbar": {
              "outlinewidth": 0,
              "ticks": ""
             }
            },
            "type": "scattergl"
           }
          ],
          "scattermapbox": [
           {
            "marker": {
             "colorbar": {
              "outlinewidth": 0,
              "ticks": ""
             }
            },
            "type": "scattermapbox"
           }
          ],
          "scatterpolar": [
           {
            "marker": {
             "colorbar": {
              "outlinewidth": 0,
              "ticks": ""
             }
            },
            "type": "scatterpolar"
           }
          ],
          "scatterpolargl": [
           {
            "marker": {
             "colorbar": {
              "outlinewidth": 0,
              "ticks": ""
             }
            },
            "type": "scatterpolargl"
           }
          ],
          "scatterternary": [
           {
            "marker": {
             "colorbar": {
              "outlinewidth": 0,
              "ticks": ""
             }
            },
            "type": "scatterternary"
           }
          ],
          "surface": [
           {
            "colorbar": {
             "outlinewidth": 0,
             "ticks": ""
            },
            "colorscale": [
             [
              0,
              "#0d0887"
             ],
             [
              0.1111111111111111,
              "#46039f"
             ],
             [
              0.2222222222222222,
              "#7201a8"
             ],
             [
              0.3333333333333333,
              "#9c179e"
             ],
             [
              0.4444444444444444,
              "#bd3786"
             ],
             [
              0.5555555555555556,
              "#d8576b"
             ],
             [
              0.6666666666666666,
              "#ed7953"
             ],
             [
              0.7777777777777778,
              "#fb9f3a"
             ],
             [
              0.8888888888888888,
              "#fdca26"
             ],
             [
              1,
              "#f0f921"
             ]
            ],
            "type": "surface"
           }
          ],
          "table": [
           {
            "cells": {
             "fill": {
              "color": "#EBF0F8"
             },
             "line": {
              "color": "white"
             }
            },
            "header": {
             "fill": {
              "color": "#C8D4E3"
             },
             "line": {
              "color": "white"
             }
            },
            "type": "table"
           }
          ]
         },
         "layout": {
          "annotationdefaults": {
           "arrowcolor": "#2a3f5f",
           "arrowhead": 0,
           "arrowwidth": 1
          },
          "autotypenumbers": "strict",
          "coloraxis": {
           "colorbar": {
            "outlinewidth": 0,
            "ticks": ""
           }
          },
          "colorscale": {
           "diverging": [
            [
             0,
             "#8e0152"
            ],
            [
             0.1,
             "#c51b7d"
            ],
            [
             0.2,
             "#de77ae"
            ],
            [
             0.3,
             "#f1b6da"
            ],
            [
             0.4,
             "#fde0ef"
            ],
            [
             0.5,
             "#f7f7f7"
            ],
            [
             0.6,
             "#e6f5d0"
            ],
            [
             0.7,
             "#b8e186"
            ],
            [
             0.8,
             "#7fbc41"
            ],
            [
             0.9,
             "#4d9221"
            ],
            [
             1,
             "#276419"
            ]
           ],
           "sequential": [
            [
             0,
             "#0d0887"
            ],
            [
             0.1111111111111111,
             "#46039f"
            ],
            [
             0.2222222222222222,
             "#7201a8"
            ],
            [
             0.3333333333333333,
             "#9c179e"
            ],
            [
             0.4444444444444444,
             "#bd3786"
            ],
            [
             0.5555555555555556,
             "#d8576b"
            ],
            [
             0.6666666666666666,
             "#ed7953"
            ],
            [
             0.7777777777777778,
             "#fb9f3a"
            ],
            [
             0.8888888888888888,
             "#fdca26"
            ],
            [
             1,
             "#f0f921"
            ]
           ],
           "sequentialminus": [
            [
             0,
             "#0d0887"
            ],
            [
             0.1111111111111111,
             "#46039f"
            ],
            [
             0.2222222222222222,
             "#7201a8"
            ],
            [
             0.3333333333333333,
             "#9c179e"
            ],
            [
             0.4444444444444444,
             "#bd3786"
            ],
            [
             0.5555555555555556,
             "#d8576b"
            ],
            [
             0.6666666666666666,
             "#ed7953"
            ],
            [
             0.7777777777777778,
             "#fb9f3a"
            ],
            [
             0.8888888888888888,
             "#fdca26"
            ],
            [
             1,
             "#f0f921"
            ]
           ]
          },
          "colorway": [
           "#636efa",
           "#EF553B",
           "#00cc96",
           "#ab63fa",
           "#FFA15A",
           "#19d3f3",
           "#FF6692",
           "#B6E880",
           "#FF97FF",
           "#FECB52"
          ],
          "font": {
           "color": "#2a3f5f"
          },
          "geo": {
           "bgcolor": "white",
           "lakecolor": "white",
           "landcolor": "#E5ECF6",
           "showlakes": true,
           "showland": true,
           "subunitcolor": "white"
          },
          "hoverlabel": {
           "align": "left"
          },
          "hovermode": "closest",
          "mapbox": {
           "style": "light"
          },
          "paper_bgcolor": "white",
          "plot_bgcolor": "#E5ECF6",
          "polar": {
           "angularaxis": {
            "gridcolor": "white",
            "linecolor": "white",
            "ticks": ""
           },
           "bgcolor": "#E5ECF6",
           "radialaxis": {
            "gridcolor": "white",
            "linecolor": "white",
            "ticks": ""
           }
          },
          "scene": {
           "xaxis": {
            "backgroundcolor": "#E5ECF6",
            "gridcolor": "white",
            "gridwidth": 2,
            "linecolor": "white",
            "showbackground": true,
            "ticks": "",
            "zerolinecolor": "white"
           },
           "yaxis": {
            "backgroundcolor": "#E5ECF6",
            "gridcolor": "white",
            "gridwidth": 2,
            "linecolor": "white",
            "showbackground": true,
            "ticks": "",
            "zerolinecolor": "white"
           },
           "zaxis": {
            "backgroundcolor": "#E5ECF6",
            "gridcolor": "white",
            "gridwidth": 2,
            "linecolor": "white",
            "showbackground": true,
            "ticks": "",
            "zerolinecolor": "white"
           }
          },
          "shapedefaults": {
           "line": {
            "color": "#2a3f5f"
           }
          },
          "ternary": {
           "aaxis": {
            "gridcolor": "white",
            "linecolor": "white",
            "ticks": ""
           },
           "baxis": {
            "gridcolor": "white",
            "linecolor": "white",
            "ticks": ""
           },
           "bgcolor": "#E5ECF6",
           "caxis": {
            "gridcolor": "white",
            "linecolor": "white",
            "ticks": ""
           }
          },
          "title": {
           "x": 0.05
          },
          "xaxis": {
           "automargin": true,
           "gridcolor": "white",
           "linecolor": "white",
           "ticks": "",
           "title": {
            "standoff": 15
           },
           "zerolinecolor": "white",
           "zerolinewidth": 2
          },
          "yaxis": {
           "automargin": true,
           "gridcolor": "white",
           "linecolor": "white",
           "ticks": "",
           "title": {
            "standoff": 15
           },
           "zerolinecolor": "white",
           "zerolinewidth": 2
          }
         }
        }
       }
      }
     },
     "metadata": {},
     "output_type": "display_data"
    }
   ],
   "source": [
    "#scatter geo\n",
    "df_s = df[df['fct_date']==\"2021-03\"]\n",
    "\n",
    "\n",
    "fig = px.scatter_geo(\n",
    "        data_frame = df_s,\n",
    "        lat = 'lat',\n",
    "        lon = 'long',\n",
    "        color = 'retailer_name',\n",
    "        animation_frame=\"fct_date\", \n",
    "        animation_group=\"id\"\n",
    "        \n",
    ")\n",
    "\n",
    "fig.update_layout(\n",
    "        geo_scope='usa'\n",
    ")\n",
    "fig.show()\n"
   ]
  },
  {
   "cell_type": "code",
   "execution_count": 79,
   "metadata": {},
   "outputs": [
    {
     "name": "stderr",
     "output_type": "stream",
     "text": [
      "/var/folders/jp/4n2c9lxx3k9c9bvs42tgmwzc0000gn/T/ipykernel_61494/3551892515.py:27: SettingWithCopyWarning:\n",
      "\n",
      "\n",
      "A value is trying to be set on a copy of a slice from a DataFrame.\n",
      "Try using .loc[row_indexer,col_indexer] = value instead\n",
      "\n",
      "See the caveats in the documentation: https://pandas.pydata.org/pandas-docs/stable/user_guide/indexing.html#returning-a-view-versus-a-copy\n",
      "\n"
     ]
    },
    {
     "data": {
      "application/vnd.plotly.v1+json": {
       "config": {
        "plotlyServerURL": "https://plot.ly"
       },
       "data": [
        {
         "lat": [
          "40.6907"
         ],
         "lon": [
          "-73.9274"
         ],
         "marker": {
          "autocolorscale": true,
          "color": [
           "#10aefd"
          ]
         },
         "mode": "markers",
         "showlegend": false,
         "text": [
          "Foodtown 1291 Broadway"
         ],
         "type": "scattergeo"
        },
        {
         "lat": [
          "40.6794",
          "40.6907"
         ],
         "lon": [
          "-73.9496",
          "-73.9274"
         ],
         "marker": {
          "autocolorscale": true,
          "color": [
           "#10aefd",
           "#10aefd"
          ]
         },
         "mode": "markers",
         "showlegend": false,
         "text": [
          "Foodtown 1420 Fulton St",
          "Foodtown 1291 Broadway"
         ],
         "type": "scattergeo"
        },
        {
         "lat": [
          "40.7446",
          "40.6794",
          "40.6907"
         ],
         "lon": [
          "-73.9345",
          "-73.9496",
          "-73.9274"
         ],
         "marker": {
          "autocolorscale": true,
          "color": [
           "#db9758",
           "#10aefd",
           "#10aefd"
          ]
         },
         "mode": "markers",
         "showlegend": false,
         "text": [
          "Food Cellar 4-85 47th Rd",
          "Foodtown 1420 Fulton St",
          "Foodtown 1291 Broadway"
         ],
         "type": "scattergeo"
        },
        {
         "lat": [
          "40.7446",
          "40.6794",
          "40.6907"
         ],
         "lon": [
          "-73.9345",
          "-73.9496",
          "-73.9274"
         ],
         "marker": {
          "autocolorscale": true,
          "color": [
           "#db9758",
           "#10aefd",
           "#10aefd"
          ]
         },
         "mode": "markers",
         "showlegend": false,
         "text": [
          "Food Cellar 4-85 47th Rd",
          "Foodtown 1420 Fulton St",
          "Foodtown 1291 Broadway"
         ],
         "type": "scattergeo"
        },
        {
         "lat": [
          "40.6794",
          "40.7446",
          "40.6907"
         ],
         "lon": [
          "-73.9496",
          "-73.9345",
          "-73.9274"
         ],
         "marker": {
          "autocolorscale": true,
          "color": [
           "#10aefd",
           "#db9758",
           "#10aefd"
          ]
         },
         "mode": "markers",
         "showlegend": false,
         "text": [
          "Foodtown 1420 Fulton St",
          "Food Cellar 4-85 47th Rd",
          "Foodtown 1291 Broadway"
         ],
         "type": "scattergeo"
        },
        {
         "lat": [
          "40.6907",
          "40.6794"
         ],
         "lon": [
          "-73.9274",
          "-73.9496"
         ],
         "marker": {
          "autocolorscale": true,
          "color": [
           "#10aefd",
           "#10aefd"
          ]
         },
         "mode": "markers",
         "showlegend": false,
         "text": [
          "Foodtown 1291 Broadway",
          "Foodtown 1420 Fulton St"
         ],
         "type": "scattergeo"
        },
        {
         "lat": [
          "40.7597",
          "41.3917",
          "40.6203",
          "40.982",
          "41.0427",
          "40.7229",
          "40.6451",
          "40.6451",
          "40.732",
          "40.8567",
          "40.3584",
          "41.1434",
          "40.9721",
          "40.7599",
          "40.7952",
          "41.3229",
          "40.7221",
          "40.6637",
          "40.7484",
          "40.6816",
          "40.7651",
          "40.7443",
          "40.7763",
          "40.9978",
          "41.1692",
          "41.033",
          "40.7859",
          "41.8384",
          "40.7375",
          "41.3047",
          "40.2825",
          "42.9744",
          "40.7484",
          "41.0602",
          "40.7245",
          "41.1705",
          "40.8382",
          "40.7139",
          "42.7198",
          "40.9471",
          "38.8565",
          "40.6794",
          "40.7445",
          "41.0086",
          "41.0222",
          "40.8317",
          "41.2292",
          "40.9339",
          "41.1928",
          "40.1688",
          "41.465",
          "40.6794",
          "40.6907",
          "41.2175",
          "40.74",
          "40.7975",
          "40.7764",
          "40.7095",
          "40.7881",
          "40.5681",
          "40.679",
          "40.9656",
          "40.8621",
          "34.0606",
          "40.6669",
          "40.8297",
          "41.0577",
          "40.7179",
          "40.7152",
          "40.7816",
          "40.7934",
          "34.0699",
          "40.8116",
          "40.7313",
          "40.7446",
          "40.9331",
          "40.7571",
          "40.5449",
          "40.6669",
          "40.7095",
          "40.8131",
          "40.843",
          "40.9477",
          "40.6907",
          "41.0141",
          "41.4767",
          "34.169"
         ],
         "lon": [
          "-73.9918",
          "-73.4532",
          "-74.3106",
          "-74.1131",
          "-73.6262",
          "-73.8473",
          "-73.945",
          "-73.945",
          "-74.1765",
          "-73.1168",
          "-74.0681",
          "-73.3496",
          "-73.959",
          "-74.4179",
          "-74.4873",
          "-73.08",
          "-74.0469",
          "-73.638",
          "-73.9967",
          "-73.9798",
          "-73.9858",
          "-73.9781",
          "-73.9529",
          "-74.166",
          "-73.2681",
          "-73.7652",
          "-74.2568",
          "-72.8987",
          "-73.9813",
          "-73.1294",
          "-74.3424",
          "-78.7949",
          "-73.9967",
          "-73.5445",
          "-73.6487",
          "-73.7715",
          "-73.942",
          "-74.007",
          "-73.8207",
          "-74.2466",
          "-77.0592",
          "-73.9496",
          "-74.0329",
          "-73.9389",
          "-73.6798",
          "-73.9738",
          "-73.9962",
          "-72.3077",
          "-73.2402",
          "-74.072",
          "-73.398",
          "-73.9496",
          "-73.9274",
          "-73.0549",
          "-73.4857",
          "-73.9683",
          "-73.9827",
          "-73.9563",
          "-73.5331",
          "-74.5397",
          "-73.9644",
          "-73.8434",
          "-74.4117",
          "-118.3027",
          "-73.9828",
          "-72.7283",
          "-74.1445",
          "-74.2829",
          "-73.9877",
          "-73.9511",
          "-73.6888",
          "-118.3492",
          "-73.955",
          "-73.9892",
          "-73.9345",
          "-74.0195",
          "-73.9657",
          "-74.3517",
          "-73.9828",
          "-73.9563",
          "-74.2165",
          "-73.2799",
          "-74.0672",
          "-73.9274",
          "-73.7552",
          "-73.2241",
          "-118.3442"
         ],
         "marker": {
          "autocolorscale": true,
          "color": [
           "#f71252",
           "#f71252",
           "#f71252",
           "#f71252",
           "#f71252",
           "#10aefd",
           "#f71252",
           "#07981e",
           "#f71252",
           "#f71252",
           "#f71252",
           "#f71252",
           "#f71252",
           "#f71252",
           "#f71252",
           "#6985b5",
           "#6985b5",
           "#ecd75a",
           "#f71252",
           "#f71252",
           "#f71252",
           "#fb8b34",
           "#fb8b34",
           "#6985b5",
           "#f71252",
           "#6985b5",
           "#f71252",
           "#6985b5",
           "#fb8b34",
           "#6985b5",
           "#f71252",
           "#f71252",
           "#f71252",
           "#6985b5",
           "#f71252",
           "#f71252",
           "#10aefd",
           "#f71252",
           "#f71252",
           "#f71252",
           "#f71252",
           "#10aefd",
           "#6985b5",
           "#6985b5",
           "#f71252",
           "#f71252",
           "#6985b5",
           "#ecd75a",
           "#6985b5",
           "#f71252",
           "#6985b5",
           "#10aefd",
           "#10aefd",
           "#f71252",
           "#ecd75a",
           "#f71252",
           "#fb8b34",
           "#07981e",
           "#f71252",
           "#f71252",
           "#10aefd",
           "#f71252",
           "#f71252",
           "#8e1730",
           "#10aefd",
           "#ecd75a",
           "#6985b5",
           "#f71252",
           "#f71252",
           "#f71252",
           "#f71252",
           "#8e1730",
           "#f71252",
           "#f71252",
           "#db9758",
           "#6985b5",
           "#f71252",
           "#f71252",
           "#f71252",
           "#10aefd",
           "#f71252",
           "#f71252",
           "#f71252",
           "#10aefd",
           "#f71252",
           "#6985b5",
           "#8e1730"
          ]
         },
         "mode": "markers",
         "showlegend": false,
         "text": [
          "Whole Foods Market 1095 6th Ave",
          "Whole Foods Market 5 Sugar Hollow Rd Ste C",
          "Whole Foods Market 1255 Raritan Rd Ste 150",
          "Whole Foods Market 44 Godwin Ave",
          "Whole Foods Market 90 E Putnam Ave",
          "Foodtown 110 44 Queens Blvd",
          "Whole Foods Market 238 Bedford Ave Ste A",
          "Brooklyn Harvest Market 25 N 5th St",
          "Whole Foods Market 633 Broad St",
          "Whole Foods Market 120 New Moriches Rd",
          "Whole Foods Market 471 State Route 35 N",
          "Whole Foods Market 399 Post Rd W",
          "Whole Foods Market 45 Vervalen St",
          "Whole Foods Market 222 Main St",
          "Whole Foods Market 110 Washington St",
          "ShopRite 49 Pershing Dr",
          "ShopRite 400 Luis Marin Blvd",
          "King Kullen 127 Sunrise Hwy",
          "Whole Foods Market 450 W 33rd St",
          "Whole Foods Market 292 Ashland Pl",
          "Whole Foods Market 10 Columbus Cir Ste 101",
          "Village Fairway 550 2nd Ave",
          "Village Fairway 240 E 86th St",
          "ShopRite 430 Greenwood Ave",
          "Whole Foods Market 350 Grasmere Ave",
          "ShopRite 13 City Pl",
          "Whole Foods Market 235 Prospect Ave",
          "ShopRite 110 Albany Tpke Ste 200",
          "Village Fairway 766 6th Ave",
          "ShopRite 875 Bridgeport Ave",
          "Whole Foods Market 113 Us Highway 9 S",
          "Whole Foods Market 3139 Sheridan Dr",
          "Whole Foods Market 250 7th Ave",
          "ShopRite 200 Shippan Ave",
          "Whole Foods Market 867 E Gate Blvd",
          "Whole Foods Market 480 N Bedford Rd",
          "Foodtown 600 W 160th St",
          "Whole Foods Market 270 Greenwich St",
          "Whole Foods Market 1425 Central Ave",
          "Whole Foods Market 560 Valley Rd",
          "Whole Foods Market 520 12th St S Ste 100",
          "Foodtown 1420 Fulton St",
          "ShopRite 900 Madison St",
          "ShopRite 246 Livingston St",
          "Whole Foods Market 575 Boston Post Rd",
          "Whole Foods Market 905 River Rd",
          "ShopRite 22 Holt Dr",
          "King Kullen 2044 Montauk Hwy",
          "ShopRite 1975 Black Rock Tpke",
          "Whole Foods Market 1933 State Route 35",
          "ShopRite 143 Federal Rd",
          "Foodtown 1420 Fulton St",
          "Foodtown 1291 Broadway",
          "Whole Foods Market 1686 Boston Post Rd",
          "King Kullen 598 Stewart Ave",
          "Whole Foods Market 808 Columbus Ave",
          "Village Fairway 2131 Broadway",
          "Brooklyn Harvest Market 781 Metropolitan Ave",
          "Whole Foods Market 429 N Broadway",
          "Whole Foods Market 319 Chimney Rock Rd",
          "Foodtown 632 Vanderbilt Ave",
          "Whole Foods Market 1 Ridge Hill Rd",
          "Whole Foods Market 60 Waterview Blvd",
          "7-Eleven 3975 Wilshire Blvd",
          "Foodtown 409 5th Ave",
          "King Kullen 25 Eastport Manor Rd",
          "ShopRite Rt 17 & Franklin Turnpike",
          "Whole Foods Market 2245 Springfield Ave",
          "Whole Foods Market 95 E Houston St",
          "Whole Foods Market 1551 3rd Ave",
          "Whole Foods Market 2101 Northern Blvd",
          "7-Eleven 5000 Wilshire Blvd",
          "Whole Foods Market 100 W 125th St",
          "Whole Foods Market 4 Union Sq S",
          "Food Cellar 4-85 47th Rd",
          "ShopRite 250 River Rd",
          "Whole Foods Market 226 E 57th St",
          "Whole Foods Market 645 Middlesex Ave",
          "Whole Foods Market 214 3rd St",
          "Foodtown 159 N 3rd St",
          "Whole Foods Market 701 Bloomfield Ave",
          "Whole Foods Market 120 Veterans Memorial Hwy",
          "Whole Foods Market 300 Bergen Town Ctr",
          "Foodtown 1291 Broadway",
          "Whole Foods Market 110 Bloomingdale Rd",
          "ShopRite 775 Main St S",
          "7-Eleven 2500 W Burbank Blvd"
         ],
         "type": "scattergeo"
        },
        {
         "lat": [
          "40.6907",
          "40.6794",
          "40.8246",
          "40.7446"
         ],
         "lon": [
          "-73.9274",
          "-73.9496",
          "-73.9507",
          "-73.9345"
         ],
         "marker": {
          "autocolorscale": true,
          "color": [
           "#10aefd",
           "#10aefd",
           "#10aefd",
           "#db9758"
          ]
         },
         "mode": "markers",
         "showlegend": false,
         "text": [
          "Foodtown 1291 Broadway",
          "Foodtown 1420 Fulton St",
          "Foodtown 756 St. Nicholas Ave",
          "Food Cellar 4-85 47th Rd"
         ],
         "type": "scattergeo"
        },
        {
         "lat": [
          "40.6794",
          "40.8246",
          "40.6251",
          "40.6907"
         ],
         "lon": [
          "-73.9496",
          "-73.9507",
          "-74.0303",
          "-73.9274"
         ],
         "marker": {
          "autocolorscale": true,
          "color": [
           "#10aefd",
           "#10aefd",
           "#10aefd",
           "#10aefd"
          ]
         },
         "mode": "markers",
         "showlegend": false,
         "text": [
          "Foodtown 1420 Fulton St",
          "Foodtown 756 St. Nicholas Ave",
          "Foodtown 9105-27 3rd Ave",
          "Foodtown 1291 Broadway"
         ],
         "type": "scattergeo"
        },
        {
         "lat": [
          "41.3917",
          "38.9898",
          "40.098",
          "40.8297",
          "40.3282",
          "40.6669",
          "38.9014",
          "40.7597",
          "40.7443",
          "40.5007",
          "40.3323",
          "38.7757",
          "40.8344",
          "40.588",
          "41.0427",
          "40.8382",
          "40.6664",
          "40.701",
          "40.982",
          "41.1434",
          "40.8246",
          "34.1145",
          "40.2171",
          "40.8567",
          "40.9721",
          "36.8282",
          "40.0389",
          "40.6412",
          "40.3869",
          "38.8935",
          "40.7095",
          "39.1125",
          "40.7881",
          "38.9122",
          "40.7484",
          "40.5877",
          "40.9176",
          "40.3666",
          "42.7198",
          "40.3529",
          "40.7599",
          "40.5839",
          "41.8384",
          "40.9978",
          "38.953",
          "40.0389",
          "40.7859",
          "40.7294",
          "38.9585",
          "40.8094",
          "40.7599",
          "40.5681",
          "40.1688",
          "40.7667",
          "41.465",
          "41.0141",
          "40.9166",
          "40.1688",
          "41.0577",
          "40.6794",
          "39.9015",
          "40.6637",
          "40.7095",
          "40.9331",
          "40.2825",
          "38.9601",
          "40.4587",
          "40.8882",
          "41.3047",
          "40.7139",
          "40.3944",
          "38.9067",
          "40.8693",
          "40.6742",
          "40.0",
          "40.9477",
          "40.7465",
          "40.5449",
          "40.1795",
          "41.033",
          "41.0768",
          "40.843",
          "40.5824",
          "38.806",
          "40.679",
          "39.0373",
          "39.2998",
          "40.7229",
          "42.9744",
          "34.0289",
          "40.1077",
          "41.4767",
          "40.7952",
          "40.8621",
          "40.7179",
          "40.7445",
          "40.612",
          "40.7375",
          "40.7571",
          "41.0222",
          "34.1005",
          "40.7152",
          "40.8131",
          "41.205",
          "41.2175",
          "40.8143",
          "40.7892",
          "40.74",
          "41.2292",
          "39.9074",
          "40.7681",
          "38.9381",
          "39.3716",
          "41.1692",
          "37.0768",
          "40.7313",
          "41.1928",
          "40.9978",
          "40.7036",
          "40.732",
          "40.8536",
          "39.3223",
          "34.1144",
          "40.2669",
          "37.5498",
          "39.8845",
          "39.2141",
          "40.9339",
          "40.6669",
          "40.2336",
          "38.9024",
          "41.0086",
          "40.9471",
          "40.6203",
          "38.8994",
          "41.0602",
          "40.7975",
          "39.0496",
          "34.4038",
          "34.0699",
          "41.033",
          "40.1839",
          "41.3229",
          "38.9615",
          "41.0957",
          "40.6907",
          "40.8726",
          "38.8565",
          "41.0915",
          "39.9362",
          "40.8116",
          "40.9471",
          "40.7763",
          "39.9677",
          "38.0936",
          "39.9771",
          "40.6251",
          "40.9471",
          "40.9655",
          "40.0766",
          "40.4723",
          "40.7221",
          "40.6774",
          "40.9656",
          "40.4173",
          "40.8317",
          "40.8445",
          "34.0606",
          "40.6884",
          "37.6628",
          "34.169",
          "40.8246",
          "40.7484",
          "40.6451",
          "40.9045",
          "40.7934",
          "40.6794",
          "38.9982",
          "38.8871",
          "40.0612",
          "40.6816",
          "34.1144",
          "41.1705",
          "39.9863",
          "40.7764",
          "40.1217",
          "40.7651",
          "40.4226",
          "40.7446",
          "40.7816",
          "41.0222",
          "38.978",
          "40.6907",
          "40.0468",
          "40.9755",
          "40.6451",
          "40.6251",
          "40.6816",
          "40.3584",
          "38.8829",
          "40.9988",
          "38.8776",
          "39.9771",
          "40.1481",
          "40.556",
          "40.7245"
         ],
         "lon": [
          "-73.4532",
          "-76.5501",
          "-75.1078",
          "-72.7283",
          "-74.0589",
          "-73.9828",
          "-77.0504",
          "-73.9918",
          "-73.9781",
          "-74.5013",
          "-80.081",
          "-77.2337",
          "-74.1377",
          "-74.6874",
          "-73.6262",
          "-73.942",
          "-74.1192",
          "-73.6758",
          "-74.1131",
          "-73.3496",
          "-73.9507",
          "-118.1929",
          "-74.7429",
          "-73.1168",
          "-73.959",
          "-76.0237",
          "-74.1109",
          "-74.9088",
          "-74.5558",
          "-77.2532",
          "-73.9563",
          "-77.2515",
          "-73.5331",
          "-77.0177",
          "-73.9967",
          "-73.6595",
          "-73.8593",
          "-74.6408",
          "-73.8207",
          "-74.2779",
          "-74.4179",
          "-74.4147",
          "-72.8987",
          "-74.166",
          "-77.2295",
          "-74.1109",
          "-74.2568",
          "-73.6828",
          "-77.1153",
          "-74.1245",
          "-74.4179",
          "-74.5397",
          "-74.072",
          "-73.8241",
          "-73.398",
          "-73.7552",
          "-73.7877",
          "-74.072",
          "-74.1445",
          "-73.9496",
          "-75.5049",
          "-73.638",
          "-73.9563",
          "-74.0195",
          "-74.3424",
          "-76.9147",
          "-74.305",
          "-74.0503",
          "-73.1294",
          "-74.007",
          "-74.1157",
          "-77.0312",
          "-74.1711",
          "-73.7057",
          "-75.276",
          "-74.0672",
          "-74.2575",
          "-74.3517",
          "-122.2383",
          "-73.7652",
          "-73.4853",
          "-73.2799",
          "-75.5911",
          "-77.0529",
          "-73.9644",
          "-77.4805",
          "-76.6075",
          "-73.8473",
          "-78.7949",
          "-117.9373",
          "-75.2796",
          "-73.2241",
          "-74.4873",
          "-74.4117",
          "-74.2829",
          "-74.0329",
          "-80.0649",
          "-73.9813",
          "-73.9657",
          "-73.6798",
          "-118.3254",
          "-73.9877",
          "-74.2165",
          "-73.7299",
          "-73.0549",
          "-73.3634",
          "-74.6776",
          "-73.4857",
          "-73.9962",
          "-75.0008",
          "-74.0208",
          "-77.086",
          "-76.6744",
          "-73.2681",
          "-76.4967",
          "-73.9892",
          "-73.2402",
          "-74.166",
          "-73.8961",
          "-74.1765",
          "-74.1079",
          "-74.6008",
          "-117.6583",
          "-74.525",
          "-77.4588",
          "-74.9067",
          "-76.8788",
          "-72.3077",
          "-73.9828",
          "-74.6576",
          "-76.9901",
          "-73.9389",
          "-74.2466",
          "-74.3106",
          "-77.1895",
          "-73.5445",
          "-73.9683",
          "-77.1204",
          "-119.7194",
          "-118.3492",
          "-73.7652",
          "-75.2327",
          "-73.08",
          "-77.3418",
          "-73.4285",
          "-73.9274",
          "-72.5202",
          "-77.0592",
          "-74.375",
          "-75.1563",
          "-73.955",
          "-74.2466",
          "-73.9529",
          "-75.1735",
          "-78.5611",
          "-74.1565",
          "-74.0303",
          "-74.2466",
          "-74.3016",
          "-76.3107",
          "-79.9132",
          "-74.0469",
          "-74.4968",
          "-73.8434",
          "-74.6938",
          "-73.9738",
          "-74.4824",
          "-118.3027",
          "-73.3745",
          "-77.534",
          "-118.3442",
          "-73.9507",
          "-73.9967",
          "-73.945",
          "-73.8073",
          "-73.6888",
          "-73.9496",
          "-77.0338",
          "-77.0932",
          "-75.3999",
          "-73.9798",
          "-117.6583",
          "-73.7715",
          "-75.407",
          "-73.9827",
          "-74.0611",
          "-73.9858",
          "-74.1799",
          "-73.9345",
          "-73.9511",
          "-73.6798",
          "-77.082",
          "-73.9274",
          "-75.6432",
          "-74.0285",
          "-73.945",
          "-74.0303",
          "-73.9798",
          "-74.0681",
          "-76.9895",
          "-74.4261",
          "-77.3885",
          "-74.1565",
          "-74.2137",
          "-74.2845",
          "-73.6487"
         ],
         "marker": {
          "autocolorscale": true,
          "color": [
           "#f71252",
           "#f71252",
           "#f71252",
           "#ecd75a",
           "#6985b5",
           "#f71252",
           "#f71252",
           "#f71252",
           "#fb8b34",
           "#52099b",
           "#f71252",
           "#f71252",
           "#52099b",
           "#6985b5",
           "#f71252",
           "#10aefd",
           "#6985b5",
           "#52099b",
           "#f71252",
           "#f71252",
           "#10aefd",
           "#8e1730",
           "#6985b5",
           "#f71252",
           "#f71252",
           "#f71252",
           "#52099b",
           "#6985b5",
           "#6985b5",
           "#f71252",
           "#10aefd",
           "#f71252",
           "#f71252",
           "#f71252",
           "#f71252",
           "#52099b",
           "#52099b",
           "#f71252",
           "#f71252",
           "#6985b5",
           "#52099b",
           "#6985b5",
           "#6985b5",
           "#6985b5",
           "#f71252",
           "#6985b5",
           "#f71252",
           "#52099b",
           "#f71252",
           "#6985b5",
           "#f71252",
           "#f71252",
           "#f71252",
           "#52099b",
           "#6985b5",
           "#f71252",
           "#52099b",
           "#6985b5",
           "#6985b5",
           "#10aefd",
           "#f71252",
           "#ecd75a",
           "#07981e",
           "#6985b5",
           "#f71252",
           "#f71252",
           "#6985b5",
           "#6985b5",
           "#6985b5",
           "#f71252",
           "#6985b5",
           "#f71252",
           "#52099b",
           "#ecd75a",
           "#f71252",
           "#f71252",
           "#52099b",
           "#f71252",
           "#119d58",
           "#52099b",
           "#f71252",
           "#f71252",
           "#f71252",
           "#f71252",
           "#10aefd",
           "#f71252",
           "#f71252",
           "#10aefd",
           "#f71252",
           "#8e1730",
           "#f71252",
           "#6985b5",
           "#f71252",
           "#f71252",
           "#f71252",
           "#6985b5",
           "#f71252",
           "#fb8b34",
           "#f71252",
           "#f71252",
           "#8e1730",
           "#f71252",
           "#f71252",
           "#52099b",
           "#f71252",
           "#ecd75a",
           "#6985b5",
           "#ecd75a",
           "#6985b5",
           "#f71252",
           "#f71252",
           "#f71252",
           "#f71252",
           "#f71252",
           "#f71252",
           "#f71252",
           "#6985b5",
           "#52099b",
           "#52099b",
           "#f71252",
           "#6985b5",
           "#6985b5",
           "#8e1730",
           "#6985b5",
           "#f71252",
           "#f71252",
           "#f71252",
           "#ecd75a",
           "#10aefd",
           "#6985b5",
           "#f71252",
           "#6985b5",
           "#f71252",
           "#f71252",
           "#f71252",
           "#6985b5",
           "#f71252",
           "#f71252",
           "#8e1730",
           "#8e1730",
           "#6985b5",
           "#f71252",
           "#6985b5",
           "#f71252",
           "#6985b5",
           "#10aefd",
           "#ecd75a",
           "#f71252",
           "#6985b5",
           "#f71252",
           "#f71252",
           "#6985b5",
           "#fb8b34",
           "#f71252",
           "#f71252",
           "#6985b5",
           "#10aefd",
           "#52099b",
           "#52099b",
           "#f71252",
           "#f71252",
           "#6985b5",
           "#6985b5",
           "#f71252",
           "#6985b5",
           "#f71252",
           "#52099b",
           "#8e1730",
           "#ecd75a",
           "#f71252",
           "#8e1730",
           "#10aefd",
           "#f71252",
           "#f71252",
           "#fb8b34",
           "#f71252",
           "#10aefd",
           "#f71252",
           "#f71252",
           "#f71252",
           "#f71252",
           "#8e1730",
           "#f71252",
           "#f71252",
           "#fb8b34",
           "#6985b5",
           "#f71252",
           "#6985b5",
           "#db9758",
           "#f71252",
           "#52099b",
           "#f71252",
           "#10aefd",
           "#f71252",
           "#52099b",
           "#07981e",
           "#10aefd",
           "#52099b",
           "#f71252",
           "#f71252",
           "#52099b",
           "#f71252",
           "#52099b",
           "#6985b5",
           "#6985b5",
           "#f71252"
          ]
         },
         "mode": "markers",
         "showlegend": false,
         "text": [
          "Whole Foods Market 5 Sugar Hollow Rd Ste C",
          "Whole Foods Market 200 Harker Pl Ste 100",
          "Whole Foods Market 1575 The Fairway",
          "King Kullen 25 Eastport Manor Rd",
          "ShopRite 1151 Shrewsbury Ave",
          "Whole Foods Market 214 3rd St",
          "Whole Foods Market 2201 I St NW",
          "Whole Foods Market 1095 6th Ave",
          "Village Fairway 550 2nd Ave",
          "Stop & Shop 940 Easton Ave",
          "Whole Foods Market 111 Siena Dr",
          "Whole Foods Market 8402 Old Keene Mill Rd",
          "Stop & Shop 160 Kingsland Rd",
          "ShopRite 3166 Us Highway 22",
          "Whole Foods Market 90 E Putnam Ave",
          "Foodtown 600 W 160th St",
          "ShopRite 583 589 Avenue C",
          "Stop & Shop 460 Franklin Ave",
          "Whole Foods Market 44 Godwin Ave",
          "Whole Foods Market 399 Post Rd W",
          "Foodtown 756 Saint Nicholas Ave",
          "7-Eleven 5326 York Blvd",
          "ShopRite 3373 Brunswick Pike",
          "Whole Foods Market 120 New Moriches Rd",
          "Whole Foods Market 45 Vervalen St",
          "Whole Foods Market 1800 Laskin Rd",
          "Stop & Shop 55 Brick Blvd",
          "ShopRite 50 Walmart Plz",
          "ShopRite 4154 Us Route 1",
          "Whole Foods Market 143 Maple Ave E",
          "Foodtown 159 N 3rd St",
          "Whole Foods Market 316 Kentlands Blvd",
          "Whole Foods Market 429 N Broadway",
          "Whole Foods Market 967 Florida Ave NW",
          "Whole Foods Market 250 7th Ave",
          "Stop & Shop 85 E Park Ave",
          "Stop & Shop 111 Vredenburgh Ave",
          "Whole Foods Market 3495 Us Highway 1",
          "Whole Foods Market 1425 Central Ave",
          "ShopRite 280 Us Highway 9",
          "Stop & Shop 133 Main St",
          "ShopRite 3600 Park Ave",
          "ShopRite 110 Albany Tpke Ste 200",
          "ShopRite 430 Greenwood Ave",
          "Whole Foods Market 1635 Boro Pl",
          "ShopRite 668 Route 70",
          "Whole Foods Market 235 Prospect Ave",
          "Stop & Shop 653 Hillside Ave",
          "Whole Foods Market 5269 River Rd",
          "ShopRite 540 New York Ave",
          "Whole Foods Market 222 Main St",
          "Whole Foods Market 319 Chimney Rock Rd",
          "Whole Foods Market 1933 State Route 35",
          "Stop & Shop 3106 Farrington St",
          "ShopRite 143 Federal Rd",
          "Whole Foods Market 110 Bloomingdale Rd",
          "Stop & Shop 2425 Palmer Ave",
          "ShopRite 1732 State Route 35",
          "ShopRite Rt 17 & Franklin Turnpike",
          "Foodtown 1420 Fulton St",
          "Whole Foods Market 475 Wilmington Pike",
          "King Kullen 127 Sunrise Hwy",
          "Brooklyn Harvest Market 781 Metropolitan Ave",
          "ShopRite 250 River Rd",
          "Whole Foods Market 113 Us Highway 9 S",
          "Whole Foods Market 6621 Baltimore Ave Ste B",
          "ShopRite 2909 Washington Rd",
          "ShopRite 500 S River St",
          "ShopRite 875 Bridgeport Ave",
          "Whole Foods Market 270 Greenwich St",
          "ShopRite 1500 State Route 35",
          "Whole Foods Market 1440 P St NW",
          "Stop & Shop 1189 Broad St",
          "King Kullen 231 W Merrick Rd",
          "Whole Foods Market 15 E Wynnewood Rd",
          "Whole Foods Market 300 Bergen Town Ctr",
          "Stop & Shop 407 Valley St",
          "Whole Foods Market 645 Middlesex Ave",
          "Raleys 725 S Main St",
          "Stop & Shop 154 Westchester Ave",
          "Whole Foods Market 150 Ledge Rd",
          "Whole Foods Market 120 Veterans Memorial Hwy",
          "Whole Foods Market 750 N Krocks Rd",
          "Whole Foods Market 1700 Duke St",
          "Foodtown 632 Vanderbilt Ave",
          "Whole Foods Market 19800 Belmont Chase Dr Ste 160",
          "Whole Foods Market 711 S Central Ave",
          "Foodtown 110 44 Queens Blvd",
          "Whole Foods Market 3139 Sheridan Dr",
          "7-Eleven 16020 E Main St",
          "Whole Foods Market 500 W Germantown Pike",
          "ShopRite 775 Main St S",
          "Whole Foods Market 110 Washington St",
          "Whole Foods Market 60 Waterview Blvd",
          "Whole Foods Market 2245 Springfield Ave",
          "ShopRite 900 Madison St",
          "Whole Foods Market 10576 Perry Hwy",
          "Village Fairway 766 6th Ave",
          "Whole Foods Market 226 E 57th St",
          "Whole Foods Market 575 Boston Post Rd",
          "7-Eleven 5609 W Sunset Blvd",
          "Whole Foods Market 95 E Houston St",
          "Whole Foods Market 701 Bloomfield Ave",
          "Stop & Shop 195 N Bedford Rd",
          "Whole Foods Market 1686 Boston Post Rd",
          "King Kullen 275 W Jericho Tpke",
          "ShopRite Route 206 Maple Ave",
          "King Kullen 598 Stewart Ave",
          "ShopRite 22 Holt Dr",
          "Whole Foods Market 1558 Kings Hwy N",
          "Whole Foods Market 1400 Waterfront Terrace",
          "Whole Foods Market 4530 40th St NW",
          "Whole Foods Market 1330 Smith Ave",
          "Whole Foods Market 350 Grasmere Ave",
          "Whole Foods Market 12090 Jefferson Ave Ste 100",
          "Whole Foods Market 4 Union Sq S",
          "ShopRite 1975 Black Rock Tpke",
          "Stop & Shop 337 Franklin Ave",
          "Stop & Shop 8989 Union Tpke",
          "Whole Foods Market 633 Broad St",
          "ShopRite 375 Paterson Ave",
          "ShopRite 23 Bethel Rd",
          "7-Eleven 1594 W 7th St",
          "ShopRite 319 Us Highway 130",
          "Whole Foods Market 2024 W Broad St",
          "Whole Foods Market 940 Route 73 N",
          "Whole Foods Market 10275 Little Patuxent Pkwy",
          "King Kullen 2044 Montauk Hwy",
          "Foodtown 409 5th Ave",
          "ShopRite 1225 Rte 33",
          "Whole Foods Market 600 H St NE",
          "ShopRite 246 Livingston St",
          "Whole Foods Market 560 Valley Rd",
          "Whole Foods Market 1255 Raritan Rd Ste 150",
          "Whole Foods Market 7511 Leesburg Pike",
          "ShopRite 200 Shippan Ave",
          "Whole Foods Market 808 Columbus Ave",
          "Whole Foods Market 11355 Woodglen Dr",
          "7-Eleven 1909 Cliff Dr",
          "7-Eleven 5000 Wilshire Blvd",
          "ShopRite 13 City Pl",
          "Whole Foods Market 1111 N Bethlehem Pike",
          "ShopRite 49 Pershing Dr",
          "Whole Foods Market 11660 Plaza America Dr",
          "ShopRite 360 Connecticut Ave",
          "Foodtown 1291 Broadway",
          "King Kullen 52 E Montauk Hwy",
          "Whole Foods Market 520 12th St S Ste 100",
          "ShopRite 23 Marshall Hill Rd",
          "Whole Foods Market 929 South St",
          "Whole Foods Market 100 W 125th St",
          "ShopRite 625 Hamburg Tpke",
          "Village Fairway 240 E 86th St",
          "Whole Foods Market 2101 Pennsylvania Ave",
          "Whole Foods Market 1797 Hydraulic Rd",
          "ShopRite 2 Route 37 W",
          "Foodtown 9105 3rd Ave",
          "Stop & Shop 1220 Hamburg Tpke",
          "Stop & Shop 500 Rte 23 N & Jackson Ave",
          "Whole Foods Market 1563 Fruitville Pike",
          "Whole Foods Market 5880 Centre Ave",
          "ShopRite 400 Luis Marin Blvd",
          "ShopRite 1153 Valley Rd",
          "Whole Foods Market 1 Ridge Hill Rd",
          "ShopRite 1325 Us Highway 206",
          "Whole Foods Market 905 River Rd",
          "Stop & Shop 245 Littleton Rd",
          "7-Eleven 3975 Wilshire Blvd",
          "King Kullen 600 N Wellwood Ave",
          "Whole Foods Market 11173 W Broad St",
          "7-Eleven 2500 W Burbank Blvd",
          "Foodtown 756 St. Nicholas Ave",
          "Whole Foods Market 450 W 33rd St",
          "Whole Foods Market 238 Bedford Ave Ste A",
          "Village Fairway 847 Pelham Pkwy",
          "Whole Foods Market 2101 Northern Blvd",
          "Foodtown 1420 Fulton St",
          "Whole Foods Market 833 Wayne Ave",
          "Whole Foods Market 2700 Wilson Blvd",
          "Whole Foods Market 821 W Lancaster Ave",
          "Whole Foods Market 292 Ashland Pl",
          "7-Eleven 187 N San Antonio Ave",
          "Whole Foods Market 480 N Bedford Rd",
          "Whole Foods Market 3737 West Chester Pike",
          "Village Fairway 2131 Broadway",
          "ShopRite 2433 Highway 34",
          "Whole Foods Market 10 Columbus Cir Ste 101",
          "ShopRite 3120 State Route 35",
          "Food Cellar 4-85 47th Rd",
          "Whole Foods Market 1551 3rd Ave",
          "Stop & Shop 25 Waterfront Pl",
          "Whole Foods Market 4420 Willard Ave",
          "Foodtown 1291 Broadway",
          "Whole Foods Market 175 N Pottstown Pike",
          "Stop & Shop 600 Kinderkamack Rd",
          "Brooklyn Harvest Market 25 N 5th St",
          "Foodtown 9105-27 3rd Ave",
          "Stop & Shop 625 Atlantic Ave",
          "Whole Foods Market 471 State Route 35 N",
          "Whole Foods Market 101 H St SE",
          "Stop & Shop 25 Kinnelon Rd",
          "Whole Foods Market 4501 Market Commons Dr",
          "Stop & Shop 353 Route 37 E",
          "ShopRite 4594 Us Highway 9 S",
          "ShopRite 877 Saint George Ave",
          "Whole Foods Market 867 E Gate Blvd"
         ],
         "type": "scattergeo"
        },
        {
         "lat": [
          "38.9898",
          "40.7229",
          "40.8265",
          "38.978",
          "40.8246",
          "40.7152",
          "36.8282",
          "40.7179",
          "40.612",
          "40.6794",
          "40.7952",
          "41.1434",
          "40.6816",
          "40.6907",
          "40.5877",
          "40.9471",
          "38.9014",
          "39.9771",
          "40.7245",
          "40.7484",
          "40.7597",
          "40.6251",
          "40.7599",
          "39.9362",
          "40.7599",
          "41.0602",
          "38.9601",
          "40.1795",
          "40.9655",
          "40.8143",
          "40.098",
          "40.5824",
          "39.9677",
          "40.7816",
          "41.2175",
          "37.6628",
          "38.8994",
          "40.0",
          "39.3716",
          "40.9721",
          "40.685",
          "40.9988",
          "40.7763",
          "40.7651",
          "40.7445",
          "40.7667",
          "40.6451",
          "40.8265",
          "41.0086",
          "40.7681",
          "41.033",
          "40.3666",
          "40.7892",
          "40.1839",
          "40.8621",
          "40.7139",
          "34.1144",
          "40.8246",
          "38.8829",
          "40.6742",
          "40.8094",
          "41.2656",
          "38.0936",
          "40.0468",
          "40.5449",
          "38.7757",
          "39.3223",
          "41.0427",
          "42.9744",
          "40.9471",
          "40.7036",
          "40.9978",
          "40.7859",
          "40.0766",
          "37.5498",
          "40.6929",
          "34.1005",
          "40.2171",
          "40.8131",
          "34.0699",
          "40.9471",
          "40.843",
          "40.7934",
          "41.465",
          "34.1144",
          "40.7465",
          "40.6774",
          "40.3944",
          "41.4767",
          "40.732",
          "34.0289",
          "40.6412",
          "40.3869",
          "39.9771",
          "41.205",
          "41.0957",
          "40.9166",
          "40.556",
          "40.7764",
          "40.7294",
          "40.6794",
          "40.7095",
          "40.7881",
          "40.2336",
          "38.8565",
          "40.9755",
          "39.0496",
          "38.953",
          "40.6816",
          "39.9863",
          "38.9585",
          "40.8344",
          "40.6251",
          "40.3282",
          "40.7095",
          "41.0915",
          "40.7375",
          "40.7443",
          "40.0612",
          "40.9477",
          "40.1688",
          "38.8935",
          "40.5007",
          "40.6907",
          "41.8384",
          "40.679",
          "41.1705",
          "40.3192",
          "34.169",
          "40.6203",
          "40.4173",
          "41.0222",
          "39.1125",
          "37.0768",
          "40.6807",
          "41.033",
          "40.7313",
          "40.3584",
          "40.982",
          "41.1692",
          "40.4587",
          "40.7571",
          "38.8871",
          "40.8382",
          "40.6637",
          "40.6669",
          "38.806",
          "40.5839",
          "40.8693",
          "40.2669",
          "40.701",
          "38.9067",
          "40.6451",
          "39.2141",
          "40.6884",
          "40.3323",
          "41.0768",
          "38.9982",
          "38.9615",
          "40.9978",
          "40.9656",
          "40.6669",
          "38.9122",
          "40.4723",
          "39.2998",
          "41.0141",
          "41.0577",
          "40.8726",
          "41.3047",
          "42.7198",
          "40.9331",
          "40.5681",
          "40.0389",
          "40.7975",
          "38.9381",
          "40.7221",
          "38.9024",
          "40.9339",
          "39.8845",
          "39.9015",
          "40.3529",
          "40.1688",
          "39.9074",
          "40.0389",
          "40.9045",
          "34.1145",
          "40.8536",
          "41.1928",
          "40.1481",
          "40.1077",
          "40.8297",
          "41.0277",
          "40.588",
          "40.7484",
          "40.8317",
          "40.8116",
          "41.3917",
          "41.0222",
          "40.9176",
          "40.8445",
          "39.0373",
          "40.4226",
          "40.1217",
          "40.6664",
          "34.0606",
          "40.74",
          "40.2825",
          "40.8567",
          "41.2292"
         ],
         "lon": [
          "-76.5501",
          "-73.8473",
          "-73.9383",
          "-77.082",
          "-73.9507",
          "-73.9877",
          "-76.0237",
          "-74.2829",
          "-80.0649",
          "-73.9496",
          "-74.4873",
          "-73.3496",
          "-73.9798",
          "-73.9274",
          "-73.6595",
          "-74.2466",
          "-77.0504",
          "-74.1565",
          "-73.6487",
          "-73.9967",
          "-73.9918",
          "-74.0303",
          "-74.4179",
          "-75.1563",
          "-74.4179",
          "-73.5445",
          "-76.9147",
          "-122.2383",
          "-74.3016",
          "-73.3634",
          "-75.1078",
          "-75.5911",
          "-75.1735",
          "-73.9511",
          "-73.0549",
          "-77.534",
          "-77.1895",
          "-75.276",
          "-76.6744",
          "-73.959",
          "-73.5103",
          "-74.4261",
          "-73.9529",
          "-73.9858",
          "-74.0329",
          "-73.8241",
          "-73.945",
          "-73.9383",
          "-73.9389",
          "-74.0208",
          "-73.7652",
          "-74.6408",
          "-74.6776",
          "-75.2327",
          "-74.4117",
          "-74.007",
          "-117.6583",
          "-73.9507",
          "-76.9895",
          "-73.7057",
          "-74.1245",
          "-74.3604",
          "-78.5611",
          "-75.6432",
          "-74.3517",
          "-77.2337",
          "-74.6008",
          "-73.6262",
          "-78.7949",
          "-74.2466",
          "-73.8961",
          "-74.166",
          "-74.2568",
          "-76.3107",
          "-77.4588",
          "-73.6539",
          "-118.3254",
          "-74.7429",
          "-74.2165",
          "-118.3492",
          "-74.2466",
          "-73.2799",
          "-73.6888",
          "-73.398",
          "-117.6583",
          "-74.2575",
          "-74.4968",
          "-74.1157",
          "-73.2241",
          "-74.1765",
          "-117.9373",
          "-74.9088",
          "-74.5558",
          "-74.1565",
          "-73.7299",
          "-73.4285",
          "-73.7877",
          "-74.2845",
          "-73.9827",
          "-73.6828",
          "-73.9496",
          "-73.9563",
          "-73.5331",
          "-74.6576",
          "-77.0592",
          "-74.0285",
          "-77.1204",
          "-77.2295",
          "-73.9798",
          "-75.407",
          "-77.1153",
          "-74.1377",
          "-74.0303",
          "-74.0589",
          "-73.9563",
          "-74.375",
          "-73.9813",
          "-73.9781",
          "-75.3999",
          "-74.0672",
          "-74.072",
          "-77.2532",
          "-74.5013",
          "-73.9274",
          "-72.8987",
          "-73.9644",
          "-73.7715",
          "-74.4285",
          "-118.3442",
          "-74.3106",
          "-74.6938",
          "-73.6798",
          "-77.2515",
          "-76.4967",
          "-73.4444",
          "-73.7652",
          "-73.9892",
          "-74.0681",
          "-74.1131",
          "-73.2681",
          "-74.305",
          "-73.9657",
          "-77.0932",
          "-73.942",
          "-73.638",
          "-73.9828",
          "-77.0529",
          "-74.4147",
          "-74.1711",
          "-74.525",
          "-73.6758",
          "-77.0312",
          "-73.945",
          "-76.8788",
          "-73.3745",
          "-80.081",
          "-73.4853",
          "-77.0338",
          "-77.3418",
          "-74.166",
          "-73.8434",
          "-73.9828",
          "-77.0177",
          "-79.9132",
          "-76.6075",
          "-73.7552",
          "-74.1445",
          "-72.5202",
          "-73.1294",
          "-73.8207",
          "-74.0195",
          "-74.5397",
          "-74.1109",
          "-73.9683",
          "-77.086",
          "-74.0469",
          "-76.9901",
          "-72.3077",
          "-74.9067",
          "-75.5049",
          "-74.2779",
          "-74.072",
          "-75.0008",
          "-74.1109",
          "-73.8073",
          "-118.1929",
          "-74.1079",
          "-73.2402",
          "-74.2137",
          "-75.2796",
          "-72.7283",
          "-74.6407",
          "-74.6874",
          "-73.9967",
          "-73.9738",
          "-73.955",
          "-73.4532",
          "-73.6798",
          "-73.8593",
          "-74.4824",
          "-77.4805",
          "-74.1799",
          "-74.0611",
          "-74.1192",
          "-118.3027",
          "-73.4857",
          "-74.3424",
          "-73.1168",
          "-73.9962"
         ],
         "marker": {
          "autocolorscale": true,
          "color": [
           "#f71252",
           "#10aefd",
           "#10aefd",
           "#f71252",
           "#10aefd",
           "#f71252",
           "#f71252",
           "#f71252",
           "#f71252",
           "#10aefd",
           "#f71252",
           "#f71252",
           "#52099b",
           "#10aefd",
           "#52099b",
           "#52099b",
           "#f71252",
           "#6985b5",
           "#f71252",
           "#f71252",
           "#f71252",
           "#10aefd",
           "#f71252",
           "#f71252",
           "#52099b",
           "#6985b5",
           "#f71252",
           "#119d58",
           "#52099b",
           "#ecd75a",
           "#f71252",
           "#f71252",
           "#f71252",
           "#f71252",
           "#f71252",
           "#f71252",
           "#f71252",
           "#f71252",
           "#f71252",
           "#f71252",
           "#ecd75a",
           "#52099b",
           "#fb8b34",
           "#f71252",
           "#6985b5",
           "#52099b",
           "#f71252",
           "#10aefd",
           "#6985b5",
           "#f71252",
           "#52099b",
           "#f71252",
           "#6985b5",
           "#f71252",
           "#f71252",
           "#f71252",
           "#8e1730",
           "#10aefd",
           "#f71252",
           "#ecd75a",
           "#6985b5",
           "#6985b5",
           "#f71252",
           "#f71252",
           "#f71252",
           "#f71252",
           "#6985b5",
           "#f71252",
           "#f71252",
           "#f71252",
           "#52099b",
           "#52099b",
           "#f71252",
           "#f71252",
           "#f71252",
           "#52099b",
           "#8e1730",
           "#6985b5",
           "#f71252",
           "#8e1730",
           "#6985b5",
           "#f71252",
           "#f71252",
           "#6985b5",
           "#8e1730",
           "#52099b",
           "#6985b5",
           "#6985b5",
           "#6985b5",
           "#f71252",
           "#8e1730",
           "#6985b5",
           "#6985b5",
           "#52099b",
           "#52099b",
           "#6985b5",
           "#52099b",
           "#6985b5",
           "#fb8b34",
           "#52099b",
           "#10aefd",
           "#07981e",
           "#f71252",
           "#6985b5",
           "#f71252",
           "#52099b",
           "#f71252",
           "#f71252",
           "#f71252",
           "#f71252",
           "#f71252",
           "#52099b",
           "#10aefd",
           "#6985b5",
           "#10aefd",
           "#6985b5",
           "#fb8b34",
           "#fb8b34",
           "#f71252",
           "#f71252",
           "#f71252",
           "#f71252",
           "#52099b",
           "#10aefd",
           "#6985b5",
           "#10aefd",
           "#f71252",
           "#52099b",
           "#8e1730",
           "#f71252",
           "#6985b5",
           "#f71252",
           "#f71252",
           "#f71252",
           "#f71252",
           "#6985b5",
           "#f71252",
           "#f71252",
           "#f71252",
           "#f71252",
           "#6985b5",
           "#f71252",
           "#f71252",
           "#10aefd",
           "#ecd75a",
           "#f71252",
           "#f71252",
           "#6985b5",
           "#52099b",
           "#6985b5",
           "#52099b",
           "#f71252",
           "#07981e",
           "#f71252",
           "#ecd75a",
           "#f71252",
           "#f71252",
           "#f71252",
           "#f71252",
           "#6985b5",
           "#f71252",
           "#10aefd",
           "#f71252",
           "#f71252",
           "#f71252",
           "#f71252",
           "#6985b5",
           "#ecd75a",
           "#6985b5",
           "#f71252",
           "#6985b5",
           "#f71252",
           "#52099b",
           "#f71252",
           "#f71252",
           "#6985b5",
           "#f71252",
           "#ecd75a",
           "#f71252",
           "#f71252",
           "#6985b5",
           "#6985b5",
           "#f71252",
           "#6985b5",
           "#fb8b34",
           "#8e1730",
           "#6985b5",
           "#6985b5",
           "#6985b5",
           "#f71252",
           "#ecd75a",
           "#52099b",
           "#6985b5",
           "#f71252",
           "#f71252",
           "#f71252",
           "#f71252",
           "#52099b",
           "#52099b",
           "#52099b",
           "#f71252",
           "#6985b5",
           "#6985b5",
           "#6985b5",
           "#8e1730",
           "#ecd75a",
           "#f71252",
           "#f71252",
           "#6985b5"
          ]
         },
         "mode": "markers",
         "showlegend": false,
         "text": [
          "Whole Foods Market 200 Harker Pl Ste 100",
          "Foodtown 110 44 Queens Blvd",
          "Foodtown 300 West 145th Street",
          "Whole Foods Market 4420 Willard Ave",
          "Foodtown 756 St. Nicholas Ave",
          "Whole Foods Market 95 E Houston St",
          "Whole Foods Market 1800 Laskin Rd",
          "Whole Foods Market 2245 Springfield Ave",
          "Whole Foods Market 10576 Perry Hwy",
          "Foodtown 1420 Fulton St",
          "Whole Foods Market 110 Washington St",
          "Whole Foods Market 399 Post Rd W",
          "Stop & Shop 625 Atlantic Ave",
          "Foodtown 1291 Broadway",
          "Stop & Shop 85 E Park Ave",
          "Stop & Shop 1220 Hamburg Tpke",
          "Whole Foods Market 2201 I St NW",
          "ShopRite 2 Route 37 W",
          "Whole Foods Market 867 E Gate Blvd",
          "Whole Foods Market 250 7th Ave",
          "Whole Foods Market 1095 6th Ave",
          "Foodtown 9105-27 3rd Ave",
          "Whole Foods Market 222 Main St",
          "Whole Foods Market 929 South St",
          "Stop & Shop 133 Main St",
          "ShopRite 200 Shippan Ave",
          "Whole Foods Market 6621 Baltimore Ave Ste B",
          "Raleys 725 S Main St",
          "Stop & Shop 500 Rte 23 N & Jackson Ave",
          "King Kullen 275 W Jericho Tpke",
          "Whole Foods Market 1575 The Fairway",
          "Whole Foods Market 750 N Krocks Rd",
          "Whole Foods Market 2101 Pennsylvania Ave",
          "Whole Foods Market 1551 3rd Ave",
          "Whole Foods Market 1686 Boston Post Rd",
          "Whole Foods Market 11173 W Broad St",
          "Whole Foods Market 7511 Leesburg Pike",
          "Whole Foods Market 15 E Wynnewood Rd",
          "Whole Foods Market 1330 Smith Ave",
          "Whole Foods Market 45 Vervalen St",
          "King Kullen 1340 Wantagh Ave",
          "Stop & Shop 25 Kinnelon Rd",
          "Village Fairway 240 E 86th St",
          "Whole Foods Market 10 Columbus Cir Ste 101",
          "ShopRite 900 Madison St",
          "Stop & Shop 3106 Farrington St",
          "Whole Foods Market 238 Bedford Ave Ste A",
          "Foodtown 300 W 145th St",
          "ShopRite 246 Livingston St",
          "Whole Foods Market 1400 Waterfront Terrace",
          "Stop & Shop 154 Westchester Ave",
          "Whole Foods Market 3495 Us Highway 1",
          "ShopRite Route 206 Maple Ave",
          "Whole Foods Market 1111 N Bethlehem Pike",
          "Whole Foods Market 60 Waterview Blvd",
          "Whole Foods Market 270 Greenwich St",
          "7-Eleven 1594 W 7th St",
          "Foodtown 756 Saint Nicholas Ave",
          "Whole Foods Market 101 H St SE",
          "King Kullen 231 W Merrick Rd",
          "ShopRite 540 New York Ave",
          "ShopRite 153 State Route 94 S",
          "Whole Foods Market 1797 Hydraulic Rd",
          "Whole Foods Market 175 N Pottstown Pike",
          "Whole Foods Market 645 Middlesex Ave",
          "Whole Foods Market 8402 Old Keene Mill Rd",
          "ShopRite 23 Bethel Rd",
          "Whole Foods Market 90 E Putnam Ave",
          "Whole Foods Market 3139 Sheridan Dr",
          "Whole Foods Market 560 Valley Rd",
          "Stop & Shop 8989 Union Tpke",
          "Stop & Shop 337 Franklin Ave",
          "Whole Foods Market 235 Prospect Ave",
          "Whole Foods Market 1563 Fruitville Pike",
          "Whole Foods Market 2024 W Broad St",
          "Stop & Shop 50 Cherry Valley Ave",
          "7-Eleven 5609 W Sunset Blvd",
          "ShopRite 3373 Brunswick Pike",
          "Whole Foods Market 701 Bloomfield Ave",
          "7-Eleven 5000 Wilshire Blvd",
          "ShopRite 625 Hamburg Tpke",
          "Whole Foods Market 120 Veterans Memorial Hwy",
          "Whole Foods Market 2101 Northern Blvd",
          "ShopRite 143 Federal Rd",
          "7-Eleven 187 N San Antonio Ave",
          "Stop & Shop 407 Valley St",
          "ShopRite 1153 Valley Rd",
          "ShopRite 1500 State Route 35",
          "ShopRite 775 Main St S",
          "Whole Foods Market 633 Broad St",
          "7-Eleven 16020 E Main St",
          "ShopRite 50 Walmart Plz",
          "ShopRite 4154 Us Route 1",
          "Stop & Shop 353 Route 37 E",
          "Stop & Shop 195 N Bedford Rd",
          "ShopRite 360 Connecticut Ave",
          "Stop & Shop 2425 Palmer Ave",
          "ShopRite 877 Saint George Ave",
          "Village Fairway 2131 Broadway",
          "Stop & Shop 653 Hillside Ave",
          "Foodtown 1420 Fulton St",
          "Brooklyn Harvest Market 781 Metropolitan Ave",
          "Whole Foods Market 429 N Broadway",
          "ShopRite 1225 Rte 33",
          "Whole Foods Market 520 12th St S Ste 100",
          "Stop & Shop 600 Kinderkamack Rd",
          "Whole Foods Market 11355 Woodglen Dr",
          "Whole Foods Market 1635 Boro Pl",
          "Whole Foods Market 292 Ashland Pl",
          "Whole Foods Market 3737 West Chester Pike",
          "Whole Foods Market 5269 River Rd",
          "Stop & Shop 160 Kingsland Rd",
          "Foodtown 9105 3rd Ave",
          "ShopRite 1151 Shrewsbury Ave",
          "Foodtown 159 N 3rd St",
          "ShopRite 23 Marshall Hill Rd",
          "Village Fairway 766 6th Ave",
          "Village Fairway 550 2nd Ave",
          "Whole Foods Market 821 W Lancaster Ave",
          "Whole Foods Market 300 Bergen Town Ctr",
          "Whole Foods Market 1933 State Route 35",
          "Whole Foods Market 143 Maple Ave E",
          "Stop & Shop 940 Easton Ave",
          "Foodtown 1291 Broadway",
          "ShopRite 110 Albany Tpke Ste 200",
          "Foodtown 632 Vanderbilt Ave",
          "Whole Foods Market 480 N Bedford Rd",
          "Stop & Shop 1600 Perrineville Rd",
          "7-Eleven 2500 W Burbank Blvd",
          "Whole Foods Market 1255 Raritan Rd Ste 150",
          "ShopRite 1325 Us Highway 206",
          "Whole Foods Market 575 Boston Post Rd",
          "Whole Foods Market 316 Kentlands Blvd",
          "Whole Foods Market 12090 Jefferson Ave Ste 100",
          "Whole Foods Market 5214 Sunrise Hwy",
          "ShopRite 13 City Pl",
          "Whole Foods Market 4 Union Sq S",
          "Whole Foods Market 471 State Route 35 N",
          "Whole Foods Market 44 Godwin Ave",
          "Whole Foods Market 350 Grasmere Ave",
          "ShopRite 2909 Washington Rd",
          "Whole Foods Market 226 E 57th St",
          "Whole Foods Market 2700 Wilson Blvd",
          "Foodtown 600 W 160th St",
          "King Kullen 127 Sunrise Hwy",
          "Whole Foods Market 214 3rd St",
          "Whole Foods Market 1700 Duke St",
          "ShopRite 3600 Park Ave",
          "Stop & Shop 1189 Broad St",
          "ShopRite 319 Us Highway 130",
          "Stop & Shop 460 Franklin Ave",
          "Whole Foods Market 1440 P St NW",
          "Brooklyn Harvest Market 25 N 5th St",
          "Whole Foods Market 10275 Little Patuxent Pkwy",
          "King Kullen 600 N Wellwood Ave",
          "Whole Foods Market 111 Siena Dr",
          "Whole Foods Market 150 Ledge Rd",
          "Whole Foods Market 833 Wayne Ave",
          "Whole Foods Market 11660 Plaza America Dr",
          "ShopRite 430 Greenwood Ave",
          "Whole Foods Market 1 Ridge Hill Rd",
          "Foodtown 409 5th Ave",
          "Whole Foods Market 967 Florida Ave NW",
          "Whole Foods Market 5880 Centre Ave",
          "Whole Foods Market 711 S Central Ave",
          "Whole Foods Market 110 Bloomingdale Rd",
          "ShopRite Rt 17 & Franklin Turnpike",
          "King Kullen 52 E Montauk Hwy",
          "ShopRite 875 Bridgeport Ave",
          "Whole Foods Market 1425 Central Ave",
          "ShopRite 250 River Rd",
          "Whole Foods Market 319 Chimney Rock Rd",
          "Stop & Shop 55 Brick Blvd",
          "Whole Foods Market 808 Columbus Ave",
          "Whole Foods Market 4530 40th St NW",
          "ShopRite 400 Luis Marin Blvd",
          "Whole Foods Market 600 H St NE",
          "King Kullen 2044 Montauk Hwy",
          "Whole Foods Market 940 Route 73 N",
          "Whole Foods Market 475 Wilmington Pike",
          "ShopRite 280 Us Highway 9",
          "ShopRite 1732 State Route 35",
          "Whole Foods Market 1558 Kings Hwy N",
          "ShopRite 668 Route 70",
          "Village Fairway 847 Pelham Pkwy",
          "7-Eleven 5326 York Blvd",
          "ShopRite 375 Paterson Ave",
          "ShopRite 1975 Black Rock Tpke",
          "ShopRite 4594 Us Highway 9 S",
          "Whole Foods Market 500 W Germantown Pike",
          "King Kullen 25 Eastport Manor Rd",
          "Stop & Shop 5 Town Center Dr",
          "ShopRite 3166 Us Highway 22",
          "Whole Foods Market 450 W 33rd St",
          "Whole Foods Market 905 River Rd",
          "Whole Foods Market 100 W 125th St",
          "Whole Foods Market 5 Sugar Hollow Rd Ste C",
          "Stop & Shop 25 Waterfront Pl",
          "Stop & Shop 111 Vredenburgh Ave",
          "Stop & Shop 245 Littleton Rd",
          "Whole Foods Market 19800 Belmont Chase Dr Ste 160",
          "ShopRite 3120 State Route 35",
          "ShopRite 2433 Highway 34",
          "ShopRite 583 589 Avenue C",
          "7-Eleven 3975 Wilshire Blvd",
          "King Kullen 598 Stewart Ave",
          "Whole Foods Market 113 Us Highway 9 S",
          "Whole Foods Market 120 New Moriches Rd",
          "ShopRite 22 Holt Dr"
         ],
         "type": "scattergeo"
        },
        {
         "lat": [
          "39.0496",
          "38.8994",
          "40.6774",
          "40.3944",
          "40.6884",
          "40.5839",
          "40.8116",
          "40.3584",
          "40.7443",
          "40.3869",
          "40.7816",
          "39.9677",
          "40.8246",
          "40.7036",
          "40.7763",
          "41.1434",
          "40.982",
          "41.3917",
          "40.8143",
          "38.7757",
          "39.8845",
          "40.8621",
          "40.7229",
          "40.7599",
          "38.9615",
          "40.3666",
          "40.6637",
          "40.8536",
          "41.0222",
          "40.6451",
          "40.4226",
          "40.0468",
          "40.8265",
          "40.6412",
          "40.8246",
          "41.033",
          "36.8282",
          "40.6669",
          "40.6794",
          "40.6251",
          "39.9771",
          "40.0766",
          "40.6907",
          "39.9362",
          "40.6203",
          "40.7975",
          "40.8726",
          "38.8829",
          "39.9074",
          "40.8445",
          "34.1005",
          "40.9045",
          "40.7465",
          "39.9771",
          "40.4173",
          "34.169",
          "40.8297",
          "39.2141",
          "40.1688",
          "40.7179",
          "41.0427",
          "41.4767",
          "41.3047",
          "40.843",
          "40.7597",
          "34.0289",
          "40.4587",
          "40.3323",
          "41.0277",
          "40.3192",
          "40.6794",
          "34.1144",
          "40.556",
          "40.3282",
          "39.2998",
          "40.3529",
          "38.9381",
          "39.1125",
          "41.2175",
          "40.9471",
          "41.0086",
          "40.8094",
          "40.7095",
          "40.5681",
          "39.3223",
          "40.7221",
          "40.732",
          "40.8693",
          "40.7651",
          "40.0612",
          "40.1217",
          "41.0768",
          "40.7484",
          "41.033",
          "40.7892",
          "40.9656",
          "40.9978",
          "40.6807",
          "38.978",
          "40.1481",
          "41.205",
          "40.5824",
          "40.679",
          "38.8565",
          "39.0373",
          "39.3716",
          "40.7952",
          "38.953",
          "40.6664",
          "40.9471",
          "40.8567",
          "40.7152",
          "41.2656",
          "40.9988",
          "39.9863",
          "40.9471",
          "40.6907",
          "40.6451",
          "40.7859",
          "38.9982",
          "40.7245",
          "40.0389",
          "41.0222",
          "40.9176",
          "40.5449",
          "40.7139",
          "41.0915",
          "40.2825",
          "40.7764",
          "40.5007",
          "38.806",
          "40.8265",
          "40.5877",
          "40.9655",
          "40.9978",
          "37.6628",
          "39.9015",
          "40.7681",
          "40.6669",
          "41.0577",
          "42.9744",
          "40.7582",
          "40.6816",
          "41.1705",
          "40.612",
          "40.1839",
          "40.9477",
          "40.4723",
          "40.701",
          "40.9755",
          "34.0699",
          "40.098",
          "40.7294",
          "41.0957",
          "40.7445",
          "40.6742",
          "38.9024",
          "40.2336",
          "40.6816",
          "40.1077",
          "40.1688",
          "38.8871",
          "40.0389",
          "40.2669",
          "40.7599",
          "34.1145",
          "40.7484",
          "40.7095",
          "40.9339",
          "40.8131",
          "40.7667",
          "40.7375",
          "41.8384",
          "40.7313",
          "41.1692",
          "40.6929",
          "40.7881",
          "37.0768",
          "38.9067",
          "41.1928",
          "40.685",
          "40.6251",
          "38.8776",
          "40.9331",
          "40.9166",
          "38.9122",
          "40.0",
          "40.588",
          "38.0936",
          "34.1144",
          "40.7571",
          "40.2171",
          "40.8382",
          "38.8935",
          "41.465",
          "40.8344",
          "38.9014",
          "40.8317",
          "38.9585",
          "38.9601",
          "40.9721",
          "38.9898",
          "42.7198",
          "41.0141",
          "37.5498",
          "41.0602"
         ],
         "lon": [
          "-77.1204",
          "-77.1895",
          "-74.4968",
          "-74.1157",
          "-73.3745",
          "-74.4147",
          "-73.955",
          "-74.0681",
          "-73.9781",
          "-74.5558",
          "-73.9511",
          "-75.1735",
          "-73.9507",
          "-73.8961",
          "-73.9529",
          "-73.3496",
          "-74.1131",
          "-73.4532",
          "-73.3634",
          "-77.2337",
          "-74.9067",
          "-74.4117",
          "-73.8473",
          "-74.4179",
          "-77.3418",
          "-74.6408",
          "-73.638",
          "-74.1079",
          "-73.6798",
          "-73.945",
          "-74.1799",
          "-75.6432",
          "-73.9383",
          "-74.9088",
          "-73.9507",
          "-73.7652",
          "-76.0237",
          "-73.9828",
          "-73.9496",
          "-74.0303",
          "-74.1565",
          "-76.3107",
          "-73.9274",
          "-75.1563",
          "-74.3106",
          "-73.9683",
          "-72.5202",
          "-76.9895",
          "-75.0008",
          "-74.4824",
          "-118.3254",
          "-73.8073",
          "-74.2575",
          "-74.1565",
          "-74.6938",
          "-118.3442",
          "-72.7283",
          "-76.8788",
          "-74.072",
          "-74.2829",
          "-73.6262",
          "-73.2241",
          "-73.1294",
          "-73.2799",
          "-73.9918",
          "-117.9373",
          "-74.305",
          "-80.081",
          "-74.6407",
          "-74.4285",
          "-73.9496",
          "-117.6583",
          "-74.2845",
          "-74.0589",
          "-76.6075",
          "-74.2779",
          "-77.086",
          "-77.2515",
          "-73.0549",
          "-74.2466",
          "-73.9389",
          "-74.1245",
          "-73.9563",
          "-74.5397",
          "-74.6008",
          "-74.0469",
          "-74.1765",
          "-74.1711",
          "-73.9858",
          "-75.3999",
          "-74.0611",
          "-73.4853",
          "-73.9967",
          "-73.7652",
          "-74.6776",
          "-73.8434",
          "-74.166",
          "-73.4444",
          "-77.082",
          "-74.2137",
          "-73.7299",
          "-75.5911",
          "-73.9644",
          "-77.0592",
          "-77.4805",
          "-76.6744",
          "-74.4873",
          "-77.2295",
          "-74.1192",
          "-74.2466",
          "-73.1168",
          "-73.9877",
          "-74.3604",
          "-74.4261",
          "-75.407",
          "-74.2466",
          "-73.9274",
          "-73.945",
          "-74.2568",
          "-77.0338",
          "-73.6487",
          "-74.1109",
          "-73.6798",
          "-73.8593",
          "-74.3517",
          "-74.007",
          "-74.375",
          "-74.3424",
          "-73.9827",
          "-74.5013",
          "-77.0529",
          "-73.9383",
          "-73.6595",
          "-74.3016",
          "-74.166",
          "-77.534",
          "-75.5049",
          "-74.0208",
          "-73.9828",
          "-74.1445",
          "-78.7949",
          "-74.9914",
          "-73.9798",
          "-73.7715",
          "-80.0649",
          "-75.2327",
          "-74.0672",
          "-79.9132",
          "-73.6758",
          "-74.0285",
          "-118.3492",
          "-75.1078",
          "-73.6828",
          "-73.4285",
          "-74.0329",
          "-73.7057",
          "-76.9901",
          "-74.6576",
          "-73.9798",
          "-75.2796",
          "-74.072",
          "-77.0932",
          "-74.1109",
          "-74.525",
          "-74.4179",
          "-118.1929",
          "-73.9967",
          "-73.9563",
          "-72.3077",
          "-74.2165",
          "-73.8241",
          "-73.9813",
          "-72.8987",
          "-73.9892",
          "-73.2681",
          "-73.6539",
          "-73.5331",
          "-76.4967",
          "-77.0312",
          "-73.2402",
          "-73.5103",
          "-74.0303",
          "-77.3885",
          "-74.0195",
          "-73.7877",
          "-77.0177",
          "-75.276",
          "-74.6874",
          "-78.5611",
          "-117.6583",
          "-73.9657",
          "-74.7429",
          "-73.942",
          "-77.2532",
          "-73.398",
          "-74.1377",
          "-77.0504",
          "-73.9738",
          "-77.1153",
          "-76.9147",
          "-73.959",
          "-76.5501",
          "-73.8207",
          "-73.7552",
          "-77.4588",
          "-73.5445"
         ],
         "marker": {
          "autocolorscale": true,
          "color": [
           "#f71252",
           "#f71252",
           "#6985b5",
           "#6985b5",
           "#ecd75a",
           "#6985b5",
           "#f71252",
           "#f71252",
           "#fb8b34",
           "#6985b5",
           "#f71252",
           "#f71252",
           "#10aefd",
           "#52099b",
           "#fb8b34",
           "#f71252",
           "#f71252",
           "#f71252",
           "#ecd75a",
           "#f71252",
           "#f71252",
           "#f71252",
           "#10aefd",
           "#f71252",
           "#f71252",
           "#f71252",
           "#ecd75a",
           "#6985b5",
           "#52099b",
           "#f71252",
           "#6985b5",
           "#f71252",
           "#10aefd",
           "#6985b5",
           "#10aefd",
           "#52099b",
           "#f71252",
           "#f71252",
           "#10aefd",
           "#10aefd",
           "#52099b",
           "#f71252",
           "#10aefd",
           "#f71252",
           "#f71252",
           "#f71252",
           "#ecd75a",
           "#f71252",
           "#f71252",
           "#52099b",
           "#8e1730",
           "#fb8b34",
           "#52099b",
           "#6985b5",
           "#6985b5",
           "#8e1730",
           "#ecd75a",
           "#f71252",
           "#6985b5",
           "#f71252",
           "#f71252",
           "#6985b5",
           "#6985b5",
           "#f71252",
           "#f71252",
           "#8e1730",
           "#6985b5",
           "#f71252",
           "#52099b",
           "#52099b",
           "#10aefd",
           "#8e1730",
           "#6985b5",
           "#6985b5",
           "#f71252",
           "#6985b5",
           "#f71252",
           "#f71252",
           "#f71252",
           "#6985b5",
           "#6985b5",
           "#6985b5",
           "#07981e",
           "#f71252",
           "#6985b5",
           "#6985b5",
           "#f71252",
           "#52099b",
           "#f71252",
           "#f71252",
           "#6985b5",
           "#f71252",
           "#f71252",
           "#6985b5",
           "#6985b5",
           "#f71252",
           "#6985b5",
           "#f71252",
           "#f71252",
           "#6985b5",
           "#52099b",
           "#f71252",
           "#10aefd",
           "#f71252",
           "#f71252",
           "#f71252",
           "#f71252",
           "#f71252",
           "#6985b5",
           "#52099b",
           "#f71252",
           "#f71252",
           "#6985b5",
           "#52099b",
           "#f71252",
           "#f71252",
           "#10aefd",
           "#07981e",
           "#f71252",
           "#f71252",
           "#f71252",
           "#6985b5",
           "#f71252",
           "#52099b",
           "#f71252",
           "#f71252",
           "#6985b5",
           "#f71252",
           "#fb8b34",
           "#52099b",
           "#f71252",
           "#10aefd",
           "#52099b",
           "#52099b",
           "#52099b",
           "#f71252",
           "#f71252",
           "#f71252",
           "#10aefd",
           "#6985b5",
           "#f71252",
           "#6985b5",
           "#f71252",
           "#f71252",
           "#f71252",
           "#f71252",
           "#f71252",
           "#f71252",
           "#52099b",
           "#52099b",
           "#8e1730",
           "#f71252",
           "#52099b",
           "#6985b5",
           "#6985b5",
           "#ecd75a",
           "#f71252",
           "#6985b5",
           "#52099b",
           "#f71252",
           "#f71252",
           "#f71252",
           "#52099b",
           "#6985b5",
           "#52099b",
           "#8e1730",
           "#f71252",
           "#10aefd",
           "#ecd75a",
           "#f71252",
           "#52099b",
           "#fb8b34",
           "#6985b5",
           "#f71252",
           "#f71252",
           "#52099b",
           "#f71252",
           "#f71252",
           "#f71252",
           "#6985b5",
           "#ecd75a",
           "#10aefd",
           "#f71252",
           "#6985b5",
           "#52099b",
           "#f71252",
           "#f71252",
           "#6985b5",
           "#f71252",
           "#8e1730",
           "#f71252",
           "#6985b5",
           "#10aefd",
           "#f71252",
           "#6985b5",
           "#52099b",
           "#f71252",
           "#f71252",
           "#f71252",
           "#f71252",
           "#f71252",
           "#f71252",
           "#f71252",
           "#f71252",
           "#f71252",
           "#6985b5"
          ]
         },
         "mode": "markers",
         "showlegend": false,
         "text": [
          "Whole Foods Market 11355 Woodglen Dr",
          "Whole Foods Market 7511 Leesburg Pike",
          "ShopRite 1153 Valley Rd",
          "ShopRite 1500 State Route 35",
          "King Kullen 600 N Wellwood Ave",
          "ShopRite 3600 Park Ave",
          "Whole Foods Market 100 W 125th St",
          "Whole Foods Market 471 State Route 35 N",
          "Village Fairway 550 2nd Ave",
          "ShopRite 4154 Us Route 1",
          "Whole Foods Market 1551 3rd Ave",
          "Whole Foods Market 2101 Pennsylvania Ave",
          "Foodtown 756 Saint Nicholas Ave",
          "Stop & Shop 8989 Union Tpke",
          "Village Fairway 240 E 86th St",
          "Whole Foods Market 399 Post Rd W",
          "Whole Foods Market 44 Godwin Ave",
          "Whole Foods Market 5 Sugar Hollow Rd Ste C",
          "King Kullen 275 W Jericho Tpke",
          "Whole Foods Market 8402 Old Keene Mill Rd",
          "Whole Foods Market 940 Route 73 N",
          "Whole Foods Market 60 Waterview Blvd",
          "Foodtown 110 44 Queens Blvd",
          "Whole Foods Market 222 Main St",
          "Whole Foods Market 11660 Plaza America Dr",
          "Whole Foods Market 3495 Us Highway 1",
          "King Kullen 127 Sunrise Hwy",
          "ShopRite 375 Paterson Ave",
          "Stop & Shop 25 Waterfront Pl",
          "Whole Foods Market 238 Bedford Ave Ste A",
          "ShopRite 3120 State Route 35",
          "Whole Foods Market 175 N Pottstown Pike",
          "Foodtown 300 West 145th Street",
          "ShopRite 50 Walmart Plz",
          "Foodtown 756 St. Nicholas Ave",
          "Stop & Shop 154 Westchester Ave",
          "Whole Foods Market 1800 Laskin Rd",
          "Whole Foods Market 214 3rd St",
          "Foodtown 1420 Fulton St",
          "Foodtown 9105-27 3rd Ave",
          "Stop & Shop 353 Route 37 E",
          "Whole Foods Market 1563 Fruitville Pike",
          "Foodtown 1291 Broadway",
          "Whole Foods Market 929 South St",
          "Whole Foods Market 1255 Raritan Rd Ste 150",
          "Whole Foods Market 808 Columbus Ave",
          "King Kullen 52 E Montauk Hwy",
          "Whole Foods Market 101 H St SE",
          "Whole Foods Market 1558 Kings Hwy N",
          "Stop & Shop 245 Littleton Rd",
          "7-Eleven 5609 W Sunset Blvd",
          "Village Fairway 847 Pelham Pkwy",
          "Stop & Shop 407 Valley St",
          "ShopRite 2 Route 37 W",
          "ShopRite 1325 Us Highway 206",
          "7-Eleven 2500 W Burbank Blvd",
          "King Kullen 25 Eastport Manor Rd",
          "Whole Foods Market 10275 Little Patuxent Pkwy",
          "ShopRite 1732 State Route 35",
          "Whole Foods Market 2245 Springfield Ave",
          "Whole Foods Market 90 E Putnam Ave",
          "ShopRite 775 Main St S",
          "ShopRite 875 Bridgeport Ave",
          "Whole Foods Market 120 Veterans Memorial Hwy",
          "Whole Foods Market 1095 6th Ave",
          "7-Eleven 16020 E Main St",
          "ShopRite 2909 Washington Rd",
          "Whole Foods Market 111 Siena Dr",
          "Stop & Shop 5 Town Center Dr",
          "Stop & Shop 1600 Perrineville Rd",
          "Foodtown 1420 Fulton St",
          "7-Eleven 187 N San Antonio Ave",
          "ShopRite 877 Saint George Ave",
          "ShopRite 1151 Shrewsbury Ave",
          "Whole Foods Market 711 S Central Ave",
          "ShopRite 280 Us Highway 9",
          "Whole Foods Market 4530 40th St NW",
          "Whole Foods Market 316 Kentlands Blvd",
          "Whole Foods Market 1686 Boston Post Rd",
          "ShopRite 625 Hamburg Tpke",
          "ShopRite 246 Livingston St",
          "ShopRite 540 New York Ave",
          "Brooklyn Harvest Market 781 Metropolitan Ave",
          "Whole Foods Market 319 Chimney Rock Rd",
          "ShopRite 23 Bethel Rd",
          "ShopRite 400 Luis Marin Blvd",
          "Whole Foods Market 633 Broad St",
          "Stop & Shop 1189 Broad St",
          "Whole Foods Market 10 Columbus Cir Ste 101",
          "Whole Foods Market 821 W Lancaster Ave",
          "ShopRite 2433 Highway 34",
          "Whole Foods Market 150 Ledge Rd",
          "Whole Foods Market 450 W 33rd St",
          "ShopRite 13 City Pl",
          "ShopRite Route 206 Maple Ave",
          "Whole Foods Market 1 Ridge Hill Rd",
          "ShopRite 430 Greenwood Ave",
          "Whole Foods Market 5214 Sunrise Hwy",
          "Whole Foods Market 4420 Willard Ave",
          "ShopRite 4594 Us Highway 9 S",
          "Stop & Shop 195 N Bedford Rd",
          "Whole Foods Market 750 N Krocks Rd",
          "Foodtown 632 Vanderbilt Ave",
          "Whole Foods Market 520 12th St S Ste 100",
          "Whole Foods Market 19800 Belmont Chase Dr Ste 160",
          "Whole Foods Market 1330 Smith Ave",
          "Whole Foods Market 110 Washington St",
          "Whole Foods Market 1635 Boro Pl",
          "ShopRite 583 589 Avenue C",
          "Stop & Shop 1220 Hamburg Tpke",
          "Whole Foods Market 120 New Moriches Rd",
          "Whole Foods Market 95 E Houston St",
          "ShopRite 153 State Route 94 S",
          "Stop & Shop 25 Kinnelon Rd",
          "Whole Foods Market 3737 West Chester Pike",
          "Whole Foods Market 560 Valley Rd",
          "Foodtown 1291 Broadway",
          "Brooklyn Harvest Market 25 N 5th St",
          "Whole Foods Market 235 Prospect Ave",
          "Whole Foods Market 833 Wayne Ave",
          "Whole Foods Market 867 E Gate Blvd",
          "ShopRite 668 Route 70",
          "Whole Foods Market 575 Boston Post Rd",
          "Stop & Shop 111 Vredenburgh Ave",
          "Whole Foods Market 645 Middlesex Ave",
          "Whole Foods Market 270 Greenwich St",
          "ShopRite 23 Marshall Hill Rd",
          "Whole Foods Market 113 Us Highway 9 S",
          "Village Fairway 2131 Broadway",
          "Stop & Shop 940 Easton Ave",
          "Whole Foods Market 1700 Duke St",
          "Foodtown 300 W 145th St",
          "Stop & Shop 85 E Park Ave",
          "Stop & Shop 500 Rte 23 N & Jackson Ave",
          "Stop & Shop 337 Franklin Ave",
          "Whole Foods Market 11173 W Broad St",
          "Whole Foods Market 475 Wilmington Pike",
          "Whole Foods Market 1400 Waterfront Terrace",
          "Foodtown 409 5th Ave",
          "ShopRite Rt 17 & Franklin Turnpike",
          "Whole Foods Market 3139 Sheridan Dr",
          "ShopRite 2 Club House Dr",
          "Whole Foods Market 292 Ashland Pl",
          "Whole Foods Market 480 N Bedford Rd",
          "Whole Foods Market 10576 Perry Hwy",
          "Whole Foods Market 1111 N Bethlehem Pike",
          "Whole Foods Market 300 Bergen Town Ctr",
          "Whole Foods Market 5880 Centre Ave",
          "Stop & Shop 460 Franklin Ave",
          "Stop & Shop 600 Kinderkamack Rd",
          "7-Eleven 5000 Wilshire Blvd",
          "Whole Foods Market 1575 The Fairway",
          "Stop & Shop 653 Hillside Ave",
          "ShopRite 360 Connecticut Ave",
          "ShopRite 900 Madison St",
          "King Kullen 231 W Merrick Rd",
          "Whole Foods Market 600 H St NE",
          "ShopRite 1225 Rte 33",
          "Stop & Shop 625 Atlantic Ave",
          "Whole Foods Market 500 W Germantown Pike",
          "Whole Foods Market 1933 State Route 35",
          "Whole Foods Market 2700 Wilson Blvd",
          "Stop & Shop 55 Brick Blvd",
          "ShopRite 319 Us Highway 130",
          "Stop & Shop 133 Main St",
          "7-Eleven 5326 York Blvd",
          "Whole Foods Market 250 7th Ave",
          "Foodtown 159 N 3rd St",
          "King Kullen 2044 Montauk Hwy",
          "Whole Foods Market 701 Bloomfield Ave",
          "Stop & Shop 3106 Farrington St",
          "Village Fairway 766 6th Ave",
          "ShopRite 110 Albany Tpke Ste 200",
          "Whole Foods Market 4 Union Sq S",
          "Whole Foods Market 350 Grasmere Ave",
          "Stop & Shop 50 Cherry Valley Ave",
          "Whole Foods Market 429 N Broadway",
          "Whole Foods Market 12090 Jefferson Ave Ste 100",
          "Whole Foods Market 1440 P St NW",
          "ShopRite 1975 Black Rock Tpke",
          "King Kullen 1340 Wantagh Ave",
          "Foodtown 9105 3rd Ave",
          "Whole Foods Market 4501 Market Commons Dr",
          "ShopRite 250 River Rd",
          "Stop & Shop 2425 Palmer Ave",
          "Whole Foods Market 967 Florida Ave NW",
          "Whole Foods Market 15 E Wynnewood Rd",
          "ShopRite 3166 Us Highway 22",
          "Whole Foods Market 1797 Hydraulic Rd",
          "7-Eleven 1594 W 7th St",
          "Whole Foods Market 226 E 57th St",
          "ShopRite 3373 Brunswick Pike",
          "Foodtown 600 W 160th St",
          "Whole Foods Market 143 Maple Ave E",
          "ShopRite 143 Federal Rd",
          "Stop & Shop 160 Kingsland Rd",
          "Whole Foods Market 2201 I St NW",
          "Whole Foods Market 905 River Rd",
          "Whole Foods Market 5269 River Rd",
          "Whole Foods Market 6621 Baltimore Ave Ste B",
          "Whole Foods Market 45 Vervalen St",
          "Whole Foods Market 200 Harker Pl Ste 100",
          "Whole Foods Market 1425 Central Ave",
          "Whole Foods Market 110 Bloomingdale Rd",
          "Whole Foods Market 2024 W Broad St",
          "ShopRite 200 Shippan Ave"
         ],
         "type": "scattergeo"
        }
       ],
       "layout": {
        "geo": {
         "projection": {
          "type": "albers usa"
         },
         "scope": "usa"
        },
        "sliders": [
         {
          "active": 0,
          "pad": {
           "t": 1
          },
          "steps": [
           {
            "args": [
             "visible",
             [
              true,
              false,
              false,
              false,
              false,
              false,
              false,
              false,
              false,
              false,
              false,
              false
             ]
            ],
            "label": "2021-03",
            "method": "restyle"
           },
           {
            "args": [
             "visible",
             [
              false,
              true,
              false,
              false,
              false,
              false,
              false,
              false,
              false,
              false,
              false,
              false
             ]
            ],
            "label": "2021-04",
            "method": "restyle"
           },
           {
            "args": [
             "visible",
             [
              false,
              false,
              true,
              false,
              false,
              false,
              false,
              false,
              false,
              false,
              false,
              false
             ]
            ],
            "label": "2021-05",
            "method": "restyle"
           },
           {
            "args": [
             "visible",
             [
              false,
              false,
              false,
              true,
              false,
              false,
              false,
              false,
              false,
              false,
              false,
              false
             ]
            ],
            "label": "2021-06",
            "method": "restyle"
           },
           {
            "args": [
             "visible",
             [
              false,
              false,
              false,
              false,
              true,
              false,
              false,
              false,
              false,
              false,
              false,
              false
             ]
            ],
            "label": "2021-07",
            "method": "restyle"
           },
           {
            "args": [
             "visible",
             [
              false,
              false,
              false,
              false,
              false,
              true,
              false,
              false,
              false,
              false,
              false,
              false
             ]
            ],
            "label": "2021-08",
            "method": "restyle"
           },
           {
            "args": [
             "visible",
             [
              false,
              false,
              false,
              false,
              false,
              false,
              true,
              false,
              false,
              false,
              false,
              false
             ]
            ],
            "label": "2021-09",
            "method": "restyle"
           },
           {
            "args": [
             "visible",
             [
              false,
              false,
              false,
              false,
              false,
              false,
              false,
              true,
              false,
              false,
              false,
              false
             ]
            ],
            "label": "2021-10",
            "method": "restyle"
           },
           {
            "args": [
             "visible",
             [
              false,
              false,
              false,
              false,
              false,
              false,
              false,
              false,
              true,
              false,
              false,
              false
             ]
            ],
            "label": "2021-11",
            "method": "restyle"
           },
           {
            "args": [
             "visible",
             [
              false,
              false,
              false,
              false,
              false,
              false,
              false,
              false,
              false,
              true,
              false,
              false
             ]
            ],
            "label": "2021-12",
            "method": "restyle"
           },
           {
            "args": [
             "visible",
             [
              false,
              false,
              false,
              false,
              false,
              false,
              false,
              false,
              false,
              false,
              true,
              false
             ]
            ],
            "label": "2022-01",
            "method": "restyle"
           },
           {
            "args": [
             "visible",
             [
              false,
              false,
              false,
              false,
              false,
              false,
              false,
              false,
              false,
              false,
              false,
              true
             ]
            ],
            "label": "2022-02",
            "method": "restyle"
           }
          ]
         }
        ],
        "template": {
         "data": {
          "bar": [
           {
            "error_x": {
             "color": "#2a3f5f"
            },
            "error_y": {
             "color": "#2a3f5f"
            },
            "marker": {
             "line": {
              "color": "#E5ECF6",
              "width": 0.5
             },
             "pattern": {
              "fillmode": "overlay",
              "size": 10,
              "solidity": 0.2
             }
            },
            "type": "bar"
           }
          ],
          "barpolar": [
           {
            "marker": {
             "line": {
              "color": "#E5ECF6",
              "width": 0.5
             },
             "pattern": {
              "fillmode": "overlay",
              "size": 10,
              "solidity": 0.2
             }
            },
            "type": "barpolar"
           }
          ],
          "carpet": [
           {
            "aaxis": {
             "endlinecolor": "#2a3f5f",
             "gridcolor": "white",
             "linecolor": "white",
             "minorgridcolor": "white",
             "startlinecolor": "#2a3f5f"
            },
            "baxis": {
             "endlinecolor": "#2a3f5f",
             "gridcolor": "white",
             "linecolor": "white",
             "minorgridcolor": "white",
             "startlinecolor": "#2a3f5f"
            },
            "type": "carpet"
           }
          ],
          "choropleth": [
           {
            "colorbar": {
             "outlinewidth": 0,
             "ticks": ""
            },
            "type": "choropleth"
           }
          ],
          "contour": [
           {
            "colorbar": {
             "outlinewidth": 0,
             "ticks": ""
            },
            "colorscale": [
             [
              0,
              "#0d0887"
             ],
             [
              0.1111111111111111,
              "#46039f"
             ],
             [
              0.2222222222222222,
              "#7201a8"
             ],
             [
              0.3333333333333333,
              "#9c179e"
             ],
             [
              0.4444444444444444,
              "#bd3786"
             ],
             [
              0.5555555555555556,
              "#d8576b"
             ],
             [
              0.6666666666666666,
              "#ed7953"
             ],
             [
              0.7777777777777778,
              "#fb9f3a"
             ],
             [
              0.8888888888888888,
              "#fdca26"
             ],
             [
              1,
              "#f0f921"
             ]
            ],
            "type": "contour"
           }
          ],
          "contourcarpet": [
           {
            "colorbar": {
             "outlinewidth": 0,
             "ticks": ""
            },
            "type": "contourcarpet"
           }
          ],
          "heatmap": [
           {
            "colorbar": {
             "outlinewidth": 0,
             "ticks": ""
            },
            "colorscale": [
             [
              0,
              "#0d0887"
             ],
             [
              0.1111111111111111,
              "#46039f"
             ],
             [
              0.2222222222222222,
              "#7201a8"
             ],
             [
              0.3333333333333333,
              "#9c179e"
             ],
             [
              0.4444444444444444,
              "#bd3786"
             ],
             [
              0.5555555555555556,
              "#d8576b"
             ],
             [
              0.6666666666666666,
              "#ed7953"
             ],
             [
              0.7777777777777778,
              "#fb9f3a"
             ],
             [
              0.8888888888888888,
              "#fdca26"
             ],
             [
              1,
              "#f0f921"
             ]
            ],
            "type": "heatmap"
           }
          ],
          "heatmapgl": [
           {
            "colorbar": {
             "outlinewidth": 0,
             "ticks": ""
            },
            "colorscale": [
             [
              0,
              "#0d0887"
             ],
             [
              0.1111111111111111,
              "#46039f"
             ],
             [
              0.2222222222222222,
              "#7201a8"
             ],
             [
              0.3333333333333333,
              "#9c179e"
             ],
             [
              0.4444444444444444,
              "#bd3786"
             ],
             [
              0.5555555555555556,
              "#d8576b"
             ],
             [
              0.6666666666666666,
              "#ed7953"
             ],
             [
              0.7777777777777778,
              "#fb9f3a"
             ],
             [
              0.8888888888888888,
              "#fdca26"
             ],
             [
              1,
              "#f0f921"
             ]
            ],
            "type": "heatmapgl"
           }
          ],
          "histogram": [
           {
            "marker": {
             "pattern": {
              "fillmode": "overlay",
              "size": 10,
              "solidity": 0.2
             }
            },
            "type": "histogram"
           }
          ],
          "histogram2d": [
           {
            "colorbar": {
             "outlinewidth": 0,
             "ticks": ""
            },
            "colorscale": [
             [
              0,
              "#0d0887"
             ],
             [
              0.1111111111111111,
              "#46039f"
             ],
             [
              0.2222222222222222,
              "#7201a8"
             ],
             [
              0.3333333333333333,
              "#9c179e"
             ],
             [
              0.4444444444444444,
              "#bd3786"
             ],
             [
              0.5555555555555556,
              "#d8576b"
             ],
             [
              0.6666666666666666,
              "#ed7953"
             ],
             [
              0.7777777777777778,
              "#fb9f3a"
             ],
             [
              0.8888888888888888,
              "#fdca26"
             ],
             [
              1,
              "#f0f921"
             ]
            ],
            "type": "histogram2d"
           }
          ],
          "histogram2dcontour": [
           {
            "colorbar": {
             "outlinewidth": 0,
             "ticks": ""
            },
            "colorscale": [
             [
              0,
              "#0d0887"
             ],
             [
              0.1111111111111111,
              "#46039f"
             ],
             [
              0.2222222222222222,
              "#7201a8"
             ],
             [
              0.3333333333333333,
              "#9c179e"
             ],
             [
              0.4444444444444444,
              "#bd3786"
             ],
             [
              0.5555555555555556,
              "#d8576b"
             ],
             [
              0.6666666666666666,
              "#ed7953"
             ],
             [
              0.7777777777777778,
              "#fb9f3a"
             ],
             [
              0.8888888888888888,
              "#fdca26"
             ],
             [
              1,
              "#f0f921"
             ]
            ],
            "type": "histogram2dcontour"
           }
          ],
          "mesh3d": [
           {
            "colorbar": {
             "outlinewidth": 0,
             "ticks": ""
            },
            "type": "mesh3d"
           }
          ],
          "parcoords": [
           {
            "line": {
             "colorbar": {
              "outlinewidth": 0,
              "ticks": ""
             }
            },
            "type": "parcoords"
           }
          ],
          "pie": [
           {
            "automargin": true,
            "type": "pie"
           }
          ],
          "scatter": [
           {
            "marker": {
             "colorbar": {
              "outlinewidth": 0,
              "ticks": ""
             }
            },
            "type": "scatter"
           }
          ],
          "scatter3d": [
           {
            "line": {
             "colorbar": {
              "outlinewidth": 0,
              "ticks": ""
             }
            },
            "marker": {
             "colorbar": {
              "outlinewidth": 0,
              "ticks": ""
             }
            },
            "type": "scatter3d"
           }
          ],
          "scattercarpet": [
           {
            "marker": {
             "colorbar": {
              "outlinewidth": 0,
              "ticks": ""
             }
            },
            "type": "scattercarpet"
           }
          ],
          "scattergeo": [
           {
            "marker": {
             "colorbar": {
              "outlinewidth": 0,
              "ticks": ""
             }
            },
            "type": "scattergeo"
           }
          ],
          "scattergl": [
           {
            "marker": {
             "colorbar": {
              "outlinewidth": 0,
              "ticks": ""
             }
            },
            "type": "scattergl"
           }
          ],
          "scattermapbox": [
           {
            "marker": {
             "colorbar": {
              "outlinewidth": 0,
              "ticks": ""
             }
            },
            "type": "scattermapbox"
           }
          ],
          "scatterpolar": [
           {
            "marker": {
             "colorbar": {
              "outlinewidth": 0,
              "ticks": ""
             }
            },
            "type": "scatterpolar"
           }
          ],
          "scatterpolargl": [
           {
            "marker": {
             "colorbar": {
              "outlinewidth": 0,
              "ticks": ""
             }
            },
            "type": "scatterpolargl"
           }
          ],
          "scatterternary": [
           {
            "marker": {
             "colorbar": {
              "outlinewidth": 0,
              "ticks": ""
             }
            },
            "type": "scatterternary"
           }
          ],
          "surface": [
           {
            "colorbar": {
             "outlinewidth": 0,
             "ticks": ""
            },
            "colorscale": [
             [
              0,
              "#0d0887"
             ],
             [
              0.1111111111111111,
              "#46039f"
             ],
             [
              0.2222222222222222,
              "#7201a8"
             ],
             [
              0.3333333333333333,
              "#9c179e"
             ],
             [
              0.4444444444444444,
              "#bd3786"
             ],
             [
              0.5555555555555556,
              "#d8576b"
             ],
             [
              0.6666666666666666,
              "#ed7953"
             ],
             [
              0.7777777777777778,
              "#fb9f3a"
             ],
             [
              0.8888888888888888,
              "#fdca26"
             ],
             [
              1,
              "#f0f921"
             ]
            ],
            "type": "surface"
           }
          ],
          "table": [
           {
            "cells": {
             "fill": {
              "color": "#EBF0F8"
             },
             "line": {
              "color": "white"
             }
            },
            "header": {
             "fill": {
              "color": "#C8D4E3"
             },
             "line": {
              "color": "white"
             }
            },
            "type": "table"
           }
          ]
         },
         "layout": {
          "annotationdefaults": {
           "arrowcolor": "#2a3f5f",
           "arrowhead": 0,
           "arrowwidth": 1
          },
          "autotypenumbers": "strict",
          "coloraxis": {
           "colorbar": {
            "outlinewidth": 0,
            "ticks": ""
           }
          },
          "colorscale": {
           "diverging": [
            [
             0,
             "#8e0152"
            ],
            [
             0.1,
             "#c51b7d"
            ],
            [
             0.2,
             "#de77ae"
            ],
            [
             0.3,
             "#f1b6da"
            ],
            [
             0.4,
             "#fde0ef"
            ],
            [
             0.5,
             "#f7f7f7"
            ],
            [
             0.6,
             "#e6f5d0"
            ],
            [
             0.7,
             "#b8e186"
            ],
            [
             0.8,
             "#7fbc41"
            ],
            [
             0.9,
             "#4d9221"
            ],
            [
             1,
             "#276419"
            ]
           ],
           "sequential": [
            [
             0,
             "#0d0887"
            ],
            [
             0.1111111111111111,
             "#46039f"
            ],
            [
             0.2222222222222222,
             "#7201a8"
            ],
            [
             0.3333333333333333,
             "#9c179e"
            ],
            [
             0.4444444444444444,
             "#bd3786"
            ],
            [
             0.5555555555555556,
             "#d8576b"
            ],
            [
             0.6666666666666666,
             "#ed7953"
            ],
            [
             0.7777777777777778,
             "#fb9f3a"
            ],
            [
             0.8888888888888888,
             "#fdca26"
            ],
            [
             1,
             "#f0f921"
            ]
           ],
           "sequentialminus": [
            [
             0,
             "#0d0887"
            ],
            [
             0.1111111111111111,
             "#46039f"
            ],
            [
             0.2222222222222222,
             "#7201a8"
            ],
            [
             0.3333333333333333,
             "#9c179e"
            ],
            [
             0.4444444444444444,
             "#bd3786"
            ],
            [
             0.5555555555555556,
             "#d8576b"
            ],
            [
             0.6666666666666666,
             "#ed7953"
            ],
            [
             0.7777777777777778,
             "#fb9f3a"
            ],
            [
             0.8888888888888888,
             "#fdca26"
            ],
            [
             1,
             "#f0f921"
            ]
           ]
          },
          "colorway": [
           "#636efa",
           "#EF553B",
           "#00cc96",
           "#ab63fa",
           "#FFA15A",
           "#19d3f3",
           "#FF6692",
           "#B6E880",
           "#FF97FF",
           "#FECB52"
          ],
          "font": {
           "color": "#2a3f5f"
          },
          "geo": {
           "bgcolor": "white",
           "lakecolor": "white",
           "landcolor": "#E5ECF6",
           "showlakes": true,
           "showland": true,
           "subunitcolor": "white"
          },
          "hoverlabel": {
           "align": "left"
          },
          "hovermode": "closest",
          "mapbox": {
           "style": "light"
          },
          "paper_bgcolor": "white",
          "plot_bgcolor": "#E5ECF6",
          "polar": {
           "angularaxis": {
            "gridcolor": "white",
            "linecolor": "white",
            "ticks": ""
           },
           "bgcolor": "#E5ECF6",
           "radialaxis": {
            "gridcolor": "white",
            "linecolor": "white",
            "ticks": ""
           }
          },
          "scene": {
           "xaxis": {
            "backgroundcolor": "#E5ECF6",
            "gridcolor": "white",
            "gridwidth": 2,
            "linecolor": "white",
            "showbackground": true,
            "ticks": "",
            "zerolinecolor": "white"
           },
           "yaxis": {
            "backgroundcolor": "#E5ECF6",
            "gridcolor": "white",
            "gridwidth": 2,
            "linecolor": "white",
            "showbackground": true,
            "ticks": "",
            "zerolinecolor": "white"
           },
           "zaxis": {
            "backgroundcolor": "#E5ECF6",
            "gridcolor": "white",
            "gridwidth": 2,
            "linecolor": "white",
            "showbackground": true,
            "ticks": "",
            "zerolinecolor": "white"
           }
          },
          "shapedefaults": {
           "line": {
            "color": "#2a3f5f"
           }
          },
          "ternary": {
           "aaxis": {
            "gridcolor": "white",
            "linecolor": "white",
            "ticks": ""
           },
           "baxis": {
            "gridcolor": "white",
            "linecolor": "white",
            "ticks": ""
           },
           "bgcolor": "#E5ECF6",
           "caxis": {
            "gridcolor": "white",
            "linecolor": "white",
            "ticks": ""
           }
          },
          "title": {
           "x": 0.05
          },
          "xaxis": {
           "automargin": true,
           "gridcolor": "white",
           "linecolor": "white",
           "ticks": "",
           "title": {
            "standoff": 15
           },
           "zerolinecolor": "white",
           "zerolinewidth": 2
          },
          "yaxis": {
           "automargin": true,
           "gridcolor": "white",
           "linecolor": "white",
           "ticks": "",
           "title": {
            "standoff": 15
           },
           "zerolinecolor": "white",
           "zerolinewidth": 2
          }
         }
        },
        "title": {
         "text": "Sanzo Distribution Map"
        }
       }
      }
     },
     "metadata": {},
     "output_type": "display_data"
    },
    {
     "data": {
      "application/vnd.plotly.v1+json": {
       "config": {
        "plotlyServerURL": "https://plot.ly"
       },
       "data": [
        {
         "hovertemplate": "color=Foodtown<br>x=%{x}<br>y=%{y}<extra></extra>",
         "legendgroup": "Foodtown",
         "marker": {
          "color": "#10aefd",
          "symbol": "circle"
         },
         "mode": "markers",
         "name": "Foodtown",
         "orientation": "v",
         "showlegend": true,
         "type": "scatter",
         "x": [
          "Foodtown"
         ],
         "xaxis": "x",
         "y": [
          null
         ],
         "yaxis": "y"
        },
        {
         "hovertemplate": "color=Food Cellar<br>x=%{x}<br>y=%{y}<extra></extra>",
         "legendgroup": "Food Cellar",
         "marker": {
          "color": "#db9758",
          "symbol": "circle"
         },
         "mode": "markers",
         "name": "Food Cellar",
         "orientation": "v",
         "showlegend": true,
         "type": "scatter",
         "x": [
          "Food Cellar"
         ],
         "xaxis": "x",
         "y": [
          null
         ],
         "yaxis": "y"
        },
        {
         "hovertemplate": "color=Whole Foods Market<br>x=%{x}<br>y=%{y}<extra></extra>",
         "legendgroup": "Whole Foods Market",
         "marker": {
          "color": "#f71252",
          "symbol": "circle"
         },
         "mode": "markers",
         "name": "Whole Foods Market",
         "orientation": "v",
         "showlegend": true,
         "type": "scatter",
         "x": [
          "Whole Foods Market"
         ],
         "xaxis": "x",
         "y": [
          null
         ],
         "yaxis": "y"
        },
        {
         "hovertemplate": "color=Brooklyn Harvest Market<br>x=%{x}<br>y=%{y}<extra></extra>",
         "legendgroup": "Brooklyn Harvest Market",
         "marker": {
          "color": "#07981e",
          "symbol": "circle"
         },
         "mode": "markers",
         "name": "Brooklyn Harvest Market",
         "orientation": "v",
         "showlegend": true,
         "type": "scatter",
         "x": [
          "Brooklyn Harvest Market"
         ],
         "xaxis": "x",
         "y": [
          null
         ],
         "yaxis": "y"
        },
        {
         "hovertemplate": "color=ShopRite<br>x=%{x}<br>y=%{y}<extra></extra>",
         "legendgroup": "ShopRite",
         "marker": {
          "color": "#6985b5",
          "symbol": "circle"
         },
         "mode": "markers",
         "name": "ShopRite",
         "orientation": "v",
         "showlegend": true,
         "type": "scatter",
         "x": [
          "ShopRite"
         ],
         "xaxis": "x",
         "y": [
          null
         ],
         "yaxis": "y"
        },
        {
         "hovertemplate": "color=King Kullen<br>x=%{x}<br>y=%{y}<extra></extra>",
         "legendgroup": "King Kullen",
         "marker": {
          "color": "#ecd75a",
          "symbol": "circle"
         },
         "mode": "markers",
         "name": "King Kullen",
         "orientation": "v",
         "showlegend": true,
         "type": "scatter",
         "x": [
          "King Kullen"
         ],
         "xaxis": "x",
         "y": [
          null
         ],
         "yaxis": "y"
        },
        {
         "hovertemplate": "color=Village Fairway<br>x=%{x}<br>y=%{y}<extra></extra>",
         "legendgroup": "Village Fairway",
         "marker": {
          "color": "#fb8b34",
          "symbol": "circle"
         },
         "mode": "markers",
         "name": "Village Fairway",
         "orientation": "v",
         "showlegend": true,
         "type": "scatter",
         "x": [
          "Village Fairway"
         ],
         "xaxis": "x",
         "y": [
          null
         ],
         "yaxis": "y"
        },
        {
         "hovertemplate": "color=7-Eleven<br>x=%{x}<br>y=%{y}<extra></extra>",
         "legendgroup": "7-Eleven",
         "marker": {
          "color": "#8e1730",
          "symbol": "circle"
         },
         "mode": "markers",
         "name": "7-Eleven",
         "orientation": "v",
         "showlegend": true,
         "type": "scatter",
         "x": [
          "7-Eleven"
         ],
         "xaxis": "x",
         "y": [
          null
         ],
         "yaxis": "y"
        },
        {
         "hovertemplate": "color=Stop & Shop<br>x=%{x}<br>y=%{y}<extra></extra>",
         "legendgroup": "Stop & Shop",
         "marker": {
          "color": "#52099b",
          "symbol": "circle"
         },
         "mode": "markers",
         "name": "Stop & Shop",
         "orientation": "v",
         "showlegend": true,
         "type": "scatter",
         "x": [
          "Stop & Shop"
         ],
         "xaxis": "x",
         "y": [
          null
         ],
         "yaxis": "y"
        },
        {
         "hovertemplate": "color=Raleys<br>x=%{x}<br>y=%{y}<extra></extra>",
         "legendgroup": "Raleys",
         "marker": {
          "color": "#119d58",
          "symbol": "circle"
         },
         "mode": "markers",
         "name": "Raleys",
         "orientation": "v",
         "showlegend": true,
         "type": "scatter",
         "x": [
          "Raleys"
         ],
         "xaxis": "x",
         "y": [
          null
         ],
         "yaxis": "y"
        }
       ],
       "layout": {
        "legend": {
         "title": {
          "text": "color"
         },
         "tracegroupgap": 0
        },
        "margin": {
         "t": 60
        },
        "paper_bgcolor": "rgba(0, 0, 0, 0)",
        "plot_bgcolor": "rgba(0, 0, 0, 0)",
        "template": {
         "data": {
          "bar": [
           {
            "error_x": {
             "color": "#2a3f5f"
            },
            "error_y": {
             "color": "#2a3f5f"
            },
            "marker": {
             "line": {
              "color": "#E5ECF6",
              "width": 0.5
             },
             "pattern": {
              "fillmode": "overlay",
              "size": 10,
              "solidity": 0.2
             }
            },
            "type": "bar"
           }
          ],
          "barpolar": [
           {
            "marker": {
             "line": {
              "color": "#E5ECF6",
              "width": 0.5
             },
             "pattern": {
              "fillmode": "overlay",
              "size": 10,
              "solidity": 0.2
             }
            },
            "type": "barpolar"
           }
          ],
          "carpet": [
           {
            "aaxis": {
             "endlinecolor": "#2a3f5f",
             "gridcolor": "white",
             "linecolor": "white",
             "minorgridcolor": "white",
             "startlinecolor": "#2a3f5f"
            },
            "baxis": {
             "endlinecolor": "#2a3f5f",
             "gridcolor": "white",
             "linecolor": "white",
             "minorgridcolor": "white",
             "startlinecolor": "#2a3f5f"
            },
            "type": "carpet"
           }
          ],
          "choropleth": [
           {
            "colorbar": {
             "outlinewidth": 0,
             "ticks": ""
            },
            "type": "choropleth"
           }
          ],
          "contour": [
           {
            "colorbar": {
             "outlinewidth": 0,
             "ticks": ""
            },
            "colorscale": [
             [
              0,
              "#0d0887"
             ],
             [
              0.1111111111111111,
              "#46039f"
             ],
             [
              0.2222222222222222,
              "#7201a8"
             ],
             [
              0.3333333333333333,
              "#9c179e"
             ],
             [
              0.4444444444444444,
              "#bd3786"
             ],
             [
              0.5555555555555556,
              "#d8576b"
             ],
             [
              0.6666666666666666,
              "#ed7953"
             ],
             [
              0.7777777777777778,
              "#fb9f3a"
             ],
             [
              0.8888888888888888,
              "#fdca26"
             ],
             [
              1,
              "#f0f921"
             ]
            ],
            "type": "contour"
           }
          ],
          "contourcarpet": [
           {
            "colorbar": {
             "outlinewidth": 0,
             "ticks": ""
            },
            "type": "contourcarpet"
           }
          ],
          "heatmap": [
           {
            "colorbar": {
             "outlinewidth": 0,
             "ticks": ""
            },
            "colorscale": [
             [
              0,
              "#0d0887"
             ],
             [
              0.1111111111111111,
              "#46039f"
             ],
             [
              0.2222222222222222,
              "#7201a8"
             ],
             [
              0.3333333333333333,
              "#9c179e"
             ],
             [
              0.4444444444444444,
              "#bd3786"
             ],
             [
              0.5555555555555556,
              "#d8576b"
             ],
             [
              0.6666666666666666,
              "#ed7953"
             ],
             [
              0.7777777777777778,
              "#fb9f3a"
             ],
             [
              0.8888888888888888,
              "#fdca26"
             ],
             [
              1,
              "#f0f921"
             ]
            ],
            "type": "heatmap"
           }
          ],
          "heatmapgl": [
           {
            "colorbar": {
             "outlinewidth": 0,
             "ticks": ""
            },
            "colorscale": [
             [
              0,
              "#0d0887"
             ],
             [
              0.1111111111111111,
              "#46039f"
             ],
             [
              0.2222222222222222,
              "#7201a8"
             ],
             [
              0.3333333333333333,
              "#9c179e"
             ],
             [
              0.4444444444444444,
              "#bd3786"
             ],
             [
              0.5555555555555556,
              "#d8576b"
             ],
             [
              0.6666666666666666,
              "#ed7953"
             ],
             [
              0.7777777777777778,
              "#fb9f3a"
             ],
             [
              0.8888888888888888,
              "#fdca26"
             ],
             [
              1,
              "#f0f921"
             ]
            ],
            "type": "heatmapgl"
           }
          ],
          "histogram": [
           {
            "marker": {
             "pattern": {
              "fillmode": "overlay",
              "size": 10,
              "solidity": 0.2
             }
            },
            "type": "histogram"
           }
          ],
          "histogram2d": [
           {
            "colorbar": {
             "outlinewidth": 0,
             "ticks": ""
            },
            "colorscale": [
             [
              0,
              "#0d0887"
             ],
             [
              0.1111111111111111,
              "#46039f"
             ],
             [
              0.2222222222222222,
              "#7201a8"
             ],
             [
              0.3333333333333333,
              "#9c179e"
             ],
             [
              0.4444444444444444,
              "#bd3786"
             ],
             [
              0.5555555555555556,
              "#d8576b"
             ],
             [
              0.6666666666666666,
              "#ed7953"
             ],
             [
              0.7777777777777778,
              "#fb9f3a"
             ],
             [
              0.8888888888888888,
              "#fdca26"
             ],
             [
              1,
              "#f0f921"
             ]
            ],
            "type": "histogram2d"
           }
          ],
          "histogram2dcontour": [
           {
            "colorbar": {
             "outlinewidth": 0,
             "ticks": ""
            },
            "colorscale": [
             [
              0,
              "#0d0887"
             ],
             [
              0.1111111111111111,
              "#46039f"
             ],
             [
              0.2222222222222222,
              "#7201a8"
             ],
             [
              0.3333333333333333,
              "#9c179e"
             ],
             [
              0.4444444444444444,
              "#bd3786"
             ],
             [
              0.5555555555555556,
              "#d8576b"
             ],
             [
              0.6666666666666666,
              "#ed7953"
             ],
             [
              0.7777777777777778,
              "#fb9f3a"
             ],
             [
              0.8888888888888888,
              "#fdca26"
             ],
             [
              1,
              "#f0f921"
             ]
            ],
            "type": "histogram2dcontour"
           }
          ],
          "mesh3d": [
           {
            "colorbar": {
             "outlinewidth": 0,
             "ticks": ""
            },
            "type": "mesh3d"
           }
          ],
          "parcoords": [
           {
            "line": {
             "colorbar": {
              "outlinewidth": 0,
              "ticks": ""
             }
            },
            "type": "parcoords"
           }
          ],
          "pie": [
           {
            "automargin": true,
            "type": "pie"
           }
          ],
          "scatter": [
           {
            "marker": {
             "colorbar": {
              "outlinewidth": 0,
              "ticks": ""
             }
            },
            "type": "scatter"
           }
          ],
          "scatter3d": [
           {
            "line": {
             "colorbar": {
              "outlinewidth": 0,
              "ticks": ""
             }
            },
            "marker": {
             "colorbar": {
              "outlinewidth": 0,
              "ticks": ""
             }
            },
            "type": "scatter3d"
           }
          ],
          "scattercarpet": [
           {
            "marker": {
             "colorbar": {
              "outlinewidth": 0,
              "ticks": ""
             }
            },
            "type": "scattercarpet"
           }
          ],
          "scattergeo": [
           {
            "marker": {
             "colorbar": {
              "outlinewidth": 0,
              "ticks": ""
             }
            },
            "type": "scattergeo"
           }
          ],
          "scattergl": [
           {
            "marker": {
             "colorbar": {
              "outlinewidth": 0,
              "ticks": ""
             }
            },
            "type": "scattergl"
           }
          ],
          "scattermapbox": [
           {
            "marker": {
             "colorbar": {
              "outlinewidth": 0,
              "ticks": ""
             }
            },
            "type": "scattermapbox"
           }
          ],
          "scatterpolar": [
           {
            "marker": {
             "colorbar": {
              "outlinewidth": 0,
              "ticks": ""
             }
            },
            "type": "scatterpolar"
           }
          ],
          "scatterpolargl": [
           {
            "marker": {
             "colorbar": {
              "outlinewidth": 0,
              "ticks": ""
             }
            },
            "type": "scatterpolargl"
           }
          ],
          "scatterternary": [
           {
            "marker": {
             "colorbar": {
              "outlinewidth": 0,
              "ticks": ""
             }
            },
            "type": "scatterternary"
           }
          ],
          "surface": [
           {
            "colorbar": {
             "outlinewidth": 0,
             "ticks": ""
            },
            "colorscale": [
             [
              0,
              "#0d0887"
             ],
             [
              0.1111111111111111,
              "#46039f"
             ],
             [
              0.2222222222222222,
              "#7201a8"
             ],
             [
              0.3333333333333333,
              "#9c179e"
             ],
             [
              0.4444444444444444,
              "#bd3786"
             ],
             [
              0.5555555555555556,
              "#d8576b"
             ],
             [
              0.6666666666666666,
              "#ed7953"
             ],
             [
              0.7777777777777778,
              "#fb9f3a"
             ],
             [
              0.8888888888888888,
              "#fdca26"
             ],
             [
              1,
              "#f0f921"
             ]
            ],
            "type": "surface"
           }
          ],
          "table": [
           {
            "cells": {
             "fill": {
              "color": "#EBF0F8"
             },
             "line": {
              "color": "white"
             }
            },
            "header": {
             "fill": {
              "color": "#C8D4E3"
             },
             "line": {
              "color": "white"
             }
            },
            "type": "table"
           }
          ]
         },
         "layout": {
          "annotationdefaults": {
           "arrowcolor": "#2a3f5f",
           "arrowhead": 0,
           "arrowwidth": 1
          },
          "autotypenumbers": "strict",
          "coloraxis": {
           "colorbar": {
            "outlinewidth": 0,
            "ticks": ""
           }
          },
          "colorscale": {
           "diverging": [
            [
             0,
             "#8e0152"
            ],
            [
             0.1,
             "#c51b7d"
            ],
            [
             0.2,
             "#de77ae"
            ],
            [
             0.3,
             "#f1b6da"
            ],
            [
             0.4,
             "#fde0ef"
            ],
            [
             0.5,
             "#f7f7f7"
            ],
            [
             0.6,
             "#e6f5d0"
            ],
            [
             0.7,
             "#b8e186"
            ],
            [
             0.8,
             "#7fbc41"
            ],
            [
             0.9,
             "#4d9221"
            ],
            [
             1,
             "#276419"
            ]
           ],
           "sequential": [
            [
             0,
             "#0d0887"
            ],
            [
             0.1111111111111111,
             "#46039f"
            ],
            [
             0.2222222222222222,
             "#7201a8"
            ],
            [
             0.3333333333333333,
             "#9c179e"
            ],
            [
             0.4444444444444444,
             "#bd3786"
            ],
            [
             0.5555555555555556,
             "#d8576b"
            ],
            [
             0.6666666666666666,
             "#ed7953"
            ],
            [
             0.7777777777777778,
             "#fb9f3a"
            ],
            [
             0.8888888888888888,
             "#fdca26"
            ],
            [
             1,
             "#f0f921"
            ]
           ],
           "sequentialminus": [
            [
             0,
             "#0d0887"
            ],
            [
             0.1111111111111111,
             "#46039f"
            ],
            [
             0.2222222222222222,
             "#7201a8"
            ],
            [
             0.3333333333333333,
             "#9c179e"
            ],
            [
             0.4444444444444444,
             "#bd3786"
            ],
            [
             0.5555555555555556,
             "#d8576b"
            ],
            [
             0.6666666666666666,
             "#ed7953"
            ],
            [
             0.7777777777777778,
             "#fb9f3a"
            ],
            [
             0.8888888888888888,
             "#fdca26"
            ],
            [
             1,
             "#f0f921"
            ]
           ]
          },
          "colorway": [
           "#636efa",
           "#EF553B",
           "#00cc96",
           "#ab63fa",
           "#FFA15A",
           "#19d3f3",
           "#FF6692",
           "#B6E880",
           "#FF97FF",
           "#FECB52"
          ],
          "font": {
           "color": "#2a3f5f"
          },
          "geo": {
           "bgcolor": "white",
           "lakecolor": "white",
           "landcolor": "#E5ECF6",
           "showlakes": true,
           "showland": true,
           "subunitcolor": "white"
          },
          "hoverlabel": {
           "align": "left"
          },
          "hovermode": "closest",
          "mapbox": {
           "style": "light"
          },
          "paper_bgcolor": "white",
          "plot_bgcolor": "#E5ECF6",
          "polar": {
           "angularaxis": {
            "gridcolor": "white",
            "linecolor": "white",
            "ticks": ""
           },
           "bgcolor": "#E5ECF6",
           "radialaxis": {
            "gridcolor": "white",
            "linecolor": "white",
            "ticks": ""
           }
          },
          "scene": {
           "xaxis": {
            "backgroundcolor": "#E5ECF6",
            "gridcolor": "white",
            "gridwidth": 2,
            "linecolor": "white",
            "showbackground": true,
            "ticks": "",
            "zerolinecolor": "white"
           },
           "yaxis": {
            "backgroundcolor": "#E5ECF6",
            "gridcolor": "white",
            "gridwidth": 2,
            "linecolor": "white",
            "showbackground": true,
            "ticks": "",
            "zerolinecolor": "white"
           },
           "zaxis": {
            "backgroundcolor": "#E5ECF6",
            "gridcolor": "white",
            "gridwidth": 2,
            "linecolor": "white",
            "showbackground": true,
            "ticks": "",
            "zerolinecolor": "white"
           }
          },
          "shapedefaults": {
           "line": {
            "color": "#2a3f5f"
           }
          },
          "ternary": {
           "aaxis": {
            "gridcolor": "white",
            "linecolor": "white",
            "ticks": ""
           },
           "baxis": {
            "gridcolor": "white",
            "linecolor": "white",
            "ticks": ""
           },
           "bgcolor": "#E5ECF6",
           "caxis": {
            "gridcolor": "white",
            "linecolor": "white",
            "ticks": ""
           }
          },
          "title": {
           "x": 0.05
          },
          "xaxis": {
           "automargin": true,
           "gridcolor": "white",
           "linecolor": "white",
           "ticks": "",
           "title": {
            "standoff": 15
           },
           "zerolinecolor": "white",
           "zerolinewidth": 2
          },
          "yaxis": {
           "automargin": true,
           "gridcolor": "white",
           "linecolor": "white",
           "ticks": "",
           "title": {
            "standoff": 15
           },
           "zerolinecolor": "white",
           "zerolinewidth": 2
          }
         }
        },
        "xaxis": {
         "anchor": "y",
         "domain": [
          0,
          1
         ],
         "title": {
          "text": "x"
         },
         "visible": false
        },
        "yaxis": {
         "anchor": "x",
         "domain": [
          0,
          1
         ],
         "title": {
          "text": "y"
         },
         "visible": false
        }
       }
      }
     },
     "metadata": {},
     "output_type": "display_data"
    },
    {
     "ename": "ValueError",
     "evalue": "\nImage export using the \"kaleido\" engine requires the kaleido package,\nwhich can be installed using pip:\n    $ pip install -U kaleido\n",
     "output_type": "error",
     "traceback": [
      "\u001b[0;31m---------------------------------------------------------------------------\u001b[0m",
      "\u001b[0;31mValueError\u001b[0m                                Traceback (most recent call last)",
      "\u001b[0;32m/var/folders/jp/4n2c9lxx3k9c9bvs42tgmwzc0000gn/T/ipykernel_61494/3551892515.py\u001b[0m in \u001b[0;36m<module>\u001b[0;34m\u001b[0m\n\u001b[1;32m     79\u001b[0m \u001b[0;34m\u001b[0m\u001b[0m\n\u001b[1;32m     80\u001b[0m \u001b[0mlegend\u001b[0m\u001b[0;34m.\u001b[0m\u001b[0mshow\u001b[0m\u001b[0;34m(\u001b[0m\u001b[0;34m)\u001b[0m\u001b[0;34m\u001b[0m\u001b[0;34m\u001b[0m\u001b[0m\n\u001b[0;32m---> 81\u001b[0;31m \u001b[0mlegend\u001b[0m\u001b[0;34m.\u001b[0m\u001b[0mwrite_image\u001b[0m\u001b[0;34m(\u001b[0m\u001b[0;34m\"bg.png\"\u001b[0m\u001b[0;34m)\u001b[0m\u001b[0;34m\u001b[0m\u001b[0;34m\u001b[0m\u001b[0m\n\u001b[0m\u001b[1;32m     82\u001b[0m \u001b[0;34m\u001b[0m\u001b[0m\n\u001b[1;32m     83\u001b[0m \u001b[0;34m\u001b[0m\u001b[0m\n",
      "\u001b[0;32m~/opt/anaconda3/lib/python3.9/site-packages/plotly/basedatatypes.py\u001b[0m in \u001b[0;36mwrite_image\u001b[0;34m(self, *args, **kwargs)\u001b[0m\n\u001b[1;32m   3827\u001b[0m         \u001b[0;32mimport\u001b[0m \u001b[0mplotly\u001b[0m\u001b[0;34m.\u001b[0m\u001b[0mio\u001b[0m \u001b[0;32mas\u001b[0m \u001b[0mpio\u001b[0m\u001b[0;34m\u001b[0m\u001b[0;34m\u001b[0m\u001b[0m\n\u001b[1;32m   3828\u001b[0m \u001b[0;34m\u001b[0m\u001b[0m\n\u001b[0;32m-> 3829\u001b[0;31m         \u001b[0;32mreturn\u001b[0m \u001b[0mpio\u001b[0m\u001b[0;34m.\u001b[0m\u001b[0mwrite_image\u001b[0m\u001b[0;34m(\u001b[0m\u001b[0mself\u001b[0m\u001b[0;34m,\u001b[0m \u001b[0;34m*\u001b[0m\u001b[0margs\u001b[0m\u001b[0;34m,\u001b[0m \u001b[0;34m**\u001b[0m\u001b[0mkwargs\u001b[0m\u001b[0;34m)\u001b[0m\u001b[0;34m\u001b[0m\u001b[0;34m\u001b[0m\u001b[0m\n\u001b[0m\u001b[1;32m   3830\u001b[0m \u001b[0;34m\u001b[0m\u001b[0m\n\u001b[1;32m   3831\u001b[0m     \u001b[0;31m# Static helpers\u001b[0m\u001b[0;34m\u001b[0m\u001b[0;34m\u001b[0m\u001b[0m\n",
      "\u001b[0;32m~/opt/anaconda3/lib/python3.9/site-packages/plotly/io/_kaleido.py\u001b[0m in \u001b[0;36mwrite_image\u001b[0;34m(fig, file, format, scale, width, height, validate, engine)\u001b[0m\n\u001b[1;32m    266\u001b[0m     \u001b[0;31m# -------------\u001b[0m\u001b[0;34m\u001b[0m\u001b[0;34m\u001b[0m\u001b[0m\n\u001b[1;32m    267\u001b[0m     \u001b[0;31m# Do this first so we don't create a file if image conversion fails\u001b[0m\u001b[0;34m\u001b[0m\u001b[0;34m\u001b[0m\u001b[0m\n\u001b[0;32m--> 268\u001b[0;31m     img_data = to_image(\n\u001b[0m\u001b[1;32m    269\u001b[0m         \u001b[0mfig\u001b[0m\u001b[0;34m,\u001b[0m\u001b[0;34m\u001b[0m\u001b[0;34m\u001b[0m\u001b[0m\n\u001b[1;32m    270\u001b[0m         \u001b[0mformat\u001b[0m\u001b[0;34m=\u001b[0m\u001b[0mformat\u001b[0m\u001b[0;34m,\u001b[0m\u001b[0;34m\u001b[0m\u001b[0;34m\u001b[0m\u001b[0m\n",
      "\u001b[0;32m~/opt/anaconda3/lib/python3.9/site-packages/plotly/io/_kaleido.py\u001b[0m in \u001b[0;36mto_image\u001b[0;34m(fig, format, width, height, scale, validate, engine)\u001b[0m\n\u001b[1;32m    132\u001b[0m     \u001b[0;31m# Raise informative error message if Kaleido is not installed\u001b[0m\u001b[0;34m\u001b[0m\u001b[0;34m\u001b[0m\u001b[0m\n\u001b[1;32m    133\u001b[0m     \u001b[0;32mif\u001b[0m \u001b[0mscope\u001b[0m \u001b[0;32mis\u001b[0m \u001b[0;32mNone\u001b[0m\u001b[0;34m:\u001b[0m\u001b[0;34m\u001b[0m\u001b[0;34m\u001b[0m\u001b[0m\n\u001b[0;32m--> 134\u001b[0;31m         raise ValueError(\n\u001b[0m\u001b[1;32m    135\u001b[0m             \"\"\"\n\u001b[1;32m    136\u001b[0m \u001b[0mImage\u001b[0m \u001b[0mexport\u001b[0m \u001b[0musing\u001b[0m \u001b[0mthe\u001b[0m \u001b[0;34m\"kaleido\"\u001b[0m \u001b[0mengine\u001b[0m \u001b[0mrequires\u001b[0m \u001b[0mthe\u001b[0m \u001b[0mkaleido\u001b[0m \u001b[0mpackage\u001b[0m\u001b[0;34m,\u001b[0m\u001b[0;34m\u001b[0m\u001b[0;34m\u001b[0m\u001b[0m\n",
      "\u001b[0;31mValueError\u001b[0m: \nImage export using the \"kaleido\" engine requires the kaleido package,\nwhich can be installed using pip:\n    $ pip install -U kaleido\n"
     ]
    }
   ],
   "source": [
    "import random\n",
    "random.seed(10)\n",
    "\n",
    "def gen_colors (x):\n",
    "    buffer =[]\n",
    "    for i in range(x):\n",
    "        buffer.append( \"%06x\" % random.randint(0, 0xFFFFFF))\n",
    "    return buffer\n",
    "\n",
    "retailers = df['retailer_name'].unique().tolist()\n",
    "retailer_colors = gen_colors(len(retailers))\n",
    "\n",
    "retailer_color_di = dict(zip(retailers,retailer_colors))\n",
    "\n",
    "color_di_df = pd.DataFrame.from_dict(retailer_color_di.items())\n",
    "color_di_df[1] = '#' +color_di_df[1]\n",
    "color_di_df['x'] = None\n",
    "\n",
    "df['color'] = '#' + df['retailer_name'].map(retailer_color_di)\n",
    "\n",
    "data_slider = []\n",
    "\n",
    "for date in df['fct_date'].unique():\n",
    "    df_segmented =  df[(df['fct_date']== date)]\n",
    "\n",
    "    for col in df_segmented.columns:\n",
    "        df_segmented[col] = df_segmented[col].astype(str)\n",
    "    data_each_yr = dict(\n",
    "                        type='scattergeo',\n",
    "                        lat = df_segmented['lat'],\n",
    "                        lon = df_segmented['long'],\n",
    "                        text = df_segmented['id'],\n",
    "                        marker = dict(\n",
    "                            autocolorscale = True,\n",
    "                            color = df_segmented['color']\n",
    "                        ),\n",
    "                        showlegend = False,\n",
    "                        mode = 'markers',\n",
    "                            \n",
    "\n",
    "        )\n",
    "    data_slider.append(data_each_yr)\n",
    "    \n",
    "    \n",
    "\n",
    "\n",
    "steps = []\n",
    "for i in range(len(data_slider)):\n",
    "    step = dict(method='restyle',\n",
    "                args=['visible', [False] * len(data_slider)],\n",
    "                label=df['fct_date'].unique()[i]\n",
    "    )\n",
    "    step['args'][1][i] = True\n",
    "    steps.append(step)\n",
    "\n",
    "sliders = [dict(active=0, pad={\"t\": 1}, steps=steps)]\n",
    "\n",
    "layout = dict(title ='Sanzo Distribution Map',\n",
    "              sliders=sliders,\n",
    "              geo = dict(\n",
    "                scope='usa',\n",
    "                projection=dict( type='albers usa' )\n",
    "                ),\n",
    "            \n",
    ")\n",
    "fig = go.Figure(data=data_slider)\n",
    "fig.layout = layout\n",
    "fig.show()\n",
    "\n",
    "legend = px.scatter(x=color_di_df[0],y=color_di_df['x'],color= color_di_df[0], color_discrete_sequence=color_di_df[1])\n",
    "\n",
    "\n",
    "legend.update_xaxes(visible=False)\n",
    "legend.update_yaxes(visible=False)\n",
    "legend.update_layout({\n",
    "    'plot_bgcolor': 'rgba(0, 0, 0, 0)',\n",
    "    'paper_bgcolor': 'rgba(0, 0, 0, 0)',\n",
    "})\n",
    "\n",
    "legend.show()\n",
    "legend.write_image(\"bg.png\")\n",
    "\n",
    "\n",
    "\n",
    "fig.update_xaxes(visible=False)\n",
    "fig.update_yaxes(visible=False)\n",
    "fig.update_layout({\n",
    "    'plot_bgcolor': 'rgba(0, 0, 0, 0)',\n",
    "    'paper_bgcolor': 'rgba(0, 0, 0, 0)',\n",
    "})\n",
    "\n",
    "#fig = dict(data=data_slider, layout=layout)\n",
    "\n",
    "#plotly.offline.iplot(fig)\n"
   ]
  },
  {
   "cell_type": "code",
   "execution_count": null,
   "metadata": {},
   "outputs": [
    {
     "ename": "ValueError",
     "evalue": "\n    Invalid element(s) received for the 'data' property of \n        Invalid elements include: [Figure({\n    'data': [{'lat': array(['40.6907'], dtype=object),\n              'lon': array(['-73.9274'], dtype=object),\n              'marker': {'autocolorscale': True, 'color': array(['#10aefd'], dtype=object)},\n              'mode': 'markers',\n              'showlegend': False,\n              'text': array(['Foodtown 1291 Broadway'], dtype=object),\n              'type': 'scattergeo'},\n             {'lat': array(['40.6794', '40.6907'], dtype=object),\n              'lon': array(['-73.9496', '-73.9274'], dtype=object),\n              'marker': {'autocolorscale': True, 'color': array(['#10aefd', '#10aefd'], dtype=object)},\n              'mode': 'markers',\n              'showlegend': False,\n              'text': array(['Foodtown 1420 Fulton St', 'Foodtown 1291 Broadway'], dtype=object),\n              'type': 'scattergeo'},\n             {'lat': array(['40.7446', '40.6794', '40.6907'], dtype=object),\n              'lon': array(['-73.9345', '-73.9496', '-73.9274'], dtype=object),\n              'marker': {'autocolorscale': True, 'color': array(['#db9758', '#10aefd', '#10aefd'], dtype=object)},\n              'mode': 'markers',\n              'showlegend': False,\n              'text': array(['Food Cellar 4-85 47th Rd', 'Foodtown 1420 Fulton St',\n                             'Foodtown 1291 Broadway'], dtype=object),\n              'type': 'scattergeo'},\n             {'lat': array(['40.7446', '40.6794', '40.6907'], dtype=object),\n              'lon': array(['-73.9345', '-73.9496', '-73.9274'], dtype=object),\n              'marker': {'autocolorscale': True, 'color': array(['#db9758', '#10aefd', '#10aefd'], dtype=object)},\n              'mode': 'markers',\n              'showlegend': False,\n              'text': array(['Food Cellar 4-85 47th Rd', 'Foodtown 1420 Fulton St',\n                             'Foodtown 1291 Broadway'], dtype=object),\n              'type': 'scattergeo'},\n             {'lat': array(['40.6794', '40.7446', '40.6907'], dtype=object),\n              'lon': array(['-73.9496', '-73.9345', '-73.9274'], dtype=object),\n              'marker': {'autocolorscale': True, 'color': array(['#10aefd', '#db9758', '#10aefd'], dtype=object)},\n              'mode': 'markers',\n              'showlegend': False,\n              'text': array(['Foodtown 1420 Fulton St', 'Food Cellar 4-85 47th Rd',\n                             'Foodtown 1291 Broadway'], dtype=object),\n              'type': 'scattergeo'},\n             {'lat': array(['40.6907', '40.6794'], dtype=object),\n              'lon': array(['-73.9274', '-73.9496'], dtype=object),\n              'marker': {'autocolorscale': True, 'color': array(['#10aefd', '#10aefd'], dtype=object)},\n              'mode': 'markers',\n              'showlegend': False,\n              'text': array(['Foodtown 1291 Broadway', 'Foodtown 1420 Fulton St'], dtype=object),\n              'type': 'scattergeo'},\n             {'lat': array(['40.7597', '41.3917', '40.6203', '40.982', '41.0427', '40.7229',\n                            '40.6451', '40.6451', '40.732', '40.8567', '40.3584', '41.1434',\n                            '40.9721', '40.7599', '40.7952', '41.3229', '40.7221', '40.6637',\n                            '40.7484', '40.6816', '40.7651', '40.7443', '40.7763', '40.9978',\n                            '41.1692', '41.033', '40.7859', '41.8384', '40.7375', '41.3047',\n                            '40.2825', '42.9744', '40.7484', '41.0602', '40.7245', '41.1705',\n                            '40.8382', '40.7139', '42.7198', '40.9471', '38.8565', '40.6794',\n                            '40.7445', '41.0086', '41.0222', '40.8317', '41.2292', '40.9339',\n                            '41.1928', '40.1688', '41.465', '40.6794', '40.6907', '41.2175',\n                            '40.74', '40.7975', '40.7764', '40.7095', '40.7881', '40.5681',\n                            '40.679', '40.9656', '40.8621', '34.0606', '40.6669', '40.8297',\n                            '41.0577', '40.7179', '40.7152', '40.7816', '40.7934', '34.0699',\n                            '40.8116', '40.7313', '40.7446', '40.9331', '40.7571', '40.5449',\n                            '40.6669', '40.7095', '40.8131', '40.843', '40.9477', '40.6907',\n                            '41.0141', '41.4767', '34.169'], dtype=object),\n              'lon': array(['-73.9918', '-73.4532', '-74.3106', '-74.1131', '-73.6262', '-73.8473',\n                            '-73.945', '-73.945', '-74.1765', '-73.1168', '-74.0681', '-73.3496',\n                            '-73.959', '-74.4179', '-74.4873', '-73.08', '-74.0469', '-73.638',\n                            '-73.9967', '-73.9798', '-73.9858', '-73.9781', '-73.9529', '-74.166',\n                            '-73.2681', '-73.7652', '-74.2568', '-72.8987', '-73.9813', '-73.1294',\n                            '-74.3424', '-78.7949', '-73.9967', '-73.5445', '-73.6487', '-73.7715',\n                            '-73.942', '-74.007', '-73.8207', '-74.2466', '-77.0592', '-73.9496',\n                            '-74.0329', '-73.9389', '-73.6798', '-73.9738', '-73.9962', '-72.3077',\n                            '-73.2402', '-74.072', '-73.398', '-73.9496', '-73.9274', '-73.0549',\n                            '-73.4857', '-73.9683', '-73.9827', '-73.9563', '-73.5331', '-74.5397',\n                            '-73.9644', '-73.8434', '-74.4117', '-118.3027', '-73.9828', '-72.7283',\n                            '-74.1445', '-74.2829', '-73.9877', '-73.9511', '-73.6888', '-118.3492',\n                            '-73.955', '-73.9892', '-73.9345', '-74.0195', '-73.9657', '-74.3517',\n                            '-73.9828', '-73.9563', '-74.2165', '-73.2799', '-74.0672', '-73.9274',\n                            '-73.7552', '-73.2241', '-118.3442'], dtype=object),\n              'marker': {'autocolorscale': True,\n                         'color': array(['#f71252', '#f71252', '#f71252', '#f71252', '#f71252', '#10aefd',\n                                         '#f71252', '#07981e', '#f71252', '#f71252', '#f71252', '#f71252',\n                                         '#f71252', '#f71252', '#f71252', '#6985b5', '#6985b5', '#ecd75a',\n                                         '#f71252', '#f71252', '#f71252', '#fb8b34', '#fb8b34', '#6985b5',\n                                         '#f71252', '#6985b5', '#f71252', '#6985b5', '#fb8b34', '#6985b5',\n                                         '#f71252', '#f71252', '#f71252', '#6985b5', '#f71252', '#f71252',\n                                         '#10aefd', '#f71252', '#f71252', '#f71252', '#f71252', '#10aefd',\n                                         '#6985b5', '#6985b5', '#f71252', '#f71252', '#6985b5', '#ecd75a',\n                                         '#6985b5', '#f71252', '#6985b5', '#10aefd', '#10aefd', '#f71252',\n                                         '#ecd75a', '#f71252', '#fb8b34', '#07981e', '#f71252', '#f71252',\n                                         '#10aefd', '#f71252', '#f71252', '#8e1730', '#10aefd', '#ecd75a',\n                                         '#6985b5', '#f71252', '#f71252', '#f71252', '#f71252', '#8e1730',\n                                         '#f71252', '#f71252', '#db9758', '#6985b5', '#f71252', '#f71252',\n                                         '#f71252', '#10aefd', '#f71252', '#f71252', '#f71252', '#10aefd',\n                                         '#f71252', '#6985b5', '#8e1730'], dtype=object)},\n              'mode': 'markers',\n              'showlegend': False,\n              'text': array(['Whole Foods Market 1095 6th Ave',\n                             'Whole Foods Market 5 Sugar Hollow Rd Ste C',\n                             'Whole Foods Market 1255 Raritan Rd Ste 150',\n                             'Whole Foods Market 44 Godwin Ave',\n                             'Whole Foods Market 90 E Putnam Ave', 'Foodtown 110 44 Queens Blvd',\n                             'Whole Foods Market 238 Bedford Ave Ste A',\n                             'Brooklyn Harvest Market 25 N 5th St',\n                             'Whole Foods Market 633 Broad St',\n                             'Whole Foods Market 120 New Moriches Rd',\n                             'Whole Foods Market 471 State Route 35 N',\n                             'Whole Foods Market 399 Post Rd W', 'Whole Foods Market 45 Vervalen St',\n                             'Whole Foods Market 222 Main St',\n                             'Whole Foods Market 110 Washington St', 'ShopRite 49 Pershing Dr',\n                             'ShopRite 400 Luis Marin Blvd', 'King Kullen 127 Sunrise Hwy',\n                             'Whole Foods Market 450 W 33rd St', 'Whole Foods Market 292 Ashland Pl',\n                             'Whole Foods Market 10 Columbus Cir Ste 101',\n                             'Village Fairway 550 2nd Ave', 'Village Fairway 240 E 86th St',\n                             'ShopRite 430 Greenwood Ave', 'Whole Foods Market 350 Grasmere Ave',\n                             'ShopRite 13 City Pl', 'Whole Foods Market 235 Prospect Ave',\n                             'ShopRite 110 Albany Tpke Ste 200', 'Village Fairway 766 6th Ave',\n                             'ShopRite 875 Bridgeport Ave', 'Whole Foods Market 113 Us Highway 9 S',\n                             'Whole Foods Market 3139 Sheridan Dr', 'Whole Foods Market 250 7th Ave',\n                             'ShopRite 200 Shippan Ave', 'Whole Foods Market 867 E Gate Blvd',\n                             'Whole Foods Market 480 N Bedford Rd', 'Foodtown 600 W 160th St',\n                             'Whole Foods Market 270 Greenwich St',\n                             'Whole Foods Market 1425 Central Ave',\n                             'Whole Foods Market 560 Valley Rd',\n                             'Whole Foods Market 520 12th St S Ste 100', 'Foodtown 1420 Fulton St',\n                             'ShopRite 900 Madison St', 'ShopRite 246 Livingston St',\n                             'Whole Foods Market 575 Boston Post Rd',\n                             'Whole Foods Market 905 River Rd', 'ShopRite 22 Holt Dr',\n                             'King Kullen 2044 Montauk Hwy', 'ShopRite 1975 Black Rock Tpke',\n                             'Whole Foods Market 1933 State Route 35', 'ShopRite 143 Federal Rd',\n                             'Foodtown 1420 Fulton St', 'Foodtown 1291 Broadway',\n                             'Whole Foods Market 1686 Boston Post Rd', 'King Kullen 598 Stewart Ave',\n                             'Whole Foods Market 808 Columbus Ave', 'Village Fairway 2131 Broadway',\n                             'Brooklyn Harvest Market 781 Metropolitan Ave',\n                             'Whole Foods Market 429 N Broadway',\n                             'Whole Foods Market 319 Chimney Rock Rd', 'Foodtown 632 Vanderbilt Ave',\n                             'Whole Foods Market 1 Ridge Hill Rd',\n                             'Whole Foods Market 60 Waterview Blvd', '7-Eleven 3975 Wilshire Blvd',\n                             'Foodtown 409 5th Ave', 'King Kullen 25 Eastport Manor Rd',\n                             'ShopRite Rt 17 & Franklin Turnpike',\n                             'Whole Foods Market 2245 Springfield Ave',\n                             'Whole Foods Market 95 E Houston St', 'Whole Foods Market 1551 3rd Ave',\n                             'Whole Foods Market 2101 Northern Blvd', '7-Eleven 5000 Wilshire Blvd',\n                             'Whole Foods Market 100 W 125th St', 'Whole Foods Market 4 Union Sq S',\n                             'Food Cellar 4-85 47th Rd', 'ShopRite 250 River Rd',\n                             'Whole Foods Market 226 E 57th St',\n                             'Whole Foods Market 645 Middlesex Ave', 'Whole Foods Market 214 3rd St',\n                             'Foodtown 159 N 3rd St', 'Whole Foods Market 701 Bloomfield Ave',\n                             'Whole Foods Market 120 Veterans Memorial Hwy',\n                             'Whole Foods Market 300 Bergen Town Ctr', 'Foodtown 1291 Broadway',\n                             'Whole Foods Market 110 Bloomingdale Rd', 'ShopRite 775 Main St S',\n                             '7-Eleven 2500 W Burbank Blvd'], dtype=object),\n              'type': 'scattergeo'},\n             {'lat': array(['40.6907', '40.6794', '40.8246', '40.7446'], dtype=object),\n              'lon': array(['-73.9274', '-73.9496', '-73.9507', '-73.9345'], dtype=object),\n              'marker': {'autocolorscale': True,\n                         'color': array(['#10aefd', '#10aefd', '#10aefd', '#db9758'], dtype=object)},\n              'mode': 'markers',\n              'showlegend': False,\n              'text': array(['Foodtown 1291 Broadway', 'Foodtown 1420 Fulton St',\n                             'Foodtown 756 St. Nicholas Ave', 'Food Cellar 4-85 47th Rd'],\n                            dtype=object),\n              'type': 'scattergeo'},\n             {'lat': array(['40.6794', '40.8246', '40.6251', '40.6907'], dtype=object),\n              'lon': array(['-73.9496', '-73.9507', '-74.0303', '-73.9274'], dtype=object),\n              'marker': {'autocolorscale': True,\n                         'color': array(['#10aefd', '#10aefd', '#10aefd', '#10aefd'], dtype=object)},\n              'mode': 'markers',\n              'showlegend': False,\n              'text': array(['Foodtown 1420 Fulton St', 'Foodtown 756 St. Nicholas Ave',\n                             'Foodtown 9105-27 3rd Ave', 'Foodtown 1291 Broadway'], dtype=object),\n              'type': 'scattergeo'},\n             {'lat': array(['41.3917', '38.9898', '40.098', ..., '40.1481', '40.556', '40.7245'],\n                           dtype=object),\n              'lon': array(['-73.4532', '-76.5501', '-75.1078', ..., '-74.2137', '-74.2845',\n                            '-73.6487'], dtype=object),\n              'marker': {'autocolorscale': True,\n                         'color': array(['#f71252', '#f71252', '#f71252', ..., '#6985b5', '#6985b5', '#f71252'],\n                                        dtype=object)},\n              'mode': 'markers',\n              'showlegend': False,\n              'text': array(['Whole Foods Market 5 Sugar Hollow Rd Ste C',\n                             'Whole Foods Market 200 Harker Pl Ste 100',\n                             'Whole Foods Market 1575 The Fairway', ...,\n                             'ShopRite 4594 Us Highway 9 S', 'ShopRite 877 Saint George Ave',\n                             'Whole Foods Market 867 E Gate Blvd'], dtype=object),\n              'type': 'scattergeo'},\n             {'lat': array(['38.9898', '40.7229', '40.8265', ..., '40.2825', '40.8567', '41.2292'],\n                           dtype=object),\n              'lon': array(['-76.5501', '-73.8473', '-73.9383', ..., '-74.3424', '-73.1168',\n                            '-73.9962'], dtype=object),\n              'marker': {'autocolorscale': True,\n                         'color': array(['#f71252', '#10aefd', '#10aefd', ..., '#f71252', '#f71252', '#6985b5'],\n                                        dtype=object)},\n              'mode': 'markers',\n              'showlegend': False,\n              'text': array(['Whole Foods Market 200 Harker Pl Ste 100',\n                             'Foodtown 110 44 Queens Blvd', 'Foodtown 300 West 145th Street', ...,\n                             'Whole Foods Market 113 Us Highway 9 S',\n                             'Whole Foods Market 120 New Moriches Rd', 'ShopRite 22 Holt Dr'],\n                            dtype=object),\n              'type': 'scattergeo'},\n             {'lat': array(['39.0496', '38.8994', '40.6774', ..., '41.0141', '37.5498', '41.0602'],\n                           dtype=object),\n              'lon': array(['-77.1204', '-77.1895', '-74.4968', ..., '-73.7552', '-77.4588',\n                            '-73.5445'], dtype=object),\n              'marker': {'autocolorscale': True,\n                         'color': array(['#f71252', '#f71252', '#6985b5', ..., '#f71252', '#f71252', '#6985b5'],\n                                        dtype=object)},\n              'mode': 'markers',\n              'showlegend': False,\n              'text': array(['Whole Foods Market 11355 Woodglen Dr',\n                             'Whole Foods Market 7511 Leesburg Pike', 'ShopRite 1153 Valley Rd', ...,\n                             'Whole Foods Market 110 Bloomingdale Rd',\n                             'Whole Foods Market 2024 W Broad St', 'ShopRite 200 Shippan Ave'],\n                            dtype=object),\n              'type': 'scattergeo'}],\n    'layout': {'geo': {'projection': {'type': 'albers usa'}, 'scope': 'usa'},\n               'paper_bgcolor': 'rgba(0, 0, 0, 0)',\n               'plot_bgcolor': 'rgba(0, 0, 0, 0)',\n               'sliders': [{'active': 0,\n                            'pad': {'t': 1},\n                            'steps': [{'args': [visible, [True, False, False,\n                                                False, False, False, False, False,\n                                                False, False, False, False]],\n                                       'label': '2021-03',\n                                       'method': 'restyle'},\n                                      {'args': [visible, [False, True, False,\n                                                False, False, False, False, False,\n                                                False, False, False, False]],\n                                       'label': '2021-04',\n                                       'method': 'restyle'},\n                                      {'args': [visible, [False, False, True,\n                                                False, False, False, False, False,\n                                                False, False, False, False]],\n                                       'label': '2021-05',\n                                       'method': 'restyle'},\n                                      {'args': [visible, [False, False, False,\n                                                True, False, False, False, False,\n                                                False, False, False, False]],\n                                       'label': '2021-06',\n                                       'method': 'restyle'},\n                                      {'args': [visible, [False, False, False,\n                                                False, True, False, False, False,\n                                                False, False, False, False]],\n                                       'label': '2021-07',\n                                       'method': 'restyle'},\n                                      {'args': [visible, [False, False, False,\n                                                False, False, True, False, False,\n                                                False, False, False, False]],\n                                       'label': '2021-08',\n                                       'method': 'restyle'},\n                                      {'args': [visible, [False, False, False,\n                                                False, False, False, True, False,\n                                                False, False, False, False]],\n                                       'label': '2021-09',\n                                       'method': 'restyle'},\n                                      {'args': [visible, [False, False, False,\n                                                False, False, False, False, True,\n                                                False, False, False, False]],\n                                       'label': '2021-10',\n                                       'method': 'restyle'},\n                                      {'args': [visible, [False, False, False,\n                                                False, False, False, False, False,\n                                                True, False, False, False]],\n                                       'label': '2021-11',\n                                       'method': 'restyle'},\n                                      {'args': [visible, [False, False, False,\n                                                False, False, False, False, False,\n                                                False, True, False, False]],\n                                       'label': '2021-12',\n                                       'method': 'restyle'},\n                                      {'args': [visible, [False, False, False,\n                                                False, False, False, False, False,\n                                                False, False, True, False]],\n                                       'label': '2022-01',\n                                       'method': 'restyle'},\n                                      {'args': [visible, [False, False, False,\n                                                False, False, False, False, False,\n                                                False, False, False, True]],\n                                       'label': '2022-02',\n                                       'method': 'restyle'}]}],\n               'template': '...',\n               'title': {'text': 'Sanzo Distribution Map'},\n               'xaxis': {'visible': False},\n               'yaxis': {'visible': False}}\n})]\n\n    The 'data' property is a tuple of trace instances\n    that may be specified as:\n      - A list or tuple of trace instances\n        (e.g. [Scatter(...), Bar(...)])\n      - A single trace instance\n        (e.g. Scatter(...), Bar(...), etc.)\n      - A list or tuple of dicts of string/value properties where:\n        - The 'type' property specifies the trace type\n            One of: ['bar', 'barpolar', 'box', 'candlestick',\n                     'carpet', 'choropleth', 'choroplethmapbox',\n                     'cone', 'contour', 'contourcarpet',\n                     'densitymapbox', 'funnel', 'funnelarea',\n                     'heatmap', 'heatmapgl', 'histogram',\n                     'histogram2d', 'histogram2dcontour', 'icicle',\n                     'image', 'indicator', 'isosurface', 'mesh3d',\n                     'ohlc', 'parcats', 'parcoords', 'pie',\n                     'pointcloud', 'sankey', 'scatter',\n                     'scatter3d', 'scattercarpet', 'scattergeo',\n                     'scattergl', 'scattermapbox', 'scatterpolar',\n                     'scatterpolargl', 'scattersmith',\n                     'scatterternary', 'splom', 'streamtube',\n                     'sunburst', 'surface', 'table', 'treemap',\n                     'violin', 'volume', 'waterfall']\n\n        - All remaining properties are passed to the constructor of\n          the specified trace type\n\n        (e.g. [{'type': 'scatter', ...}, {'type': 'bar, ...}])",
     "output_type": "error",
     "traceback": [
      "\u001b[0;31m---------------------------------------------------------------------------\u001b[0m",
      "\u001b[0;31mValueError\u001b[0m                                Traceback (most recent call last)",
      "\u001b[0;32m/var/folders/jp/4n2c9lxx3k9c9bvs42tgmwzc0000gn/T/ipykernel_61494/390129658.py\u001b[0m in \u001b[0;36m<module>\u001b[0;34m\u001b[0m\n\u001b[1;32m      2\u001b[0m \u001b[0;34m\u001b[0m\u001b[0m\n\u001b[1;32m      3\u001b[0m \u001b[0mmaster_fig\u001b[0m \u001b[0;34m=\u001b[0m \u001b[0mmake_subplots\u001b[0m\u001b[0;34m(\u001b[0m\u001b[0;36m1\u001b[0m\u001b[0;34m,\u001b[0m\u001b[0;36m2\u001b[0m\u001b[0;34m)\u001b[0m\u001b[0;34m\u001b[0m\u001b[0;34m\u001b[0m\u001b[0m\n\u001b[0;32m----> 4\u001b[0;31m \u001b[0mmaster_fig\u001b[0m\u001b[0;34m.\u001b[0m\u001b[0madd_traces\u001b[0m\u001b[0;34m(\u001b[0m\u001b[0mdata\u001b[0m\u001b[0;34m=\u001b[0m\u001b[0mfig\u001b[0m\u001b[0;34m)\u001b[0m\u001b[0;34m\u001b[0m\u001b[0;34m\u001b[0m\u001b[0m\n\u001b[0m",
      "\u001b[0;32m~/opt/anaconda3/lib/python3.9/site-packages/plotly/basedatatypes.py\u001b[0m in \u001b[0;36madd_traces\u001b[0;34m(self, data, rows, cols, secondary_ys, exclude_empty_subplots)\u001b[0m\n\u001b[1;32m   2181\u001b[0m \u001b[0;34m\u001b[0m\u001b[0m\n\u001b[1;32m   2182\u001b[0m         \u001b[0;31m# Validate traces\u001b[0m\u001b[0;34m\u001b[0m\u001b[0;34m\u001b[0m\u001b[0m\n\u001b[0;32m-> 2183\u001b[0;31m         \u001b[0mdata\u001b[0m \u001b[0;34m=\u001b[0m \u001b[0mself\u001b[0m\u001b[0;34m.\u001b[0m\u001b[0m_data_validator\u001b[0m\u001b[0;34m.\u001b[0m\u001b[0mvalidate_coerce\u001b[0m\u001b[0;34m(\u001b[0m\u001b[0mdata\u001b[0m\u001b[0;34m)\u001b[0m\u001b[0;34m\u001b[0m\u001b[0;34m\u001b[0m\u001b[0m\n\u001b[0m\u001b[1;32m   2184\u001b[0m \u001b[0;34m\u001b[0m\u001b[0m\n\u001b[1;32m   2185\u001b[0m         \u001b[0;31m# Set trace indexes\u001b[0m\u001b[0;34m\u001b[0m\u001b[0;34m\u001b[0m\u001b[0m\n",
      "\u001b[0;32m~/opt/anaconda3/lib/python3.9/site-packages/_plotly_utils/basevalidators.py\u001b[0m in \u001b[0;36mvalidate_coerce\u001b[0;34m(self, v, skip_invalid, _validate)\u001b[0m\n\u001b[1;32m   2692\u001b[0m \u001b[0;34m\u001b[0m\u001b[0m\n\u001b[1;32m   2693\u001b[0m             \u001b[0;32mif\u001b[0m \u001b[0minvalid_els\u001b[0m\u001b[0;34m:\u001b[0m\u001b[0;34m\u001b[0m\u001b[0;34m\u001b[0m\u001b[0m\n\u001b[0;32m-> 2694\u001b[0;31m                 \u001b[0mself\u001b[0m\u001b[0;34m.\u001b[0m\u001b[0mraise_invalid_elements\u001b[0m\u001b[0;34m(\u001b[0m\u001b[0minvalid_els\u001b[0m\u001b[0;34m)\u001b[0m\u001b[0;34m\u001b[0m\u001b[0;34m\u001b[0m\u001b[0m\n\u001b[0m\u001b[1;32m   2695\u001b[0m \u001b[0;34m\u001b[0m\u001b[0m\n\u001b[1;32m   2696\u001b[0m             \u001b[0mv\u001b[0m \u001b[0;34m=\u001b[0m \u001b[0mto_scalar_or_list\u001b[0m\u001b[0;34m(\u001b[0m\u001b[0mres\u001b[0m\u001b[0;34m)\u001b[0m\u001b[0;34m\u001b[0m\u001b[0;34m\u001b[0m\u001b[0m\n",
      "\u001b[0;32m~/opt/anaconda3/lib/python3.9/site-packages/_plotly_utils/basevalidators.py\u001b[0m in \u001b[0;36mraise_invalid_elements\u001b[0;34m(self, invalid_els)\u001b[0m\n\u001b[1;32m    303\u001b[0m     \u001b[0;32mdef\u001b[0m \u001b[0mraise_invalid_elements\u001b[0m\u001b[0;34m(\u001b[0m\u001b[0mself\u001b[0m\u001b[0;34m,\u001b[0m \u001b[0minvalid_els\u001b[0m\u001b[0;34m)\u001b[0m\u001b[0;34m:\u001b[0m\u001b[0;34m\u001b[0m\u001b[0;34m\u001b[0m\u001b[0m\n\u001b[1;32m    304\u001b[0m         \u001b[0;32mif\u001b[0m \u001b[0minvalid_els\u001b[0m\u001b[0;34m:\u001b[0m\u001b[0;34m\u001b[0m\u001b[0;34m\u001b[0m\u001b[0m\n\u001b[0;32m--> 305\u001b[0;31m             raise ValueError(\n\u001b[0m\u001b[1;32m    306\u001b[0m                 \"\"\"\n\u001b[1;32m    307\u001b[0m     \u001b[0mInvalid\u001b[0m \u001b[0melement\u001b[0m\u001b[0;34m(\u001b[0m\u001b[0ms\u001b[0m\u001b[0;34m)\u001b[0m \u001b[0mreceived\u001b[0m \u001b[0;32mfor\u001b[0m \u001b[0mthe\u001b[0m \u001b[0;34m'{name}'\u001b[0m \u001b[0mproperty\u001b[0m \u001b[0mof\u001b[0m \u001b[0;34m{\u001b[0m\u001b[0mpname\u001b[0m\u001b[0;34m}\u001b[0m\u001b[0;34m\u001b[0m\u001b[0;34m\u001b[0m\u001b[0m\n",
      "\u001b[0;31mValueError\u001b[0m: \n    Invalid element(s) received for the 'data' property of \n        Invalid elements include: [Figure({\n    'data': [{'lat': array(['40.6907'], dtype=object),\n              'lon': array(['-73.9274'], dtype=object),\n              'marker': {'autocolorscale': True, 'color': array(['#10aefd'], dtype=object)},\n              'mode': 'markers',\n              'showlegend': False,\n              'text': array(['Foodtown 1291 Broadway'], dtype=object),\n              'type': 'scattergeo'},\n             {'lat': array(['40.6794', '40.6907'], dtype=object),\n              'lon': array(['-73.9496', '-73.9274'], dtype=object),\n              'marker': {'autocolorscale': True, 'color': array(['#10aefd', '#10aefd'], dtype=object)},\n              'mode': 'markers',\n              'showlegend': False,\n              'text': array(['Foodtown 1420 Fulton St', 'Foodtown 1291 Broadway'], dtype=object),\n              'type': 'scattergeo'},\n             {'lat': array(['40.7446', '40.6794', '40.6907'], dtype=object),\n              'lon': array(['-73.9345', '-73.9496', '-73.9274'], dtype=object),\n              'marker': {'autocolorscale': True, 'color': array(['#db9758', '#10aefd', '#10aefd'], dtype=object)},\n              'mode': 'markers',\n              'showlegend': False,\n              'text': array(['Food Cellar 4-85 47th Rd', 'Foodtown 1420 Fulton St',\n                             'Foodtown 1291 Broadway'], dtype=object),\n              'type': 'scattergeo'},\n             {'lat': array(['40.7446', '40.6794', '40.6907'], dtype=object),\n              'lon': array(['-73.9345', '-73.9496', '-73.9274'], dtype=object),\n              'marker': {'autocolorscale': True, 'color': array(['#db9758', '#10aefd', '#10aefd'], dtype=object)},\n              'mode': 'markers',\n              'showlegend': False,\n              'text': array(['Food Cellar 4-85 47th Rd', 'Foodtown 1420 Fulton St',\n                             'Foodtown 1291 Broadway'], dtype=object),\n              'type': 'scattergeo'},\n             {'lat': array(['40.6794', '40.7446', '40.6907'], dtype=object),\n              'lon': array(['-73.9496', '-73.9345', '-73.9274'], dtype=object),\n              'marker': {'autocolorscale': True, 'color': array(['#10aefd', '#db9758', '#10aefd'], dtype=object)},\n              'mode': 'markers',\n              'showlegend': False,\n              'text': array(['Foodtown 1420 Fulton St', 'Food Cellar 4-85 47th Rd',\n                             'Foodtown 1291 Broadway'], dtype=object),\n              'type': 'scattergeo'},\n             {'lat': array(['40.6907', '40.6794'], dtype=object),\n              'lon': array(['-73.9274', '-73.9496'], dtype=object),\n              'marker': {'autocolorscale': True, 'color': array(['#10aefd', '#10aefd'], dtype=object)},\n              'mode': 'markers',\n              'showlegend': False,\n              'text': array(['Foodtown 1291 Broadway', 'Foodtown 1420 Fulton St'], dtype=object),\n              'type': 'scattergeo'},\n             {'lat': array(['40.7597', '41.3917', '40.6203', '40.982', '41.0427', '40.7229',\n                            '40.6451', '40.6451', '40.732', '40.8567', '40.3584', '41.1434',\n                            '40.9721', '40.7599', '40.7952', '41.3229', '40.7221', '40.6637',\n                            '40.7484', '40.6816', '40.7651', '40.7443', '40.7763', '40.9978',\n                            '41.1692', '41.033', '40.7859', '41.8384', '40.7375', '41.3047',\n                            '40.2825', '42.9744', '40.7484', '41.0602', '40.7245', '41.1705',\n                            '40.8382', '40.7139', '42.7198', '40.9471', '38.8565', '40.6794',\n                            '40.7445', '41.0086', '41.0222', '40.8317', '41.2292', '40.9339',\n                            '41.1928', '40.1688', '41.465', '40.6794', '40.6907', '41.2175',\n                            '40.74', '40.7975', '40.7764', '40.7095', '40.7881', '40.5681',\n                            '40.679', '40.9656', '40.8621', '34.0606', '40.6669', '40.8297',\n                            '41.0577', '40.7179', '40.7152', '40.7816', '40.7934', '34.0699',\n                            '40.8116', '40.7313', '40.7446', '40.9331', '40.7571', '40.5449',\n                            '40.6669', '40.7095', '40.8131', '40.843', '40.9477', '40.6907',\n                            '41.0141', '41.4767', '34.169'], dtype=object),\n              'lon': array(['-73.9918', '-73.4532', '-74.3106', '-74.1131', '-73.6262', '-73.8473',\n                            '-73.945', '-73.945', '-74.1765', '-73.1168', '-74.0681', '-73.3496',\n                            '-73.959', '-74.4179', '-74.4873', '-73.08', '-74.0469', '-73.638',\n                            '-73.9967', '-73.9798', '-73.9858', '-73.9781', '-73.9529', '-74.166',\n                            '-73.2681', '-73.7652', '-74.2568', '-72.8987', '-73.9813', '-73.1294',\n                            '-74.3424', '-78.7949', '-73.9967', '-73.5445', '-73.6487', '-73.7715',\n                            '-73.942', '-74.007', '-73.8207', '-74.2466', '-77.0592', '-73.9496',\n                            '-74.0329', '-73.9389', '-73.6798', '-73.9738', '-73.9962', '-72.3077',\n                            '-73.2402', '-74.072', '-73.398', '-73.9496', '-73.9274', '-73.0549',\n                            '-73.4857', '-73.9683', '-73.9827', '-73.9563', '-73.5331', '-74.5397',\n                            '-73.9644', '-73.8434', '-74.4117', '-118.3027', '-73.9828', '-72.7283',\n                            '-74.1445', '-74.2829', '-73.9877', '-73.9511', '-73.6888', '-118.3492',\n                            '-73.955', '-73.9892', '-73.9345', '-74.0195', '-73.9657', '-74.3517',\n                            '-73.9828', '-73.9563', '-74.2165', '-73.2799', '-74.0672', '-73.9274',\n                            '-73.7552', '-73.2241', '-118.3442'], dtype=object),\n              'marker': {'autocolorscale': True,\n                         'color': array(['#f71252', '#f71252', '#f71252', '#f71252', '#f71252', '#10aefd',\n                                         '#f71252', '#07981e', '#f71252', '#f71252', '#f71252', '#f71252',\n                                         '#f71252', '#f71252', '#f71252', '#6985b5', '#6985b5', '#ecd75a',\n                                         '#f71252', '#f71252', '#f71252', '#fb8b34', '#fb8b34', '#6985b5',\n                                         '#f71252', '#6985b5', '#f71252', '#6985b5', '#fb8b34', '#6985b5',\n                                         '#f71252', '#f71252', '#f71252', '#6985b5', '#f71252', '#f71252',\n                                         '#10aefd', '#f71252', '#f71252', '#f71252', '#f71252', '#10aefd',\n                                         '#6985b5', '#6985b5', '#f71252', '#f71252', '#6985b5', '#ecd75a',\n                                         '#6985b5', '#f71252', '#6985b5', '#10aefd', '#10aefd', '#f71252',\n                                         '#ecd75a', '#f71252', '#fb8b34', '#07981e', '#f71252', '#f71252',\n                                         '#10aefd', '#f71252', '#f71252', '#8e1730', '#10aefd', '#ecd75a',\n                                         '#6985b5', '#f71252', '#f71252', '#f71252', '#f71252', '#8e1730',\n                                         '#f71252', '#f71252', '#db9758', '#6985b5', '#f71252', '#f71252',\n                                         '#f71252', '#10aefd', '#f71252', '#f71252', '#f71252', '#10aefd',\n                                         '#f71252', '#6985b5', '#8e1730'], dtype=object)},\n              'mode': 'markers',\n              'showlegend': False,\n              'text': array(['Whole Foods Market 1095 6th Ave',\n                             'Whole Foods Market 5 Sugar Hollow Rd Ste C',\n                             'Whole Foods Market 1255 Raritan Rd Ste 150',\n                             'Whole Foods Market 44 Godwin Ave',\n                             'Whole Foods Market 90 E Putnam Ave', 'Foodtown 110 44 Queens Blvd',\n                             'Whole Foods Market 238 Bedford Ave Ste A',\n                             'Brooklyn Harvest Market 25 N 5th St',\n                             'Whole Foods Market 633 Broad St',\n                             'Whole Foods Market 120 New Moriches Rd',\n                             'Whole Foods Market 471 State Route 35 N',\n                             'Whole Foods Market 399 Post Rd W', 'Whole Foods Market 45 Vervalen St',\n                             'Whole Foods Market 222 Main St',\n                             'Whole Foods Market 110 Washington St', 'ShopRite 49 Pershing Dr',\n                             'ShopRite 400 Luis Marin Blvd', 'King Kullen 127 Sunrise Hwy',\n                             'Whole Foods Market 450 W 33rd St', 'Whole Foods Market 292 Ashland Pl',\n                             'Whole Foods Market 10 Columbus Cir Ste 101',\n                             'Village Fairway 550 2nd Ave', 'Village Fairway 240 E 86th St',\n                             'ShopRite 430 Greenwood Ave', 'Whole Foods Market 350 Grasmere Ave',\n                             'ShopRite 13 City Pl', 'Whole Foods Market 235 Prospect Ave',\n                             'ShopRite 110 Albany Tpke Ste 200', 'Village Fairway 766 6th Ave',\n                             'ShopRite 875 Bridgeport Ave', 'Whole Foods Market 113 Us Highway 9 S',\n                             'Whole Foods Market 3139 Sheridan Dr', 'Whole Foods Market 250 7th Ave',\n                             'ShopRite 200 Shippan Ave', 'Whole Foods Market 867 E Gate Blvd',\n                             'Whole Foods Market 480 N Bedford Rd', 'Foodtown 600 W 160th St',\n                             'Whole Foods Market 270 Greenwich St',\n                             'Whole Foods Market 1425 Central Ave',\n                             'Whole Foods Market 560 Valley Rd',\n                             'Whole Foods Market 520 12th St S Ste 100', 'Foodtown 1420 Fulton St',\n                             'ShopRite 900 Madison St', 'ShopRite 246 Livingston St',\n                             'Whole Foods Market 575 Boston Post Rd',\n                             'Whole Foods Market 905 River Rd', 'ShopRite 22 Holt Dr',\n                             'King Kullen 2044 Montauk Hwy', 'ShopRite 1975 Black Rock Tpke',\n                             'Whole Foods Market 1933 State Route 35', 'ShopRite 143 Federal Rd',\n                             'Foodtown 1420 Fulton St', 'Foodtown 1291 Broadway',\n                             'Whole Foods Market 1686 Boston Post Rd', 'King Kullen 598 Stewart Ave',\n                             'Whole Foods Market 808 Columbus Ave', 'Village Fairway 2131 Broadway',\n                             'Brooklyn Harvest Market 781 Metropolitan Ave',\n                             'Whole Foods Market 429 N Broadway',\n                             'Whole Foods Market 319 Chimney Rock Rd', 'Foodtown 632 Vanderbilt Ave',\n                             'Whole Foods Market 1 Ridge Hill Rd',\n                             'Whole Foods Market 60 Waterview Blvd', '7-Eleven 3975 Wilshire Blvd',\n                             'Foodtown 409 5th Ave', 'King Kullen 25 Eastport Manor Rd',\n                             'ShopRite Rt 17 & Franklin Turnpike',\n                             'Whole Foods Market 2245 Springfield Ave',\n                             'Whole Foods Market 95 E Houston St', 'Whole Foods Market 1551 3rd Ave',\n                             'Whole Foods Market 2101 Northern Blvd', '7-Eleven 5000 Wilshire Blvd',\n                             'Whole Foods Market 100 W 125th St', 'Whole Foods Market 4 Union Sq S',\n                             'Food Cellar 4-85 47th Rd', 'ShopRite 250 River Rd',\n                             'Whole Foods Market 226 E 57th St',\n                             'Whole Foods Market 645 Middlesex Ave', 'Whole Foods Market 214 3rd St',\n                             'Foodtown 159 N 3rd St', 'Whole Foods Market 701 Bloomfield Ave',\n                             'Whole Foods Market 120 Veterans Memorial Hwy',\n                             'Whole Foods Market 300 Bergen Town Ctr', 'Foodtown 1291 Broadway',\n                             'Whole Foods Market 110 Bloomingdale Rd', 'ShopRite 775 Main St S',\n                             '7-Eleven 2500 W Burbank Blvd'], dtype=object),\n              'type': 'scattergeo'},\n             {'lat': array(['40.6907', '40.6794', '40.8246', '40.7446'], dtype=object),\n              'lon': array(['-73.9274', '-73.9496', '-73.9507', '-73.9345'], dtype=object),\n              'marker': {'autocolorscale': True,\n                         'color': array(['#10aefd', '#10aefd', '#10aefd', '#db9758'], dtype=object)},\n              'mode': 'markers',\n              'showlegend': False,\n              'text': array(['Foodtown 1291 Broadway', 'Foodtown 1420 Fulton St',\n                             'Foodtown 756 St. Nicholas Ave', 'Food Cellar 4-85 47th Rd'],\n                            dtype=object),\n              'type': 'scattergeo'},\n             {'lat': array(['40.6794', '40.8246', '40.6251', '40.6907'], dtype=object),\n              'lon': array(['-73.9496', '-73.9507', '-74.0303', '-73.9274'], dtype=object),\n              'marker': {'autocolorscale': True,\n                         'color': array(['#10aefd', '#10aefd', '#10aefd', '#10aefd'], dtype=object)},\n              'mode': 'markers',\n              'showlegend': False,\n              'text': array(['Foodtown 1420 Fulton St', 'Foodtown 756 St. Nicholas Ave',\n                             'Foodtown 9105-27 3rd Ave', 'Foodtown 1291 Broadway'], dtype=object),\n              'type': 'scattergeo'},\n             {'lat': array(['41.3917', '38.9898', '40.098', ..., '40.1481', '40.556', '40.7245'],\n                           dtype=object),\n              'lon': array(['-73.4532', '-76.5501', '-75.1078', ..., '-74.2137', '-74.2845',\n                            '-73.6487'], dtype=object),\n              'marker': {'autocolorscale': True,\n                         'color': array(['#f71252', '#f71252', '#f71252', ..., '#6985b5', '#6985b5', '#f71252'],\n                                        dtype=object)},\n              'mode': 'markers',\n              'showlegend': False,\n              'text': array(['Whole Foods Market 5 Sugar Hollow Rd Ste C',\n                             'Whole Foods Market 200 Harker Pl Ste 100',\n                             'Whole Foods Market 1575 The Fairway', ...,\n                             'ShopRite 4594 Us Highway 9 S', 'ShopRite 877 Saint George Ave',\n                             'Whole Foods Market 867 E Gate Blvd'], dtype=object),\n              'type': 'scattergeo'},\n             {'lat': array(['38.9898', '40.7229', '40.8265', ..., '40.2825', '40.8567', '41.2292'],\n                           dtype=object),\n              'lon': array(['-76.5501', '-73.8473', '-73.9383', ..., '-74.3424', '-73.1168',\n                            '-73.9962'], dtype=object),\n              'marker': {'autocolorscale': True,\n                         'color': array(['#f71252', '#10aefd', '#10aefd', ..., '#f71252', '#f71252', '#6985b5'],\n                                        dtype=object)},\n              'mode': 'markers',\n              'showlegend': False,\n              'text': array(['Whole Foods Market 200 Harker Pl Ste 100',\n                             'Foodtown 110 44 Queens Blvd', 'Foodtown 300 West 145th Street', ...,\n                             'Whole Foods Market 113 Us Highway 9 S',\n                             'Whole Foods Market 120 New Moriches Rd', 'ShopRite 22 Holt Dr'],\n                            dtype=object),\n              'type': 'scattergeo'},\n             {'lat': array(['39.0496', '38.8994', '40.6774', ..., '41.0141', '37.5498', '41.0602'],\n                           dtype=object),\n              'lon': array(['-77.1204', '-77.1895', '-74.4968', ..., '-73.7552', '-77.4588',\n                            '-73.5445'], dtype=object),\n              'marker': {'autocolorscale': True,\n                         'color': array(['#f71252', '#f71252', '#6985b5', ..., '#f71252', '#f71252', '#6985b5'],\n                                        dtype=object)},\n              'mode': 'markers',\n              'showlegend': False,\n              'text': array(['Whole Foods Market 11355 Woodglen Dr',\n                             'Whole Foods Market 7511 Leesburg Pike', 'ShopRite 1153 Valley Rd', ...,\n                             'Whole Foods Market 110 Bloomingdale Rd',\n                             'Whole Foods Market 2024 W Broad St', 'ShopRite 200 Shippan Ave'],\n                            dtype=object),\n              'type': 'scattergeo'}],\n    'layout': {'geo': {'projection': {'type': 'albers usa'}, 'scope': 'usa'},\n               'paper_bgcolor': 'rgba(0, 0, 0, 0)',\n               'plot_bgcolor': 'rgba(0, 0, 0, 0)',\n               'sliders': [{'active': 0,\n                            'pad': {'t': 1},\n                            'steps': [{'args': [visible, [True, False, False,\n                                                False, False, False, False, False,\n                                                False, False, False, False]],\n                                       'label': '2021-03',\n                                       'method': 'restyle'},\n                                      {'args': [visible, [False, True, False,\n                                                False, False, False, False, False,\n                                                False, False, False, False]],\n                                       'label': '2021-04',\n                                       'method': 'restyle'},\n                                      {'args': [visible, [False, False, True,\n                                                False, False, False, False, False,\n                                                False, False, False, False]],\n                                       'label': '2021-05',\n                                       'method': 'restyle'},\n                                      {'args': [visible, [False, False, False,\n                                                True, False, False, False, False,\n                                                False, False, False, False]],\n                                       'label': '2021-06',\n                                       'method': 'restyle'},\n                                      {'args': [visible, [False, False, False,\n                                                False, True, False, False, False,\n                                                False, False, False, False]],\n                                       'label': '2021-07',\n                                       'method': 'restyle'},\n                                      {'args': [visible, [False, False, False,\n                                                False, False, True, False, False,\n                                                False, False, False, False]],\n                                       'label': '2021-08',\n                                       'method': 'restyle'},\n                                      {'args': [visible, [False, False, False,\n                                                False, False, False, True, False,\n                                                False, False, False, False]],\n                                       'label': '2021-09',\n                                       'method': 'restyle'},\n                                      {'args': [visible, [False, False, False,\n                                                False, False, False, False, True,\n                                                False, False, False, False]],\n                                       'label': '2021-10',\n                                       'method': 'restyle'},\n                                      {'args': [visible, [False, False, False,\n                                                False, False, False, False, False,\n                                                True, False, False, False]],\n                                       'label': '2021-11',\n                                       'method': 'restyle'},\n                                      {'args': [visible, [False, False, False,\n                                                False, False, False, False, False,\n                                                False, True, False, False]],\n                                       'label': '2021-12',\n                                       'method': 'restyle'},\n                                      {'args': [visible, [False, False, False,\n                                                False, False, False, False, False,\n                                                False, False, True, False]],\n                                       'label': '2022-01',\n                                       'method': 'restyle'},\n                                      {'args': [visible, [False, False, False,\n                                                False, False, False, False, False,\n                                                False, False, False, True]],\n                                       'label': '2022-02',\n                                       'method': 'restyle'}]}],\n               'template': '...',\n               'title': {'text': 'Sanzo Distribution Map'},\n               'xaxis': {'visible': False},\n               'yaxis': {'visible': False}}\n})]\n\n    The 'data' property is a tuple of trace instances\n    that may be specified as:\n      - A list or tuple of trace instances\n        (e.g. [Scatter(...), Bar(...)])\n      - A single trace instance\n        (e.g. Scatter(...), Bar(...), etc.)\n      - A list or tuple of dicts of string/value properties where:\n        - The 'type' property specifies the trace type\n            One of: ['bar', 'barpolar', 'box', 'candlestick',\n                     'carpet', 'choropleth', 'choroplethmapbox',\n                     'cone', 'contour', 'contourcarpet',\n                     'densitymapbox', 'funnel', 'funnelarea',\n                     'heatmap', 'heatmapgl', 'histogram',\n                     'histogram2d', 'histogram2dcontour', 'icicle',\n                     'image', 'indicator', 'isosurface', 'mesh3d',\n                     'ohlc', 'parcats', 'parcoords', 'pie',\n                     'pointcloud', 'sankey', 'scatter',\n                     'scatter3d', 'scattercarpet', 'scattergeo',\n                     'scattergl', 'scattermapbox', 'scatterpolar',\n                     'scatterpolargl', 'scattersmith',\n                     'scatterternary', 'splom', 'streamtube',\n                     'sunburst', 'surface', 'table', 'treemap',\n                     'violin', 'volume', 'waterfall']\n\n        - All remaining properties are passed to the constructor of\n          the specified trace type\n\n        (e.g. [{'type': 'scatter', ...}, {'type': 'bar, ...}])"
     ]
    }
   ],
   "source": [
    "\n",
    "from plotly.subplots import make_subplots\n",
    "\n",
    "master_fig = make_subplots(1,2)\n",
    "master_fig.add_traces(data=fig)"
   ]
  }
 ],
 "metadata": {
  "interpreter": {
   "hash": "397704579725e15f5c7cb49fe5f0341eb7531c82d19f2c29d197e8b64ab5776b"
  },
  "kernelspec": {
   "display_name": "Python 3.9.8 64-bit",
   "language": "python",
   "name": "python3"
  },
  "language_info": {
   "codemirror_mode": {
    "name": "ipython",
    "version": 3
   },
   "file_extension": ".py",
   "mimetype": "text/x-python",
   "name": "python",
   "nbconvert_exporter": "python",
   "pygments_lexer": "ipython3",
   "version": "3.9.7"
  },
  "orig_nbformat": 4
 },
 "nbformat": 4,
 "nbformat_minor": 2
}
