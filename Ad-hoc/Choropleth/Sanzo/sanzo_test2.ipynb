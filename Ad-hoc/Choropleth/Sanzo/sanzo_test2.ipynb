{
 "cells": [
  {
   "cell_type": "markdown",
   "metadata": {},
   "source": [
    "# Choropleth Test"
   ]
  },
  {
   "cell_type": "code",
   "execution_count": 3,
   "metadata": {},
   "outputs": [],
   "source": [
    "import datetime\n",
    "import pandas as pd\n",
    "import numpy as np\n",
    "\n",
    "\n",
    "import plotly\n",
    "import plotly.express as px\n",
    "from plotly import graph_objects as go\n"
   ]
  },
  {
   "cell_type": "markdown",
   "metadata": {},
   "source": [
    "# Import Data"
   ]
  },
  {
   "cell_type": "code",
   "execution_count": 4,
   "metadata": {},
   "outputs": [],
   "source": [
    "df = pd.read_csv(\"sanzo_dist_test.csv\")\n",
    "df[\"id\"]  = df[\"retailer_name\"] + \" \" + df[\"address\"]"
   ]
  },
  {
   "cell_type": "code",
   "execution_count": 5,
   "metadata": {},
   "outputs": [],
   "source": [
    "import pgeocode\n",
    "nomi = pgeocode.Nominatim('us')\n",
    "\n",
    "def fourtofive (x):\n",
    "    if len(x)<5: \n",
    "        return \"0\" + x\n",
    "    else:\n",
    "        return x\n",
    "\n",
    "df['zip_code5'] = df['zip_code'].astype(str)\n",
    "df['zip_code5'] = df['zip_code5'].map(lambda x : fourtofive(x))\n",
    "\n",
    "\n",
    "\n",
    "df['lat'] = (nomi.query_postal_code(df['zip_code5'].astype(str).tolist()).latitude)\n",
    "df['long'] = (nomi.query_postal_code(df['zip_code5'].astype(str).tolist()).longitude)\n",
    "df = df.sort_values(by=\"fct_date\")\n",
    "\n"
   ]
  },
  {
   "cell_type": "markdown",
   "metadata": {},
   "source": [
    "# Clean Data"
   ]
  },
  {
   "cell_type": "code",
   "execution_count": 6,
   "metadata": {},
   "outputs": [
    {
     "data": {
      "text/html": [
       "<div>\n",
       "<style scoped>\n",
       "    .dataframe tbody tr th:only-of-type {\n",
       "        vertical-align: middle;\n",
       "    }\n",
       "\n",
       "    .dataframe tbody tr th {\n",
       "        vertical-align: top;\n",
       "    }\n",
       "\n",
       "    .dataframe thead th {\n",
       "        text-align: right;\n",
       "    }\n",
       "</style>\n",
       "<table border=\"1\" class=\"dataframe\">\n",
       "  <thead>\n",
       "    <tr style=\"text-align: right;\">\n",
       "      <th></th>\n",
       "      <th>Unnamed: 0</th>\n",
       "      <th>normalized_url</th>\n",
       "      <th>brand_source_id</th>\n",
       "      <th>retailer_name</th>\n",
       "      <th>store_source_id</th>\n",
       "      <th>address</th>\n",
       "      <th>city</th>\n",
       "      <th>state</th>\n",
       "      <th>zip_code</th>\n",
       "      <th>country</th>\n",
       "      <th>latitude</th>\n",
       "      <th>longitude</th>\n",
       "      <th>store_info</th>\n",
       "      <th>id</th>\n",
       "      <th>zip_code5</th>\n",
       "      <th>lat</th>\n",
       "      <th>long</th>\n",
       "    </tr>\n",
       "  </thead>\n",
       "  <tbody>\n",
       "    <tr>\n",
       "      <th>712</th>\n",
       "      <td>712</td>\n",
       "      <td>drinksanzo.com</td>\n",
       "      <td>NaN</td>\n",
       "      <td>Foodtown</td>\n",
       "      <td>1952</td>\n",
       "      <td>1291 Broadway</td>\n",
       "      <td>Brooklyn</td>\n",
       "      <td>NY</td>\n",
       "      <td>11221</td>\n",
       "      <td>USA</td>\n",
       "      <td>40.690968</td>\n",
       "      <td>-73.92630</td>\n",
       "      <td>&lt;b&gt;Foodtown&lt;/b&gt;&lt;br&gt;&lt;br&gt;1291 Broadway&lt;br&gt;Brookl...</td>\n",
       "      <td>Foodtown 1291 Broadway</td>\n",
       "      <td>11221</td>\n",
       "      <td>40.6907</td>\n",
       "      <td>-73.9274</td>\n",
       "    </tr>\n",
       "    <tr>\n",
       "      <th>727</th>\n",
       "      <td>727</td>\n",
       "      <td>drinksanzo.com</td>\n",
       "      <td>NaN</td>\n",
       "      <td>Foodtown</td>\n",
       "      <td>53</td>\n",
       "      <td>1420 Fulton St</td>\n",
       "      <td>Brooklyn</td>\n",
       "      <td>NY</td>\n",
       "      <td>11216</td>\n",
       "      <td>USA</td>\n",
       "      <td>40.679730</td>\n",
       "      <td>-73.94439</td>\n",
       "      <td>&lt;b&gt;Foodtown&lt;/b&gt;&lt;br&gt;&lt;br&gt;1420 Fulton St&lt;br&gt;Brook...</td>\n",
       "      <td>Foodtown 1420 Fulton St</td>\n",
       "      <td>11216</td>\n",
       "      <td>40.6794</td>\n",
       "      <td>-73.9496</td>\n",
       "    </tr>\n",
       "    <tr>\n",
       "      <th>697</th>\n",
       "      <td>697</td>\n",
       "      <td>drinksanzo.com</td>\n",
       "      <td>NaN</td>\n",
       "      <td>Foodtown</td>\n",
       "      <td>1952</td>\n",
       "      <td>1291 Broadway</td>\n",
       "      <td>Brooklyn</td>\n",
       "      <td>NY</td>\n",
       "      <td>11221</td>\n",
       "      <td>USA</td>\n",
       "      <td>40.690968</td>\n",
       "      <td>-73.92630</td>\n",
       "      <td>&lt;b&gt;Foodtown&lt;/b&gt;&lt;br&gt;&lt;br&gt;1291 Broadway&lt;br&gt;Brookl...</td>\n",
       "      <td>Foodtown 1291 Broadway</td>\n",
       "      <td>11221</td>\n",
       "      <td>40.6907</td>\n",
       "      <td>-73.9274</td>\n",
       "    </tr>\n",
       "    <tr>\n",
       "      <th>1</th>\n",
       "      <td>1</td>\n",
       "      <td>drinksanzo.com</td>\n",
       "      <td>NaN</td>\n",
       "      <td>Food Cellar</td>\n",
       "      <td>3019</td>\n",
       "      <td>4-85 47th Rd</td>\n",
       "      <td>Long Island City</td>\n",
       "      <td>NY</td>\n",
       "      <td>11101</td>\n",
       "      <td>USA</td>\n",
       "      <td>40.745300</td>\n",
       "      <td>-73.95593</td>\n",
       "      <td>&lt;b&gt;Food Cellar&lt;/b&gt;&lt;br&gt;&lt;br&gt;4-85 47th Rd&lt;br&gt;Long...</td>\n",
       "      <td>Food Cellar 4-85 47th Rd</td>\n",
       "      <td>11101</td>\n",
       "      <td>40.7446</td>\n",
       "      <td>-73.9345</td>\n",
       "    </tr>\n",
       "    <tr>\n",
       "      <th>724</th>\n",
       "      <td>724</td>\n",
       "      <td>drinksanzo.com</td>\n",
       "      <td>NaN</td>\n",
       "      <td>Foodtown</td>\n",
       "      <td>53</td>\n",
       "      <td>1420 Fulton St</td>\n",
       "      <td>Brooklyn</td>\n",
       "      <td>NY</td>\n",
       "      <td>11216</td>\n",
       "      <td>USA</td>\n",
       "      <td>40.679730</td>\n",
       "      <td>-73.94439</td>\n",
       "      <td>&lt;b&gt;Foodtown&lt;/b&gt;&lt;br&gt;&lt;br&gt;1420 Fulton St&lt;br&gt;Brook...</td>\n",
       "      <td>Foodtown 1420 Fulton St</td>\n",
       "      <td>11216</td>\n",
       "      <td>40.6794</td>\n",
       "      <td>-73.9496</td>\n",
       "    </tr>\n",
       "    <tr>\n",
       "      <th>...</th>\n",
       "      <td>...</td>\n",
       "      <td>...</td>\n",
       "      <td>...</td>\n",
       "      <td>...</td>\n",
       "      <td>...</td>\n",
       "      <td>...</td>\n",
       "      <td>...</td>\n",
       "      <td>...</td>\n",
       "      <td>...</td>\n",
       "      <td>...</td>\n",
       "      <td>...</td>\n",
       "      <td>...</td>\n",
       "      <td>...</td>\n",
       "      <td>...</td>\n",
       "      <td>...</td>\n",
       "      <td>...</td>\n",
       "      <td>...</td>\n",
       "    </tr>\n",
       "    <tr>\n",
       "      <th>278</th>\n",
       "      <td>278</td>\n",
       "      <td>drinksanzo.com</td>\n",
       "      <td>NaN</td>\n",
       "      <td>Whole Foods Market</td>\n",
       "      <td>WHB292935</td>\n",
       "      <td>200 Harker Pl Ste 100</td>\n",
       "      <td>Annapolis</td>\n",
       "      <td>MD</td>\n",
       "      <td>21401</td>\n",
       "      <td>US</td>\n",
       "      <td>38.981700</td>\n",
       "      <td>-76.53990</td>\n",
       "      <td>&lt;b&gt;Whole Foods Market&lt;/b&gt;&lt;br&gt;&lt;br&gt;200 Harker Pl...</td>\n",
       "      <td>Whole Foods Market 200 Harker Pl Ste 100</td>\n",
       "      <td>21401</td>\n",
       "      <td>38.9898</td>\n",
       "      <td>-76.5501</td>\n",
       "    </tr>\n",
       "    <tr>\n",
       "      <th>277</th>\n",
       "      <td>277</td>\n",
       "      <td>drinksanzo.com</td>\n",
       "      <td>NaN</td>\n",
       "      <td>Whole Foods Market</td>\n",
       "      <td>WHB292929</td>\n",
       "      <td>1425 Central Ave</td>\n",
       "      <td>Albany</td>\n",
       "      <td>NY</td>\n",
       "      <td>12205</td>\n",
       "      <td>US</td>\n",
       "      <td>42.707600</td>\n",
       "      <td>-73.82110</td>\n",
       "      <td>&lt;b&gt;Whole Foods Market&lt;/b&gt;&lt;br&gt;&lt;br&gt;1425 Central ...</td>\n",
       "      <td>Whole Foods Market 1425 Central Ave</td>\n",
       "      <td>12205</td>\n",
       "      <td>42.7198</td>\n",
       "      <td>-73.8207</td>\n",
       "    </tr>\n",
       "    <tr>\n",
       "      <th>549</th>\n",
       "      <td>549</td>\n",
       "      <td>drinksanzo.com</td>\n",
       "      <td>NaN</td>\n",
       "      <td>Whole Foods Market</td>\n",
       "      <td>WHB293353</td>\n",
       "      <td>110 Bloomingdale Rd</td>\n",
       "      <td>White Plains</td>\n",
       "      <td>NY</td>\n",
       "      <td>10605</td>\n",
       "      <td>US</td>\n",
       "      <td>41.027300</td>\n",
       "      <td>-73.75820</td>\n",
       "      <td>&lt;b&gt;Whole Foods Market&lt;/b&gt;&lt;br&gt;&lt;br&gt;110 Bloomingd...</td>\n",
       "      <td>Whole Foods Market 110 Bloomingdale Rd</td>\n",
       "      <td>10605</td>\n",
       "      <td>41.0141</td>\n",
       "      <td>-73.7552</td>\n",
       "    </tr>\n",
       "    <tr>\n",
       "      <th>288</th>\n",
       "      <td>288</td>\n",
       "      <td>drinksanzo.com</td>\n",
       "      <td>NaN</td>\n",
       "      <td>Whole Foods Market</td>\n",
       "      <td>WHB168857</td>\n",
       "      <td>2024 W Broad St</td>\n",
       "      <td>Richmond</td>\n",
       "      <td>VA</td>\n",
       "      <td>23220</td>\n",
       "      <td>US</td>\n",
       "      <td>37.557600</td>\n",
       "      <td>-77.46150</td>\n",
       "      <td>&lt;b&gt;Whole Foods Market&lt;/b&gt;&lt;br&gt;&lt;br&gt;2024 W Broad ...</td>\n",
       "      <td>Whole Foods Market 2024 W Broad St</td>\n",
       "      <td>23220</td>\n",
       "      <td>37.5498</td>\n",
       "      <td>-77.4588</td>\n",
       "    </tr>\n",
       "    <tr>\n",
       "      <th>30</th>\n",
       "      <td>30</td>\n",
       "      <td>drinksanzo.com</td>\n",
       "      <td>NaN</td>\n",
       "      <td>ShopRite</td>\n",
       "      <td>WKA149557</td>\n",
       "      <td>200 Shippan Ave</td>\n",
       "      <td>Stamford</td>\n",
       "      <td>CT</td>\n",
       "      <td>6902</td>\n",
       "      <td>US</td>\n",
       "      <td>41.048300</td>\n",
       "      <td>-73.52410</td>\n",
       "      <td>&lt;b&gt;ShopRite&lt;/b&gt;&lt;br&gt;&lt;br&gt;200 Shippan Ave&lt;br&gt;Stam...</td>\n",
       "      <td>ShopRite 200 Shippan Ave</td>\n",
       "      <td>06902</td>\n",
       "      <td>41.0602</td>\n",
       "      <td>-73.5445</td>\n",
       "    </tr>\n",
       "  </tbody>\n",
       "</table>\n",
       "<p>730 rows × 17 columns</p>\n",
       "</div>"
      ],
      "text/plain": [
       "     Unnamed: 0  normalized_url  brand_source_id       retailer_name  \\\n",
       "712         712  drinksanzo.com              NaN            Foodtown   \n",
       "727         727  drinksanzo.com              NaN            Foodtown   \n",
       "697         697  drinksanzo.com              NaN            Foodtown   \n",
       "1             1  drinksanzo.com              NaN         Food Cellar   \n",
       "724         724  drinksanzo.com              NaN            Foodtown   \n",
       "..          ...             ...              ...                 ...   \n",
       "278         278  drinksanzo.com              NaN  Whole Foods Market   \n",
       "277         277  drinksanzo.com              NaN  Whole Foods Market   \n",
       "549         549  drinksanzo.com              NaN  Whole Foods Market   \n",
       "288         288  drinksanzo.com              NaN  Whole Foods Market   \n",
       "30           30  drinksanzo.com              NaN            ShopRite   \n",
       "\n",
       "    store_source_id                address              city state  zip_code  \\\n",
       "712            1952          1291 Broadway          Brooklyn    NY     11221   \n",
       "727              53         1420 Fulton St          Brooklyn    NY     11216   \n",
       "697            1952          1291 Broadway          Brooklyn    NY     11221   \n",
       "1              3019           4-85 47th Rd  Long Island City    NY     11101   \n",
       "724              53         1420 Fulton St          Brooklyn    NY     11216   \n",
       "..              ...                    ...               ...   ...       ...   \n",
       "278       WHB292935  200 Harker Pl Ste 100         Annapolis    MD     21401   \n",
       "277       WHB292929       1425 Central Ave            Albany    NY     12205   \n",
       "549       WHB293353    110 Bloomingdale Rd      White Plains    NY     10605   \n",
       "288       WHB168857        2024 W Broad St          Richmond    VA     23220   \n",
       "30        WKA149557        200 Shippan Ave          Stamford    CT      6902   \n",
       "\n",
       "    country   latitude  longitude  \\\n",
       "712     USA  40.690968  -73.92630   \n",
       "727     USA  40.679730  -73.94439   \n",
       "697     USA  40.690968  -73.92630   \n",
       "1       USA  40.745300  -73.95593   \n",
       "724     USA  40.679730  -73.94439   \n",
       "..      ...        ...        ...   \n",
       "278      US  38.981700  -76.53990   \n",
       "277      US  42.707600  -73.82110   \n",
       "549      US  41.027300  -73.75820   \n",
       "288      US  37.557600  -77.46150   \n",
       "30       US  41.048300  -73.52410   \n",
       "\n",
       "                                            store_info  \\\n",
       "712  <b>Foodtown</b><br><br>1291 Broadway<br>Brookl...   \n",
       "727  <b>Foodtown</b><br><br>1420 Fulton St<br>Brook...   \n",
       "697  <b>Foodtown</b><br><br>1291 Broadway<br>Brookl...   \n",
       "1    <b>Food Cellar</b><br><br>4-85 47th Rd<br>Long...   \n",
       "724  <b>Foodtown</b><br><br>1420 Fulton St<br>Brook...   \n",
       "..                                                 ...   \n",
       "278  <b>Whole Foods Market</b><br><br>200 Harker Pl...   \n",
       "277  <b>Whole Foods Market</b><br><br>1425 Central ...   \n",
       "549  <b>Whole Foods Market</b><br><br>110 Bloomingd...   \n",
       "288  <b>Whole Foods Market</b><br><br>2024 W Broad ...   \n",
       "30   <b>ShopRite</b><br><br>200 Shippan Ave<br>Stam...   \n",
       "\n",
       "                                           id zip_code5      lat     long  \n",
       "712                    Foodtown 1291 Broadway     11221  40.6907 -73.9274  \n",
       "727                   Foodtown 1420 Fulton St     11216  40.6794 -73.9496  \n",
       "697                    Foodtown 1291 Broadway     11221  40.6907 -73.9274  \n",
       "1                    Food Cellar 4-85 47th Rd     11101  40.7446 -73.9345  \n",
       "724                   Foodtown 1420 Fulton St     11216  40.6794 -73.9496  \n",
       "..                                        ...       ...      ...      ...  \n",
       "278  Whole Foods Market 200 Harker Pl Ste 100     21401  38.9898 -76.5501  \n",
       "277       Whole Foods Market 1425 Central Ave     12205  42.7198 -73.8207  \n",
       "549    Whole Foods Market 110 Bloomingdale Rd     10605  41.0141 -73.7552  \n",
       "288        Whole Foods Market 2024 W Broad St     23220  37.5498 -77.4588  \n",
       "30                   ShopRite 200 Shippan Ave     06902  41.0602 -73.5445  \n",
       "\n",
       "[730 rows x 17 columns]"
      ]
     },
     "execution_count": 6,
     "metadata": {},
     "output_type": "execute_result"
    }
   ],
   "source": [
    "#get long/lat from zip code\n",
    "retailer_li = df[\"id\"].unique().tolist()\n",
    "dates = df[\"fct_date\"].unique().tolist()\n",
    "\n",
    "df_retailers = df.drop(\"fct_date\", axis=1).drop_duplicates()\n",
    "\n",
    "df_retailers\n",
    "    \n",
    "\n"
   ]
  },
  {
   "cell_type": "markdown",
   "metadata": {},
   "source": [
    "# Visualize"
   ]
  },
  {
   "cell_type": "code",
   "execution_count": 7,
   "metadata": {},
   "outputs": [
    {
     "data": {
      "application/vnd.plotly.v1+json": {
       "config": {
        "plotlyServerURL": "https://plot.ly"
       },
       "data": [
        {
         "geo": "geo",
         "hovertemplate": "retailer_name=Foodtown<br>fct_date=2021-03<br>lat=%{lat}<br>long=%{lon}<extra></extra>",
         "ids": [
          "Foodtown 1291 Broadway"
         ],
         "lat": [
          40.6907
         ],
         "legendgroup": "Foodtown",
         "lon": [
          -73.9274
         ],
         "marker": {
          "color": "#636efa",
          "symbol": "circle"
         },
         "mode": "markers",
         "name": "Foodtown",
         "showlegend": true,
         "type": "scattergeo"
        }
       ],
       "layout": {
        "geo": {
         "center": {},
         "domain": {
          "x": [
           0,
           1
          ],
          "y": [
           0,
           1
          ]
         },
         "scope": "usa"
        },
        "legend": {
         "title": {
          "text": "retailer_name"
         },
         "tracegroupgap": 0
        },
        "margin": {
         "t": 60
        },
        "template": {
         "data": {
          "bar": [
           {
            "error_x": {
             "color": "#2a3f5f"
            },
            "error_y": {
             "color": "#2a3f5f"
            },
            "marker": {
             "line": {
              "color": "#E5ECF6",
              "width": 0.5
             },
             "pattern": {
              "fillmode": "overlay",
              "size": 10,
              "solidity": 0.2
             }
            },
            "type": "bar"
           }
          ],
          "barpolar": [
           {
            "marker": {
             "line": {
              "color": "#E5ECF6",
              "width": 0.5
             },
             "pattern": {
              "fillmode": "overlay",
              "size": 10,
              "solidity": 0.2
             }
            },
            "type": "barpolar"
           }
          ],
          "carpet": [
           {
            "aaxis": {
             "endlinecolor": "#2a3f5f",
             "gridcolor": "white",
             "linecolor": "white",
             "minorgridcolor": "white",
             "startlinecolor": "#2a3f5f"
            },
            "baxis": {
             "endlinecolor": "#2a3f5f",
             "gridcolor": "white",
             "linecolor": "white",
             "minorgridcolor": "white",
             "startlinecolor": "#2a3f5f"
            },
            "type": "carpet"
           }
          ],
          "choropleth": [
           {
            "colorbar": {
             "outlinewidth": 0,
             "ticks": ""
            },
            "type": "choropleth"
           }
          ],
          "contour": [
           {
            "colorbar": {
             "outlinewidth": 0,
             "ticks": ""
            },
            "colorscale": [
             [
              0,
              "#0d0887"
             ],
             [
              0.1111111111111111,
              "#46039f"
             ],
             [
              0.2222222222222222,
              "#7201a8"
             ],
             [
              0.3333333333333333,
              "#9c179e"
             ],
             [
              0.4444444444444444,
              "#bd3786"
             ],
             [
              0.5555555555555556,
              "#d8576b"
             ],
             [
              0.6666666666666666,
              "#ed7953"
             ],
             [
              0.7777777777777778,
              "#fb9f3a"
             ],
             [
              0.8888888888888888,
              "#fdca26"
             ],
             [
              1,
              "#f0f921"
             ]
            ],
            "type": "contour"
           }
          ],
          "contourcarpet": [
           {
            "colorbar": {
             "outlinewidth": 0,
             "ticks": ""
            },
            "type": "contourcarpet"
           }
          ],
          "heatmap": [
           {
            "colorbar": {
             "outlinewidth": 0,
             "ticks": ""
            },
            "colorscale": [
             [
              0,
              "#0d0887"
             ],
             [
              0.1111111111111111,
              "#46039f"
             ],
             [
              0.2222222222222222,
              "#7201a8"
             ],
             [
              0.3333333333333333,
              "#9c179e"
             ],
             [
              0.4444444444444444,
              "#bd3786"
             ],
             [
              0.5555555555555556,
              "#d8576b"
             ],
             [
              0.6666666666666666,
              "#ed7953"
             ],
             [
              0.7777777777777778,
              "#fb9f3a"
             ],
             [
              0.8888888888888888,
              "#fdca26"
             ],
             [
              1,
              "#f0f921"
             ]
            ],
            "type": "heatmap"
           }
          ],
          "heatmapgl": [
           {
            "colorbar": {
             "outlinewidth": 0,
             "ticks": ""
            },
            "colorscale": [
             [
              0,
              "#0d0887"
             ],
             [
              0.1111111111111111,
              "#46039f"
             ],
             [
              0.2222222222222222,
              "#7201a8"
             ],
             [
              0.3333333333333333,
              "#9c179e"
             ],
             [
              0.4444444444444444,
              "#bd3786"
             ],
             [
              0.5555555555555556,
              "#d8576b"
             ],
             [
              0.6666666666666666,
              "#ed7953"
             ],
             [
              0.7777777777777778,
              "#fb9f3a"
             ],
             [
              0.8888888888888888,
              "#fdca26"
             ],
             [
              1,
              "#f0f921"
             ]
            ],
            "type": "heatmapgl"
           }
          ],
          "histogram": [
           {
            "marker": {
             "pattern": {
              "fillmode": "overlay",
              "size": 10,
              "solidity": 0.2
             }
            },
            "type": "histogram"
           }
          ],
          "histogram2d": [
           {
            "colorbar": {
             "outlinewidth": 0,
             "ticks": ""
            },
            "colorscale": [
             [
              0,
              "#0d0887"
             ],
             [
              0.1111111111111111,
              "#46039f"
             ],
             [
              0.2222222222222222,
              "#7201a8"
             ],
             [
              0.3333333333333333,
              "#9c179e"
             ],
             [
              0.4444444444444444,
              "#bd3786"
             ],
             [
              0.5555555555555556,
              "#d8576b"
             ],
             [
              0.6666666666666666,
              "#ed7953"
             ],
             [
              0.7777777777777778,
              "#fb9f3a"
             ],
             [
              0.8888888888888888,
              "#fdca26"
             ],
             [
              1,
              "#f0f921"
             ]
            ],
            "type": "histogram2d"
           }
          ],
          "histogram2dcontour": [
           {
            "colorbar": {
             "outlinewidth": 0,
             "ticks": ""
            },
            "colorscale": [
             [
              0,
              "#0d0887"
             ],
             [
              0.1111111111111111,
              "#46039f"
             ],
             [
              0.2222222222222222,
              "#7201a8"
             ],
             [
              0.3333333333333333,
              "#9c179e"
             ],
             [
              0.4444444444444444,
              "#bd3786"
             ],
             [
              0.5555555555555556,
              "#d8576b"
             ],
             [
              0.6666666666666666,
              "#ed7953"
             ],
             [
              0.7777777777777778,
              "#fb9f3a"
             ],
             [
              0.8888888888888888,
              "#fdca26"
             ],
             [
              1,
              "#f0f921"
             ]
            ],
            "type": "histogram2dcontour"
           }
          ],
          "mesh3d": [
           {
            "colorbar": {
             "outlinewidth": 0,
             "ticks": ""
            },
            "type": "mesh3d"
           }
          ],
          "parcoords": [
           {
            "line": {
             "colorbar": {
              "outlinewidth": 0,
              "ticks": ""
             }
            },
            "type": "parcoords"
           }
          ],
          "pie": [
           {
            "automargin": true,
            "type": "pie"
           }
          ],
          "scatter": [
           {
            "marker": {
             "colorbar": {
              "outlinewidth": 0,
              "ticks": ""
             }
            },
            "type": "scatter"
           }
          ],
          "scatter3d": [
           {
            "line": {
             "colorbar": {
              "outlinewidth": 0,
              "ticks": ""
             }
            },
            "marker": {
             "colorbar": {
              "outlinewidth": 0,
              "ticks": ""
             }
            },
            "type": "scatter3d"
           }
          ],
          "scattercarpet": [
           {
            "marker": {
             "colorbar": {
              "outlinewidth": 0,
              "ticks": ""
             }
            },
            "type": "scattercarpet"
           }
          ],
          "scattergeo": [
           {
            "marker": {
             "colorbar": {
              "outlinewidth": 0,
              "ticks": ""
             }
            },
            "type": "scattergeo"
           }
          ],
          "scattergl": [
           {
            "marker": {
             "colorbar": {
              "outlinewidth": 0,
              "ticks": ""
             }
            },
            "type": "scattergl"
           }
          ],
          "scattermapbox": [
           {
            "marker": {
             "colorbar": {
              "outlinewidth": 0,
              "ticks": ""
             }
            },
            "type": "scattermapbox"
           }
          ],
          "scatterpolar": [
           {
            "marker": {
             "colorbar": {
              "outlinewidth": 0,
              "ticks": ""
             }
            },
            "type": "scatterpolar"
           }
          ],
          "scatterpolargl": [
           {
            "marker": {
             "colorbar": {
              "outlinewidth": 0,
              "ticks": ""
             }
            },
            "type": "scatterpolargl"
           }
          ],
          "scatterternary": [
           {
            "marker": {
             "colorbar": {
              "outlinewidth": 0,
              "ticks": ""
             }
            },
            "type": "scatterternary"
           }
          ],
          "surface": [
           {
            "colorbar": {
             "outlinewidth": 0,
             "ticks": ""
            },
            "colorscale": [
             [
              0,
              "#0d0887"
             ],
             [
              0.1111111111111111,
              "#46039f"
             ],
             [
              0.2222222222222222,
              "#7201a8"
             ],
             [
              0.3333333333333333,
              "#9c179e"
             ],
             [
              0.4444444444444444,
              "#bd3786"
             ],
             [
              0.5555555555555556,
              "#d8576b"
             ],
             [
              0.6666666666666666,
              "#ed7953"
             ],
             [
              0.7777777777777778,
              "#fb9f3a"
             ],
             [
              0.8888888888888888,
              "#fdca26"
             ],
             [
              1,
              "#f0f921"
             ]
            ],
            "type": "surface"
           }
          ],
          "table": [
           {
            "cells": {
             "fill": {
              "color": "#EBF0F8"
             },
             "line": {
              "color": "white"
             }
            },
            "header": {
             "fill": {
              "color": "#C8D4E3"
             },
             "line": {
              "color": "white"
             }
            },
            "type": "table"
           }
          ]
         },
         "layout": {
          "annotationdefaults": {
           "arrowcolor": "#2a3f5f",
           "arrowhead": 0,
           "arrowwidth": 1
          },
          "autotypenumbers": "strict",
          "coloraxis": {
           "colorbar": {
            "outlinewidth": 0,
            "ticks": ""
           }
          },
          "colorscale": {
           "diverging": [
            [
             0,
             "#8e0152"
            ],
            [
             0.1,
             "#c51b7d"
            ],
            [
             0.2,
             "#de77ae"
            ],
            [
             0.3,
             "#f1b6da"
            ],
            [
             0.4,
             "#fde0ef"
            ],
            [
             0.5,
             "#f7f7f7"
            ],
            [
             0.6,
             "#e6f5d0"
            ],
            [
             0.7,
             "#b8e186"
            ],
            [
             0.8,
             "#7fbc41"
            ],
            [
             0.9,
             "#4d9221"
            ],
            [
             1,
             "#276419"
            ]
           ],
           "sequential": [
            [
             0,
             "#0d0887"
            ],
            [
             0.1111111111111111,
             "#46039f"
            ],
            [
             0.2222222222222222,
             "#7201a8"
            ],
            [
             0.3333333333333333,
             "#9c179e"
            ],
            [
             0.4444444444444444,
             "#bd3786"
            ],
            [
             0.5555555555555556,
             "#d8576b"
            ],
            [
             0.6666666666666666,
             "#ed7953"
            ],
            [
             0.7777777777777778,
             "#fb9f3a"
            ],
            [
             0.8888888888888888,
             "#fdca26"
            ],
            [
             1,
             "#f0f921"
            ]
           ],
           "sequentialminus": [
            [
             0,
             "#0d0887"
            ],
            [
             0.1111111111111111,
             "#46039f"
            ],
            [
             0.2222222222222222,
             "#7201a8"
            ],
            [
             0.3333333333333333,
             "#9c179e"
            ],
            [
             0.4444444444444444,
             "#bd3786"
            ],
            [
             0.5555555555555556,
             "#d8576b"
            ],
            [
             0.6666666666666666,
             "#ed7953"
            ],
            [
             0.7777777777777778,
             "#fb9f3a"
            ],
            [
             0.8888888888888888,
             "#fdca26"
            ],
            [
             1,
             "#f0f921"
            ]
           ]
          },
          "colorway": [
           "#636efa",
           "#EF553B",
           "#00cc96",
           "#ab63fa",
           "#FFA15A",
           "#19d3f3",
           "#FF6692",
           "#B6E880",
           "#FF97FF",
           "#FECB52"
          ],
          "font": {
           "color": "#2a3f5f"
          },
          "geo": {
           "bgcolor": "white",
           "lakecolor": "white",
           "landcolor": "#E5ECF6",
           "showlakes": true,
           "showland": true,
           "subunitcolor": "white"
          },
          "hoverlabel": {
           "align": "left"
          },
          "hovermode": "closest",
          "mapbox": {
           "style": "light"
          },
          "paper_bgcolor": "white",
          "plot_bgcolor": "#E5ECF6",
          "polar": {
           "angularaxis": {
            "gridcolor": "white",
            "linecolor": "white",
            "ticks": ""
           },
           "bgcolor": "#E5ECF6",
           "radialaxis": {
            "gridcolor": "white",
            "linecolor": "white",
            "ticks": ""
           }
          },
          "scene": {
           "xaxis": {
            "backgroundcolor": "#E5ECF6",
            "gridcolor": "white",
            "gridwidth": 2,
            "linecolor": "white",
            "showbackground": true,
            "ticks": "",
            "zerolinecolor": "white"
           },
           "yaxis": {
            "backgroundcolor": "#E5ECF6",
            "gridcolor": "white",
            "gridwidth": 2,
            "linecolor": "white",
            "showbackground": true,
            "ticks": "",
            "zerolinecolor": "white"
           },
           "zaxis": {
            "backgroundcolor": "#E5ECF6",
            "gridcolor": "white",
            "gridwidth": 2,
            "linecolor": "white",
            "showbackground": true,
            "ticks": "",
            "zerolinecolor": "white"
           }
          },
          "shapedefaults": {
           "line": {
            "color": "#2a3f5f"
           }
          },
          "ternary": {
           "aaxis": {
            "gridcolor": "white",
            "linecolor": "white",
            "ticks": ""
           },
           "baxis": {
            "gridcolor": "white",
            "linecolor": "white",
            "ticks": ""
           },
           "bgcolor": "#E5ECF6",
           "caxis": {
            "gridcolor": "white",
            "linecolor": "white",
            "ticks": ""
           }
          },
          "title": {
           "x": 0.05
          },
          "xaxis": {
           "automargin": true,
           "gridcolor": "white",
           "linecolor": "white",
           "ticks": "",
           "title": {
            "standoff": 15
           },
           "zerolinecolor": "white",
           "zerolinewidth": 2
          },
          "yaxis": {
           "automargin": true,
           "gridcolor": "white",
           "linecolor": "white",
           "ticks": "",
           "title": {
            "standoff": 15
           },
           "zerolinecolor": "white",
           "zerolinewidth": 2
          }
         }
        }
       }
      }
     },
     "metadata": {},
     "output_type": "display_data"
    }
   ],
   "source": [
    "#scatter geo\n",
    "df_s = df[df['fct_date']==\"2021-03\"]\n",
    "\n",
    "\n",
    "fig = px.scatter_geo(\n",
    "        data_frame = df_s,\n",
    "        lat = 'lat',\n",
    "        lon = 'long',\n",
    "        color = 'retailer_name',\n",
    "        animation_frame=\"fct_date\", \n",
    "        animation_group=\"id\"\n",
    "        \n",
    ")\n",
    "\n",
    "fig.update_layout(\n",
    "        geo_scope='usa'\n",
    ")\n",
    "fig.show()\n"
   ]
  },
  {
   "cell_type": "code",
   "execution_count": 75,
   "metadata": {},
   "outputs": [
    {
     "name": "stderr",
     "output_type": "stream",
     "text": [
      "/var/folders/jp/4n2c9lxx3k9c9bvs42tgmwzc0000gn/T/ipykernel_74100/1840257851.py:27: SettingWithCopyWarning:\n",
      "\n",
      "\n",
      "A value is trying to be set on a copy of a slice from a DataFrame.\n",
      "Try using .loc[row_indexer,col_indexer] = value instead\n",
      "\n",
      "See the caveats in the documentation: https://pandas.pydata.org/pandas-docs/stable/user_guide/indexing.html#returning-a-view-versus-a-copy\n",
      "\n"
     ]
    },
    {
     "data": {
      "application/vnd.plotly.v1+json": {
       "config": {
        "plotlyServerURL": "https://plot.ly"
       },
       "data": [
        {
         "lat": [
          "40.6907"
         ],
         "lon": [
          "-73.9274"
         ],
         "marker": {
          "autocolorscale": true,
          "color": [
           "#10aefd"
          ]
         },
         "mode": "markers",
         "showlegend": false,
         "text": [
          "Foodtown 1291 Broadway"
         ],
         "type": "scattergeo"
        },
        {
         "lat": [
          "40.6794",
          "40.6907"
         ],
         "lon": [
          "-73.9496",
          "-73.9274"
         ],
         "marker": {
          "autocolorscale": true,
          "color": [
           "#10aefd",
           "#10aefd"
          ]
         },
         "mode": "markers",
         "showlegend": false,
         "text": [
          "Foodtown 1420 Fulton St",
          "Foodtown 1291 Broadway"
         ],
         "type": "scattergeo"
        },
        {
         "lat": [
          "40.7446",
          "40.6794",
          "40.6907"
         ],
         "lon": [
          "-73.9345",
          "-73.9496",
          "-73.9274"
         ],
         "marker": {
          "autocolorscale": true,
          "color": [
           "#db9758",
           "#10aefd",
           "#10aefd"
          ]
         },
         "mode": "markers",
         "showlegend": false,
         "text": [
          "Food Cellar 4-85 47th Rd",
          "Foodtown 1420 Fulton St",
          "Foodtown 1291 Broadway"
         ],
         "type": "scattergeo"
        },
        {
         "lat": [
          "40.7446",
          "40.6794",
          "40.6907"
         ],
         "lon": [
          "-73.9345",
          "-73.9496",
          "-73.9274"
         ],
         "marker": {
          "autocolorscale": true,
          "color": [
           "#db9758",
           "#10aefd",
           "#10aefd"
          ]
         },
         "mode": "markers",
         "showlegend": false,
         "text": [
          "Food Cellar 4-85 47th Rd",
          "Foodtown 1420 Fulton St",
          "Foodtown 1291 Broadway"
         ],
         "type": "scattergeo"
        },
        {
         "lat": [
          "40.6794",
          "40.7446",
          "40.6907"
         ],
         "lon": [
          "-73.9496",
          "-73.9345",
          "-73.9274"
         ],
         "marker": {
          "autocolorscale": true,
          "color": [
           "#10aefd",
           "#db9758",
           "#10aefd"
          ]
         },
         "mode": "markers",
         "showlegend": false,
         "text": [
          "Foodtown 1420 Fulton St",
          "Food Cellar 4-85 47th Rd",
          "Foodtown 1291 Broadway"
         ],
         "type": "scattergeo"
        },
        {
         "lat": [
          "40.6907",
          "40.6794"
         ],
         "lon": [
          "-73.9274",
          "-73.9496"
         ],
         "marker": {
          "autocolorscale": true,
          "color": [
           "#10aefd",
           "#10aefd"
          ]
         },
         "mode": "markers",
         "showlegend": false,
         "text": [
          "Foodtown 1291 Broadway",
          "Foodtown 1420 Fulton St"
         ],
         "type": "scattergeo"
        },
        {
         "lat": [
          "40.7597",
          "41.3917",
          "40.6203",
          "40.982",
          "41.0427",
          "40.7229",
          "40.6451",
          "40.6451",
          "40.732",
          "40.8567",
          "40.3584",
          "41.1434",
          "40.9721",
          "40.7599",
          "40.7952",
          "41.3229",
          "40.7221",
          "40.6637",
          "40.7484",
          "40.6816",
          "40.7651",
          "40.7443",
          "40.7763",
          "40.9978",
          "41.1692",
          "41.033",
          "40.7859",
          "41.8384",
          "40.7375",
          "41.3047",
          "40.2825",
          "42.9744",
          "40.7484",
          "41.0602",
          "40.7245",
          "41.1705",
          "40.8382",
          "40.7139",
          "42.7198",
          "40.9471",
          "38.8565",
          "40.6794",
          "40.7445",
          "41.0086",
          "41.0222",
          "40.8317",
          "41.2292",
          "40.9339",
          "41.1928",
          "40.1688",
          "41.465",
          "40.6794",
          "40.6907",
          "41.2175",
          "40.74",
          "40.7975",
          "40.7764",
          "40.7095",
          "40.7881",
          "40.5681",
          "40.679",
          "40.9656",
          "40.8621",
          "34.0606",
          "40.6669",
          "40.8297",
          "41.0577",
          "40.7179",
          "40.7152",
          "40.7816",
          "40.7934",
          "34.0699",
          "40.8116",
          "40.7313",
          "40.7446",
          "40.9331",
          "40.7571",
          "40.5449",
          "40.6669",
          "40.7095",
          "40.8131",
          "40.843",
          "40.9477",
          "40.6907",
          "41.0141",
          "41.4767",
          "34.169"
         ],
         "lon": [
          "-73.9918",
          "-73.4532",
          "-74.3106",
          "-74.1131",
          "-73.6262",
          "-73.8473",
          "-73.945",
          "-73.945",
          "-74.1765",
          "-73.1168",
          "-74.0681",
          "-73.3496",
          "-73.959",
          "-74.4179",
          "-74.4873",
          "-73.08",
          "-74.0469",
          "-73.638",
          "-73.9967",
          "-73.9798",
          "-73.9858",
          "-73.9781",
          "-73.9529",
          "-74.166",
          "-73.2681",
          "-73.7652",
          "-74.2568",
          "-72.8987",
          "-73.9813",
          "-73.1294",
          "-74.3424",
          "-78.7949",
          "-73.9967",
          "-73.5445",
          "-73.6487",
          "-73.7715",
          "-73.942",
          "-74.007",
          "-73.8207",
          "-74.2466",
          "-77.0592",
          "-73.9496",
          "-74.0329",
          "-73.9389",
          "-73.6798",
          "-73.9738",
          "-73.9962",
          "-72.3077",
          "-73.2402",
          "-74.072",
          "-73.398",
          "-73.9496",
          "-73.9274",
          "-73.0549",
          "-73.4857",
          "-73.9683",
          "-73.9827",
          "-73.9563",
          "-73.5331",
          "-74.5397",
          "-73.9644",
          "-73.8434",
          "-74.4117",
          "-118.3027",
          "-73.9828",
          "-72.7283",
          "-74.1445",
          "-74.2829",
          "-73.9877",
          "-73.9511",
          "-73.6888",
          "-118.3492",
          "-73.955",
          "-73.9892",
          "-73.9345",
          "-74.0195",
          "-73.9657",
          "-74.3517",
          "-73.9828",
          "-73.9563",
          "-74.2165",
          "-73.2799",
          "-74.0672",
          "-73.9274",
          "-73.7552",
          "-73.2241",
          "-118.3442"
         ],
         "marker": {
          "autocolorscale": true,
          "color": [
           "#f71252",
           "#f71252",
           "#f71252",
           "#f71252",
           "#f71252",
           "#10aefd",
           "#f71252",
           "#07981e",
           "#f71252",
           "#f71252",
           "#f71252",
           "#f71252",
           "#f71252",
           "#f71252",
           "#f71252",
           "#6985b5",
           "#6985b5",
           "#ecd75a",
           "#f71252",
           "#f71252",
           "#f71252",
           "#fb8b34",
           "#fb8b34",
           "#6985b5",
           "#f71252",
           "#6985b5",
           "#f71252",
           "#6985b5",
           "#fb8b34",
           "#6985b5",
           "#f71252",
           "#f71252",
           "#f71252",
           "#6985b5",
           "#f71252",
           "#f71252",
           "#10aefd",
           "#f71252",
           "#f71252",
           "#f71252",
           "#f71252",
           "#10aefd",
           "#6985b5",
           "#6985b5",
           "#f71252",
           "#f71252",
           "#6985b5",
           "#ecd75a",
           "#6985b5",
           "#f71252",
           "#6985b5",
           "#10aefd",
           "#10aefd",
           "#f71252",
           "#ecd75a",
           "#f71252",
           "#fb8b34",
           "#07981e",
           "#f71252",
           "#f71252",
           "#10aefd",
           "#f71252",
           "#f71252",
           "#8e1730",
           "#10aefd",
           "#ecd75a",
           "#6985b5",
           "#f71252",
           "#f71252",
           "#f71252",
           "#f71252",
           "#8e1730",
           "#f71252",
           "#f71252",
           "#db9758",
           "#6985b5",
           "#f71252",
           "#f71252",
           "#f71252",
           "#10aefd",
           "#f71252",
           "#f71252",
           "#f71252",
           "#10aefd",
           "#f71252",
           "#6985b5",
           "#8e1730"
          ]
         },
         "mode": "markers",
         "showlegend": false,
         "text": [
          "Whole Foods Market 1095 6th Ave",
          "Whole Foods Market 5 Sugar Hollow Rd Ste C",
          "Whole Foods Market 1255 Raritan Rd Ste 150",
          "Whole Foods Market 44 Godwin Ave",
          "Whole Foods Market 90 E Putnam Ave",
          "Foodtown 110 44 Queens Blvd",
          "Whole Foods Market 238 Bedford Ave Ste A",
          "Brooklyn Harvest Market 25 N 5th St",
          "Whole Foods Market 633 Broad St",
          "Whole Foods Market 120 New Moriches Rd",
          "Whole Foods Market 471 State Route 35 N",
          "Whole Foods Market 399 Post Rd W",
          "Whole Foods Market 45 Vervalen St",
          "Whole Foods Market 222 Main St",
          "Whole Foods Market 110 Washington St",
          "ShopRite 49 Pershing Dr",
          "ShopRite 400 Luis Marin Blvd",
          "King Kullen 127 Sunrise Hwy",
          "Whole Foods Market 450 W 33rd St",
          "Whole Foods Market 292 Ashland Pl",
          "Whole Foods Market 10 Columbus Cir Ste 101",
          "Village Fairway 550 2nd Ave",
          "Village Fairway 240 E 86th St",
          "ShopRite 430 Greenwood Ave",
          "Whole Foods Market 350 Grasmere Ave",
          "ShopRite 13 City Pl",
          "Whole Foods Market 235 Prospect Ave",
          "ShopRite 110 Albany Tpke Ste 200",
          "Village Fairway 766 6th Ave",
          "ShopRite 875 Bridgeport Ave",
          "Whole Foods Market 113 Us Highway 9 S",
          "Whole Foods Market 3139 Sheridan Dr",
          "Whole Foods Market 250 7th Ave",
          "ShopRite 200 Shippan Ave",
          "Whole Foods Market 867 E Gate Blvd",
          "Whole Foods Market 480 N Bedford Rd",
          "Foodtown 600 W 160th St",
          "Whole Foods Market 270 Greenwich St",
          "Whole Foods Market 1425 Central Ave",
          "Whole Foods Market 560 Valley Rd",
          "Whole Foods Market 520 12th St S Ste 100",
          "Foodtown 1420 Fulton St",
          "ShopRite 900 Madison St",
          "ShopRite 246 Livingston St",
          "Whole Foods Market 575 Boston Post Rd",
          "Whole Foods Market 905 River Rd",
          "ShopRite 22 Holt Dr",
          "King Kullen 2044 Montauk Hwy",
          "ShopRite 1975 Black Rock Tpke",
          "Whole Foods Market 1933 State Route 35",
          "ShopRite 143 Federal Rd",
          "Foodtown 1420 Fulton St",
          "Foodtown 1291 Broadway",
          "Whole Foods Market 1686 Boston Post Rd",
          "King Kullen 598 Stewart Ave",
          "Whole Foods Market 808 Columbus Ave",
          "Village Fairway 2131 Broadway",
          "Brooklyn Harvest Market 781 Metropolitan Ave",
          "Whole Foods Market 429 N Broadway",
          "Whole Foods Market 319 Chimney Rock Rd",
          "Foodtown 632 Vanderbilt Ave",
          "Whole Foods Market 1 Ridge Hill Rd",
          "Whole Foods Market 60 Waterview Blvd",
          "7-Eleven 3975 Wilshire Blvd",
          "Foodtown 409 5th Ave",
          "King Kullen 25 Eastport Manor Rd",
          "ShopRite Rt 17 & Franklin Turnpike",
          "Whole Foods Market 2245 Springfield Ave",
          "Whole Foods Market 95 E Houston St",
          "Whole Foods Market 1551 3rd Ave",
          "Whole Foods Market 2101 Northern Blvd",
          "7-Eleven 5000 Wilshire Blvd",
          "Whole Foods Market 100 W 125th St",
          "Whole Foods Market 4 Union Sq S",
          "Food Cellar 4-85 47th Rd",
          "ShopRite 250 River Rd",
          "Whole Foods Market 226 E 57th St",
          "Whole Foods Market 645 Middlesex Ave",
          "Whole Foods Market 214 3rd St",
          "Foodtown 159 N 3rd St",
          "Whole Foods Market 701 Bloomfield Ave",
          "Whole Foods Market 120 Veterans Memorial Hwy",
          "Whole Foods Market 300 Bergen Town Ctr",
          "Foodtown 1291 Broadway",
          "Whole Foods Market 110 Bloomingdale Rd",
          "ShopRite 775 Main St S",
          "7-Eleven 2500 W Burbank Blvd"
         ],
         "type": "scattergeo"
        },
        {
         "lat": [
          "40.6907",
          "40.6794",
          "40.8246",
          "40.7446"
         ],
         "lon": [
          "-73.9274",
          "-73.9496",
          "-73.9507",
          "-73.9345"
         ],
         "marker": {
          "autocolorscale": true,
          "color": [
           "#10aefd",
           "#10aefd",
           "#10aefd",
           "#db9758"
          ]
         },
         "mode": "markers",
         "showlegend": false,
         "text": [
          "Foodtown 1291 Broadway",
          "Foodtown 1420 Fulton St",
          "Foodtown 756 St. Nicholas Ave",
          "Food Cellar 4-85 47th Rd"
         ],
         "type": "scattergeo"
        },
        {
         "lat": [
          "40.6794",
          "40.8246",
          "40.6251",
          "40.6907"
         ],
         "lon": [
          "-73.9496",
          "-73.9507",
          "-74.0303",
          "-73.9274"
         ],
         "marker": {
          "autocolorscale": true,
          "color": [
           "#10aefd",
           "#10aefd",
           "#10aefd",
           "#10aefd"
          ]
         },
         "mode": "markers",
         "showlegend": false,
         "text": [
          "Foodtown 1420 Fulton St",
          "Foodtown 756 St. Nicholas Ave",
          "Foodtown 9105-27 3rd Ave",
          "Foodtown 1291 Broadway"
         ],
         "type": "scattergeo"
        },
        {
         "lat": [
          "41.3917",
          "38.9898",
          "40.098",
          "40.8297",
          "40.3282",
          "40.6669",
          "38.9014",
          "40.7597",
          "40.7443",
          "40.5007",
          "40.3323",
          "38.7757",
          "40.8344",
          "40.588",
          "41.0427",
          "40.8382",
          "40.6664",
          "40.701",
          "40.982",
          "41.1434",
          "40.8246",
          "34.1145",
          "40.2171",
          "40.8567",
          "40.9721",
          "36.8282",
          "40.0389",
          "40.6412",
          "40.3869",
          "38.8935",
          "40.7095",
          "39.1125",
          "40.7881",
          "38.9122",
          "40.7484",
          "40.5877",
          "40.9176",
          "40.3666",
          "42.7198",
          "40.3529",
          "40.7599",
          "40.5839",
          "41.8384",
          "40.9978",
          "38.953",
          "40.0389",
          "40.7859",
          "40.7294",
          "38.9585",
          "40.8094",
          "40.7599",
          "40.5681",
          "40.1688",
          "40.7667",
          "41.465",
          "41.0141",
          "40.9166",
          "40.1688",
          "41.0577",
          "40.6794",
          "39.9015",
          "40.6637",
          "40.7095",
          "40.9331",
          "40.2825",
          "38.9601",
          "40.4587",
          "40.8882",
          "41.3047",
          "40.7139",
          "40.3944",
          "38.9067",
          "40.8693",
          "40.6742",
          "40.0",
          "40.9477",
          "40.7465",
          "40.5449",
          "40.1795",
          "41.033",
          "41.0768",
          "40.843",
          "40.5824",
          "38.806",
          "40.679",
          "39.0373",
          "39.2998",
          "40.7229",
          "42.9744",
          "34.0289",
          "40.1077",
          "41.4767",
          "40.7952",
          "40.8621",
          "40.7179",
          "40.7445",
          "40.612",
          "40.7375",
          "40.7571",
          "41.0222",
          "34.1005",
          "40.7152",
          "40.8131",
          "41.205",
          "41.2175",
          "40.8143",
          "40.7892",
          "40.74",
          "41.2292",
          "39.9074",
          "40.7681",
          "38.9381",
          "39.3716",
          "41.1692",
          "37.0768",
          "40.7313",
          "41.1928",
          "40.9978",
          "40.7036",
          "40.732",
          "40.8536",
          "39.3223",
          "34.1144",
          "40.2669",
          "37.5498",
          "39.8845",
          "39.2141",
          "40.9339",
          "40.6669",
          "40.2336",
          "38.9024",
          "41.0086",
          "40.9471",
          "40.6203",
          "38.8994",
          "41.0602",
          "40.7975",
          "39.0496",
          "34.4038",
          "34.0699",
          "41.033",
          "40.1839",
          "41.3229",
          "38.9615",
          "41.0957",
          "40.6907",
          "40.8726",
          "38.8565",
          "41.0915",
          "39.9362",
          "40.8116",
          "40.9471",
          "40.7763",
          "39.9677",
          "38.0936",
          "39.9771",
          "40.6251",
          "40.9471",
          "40.9655",
          "40.0766",
          "40.4723",
          "40.7221",
          "40.6774",
          "40.9656",
          "40.4173",
          "40.8317",
          "40.8445",
          "34.0606",
          "40.6884",
          "37.6628",
          "34.169",
          "40.8246",
          "40.7484",
          "40.6451",
          "40.9045",
          "40.7934",
          "40.6794",
          "38.9982",
          "38.8871",
          "40.0612",
          "40.6816",
          "34.1144",
          "41.1705",
          "39.9863",
          "40.7764",
          "40.1217",
          "40.7651",
          "40.4226",
          "40.7446",
          "40.7816",
          "41.0222",
          "38.978",
          "40.6907",
          "40.0468",
          "40.9755",
          "40.6451",
          "40.6251",
          "40.6816",
          "40.3584",
          "38.8829",
          "40.9988",
          "38.8776",
          "39.9771",
          "40.1481",
          "40.556",
          "40.7245"
         ],
         "lon": [
          "-73.4532",
          "-76.5501",
          "-75.1078",
          "-72.7283",
          "-74.0589",
          "-73.9828",
          "-77.0504",
          "-73.9918",
          "-73.9781",
          "-74.5013",
          "-80.081",
          "-77.2337",
          "-74.1377",
          "-74.6874",
          "-73.6262",
          "-73.942",
          "-74.1192",
          "-73.6758",
          "-74.1131",
          "-73.3496",
          "-73.9507",
          "-118.1929",
          "-74.7429",
          "-73.1168",
          "-73.959",
          "-76.0237",
          "-74.1109",
          "-74.9088",
          "-74.5558",
          "-77.2532",
          "-73.9563",
          "-77.2515",
          "-73.5331",
          "-77.0177",
          "-73.9967",
          "-73.6595",
          "-73.8593",
          "-74.6408",
          "-73.8207",
          "-74.2779",
          "-74.4179",
          "-74.4147",
          "-72.8987",
          "-74.166",
          "-77.2295",
          "-74.1109",
          "-74.2568",
          "-73.6828",
          "-77.1153",
          "-74.1245",
          "-74.4179",
          "-74.5397",
          "-74.072",
          "-73.8241",
          "-73.398",
          "-73.7552",
          "-73.7877",
          "-74.072",
          "-74.1445",
          "-73.9496",
          "-75.5049",
          "-73.638",
          "-73.9563",
          "-74.0195",
          "-74.3424",
          "-76.9147",
          "-74.305",
          "-74.0503",
          "-73.1294",
          "-74.007",
          "-74.1157",
          "-77.0312",
          "-74.1711",
          "-73.7057",
          "-75.276",
          "-74.0672",
          "-74.2575",
          "-74.3517",
          "-122.2383",
          "-73.7652",
          "-73.4853",
          "-73.2799",
          "-75.5911",
          "-77.0529",
          "-73.9644",
          "-77.4805",
          "-76.6075",
          "-73.8473",
          "-78.7949",
          "-117.9373",
          "-75.2796",
          "-73.2241",
          "-74.4873",
          "-74.4117",
          "-74.2829",
          "-74.0329",
          "-80.0649",
          "-73.9813",
          "-73.9657",
          "-73.6798",
          "-118.3254",
          "-73.9877",
          "-74.2165",
          "-73.7299",
          "-73.0549",
          "-73.3634",
          "-74.6776",
          "-73.4857",
          "-73.9962",
          "-75.0008",
          "-74.0208",
          "-77.086",
          "-76.6744",
          "-73.2681",
          "-76.4967",
          "-73.9892",
          "-73.2402",
          "-74.166",
          "-73.8961",
          "-74.1765",
          "-74.1079",
          "-74.6008",
          "-117.6583",
          "-74.525",
          "-77.4588",
          "-74.9067",
          "-76.8788",
          "-72.3077",
          "-73.9828",
          "-74.6576",
          "-76.9901",
          "-73.9389",
          "-74.2466",
          "-74.3106",
          "-77.1895",
          "-73.5445",
          "-73.9683",
          "-77.1204",
          "-119.7194",
          "-118.3492",
          "-73.7652",
          "-75.2327",
          "-73.08",
          "-77.3418",
          "-73.4285",
          "-73.9274",
          "-72.5202",
          "-77.0592",
          "-74.375",
          "-75.1563",
          "-73.955",
          "-74.2466",
          "-73.9529",
          "-75.1735",
          "-78.5611",
          "-74.1565",
          "-74.0303",
          "-74.2466",
          "-74.3016",
          "-76.3107",
          "-79.9132",
          "-74.0469",
          "-74.4968",
          "-73.8434",
          "-74.6938",
          "-73.9738",
          "-74.4824",
          "-118.3027",
          "-73.3745",
          "-77.534",
          "-118.3442",
          "-73.9507",
          "-73.9967",
          "-73.945",
          "-73.8073",
          "-73.6888",
          "-73.9496",
          "-77.0338",
          "-77.0932",
          "-75.3999",
          "-73.9798",
          "-117.6583",
          "-73.7715",
          "-75.407",
          "-73.9827",
          "-74.0611",
          "-73.9858",
          "-74.1799",
          "-73.9345",
          "-73.9511",
          "-73.6798",
          "-77.082",
          "-73.9274",
          "-75.6432",
          "-74.0285",
          "-73.945",
          "-74.0303",
          "-73.9798",
          "-74.0681",
          "-76.9895",
          "-74.4261",
          "-77.3885",
          "-74.1565",
          "-74.2137",
          "-74.2845",
          "-73.6487"
         ],
         "marker": {
          "autocolorscale": true,
          "color": [
           "#f71252",
           "#f71252",
           "#f71252",
           "#ecd75a",
           "#6985b5",
           "#f71252",
           "#f71252",
           "#f71252",
           "#fb8b34",
           "#52099b",
           "#f71252",
           "#f71252",
           "#52099b",
           "#6985b5",
           "#f71252",
           "#10aefd",
           "#6985b5",
           "#52099b",
           "#f71252",
           "#f71252",
           "#10aefd",
           "#8e1730",
           "#6985b5",
           "#f71252",
           "#f71252",
           "#f71252",
           "#52099b",
           "#6985b5",
           "#6985b5",
           "#f71252",
           "#10aefd",
           "#f71252",
           "#f71252",
           "#f71252",
           "#f71252",
           "#52099b",
           "#52099b",
           "#f71252",
           "#f71252",
           "#6985b5",
           "#52099b",
           "#6985b5",
           "#6985b5",
           "#6985b5",
           "#f71252",
           "#6985b5",
           "#f71252",
           "#52099b",
           "#f71252",
           "#6985b5",
           "#f71252",
           "#f71252",
           "#f71252",
           "#52099b",
           "#6985b5",
           "#f71252",
           "#52099b",
           "#6985b5",
           "#6985b5",
           "#10aefd",
           "#f71252",
           "#ecd75a",
           "#07981e",
           "#6985b5",
           "#f71252",
           "#f71252",
           "#6985b5",
           "#6985b5",
           "#6985b5",
           "#f71252",
           "#6985b5",
           "#f71252",
           "#52099b",
           "#ecd75a",
           "#f71252",
           "#f71252",
           "#52099b",
           "#f71252",
           "#119d58",
           "#52099b",
           "#f71252",
           "#f71252",
           "#f71252",
           "#f71252",
           "#10aefd",
           "#f71252",
           "#f71252",
           "#10aefd",
           "#f71252",
           "#8e1730",
           "#f71252",
           "#6985b5",
           "#f71252",
           "#f71252",
           "#f71252",
           "#6985b5",
           "#f71252",
           "#fb8b34",
           "#f71252",
           "#f71252",
           "#8e1730",
           "#f71252",
           "#f71252",
           "#52099b",
           "#f71252",
           "#ecd75a",
           "#6985b5",
           "#ecd75a",
           "#6985b5",
           "#f71252",
           "#f71252",
           "#f71252",
           "#f71252",
           "#f71252",
           "#f71252",
           "#f71252",
           "#6985b5",
           "#52099b",
           "#52099b",
           "#f71252",
           "#6985b5",
           "#6985b5",
           "#8e1730",
           "#6985b5",
           "#f71252",
           "#f71252",
           "#f71252",
           "#ecd75a",
           "#10aefd",
           "#6985b5",
           "#f71252",
           "#6985b5",
           "#f71252",
           "#f71252",
           "#f71252",
           "#6985b5",
           "#f71252",
           "#f71252",
           "#8e1730",
           "#8e1730",
           "#6985b5",
           "#f71252",
           "#6985b5",
           "#f71252",
           "#6985b5",
           "#10aefd",
           "#ecd75a",
           "#f71252",
           "#6985b5",
           "#f71252",
           "#f71252",
           "#6985b5",
           "#fb8b34",
           "#f71252",
           "#f71252",
           "#6985b5",
           "#10aefd",
           "#52099b",
           "#52099b",
           "#f71252",
           "#f71252",
           "#6985b5",
           "#6985b5",
           "#f71252",
           "#6985b5",
           "#f71252",
           "#52099b",
           "#8e1730",
           "#ecd75a",
           "#f71252",
           "#8e1730",
           "#10aefd",
           "#f71252",
           "#f71252",
           "#fb8b34",
           "#f71252",
           "#10aefd",
           "#f71252",
           "#f71252",
           "#f71252",
           "#f71252",
           "#8e1730",
           "#f71252",
           "#f71252",
           "#fb8b34",
           "#6985b5",
           "#f71252",
           "#6985b5",
           "#db9758",
           "#f71252",
           "#52099b",
           "#f71252",
           "#10aefd",
           "#f71252",
           "#52099b",
           "#07981e",
           "#10aefd",
           "#52099b",
           "#f71252",
           "#f71252",
           "#52099b",
           "#f71252",
           "#52099b",
           "#6985b5",
           "#6985b5",
           "#f71252"
          ]
         },
         "mode": "markers",
         "showlegend": false,
         "text": [
          "Whole Foods Market 5 Sugar Hollow Rd Ste C",
          "Whole Foods Market 200 Harker Pl Ste 100",
          "Whole Foods Market 1575 The Fairway",
          "King Kullen 25 Eastport Manor Rd",
          "ShopRite 1151 Shrewsbury Ave",
          "Whole Foods Market 214 3rd St",
          "Whole Foods Market 2201 I St NW",
          "Whole Foods Market 1095 6th Ave",
          "Village Fairway 550 2nd Ave",
          "Stop & Shop 940 Easton Ave",
          "Whole Foods Market 111 Siena Dr",
          "Whole Foods Market 8402 Old Keene Mill Rd",
          "Stop & Shop 160 Kingsland Rd",
          "ShopRite 3166 Us Highway 22",
          "Whole Foods Market 90 E Putnam Ave",
          "Foodtown 600 W 160th St",
          "ShopRite 583 589 Avenue C",
          "Stop & Shop 460 Franklin Ave",
          "Whole Foods Market 44 Godwin Ave",
          "Whole Foods Market 399 Post Rd W",
          "Foodtown 756 Saint Nicholas Ave",
          "7-Eleven 5326 York Blvd",
          "ShopRite 3373 Brunswick Pike",
          "Whole Foods Market 120 New Moriches Rd",
          "Whole Foods Market 45 Vervalen St",
          "Whole Foods Market 1800 Laskin Rd",
          "Stop & Shop 55 Brick Blvd",
          "ShopRite 50 Walmart Plz",
          "ShopRite 4154 Us Route 1",
          "Whole Foods Market 143 Maple Ave E",
          "Foodtown 159 N 3rd St",
          "Whole Foods Market 316 Kentlands Blvd",
          "Whole Foods Market 429 N Broadway",
          "Whole Foods Market 967 Florida Ave NW",
          "Whole Foods Market 250 7th Ave",
          "Stop & Shop 85 E Park Ave",
          "Stop & Shop 111 Vredenburgh Ave",
          "Whole Foods Market 3495 Us Highway 1",
          "Whole Foods Market 1425 Central Ave",
          "ShopRite 280 Us Highway 9",
          "Stop & Shop 133 Main St",
          "ShopRite 3600 Park Ave",
          "ShopRite 110 Albany Tpke Ste 200",
          "ShopRite 430 Greenwood Ave",
          "Whole Foods Market 1635 Boro Pl",
          "ShopRite 668 Route 70",
          "Whole Foods Market 235 Prospect Ave",
          "Stop & Shop 653 Hillside Ave",
          "Whole Foods Market 5269 River Rd",
          "ShopRite 540 New York Ave",
          "Whole Foods Market 222 Main St",
          "Whole Foods Market 319 Chimney Rock Rd",
          "Whole Foods Market 1933 State Route 35",
          "Stop & Shop 3106 Farrington St",
          "ShopRite 143 Federal Rd",
          "Whole Foods Market 110 Bloomingdale Rd",
          "Stop & Shop 2425 Palmer Ave",
          "ShopRite 1732 State Route 35",
          "ShopRite Rt 17 & Franklin Turnpike",
          "Foodtown 1420 Fulton St",
          "Whole Foods Market 475 Wilmington Pike",
          "King Kullen 127 Sunrise Hwy",
          "Brooklyn Harvest Market 781 Metropolitan Ave",
          "ShopRite 250 River Rd",
          "Whole Foods Market 113 Us Highway 9 S",
          "Whole Foods Market 6621 Baltimore Ave Ste B",
          "ShopRite 2909 Washington Rd",
          "ShopRite 500 S River St",
          "ShopRite 875 Bridgeport Ave",
          "Whole Foods Market 270 Greenwich St",
          "ShopRite 1500 State Route 35",
          "Whole Foods Market 1440 P St NW",
          "Stop & Shop 1189 Broad St",
          "King Kullen 231 W Merrick Rd",
          "Whole Foods Market 15 E Wynnewood Rd",
          "Whole Foods Market 300 Bergen Town Ctr",
          "Stop & Shop 407 Valley St",
          "Whole Foods Market 645 Middlesex Ave",
          "Raleys 725 S Main St",
          "Stop & Shop 154 Westchester Ave",
          "Whole Foods Market 150 Ledge Rd",
          "Whole Foods Market 120 Veterans Memorial Hwy",
          "Whole Foods Market 750 N Krocks Rd",
          "Whole Foods Market 1700 Duke St",
          "Foodtown 632 Vanderbilt Ave",
          "Whole Foods Market 19800 Belmont Chase Dr Ste 160",
          "Whole Foods Market 711 S Central Ave",
          "Foodtown 110 44 Queens Blvd",
          "Whole Foods Market 3139 Sheridan Dr",
          "7-Eleven 16020 E Main St",
          "Whole Foods Market 500 W Germantown Pike",
          "ShopRite 775 Main St S",
          "Whole Foods Market 110 Washington St",
          "Whole Foods Market 60 Waterview Blvd",
          "Whole Foods Market 2245 Springfield Ave",
          "ShopRite 900 Madison St",
          "Whole Foods Market 10576 Perry Hwy",
          "Village Fairway 766 6th Ave",
          "Whole Foods Market 226 E 57th St",
          "Whole Foods Market 575 Boston Post Rd",
          "7-Eleven 5609 W Sunset Blvd",
          "Whole Foods Market 95 E Houston St",
          "Whole Foods Market 701 Bloomfield Ave",
          "Stop & Shop 195 N Bedford Rd",
          "Whole Foods Market 1686 Boston Post Rd",
          "King Kullen 275 W Jericho Tpke",
          "ShopRite Route 206 Maple Ave",
          "King Kullen 598 Stewart Ave",
          "ShopRite 22 Holt Dr",
          "Whole Foods Market 1558 Kings Hwy N",
          "Whole Foods Market 1400 Waterfront Terrace",
          "Whole Foods Market 4530 40th St NW",
          "Whole Foods Market 1330 Smith Ave",
          "Whole Foods Market 350 Grasmere Ave",
          "Whole Foods Market 12090 Jefferson Ave Ste 100",
          "Whole Foods Market 4 Union Sq S",
          "ShopRite 1975 Black Rock Tpke",
          "Stop & Shop 337 Franklin Ave",
          "Stop & Shop 8989 Union Tpke",
          "Whole Foods Market 633 Broad St",
          "ShopRite 375 Paterson Ave",
          "ShopRite 23 Bethel Rd",
          "7-Eleven 1594 W 7th St",
          "ShopRite 319 Us Highway 130",
          "Whole Foods Market 2024 W Broad St",
          "Whole Foods Market 940 Route 73 N",
          "Whole Foods Market 10275 Little Patuxent Pkwy",
          "King Kullen 2044 Montauk Hwy",
          "Foodtown 409 5th Ave",
          "ShopRite 1225 Rte 33",
          "Whole Foods Market 600 H St NE",
          "ShopRite 246 Livingston St",
          "Whole Foods Market 560 Valley Rd",
          "Whole Foods Market 1255 Raritan Rd Ste 150",
          "Whole Foods Market 7511 Leesburg Pike",
          "ShopRite 200 Shippan Ave",
          "Whole Foods Market 808 Columbus Ave",
          "Whole Foods Market 11355 Woodglen Dr",
          "7-Eleven 1909 Cliff Dr",
          "7-Eleven 5000 Wilshire Blvd",
          "ShopRite 13 City Pl",
          "Whole Foods Market 1111 N Bethlehem Pike",
          "ShopRite 49 Pershing Dr",
          "Whole Foods Market 11660 Plaza America Dr",
          "ShopRite 360 Connecticut Ave",
          "Foodtown 1291 Broadway",
          "King Kullen 52 E Montauk Hwy",
          "Whole Foods Market 520 12th St S Ste 100",
          "ShopRite 23 Marshall Hill Rd",
          "Whole Foods Market 929 South St",
          "Whole Foods Market 100 W 125th St",
          "ShopRite 625 Hamburg Tpke",
          "Village Fairway 240 E 86th St",
          "Whole Foods Market 2101 Pennsylvania Ave",
          "Whole Foods Market 1797 Hydraulic Rd",
          "ShopRite 2 Route 37 W",
          "Foodtown 9105 3rd Ave",
          "Stop & Shop 1220 Hamburg Tpke",
          "Stop & Shop 500 Rte 23 N & Jackson Ave",
          "Whole Foods Market 1563 Fruitville Pike",
          "Whole Foods Market 5880 Centre Ave",
          "ShopRite 400 Luis Marin Blvd",
          "ShopRite 1153 Valley Rd",
          "Whole Foods Market 1 Ridge Hill Rd",
          "ShopRite 1325 Us Highway 206",
          "Whole Foods Market 905 River Rd",
          "Stop & Shop 245 Littleton Rd",
          "7-Eleven 3975 Wilshire Blvd",
          "King Kullen 600 N Wellwood Ave",
          "Whole Foods Market 11173 W Broad St",
          "7-Eleven 2500 W Burbank Blvd",
          "Foodtown 756 St. Nicholas Ave",
          "Whole Foods Market 450 W 33rd St",
          "Whole Foods Market 238 Bedford Ave Ste A",
          "Village Fairway 847 Pelham Pkwy",
          "Whole Foods Market 2101 Northern Blvd",
          "Foodtown 1420 Fulton St",
          "Whole Foods Market 833 Wayne Ave",
          "Whole Foods Market 2700 Wilson Blvd",
          "Whole Foods Market 821 W Lancaster Ave",
          "Whole Foods Market 292 Ashland Pl",
          "7-Eleven 187 N San Antonio Ave",
          "Whole Foods Market 480 N Bedford Rd",
          "Whole Foods Market 3737 West Chester Pike",
          "Village Fairway 2131 Broadway",
          "ShopRite 2433 Highway 34",
          "Whole Foods Market 10 Columbus Cir Ste 101",
          "ShopRite 3120 State Route 35",
          "Food Cellar 4-85 47th Rd",
          "Whole Foods Market 1551 3rd Ave",
          "Stop & Shop 25 Waterfront Pl",
          "Whole Foods Market 4420 Willard Ave",
          "Foodtown 1291 Broadway",
          "Whole Foods Market 175 N Pottstown Pike",
          "Stop & Shop 600 Kinderkamack Rd",
          "Brooklyn Harvest Market 25 N 5th St",
          "Foodtown 9105-27 3rd Ave",
          "Stop & Shop 625 Atlantic Ave",
          "Whole Foods Market 471 State Route 35 N",
          "Whole Foods Market 101 H St SE",
          "Stop & Shop 25 Kinnelon Rd",
          "Whole Foods Market 4501 Market Commons Dr",
          "Stop & Shop 353 Route 37 E",
          "ShopRite 4594 Us Highway 9 S",
          "ShopRite 877 Saint George Ave",
          "Whole Foods Market 867 E Gate Blvd"
         ],
         "type": "scattergeo"
        },
        {
         "lat": [
          "38.9898",
          "40.7229",
          "40.8265",
          "38.978",
          "40.8246",
          "40.7152",
          "36.8282",
          "40.7179",
          "40.612",
          "40.6794",
          "40.7952",
          "41.1434",
          "40.6816",
          "40.6907",
          "40.5877",
          "40.9471",
          "38.9014",
          "39.9771",
          "40.7245",
          "40.7484",
          "40.7597",
          "40.6251",
          "40.7599",
          "39.9362",
          "40.7599",
          "41.0602",
          "38.9601",
          "40.1795",
          "40.9655",
          "40.8143",
          "40.098",
          "40.5824",
          "39.9677",
          "40.7816",
          "41.2175",
          "37.6628",
          "38.8994",
          "40.0",
          "39.3716",
          "40.9721",
          "40.685",
          "40.9988",
          "40.7763",
          "40.7651",
          "40.7445",
          "40.7667",
          "40.6451",
          "40.8265",
          "41.0086",
          "40.7681",
          "41.033",
          "40.3666",
          "40.7892",
          "40.1839",
          "40.8621",
          "40.7139",
          "34.1144",
          "40.8246",
          "38.8829",
          "40.6742",
          "40.8094",
          "41.2656",
          "38.0936",
          "40.0468",
          "40.5449",
          "38.7757",
          "39.3223",
          "41.0427",
          "42.9744",
          "40.9471",
          "40.7036",
          "40.9978",
          "40.7859",
          "40.0766",
          "37.5498",
          "40.6929",
          "34.1005",
          "40.2171",
          "40.8131",
          "34.0699",
          "40.9471",
          "40.843",
          "40.7934",
          "41.465",
          "34.1144",
          "40.7465",
          "40.6774",
          "40.3944",
          "41.4767",
          "40.732",
          "34.0289",
          "40.6412",
          "40.3869",
          "39.9771",
          "41.205",
          "41.0957",
          "40.9166",
          "40.556",
          "40.7764",
          "40.7294",
          "40.6794",
          "40.7095",
          "40.7881",
          "40.2336",
          "38.8565",
          "40.9755",
          "39.0496",
          "38.953",
          "40.6816",
          "39.9863",
          "38.9585",
          "40.8344",
          "40.6251",
          "40.3282",
          "40.7095",
          "41.0915",
          "40.7375",
          "40.7443",
          "40.0612",
          "40.9477",
          "40.1688",
          "38.8935",
          "40.5007",
          "40.6907",
          "41.8384",
          "40.679",
          "41.1705",
          "40.3192",
          "34.169",
          "40.6203",
          "40.4173",
          "41.0222",
          "39.1125",
          "37.0768",
          "40.6807",
          "41.033",
          "40.7313",
          "40.3584",
          "40.982",
          "41.1692",
          "40.4587",
          "40.7571",
          "38.8871",
          "40.8382",
          "40.6637",
          "40.6669",
          "38.806",
          "40.5839",
          "40.8693",
          "40.2669",
          "40.701",
          "38.9067",
          "40.6451",
          "39.2141",
          "40.6884",
          "40.3323",
          "41.0768",
          "38.9982",
          "38.9615",
          "40.9978",
          "40.9656",
          "40.6669",
          "38.9122",
          "40.4723",
          "39.2998",
          "41.0141",
          "41.0577",
          "40.8726",
          "41.3047",
          "42.7198",
          "40.9331",
          "40.5681",
          "40.0389",
          "40.7975",
          "38.9381",
          "40.7221",
          "38.9024",
          "40.9339",
          "39.8845",
          "39.9015",
          "40.3529",
          "40.1688",
          "39.9074",
          "40.0389",
          "40.9045",
          "34.1145",
          "40.8536",
          "41.1928",
          "40.1481",
          "40.1077",
          "40.8297",
          "41.0277",
          "40.588",
          "40.7484",
          "40.8317",
          "40.8116",
          "41.3917",
          "41.0222",
          "40.9176",
          "40.8445",
          "39.0373",
          "40.4226",
          "40.1217",
          "40.6664",
          "34.0606",
          "40.74",
          "40.2825",
          "40.8567",
          "41.2292"
         ],
         "lon": [
          "-76.5501",
          "-73.8473",
          "-73.9383",
          "-77.082",
          "-73.9507",
          "-73.9877",
          "-76.0237",
          "-74.2829",
          "-80.0649",
          "-73.9496",
          "-74.4873",
          "-73.3496",
          "-73.9798",
          "-73.9274",
          "-73.6595",
          "-74.2466",
          "-77.0504",
          "-74.1565",
          "-73.6487",
          "-73.9967",
          "-73.9918",
          "-74.0303",
          "-74.4179",
          "-75.1563",
          "-74.4179",
          "-73.5445",
          "-76.9147",
          "-122.2383",
          "-74.3016",
          "-73.3634",
          "-75.1078",
          "-75.5911",
          "-75.1735",
          "-73.9511",
          "-73.0549",
          "-77.534",
          "-77.1895",
          "-75.276",
          "-76.6744",
          "-73.959",
          "-73.5103",
          "-74.4261",
          "-73.9529",
          "-73.9858",
          "-74.0329",
          "-73.8241",
          "-73.945",
          "-73.9383",
          "-73.9389",
          "-74.0208",
          "-73.7652",
          "-74.6408",
          "-74.6776",
          "-75.2327",
          "-74.4117",
          "-74.007",
          "-117.6583",
          "-73.9507",
          "-76.9895",
          "-73.7057",
          "-74.1245",
          "-74.3604",
          "-78.5611",
          "-75.6432",
          "-74.3517",
          "-77.2337",
          "-74.6008",
          "-73.6262",
          "-78.7949",
          "-74.2466",
          "-73.8961",
          "-74.166",
          "-74.2568",
          "-76.3107",
          "-77.4588",
          "-73.6539",
          "-118.3254",
          "-74.7429",
          "-74.2165",
          "-118.3492",
          "-74.2466",
          "-73.2799",
          "-73.6888",
          "-73.398",
          "-117.6583",
          "-74.2575",
          "-74.4968",
          "-74.1157",
          "-73.2241",
          "-74.1765",
          "-117.9373",
          "-74.9088",
          "-74.5558",
          "-74.1565",
          "-73.7299",
          "-73.4285",
          "-73.7877",
          "-74.2845",
          "-73.9827",
          "-73.6828",
          "-73.9496",
          "-73.9563",
          "-73.5331",
          "-74.6576",
          "-77.0592",
          "-74.0285",
          "-77.1204",
          "-77.2295",
          "-73.9798",
          "-75.407",
          "-77.1153",
          "-74.1377",
          "-74.0303",
          "-74.0589",
          "-73.9563",
          "-74.375",
          "-73.9813",
          "-73.9781",
          "-75.3999",
          "-74.0672",
          "-74.072",
          "-77.2532",
          "-74.5013",
          "-73.9274",
          "-72.8987",
          "-73.9644",
          "-73.7715",
          "-74.4285",
          "-118.3442",
          "-74.3106",
          "-74.6938",
          "-73.6798",
          "-77.2515",
          "-76.4967",
          "-73.4444",
          "-73.7652",
          "-73.9892",
          "-74.0681",
          "-74.1131",
          "-73.2681",
          "-74.305",
          "-73.9657",
          "-77.0932",
          "-73.942",
          "-73.638",
          "-73.9828",
          "-77.0529",
          "-74.4147",
          "-74.1711",
          "-74.525",
          "-73.6758",
          "-77.0312",
          "-73.945",
          "-76.8788",
          "-73.3745",
          "-80.081",
          "-73.4853",
          "-77.0338",
          "-77.3418",
          "-74.166",
          "-73.8434",
          "-73.9828",
          "-77.0177",
          "-79.9132",
          "-76.6075",
          "-73.7552",
          "-74.1445",
          "-72.5202",
          "-73.1294",
          "-73.8207",
          "-74.0195",
          "-74.5397",
          "-74.1109",
          "-73.9683",
          "-77.086",
          "-74.0469",
          "-76.9901",
          "-72.3077",
          "-74.9067",
          "-75.5049",
          "-74.2779",
          "-74.072",
          "-75.0008",
          "-74.1109",
          "-73.8073",
          "-118.1929",
          "-74.1079",
          "-73.2402",
          "-74.2137",
          "-75.2796",
          "-72.7283",
          "-74.6407",
          "-74.6874",
          "-73.9967",
          "-73.9738",
          "-73.955",
          "-73.4532",
          "-73.6798",
          "-73.8593",
          "-74.4824",
          "-77.4805",
          "-74.1799",
          "-74.0611",
          "-74.1192",
          "-118.3027",
          "-73.4857",
          "-74.3424",
          "-73.1168",
          "-73.9962"
         ],
         "marker": {
          "autocolorscale": true,
          "color": [
           "#f71252",
           "#10aefd",
           "#10aefd",
           "#f71252",
           "#10aefd",
           "#f71252",
           "#f71252",
           "#f71252",
           "#f71252",
           "#10aefd",
           "#f71252",
           "#f71252",
           "#52099b",
           "#10aefd",
           "#52099b",
           "#52099b",
           "#f71252",
           "#6985b5",
           "#f71252",
           "#f71252",
           "#f71252",
           "#10aefd",
           "#f71252",
           "#f71252",
           "#52099b",
           "#6985b5",
           "#f71252",
           "#119d58",
           "#52099b",
           "#ecd75a",
           "#f71252",
           "#f71252",
           "#f71252",
           "#f71252",
           "#f71252",
           "#f71252",
           "#f71252",
           "#f71252",
           "#f71252",
           "#f71252",
           "#ecd75a",
           "#52099b",
           "#fb8b34",
           "#f71252",
           "#6985b5",
           "#52099b",
           "#f71252",
           "#10aefd",
           "#6985b5",
           "#f71252",
           "#52099b",
           "#f71252",
           "#6985b5",
           "#f71252",
           "#f71252",
           "#f71252",
           "#8e1730",
           "#10aefd",
           "#f71252",
           "#ecd75a",
           "#6985b5",
           "#6985b5",
           "#f71252",
           "#f71252",
           "#f71252",
           "#f71252",
           "#6985b5",
           "#f71252",
           "#f71252",
           "#f71252",
           "#52099b",
           "#52099b",
           "#f71252",
           "#f71252",
           "#f71252",
           "#52099b",
           "#8e1730",
           "#6985b5",
           "#f71252",
           "#8e1730",
           "#6985b5",
           "#f71252",
           "#f71252",
           "#6985b5",
           "#8e1730",
           "#52099b",
           "#6985b5",
           "#6985b5",
           "#6985b5",
           "#f71252",
           "#8e1730",
           "#6985b5",
           "#6985b5",
           "#52099b",
           "#52099b",
           "#6985b5",
           "#52099b",
           "#6985b5",
           "#fb8b34",
           "#52099b",
           "#10aefd",
           "#07981e",
           "#f71252",
           "#6985b5",
           "#f71252",
           "#52099b",
           "#f71252",
           "#f71252",
           "#f71252",
           "#f71252",
           "#f71252",
           "#52099b",
           "#10aefd",
           "#6985b5",
           "#10aefd",
           "#6985b5",
           "#fb8b34",
           "#fb8b34",
           "#f71252",
           "#f71252",
           "#f71252",
           "#f71252",
           "#52099b",
           "#10aefd",
           "#6985b5",
           "#10aefd",
           "#f71252",
           "#52099b",
           "#8e1730",
           "#f71252",
           "#6985b5",
           "#f71252",
           "#f71252",
           "#f71252",
           "#f71252",
           "#6985b5",
           "#f71252",
           "#f71252",
           "#f71252",
           "#f71252",
           "#6985b5",
           "#f71252",
           "#f71252",
           "#10aefd",
           "#ecd75a",
           "#f71252",
           "#f71252",
           "#6985b5",
           "#52099b",
           "#6985b5",
           "#52099b",
           "#f71252",
           "#07981e",
           "#f71252",
           "#ecd75a",
           "#f71252",
           "#f71252",
           "#f71252",
           "#f71252",
           "#6985b5",
           "#f71252",
           "#10aefd",
           "#f71252",
           "#f71252",
           "#f71252",
           "#f71252",
           "#6985b5",
           "#ecd75a",
           "#6985b5",
           "#f71252",
           "#6985b5",
           "#f71252",
           "#52099b",
           "#f71252",
           "#f71252",
           "#6985b5",
           "#f71252",
           "#ecd75a",
           "#f71252",
           "#f71252",
           "#6985b5",
           "#6985b5",
           "#f71252",
           "#6985b5",
           "#fb8b34",
           "#8e1730",
           "#6985b5",
           "#6985b5",
           "#6985b5",
           "#f71252",
           "#ecd75a",
           "#52099b",
           "#6985b5",
           "#f71252",
           "#f71252",
           "#f71252",
           "#f71252",
           "#52099b",
           "#52099b",
           "#52099b",
           "#f71252",
           "#6985b5",
           "#6985b5",
           "#6985b5",
           "#8e1730",
           "#ecd75a",
           "#f71252",
           "#f71252",
           "#6985b5"
          ]
         },
         "mode": "markers",
         "showlegend": false,
         "text": [
          "Whole Foods Market 200 Harker Pl Ste 100",
          "Foodtown 110 44 Queens Blvd",
          "Foodtown 300 West 145th Street",
          "Whole Foods Market 4420 Willard Ave",
          "Foodtown 756 St. Nicholas Ave",
          "Whole Foods Market 95 E Houston St",
          "Whole Foods Market 1800 Laskin Rd",
          "Whole Foods Market 2245 Springfield Ave",
          "Whole Foods Market 10576 Perry Hwy",
          "Foodtown 1420 Fulton St",
          "Whole Foods Market 110 Washington St",
          "Whole Foods Market 399 Post Rd W",
          "Stop & Shop 625 Atlantic Ave",
          "Foodtown 1291 Broadway",
          "Stop & Shop 85 E Park Ave",
          "Stop & Shop 1220 Hamburg Tpke",
          "Whole Foods Market 2201 I St NW",
          "ShopRite 2 Route 37 W",
          "Whole Foods Market 867 E Gate Blvd",
          "Whole Foods Market 250 7th Ave",
          "Whole Foods Market 1095 6th Ave",
          "Foodtown 9105-27 3rd Ave",
          "Whole Foods Market 222 Main St",
          "Whole Foods Market 929 South St",
          "Stop & Shop 133 Main St",
          "ShopRite 200 Shippan Ave",
          "Whole Foods Market 6621 Baltimore Ave Ste B",
          "Raleys 725 S Main St",
          "Stop & Shop 500 Rte 23 N & Jackson Ave",
          "King Kullen 275 W Jericho Tpke",
          "Whole Foods Market 1575 The Fairway",
          "Whole Foods Market 750 N Krocks Rd",
          "Whole Foods Market 2101 Pennsylvania Ave",
          "Whole Foods Market 1551 3rd Ave",
          "Whole Foods Market 1686 Boston Post Rd",
          "Whole Foods Market 11173 W Broad St",
          "Whole Foods Market 7511 Leesburg Pike",
          "Whole Foods Market 15 E Wynnewood Rd",
          "Whole Foods Market 1330 Smith Ave",
          "Whole Foods Market 45 Vervalen St",
          "King Kullen 1340 Wantagh Ave",
          "Stop & Shop 25 Kinnelon Rd",
          "Village Fairway 240 E 86th St",
          "Whole Foods Market 10 Columbus Cir Ste 101",
          "ShopRite 900 Madison St",
          "Stop & Shop 3106 Farrington St",
          "Whole Foods Market 238 Bedford Ave Ste A",
          "Foodtown 300 W 145th St",
          "ShopRite 246 Livingston St",
          "Whole Foods Market 1400 Waterfront Terrace",
          "Stop & Shop 154 Westchester Ave",
          "Whole Foods Market 3495 Us Highway 1",
          "ShopRite Route 206 Maple Ave",
          "Whole Foods Market 1111 N Bethlehem Pike",
          "Whole Foods Market 60 Waterview Blvd",
          "Whole Foods Market 270 Greenwich St",
          "7-Eleven 1594 W 7th St",
          "Foodtown 756 Saint Nicholas Ave",
          "Whole Foods Market 101 H St SE",
          "King Kullen 231 W Merrick Rd",
          "ShopRite 540 New York Ave",
          "ShopRite 153 State Route 94 S",
          "Whole Foods Market 1797 Hydraulic Rd",
          "Whole Foods Market 175 N Pottstown Pike",
          "Whole Foods Market 645 Middlesex Ave",
          "Whole Foods Market 8402 Old Keene Mill Rd",
          "ShopRite 23 Bethel Rd",
          "Whole Foods Market 90 E Putnam Ave",
          "Whole Foods Market 3139 Sheridan Dr",
          "Whole Foods Market 560 Valley Rd",
          "Stop & Shop 8989 Union Tpke",
          "Stop & Shop 337 Franklin Ave",
          "Whole Foods Market 235 Prospect Ave",
          "Whole Foods Market 1563 Fruitville Pike",
          "Whole Foods Market 2024 W Broad St",
          "Stop & Shop 50 Cherry Valley Ave",
          "7-Eleven 5609 W Sunset Blvd",
          "ShopRite 3373 Brunswick Pike",
          "Whole Foods Market 701 Bloomfield Ave",
          "7-Eleven 5000 Wilshire Blvd",
          "ShopRite 625 Hamburg Tpke",
          "Whole Foods Market 120 Veterans Memorial Hwy",
          "Whole Foods Market 2101 Northern Blvd",
          "ShopRite 143 Federal Rd",
          "7-Eleven 187 N San Antonio Ave",
          "Stop & Shop 407 Valley St",
          "ShopRite 1153 Valley Rd",
          "ShopRite 1500 State Route 35",
          "ShopRite 775 Main St S",
          "Whole Foods Market 633 Broad St",
          "7-Eleven 16020 E Main St",
          "ShopRite 50 Walmart Plz",
          "ShopRite 4154 Us Route 1",
          "Stop & Shop 353 Route 37 E",
          "Stop & Shop 195 N Bedford Rd",
          "ShopRite 360 Connecticut Ave",
          "Stop & Shop 2425 Palmer Ave",
          "ShopRite 877 Saint George Ave",
          "Village Fairway 2131 Broadway",
          "Stop & Shop 653 Hillside Ave",
          "Foodtown 1420 Fulton St",
          "Brooklyn Harvest Market 781 Metropolitan Ave",
          "Whole Foods Market 429 N Broadway",
          "ShopRite 1225 Rte 33",
          "Whole Foods Market 520 12th St S Ste 100",
          "Stop & Shop 600 Kinderkamack Rd",
          "Whole Foods Market 11355 Woodglen Dr",
          "Whole Foods Market 1635 Boro Pl",
          "Whole Foods Market 292 Ashland Pl",
          "Whole Foods Market 3737 West Chester Pike",
          "Whole Foods Market 5269 River Rd",
          "Stop & Shop 160 Kingsland Rd",
          "Foodtown 9105 3rd Ave",
          "ShopRite 1151 Shrewsbury Ave",
          "Foodtown 159 N 3rd St",
          "ShopRite 23 Marshall Hill Rd",
          "Village Fairway 766 6th Ave",
          "Village Fairway 550 2nd Ave",
          "Whole Foods Market 821 W Lancaster Ave",
          "Whole Foods Market 300 Bergen Town Ctr",
          "Whole Foods Market 1933 State Route 35",
          "Whole Foods Market 143 Maple Ave E",
          "Stop & Shop 940 Easton Ave",
          "Foodtown 1291 Broadway",
          "ShopRite 110 Albany Tpke Ste 200",
          "Foodtown 632 Vanderbilt Ave",
          "Whole Foods Market 480 N Bedford Rd",
          "Stop & Shop 1600 Perrineville Rd",
          "7-Eleven 2500 W Burbank Blvd",
          "Whole Foods Market 1255 Raritan Rd Ste 150",
          "ShopRite 1325 Us Highway 206",
          "Whole Foods Market 575 Boston Post Rd",
          "Whole Foods Market 316 Kentlands Blvd",
          "Whole Foods Market 12090 Jefferson Ave Ste 100",
          "Whole Foods Market 5214 Sunrise Hwy",
          "ShopRite 13 City Pl",
          "Whole Foods Market 4 Union Sq S",
          "Whole Foods Market 471 State Route 35 N",
          "Whole Foods Market 44 Godwin Ave",
          "Whole Foods Market 350 Grasmere Ave",
          "ShopRite 2909 Washington Rd",
          "Whole Foods Market 226 E 57th St",
          "Whole Foods Market 2700 Wilson Blvd",
          "Foodtown 600 W 160th St",
          "King Kullen 127 Sunrise Hwy",
          "Whole Foods Market 214 3rd St",
          "Whole Foods Market 1700 Duke St",
          "ShopRite 3600 Park Ave",
          "Stop & Shop 1189 Broad St",
          "ShopRite 319 Us Highway 130",
          "Stop & Shop 460 Franklin Ave",
          "Whole Foods Market 1440 P St NW",
          "Brooklyn Harvest Market 25 N 5th St",
          "Whole Foods Market 10275 Little Patuxent Pkwy",
          "King Kullen 600 N Wellwood Ave",
          "Whole Foods Market 111 Siena Dr",
          "Whole Foods Market 150 Ledge Rd",
          "Whole Foods Market 833 Wayne Ave",
          "Whole Foods Market 11660 Plaza America Dr",
          "ShopRite 430 Greenwood Ave",
          "Whole Foods Market 1 Ridge Hill Rd",
          "Foodtown 409 5th Ave",
          "Whole Foods Market 967 Florida Ave NW",
          "Whole Foods Market 5880 Centre Ave",
          "Whole Foods Market 711 S Central Ave",
          "Whole Foods Market 110 Bloomingdale Rd",
          "ShopRite Rt 17 & Franklin Turnpike",
          "King Kullen 52 E Montauk Hwy",
          "ShopRite 875 Bridgeport Ave",
          "Whole Foods Market 1425 Central Ave",
          "ShopRite 250 River Rd",
          "Whole Foods Market 319 Chimney Rock Rd",
          "Stop & Shop 55 Brick Blvd",
          "Whole Foods Market 808 Columbus Ave",
          "Whole Foods Market 4530 40th St NW",
          "ShopRite 400 Luis Marin Blvd",
          "Whole Foods Market 600 H St NE",
          "King Kullen 2044 Montauk Hwy",
          "Whole Foods Market 940 Route 73 N",
          "Whole Foods Market 475 Wilmington Pike",
          "ShopRite 280 Us Highway 9",
          "ShopRite 1732 State Route 35",
          "Whole Foods Market 1558 Kings Hwy N",
          "ShopRite 668 Route 70",
          "Village Fairway 847 Pelham Pkwy",
          "7-Eleven 5326 York Blvd",
          "ShopRite 375 Paterson Ave",
          "ShopRite 1975 Black Rock Tpke",
          "ShopRite 4594 Us Highway 9 S",
          "Whole Foods Market 500 W Germantown Pike",
          "King Kullen 25 Eastport Manor Rd",
          "Stop & Shop 5 Town Center Dr",
          "ShopRite 3166 Us Highway 22",
          "Whole Foods Market 450 W 33rd St",
          "Whole Foods Market 905 River Rd",
          "Whole Foods Market 100 W 125th St",
          "Whole Foods Market 5 Sugar Hollow Rd Ste C",
          "Stop & Shop 25 Waterfront Pl",
          "Stop & Shop 111 Vredenburgh Ave",
          "Stop & Shop 245 Littleton Rd",
          "Whole Foods Market 19800 Belmont Chase Dr Ste 160",
          "ShopRite 3120 State Route 35",
          "ShopRite 2433 Highway 34",
          "ShopRite 583 589 Avenue C",
          "7-Eleven 3975 Wilshire Blvd",
          "King Kullen 598 Stewart Ave",
          "Whole Foods Market 113 Us Highway 9 S",
          "Whole Foods Market 120 New Moriches Rd",
          "ShopRite 22 Holt Dr"
         ],
         "type": "scattergeo"
        },
        {
         "lat": [
          "39.0496",
          "38.8994",
          "40.6774",
          "40.3944",
          "40.6884",
          "40.5839",
          "40.8116",
          "40.3584",
          "40.7443",
          "40.3869",
          "40.7816",
          "39.9677",
          "40.8246",
          "40.7036",
          "40.7763",
          "41.1434",
          "40.982",
          "41.3917",
          "40.8143",
          "38.7757",
          "39.8845",
          "40.8621",
          "40.7229",
          "40.7599",
          "38.9615",
          "40.3666",
          "40.6637",
          "40.8536",
          "41.0222",
          "40.6451",
          "40.4226",
          "40.0468",
          "40.8265",
          "40.6412",
          "40.8246",
          "41.033",
          "36.8282",
          "40.6669",
          "40.6794",
          "40.6251",
          "39.9771",
          "40.0766",
          "40.6907",
          "39.9362",
          "40.6203",
          "40.7975",
          "40.8726",
          "38.8829",
          "39.9074",
          "40.8445",
          "34.1005",
          "40.9045",
          "40.7465",
          "39.9771",
          "40.4173",
          "34.169",
          "40.8297",
          "39.2141",
          "40.1688",
          "40.7179",
          "41.0427",
          "41.4767",
          "41.3047",
          "40.843",
          "40.7597",
          "34.0289",
          "40.4587",
          "40.3323",
          "41.0277",
          "40.3192",
          "40.6794",
          "34.1144",
          "40.556",
          "40.3282",
          "39.2998",
          "40.3529",
          "38.9381",
          "39.1125",
          "41.2175",
          "40.9471",
          "41.0086",
          "40.8094",
          "40.7095",
          "40.5681",
          "39.3223",
          "40.7221",
          "40.732",
          "40.8693",
          "40.7651",
          "40.0612",
          "40.1217",
          "41.0768",
          "40.7484",
          "41.033",
          "40.7892",
          "40.9656",
          "40.9978",
          "40.6807",
          "38.978",
          "40.1481",
          "41.205",
          "40.5824",
          "40.679",
          "38.8565",
          "39.0373",
          "39.3716",
          "40.7952",
          "38.953",
          "40.6664",
          "40.9471",
          "40.8567",
          "40.7152",
          "41.2656",
          "40.9988",
          "39.9863",
          "40.9471",
          "40.6907",
          "40.6451",
          "40.7859",
          "38.9982",
          "40.7245",
          "40.0389",
          "41.0222",
          "40.9176",
          "40.5449",
          "40.7139",
          "41.0915",
          "40.2825",
          "40.7764",
          "40.5007",
          "38.806",
          "40.8265",
          "40.5877",
          "40.9655",
          "40.9978",
          "37.6628",
          "39.9015",
          "40.7681",
          "40.6669",
          "41.0577",
          "42.9744",
          "40.7582",
          "40.6816",
          "41.1705",
          "40.612",
          "40.1839",
          "40.9477",
          "40.4723",
          "40.701",
          "40.9755",
          "34.0699",
          "40.098",
          "40.7294",
          "41.0957",
          "40.7445",
          "40.6742",
          "38.9024",
          "40.2336",
          "40.6816",
          "40.1077",
          "40.1688",
          "38.8871",
          "40.0389",
          "40.2669",
          "40.7599",
          "34.1145",
          "40.7484",
          "40.7095",
          "40.9339",
          "40.8131",
          "40.7667",
          "40.7375",
          "41.8384",
          "40.7313",
          "41.1692",
          "40.6929",
          "40.7881",
          "37.0768",
          "38.9067",
          "41.1928",
          "40.685",
          "40.6251",
          "38.8776",
          "40.9331",
          "40.9166",
          "38.9122",
          "40.0",
          "40.588",
          "38.0936",
          "34.1144",
          "40.7571",
          "40.2171",
          "40.8382",
          "38.8935",
          "41.465",
          "40.8344",
          "38.9014",
          "40.8317",
          "38.9585",
          "38.9601",
          "40.9721",
          "38.9898",
          "42.7198",
          "41.0141",
          "37.5498",
          "41.0602"
         ],
         "lon": [
          "-77.1204",
          "-77.1895",
          "-74.4968",
          "-74.1157",
          "-73.3745",
          "-74.4147",
          "-73.955",
          "-74.0681",
          "-73.9781",
          "-74.5558",
          "-73.9511",
          "-75.1735",
          "-73.9507",
          "-73.8961",
          "-73.9529",
          "-73.3496",
          "-74.1131",
          "-73.4532",
          "-73.3634",
          "-77.2337",
          "-74.9067",
          "-74.4117",
          "-73.8473",
          "-74.4179",
          "-77.3418",
          "-74.6408",
          "-73.638",
          "-74.1079",
          "-73.6798",
          "-73.945",
          "-74.1799",
          "-75.6432",
          "-73.9383",
          "-74.9088",
          "-73.9507",
          "-73.7652",
          "-76.0237",
          "-73.9828",
          "-73.9496",
          "-74.0303",
          "-74.1565",
          "-76.3107",
          "-73.9274",
          "-75.1563",
          "-74.3106",
          "-73.9683",
          "-72.5202",
          "-76.9895",
          "-75.0008",
          "-74.4824",
          "-118.3254",
          "-73.8073",
          "-74.2575",
          "-74.1565",
          "-74.6938",
          "-118.3442",
          "-72.7283",
          "-76.8788",
          "-74.072",
          "-74.2829",
          "-73.6262",
          "-73.2241",
          "-73.1294",
          "-73.2799",
          "-73.9918",
          "-117.9373",
          "-74.305",
          "-80.081",
          "-74.6407",
          "-74.4285",
          "-73.9496",
          "-117.6583",
          "-74.2845",
          "-74.0589",
          "-76.6075",
          "-74.2779",
          "-77.086",
          "-77.2515",
          "-73.0549",
          "-74.2466",
          "-73.9389",
          "-74.1245",
          "-73.9563",
          "-74.5397",
          "-74.6008",
          "-74.0469",
          "-74.1765",
          "-74.1711",
          "-73.9858",
          "-75.3999",
          "-74.0611",
          "-73.4853",
          "-73.9967",
          "-73.7652",
          "-74.6776",
          "-73.8434",
          "-74.166",
          "-73.4444",
          "-77.082",
          "-74.2137",
          "-73.7299",
          "-75.5911",
          "-73.9644",
          "-77.0592",
          "-77.4805",
          "-76.6744",
          "-74.4873",
          "-77.2295",
          "-74.1192",
          "-74.2466",
          "-73.1168",
          "-73.9877",
          "-74.3604",
          "-74.4261",
          "-75.407",
          "-74.2466",
          "-73.9274",
          "-73.945",
          "-74.2568",
          "-77.0338",
          "-73.6487",
          "-74.1109",
          "-73.6798",
          "-73.8593",
          "-74.3517",
          "-74.007",
          "-74.375",
          "-74.3424",
          "-73.9827",
          "-74.5013",
          "-77.0529",
          "-73.9383",
          "-73.6595",
          "-74.3016",
          "-74.166",
          "-77.534",
          "-75.5049",
          "-74.0208",
          "-73.9828",
          "-74.1445",
          "-78.7949",
          "-74.9914",
          "-73.9798",
          "-73.7715",
          "-80.0649",
          "-75.2327",
          "-74.0672",
          "-79.9132",
          "-73.6758",
          "-74.0285",
          "-118.3492",
          "-75.1078",
          "-73.6828",
          "-73.4285",
          "-74.0329",
          "-73.7057",
          "-76.9901",
          "-74.6576",
          "-73.9798",
          "-75.2796",
          "-74.072",
          "-77.0932",
          "-74.1109",
          "-74.525",
          "-74.4179",
          "-118.1929",
          "-73.9967",
          "-73.9563",
          "-72.3077",
          "-74.2165",
          "-73.8241",
          "-73.9813",
          "-72.8987",
          "-73.9892",
          "-73.2681",
          "-73.6539",
          "-73.5331",
          "-76.4967",
          "-77.0312",
          "-73.2402",
          "-73.5103",
          "-74.0303",
          "-77.3885",
          "-74.0195",
          "-73.7877",
          "-77.0177",
          "-75.276",
          "-74.6874",
          "-78.5611",
          "-117.6583",
          "-73.9657",
          "-74.7429",
          "-73.942",
          "-77.2532",
          "-73.398",
          "-74.1377",
          "-77.0504",
          "-73.9738",
          "-77.1153",
          "-76.9147",
          "-73.959",
          "-76.5501",
          "-73.8207",
          "-73.7552",
          "-77.4588",
          "-73.5445"
         ],
         "marker": {
          "autocolorscale": true,
          "color": [
           "#f71252",
           "#f71252",
           "#6985b5",
           "#6985b5",
           "#ecd75a",
           "#6985b5",
           "#f71252",
           "#f71252",
           "#fb8b34",
           "#6985b5",
           "#f71252",
           "#f71252",
           "#10aefd",
           "#52099b",
           "#fb8b34",
           "#f71252",
           "#f71252",
           "#f71252",
           "#ecd75a",
           "#f71252",
           "#f71252",
           "#f71252",
           "#10aefd",
           "#f71252",
           "#f71252",
           "#f71252",
           "#ecd75a",
           "#6985b5",
           "#52099b",
           "#f71252",
           "#6985b5",
           "#f71252",
           "#10aefd",
           "#6985b5",
           "#10aefd",
           "#52099b",
           "#f71252",
           "#f71252",
           "#10aefd",
           "#10aefd",
           "#52099b",
           "#f71252",
           "#10aefd",
           "#f71252",
           "#f71252",
           "#f71252",
           "#ecd75a",
           "#f71252",
           "#f71252",
           "#52099b",
           "#8e1730",
           "#fb8b34",
           "#52099b",
           "#6985b5",
           "#6985b5",
           "#8e1730",
           "#ecd75a",
           "#f71252",
           "#6985b5",
           "#f71252",
           "#f71252",
           "#6985b5",
           "#6985b5",
           "#f71252",
           "#f71252",
           "#8e1730",
           "#6985b5",
           "#f71252",
           "#52099b",
           "#52099b",
           "#10aefd",
           "#8e1730",
           "#6985b5",
           "#6985b5",
           "#f71252",
           "#6985b5",
           "#f71252",
           "#f71252",
           "#f71252",
           "#6985b5",
           "#6985b5",
           "#6985b5",
           "#07981e",
           "#f71252",
           "#6985b5",
           "#6985b5",
           "#f71252",
           "#52099b",
           "#f71252",
           "#f71252",
           "#6985b5",
           "#f71252",
           "#f71252",
           "#6985b5",
           "#6985b5",
           "#f71252",
           "#6985b5",
           "#f71252",
           "#f71252",
           "#6985b5",
           "#52099b",
           "#f71252",
           "#10aefd",
           "#f71252",
           "#f71252",
           "#f71252",
           "#f71252",
           "#f71252",
           "#6985b5",
           "#52099b",
           "#f71252",
           "#f71252",
           "#6985b5",
           "#52099b",
           "#f71252",
           "#f71252",
           "#10aefd",
           "#07981e",
           "#f71252",
           "#f71252",
           "#f71252",
           "#6985b5",
           "#f71252",
           "#52099b",
           "#f71252",
           "#f71252",
           "#6985b5",
           "#f71252",
           "#fb8b34",
           "#52099b",
           "#f71252",
           "#10aefd",
           "#52099b",
           "#52099b",
           "#52099b",
           "#f71252",
           "#f71252",
           "#f71252",
           "#10aefd",
           "#6985b5",
           "#f71252",
           "#6985b5",
           "#f71252",
           "#f71252",
           "#f71252",
           "#f71252",
           "#f71252",
           "#f71252",
           "#52099b",
           "#52099b",
           "#8e1730",
           "#f71252",
           "#52099b",
           "#6985b5",
           "#6985b5",
           "#ecd75a",
           "#f71252",
           "#6985b5",
           "#52099b",
           "#f71252",
           "#f71252",
           "#f71252",
           "#52099b",
           "#6985b5",
           "#52099b",
           "#8e1730",
           "#f71252",
           "#10aefd",
           "#ecd75a",
           "#f71252",
           "#52099b",
           "#fb8b34",
           "#6985b5",
           "#f71252",
           "#f71252",
           "#52099b",
           "#f71252",
           "#f71252",
           "#f71252",
           "#6985b5",
           "#ecd75a",
           "#10aefd",
           "#f71252",
           "#6985b5",
           "#52099b",
           "#f71252",
           "#f71252",
           "#6985b5",
           "#f71252",
           "#8e1730",
           "#f71252",
           "#6985b5",
           "#10aefd",
           "#f71252",
           "#6985b5",
           "#52099b",
           "#f71252",
           "#f71252",
           "#f71252",
           "#f71252",
           "#f71252",
           "#f71252",
           "#f71252",
           "#f71252",
           "#f71252",
           "#6985b5"
          ]
         },
         "mode": "markers",
         "showlegend": false,
         "text": [
          "Whole Foods Market 11355 Woodglen Dr",
          "Whole Foods Market 7511 Leesburg Pike",
          "ShopRite 1153 Valley Rd",
          "ShopRite 1500 State Route 35",
          "King Kullen 600 N Wellwood Ave",
          "ShopRite 3600 Park Ave",
          "Whole Foods Market 100 W 125th St",
          "Whole Foods Market 471 State Route 35 N",
          "Village Fairway 550 2nd Ave",
          "ShopRite 4154 Us Route 1",
          "Whole Foods Market 1551 3rd Ave",
          "Whole Foods Market 2101 Pennsylvania Ave",
          "Foodtown 756 Saint Nicholas Ave",
          "Stop & Shop 8989 Union Tpke",
          "Village Fairway 240 E 86th St",
          "Whole Foods Market 399 Post Rd W",
          "Whole Foods Market 44 Godwin Ave",
          "Whole Foods Market 5 Sugar Hollow Rd Ste C",
          "King Kullen 275 W Jericho Tpke",
          "Whole Foods Market 8402 Old Keene Mill Rd",
          "Whole Foods Market 940 Route 73 N",
          "Whole Foods Market 60 Waterview Blvd",
          "Foodtown 110 44 Queens Blvd",
          "Whole Foods Market 222 Main St",
          "Whole Foods Market 11660 Plaza America Dr",
          "Whole Foods Market 3495 Us Highway 1",
          "King Kullen 127 Sunrise Hwy",
          "ShopRite 375 Paterson Ave",
          "Stop & Shop 25 Waterfront Pl",
          "Whole Foods Market 238 Bedford Ave Ste A",
          "ShopRite 3120 State Route 35",
          "Whole Foods Market 175 N Pottstown Pike",
          "Foodtown 300 West 145th Street",
          "ShopRite 50 Walmart Plz",
          "Foodtown 756 St. Nicholas Ave",
          "Stop & Shop 154 Westchester Ave",
          "Whole Foods Market 1800 Laskin Rd",
          "Whole Foods Market 214 3rd St",
          "Foodtown 1420 Fulton St",
          "Foodtown 9105-27 3rd Ave",
          "Stop & Shop 353 Route 37 E",
          "Whole Foods Market 1563 Fruitville Pike",
          "Foodtown 1291 Broadway",
          "Whole Foods Market 929 South St",
          "Whole Foods Market 1255 Raritan Rd Ste 150",
          "Whole Foods Market 808 Columbus Ave",
          "King Kullen 52 E Montauk Hwy",
          "Whole Foods Market 101 H St SE",
          "Whole Foods Market 1558 Kings Hwy N",
          "Stop & Shop 245 Littleton Rd",
          "7-Eleven 5609 W Sunset Blvd",
          "Village Fairway 847 Pelham Pkwy",
          "Stop & Shop 407 Valley St",
          "ShopRite 2 Route 37 W",
          "ShopRite 1325 Us Highway 206",
          "7-Eleven 2500 W Burbank Blvd",
          "King Kullen 25 Eastport Manor Rd",
          "Whole Foods Market 10275 Little Patuxent Pkwy",
          "ShopRite 1732 State Route 35",
          "Whole Foods Market 2245 Springfield Ave",
          "Whole Foods Market 90 E Putnam Ave",
          "ShopRite 775 Main St S",
          "ShopRite 875 Bridgeport Ave",
          "Whole Foods Market 120 Veterans Memorial Hwy",
          "Whole Foods Market 1095 6th Ave",
          "7-Eleven 16020 E Main St",
          "ShopRite 2909 Washington Rd",
          "Whole Foods Market 111 Siena Dr",
          "Stop & Shop 5 Town Center Dr",
          "Stop & Shop 1600 Perrineville Rd",
          "Foodtown 1420 Fulton St",
          "7-Eleven 187 N San Antonio Ave",
          "ShopRite 877 Saint George Ave",
          "ShopRite 1151 Shrewsbury Ave",
          "Whole Foods Market 711 S Central Ave",
          "ShopRite 280 Us Highway 9",
          "Whole Foods Market 4530 40th St NW",
          "Whole Foods Market 316 Kentlands Blvd",
          "Whole Foods Market 1686 Boston Post Rd",
          "ShopRite 625 Hamburg Tpke",
          "ShopRite 246 Livingston St",
          "ShopRite 540 New York Ave",
          "Brooklyn Harvest Market 781 Metropolitan Ave",
          "Whole Foods Market 319 Chimney Rock Rd",
          "ShopRite 23 Bethel Rd",
          "ShopRite 400 Luis Marin Blvd",
          "Whole Foods Market 633 Broad St",
          "Stop & Shop 1189 Broad St",
          "Whole Foods Market 10 Columbus Cir Ste 101",
          "Whole Foods Market 821 W Lancaster Ave",
          "ShopRite 2433 Highway 34",
          "Whole Foods Market 150 Ledge Rd",
          "Whole Foods Market 450 W 33rd St",
          "ShopRite 13 City Pl",
          "ShopRite Route 206 Maple Ave",
          "Whole Foods Market 1 Ridge Hill Rd",
          "ShopRite 430 Greenwood Ave",
          "Whole Foods Market 5214 Sunrise Hwy",
          "Whole Foods Market 4420 Willard Ave",
          "ShopRite 4594 Us Highway 9 S",
          "Stop & Shop 195 N Bedford Rd",
          "Whole Foods Market 750 N Krocks Rd",
          "Foodtown 632 Vanderbilt Ave",
          "Whole Foods Market 520 12th St S Ste 100",
          "Whole Foods Market 19800 Belmont Chase Dr Ste 160",
          "Whole Foods Market 1330 Smith Ave",
          "Whole Foods Market 110 Washington St",
          "Whole Foods Market 1635 Boro Pl",
          "ShopRite 583 589 Avenue C",
          "Stop & Shop 1220 Hamburg Tpke",
          "Whole Foods Market 120 New Moriches Rd",
          "Whole Foods Market 95 E Houston St",
          "ShopRite 153 State Route 94 S",
          "Stop & Shop 25 Kinnelon Rd",
          "Whole Foods Market 3737 West Chester Pike",
          "Whole Foods Market 560 Valley Rd",
          "Foodtown 1291 Broadway",
          "Brooklyn Harvest Market 25 N 5th St",
          "Whole Foods Market 235 Prospect Ave",
          "Whole Foods Market 833 Wayne Ave",
          "Whole Foods Market 867 E Gate Blvd",
          "ShopRite 668 Route 70",
          "Whole Foods Market 575 Boston Post Rd",
          "Stop & Shop 111 Vredenburgh Ave",
          "Whole Foods Market 645 Middlesex Ave",
          "Whole Foods Market 270 Greenwich St",
          "ShopRite 23 Marshall Hill Rd",
          "Whole Foods Market 113 Us Highway 9 S",
          "Village Fairway 2131 Broadway",
          "Stop & Shop 940 Easton Ave",
          "Whole Foods Market 1700 Duke St",
          "Foodtown 300 W 145th St",
          "Stop & Shop 85 E Park Ave",
          "Stop & Shop 500 Rte 23 N & Jackson Ave",
          "Stop & Shop 337 Franklin Ave",
          "Whole Foods Market 11173 W Broad St",
          "Whole Foods Market 475 Wilmington Pike",
          "Whole Foods Market 1400 Waterfront Terrace",
          "Foodtown 409 5th Ave",
          "ShopRite Rt 17 & Franklin Turnpike",
          "Whole Foods Market 3139 Sheridan Dr",
          "ShopRite 2 Club House Dr",
          "Whole Foods Market 292 Ashland Pl",
          "Whole Foods Market 480 N Bedford Rd",
          "Whole Foods Market 10576 Perry Hwy",
          "Whole Foods Market 1111 N Bethlehem Pike",
          "Whole Foods Market 300 Bergen Town Ctr",
          "Whole Foods Market 5880 Centre Ave",
          "Stop & Shop 460 Franklin Ave",
          "Stop & Shop 600 Kinderkamack Rd",
          "7-Eleven 5000 Wilshire Blvd",
          "Whole Foods Market 1575 The Fairway",
          "Stop & Shop 653 Hillside Ave",
          "ShopRite 360 Connecticut Ave",
          "ShopRite 900 Madison St",
          "King Kullen 231 W Merrick Rd",
          "Whole Foods Market 600 H St NE",
          "ShopRite 1225 Rte 33",
          "Stop & Shop 625 Atlantic Ave",
          "Whole Foods Market 500 W Germantown Pike",
          "Whole Foods Market 1933 State Route 35",
          "Whole Foods Market 2700 Wilson Blvd",
          "Stop & Shop 55 Brick Blvd",
          "ShopRite 319 Us Highway 130",
          "Stop & Shop 133 Main St",
          "7-Eleven 5326 York Blvd",
          "Whole Foods Market 250 7th Ave",
          "Foodtown 159 N 3rd St",
          "King Kullen 2044 Montauk Hwy",
          "Whole Foods Market 701 Bloomfield Ave",
          "Stop & Shop 3106 Farrington St",
          "Village Fairway 766 6th Ave",
          "ShopRite 110 Albany Tpke Ste 200",
          "Whole Foods Market 4 Union Sq S",
          "Whole Foods Market 350 Grasmere Ave",
          "Stop & Shop 50 Cherry Valley Ave",
          "Whole Foods Market 429 N Broadway",
          "Whole Foods Market 12090 Jefferson Ave Ste 100",
          "Whole Foods Market 1440 P St NW",
          "ShopRite 1975 Black Rock Tpke",
          "King Kullen 1340 Wantagh Ave",
          "Foodtown 9105 3rd Ave",
          "Whole Foods Market 4501 Market Commons Dr",
          "ShopRite 250 River Rd",
          "Stop & Shop 2425 Palmer Ave",
          "Whole Foods Market 967 Florida Ave NW",
          "Whole Foods Market 15 E Wynnewood Rd",
          "ShopRite 3166 Us Highway 22",
          "Whole Foods Market 1797 Hydraulic Rd",
          "7-Eleven 1594 W 7th St",
          "Whole Foods Market 226 E 57th St",
          "ShopRite 3373 Brunswick Pike",
          "Foodtown 600 W 160th St",
          "Whole Foods Market 143 Maple Ave E",
          "ShopRite 143 Federal Rd",
          "Stop & Shop 160 Kingsland Rd",
          "Whole Foods Market 2201 I St NW",
          "Whole Foods Market 905 River Rd",
          "Whole Foods Market 5269 River Rd",
          "Whole Foods Market 6621 Baltimore Ave Ste B",
          "Whole Foods Market 45 Vervalen St",
          "Whole Foods Market 200 Harker Pl Ste 100",
          "Whole Foods Market 1425 Central Ave",
          "Whole Foods Market 110 Bloomingdale Rd",
          "Whole Foods Market 2024 W Broad St",
          "ShopRite 200 Shippan Ave"
         ],
         "type": "scattergeo"
        }
       ],
       "layout": {
        "geo": {
         "projection": {
          "type": "albers usa"
         },
         "scope": "usa"
        },
        "images": [
         {
          "sizex": 0.6,
          "sizey": 1.6,
          "source": "data:image/png;base64,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",
          "x": 0.65,
          "xanchor": "center",
          "xref": "paper",
          "y": -0.55,
          "yanchor": "bottom",
          "yref": "paper"
         }
        ],
        "plot_bgcolor": "rgba(0,0,0,0)",
        "sliders": [
         {
          "active": 0,
          "pad": {
           "t": 1
          },
          "steps": [
           {
            "args": [
             "visible",
             [
              true,
              false,
              false,
              false,
              false,
              false,
              false,
              false,
              false,
              false,
              false,
              false
             ]
            ],
            "label": "Period: 2021-03",
            "method": "restyle"
           },
           {
            "args": [
             "visible",
             [
              false,
              true,
              false,
              false,
              false,
              false,
              false,
              false,
              false,
              false,
              false,
              false
             ]
            ],
            "label": "Period: 2021-04",
            "method": "restyle"
           },
           {
            "args": [
             "visible",
             [
              false,
              false,
              true,
              false,
              false,
              false,
              false,
              false,
              false,
              false,
              false,
              false
             ]
            ],
            "label": "Period: 2021-05",
            "method": "restyle"
           },
           {
            "args": [
             "visible",
             [
              false,
              false,
              false,
              true,
              false,
              false,
              false,
              false,
              false,
              false,
              false,
              false
             ]
            ],
            "label": "Period: 2021-06",
            "method": "restyle"
           },
           {
            "args": [
             "visible",
             [
              false,
              false,
              false,
              false,
              true,
              false,
              false,
              false,
              false,
              false,
              false,
              false
             ]
            ],
            "label": "Period: 2021-07",
            "method": "restyle"
           },
           {
            "args": [
             "visible",
             [
              false,
              false,
              false,
              false,
              false,
              true,
              false,
              false,
              false,
              false,
              false,
              false
             ]
            ],
            "label": "Period: 2021-08",
            "method": "restyle"
           },
           {
            "args": [
             "visible",
             [
              false,
              false,
              false,
              false,
              false,
              false,
              true,
              false,
              false,
              false,
              false,
              false
             ]
            ],
            "label": "Period: 2021-09",
            "method": "restyle"
           },
           {
            "args": [
             "visible",
             [
              false,
              false,
              false,
              false,
              false,
              false,
              false,
              true,
              false,
              false,
              false,
              false
             ]
            ],
            "label": "Period: 2021-10",
            "method": "restyle"
           },
           {
            "args": [
             "visible",
             [
              false,
              false,
              false,
              false,
              false,
              false,
              false,
              false,
              true,
              false,
              false,
              false
             ]
            ],
            "label": "Period: 2021-11",
            "method": "restyle"
           },
           {
            "args": [
             "visible",
             [
              false,
              false,
              false,
              false,
              false,
              false,
              false,
              false,
              false,
              true,
              false,
              false
             ]
            ],
            "label": "Period: 2021-12",
            "method": "restyle"
           },
           {
            "args": [
             "visible",
             [
              false,
              false,
              false,
              false,
              false,
              false,
              false,
              false,
              false,
              false,
              true,
              false
             ]
            ],
            "label": "Period: 2022-01",
            "method": "restyle"
           },
           {
            "args": [
             "visible",
             [
              false,
              false,
              false,
              false,
              false,
              false,
              false,
              false,
              false,
              false,
              false,
              true
             ]
            ],
            "label": "Period: 2022-02",
            "method": "restyle"
           }
          ]
         }
        ],
        "template": {
         "data": {
          "bar": [
           {
            "error_x": {
             "color": "#2a3f5f"
            },
            "error_y": {
             "color": "#2a3f5f"
            },
            "marker": {
             "line": {
              "color": "#E5ECF6",
              "width": 0.5
             },
             "pattern": {
              "fillmode": "overlay",
              "size": 10,
              "solidity": 0.2
             }
            },
            "type": "bar"
           }
          ],
          "barpolar": [
           {
            "marker": {
             "line": {
              "color": "#E5ECF6",
              "width": 0.5
             },
             "pattern": {
              "fillmode": "overlay",
              "size": 10,
              "solidity": 0.2
             }
            },
            "type": "barpolar"
           }
          ],
          "carpet": [
           {
            "aaxis": {
             "endlinecolor": "#2a3f5f",
             "gridcolor": "white",
             "linecolor": "white",
             "minorgridcolor": "white",
             "startlinecolor": "#2a3f5f"
            },
            "baxis": {
             "endlinecolor": "#2a3f5f",
             "gridcolor": "white",
             "linecolor": "white",
             "minorgridcolor": "white",
             "startlinecolor": "#2a3f5f"
            },
            "type": "carpet"
           }
          ],
          "choropleth": [
           {
            "colorbar": {
             "outlinewidth": 0,
             "ticks": ""
            },
            "type": "choropleth"
           }
          ],
          "contour": [
           {
            "colorbar": {
             "outlinewidth": 0,
             "ticks": ""
            },
            "colorscale": [
             [
              0,
              "#0d0887"
             ],
             [
              0.1111111111111111,
              "#46039f"
             ],
             [
              0.2222222222222222,
              "#7201a8"
             ],
             [
              0.3333333333333333,
              "#9c179e"
             ],
             [
              0.4444444444444444,
              "#bd3786"
             ],
             [
              0.5555555555555556,
              "#d8576b"
             ],
             [
              0.6666666666666666,
              "#ed7953"
             ],
             [
              0.7777777777777778,
              "#fb9f3a"
             ],
             [
              0.8888888888888888,
              "#fdca26"
             ],
             [
              1,
              "#f0f921"
             ]
            ],
            "type": "contour"
           }
          ],
          "contourcarpet": [
           {
            "colorbar": {
             "outlinewidth": 0,
             "ticks": ""
            },
            "type": "contourcarpet"
           }
          ],
          "heatmap": [
           {
            "colorbar": {
             "outlinewidth": 0,
             "ticks": ""
            },
            "colorscale": [
             [
              0,
              "#0d0887"
             ],
             [
              0.1111111111111111,
              "#46039f"
             ],
             [
              0.2222222222222222,
              "#7201a8"
             ],
             [
              0.3333333333333333,
              "#9c179e"
             ],
             [
              0.4444444444444444,
              "#bd3786"
             ],
             [
              0.5555555555555556,
              "#d8576b"
             ],
             [
              0.6666666666666666,
              "#ed7953"
             ],
             [
              0.7777777777777778,
              "#fb9f3a"
             ],
             [
              0.8888888888888888,
              "#fdca26"
             ],
             [
              1,
              "#f0f921"
             ]
            ],
            "type": "heatmap"
           }
          ],
          "heatmapgl": [
           {
            "colorbar": {
             "outlinewidth": 0,
             "ticks": ""
            },
            "colorscale": [
             [
              0,
              "#0d0887"
             ],
             [
              0.1111111111111111,
              "#46039f"
             ],
             [
              0.2222222222222222,
              "#7201a8"
             ],
             [
              0.3333333333333333,
              "#9c179e"
             ],
             [
              0.4444444444444444,
              "#bd3786"
             ],
             [
              0.5555555555555556,
              "#d8576b"
             ],
             [
              0.6666666666666666,
              "#ed7953"
             ],
             [
              0.7777777777777778,
              "#fb9f3a"
             ],
             [
              0.8888888888888888,
              "#fdca26"
             ],
             [
              1,
              "#f0f921"
             ]
            ],
            "type": "heatmapgl"
           }
          ],
          "histogram": [
           {
            "marker": {
             "pattern": {
              "fillmode": "overlay",
              "size": 10,
              "solidity": 0.2
             }
            },
            "type": "histogram"
           }
          ],
          "histogram2d": [
           {
            "colorbar": {
             "outlinewidth": 0,
             "ticks": ""
            },
            "colorscale": [
             [
              0,
              "#0d0887"
             ],
             [
              0.1111111111111111,
              "#46039f"
             ],
             [
              0.2222222222222222,
              "#7201a8"
             ],
             [
              0.3333333333333333,
              "#9c179e"
             ],
             [
              0.4444444444444444,
              "#bd3786"
             ],
             [
              0.5555555555555556,
              "#d8576b"
             ],
             [
              0.6666666666666666,
              "#ed7953"
             ],
             [
              0.7777777777777778,
              "#fb9f3a"
             ],
             [
              0.8888888888888888,
              "#fdca26"
             ],
             [
              1,
              "#f0f921"
             ]
            ],
            "type": "histogram2d"
           }
          ],
          "histogram2dcontour": [
           {
            "colorbar": {
             "outlinewidth": 0,
             "ticks": ""
            },
            "colorscale": [
             [
              0,
              "#0d0887"
             ],
             [
              0.1111111111111111,
              "#46039f"
             ],
             [
              0.2222222222222222,
              "#7201a8"
             ],
             [
              0.3333333333333333,
              "#9c179e"
             ],
             [
              0.4444444444444444,
              "#bd3786"
             ],
             [
              0.5555555555555556,
              "#d8576b"
             ],
             [
              0.6666666666666666,
              "#ed7953"
             ],
             [
              0.7777777777777778,
              "#fb9f3a"
             ],
             [
              0.8888888888888888,
              "#fdca26"
             ],
             [
              1,
              "#f0f921"
             ]
            ],
            "type": "histogram2dcontour"
           }
          ],
          "mesh3d": [
           {
            "colorbar": {
             "outlinewidth": 0,
             "ticks": ""
            },
            "type": "mesh3d"
           }
          ],
          "parcoords": [
           {
            "line": {
             "colorbar": {
              "outlinewidth": 0,
              "ticks": ""
             }
            },
            "type": "parcoords"
           }
          ],
          "pie": [
           {
            "automargin": true,
            "type": "pie"
           }
          ],
          "scatter": [
           {
            "marker": {
             "colorbar": {
              "outlinewidth": 0,
              "ticks": ""
             }
            },
            "type": "scatter"
           }
          ],
          "scatter3d": [
           {
            "line": {
             "colorbar": {
              "outlinewidth": 0,
              "ticks": ""
             }
            },
            "marker": {
             "colorbar": {
              "outlinewidth": 0,
              "ticks": ""
             }
            },
            "type": "scatter3d"
           }
          ],
          "scattercarpet": [
           {
            "marker": {
             "colorbar": {
              "outlinewidth": 0,
              "ticks": ""
             }
            },
            "type": "scattercarpet"
           }
          ],
          "scattergeo": [
           {
            "marker": {
             "colorbar": {
              "outlinewidth": 0,
              "ticks": ""
             }
            },
            "type": "scattergeo"
           }
          ],
          "scattergl": [
           {
            "marker": {
             "colorbar": {
              "outlinewidth": 0,
              "ticks": ""
             }
            },
            "type": "scattergl"
           }
          ],
          "scattermapbox": [
           {
            "marker": {
             "colorbar": {
              "outlinewidth": 0,
              "ticks": ""
             }
            },
            "type": "scattermapbox"
           }
          ],
          "scatterpolar": [
           {
            "marker": {
             "colorbar": {
              "outlinewidth": 0,
              "ticks": ""
             }
            },
            "type": "scatterpolar"
           }
          ],
          "scatterpolargl": [
           {
            "marker": {
             "colorbar": {
              "outlinewidth": 0,
              "ticks": ""
             }
            },
            "type": "scatterpolargl"
           }
          ],
          "scatterternary": [
           {
            "marker": {
             "colorbar": {
              "outlinewidth": 0,
              "ticks": ""
             }
            },
            "type": "scatterternary"
           }
          ],
          "surface": [
           {
            "colorbar": {
             "outlinewidth": 0,
             "ticks": ""
            },
            "colorscale": [
             [
              0,
              "#0d0887"
             ],
             [
              0.1111111111111111,
              "#46039f"
             ],
             [
              0.2222222222222222,
              "#7201a8"
             ],
             [
              0.3333333333333333,
              "#9c179e"
             ],
             [
              0.4444444444444444,
              "#bd3786"
             ],
             [
              0.5555555555555556,
              "#d8576b"
             ],
             [
              0.6666666666666666,
              "#ed7953"
             ],
             [
              0.7777777777777778,
              "#fb9f3a"
             ],
             [
              0.8888888888888888,
              "#fdca26"
             ],
             [
              1,
              "#f0f921"
             ]
            ],
            "type": "surface"
           }
          ],
          "table": [
           {
            "cells": {
             "fill": {
              "color": "#EBF0F8"
             },
             "line": {
              "color": "white"
             }
            },
            "header": {
             "fill": {
              "color": "#C8D4E3"
             },
             "line": {
              "color": "white"
             }
            },
            "type": "table"
           }
          ]
         },
         "layout": {
          "annotationdefaults": {
           "arrowcolor": "#2a3f5f",
           "arrowhead": 0,
           "arrowwidth": 1
          },
          "autotypenumbers": "strict",
          "coloraxis": {
           "colorbar": {
            "outlinewidth": 0,
            "ticks": ""
           }
          },
          "colorscale": {
           "diverging": [
            [
             0,
             "#8e0152"
            ],
            [
             0.1,
             "#c51b7d"
            ],
            [
             0.2,
             "#de77ae"
            ],
            [
             0.3,
             "#f1b6da"
            ],
            [
             0.4,
             "#fde0ef"
            ],
            [
             0.5,
             "#f7f7f7"
            ],
            [
             0.6,
             "#e6f5d0"
            ],
            [
             0.7,
             "#b8e186"
            ],
            [
             0.8,
             "#7fbc41"
            ],
            [
             0.9,
             "#4d9221"
            ],
            [
             1,
             "#276419"
            ]
           ],
           "sequential": [
            [
             0,
             "#0d0887"
            ],
            [
             0.1111111111111111,
             "#46039f"
            ],
            [
             0.2222222222222222,
             "#7201a8"
            ],
            [
             0.3333333333333333,
             "#9c179e"
            ],
            [
             0.4444444444444444,
             "#bd3786"
            ],
            [
             0.5555555555555556,
             "#d8576b"
            ],
            [
             0.6666666666666666,
             "#ed7953"
            ],
            [
             0.7777777777777778,
             "#fb9f3a"
            ],
            [
             0.8888888888888888,
             "#fdca26"
            ],
            [
             1,
             "#f0f921"
            ]
           ],
           "sequentialminus": [
            [
             0,
             "#0d0887"
            ],
            [
             0.1111111111111111,
             "#46039f"
            ],
            [
             0.2222222222222222,
             "#7201a8"
            ],
            [
             0.3333333333333333,
             "#9c179e"
            ],
            [
             0.4444444444444444,
             "#bd3786"
            ],
            [
             0.5555555555555556,
             "#d8576b"
            ],
            [
             0.6666666666666666,
             "#ed7953"
            ],
            [
             0.7777777777777778,
             "#fb9f3a"
            ],
            [
             0.8888888888888888,
             "#fdca26"
            ],
            [
             1,
             "#f0f921"
            ]
           ]
          },
          "colorway": [
           "#636efa",
           "#EF553B",
           "#00cc96",
           "#ab63fa",
           "#FFA15A",
           "#19d3f3",
           "#FF6692",
           "#B6E880",
           "#FF97FF",
           "#FECB52"
          ],
          "font": {
           "color": "#2a3f5f"
          },
          "geo": {
           "bgcolor": "white",
           "lakecolor": "white",
           "landcolor": "#E5ECF6",
           "showlakes": true,
           "showland": true,
           "subunitcolor": "white"
          },
          "hoverlabel": {
           "align": "left"
          },
          "hovermode": "closest",
          "mapbox": {
           "style": "light"
          },
          "paper_bgcolor": "white",
          "plot_bgcolor": "#E5ECF6",
          "polar": {
           "angularaxis": {
            "gridcolor": "white",
            "linecolor": "white",
            "ticks": ""
           },
           "bgcolor": "#E5ECF6",
           "radialaxis": {
            "gridcolor": "white",
            "linecolor": "white",
            "ticks": ""
           }
          },
          "scene": {
           "xaxis": {
            "backgroundcolor": "#E5ECF6",
            "gridcolor": "white",
            "gridwidth": 2,
            "linecolor": "white",
            "showbackground": true,
            "ticks": "",
            "zerolinecolor": "white"
           },
           "yaxis": {
            "backgroundcolor": "#E5ECF6",
            "gridcolor": "white",
            "gridwidth": 2,
            "linecolor": "white",
            "showbackground": true,
            "ticks": "",
            "zerolinecolor": "white"
           },
           "zaxis": {
            "backgroundcolor": "#E5ECF6",
            "gridcolor": "white",
            "gridwidth": 2,
            "linecolor": "white",
            "showbackground": true,
            "ticks": "",
            "zerolinecolor": "white"
           }
          },
          "shapedefaults": {
           "line": {
            "color": "#2a3f5f"
           }
          },
          "ternary": {
           "aaxis": {
            "gridcolor": "white",
            "linecolor": "white",
            "ticks": ""
           },
           "baxis": {
            "gridcolor": "white",
            "linecolor": "white",
            "ticks": ""
           },
           "bgcolor": "#E5ECF6",
           "caxis": {
            "gridcolor": "white",
            "linecolor": "white",
            "ticks": ""
           }
          },
          "title": {
           "x": 0.05
          },
          "xaxis": {
           "automargin": true,
           "gridcolor": "white",
           "linecolor": "white",
           "ticks": "",
           "title": {
            "standoff": 15
           },
           "zerolinecolor": "white",
           "zerolinewidth": 2
          },
          "yaxis": {
           "automargin": true,
           "gridcolor": "white",
           "linecolor": "white",
           "ticks": "",
           "title": {
            "standoff": 15
           },
           "zerolinecolor": "white",
           "zerolinewidth": 2
          }
         }
        },
        "title": {
         "text": "Sanzo Distribution Map"
        }
       }
      }
     },
     "metadata": {},
     "output_type": "display_data"
    }
   ],
   "source": [
    "import random\n",
    "random.seed(10)\n",
    "\n",
    "def gen_colors (x):\n",
    "    buffer =[]\n",
    "    for i in range(x):\n",
    "        buffer.append( \"%06x\" % random.randint(0, 0xFFFFFF))\n",
    "    return buffer\n",
    "\n",
    "retailers = df['retailer_name'].unique().tolist()\n",
    "retailer_colors = gen_colors(len(retailers))\n",
    "\n",
    "retailer_color_di = dict(zip(retailers,retailer_colors))\n",
    "\n",
    "color_di_df = pd.DataFrame.from_dict(retailer_color_di.items())\n",
    "color_di_df[1] = '#' +color_di_df[1]\n",
    "color_di_df['x'] = None\n",
    "\n",
    "df['color'] = '#' + df['retailer_name'].map(retailer_color_di)\n",
    "\n",
    "data_slider = []\n",
    "\n",
    "for date in df['fct_date'].unique():\n",
    "    df_segmented =  df[(df['fct_date']== date)]\n",
    "\n",
    "    for col in df_segmented.columns:\n",
    "        df_segmented[col] = df_segmented[col].astype(str)\n",
    "    data_each_yr = dict(\n",
    "                        type='scattergeo',\n",
    "                        lat = df_segmented['lat'],\n",
    "                        lon = df_segmented['long'],\n",
    "                        text = df_segmented['id'],\n",
    "                        marker = dict(\n",
    "                            autocolorscale = True,\n",
    "                            color = df_segmented['color']\n",
    "                        ),\n",
    "                        showlegend = False,\n",
    "                        mode = 'markers',\n",
    "                            \n",
    "\n",
    "        )\n",
    "    data_slider.append(data_each_yr)\n",
    "    \n",
    "    \n",
    "\n",
    "\n",
    "steps = []\n",
    "for i in range(len(data_slider)):\n",
    "    step = dict(method='restyle',\n",
    "                args=['visible', [False] * len(data_slider)],\n",
    "                label=\"Period: {}\".format(df['fct_date'].unique()[i])\n",
    "    )\n",
    "    step['args'][1][i] = True\n",
    "    steps.append(step)\n",
    "\n",
    "sliders = [dict(active=0, pad={\"t\": 1}, steps=steps)]\n",
    "\n",
    "layout = dict(title ='Sanzo Distribution Map',\n",
    "            sliders=sliders,\n",
    "            geo = dict(\n",
    "                scope='usa',\n",
    "                projection=dict( type='albers usa' )\n",
    "                ),\n",
    "            #paper_bgcolor='rgba(0,0,0,0)',\n",
    "            plot_bgcolor='rgba(0,0,0,0)'\n",
    "            \n",
    ")\n",
    "\n",
    "\n",
    "legend = px.scatter(x=color_di_df[0],y=color_di_df['x'],color= color_di_df[0], color_discrete_sequence=color_di_df[1])\n",
    "\n",
    "legend.update_xaxes(visible=False)\n",
    "legend.update_yaxes(visible=False)\n",
    "legend.update_layout({\n",
    "    'plot_bgcolor': 'rgba(0, 0, 0, 0)',\n",
    "    'paper_bgcolor': 'rgba(0, 0, 0, 0)',\n",
    "})\n",
    "\n",
    "legend.write_image(\"bg.png\")\n",
    "\n",
    "fig = go.Figure(data=data_slider)\n",
    "fig.layout = layout\n",
    "\n",
    "import base64\n",
    "\n",
    "def _get_image(path):\n",
    "    with open(path, 'rb') as image_file:\n",
    "        encoded_string = base64.b64encode(image_file.read()).decode()\n",
    "    encoded_img = f'data:image/png;base64,{encoded_string}'\n",
    "    return encoded_img\n",
    "\n",
    "\n",
    "\n",
    "pic=_get_image('bg.png')\n",
    "\n",
    "fig.add_layout_image(\n",
    "        dict(\n",
    "            source=pic,\n",
    "            xref='paper', yref='paper',\n",
    "            x=0.65, y=-0.55,\n",
    "            sizex=0.6, sizey=1.6,\n",
    "            xanchor='center', yanchor='bottom'\n",
    "        )\n",
    "    )\n",
    "\n",
    "fig.show()\n",
    "#fig = dict(data=data_slider, layout=layout)\n",
    "\n",
    "#plotly.offline.iplot(fig)\n"
   ]
  },
  {
   "cell_type": "code",
   "execution_count": null,
   "metadata": {},
   "outputs": [],
   "source": []
  },
  {
   "cell_type": "code",
   "execution_count": null,
   "metadata": {},
   "outputs": [],
   "source": []
  }
 ],
 "metadata": {
  "interpreter": {
   "hash": "397704579725e15f5c7cb49fe5f0341eb7531c82d19f2c29d197e8b64ab5776b"
  },
  "kernelspec": {
   "display_name": "Python 3.9.8 64-bit",
   "language": "python",
   "name": "python3"
  },
  "language_info": {
   "codemirror_mode": {
    "name": "ipython",
    "version": 3
   },
   "file_extension": ".py",
   "mimetype": "text/x-python",
   "name": "python",
   "nbconvert_exporter": "python",
   "pygments_lexer": "ipython3",
   "version": "3.9.7"
  },
  "orig_nbformat": 4
 },
 "nbformat": 4,
 "nbformat_minor": 2
}
