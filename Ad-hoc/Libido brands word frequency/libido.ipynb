{
 "cells": [
  {
   "cell_type": "code",
   "execution_count": 1,
   "metadata": {},
   "outputs": [],
   "source": [
    "import pandas as pd"
   ]
  },
  {
   "cell_type": "code",
   "execution_count": 4,
   "metadata": {},
   "outputs": [],
   "source": [
    "df = pd.read_csv(\"libido reviews 2022-02-22.csv\")"
   ]
  },
  {
   "cell_type": "code",
   "execution_count": 7,
   "metadata": {},
   "outputs": [],
   "source": [
    "fivestar = df[df[\"review_rating\"]==5]"
   ]
  },
  {
   "cell_type": "code",
   "execution_count": 18,
   "metadata": {},
   "outputs": [
    {
     "data": {
      "text/plain": [
       "normalized_url\n",
       "moonjuice.com      6\n",
       "olly.com           2\n",
       "raewellness.co    12\n",
       "Name: review_content, dtype: int64"
      ]
     },
     "execution_count": 18,
     "metadata": {},
     "output_type": "execute_result"
    }
   ],
   "source": [
    "\n",
    "fivestar[fivestar[\"review_content\"].str.contains(\"ingredient\")].groupby(\"normalized_url\")[\"review_content\"].count() "
   ]
  },
  {
   "cell_type": "code",
   "execution_count": 42,
   "metadata": {},
   "outputs": [
    {
     "data": {
      "text/plain": [
       "normalized_url\n",
       "fleurmarche.com     1\n",
       "moonjuice.com      20\n",
       "olly.com            8\n",
       "raewellness.co     76\n",
       "Name: review_content, dtype: int64"
      ]
     },
     "execution_count": 42,
     "metadata": {},
     "output_type": "execute_result"
    }
   ],
   "source": [
    "fivestar[fivestar[\"review_content\"].str.contains(\"better|Better|better.sex|Better.sex\")].groupby(\"normalized_url\")[\"review_content\"].count() "
   ]
  },
  {
   "cell_type": "code",
   "execution_count": 48,
   "metadata": {},
   "outputs": [
    {
     "data": {
      "text/plain": [
       "normalized_url\n",
       "fleurmarche.com      1\n",
       "moonjuice.com       95\n",
       "olly.com             6\n",
       "raewellness.co     135\n",
       "Name: review_content, dtype: int64"
      ]
     },
     "execution_count": 48,
     "metadata": {},
     "output_type": "execute_result"
    }
   ],
   "source": [
    "fivestar[fivestar[\"review_content\"].str.contains(\"energy\")].groupby(\"normalized_url\")[\"review_content\"].count() "
   ]
  },
  {
   "cell_type": "code",
   "execution_count": 45,
   "metadata": {},
   "outputs": [
    {
     "data": {
      "text/plain": [
       "normalized_url\n",
       "fleurmarche.com     2\n",
       "moonjuice.com      16\n",
       "olly.com           12\n",
       "raewellness.co     47\n",
       "Name: review_content, dtype: int64"
      ]
     },
     "execution_count": 45,
     "metadata": {},
     "output_type": "execute_result"
    }
   ],
   "source": [
    "fivestar[fivestar[\"review_content\"].str.contains(\"stress|stress relief|relieve stress|relieves stress|relieve|relief\")].groupby(\"normalized_url\")[\"review_content\"].count() "
   ]
  },
  {
   "cell_type": "code",
   "execution_count": 39,
   "metadata": {},
   "outputs": [
    {
     "data": {
      "text/plain": [
       "normalized_url\n",
       "fleurmarche.com      1\n",
       "moonjuice.com       45\n",
       "olly.com            27\n",
       "raewellness.co     271\n",
       "Name: review_content, dtype: int64"
      ]
     },
     "execution_count": 39,
     "metadata": {},
     "output_type": "execute_result"
    }
   ],
   "source": [
    "fivestar[fivestar[\"review_content\"].str.contains(\"better mood\")].groupby(\"normalized_url\")[\"review_content\"].count() "
   ]
  },
  {
   "cell_type": "code",
   "execution_count": null,
   "metadata": {},
   "outputs": [],
   "source": []
  },
  {
   "cell_type": "code",
   "execution_count": null,
   "metadata": {},
   "outputs": [],
   "source": []
  }
 ],
 "metadata": {
  "interpreter": {
   "hash": "4a1381666661536bc8ee512cebf4a9a721a479087d41f7d3f82dc887de95c133"
  },
  "kernelspec": {
   "display_name": "Python 3.9.7 ('base')",
   "language": "python",
   "name": "python3"
  },
  "language_info": {
   "codemirror_mode": {
    "name": "ipython",
    "version": 3
   },
   "file_extension": ".py",
   "mimetype": "text/x-python",
   "name": "python",
   "nbconvert_exporter": "python",
   "pygments_lexer": "ipython3",
   "version": "3.9.7"
  },
  "orig_nbformat": 4
 },
 "nbformat": 4,
 "nbformat_minor": 2
}
