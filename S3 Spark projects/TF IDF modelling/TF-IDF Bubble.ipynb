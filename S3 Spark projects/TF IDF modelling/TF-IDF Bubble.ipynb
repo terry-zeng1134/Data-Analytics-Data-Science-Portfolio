{
 "cells": [
  {
   "cell_type": "markdown",
   "metadata": {
    "toc": "true"
   },
   "source": [
    "# Table of Contents\n",
    " <p><div class=\"lev1 toc-item\"><a href=\"#Assumes-Spark-2.4\" data-toc-modified-id=\"Assumes-Spark-2.4-1\"><span class=\"toc-item-num\">1&nbsp;&nbsp;</span>Assumes Spark 2.4</a></div><div class=\"lev1 toc-item\"><a href=\"#Imports\" data-toc-modified-id=\"Imports-2\"><span class=\"toc-item-num\">2&nbsp;&nbsp;</span>Imports</a></div><div class=\"lev1 toc-item\"><a href=\"#Functions\" data-toc-modified-id=\"Functions-3\"><span class=\"toc-item-num\">3&nbsp;&nbsp;</span>Functions</a></div><div class=\"lev1 toc-item\"><a href=\"#Settings\" data-toc-modified-id=\"Settings-4\"><span class=\"toc-item-num\">4&nbsp;&nbsp;</span>Settings</a></div><div class=\"lev1 toc-item\"><a href=\"#Set-Normalized-URL\" data-toc-modified-id=\"Set-Normalized-URL-5\"><span class=\"toc-item-num\">5&nbsp;&nbsp;</span>Set Normalized URL</a></div><div class=\"lev1 toc-item\"><a href=\"#Load-Data\" data-toc-modified-id=\"Load-Data-6\"><span class=\"toc-item-num\">6&nbsp;&nbsp;</span>Load Data</a></div><div class=\"lev1 toc-item\"><a href=\"#Manual-Tweaking-for-Potential-ER-Issues\" data-toc-modified-id=\"Manual-Tweaking-for-Potential-ER-Issues-7\"><span class=\"toc-item-num\">7&nbsp;&nbsp;</span>Manual Tweaking for Potential ER Issues</a></div><div class=\"lev1 toc-item\"><a href=\"#Enter-Constants\" data-toc-modified-id=\"Enter-Constants-8\"><span class=\"toc-item-num\">8&nbsp;&nbsp;</span>Enter Constants</a></div><div class=\"lev1 toc-item\"><a href=\"#Filter-for-Minimal-Rev-Count\" data-toc-modified-id=\"Filter-for-Minimal-Rev-Count-9\"><span class=\"toc-item-num\">9&nbsp;&nbsp;</span>Filter for Minimal Rev Count</a></div><div class=\"lev2 toc-item\"><a href=\"#Check-in-Reviews-with-Enough-Reviews-of-Reviews-at-All\" data-toc-modified-id=\"Check-in-Reviews-with-Enough-Reviews-of-Reviews-at-All-91\"><span class=\"toc-item-num\">9.1&nbsp;&nbsp;</span>Check in Reviews with Enough Reviews of Reviews at All</a></div><div class=\"lev2 toc-item\"><a href=\"#Optional-Filter-for-Product\" data-toc-modified-id=\"Optional-Filter-for-Product-92\"><span class=\"toc-item-num\">9.2&nbsp;&nbsp;</span>Optional Filter for Product</a></div><div class=\"lev1 toc-item\"><a href=\"#Review-Rating\" data-toc-modified-id=\"Review-Rating-10\"><span class=\"toc-item-num\">10&nbsp;&nbsp;</span>Review Rating</a></div><div class=\"lev1 toc-item\"><a href=\"#Tokenize-to-Words\" data-toc-modified-id=\"Tokenize-to-Words-11\"><span class=\"toc-item-num\">11&nbsp;&nbsp;</span>Tokenize to Words</a></div><div class=\"lev1 toc-item\"><a href=\"#TFIDF\" data-toc-modified-id=\"TFIDF-12\"><span class=\"toc-item-num\">12&nbsp;&nbsp;</span>TFIDF</a></div><div class=\"lev1 toc-item\"><a href=\"#TFIDF-sklearn-implementation\" data-toc-modified-id=\"TFIDF-sklearn-implementation-13\"><span class=\"toc-item-num\">13&nbsp;&nbsp;</span>TFIDF sklearn implementation</a></div><div class=\"lev1 toc-item\"><a href=\"#TFIDF-by-Sentiment\" data-toc-modified-id=\"TFIDF-by-Sentiment-14\"><span class=\"toc-item-num\">14&nbsp;&nbsp;</span>TFIDF by Sentiment</a></div><div class=\"lev1 toc-item\"><a href=\"#TFIDF-by-Sentiment-sklearn-implementation\" data-toc-modified-id=\"TFIDF-by-Sentiment-sklearn-implementation-15\"><span class=\"toc-item-num\">15&nbsp;&nbsp;</span>TFIDF by Sentiment sklearn implementation</a></div>"
   ]
  },
  {
   "cell_type": "markdown",
   "metadata": {},
   "source": [
    "# Assumes Spark 2.4"
   ]
  },
  {
   "cell_type": "markdown",
   "metadata": {},
   "source": [
    "Some array function only in spark >2.3. I use docker image with statsmodels and plotly and vaderSentiment based on spark 2.4.5\n",
    "\n",
    "**must include \"--docker-tag cici-nlp-sentiment\" in cluster deploy command input**"
   ]
  },
  {
   "cell_type": "code",
   "execution_count": 1,
   "metadata": {
    "ExecuteTime": {
     "end_time": "2022-03-30T19:55:25.917300Z",
     "start_time": "2022-03-30T19:55:25.896096Z"
    }
   },
   "outputs": [
    {
     "data": {
      "text/html": [
       "\n",
       "        <div>\n",
       "            <p><b>SparkContext</b></p>\n",
       "\n",
       "            <p><a href=\"http://ip-10-0-103-139.us-west-1.compute.internal:4040\">Spark UI</a></p>\n",
       "\n",
       "            <dl>\n",
       "              <dt>Version</dt>\n",
       "                <dd><code>v2.4.5</code></dd>\n",
       "              <dt>Master</dt>\n",
       "                <dd><code>spark://terry.cu:7077</code></dd>\n",
       "              <dt>AppName</dt>\n",
       "                <dd><code>PySparkShell</code></dd>\n",
       "            </dl>\n",
       "        </div>\n",
       "        "
      ],
      "text/plain": [
       "<SparkContext master=spark://terry.cu:7077 appName=PySparkShell>"
      ]
     },
     "execution_count": 1,
     "metadata": {},
     "output_type": "execute_result"
    }
   ],
   "source": [
    "sc"
   ]
  },
  {
   "cell_type": "markdown",
   "metadata": {},
   "source": [
    "# Imports"
   ]
  },
  {
   "cell_type": "code",
   "execution_count": 2,
   "metadata": {
    "ExecuteTime": {
     "end_time": "2022-03-30T19:55:54.462164Z",
     "start_time": "2022-03-30T19:55:26.517305Z"
    }
   },
   "outputs": [],
   "source": [
    "%%capture\n",
    "!pip install watermark\n",
    "!pip3 install --upgrade --no-cache-dir --extra-index-url http://pypi.cu/root/circleup/+simple/ --trusted-host pypi.cu cu-helio-insights==0.0.12"
   ]
  },
  {
   "cell_type": "code",
   "execution_count": 3,
   "metadata": {
    "ExecuteTime": {
     "end_time": "2022-03-30T19:55:55.615918Z",
     "start_time": "2022-03-30T19:55:54.464556Z"
    }
   },
   "outputs": [],
   "source": [
    "import numpy as np\n",
    "import pandas as pd\n",
    "from pyspark.sql.window import Window\n",
    "from pyspark.sql.functions import regexp_replace\n",
    "from pyspark.ml.feature import CountVectorizer, IDF, HashingTF\n",
    "from pyspark.ml.pipeline import Pipeline\n",
    "from nltk.corpus import stopwords\n",
    "from nltk.tokenize import word_tokenize\n",
    "from nltk.util import bigrams\n",
    "from nltk.stem import WordNetLemmatizer\n",
    "from nltk import sent_tokenize\n",
    "import string\n",
    "import plotly\n",
    "import plotly.graph_objs as go\n",
    "from plotly.offline import download_plotlyjs, init_notebook_mode, plot, iplot\n",
    "import plotly.express as px\n",
    "from plotly.subplots import make_subplots\n",
    "from scipy import stats\n",
    "from sklearn import linear_model"
   ]
  },
  {
   "cell_type": "code",
   "execution_count": 4,
   "metadata": {
    "ExecuteTime": {
     "end_time": "2022-03-30T19:55:58.956855Z",
     "start_time": "2022-03-30T19:55:55.618112Z"
    }
   },
   "outputs": [],
   "source": [
    "import insights\n",
    "from insights.investor_tools.widgets.style import (\n",
    "    Font,\n",
    "    CU_PLOTLY_COLOR_SEQUENCE,\n",
    "    CU_PLOTLY_COLORSCALE,\n",
    "    Color\n",
    ")\n",
    "from spark_tools import T, F, c, read_google_sheet\n",
    "import apollo\n",
    "from apollo import OverrideConfiguration\n",
    "from apollo import dataset\n",
    "import apollo_artifacts\n",
    "from apollo_artifacts import datasets\n",
    "from transform.attributes.utils import tf_idf_attributes"
   ]
  },
  {
   "cell_type": "code",
   "execution_count": 5,
   "metadata": {
    "ExecuteTime": {
     "end_time": "2022-03-30T19:55:59.389383Z",
     "start_time": "2022-03-30T19:55:58.958681Z"
    }
   },
   "outputs": [
    {
     "name": "stdout",
     "output_type": "stream",
     "text": [
      "numpy            1.15.1\n",
      "platform         1.0.8\n",
      "pandas           0.20.2\n",
      "apollo_artifacts 1.1.26\n",
      "py4j             0.10.7\n",
      "apollo           1.11.7\n",
      "plotly           4.5.0\n",
      "insights         0.0.12\n",
      "CPython 3.6.8\n",
      "IPython 6.1.0\n",
      "\n",
      "compiler   : GCC 6.3.0 20170516\n",
      "system     : Linux\n",
      "release    : 4.9.43-17.39.amzn1.x86_64\n",
      "machine    : x86_64\n",
      "processor  : \n",
      "CPU cores  : 4\n",
      "interpreter: 64bit\n",
      "Git hash   :\n"
     ]
    }
   ],
   "source": [
    "%load_ext watermark\n",
    "%watermark -v -m --iversions -g"
   ]
  },
  {
   "cell_type": "markdown",
   "metadata": {},
   "source": [
    "# Functions"
   ]
  },
  {
   "cell_type": "code",
   "execution_count": 6,
   "metadata": {
    "ExecuteTime": {
     "end_time": "2022-03-30T19:55:59.440908Z",
     "start_time": "2022-03-30T19:55:59.391388Z"
    }
   },
   "outputs": [],
   "source": [
    "@F.udf(T.ArrayType(T.StringType()))\n",
    "def sent_tokenize_udf(s):\n",
    "    return sent_tokenize(s)\n",
    "\n",
    "@F.udf(T.ArrayType(T.StringType()))\n",
    "def tokenize(s, custom_words_str='', strip_str=\"=-_/\\+.:,'* 1234567890—\"):\n",
    "    custom_words_li = custom_words_str.split()\n",
    "    filter_words = added_stopwords_li + stopwords_li + punkts_li + custom_words_li\n",
    "    return [w.lower().strip(strip_str) for w in word_tokenize(str(s)) if w.lower() not in filter_words]\n",
    "\n",
    "@F.udf(T.ArrayType(T.StringType()))\n",
    "def lemmatize(tokens):\n",
    "    lemmatizer = WordNetLemmatizer()\n",
    "    return [lemmatizer.lemmatize(w) for w in tokens]\n",
    "\n",
    "@F.udf(T.ArrayType(T.StringType()))\n",
    "def bigram(tokens):\n",
    "    bi_tup = list(bigrams(tokens))\n",
    "    bi_li = ['_'.join(tup) for tup in bi_tup]\n",
    "    return bi_li\n",
    "\n",
    "@F.udf(T.ArrayType(T.StringType()))\n",
    "def unique_list(li):\n",
    "    deduped_li = list(set(li))\n",
    "    return deduped_li\n",
    "\n",
    "def to_array(col):\n",
    "    def to_array_(v):\n",
    "        return v.toArray().tolist()\n",
    "    # Important: asNondeterministic requires Spark 2.3 or later\n",
    "    # It can be safely removed i.e.\n",
    "    # return udf(to_array_, ArrayType(DoubleType()))(col)\n",
    "    # but at the cost of decreased performance\n",
    "    return F.udf(to_array_, T.ArrayType(T.DoubleType()))(col)"
   ]
  },
  {
   "cell_type": "markdown",
   "metadata": {},
   "source": [
    "# Settings"
   ]
  },
  {
   "cell_type": "code",
   "execution_count": 9,
   "metadata": {
    "ExecuteTime": {
     "end_time": "2022-03-30T19:56:28.658250Z",
     "start_time": "2022-03-30T19:56:28.644860Z"
    }
   },
   "outputs": [],
   "source": [
    "np.random.seed(42) # set seed for models for reproducibility\n",
    "\n",
    "stopwords_li = stopwords.words('english')\n",
    "\n",
    "punkts_li = list(string.punctuation)\n",
    "\n",
    "added_stopwords_li = [\n",
    "    \"it’s\",\n",
    "    \"'d\",\n",
    "    \"'s\",\n",
    "    \"n't\",\n",
    "    \"'m\",\n",
    "    \"i've\",\n",
    "    \"it's\",\n",
    "    \"'ve\",\n",
    "    \"'re\",\n",
    "    \"'ll\",\n",
    "    \"``\",\n",
    "    \"''\",\n",
    "    \"...\",\n",
    "    \"--\",\n",
    "    \"https\",\n",
    "    \"voxbox\",\n",
    "    \"influenster\",\n",
    "    \"cracker\",\n",
    "    \"or\",\n",
    "    'it‚äôs',\n",
    "    'don‚äôt',\n",
    "    'i‚äôm',\n",
    "    'doesn‚äôt'\n",
    "]\n",
    "\n",
    "pd.options.display.max_rows = 300\n",
    "OverrideConfiguration(default_to_production=True).apply()\n",
    "\n",
    "spark.conf.set('spark.sql.execution.arrow.enabled', 'false')"
   ]
  },
  {
   "cell_type": "markdown",
   "metadata": {},
   "source": [
    "# Set Normalized URL"
   ]
  },
  {
   "cell_type": "markdown",
   "metadata": {},
   "source": [
    "# Load Data"
   ]
  },
  {
   "cell_type": "code",
   "execution_count": 10,
   "metadata": {
    "ExecuteTime": {
     "end_time": "2022-03-30T19:56:31.195985Z",
     "start_time": "2022-03-30T19:56:29.450174Z"
    }
   },
   "outputs": [],
   "source": [
    "REV_COLS = [\n",
    "    'source_name',\n",
    "    'normalized_url',\n",
    "    'review_source_id',\n",
    "    'reviewer_source_id',\n",
    "    'brand_name',\n",
    "    'product_name',\n",
    "    'product_source_id',\n",
    "    'review_date',\n",
    "    'review_rating',\n",
    "    'review_content'\n",
    "]\n",
    "\n",
    "reviews = (\n",
    "    apollo\n",
    "    .dataset('online_reviews__deduped_review__1_0')\n",
    "    .latest_segment_df()\n",
    "    .select(REV_COLS)\n",
    "    .persist()\n",
    ")\n",
    "\n",
    "# removing hyperlinks from reviews\n",
    "review = reviews.withColumn(\n",
    "    'review_content', F.regexp_replace(\n",
    "        F.regexp_replace(\"review_content\", r\"(?i)<a\\s*[^>]*>\", \"\"), r\"(?i)<\\s*/\\s*a\\s*>\", \"\"\n",
    "    ).alias('review_content'))"
   ]
  },
  {
   "cell_type": "markdown",
   "metadata": {},
   "source": [
    "# Manual Tweaking for Potential ER Issues"
   ]
  },
  {
   "cell_type": "code",
   "execution_count": 11,
   "metadata": {
    "ExecuteTime": {
     "end_time": "2022-03-30T19:56:39.228050Z",
     "start_time": "2022-03-30T19:56:39.224914Z"
    }
   },
   "outputs": [],
   "source": [
    "ER_BRAND_URL_MAP = {}\n",
    "# ER_BRAND_URL_MAP = {'dae':'daehair.com'} # manually add {brand_id : normalized_url}\n",
    "\n",
    "URL_BLACKLIST = []\n",
    "# Some urls sneak into the list somehow. Add them here to remove them from the charts"
   ]
  },
  {
   "cell_type": "code",
   "execution_count": 12,
   "metadata": {
    "ExecuteTime": {
     "end_time": "2022-03-30T19:56:47.255801Z",
     "start_time": "2022-03-30T19:56:39.813895Z"
    }
   },
   "outputs": [
    {
     "name": "stdout",
     "output_type": "stream",
     "text": [
      "+-----------+--------------------+--------------------+--------------------+------------------+--------------------+-----------------+--------------------+-------------+--------------------+\n",
      "|source_name|      normalized_url|    review_source_id|  reviewer_source_id|        brand_name|        product_name|product_source_id|         review_date|review_rating|      review_content|\n",
      "+-----------+--------------------+--------------------+--------------------+------------------+--------------------+-----------------+--------------------+-------------+--------------------+\n",
      "|     amazon|   hayabusafight.com|      R1HEF263H49T6Q|amzn1.account.AHW...|          Hayabusa|Hayabusa Marvel H...|       B08466SJGQ| 2020-08-24 00:00:00|          3.0| These wraps are ...|\n",
      "|     amazon|       goodsense.com|       RXAHDISSUI2KC|amzn1.account.AG4...|        Good Sense|Good Sense Sunflo...|       B004GU3Z5M| 2021-04-17 00:00:00|          5.0|   Man I love these |\n",
      "|     amazon|       budweiser.com|      R2TTX5T6HS2KIP|amzn1.account.AHU...|          B. WEISS|Copper Mugs Mosco...|       B07178LNG9| 2018-01-01 00:00:00|          5.0| Exellant quality...|\n",
      "|     amazon|         aircast.app|      R14VNCVGTZ0BUI|amzn1.account.AHU...|           Aircast|Aircast Cryo/Cuff...|       B013HKAH84| 2016-06-13 00:00:00|          5.0| Excellent produc...|\n",
      "|     amazon| signaturebrands.com|      R1HSNSOWNFT7N9|amzn1.account.AFB...|Kirkland Signature|Signature's Cashe...|       B00269UWFG| 2015-08-14 00:00:00|          5.0| fresh rich butte...|\n",
      "|influenster|      sharkclean.com|            49731610|             5523579|              null|Shark APEX DuoCle...|          2645204|2019-04-26 04:02:...|          5.0|Highly recommend ...|\n",
      "|     amazon|          weiman.com|      R3PB2YQWBC9D3Y|amzn1.account.AF4...|            Weiman|Weiman Disinfecta...|       B00H341S5C| 2020-06-19 00:00:00|          5.0| looks brand NEW!...|\n",
      "|       ulta|          nexxus.com|           131721568|              Lisajs|            nexxus|Therappe Replenis...|            11171| 2017-11-24 03:46:27|          5.0|I really found th...|\n",
      "|     target|      thresholdx.net|cebede45-9cd4-4d2...|          1859628871|         Threshold|Faux Fur Weighted...|         54517798| 2021-11-07 02:57:59|          5.0|I love this blank...|\n",
      "|  walgreens|     simplehuman.com|           216656173|          inf2486485|            Simple|Simple Kind to Sk...|        300397300| 2020-01-23 23:32:18|          5.0|[This review was ...|\n",
      "|     amazon|     aokesigroup.com|      R2C45LNMLAH4XE|amzn1.account.AHX...|            AOKESI|AOKESI Led Walkin...|       B07QBZZ75N| 2020-06-29 00:00:00|          2.0| New out the box ...|\n",
      "|     amazon|          etnies.com|       RSQ8ZMDBRMZB5|amzn1.account.AHX...|            Etnies|Etnies Men's Scou...|       B074KPKF16| 2015-05-05 00:00:00|          4.0|          I LIKE IT |\n",
      "|     target|headandshoulders.com|3819243e-e03c-413...|209af3f1-8ea5-5e6...|  Head & Shoulders|Head & Shoulders ...|         46764109| 2019-12-27 22:03:26|          1.0|I tend to get dan...|\n",
      "|     amazon|           zinus.com|      R23670OMA66ERE|amzn1.account.AG6...|             Zinus|Zinus Cynthia 14 ...|       B00M16A0AQ| 2019-07-30 00:00:00|          5.0| This unit allows...|\n",
      "|     amazon|            toms.com|      R1LVPICHHB89QU|amzn1.account.AHQ...|         Earthwise|Earthwise Cotton ...|       B0718SPWZ2| 2020-02-05 00:00:00|          5.0| Great for storin...|\n",
      "|    walmart| dollarshaveclub.com|           193558619|      17355831976699| Dollar Shave Club|Dollar Shave Club...|        455157424| 2017-09-01 00:00:00|          4.0|Dr. Carver's Shav...|\n",
      "|    walmart|                null|           237982204|              072a36|          Zarbee's|Zarbee's Naturals...|        224193429| 2020-10-21 00:00:00|          4.0|[This review was ...|\n",
      "|influenster|       petqwerks.com|            79015268|             9165815|              null| Plush War Dogs Bone|          3929132|2021-07-19 00:20:...|          1.0|My dog had this r...|\n",
      "|  sams-club| clean-n-natural.com|           236657268|          7479667394|  Clean n' Natural|Clean n' Natural ...|     prod24652098| 2020-08-27 21:39:35|          5.0|Great find-a litt...|\n",
      "|     amazon| ornamentcentral.com|      R1LLGMFRM5KZH5|amzn1.account.AHZ...|  Ornament Central|Personalized Fema...|       B074SW23H4| 2019-12-13 00:00:00|          5.0| So cute! This wa...|\n",
      "+-----------+--------------------+--------------------+--------------------+------------------+--------------------+-----------------+--------------------+-------------+--------------------+\n",
      "only showing top 20 rows\n",
      "\n"
     ]
    }
   ],
   "source": [
    "review.show()"
   ]
  },
  {
   "cell_type": "code",
   "execution_count": 8,
   "metadata": {
    "ExecuteTime": {
     "end_time": "2021-06-11T21:40:08.236356Z",
     "start_time": "2021-06-11T21:40:08.230729Z"
    }
   },
   "outputs": [],
   "source": [
    "for brand_name, url in ER_BRAND_URL_MAP.items():\n",
    "    reviews = reviews.withColumn(\n",
    "        \"normalized_url\",\n",
    "        F.when(\n",
    "            F.col(\"brand_name\") == brand_name,\n",
    "            url\n",
    "        ).otherwise(F.col(\"normalized_url\"))\n",
    "    )"
   ]
  },
  {
   "cell_type": "markdown",
   "metadata": {},
   "source": [
    "# Enter Constants"
   ]
  },
  {
   "cell_type": "code",
   "execution_count": 36,
   "metadata": {
    "ExecuteTime": {
     "end_time": "2022-03-30T20:01:34.033924Z",
     "start_time": "2022-03-30T20:01:34.031365Z"
    }
   },
   "outputs": [],
   "source": [
    "# Unique reviewers required for analysis (closedly related to but not quite reviews)\n",
    "# usually 200, could be 100. larger is better (less noisy)\n",
    "MIN_REV_COUNT = 100"
   ]
  },
  {
   "cell_type": "code",
   "execution_count": 13,
   "metadata": {
    "ExecuteTime": {
     "end_time": "2022-03-30T19:57:06.723586Z",
     "start_time": "2022-03-30T19:57:06.719298Z"
    }
   },
   "outputs": [],
   "source": [
    "NORMALIZED_URL_LI = [\n",
    "    'hellobubble.com',\n",
    "    'neutrogena.com',\n",
    "    'cerave.com',\n",
    "    'cetaphil.com',\n",
    "    'cleanandclear.com',\n",
    "]\n",
    "\n",
    "\n",
    "\n",
    "\n",
    "BRAND_NAME_LI = [\n",
    "    'Bubble',\n",
    "    'Neutrogena',\n",
    "    'Cerave',\n",
    "    'Cetaphil',\n",
    "    'Clean & Clear'\n",
    "]"
   ]
  },
  {
   "cell_type": "code",
   "execution_count": 14,
   "metadata": {
    "ExecuteTime": {
     "end_time": "2022-03-30T19:57:07.854397Z",
     "start_time": "2022-03-30T19:57:07.851494Z"
    }
   },
   "outputs": [],
   "source": [
    "brand_map = dict(zip(BRAND_NAME_LI, NORMALIZED_URL_LI))\n",
    "url_map = dict(zip(NORMALIZED_URL_LI, BRAND_NAME_LI))"
   ]
  },
  {
   "cell_type": "code",
   "execution_count": 20,
   "metadata": {
    "ExecuteTime": {
     "end_time": "2022-03-30T19:57:26.354235Z",
     "start_time": "2022-03-30T19:57:26.351907Z"
    }
   },
   "outputs": [],
   "source": [
    "GROUP_NAME = \"Skincare\" # just a title for use in charts"
   ]
  },
  {
   "cell_type": "code",
   "execution_count": 21,
   "metadata": {
    "ExecuteTime": {
     "end_time": "2022-03-30T19:57:33.905150Z",
     "start_time": "2022-03-30T19:57:33.900925Z"
    }
   },
   "outputs": [],
   "source": [
    "# if a brand sells more than just one type of product, should focus on the main product\n",
    "# format: dict of string (comma separated lower case words) in order matching that in NORMALIZED_URL_LI\n",
    "# if there is a string for one brand, must enter empty strings for all others to keep matching order.\n",
    "# in the future this can be replaced potentially by product ER (category or attributes)\n",
    "\n",
    "PRODUCT_NAME_CONTAINS_LI = [\n",
    "    '',\n",
    "    #'',\n",
    "    #'',\n",
    "    #'',\n",
    "    #'',\n",
    "    #''\n",
    "\n",
    "] # the csv list is an OR operation, it includes product with ANY of the listed words\n",
    "\n",
    "PRODUCT_NAME_NOT_CONTAINS_LI = [\n",
    "    #'',\n",
    "    #'',\n",
    "    #'',\n",
    "    #'',\n",
    "    #'',\n",
    "    ''\n",
    "] # the csv list is an AND operation, it excludes product with ANY of the listed words"
   ]
  },
  {
   "cell_type": "code",
   "execution_count": 22,
   "metadata": {
    "ExecuteTime": {
     "end_time": "2022-03-30T19:57:33.911485Z",
     "start_time": "2022-03-30T19:57:33.907001Z"
    }
   },
   "outputs": [],
   "source": [
    "brand_name_di = dict(zip(NORMALIZED_URL_LI, BRAND_NAME_LI))"
   ]
  },
  {
   "cell_type": "code",
   "execution_count": 23,
   "metadata": {
    "ExecuteTime": {
     "end_time": "2022-03-30T19:57:33.916867Z",
     "start_time": "2022-03-30T19:57:33.913312Z"
    }
   },
   "outputs": [],
   "source": [
    "product_name_include_di = dict(zip(NORMALIZED_URL_LI, [w.split(\", \") if w else [] for w in PRODUCT_NAME_CONTAINS_LI ]))\n",
    "product_name_exclude_di = dict(zip(NORMALIZED_URL_LI, [w.split(\", \") if w else [] for w in PRODUCT_NAME_NOT_CONTAINS_LI]))"
   ]
  },
  {
   "cell_type": "code",
   "execution_count": 24,
   "metadata": {
    "ExecuteTime": {
     "end_time": "2022-03-30T19:57:34.062119Z",
     "start_time": "2022-03-30T19:57:34.058762Z"
    }
   },
   "outputs": [
    {
     "data": {
      "text/plain": [
       "{'hellobubble.com': []}"
      ]
     },
     "execution_count": 24,
     "metadata": {},
     "output_type": "execute_result"
    }
   ],
   "source": [
    "product_name_include_di"
   ]
  },
  {
   "cell_type": "markdown",
   "metadata": {},
   "source": [
    "# Filter for Minimal Rev Count"
   ]
  },
  {
   "cell_type": "code",
   "execution_count": 25,
   "metadata": {
    "ExecuteTime": {
     "end_time": "2022-03-30T19:57:36.305093Z",
     "start_time": "2022-03-30T19:57:36.286290Z"
    },
    "scrolled": true
   },
   "outputs": [],
   "source": [
    "reviews = reviews.withColumn('brand_name', regexp_replace('brand_name','Bug Soother', 'Simply Soothing'))"
   ]
  },
  {
   "cell_type": "code",
   "execution_count": 26,
   "metadata": {
    "ExecuteTime": {
     "end_time": "2022-03-30T19:57:36.553073Z",
     "start_time": "2022-03-30T19:57:36.466455Z"
    }
   },
   "outputs": [],
   "source": [
    "#Map missing/incorrect brand names or URLs their respective values  \n",
    "from pyspark.sql.types import StringType\n",
    "from pyspark.sql.functions import udf\n",
    "from itertools import chain\n",
    "from pyspark.sql.functions import create_map, lit\n",
    "\n",
    "def translate(mapping):\n",
    "    def translate_(col):\n",
    "        return mapping.get(col)\n",
    "    return udf(translate_, StringType())\n",
    "mapping_expr = create_map([lit(x) for x in chain(*url_map.items())])\n",
    "#reviews = reviews.withColumn('normalized_url', translate(brand_map)('brand_name'))\n",
    "reviews = reviews.withColumn('brand_name', translate(url_map)('normalized_url'))\n",
    "#reviews = reviews.withColumn('brand_name', mapping_expr[reviews['normalized_url']])"
   ]
  },
  {
   "cell_type": "code",
   "execution_count": 27,
   "metadata": {
    "ExecuteTime": {
     "end_time": "2022-03-30T19:58:56.782144Z",
     "start_time": "2022-03-30T19:57:36.778320Z"
    },
    "scrolled": true
   },
   "outputs": [
    {
     "name": "stdout",
     "output_type": "stream",
     "text": [
      "+-----------------+-------+\n",
      "|   normalized_url|  count|\n",
      "+-----------------+-------+\n",
      "|       cerave.com| 339653|\n",
      "|cleanandclear.com| 287780|\n",
      "|     cetaphil.com| 295062|\n",
      "|  hellobubble.com|   1475|\n",
      "|   neutrogena.com|1309803|\n",
      "+-----------------+-------+\n",
      "\n"
     ]
    }
   ],
   "source": [
    "reviews.filter(F.col('normalized_url').isin(NORMALIZED_URL_LI)).groupby('normalized_url').count().show()"
   ]
  },
  {
   "cell_type": "code",
   "execution_count": 28,
   "metadata": {
    "ExecuteTime": {
     "end_time": "2022-03-30T19:59:18.140510Z",
     "start_time": "2022-03-30T19:58:56.784273Z"
    }
   },
   "outputs": [
    {
     "name": "stdout",
     "output_type": "stream",
     "text": [
      "+-------------+-------+\n",
      "|   brand_name|  count|\n",
      "+-------------+-------+\n",
      "|Clean & Clear| 287780|\n",
      "|   Neutrogena|1309803|\n",
      "|       Cerave| 339653|\n",
      "|       Bubble|   1475|\n",
      "|     Cetaphil| 295062|\n",
      "+-------------+-------+\n",
      "\n"
     ]
    }
   ],
   "source": [
    "reviews.filter(F.col('brand_name').isin(BRAND_NAME_LI)).groupby('brand_name').count().show()"
   ]
  },
  {
   "cell_type": "code",
   "execution_count": 65,
   "metadata": {
    "ExecuteTime": {
     "end_time": "2022-03-30T20:13:54.761422Z",
     "start_time": "2022-03-30T20:13:54.312678Z"
    },
    "scrolled": true
   },
   "outputs": [
    {
     "name": "stdout",
     "output_type": "stream",
     "text": [
      "+-----------+-----------------+------------------------------------+------------------------------------------+-------------+----------------------------------------------------------------------------------------------------------------------------------------------------------------------------------+-----------------+--------------------------+-------------+------------------------------------------------------------------------------------------------------------------------------------------------------------------------------------------------------------------------------------------------------------------------------------------------------------------------------------------------------------------------------------------------------------------------------------------------------------------------------------------------------------------------------------------------------------------------------------------------------------------------+\n",
      "|source_name|normalized_url   |review_source_id                    |reviewer_source_id                        |brand_name   |product_name                                                                                                                                                                      |product_source_id|review_date               |review_rating|review_content                                                                                                                                                                                                                                                                                                                                                                                                                                                                                                                                                                                                          |\n",
      "+-----------+-----------------+------------------------------------+------------------------------------------+-------------+----------------------------------------------------------------------------------------------------------------------------------------------------------------------------------+-----------------+--------------------------+-------------+------------------------------------------------------------------------------------------------------------------------------------------------------------------------------------------------------------------------------------------------------------------------------------------------------------------------------------------------------------------------------------------------------------------------------------------------------------------------------------------------------------------------------------------------------------------------------------------------------------------------+\n",
      "|influenster|neutrogena.com   |39286942                            |1929468                                   |Neutrogena   |Neutrogena® Healthy Skin Anti-Aging Perfector                                                                                                                                     |1656973          |2018-07-10 04:23:13.399425|3.0          |It’s pretty light for me & makes my skin feel great. It’s medium coverage. But is pretty easy to blend on the skin. It is build able but i didnt need to put so much on. I would buy again . I would recommend for friends.                                                                                                                                                                                                                                                                                                                                                                                             |\n",
      "|walmart    |neutrogena.com   |97529484                            |zd9mz31uh7aae1lulsucnprlgo                |Neutrogena   |Neutrogena Oil-Free Pink Grapefruit Acne Wash Face Scrub, 6.7 fl oz                                                                                                               |13274448         |2014-08-26 00:00:00       |5.0          |This has got to be the best acne wash I have ever used. I have used several other products before and they just made my skin oiler which caused it to break out even more. But I use this every morning, in the shower, and in the evening as a makeup remover! ITS AMAZING.                                                                                                                                                                                                                                                                                                                                            |\n",
      "|amazon     |cerave.com       |RS1T8MHH84OFJ                       |amzn1.account.AHGYGD5KXSCQSJPDLMRLKYHMUNPQ|Cerave       |CeraVe Hydrating Face Wash | 16 Ounce | Daily Facial Cleanser for Dry Skin | Paraben & Fragrance Free                                                                             |B01MSSDEPK       |2020-07-08 00:00:00       |5.0          | My favorite face wash. Keeps my face hydrated and not dry.                                                                                                                                                                                                                                                                                                                                                                                                                                                                                                                                                             |\n",
      "|influenster|cleanandclear.com|47211596                            |5838964                                   |Clean & Clear|Clean & Clear® Advantage® Acne Spot Treatment                                                                                                                                     |21087            |2019-02-17 08:30:47.797709|4.0          |Works well for acne. I think its not too pricey because the quality is outstanding. Please try this at least once. 😊😊                                                                                                                                                                                                                                                                                                                                                                                                                                                                                                 |\n",
      "|influenster|neutrogena.com   |33055319                            |2656018                                   |Neutrogena   |Neutrogena® Hydro Boost Water Gel with Hyaluronic Acid for Dry Skin                                                                                                               |733922           |2018-01-22 18:49:44.039214|5.0          |Absolutely love Neutrogena Hydro Boost moisturizer... I tried everything from generic to high end cosmetics and every single product made my face oily, break out, leave face all slimy.. except this one..\n",
      " I love it.. use it every day and u can see results                                                                                                                                                                                                                                                                                                                                                         |\n",
      "|walmart    |cerave.com       |140798333                           |11077199                                  |Cerave       |CeraVe Moisturizing Cream for Face and Body, Daily Moisturizer for Normal to Dry Skin with Pump, 16 oz.                                                                           |142429954        |2020-01-14 00:00:00       |5.0          |[This review was collected as part of a promotion.] This is a very great product it does the job. I rate it a 10 out of 10.                                                                                                                                                                                                                                                                                                                                                                                                                                                                                             |\n",
      "|influenster|neutrogena.com   |21182548                            |2785232                                   |Neutrogena   |Neutrogena® Ultra Sheer Face Sunscreen SPF 60                                                                                                                                     |1688433          |2017-03-20 23:57:07.106675|2.0          |I have trouble finding sunscreens that don't clog my pores and make my face break out - this was not a winner at all. Despite the \"sheer\" coverage it also left a white ish residue on my face even after rubbing it in and made me look ashy.                                                                                                                                                                                                                                                                                                                                                                          |\n",
      "|influenster|neutrogena.com   |49097271                            |5494245                                   |Neutrogena   |Neutrogena® Makeup Remover Cleansing Towelettes - Fragrance Free                                                                                                                  |1669066          |2019-04-09 02:20:19.126183|5.0          |A nice product. The wipes don't seem to ever dry out and do a really good job of removing make up. There really is no scent, like its advertised. I also love that there's always deals on them at target! AMD pretty much every where else I go, I have seen them for pretty cheap.                                                                                                                                                                                                                                                                                                                                    |\n",
      "|influenster|neutrogena.com   |42234128                            |5286896                                   |Neutrogena   |Neutrogena® Shine Control Powder                                                                                                                                                  |16543            |2018-10-04 17:33:38.792807|1.0          |This product is suppose to be for shine control, but it did not do anything for me. Wouldn’t recommend.                                                                                                                                                                                                                                                                                                                                                                                                                                                                                                                 |\n",
      "|influenster|cleanandclear.com|42303906                            |3412089                                   |Clean & Clear|Clean & Clear® Essentials Dual Action Moisturizer                                                                                                                                 |1703955          |2018-10-07 17:32:35.76992 |5.0          |I put on after toning my face every shower or when I wake up and just in a hurry. I haven’t had any pimples in such a long time. knock on wood. It’s gentle, very smooth to put on face. I have such a great skin routine with clean & clear and I’m definitely not going to stop. My skin has been amazing since.                                                                                                                                                                                                                                                                                                      |\n",
      "|walgreens  |cetaphil.com     |241124906                           |inf7160944                                |Cetaphil     |Cetaphil Daily Facial Cleanser-Sensitive Combination/ Oily Skin Gentle Foaming, Soap Free                                                                                         |300422190        |2020-06-19 08:22:21       |5.0          |This stuff is great and usually my go to facial cleanser.  I like the clean feeling I get without the dry feeling I get from others and then that constant need to rinse like I get from others.  I also like the simple basic no scent down to the point cleanser this is and needs to be.                                                                                                                                                                                                                                                                                                                             |\n",
      "|target     |neutrogena.com   |30af7d6c-83b2-4b6a-9dd0-b1264819db13|8178162860                                |Neutrogena   |Neutrogena Ultra Gentle Daily Foaming Facial Cleanser - 12 fl oz                                                                                                                  |14496695         |2019-09-25 17:58:53       |1.0          |Not as product described. I wanted a FOAMING cleanser, as stated. This is NOT a foaming cleanser.  A foaming cleanser, by definition, means it should be foaming when it comes out of dispenser. It was a thick liquid. I had to drive to store to return the product.                                                                                                                                                                                                                                                                                                                                                  |\n",
      "|walmart    |neutrogena.com   |15051611                            |z69h8k87zl1yzbcjy42xr1ne91                |Neutrogena   |4 Pack - Neutrogena Men Sensitive Skin Shave Cream 5.10 oz                                                                                                                        |895126879        |2013-02-09 00:00:00       |1.0          |I bought Neutrogena men sensitive skin Shave cream with pro smoth technology for my husband who has to shave everyday. He has very sensitive skin and i thought this would be a good thing to try. he gave it three days and said that he would never use it again. I thought he was being a wimp so I decided I would use it on my legs because I can use anything from bar soap to cream and have no problems. This product was the absolute worst product I have ever used. I shaved over an hour ago and my legs are still stinging. I agree that this product has no protection and I would rather shave with soap.|\n",
      "|influenster|neutrogena.com   |186085                              |309950                                    |Neutrogena   |Neutrogena® Gentle Oil-Free Liquid Eye Makeup Remover for Waterproof Mascara                                                                                                      |2298199          |2013-06-16 15:06:40.257   |5.0          |I had been using Mary Kay makeup remover for about 10 years before I decided due to budget constraints and on a whim, to try this product. I was happy to discover that it is just as good and just about the same consistency as my old makeup remover and about half the price! It is not oily and very easily removes eye makeup.                                                                                                                                                                                                                                                                                    |\n",
      "|influenster|cetaphil.com     |12044216                            |1994382                                   |Cetaphil     |Cetaphil Gentle Skin Cleanser for All Skin Types 4 oz                                                                                                                             |366695           |2016-08-06 21:38:02.697569|5.0          |This product leaves my face moisturized and very clean. Love it so much ❤️😍                                                                                                                                                                                                                                                                                                                                                                                                                                                                                                                                            |\n",
      "|influenster|neutrogena.com   |43794204                            |5465939                                   |Neutrogena   |Neutrogena® Healthy Skin Glow Sheers® Broad Spectrum SPF 30                                                                                                                       |1749793          |2018-11-30 21:54:22.297018|4.0          |Its so nice and beautiful, because the color is great, and the price is suitable. In terms of size it fits .                                                                                                                                                                                                                                                                                                                                                                                                                                                                                                            |\n",
      "|ulta       |cerave.com       |240756921                           |sclax                                     |Cerave       |Hydrating Sunscreen Body Lotion SPF 30                                                                                                                                            |2003658          |2019-06-12 09:00:03       |1.0          |I had high hopes for this sunscreen. My husband and I both tried it with no success. We both looked deathly ill even after vigorous effort of rubbing this into our skin. The white cast is unavoidable and looks terrible. I won't be using this product, it was very expensive for it to be useless to me.                                                                                                                                                                                                                                                                                                            |\n",
      "|influenster|cerave.com       |31285629                            |4202333                                   |Cerave       |Cerave Foaming Facial Cleanser                                                                                                                                                    |57797            |2017-12-07 03:49:25.23105 |4.0          |This product is good for my skin in the summer time when my fave becomes more oily. Not my go-to facial cleanser in the winter. I purchased this at Walmart and definitely will keep using it during the warm months on the year!                                                                                                                                                                                                                                                                                                                                                                                       |\n",
      "|walmart    |neutrogena.com   |223120212                           |ti7sueiphuifmf8svo2gnuezq                 |Neutrogena   |neutrogena rapid clear oil-eliminating foaming facial cleanser for oily and acne-prone skin, removes pore-clogging dirt and controls shine, oil-free and non-comedogenic, 6 fl. oz|220346801        |2020-07-30 00:00:00       |5.0          |I have been using rapid clear foaming cleanser since I was in about 8th grade or around that time and I'm almost 30 now! Nothing beats it or compares to it! Please don't discontinue it!!!                                                                                                                                                                                                                                                                                                                                                                                                                             |\n",
      "|influenster|neutrogena.com   |24309520                            |3499965                                   |Neutrogena   |Neutrogena® Oil-Free Acne Wash Pink Grapefruit Foaming Scrub                                                                                                                      |1383152          |2017-06-30 03:55:13.496863|5.0          |At such an affordable price, to be able to battle acne and save my pockets you definitely can't go wrong with this product. It's great for combination skin and oily skin and even for sensitive skin!                                                                                                                                                                                                                                                                                                                                                                                                                  |\n",
      "+-----------+-----------------+------------------------------------+------------------------------------------+-------------+----------------------------------------------------------------------------------------------------------------------------------------------------------------------------------+-----------------+--------------------------+-------------+------------------------------------------------------------------------------------------------------------------------------------------------------------------------------------------------------------------------------------------------------------------------------------------------------------------------------------------------------------------------------------------------------------------------------------------------------------------------------------------------------------------------------------------------------------------------------------------------------------------------+\n",
      "only showing top 20 rows\n",
      "\n"
     ]
    }
   ],
   "source": [
    "reviews.filter(F.col('normalized_url').isin(NORMALIZED_URL_LI)).show(truncate = False)"
   ]
  },
  {
   "cell_type": "code",
   "execution_count": 66,
   "metadata": {
    "ExecuteTime": {
     "end_time": "2022-03-30T20:13:57.958829Z",
     "start_time": "2022-03-30T20:13:57.910765Z"
    }
   },
   "outputs": [],
   "source": [
    "# normalized_url and count of reviews\n",
    "count_revs = (\n",
    "    reviews\n",
    "    #.dropna(subset=['normalized_url'])\n",
    "    .groupby('normalized_url', 'brand_name')\n",
    "    .agg(\n",
    "        #changing reviewer_source_id to review_source_id\n",
    "        F.count(F.concat(F.col('source_name'), F.col('review_source_id'))).alias('reviewer_count')\n",
    "    )\n",
    ")\n",
    "\n",
    "# just normalized_urls where review count > threshold\n",
    "count_revs_filtered = (\n",
    "    count_revs\n",
    "    .filter(F.col('reviewer_count') >= MIN_REV_COUNT)\n",
    "    .select('normalized_url', 'brand_name')\n",
    "    .distinct()\n",
    ")\n",
    "\n",
    "#filtering original reviews dataframe by joining against list of normalized urls with review count > threshold\n",
    "filtered_revs = (\n",
    "    reviews\n",
    "    .filter(F.col('normalized_url').isin(count_revs_filtered.normalized_url) | F.col('brand_name').isin(count_revs_filtered.brand_name))\n",
    ")"
   ]
  },
  {
   "cell_type": "markdown",
   "metadata": {},
   "source": [
    "## Check in Reviews with Enough Reviews of Reviews at All\n",
    "can't speak to ER misses here which occurs with some frequency"
   ]
  },
  {
   "cell_type": "code",
   "execution_count": 67,
   "metadata": {
    "ExecuteTime": {
     "end_time": "2022-03-30T20:14:00.402855Z",
     "start_time": "2022-03-30T20:14:00.373535Z"
    }
   },
   "outputs": [],
   "source": [
    "brand_revs = filtered_revs.filter(F.col('normalized_url').isin(NORMALIZED_URL_LI))\n",
    "brand_revs = brand_revs.withColumn('review_content', regexp_replace(F.col('review_content'),'‚äô',\"'\")).alias('review_content')"
   ]
  },
  {
   "cell_type": "code",
   "execution_count": 68,
   "metadata": {
    "ExecuteTime": {
     "end_time": "2022-03-30T20:14:02.131282Z",
     "start_time": "2022-03-30T20:14:01.696758Z"
    }
   },
   "outputs": [
    {
     "name": "stdout",
     "output_type": "stream",
     "text": [
      "+-----------+--------------+----------------+--------------------+----------+--------------------+-----------------+-------------------+-------------+--------------------+\n",
      "|source_name|normalized_url|review_source_id|  reviewer_source_id|brand_name|        product_name|product_source_id|        review_date|review_rating|      review_content|\n",
      "+-----------+--------------+----------------+--------------------+----------+--------------------+-----------------+-------------------+-------------+--------------------+\n",
      "|    walmart|neutrogena.com|        97529484|zd9mz31uh7aae1lul...|Neutrogena|Neutrogena Oil-Fr...|         13274448|2014-08-26 00:00:00|          5.0|This has got to b...|\n",
      "|    walmart|    cerave.com|       140798333|            11077199|    Cerave|CeraVe Moisturizi...|        142429954|2020-01-14 00:00:00|          5.0|[This review was ...|\n",
      "|    walmart|neutrogena.com|        15051611|z69h8k87zl1yzbcjy...|Neutrogena|4 Pack - Neutroge...|        895126879|2013-02-09 00:00:00|          1.0|I bought Neutroge...|\n",
      "|    walmart|neutrogena.com|       223120212|ti7sueiphuifmf8sv...|Neutrogena|neutrogena rapid ...|        220346801|2020-07-30 00:00:00|          5.0|I have been using...|\n",
      "|    walmart|    cerave.com|       198572235|          inf9236222|    Cerave|CeraVe Hydrating ...|        244108544|2021-10-16 00:00:00|          5.0|This is a great d...|\n",
      "|    walmart|neutrogena.com|       202233279|          0020721090|Neutrogena|Neutrogena Hydro ...|        169201209|2018-08-18 00:00:00|          5.0|The gel takes a l...|\n",
      "|    walmart|neutrogena.com|          579649|zq7limsjsnnavi4kl...|Neutrogena|Neutrogena Health...|        555909539|2011-12-29 00:00:00|          5.0|I have acne and s...|\n",
      "|    walmart|    cerave.com|       139722136|            11043308|    Cerave|CeraVe Moisturizi...|        937270693|2019-12-17 00:00:00|          5.0|Very smooth, give...|\n",
      "|    walmart|neutrogena.com|       206573552|          HTC1732545|Neutrogena|Neutrogena Hydro ...|        905844784|2019-01-30 00:00:00|          4.0|[This review was ...|\n",
      "|    walmart|neutrogena.com|        39984796|zsz379ww23kv0oryg...|Neutrogena|Neutrogena Sensit...|         12167173|2013-12-04 00:00:00|          1.0|Not only does thi...|\n",
      "|    walmart|neutrogena.com|       183121091|           HTC863207|Neutrogena|Neutrogena Light ...|        187370162|2017-07-19 00:00:00|          2.0|[This review was ...|\n",
      "|    walmart|neutrogena.com|       223313059|          inf1839139|Neutrogena|Neutrogena Clear ...|         19423421|2019-06-27 00:00:00|          5.0|This is my favori...|\n",
      "|    walmart|neutrogena.com|       224815507|          inf6696969|Neutrogena|Neutrogena Rapid ...|        272468509|2020-09-26 00:00:00|          5.0|I never thought u...|\n",
      "|    walmart|neutrogena.com|       221218620|zh5cy1anvqq1c0hqj...|Neutrogena|Neutrogena Blackh...|        890256767|2019-10-03 00:00:00|          3.0|                null|\n",
      "|    walmart|neutrogena.com|       196817700|          HTC1160590|Neutrogena|Neutrogena CoolDr...|        214948734|2018-02-11 00:00:00|          4.0|I use it when i g...|\n",
      "|    walmart|neutrogena.com|       203748222|           HTC875576|Neutrogena|Neutrogena Pink G...|        736574545|2018-10-14 00:00:00|          5.0|i received a samp...|\n",
      "|    walmart|neutrogena.com|       227783535|qi9kbi4hswer0fnfj...|Neutrogena|Neutrogena Hydro ...|        145718636|2021-01-13 00:00:00|          5.0|This is the best ...|\n",
      "|    walmart|    cerave.com|       178749368|          inf8964122|    Cerave|CeraVe Hydrating ...|         13903361|2021-04-29 00:00:00|          5.0|AMAZING!! Keeps m...|\n",
      "|    walmart|neutrogena.com|         7484690|zpk8b1zxl309cp8db...|Neutrogena|Neutrogena Oil-Fr...|         14272825|2012-07-13 00:00:00|          3.0|I am in my teens ...|\n",
      "|    walmart|neutrogena.com|       228664902|135f1b75a0513907e...|Neutrogena|Neutrogena Makeup...|         43493668|2020-05-07 00:00:00|          5.0|                null|\n",
      "+-----------+--------------+----------------+--------------------+----------+--------------------+-----------------+-------------------+-------------+--------------------+\n",
      "only showing top 20 rows\n",
      "\n"
     ]
    }
   ],
   "source": [
    "brand_revs = brand_revs.drop('Unnamed: 6')\n",
    "brand_revs = brand_revs.filter(F.col('source_name').isin(['walmart']))\n",
    "brand_revs.show()"
   ]
  },
  {
   "cell_type": "code",
   "execution_count": 69,
   "metadata": {
    "ExecuteTime": {
     "end_time": "2022-03-30T20:14:31.316345Z",
     "start_time": "2022-03-30T20:14:31.085341Z"
    }
   },
   "outputs": [
    {
     "ename": "KeyError",
     "evalue": "'proportion'",
     "output_type": "error",
     "traceback": [
      "\u001b[0;31m---------------------------------------------------------------------------\u001b[0m",
      "\u001b[0;31mKeyError\u001b[0m                                  Traceback (most recent call last)",
      "\u001b[0;32m<ipython-input-69-a0060acefb02>\u001b[0m in \u001b[0;36m<module>\u001b[0;34m()\u001b[0m\n\u001b[1;32m     11\u001b[0m     },\n\u001b[1;32m     12\u001b[0m     \u001b[0;31m#text='reviewer_count',\u001b[0m\u001b[0;34m\u001b[0m\u001b[0;34m\u001b[0m\u001b[0;34m\u001b[0m\u001b[0m\n\u001b[0;32m---> 13\u001b[0;31m     \u001b[0mcolor_discrete_sequence\u001b[0m\u001b[0;34m=\u001b[0m\u001b[0mpx\u001b[0m\u001b[0;34m.\u001b[0m\u001b[0mcolors\u001b[0m\u001b[0;34m.\u001b[0m\u001b[0msequential\u001b[0m\u001b[0;34m.\u001b[0m\u001b[0mPlasma\u001b[0m\u001b[0;34m[\u001b[0m\u001b[0;34m:\u001b[0m\u001b[0;34m:\u001b[0m\u001b[0;36m2\u001b[0m\u001b[0;34m]\u001b[0m\u001b[0;34m[\u001b[0m\u001b[0;34m:\u001b[0m\u001b[0;34m:\u001b[0m\u001b[0;34m-\u001b[0m\u001b[0;36m1\u001b[0m\u001b[0;34m]\u001b[0m\u001b[0;34m,\u001b[0m\u001b[0;34m\u001b[0m\u001b[0;34m\u001b[0m\u001b[0m\n\u001b[0m\u001b[1;32m     14\u001b[0m )\n\u001b[1;32m     15\u001b[0m \u001b[0;34m\u001b[0m\u001b[0m\n",
      "\u001b[0;32m/usr/local/lib/python3.6/site-packages/plotly/express/_chart_types.py\u001b[0m in \u001b[0;36mbar\u001b[0;34m(data_frame, x, y, color, facet_row, facet_col, facet_col_wrap, hover_name, hover_data, custom_data, text, error_x, error_x_minus, error_y, error_y_minus, animation_frame, animation_group, category_orders, labels, color_discrete_sequence, color_discrete_map, color_continuous_scale, range_color, color_continuous_midpoint, opacity, orientation, barmode, log_x, log_y, range_x, range_y, title, template, width, height)\u001b[0m\n\u001b[1;32m    311\u001b[0m         \u001b[0mconstructor\u001b[0m\u001b[0;34m=\u001b[0m\u001b[0mgo\u001b[0m\u001b[0;34m.\u001b[0m\u001b[0mBar\u001b[0m\u001b[0;34m,\u001b[0m\u001b[0;34m\u001b[0m\u001b[0;34m\u001b[0m\u001b[0m\n\u001b[1;32m    312\u001b[0m         \u001b[0mtrace_patch\u001b[0m\u001b[0;34m=\u001b[0m\u001b[0mdict\u001b[0m\u001b[0;34m(\u001b[0m\u001b[0morientation\u001b[0m\u001b[0;34m=\u001b[0m\u001b[0morientation\u001b[0m\u001b[0;34m,\u001b[0m \u001b[0mtextposition\u001b[0m\u001b[0;34m=\u001b[0m\u001b[0;34m\"auto\"\u001b[0m\u001b[0;34m)\u001b[0m\u001b[0;34m,\u001b[0m\u001b[0;34m\u001b[0m\u001b[0;34m\u001b[0m\u001b[0m\n\u001b[0;32m--> 313\u001b[0;31m         \u001b[0mlayout_patch\u001b[0m\u001b[0;34m=\u001b[0m\u001b[0mdict\u001b[0m\u001b[0;34m(\u001b[0m\u001b[0mbarmode\u001b[0m\u001b[0;34m=\u001b[0m\u001b[0mbarmode\u001b[0m\u001b[0;34m)\u001b[0m\u001b[0;34m,\u001b[0m\u001b[0;34m\u001b[0m\u001b[0;34m\u001b[0m\u001b[0m\n\u001b[0m\u001b[1;32m    314\u001b[0m     )\n\u001b[1;32m    315\u001b[0m \u001b[0;34m\u001b[0m\u001b[0m\n",
      "\u001b[0;32m/usr/local/lib/python3.6/site-packages/plotly/express/_core.py\u001b[0m in \u001b[0;36mmake_figure\u001b[0;34m(args, constructor, trace_patch, layout_patch)\u001b[0m\n\u001b[1;32m   1344\u001b[0m                 \u001b[0mprefix\u001b[0m \u001b[0;34m=\u001b[0m \u001b[0mget_label\u001b[0m\u001b[0;34m(\u001b[0m\u001b[0margs\u001b[0m\u001b[0;34m,\u001b[0m \u001b[0margs\u001b[0m\u001b[0;34m[\u001b[0m\u001b[0;34m\"facet_row\"\u001b[0m\u001b[0;34m]\u001b[0m\u001b[0;34m)\u001b[0m \u001b[0;34m+\u001b[0m \u001b[0;34m\"=\"\u001b[0m\u001b[0;34m\u001b[0m\u001b[0;34m\u001b[0m\u001b[0m\n\u001b[1;32m   1345\u001b[0m                 \u001b[0mrow_labels\u001b[0m \u001b[0;34m=\u001b[0m \u001b[0;34m[\u001b[0m\u001b[0mprefix\u001b[0m \u001b[0;34m+\u001b[0m \u001b[0mstr\u001b[0m\u001b[0;34m(\u001b[0m\u001b[0ms\u001b[0m\u001b[0;34m)\u001b[0m \u001b[0;32mfor\u001b[0m \u001b[0ms\u001b[0m \u001b[0;32min\u001b[0m \u001b[0msorted_group_values\u001b[0m\u001b[0;34m[\u001b[0m\u001b[0mm\u001b[0m\u001b[0;34m.\u001b[0m\u001b[0mgrouper\u001b[0m\u001b[0;34m]\u001b[0m\u001b[0;34m]\u001b[0m\u001b[0;34m\u001b[0m\u001b[0;34m\u001b[0m\u001b[0m\n\u001b[0;32m-> 1346\u001b[0;31m             \u001b[0;32mfor\u001b[0m \u001b[0mval\u001b[0m \u001b[0;32min\u001b[0m \u001b[0msorted_group_values\u001b[0m\u001b[0;34m[\u001b[0m\u001b[0mm\u001b[0m\u001b[0;34m.\u001b[0m\u001b[0mgrouper\u001b[0m\u001b[0;34m]\u001b[0m\u001b[0;34m:\u001b[0m\u001b[0;34m\u001b[0m\u001b[0;34m\u001b[0m\u001b[0m\n\u001b[0m\u001b[1;32m   1347\u001b[0m                 \u001b[0;32mif\u001b[0m \u001b[0mval\u001b[0m \u001b[0;32mnot\u001b[0m \u001b[0;32min\u001b[0m \u001b[0mm\u001b[0m\u001b[0;34m.\u001b[0m\u001b[0mval_map\u001b[0m\u001b[0;34m:\u001b[0m\u001b[0;34m\u001b[0m\u001b[0;34m\u001b[0m\u001b[0m\n\u001b[1;32m   1348\u001b[0m                     \u001b[0mm\u001b[0m\u001b[0;34m.\u001b[0m\u001b[0mval_map\u001b[0m\u001b[0;34m[\u001b[0m\u001b[0mval\u001b[0m\u001b[0;34m]\u001b[0m \u001b[0;34m=\u001b[0m \u001b[0mm\u001b[0m\u001b[0;34m.\u001b[0m\u001b[0msequence\u001b[0m\u001b[0;34m[\u001b[0m\u001b[0mlen\u001b[0m\u001b[0;34m(\u001b[0m\u001b[0mm\u001b[0m\u001b[0;34m.\u001b[0m\u001b[0mval_map\u001b[0m\u001b[0;34m)\u001b[0m \u001b[0;34m%\u001b[0m \u001b[0mlen\u001b[0m\u001b[0;34m(\u001b[0m\u001b[0mm\u001b[0m\u001b[0;34m.\u001b[0m\u001b[0msequence\u001b[0m\u001b[0;34m)\u001b[0m\u001b[0;34m]\u001b[0m\u001b[0;34m\u001b[0m\u001b[0;34m\u001b[0m\u001b[0m\n",
      "\u001b[0;31mKeyError\u001b[0m: 'proportion'"
     ]
    }
   ],
   "source": [
    "fig = px.bar(\n",
    "    mentions,\n",
    "    orientation='h',\n",
    "    y=\"terms\",\n",
    "    x=\"proportion\",\n",
    "    color=\"proportion\",\n",
    "    title=f\"Proportion of Reviews Mentioning Broth or Bone Broth\",\n",
    "    labels={\n",
    "\n",
    "        \n",
    "    },\n",
    "    #text='reviewer_count',\n",
    "    color_discrete_sequence=px.colors.sequential.Plasma[::2][::-1],\n",
    ")\n",
    "\n",
    "fig.update_layout(\n",
    "    width=1450,\n",
    "    height=800,\n",
    "    font=Font.plot_title.value,\n",
    "    plot_bgcolor=\"white\",\n",
    "    title={\"x\": 0.5},\n",
    "    xaxis_tickformat='.0%',\n",
    "    yaxis={'categoryorder':'total descending'}\n",
    ")\n",
    "\n",
    "fig.show()"
   ]
  },
  {
   "cell_type": "markdown",
   "metadata": {},
   "source": [
    "## Optional Filter for Product"
   ]
  },
  {
   "cell_type": "code",
   "execution_count": 25,
   "metadata": {
    "ExecuteTime": {
     "end_time": "2021-06-11T19:08:12.813934Z",
     "start_time": "2021-06-11T19:08:12.663239Z"
    }
   },
   "outputs": [],
   "source": [
    "if PRODUCT_NAME_CONTAINS_LI:\n",
    "    j = 0\n",
    "    for url, name_include_li in product_name_include_di.items():\n",
    "        if name_include_li:\n",
    "            for i, a in enumerate(name_include_li):\n",
    "                if i==0:\n",
    "                    prod_filter = F.lower(c.product_name).contains(a) & c.normalized_url.contains(url)\n",
    "                else:\n",
    "                    prod_filter |= F.lower(c.product_name).contains(a) & c.normalized_url.contains(url)\n",
    "        else:\n",
    "            prod_filter = c.normalized_url.contains(url)\n",
    "\n",
    "        if j==0:\n",
    "            full_prod_filter = prod_filter\n",
    "        else:\n",
    "            full_prod_filter |= prod_filter\n",
    "        j+=1\n",
    "\n",
    "    brand_revs = (\n",
    "        brand_revs\n",
    "        .filter(F.when(full_prod_filter, True).otherwise(False))\n",
    "    )\n",
    "\n",
    "if PRODUCT_NAME_NOT_CONTAINS_LI:\n",
    "    j = 0\n",
    "    for url, name_exclude_li in product_name_exclude_di.items():\n",
    "        if name_exclude_li:\n",
    "            for i, a in enumerate(name_exclude_li):\n",
    "                if i==0:\n",
    "                    prod_filter = ~F.lower(c.product_name).contains(a) & c.normalized_url.contains(url)\n",
    "                else:\n",
    "                    prod_filter &= ~F.lower(c.product_name).contains(a) & c.normalized_url.contains(url)\n",
    "        else:\n",
    "            prod_filter = c.normalized_url.contains(url)\n",
    "\n",
    "        if j==0:\n",
    "            full_prod_filter = prod_filter\n",
    "        else:\n",
    "            full_prod_filter |= prod_filter\n",
    "        j+=1\n",
    "\n",
    "    brand_revs = (\n",
    "        brand_revs\n",
    "        .filter(F.when(full_prod_filter, True).otherwise(False))\n",
    "    )"
   ]
  },
  {
   "cell_type": "code",
   "execution_count": 26,
   "metadata": {
    "ExecuteTime": {
     "end_time": "2021-06-11T19:08:25.042247Z",
     "start_time": "2021-06-11T19:08:15.427220Z"
    }
   },
   "outputs": [
    {
     "name": "stdout",
     "output_type": "stream",
     "text": [
      "+------------------+-----+\n",
      "|    normalized_url|count|\n",
      "+------------------+-----+\n",
      "|myserenitykids.com|   18|\n",
      "+------------------+-----+\n",
      "\n"
     ]
    }
   ],
   "source": [
    "brand_revs.groupby('normalized_url').count().show()"
   ]
  },
  {
   "cell_type": "code",
   "execution_count": 22,
   "metadata": {
    "ExecuteTime": {
     "end_time": "2021-05-06T18:41:33.640015Z",
     "start_time": "2021-05-06T18:41:33.615442Z"
    }
   },
   "outputs": [],
   "source": [
    "drop_prods = brand_revs.where((F.col('brand_name') == 'Celsius') \n",
    "                & (F.col('product_name').contains('-'))\n",
    "                & (F.col('source_name') == 'amazon'))"
   ]
  },
  {
   "cell_type": "code",
   "execution_count": 23,
   "metadata": {
    "ExecuteTime": {
     "end_time": "2021-05-06T18:41:36.184165Z",
     "start_time": "2021-05-06T18:41:35.166005Z"
    }
   },
   "outputs": [],
   "source": [
    "#Additional Product Filter\n",
    "#Filter specific products (ex. fishing for Celsius, non drinks for Alani Nu) that make it past product filter \n",
    "\n",
    "brand_revs = brand_revs.where((~F.col('review_content').contains('fishing') | ~F.col('review_content').contains('rod')) \n",
    "                              & (~(F.col('product_name').contains('BCAA'))))\n",
    "#brand_revs.where(F.col('review_content').contains('fishing')).show(truncate= False)\n",
    "brand_revs = brand_revs.join(drop_prods,['source_name',\n",
    "    'normalized_url',\n",
    "    'review_source_id',\n",
    "    'reviewer_source_id',\n",
    "    'brand_name',\n",
    "    'product_name',\n",
    "    'product_source_id'], 'leftanti' )"
   ]
  },
  {
   "cell_type": "code",
   "execution_count": 76,
   "metadata": {
    "ExecuteTime": {
     "end_time": "2021-05-21T00:53:11.121152Z",
     "start_time": "2021-05-21T00:53:09.831500Z"
    }
   },
   "outputs": [
    {
     "name": "stdout",
     "output_type": "stream",
     "text": [
      "+-----------+----------------+--------------------+--------------------+-------------+--------------------+-----------------+--------------------+-------------+--------------------+---------+\n",
      "|source_name|  normalized_url|    review_source_id|  reviewer_source_id|   brand_name|        product_name|product_source_id|         review_date|review_rating|      review_content|sentiment|\n",
      "+-----------+----------------+--------------------+--------------------+-------------+--------------------+-----------------+--------------------+-------------+--------------------+---------+\n",
      "|     target|   starbucks.com|d3d3efbc-bf4e-4ba...|d557fbe7-d3d8-583...|    Starbucks|Starbucks Cold Br...|         78295214| 2020-02-13 13:24:35|          3.0|[This review was ...|     null|\n",
      "|     amazon|kohanacoffee.com|      R3P04HHDOI6BA9|amzn1.account.AE7...|Kohana Coffee|Kohana Cold Brew ...|       B017VSPMFG| 2018-10-11 00:00:00|          5.0|      Great coffee! | Positive|\n",
      "|     amazon|    stokbrew.com|      R2I7ZMUMA1OMVN|amzn1.account.AFZ...|         SToK|100 SToK Caffeina...|       B079RMGR4H| 2020-04-19 00:00:00|          5.0| Flavor could be ...| Positive|\n",
      "|     amazon|    stokbrew.com|       RW26HDMMPJLWD|amzn1.account.AG4...|         SToK|SToK Caffeinated ...|       B00MHTD46E| 2018-03-30 00:00:00|          5.0| Great to add to ...| Positive|\n",
      "|     amazon|    stokbrew.com|      R11I70C5E6NJK3|amzn1.account.AFG...|         SToK|SToK Caffeinated ...|       B00MHTD46E| 2015-11-05 00:00:00|          5.0| Found these at a...| Positive|\n",
      "|influenster|   starbucks.com|            74254180|             3320043|    Starbucks|Starbucks Cold Br...|          6143361|2021-02-03 22:34:...|          5.0|Delicious and so ...| Positive|\n",
      "|     amazon|    stokbrew.com|      R3HHQD9Z30MNWP|amzn1.account.AGU...|         SToK|SToK Cold-Brew Es...|       B00284TTG2| 2016-12-05 00:00:00|          4.0| I like this firs...|  Neutral|\n",
      "|     amazon|    stokbrew.com|      R2RSE2EL17IOAX|amzn1.account.AEW...|         SToK|SToK Cold-Brew Es...|       B00284TTG2| 2018-09-18 00:00:00|          5.0| I used to find t...| Positive|\n",
      "|    walmart|   starbucks.com|           216940436|              c35db3|    Starbucks|Starbucks Cold Br...|        580848342| 2020-02-02 00:00:00|          5.0|I absolutely love...| Positive|\n",
      "|influenster|   starbucks.com|            68950009|             8188266|    Starbucks|Starbucks Cold Br...|          6166980|2020-08-11 21:46:...|          5.0|Me encanta lo pue...| Positive|\n",
      "|     amazon|    stokbrew.com|      R3RMXBXV9UEVXW|amzn1.account.AHW...|         SToK|100 SToK Caffeina...|       B079RMGR4H| 2018-12-24 00:00:00|          5.0|          Love them | Positive|\n",
      "|     amazon|    stokbrew.com|       RQBUQLSV4IXLG|amzn1.account.AHV...|         SToK|100 SToK Caffeina...|       B079RMGR4H| 2018-12-13 00:00:00|          5.0|  This is my stuff! | Positive|\n",
      "|     amazon|   starbucks.com|      R2YXV27AU80BG9|amzn1.account.AFJ...|    Starbucks|Starbucks Cold Br...|       B084RLCL34| 2020-06-10 00:00:00|          1.0| I only received ...|     null|\n",
      "|     amazon| bizzycoffee.com|      R30GH2N73JR94Z|amzn1.account.AFM...|        Bizzy|Bizzy Organic Col...|       B06Y258M9M| 2017-09-08 00:00:00|          5.0| Love this produc...| Positive|\n",
      "|    walmart|   starbucks.com|           244092879|6473d4875ec015c0e...|    Starbucks|(1 Bottle) Starbu...|        892348301| 2020-11-24 00:00:00|          5.0|So tasty and afte...| Positive|\n",
      "|     amazon|    stokbrew.com|      R1LM94DL8JK9L0|amzn1.account.AE4...|         SToK|100 SToK Caffeina...|       B079RMGR4H| 2019-07-28 00:00:00|          5.0|       Coffee shots | Positive|\n",
      "|     amazon| bizzycoffee.com|       R94U94XOPWT0H|amzn1.account.AEC...|        Bizzy|Bizzy Organic Col...|       B079NB2DK7| 2020-08-09 00:00:00|          5.0| I have learned t...| Positive|\n",
      "|    walmart|   starbucks.com|           223085599|              d0d82f|    Starbucks|Starbucks Cold Br...|        719346563| 2020-07-29 00:00:00|          5.0|I recently had th...| Positive|\n",
      "|     target|   starbucks.com|0586f5e8-08d9-46b...|de63bcc4-9d92-541...|    Starbucks|Starbucks Cold Br...|         78295194| 2020-05-08 23:42:10|          1.0|This coffee is ab...|     null|\n",
      "|     amazon|    stokbrew.com|      R12PGCRVRQ4672|amzn1.account.AHG...|         SToK|SToK Caffeinated ...|       B00MHTD46E| 2017-02-14 00:00:00|          4.0| Didn't work as m...|  Neutral|\n",
      "+-----------+----------------+--------------------+--------------------+-------------+--------------------+-----------------+--------------------+-------------+--------------------+---------+\n",
      "only showing top 20 rows\n",
      "\n"
     ]
    }
   ],
   "source": [
    "brand_revs.filter(F.col('normalized_url').isin(NORMALIZED_URL_LI)).show()"
   ]
  },
  {
   "cell_type": "code",
   "execution_count": 15,
   "metadata": {
    "ExecuteTime": {
     "end_time": "2021-06-15T17:39:19.068748Z",
     "start_time": "2021-06-15T17:39:18.374435Z"
    }
   },
   "outputs": [],
   "source": [
    "brand_revs = (\n",
    "    brand_revs\n",
    "    .withColumn(\n",
    "        'sentiment',\n",
    "        (\n",
    "            F.when((F.col('review_rating')==5), F.lit('Positive'))\n",
    "            .otherwise(F.when(F.col('review_rating')==4, 'Neutral')\n",
    "                       .otherwise(F.when(F.col('review_rating').isin([1, 2, 3]), 'Negative')\n",
    "                                  .otherwise(F.lit(None)))) # had to do this as there are some review ratings not on 1-5 scale\n",
    "        )\n",
    "    )\n",
    ")\n",
    "\n",
    "brand_revs = brand_revs.withColumn(\n",
    "    'review_content', F.regexp_replace(\n",
    "        F.regexp_replace(\"review_text\", r\"(?i)<a\\s*[^>]*>\", \"\"), r\"(?i)<\\s*/\\s*a\\s*>\", \"\"\n",
    "    ).alias('review_content'))\n",
    "\n",
    "#brand_revs = brand_revs.filter(~brand_revs.normalized_url.isin(URL_BLACKLIST))"
   ]
  },
  {
   "cell_type": "code",
   "execution_count": 16,
   "metadata": {
    "ExecuteTime": {
     "end_time": "2021-06-15T17:39:25.196537Z",
     "start_time": "2021-06-15T17:39:21.511399Z"
    }
   },
   "outputs": [
    {
     "name": "stdout",
     "output_type": "stream",
     "text": [
      "+-----------+------------------+----------------+--------------------+-------------+--------------------+-----------------+-----------+-------------+--------------------+---------+--------------------+\n",
      "|source_name|    normalized_url|review_source_id|  reviewer_source_id|   brand_name|        product_name|product_source_id|review_date|review_rating|         review_text|sentiment|      review_content|\n",
      "+-----------+------------------+----------------+--------------------+-------------+--------------------+-----------------+-----------+-------------+--------------------+---------+--------------------+\n",
      "|     amazon|myserenitykids.com|               0|amzn1.account.AHE...|Serenity Kids|Style: Turmeric C...|                0|    1/30/21|            5|  this is a great...| Positive|  this is a great...|\n",
      "|     amazon|myserenitykids.com|               1|amzn1.account.AE7...|Serenity Kids|Style: Turkey Bol...|                1|    2/15/21|            4|  okay, all moms,...|  Neutral|  okay, all moms,...|\n",
      "|     amazon|myserenitykids.com|               2|amzn1.account.AGN...|Serenity Kids|Style: Turmeric C...|                2|    2/21/21|            5|  i absolutely lo...| Positive|  i absolutely lo...|\n",
      "|     amazon|myserenitykids.com|               3|amzn1.account.AH3...|Serenity Kids|Style: Turmeric C...|                3|     4/3/21|            5|  your browser do...| Positive|  your browser do...|\n",
      "|     amazon|myserenitykids.com|               4|amzn1.account.AGN...|Serenity Kids|Style: Turmeric C...|                4|    5/24/21|            5|  best baby and t...| Positive|  best baby and t...|\n",
      "|     amazon|myserenitykids.com|               5|amzn1.account.AES...|Serenity Kids|Style: Beef Pot R...|                5|     1/1/21|            2|  thank you seren...| Negative|  thank you seren...|\n",
      "|     amazon|myserenitykids.com|               6|amzn1.account.AG5...|Serenity Kids|Style: Turkey Bol...|                6|    4/26/21|            4|  the flavor is o...|  Neutral|  the flavor is o...|\n",
      "|     amazon|myserenitykids.com|               7|amzn1.account.AH2...|Serenity Kids|Style: Beef Pot R...|                7|     2/2/21|            5|  i think the fla...| Positive|  i think the fla...|\n",
      "|     amazon|myserenitykids.com|               8|amzn1.account.AHT...|Serenity Kids|Style: Beef Pot R...|                8|     4/2/21|            4|  so glad to have...|  Neutral|  so glad to have...|\n",
      "|     amazon|myserenitykids.com|               9|amzn1.account.AFJ...|Serenity Kids|Style: Beef Pot R...|                9|    2/27/21|            5|  these were a hi...| Positive|  these were a hi...|\n",
      "|     amazon|myserenitykids.com|              10|amzn1.account.AHT...|Serenity Kids|Style: Beef Pot R...|               10|     6/9/21|            5|  i love that i c...| Positive|  i love that i c...|\n",
      "|     amazon|myserenitykids.com|              11|amzn1.account.AHA...|Serenity Kids|Style: Turkey Bol...|               11|    2/16/21|            5|  i’ve been looki...| Positive|  i’ve been looki...|\n",
      "|     amazon|myserenitykids.com|              12|amzn1.account.AER...|Serenity Kids|Style: Turkey Bol...|               12|    3/16/21|            4|  my son really e...|  Neutral|  my son really e...|\n",
      "|     amazon|myserenitykids.com|              13|amzn1.account.AH2...|Serenity Kids|Style: Turmeric C...|               13|     6/5/21|            5|  i love the qual...| Positive|  i love the qual...|\n",
      "|     amazon|myserenitykids.com|              14|amzn1.account.AH7...|Serenity Kids|Style: Turkey Bol...|               14|    5/11/21|            2|  not the best fl...| Negative|  not the best fl...|\n",
      "|     amazon|myserenitykids.com|              15|amzn1.account.AFG...|Serenity Kids|Style: Turmeric C...|               15|    5/16/21|            5|  my daughter abs...| Positive|  my daughter abs...|\n",
      "|     amazon|myserenitykids.com|              16|amzn1.account.AFC...|Serenity Kids|Style: Beef Pot R...|               16|    4/22/21|            5|  loved this product| Positive|  loved this product|\n",
      "|     amazon|myserenitykids.com|              17|amzn1.account.AHW...|Serenity Kids|Style: Beef Pot R...|               17|    5/21/21|            5|  my kid loved it...| Positive|  my kid loved it...|\n",
      "|     amazon|myserenitykids.com|              18|amzn1.account.AGE...|Serenity Kids|Style: Turkey Bol...|               18|     4/8/21|            5|  just started in...| Positive|  just started in...|\n",
      "|     amazon|myserenitykids.com|              19|amzn1.account.AFM...|Serenity Kids|Style: Turmeric C...|               19|    4/14/21|            5|  love these for ...| Positive|  love these for ...|\n",
      "+-----------+------------------+----------------+--------------------+-------------+--------------------+-----------------+-----------+-------------+--------------------+---------+--------------------+\n",
      "only showing top 20 rows\n",
      "\n"
     ]
    }
   ],
   "source": [
    "brand_revs.show()"
   ]
  },
  {
   "cell_type": "code",
   "execution_count": 28,
   "metadata": {
    "ExecuteTime": {
     "end_time": "2021-06-08T20:59:39.732103Z",
     "start_time": "2021-06-08T20:59:39.670378Z"
    }
   },
   "outputs": [],
   "source": [
    "from pyspark.sql.window import Window\n",
    "from pyspark.sql.functions import rank, col\n",
    "window = Window.partitionBy(brand_revs['normalized_url']).orderBy(brand_revs['review_date'].desc())\n",
    "\n",
    "brand_revs_2k = brand_revs.select('*', F.row_number().over(window).alias('row_num')) .filter(col('row_num') <= 2000)"
   ]
  },
  {
   "cell_type": "code",
   "execution_count": 29,
   "metadata": {
    "ExecuteTime": {
     "end_time": "2021-06-08T21:00:08.191173Z",
     "start_time": "2021-06-08T20:59:52.410711Z"
    }
   },
   "outputs": [],
   "source": [
    "brand_revs_pdf = brand_revs.toPandas()\n",
    "brand_revs_pdf = brand_revs_pdf.sort_values('review_date',ascending = False).groupby('normalized_url').head(2000)"
   ]
  },
  {
   "cell_type": "code",
   "execution_count": 30,
   "metadata": {
    "ExecuteTime": {
     "end_time": "2021-06-08T21:00:46.259435Z",
     "start_time": "2021-06-08T21:00:44.693088Z"
    }
   },
   "outputs": [],
   "source": [
    "brand_revs = spark.createDataFrame(brand_revs_pdf)"
   ]
  },
  {
   "cell_type": "markdown",
   "metadata": {},
   "source": [
    "# Review Rating"
   ]
  },
  {
   "cell_type": "code",
   "execution_count": 70,
   "metadata": {
    "ExecuteTime": {
     "end_time": "2022-03-30T20:14:57.967181Z",
     "start_time": "2022-03-30T20:14:43.737884Z"
    }
   },
   "outputs": [],
   "source": [
    "rev_rating_sdf = (\n",
    "    brand_revs\n",
    "    .filter(F.col('review_rating').isin([1,2,3,4,5]))\n",
    "    .groupby('normalized_url', 'review_rating')\n",
    "    .agg(\n",
    "        F.countDistinct(F.concat(F.col('source_name'), F.col('review_source_id'))).alias('reviewer_count')\n",
    "    )\n",
    ")\n",
    "\n",
    "rev_rating_sdf_sum = rev_rating_sdf.groupBy('normalized_url').sum('reviewer_count').alias('reviewer_sum')\n",
    "\n",
    "rev_rating_sdf = rev_rating_sdf.join(rev_rating_sdf_sum, 'normalized_url')\n",
    "\n",
    "#rev_rating_sdf = rev_rating_sdf.filter(~rev_rating_sdf.normalized_url.isin(URL_BLACKLIST))\n",
    "rev_rating_sdf = rev_rating_sdf.orderBy(c.normalized_url)\n",
    "    \n",
    "rev_rating_pdf = rev_rating_sdf.toPandas()"
   ]
  },
  {
   "cell_type": "code",
   "execution_count": 71,
   "metadata": {
    "ExecuteTime": {
     "end_time": "2022-03-30T20:15:10.714001Z",
     "start_time": "2022-03-30T20:14:57.971155Z"
    }
   },
   "outputs": [
    {
     "name": "stdout",
     "output_type": "stream",
     "text": [
      "+-----------------+-------------+--------------+-------------------+\n",
      "|   normalized_url|review_rating|reviewer_count|sum(reviewer_count)|\n",
      "+-----------------+-------------+--------------+-------------------+\n",
      "|       cerave.com|          2.0|           771|              44890|\n",
      "|       cerave.com|          1.0|          1108|              44890|\n",
      "|       cerave.com|          5.0|         33742|              44890|\n",
      "|       cerave.com|          4.0|          7000|              44890|\n",
      "|       cerave.com|          3.0|          2269|              44890|\n",
      "|     cetaphil.com|          4.0|          5805|              29363|\n",
      "|     cetaphil.com|          1.0|           719|              29363|\n",
      "|     cetaphil.com|          5.0|         19830|              29363|\n",
      "|     cetaphil.com|          2.0|           763|              29363|\n",
      "|     cetaphil.com|          3.0|          2246|              29363|\n",
      "|cleanandclear.com|          1.0|          1190|              12369|\n",
      "|cleanandclear.com|          4.0|          2185|              12369|\n",
      "|cleanandclear.com|          5.0|          7891|              12369|\n",
      "|cleanandclear.com|          3.0|           680|              12369|\n",
      "|cleanandclear.com|          2.0|           423|              12369|\n",
      "|  hellobubble.com|          2.0|             7|               1394|\n",
      "|  hellobubble.com|          3.0|            22|               1394|\n",
      "|  hellobubble.com|          1.0|             5|               1394|\n",
      "|  hellobubble.com|          5.0|          1244|               1394|\n",
      "|  hellobubble.com|          4.0|           116|               1394|\n",
      "+-----------------+-------------+--------------+-------------------+\n",
      "only showing top 20 rows\n",
      "\n"
     ]
    }
   ],
   "source": [
    "rev_rating_sdf.show()"
   ]
  },
  {
   "cell_type": "code",
   "execution_count": 72,
   "metadata": {
    "ExecuteTime": {
     "end_time": "2022-03-30T20:17:04.460499Z",
     "start_time": "2022-03-30T20:17:04.434682Z"
    }
   },
   "outputs": [],
   "source": [
    "rev_rating_pdf['review_rating_frac'] = rev_rating_pdf['reviewer_count'] / rev_rating_pdf.groupby('normalized_url')['reviewer_count'].transform('sum')\n",
    "rev_rating_pdf['review_rating'] = rev_rating_pdf['review_rating'].astype(str)\n",
    "rev_rating_pdf = rev_rating_pdf.sort_values([\"review_rating\", \"review_rating_frac\"], ascending=[False, True])\n",
    "rev_rating_pdf['brand_name'] = rev_rating_pdf['normalized_url'].replace(brand_name_di)\n",
    "\n",
    "rev_rating_counts = rev_rating_sdf.groupBy('normalized_url').sum('reviewer_count')\n",
    "rev_rating_counts = rev_rating_counts.orderBy('normalized_url')"
   ]
  },
  {
   "cell_type": "code",
   "execution_count": 73,
   "metadata": {
    "ExecuteTime": {
     "end_time": "2022-03-30T20:17:17.562486Z",
     "start_time": "2022-03-30T20:17:04.634989Z"
    },
    "scrolled": true
   },
   "outputs": [
    {
     "data": {
      "text/plain": [
       "[Row(normalized_url='cerave.com', sum(reviewer_count)=44890),\n",
       " Row(normalized_url='cetaphil.com', sum(reviewer_count)=29363),\n",
       " Row(normalized_url='cleanandclear.com', sum(reviewer_count)=12369),\n",
       " Row(normalized_url='hellobubble.com', sum(reviewer_count)=1394),\n",
       " Row(normalized_url='neutrogena.com', sum(reviewer_count)=79221)]"
      ]
     },
     "execution_count": 73,
     "metadata": {},
     "output_type": "execute_result"
    }
   ],
   "source": [
    "rev_rating_counts.orderBy(c.normalized_url).collect()"
   ]
  },
  {
   "cell_type": "code",
   "execution_count": 74,
   "metadata": {
    "ExecuteTime": {
     "end_time": "2022-03-30T20:17:17.913779Z",
     "start_time": "2022-03-30T20:17:17.564944Z"
    },
    "scrolled": false
   },
   "outputs": [
    {
     "data": {
      "application/vnd.plotly.v1+json": {
       "config": {
        "plotlyServerURL": "https://plot.ly"
       },
       "data": [
        {
         "alignmentgroup": "True",
         "hoverlabel": {
          "namelength": 0
         },
         "hovertemplate": "Review Rating=5.0<br>Percent of Reviewers=%{x}<br>Brand=%{y}<br>Review Count=%{text}",
         "legendgroup": "5.0",
         "marker": {
          "color": "#fdca26"
         },
         "name": "5.0",
         "offsetgroup": "5.0",
         "orientation": "h",
         "showlegend": true,
         "text": [
          7891,
          53319,
          19830,
          33742,
          1244
         ],
         "textposition": "auto",
         "type": "bar",
         "x": [
          0.6379658824480556,
          0.6730412390653994,
          0.6753397132445594,
          0.751659612385832,
          0.8923959827833573
         ],
         "xaxis": "x",
         "y": [
          "Clean & Clear",
          "Neutrogena",
          "Cetaphil",
          "Cerave",
          "Bubble"
         ],
         "yaxis": "y"
        },
        {
         "alignmentgroup": "True",
         "hoverlabel": {
          "namelength": 0
         },
         "hovertemplate": "Review Rating=4.0<br>Percent of Reviewers=%{x}<br>Brand=%{y}<br>Review Count=%{text}",
         "legendgroup": "4.0",
         "marker": {
          "color": "#ed7953"
         },
         "name": "4.0",
         "offsetgroup": "4.0",
         "orientation": "h",
         "showlegend": true,
         "text": [
          116,
          7000,
          12401,
          2185,
          5805
         ],
         "textposition": "auto",
         "type": "bar",
         "x": [
          0.08321377331420372,
          0.1559367342392515,
          0.1565367768647202,
          0.17665130568356374,
          0.19769778292408813
         ],
         "xaxis": "x",
         "y": [
          "Bubble",
          "Cerave",
          "Neutrogena",
          "Clean & Clear",
          "Cetaphil"
         ],
         "yaxis": "y"
        },
        {
         "alignmentgroup": "True",
         "hoverlabel": {
          "namelength": 0
         },
         "hovertemplate": "Review Rating=3.0<br>Percent of Reviewers=%{x}<br>Brand=%{y}<br>Review Count=%{text}",
         "legendgroup": "3.0",
         "marker": {
          "color": "#bd3786"
         },
         "name": "3.0",
         "offsetgroup": "3.0",
         "orientation": "h",
         "showlegend": true,
         "text": [
          22,
          2269,
          4267,
          680,
          2246
         ],
         "textposition": "auto",
         "type": "bar",
         "x": [
          0.015781922525107604,
          0.05054577856983738,
          0.05386198104038071,
          0.05497615005255073,
          0.07649082178251541
         ],
         "xaxis": "x",
         "y": [
          "Bubble",
          "Cerave",
          "Neutrogena",
          "Clean & Clear",
          "Cetaphil"
         ],
         "yaxis": "y"
        },
        {
         "alignmentgroup": "True",
         "hoverlabel": {
          "namelength": 0
         },
         "hovertemplate": "Review Rating=2.0<br>Percent of Reviewers=%{x}<br>Brand=%{y}<br>Review Count=%{text}",
         "legendgroup": "2.0",
         "marker": {
          "color": "#7201a8"
         },
         "name": "2.0",
         "offsetgroup": "2.0",
         "orientation": "h",
         "showlegend": true,
         "text": [
          7,
          771,
          763,
          2692,
          423
         ],
         "textposition": "auto",
         "type": "bar",
         "x": [
          0.005021520803443328,
          0.017175317442637558,
          0.025985083268058443,
          0.033980888905719445,
          0.03419839922386612
         ],
         "xaxis": "x",
         "y": [
          "Bubble",
          "Cerave",
          "Cetaphil",
          "Neutrogena",
          "Clean & Clear"
         ],
         "yaxis": "y"
        },
        {
         "alignmentgroup": "True",
         "hoverlabel": {
          "namelength": 0
         },
         "hovertemplate": "Review Rating=1.0<br>Percent of Reviewers=%{x}<br>Brand=%{y}<br>Review Count=%{text}",
         "legendgroup": "1.0",
         "marker": {
          "color": "#0d0887"
         },
         "name": "1.0",
         "offsetgroup": "1.0",
         "orientation": "h",
         "showlegend": true,
         "text": [
          5,
          719,
          1108,
          6542,
          1190
         ],
         "textposition": "auto",
         "type": "bar",
         "x": [
          0.003586800573888092,
          0.02448659878077853,
          0.024682557362441522,
          0.08257911412378031,
          0.09620826259196379
         ],
         "xaxis": "x",
         "y": [
          "Bubble",
          "Cetaphil",
          "Cerave",
          "Neutrogena",
          "Clean & Clear"
         ],
         "yaxis": "y"
        }
       ],
       "layout": {
        "barmode": "relative",
        "font": {
         "color": "#313131",
         "family": "Muli, AppleGothic, Futura, sans-serif",
         "size": 18
        },
        "height": 800,
        "legend": {
         "title": {
          "text": "Review Rating"
         },
         "tracegroupgap": 0
        },
        "plot_bgcolor": "white",
        "template": {
         "data": {
          "bar": [
           {
            "error_x": {
             "color": "#2a3f5f"
            },
            "error_y": {
             "color": "#2a3f5f"
            },
            "marker": {
             "line": {
              "color": "#E5ECF6",
              "width": 0.5
             }
            },
            "type": "bar"
           }
          ],
          "barpolar": [
           {
            "marker": {
             "line": {
              "color": "#E5ECF6",
              "width": 0.5
             }
            },
            "type": "barpolar"
           }
          ],
          "carpet": [
           {
            "aaxis": {
             "endlinecolor": "#2a3f5f",
             "gridcolor": "white",
             "linecolor": "white",
             "minorgridcolor": "white",
             "startlinecolor": "#2a3f5f"
            },
            "baxis": {
             "endlinecolor": "#2a3f5f",
             "gridcolor": "white",
             "linecolor": "white",
             "minorgridcolor": "white",
             "startlinecolor": "#2a3f5f"
            },
            "type": "carpet"
           }
          ],
          "choropleth": [
           {
            "colorbar": {
             "outlinewidth": 0,
             "ticks": ""
            },
            "type": "choropleth"
           }
          ],
          "contour": [
           {
            "colorbar": {
             "outlinewidth": 0,
             "ticks": ""
            },
            "colorscale": [
             [
              0,
              "#0d0887"
             ],
             [
              0.1111111111111111,
              "#46039f"
             ],
             [
              0.2222222222222222,
              "#7201a8"
             ],
             [
              0.3333333333333333,
              "#9c179e"
             ],
             [
              0.4444444444444444,
              "#bd3786"
             ],
             [
              0.5555555555555556,
              "#d8576b"
             ],
             [
              0.6666666666666666,
              "#ed7953"
             ],
             [
              0.7777777777777778,
              "#fb9f3a"
             ],
             [
              0.8888888888888888,
              "#fdca26"
             ],
             [
              1,
              "#f0f921"
             ]
            ],
            "type": "contour"
           }
          ],
          "contourcarpet": [
           {
            "colorbar": {
             "outlinewidth": 0,
             "ticks": ""
            },
            "type": "contourcarpet"
           }
          ],
          "heatmap": [
           {
            "colorbar": {
             "outlinewidth": 0,
             "ticks": ""
            },
            "colorscale": [
             [
              0,
              "#0d0887"
             ],
             [
              0.1111111111111111,
              "#46039f"
             ],
             [
              0.2222222222222222,
              "#7201a8"
             ],
             [
              0.3333333333333333,
              "#9c179e"
             ],
             [
              0.4444444444444444,
              "#bd3786"
             ],
             [
              0.5555555555555556,
              "#d8576b"
             ],
             [
              0.6666666666666666,
              "#ed7953"
             ],
             [
              0.7777777777777778,
              "#fb9f3a"
             ],
             [
              0.8888888888888888,
              "#fdca26"
             ],
             [
              1,
              "#f0f921"
             ]
            ],
            "type": "heatmap"
           }
          ],
          "heatmapgl": [
           {
            "colorbar": {
             "outlinewidth": 0,
             "ticks": ""
            },
            "colorscale": [
             [
              0,
              "#0d0887"
             ],
             [
              0.1111111111111111,
              "#46039f"
             ],
             [
              0.2222222222222222,
              "#7201a8"
             ],
             [
              0.3333333333333333,
              "#9c179e"
             ],
             [
              0.4444444444444444,
              "#bd3786"
             ],
             [
              0.5555555555555556,
              "#d8576b"
             ],
             [
              0.6666666666666666,
              "#ed7953"
             ],
             [
              0.7777777777777778,
              "#fb9f3a"
             ],
             [
              0.8888888888888888,
              "#fdca26"
             ],
             [
              1,
              "#f0f921"
             ]
            ],
            "type": "heatmapgl"
           }
          ],
          "histogram": [
           {
            "marker": {
             "colorbar": {
              "outlinewidth": 0,
              "ticks": ""
             }
            },
            "type": "histogram"
           }
          ],
          "histogram2d": [
           {
            "colorbar": {
             "outlinewidth": 0,
             "ticks": ""
            },
            "colorscale": [
             [
              0,
              "#0d0887"
             ],
             [
              0.1111111111111111,
              "#46039f"
             ],
             [
              0.2222222222222222,
              "#7201a8"
             ],
             [
              0.3333333333333333,
              "#9c179e"
             ],
             [
              0.4444444444444444,
              "#bd3786"
             ],
             [
              0.5555555555555556,
              "#d8576b"
             ],
             [
              0.6666666666666666,
              "#ed7953"
             ],
             [
              0.7777777777777778,
              "#fb9f3a"
             ],
             [
              0.8888888888888888,
              "#fdca26"
             ],
             [
              1,
              "#f0f921"
             ]
            ],
            "type": "histogram2d"
           }
          ],
          "histogram2dcontour": [
           {
            "colorbar": {
             "outlinewidth": 0,
             "ticks": ""
            },
            "colorscale": [
             [
              0,
              "#0d0887"
             ],
             [
              0.1111111111111111,
              "#46039f"
             ],
             [
              0.2222222222222222,
              "#7201a8"
             ],
             [
              0.3333333333333333,
              "#9c179e"
             ],
             [
              0.4444444444444444,
              "#bd3786"
             ],
             [
              0.5555555555555556,
              "#d8576b"
             ],
             [
              0.6666666666666666,
              "#ed7953"
             ],
             [
              0.7777777777777778,
              "#fb9f3a"
             ],
             [
              0.8888888888888888,
              "#fdca26"
             ],
             [
              1,
              "#f0f921"
             ]
            ],
            "type": "histogram2dcontour"
           }
          ],
          "mesh3d": [
           {
            "colorbar": {
             "outlinewidth": 0,
             "ticks": ""
            },
            "type": "mesh3d"
           }
          ],
          "parcoords": [
           {
            "line": {
             "colorbar": {
              "outlinewidth": 0,
              "ticks": ""
             }
            },
            "type": "parcoords"
           }
          ],
          "pie": [
           {
            "automargin": true,
            "type": "pie"
           }
          ],
          "scatter": [
           {
            "marker": {
             "colorbar": {
              "outlinewidth": 0,
              "ticks": ""
             }
            },
            "type": "scatter"
           }
          ],
          "scatter3d": [
           {
            "line": {
             "colorbar": {
              "outlinewidth": 0,
              "ticks": ""
             }
            },
            "marker": {
             "colorbar": {
              "outlinewidth": 0,
              "ticks": ""
             }
            },
            "type": "scatter3d"
           }
          ],
          "scattercarpet": [
           {
            "marker": {
             "colorbar": {
              "outlinewidth": 0,
              "ticks": ""
             }
            },
            "type": "scattercarpet"
           }
          ],
          "scattergeo": [
           {
            "marker": {
             "colorbar": {
              "outlinewidth": 0,
              "ticks": ""
             }
            },
            "type": "scattergeo"
           }
          ],
          "scattergl": [
           {
            "marker": {
             "colorbar": {
              "outlinewidth": 0,
              "ticks": ""
             }
            },
            "type": "scattergl"
           }
          ],
          "scattermapbox": [
           {
            "marker": {
             "colorbar": {
              "outlinewidth": 0,
              "ticks": ""
             }
            },
            "type": "scattermapbox"
           }
          ],
          "scatterpolar": [
           {
            "marker": {
             "colorbar": {
              "outlinewidth": 0,
              "ticks": ""
             }
            },
            "type": "scatterpolar"
           }
          ],
          "scatterpolargl": [
           {
            "marker": {
             "colorbar": {
              "outlinewidth": 0,
              "ticks": ""
             }
            },
            "type": "scatterpolargl"
           }
          ],
          "scatterternary": [
           {
            "marker": {
             "colorbar": {
              "outlinewidth": 0,
              "ticks": ""
             }
            },
            "type": "scatterternary"
           }
          ],
          "surface": [
           {
            "colorbar": {
             "outlinewidth": 0,
             "ticks": ""
            },
            "colorscale": [
             [
              0,
              "#0d0887"
             ],
             [
              0.1111111111111111,
              "#46039f"
             ],
             [
              0.2222222222222222,
              "#7201a8"
             ],
             [
              0.3333333333333333,
              "#9c179e"
             ],
             [
              0.4444444444444444,
              "#bd3786"
             ],
             [
              0.5555555555555556,
              "#d8576b"
             ],
             [
              0.6666666666666666,
              "#ed7953"
             ],
             [
              0.7777777777777778,
              "#fb9f3a"
             ],
             [
              0.8888888888888888,
              "#fdca26"
             ],
             [
              1,
              "#f0f921"
             ]
            ],
            "type": "surface"
           }
          ],
          "table": [
           {
            "cells": {
             "fill": {
              "color": "#EBF0F8"
             },
             "line": {
              "color": "white"
             }
            },
            "header": {
             "fill": {
              "color": "#C8D4E3"
             },
             "line": {
              "color": "white"
             }
            },
            "type": "table"
           }
          ]
         },
         "layout": {
          "annotationdefaults": {
           "arrowcolor": "#2a3f5f",
           "arrowhead": 0,
           "arrowwidth": 1
          },
          "coloraxis": {
           "colorbar": {
            "outlinewidth": 0,
            "ticks": ""
           }
          },
          "colorscale": {
           "diverging": [
            [
             0,
             "#8e0152"
            ],
            [
             0.1,
             "#c51b7d"
            ],
            [
             0.2,
             "#de77ae"
            ],
            [
             0.3,
             "#f1b6da"
            ],
            [
             0.4,
             "#fde0ef"
            ],
            [
             0.5,
             "#f7f7f7"
            ],
            [
             0.6,
             "#e6f5d0"
            ],
            [
             0.7,
             "#b8e186"
            ],
            [
             0.8,
             "#7fbc41"
            ],
            [
             0.9,
             "#4d9221"
            ],
            [
             1,
             "#276419"
            ]
           ],
           "sequential": [
            [
             0,
             "#0d0887"
            ],
            [
             0.1111111111111111,
             "#46039f"
            ],
            [
             0.2222222222222222,
             "#7201a8"
            ],
            [
             0.3333333333333333,
             "#9c179e"
            ],
            [
             0.4444444444444444,
             "#bd3786"
            ],
            [
             0.5555555555555556,
             "#d8576b"
            ],
            [
             0.6666666666666666,
             "#ed7953"
            ],
            [
             0.7777777777777778,
             "#fb9f3a"
            ],
            [
             0.8888888888888888,
             "#fdca26"
            ],
            [
             1,
             "#f0f921"
            ]
           ],
           "sequentialminus": [
            [
             0,
             "#0d0887"
            ],
            [
             0.1111111111111111,
             "#46039f"
            ],
            [
             0.2222222222222222,
             "#7201a8"
            ],
            [
             0.3333333333333333,
             "#9c179e"
            ],
            [
             0.4444444444444444,
             "#bd3786"
            ],
            [
             0.5555555555555556,
             "#d8576b"
            ],
            [
             0.6666666666666666,
             "#ed7953"
            ],
            [
             0.7777777777777778,
             "#fb9f3a"
            ],
            [
             0.8888888888888888,
             "#fdca26"
            ],
            [
             1,
             "#f0f921"
            ]
           ]
          },
          "colorway": [
           "#636efa",
           "#EF553B",
           "#00cc96",
           "#ab63fa",
           "#FFA15A",
           "#19d3f3",
           "#FF6692",
           "#B6E880",
           "#FF97FF",
           "#FECB52"
          ],
          "font": {
           "color": "#2a3f5f"
          },
          "geo": {
           "bgcolor": "white",
           "lakecolor": "white",
           "landcolor": "#E5ECF6",
           "showlakes": true,
           "showland": true,
           "subunitcolor": "white"
          },
          "hoverlabel": {
           "align": "left"
          },
          "hovermode": "closest",
          "mapbox": {
           "style": "light"
          },
          "paper_bgcolor": "white",
          "plot_bgcolor": "#E5ECF6",
          "polar": {
           "angularaxis": {
            "gridcolor": "white",
            "linecolor": "white",
            "ticks": ""
           },
           "bgcolor": "#E5ECF6",
           "radialaxis": {
            "gridcolor": "white",
            "linecolor": "white",
            "ticks": ""
           }
          },
          "scene": {
           "xaxis": {
            "backgroundcolor": "#E5ECF6",
            "gridcolor": "white",
            "gridwidth": 2,
            "linecolor": "white",
            "showbackground": true,
            "ticks": "",
            "zerolinecolor": "white"
           },
           "yaxis": {
            "backgroundcolor": "#E5ECF6",
            "gridcolor": "white",
            "gridwidth": 2,
            "linecolor": "white",
            "showbackground": true,
            "ticks": "",
            "zerolinecolor": "white"
           },
           "zaxis": {
            "backgroundcolor": "#E5ECF6",
            "gridcolor": "white",
            "gridwidth": 2,
            "linecolor": "white",
            "showbackground": true,
            "ticks": "",
            "zerolinecolor": "white"
           }
          },
          "shapedefaults": {
           "line": {
            "color": "#2a3f5f"
           }
          },
          "ternary": {
           "aaxis": {
            "gridcolor": "white",
            "linecolor": "white",
            "ticks": ""
           },
           "baxis": {
            "gridcolor": "white",
            "linecolor": "white",
            "ticks": ""
           },
           "bgcolor": "#E5ECF6",
           "caxis": {
            "gridcolor": "white",
            "linecolor": "white",
            "ticks": ""
           }
          },
          "title": {
           "x": 0.05
          },
          "xaxis": {
           "automargin": true,
           "gridcolor": "white",
           "linecolor": "white",
           "ticks": "",
           "title": {
            "standoff": 15
           },
           "zerolinecolor": "white",
           "zerolinewidth": 2
          },
          "yaxis": {
           "automargin": true,
           "gridcolor": "white",
           "linecolor": "white",
           "ticks": "",
           "title": {
            "standoff": 15
           },
           "zerolinecolor": "white",
           "zerolinewidth": 2
          }
         }
        },
        "title": {
         "text": "Review Rating Distributions for ['Bubble', 'Neutrogena', 'Cerave', 'Cetaphil', 'Clean & Clear']",
         "x": 0.5
        },
        "width": 1450,
        "xaxis": {
         "anchor": "y",
         "domain": [
          0,
          1
         ],
         "tickformat": ".0%",
         "title": {
          "text": "Percent of Reviewers"
         }
        },
        "yaxis": {
         "anchor": "x",
         "categoryorder": "total descending",
         "domain": [
          0,
          1
         ],
         "title": {
          "text": "Brand"
         }
        }
       }
      },
      "text/html": [
       "<div>\n",
       "        \n",
       "        \n",
       "            <div id=\"00ae53cf-363e-4c1e-b9ed-472fb4e55685\" class=\"plotly-graph-div\" style=\"height:800px; width:1450px;\"></div>\n",
       "            <script type=\"text/javascript\">\n",
       "                require([\"plotly\"], function(Plotly) {\n",
       "                    window.PLOTLYENV=window.PLOTLYENV || {};\n",
       "                    \n",
       "                if (document.getElementById(\"00ae53cf-363e-4c1e-b9ed-472fb4e55685\")) {\n",
       "                    Plotly.newPlot(\n",
       "                        '00ae53cf-363e-4c1e-b9ed-472fb4e55685',\n",
       "                        [{\"alignmentgroup\": \"True\", \"hoverlabel\": {\"namelength\": 0}, \"hovertemplate\": \"Review Rating=5.0<br>Percent of Reviewers=%{x}<br>Brand=%{y}<br>Review Count=%{text}\", \"legendgroup\": \"5.0\", \"marker\": {\"color\": \"#fdca26\"}, \"name\": \"5.0\", \"offsetgroup\": \"5.0\", \"orientation\": \"h\", \"showlegend\": true, \"text\": [7891.0, 53319.0, 19830.0, 33742.0, 1244.0], \"textposition\": \"auto\", \"type\": \"bar\", \"x\": [0.6379658824480556, 0.6730412390653994, 0.6753397132445594, 0.751659612385832, 0.8923959827833573], \"xaxis\": \"x\", \"y\": [\"Clean & Clear\", \"Neutrogena\", \"Cetaphil\", \"Cerave\", \"Bubble\"], \"yaxis\": \"y\"}, {\"alignmentgroup\": \"True\", \"hoverlabel\": {\"namelength\": 0}, \"hovertemplate\": \"Review Rating=4.0<br>Percent of Reviewers=%{x}<br>Brand=%{y}<br>Review Count=%{text}\", \"legendgroup\": \"4.0\", \"marker\": {\"color\": \"#ed7953\"}, \"name\": \"4.0\", \"offsetgroup\": \"4.0\", \"orientation\": \"h\", \"showlegend\": true, \"text\": [116.0, 7000.0, 12401.0, 2185.0, 5805.0], \"textposition\": \"auto\", \"type\": \"bar\", \"x\": [0.08321377331420372, 0.1559367342392515, 0.1565367768647202, 0.17665130568356374, 0.19769778292408813], \"xaxis\": \"x\", \"y\": [\"Bubble\", \"Cerave\", \"Neutrogena\", \"Clean & Clear\", \"Cetaphil\"], \"yaxis\": \"y\"}, {\"alignmentgroup\": \"True\", \"hoverlabel\": {\"namelength\": 0}, \"hovertemplate\": \"Review Rating=3.0<br>Percent of Reviewers=%{x}<br>Brand=%{y}<br>Review Count=%{text}\", \"legendgroup\": \"3.0\", \"marker\": {\"color\": \"#bd3786\"}, \"name\": \"3.0\", \"offsetgroup\": \"3.0\", \"orientation\": \"h\", \"showlegend\": true, \"text\": [22.0, 2269.0, 4267.0, 680.0, 2246.0], \"textposition\": \"auto\", \"type\": \"bar\", \"x\": [0.015781922525107604, 0.05054577856983738, 0.05386198104038071, 0.05497615005255073, 0.07649082178251541], \"xaxis\": \"x\", \"y\": [\"Bubble\", \"Cerave\", \"Neutrogena\", \"Clean & Clear\", \"Cetaphil\"], \"yaxis\": \"y\"}, {\"alignmentgroup\": \"True\", \"hoverlabel\": {\"namelength\": 0}, \"hovertemplate\": \"Review Rating=2.0<br>Percent of Reviewers=%{x}<br>Brand=%{y}<br>Review Count=%{text}\", \"legendgroup\": \"2.0\", \"marker\": {\"color\": \"#7201a8\"}, \"name\": \"2.0\", \"offsetgroup\": \"2.0\", \"orientation\": \"h\", \"showlegend\": true, \"text\": [7.0, 771.0, 763.0, 2692.0, 423.0], \"textposition\": \"auto\", \"type\": \"bar\", \"x\": [0.005021520803443328, 0.017175317442637558, 0.025985083268058443, 0.033980888905719445, 0.03419839922386612], \"xaxis\": \"x\", \"y\": [\"Bubble\", \"Cerave\", \"Cetaphil\", \"Neutrogena\", \"Clean & Clear\"], \"yaxis\": \"y\"}, {\"alignmentgroup\": \"True\", \"hoverlabel\": {\"namelength\": 0}, \"hovertemplate\": \"Review Rating=1.0<br>Percent of Reviewers=%{x}<br>Brand=%{y}<br>Review Count=%{text}\", \"legendgroup\": \"1.0\", \"marker\": {\"color\": \"#0d0887\"}, \"name\": \"1.0\", \"offsetgroup\": \"1.0\", \"orientation\": \"h\", \"showlegend\": true, \"text\": [5.0, 719.0, 1108.0, 6542.0, 1190.0], \"textposition\": \"auto\", \"type\": \"bar\", \"x\": [0.003586800573888092, 0.02448659878077853, 0.024682557362441522, 0.08257911412378031, 0.09620826259196379], \"xaxis\": \"x\", \"y\": [\"Bubble\", \"Cetaphil\", \"Cerave\", \"Neutrogena\", \"Clean & Clear\"], \"yaxis\": \"y\"}],\n",
       "                        {\"barmode\": \"relative\", \"font\": {\"color\": \"#313131\", \"family\": \"Muli, AppleGothic, Futura, sans-serif\", \"size\": 18}, \"height\": 800, \"legend\": {\"title\": {\"text\": \"Review Rating\"}, \"tracegroupgap\": 0}, \"plot_bgcolor\": \"white\", \"template\": {\"data\": {\"bar\": [{\"error_x\": {\"color\": \"#2a3f5f\"}, \"error_y\": {\"color\": \"#2a3f5f\"}, \"marker\": {\"line\": {\"color\": \"#E5ECF6\", \"width\": 0.5}}, \"type\": \"bar\"}], \"barpolar\": [{\"marker\": {\"line\": {\"color\": \"#E5ECF6\", \"width\": 0.5}}, \"type\": \"barpolar\"}], \"carpet\": [{\"aaxis\": {\"endlinecolor\": \"#2a3f5f\", \"gridcolor\": \"white\", \"linecolor\": \"white\", \"minorgridcolor\": \"white\", \"startlinecolor\": \"#2a3f5f\"}, \"baxis\": {\"endlinecolor\": \"#2a3f5f\", \"gridcolor\": \"white\", \"linecolor\": \"white\", \"minorgridcolor\": \"white\", \"startlinecolor\": \"#2a3f5f\"}, \"type\": \"carpet\"}], \"choropleth\": [{\"colorbar\": {\"outlinewidth\": 0, \"ticks\": \"\"}, \"type\": \"choropleth\"}], \"contour\": [{\"colorbar\": {\"outlinewidth\": 0, \"ticks\": \"\"}, \"colorscale\": [[0.0, \"#0d0887\"], [0.1111111111111111, \"#46039f\"], [0.2222222222222222, \"#7201a8\"], [0.3333333333333333, \"#9c179e\"], [0.4444444444444444, \"#bd3786\"], [0.5555555555555556, \"#d8576b\"], [0.6666666666666666, \"#ed7953\"], [0.7777777777777778, \"#fb9f3a\"], [0.8888888888888888, \"#fdca26\"], [1.0, \"#f0f921\"]], \"type\": \"contour\"}], \"contourcarpet\": [{\"colorbar\": {\"outlinewidth\": 0, \"ticks\": \"\"}, \"type\": \"contourcarpet\"}], \"heatmap\": [{\"colorbar\": {\"outlinewidth\": 0, \"ticks\": \"\"}, \"colorscale\": [[0.0, \"#0d0887\"], [0.1111111111111111, \"#46039f\"], [0.2222222222222222, \"#7201a8\"], [0.3333333333333333, \"#9c179e\"], [0.4444444444444444, \"#bd3786\"], [0.5555555555555556, \"#d8576b\"], [0.6666666666666666, \"#ed7953\"], [0.7777777777777778, \"#fb9f3a\"], [0.8888888888888888, \"#fdca26\"], [1.0, \"#f0f921\"]], \"type\": \"heatmap\"}], \"heatmapgl\": [{\"colorbar\": {\"outlinewidth\": 0, \"ticks\": \"\"}, \"colorscale\": [[0.0, \"#0d0887\"], [0.1111111111111111, \"#46039f\"], [0.2222222222222222, \"#7201a8\"], [0.3333333333333333, \"#9c179e\"], [0.4444444444444444, \"#bd3786\"], [0.5555555555555556, \"#d8576b\"], [0.6666666666666666, \"#ed7953\"], [0.7777777777777778, \"#fb9f3a\"], [0.8888888888888888, \"#fdca26\"], [1.0, \"#f0f921\"]], \"type\": \"heatmapgl\"}], \"histogram\": [{\"marker\": {\"colorbar\": {\"outlinewidth\": 0, \"ticks\": \"\"}}, \"type\": \"histogram\"}], \"histogram2d\": [{\"colorbar\": {\"outlinewidth\": 0, \"ticks\": \"\"}, \"colorscale\": [[0.0, \"#0d0887\"], [0.1111111111111111, \"#46039f\"], [0.2222222222222222, \"#7201a8\"], [0.3333333333333333, \"#9c179e\"], [0.4444444444444444, \"#bd3786\"], [0.5555555555555556, \"#d8576b\"], [0.6666666666666666, \"#ed7953\"], [0.7777777777777778, \"#fb9f3a\"], [0.8888888888888888, \"#fdca26\"], [1.0, \"#f0f921\"]], \"type\": \"histogram2d\"}], \"histogram2dcontour\": [{\"colorbar\": {\"outlinewidth\": 0, \"ticks\": \"\"}, \"colorscale\": [[0.0, \"#0d0887\"], [0.1111111111111111, \"#46039f\"], [0.2222222222222222, \"#7201a8\"], [0.3333333333333333, \"#9c179e\"], [0.4444444444444444, \"#bd3786\"], [0.5555555555555556, \"#d8576b\"], [0.6666666666666666, \"#ed7953\"], [0.7777777777777778, \"#fb9f3a\"], [0.8888888888888888, \"#fdca26\"], [1.0, \"#f0f921\"]], \"type\": \"histogram2dcontour\"}], \"mesh3d\": [{\"colorbar\": {\"outlinewidth\": 0, \"ticks\": \"\"}, \"type\": \"mesh3d\"}], \"parcoords\": [{\"line\": {\"colorbar\": {\"outlinewidth\": 0, \"ticks\": \"\"}}, \"type\": \"parcoords\"}], \"pie\": [{\"automargin\": true, \"type\": \"pie\"}], \"scatter\": [{\"marker\": {\"colorbar\": {\"outlinewidth\": 0, \"ticks\": \"\"}}, \"type\": \"scatter\"}], \"scatter3d\": [{\"line\": {\"colorbar\": {\"outlinewidth\": 0, \"ticks\": \"\"}}, \"marker\": {\"colorbar\": {\"outlinewidth\": 0, \"ticks\": \"\"}}, \"type\": \"scatter3d\"}], \"scattercarpet\": [{\"marker\": {\"colorbar\": {\"outlinewidth\": 0, \"ticks\": \"\"}}, \"type\": \"scattercarpet\"}], \"scattergeo\": [{\"marker\": {\"colorbar\": {\"outlinewidth\": 0, \"ticks\": \"\"}}, \"type\": \"scattergeo\"}], \"scattergl\": [{\"marker\": {\"colorbar\": {\"outlinewidth\": 0, \"ticks\": \"\"}}, \"type\": \"scattergl\"}], \"scattermapbox\": [{\"marker\": {\"colorbar\": {\"outlinewidth\": 0, \"ticks\": \"\"}}, \"type\": \"scattermapbox\"}], \"scatterpolar\": [{\"marker\": {\"colorbar\": {\"outlinewidth\": 0, \"ticks\": \"\"}}, \"type\": \"scatterpolar\"}], \"scatterpolargl\": [{\"marker\": {\"colorbar\": {\"outlinewidth\": 0, \"ticks\": \"\"}}, \"type\": \"scatterpolargl\"}], \"scatterternary\": [{\"marker\": {\"colorbar\": {\"outlinewidth\": 0, \"ticks\": \"\"}}, \"type\": \"scatterternary\"}], \"surface\": [{\"colorbar\": {\"outlinewidth\": 0, \"ticks\": \"\"}, \"colorscale\": [[0.0, \"#0d0887\"], [0.1111111111111111, \"#46039f\"], [0.2222222222222222, \"#7201a8\"], [0.3333333333333333, \"#9c179e\"], [0.4444444444444444, \"#bd3786\"], [0.5555555555555556, \"#d8576b\"], [0.6666666666666666, \"#ed7953\"], [0.7777777777777778, \"#fb9f3a\"], [0.8888888888888888, \"#fdca26\"], [1.0, \"#f0f921\"]], \"type\": \"surface\"}], \"table\": [{\"cells\": {\"fill\": {\"color\": \"#EBF0F8\"}, \"line\": {\"color\": \"white\"}}, \"header\": {\"fill\": {\"color\": \"#C8D4E3\"}, \"line\": {\"color\": \"white\"}}, \"type\": \"table\"}]}, \"layout\": {\"annotationdefaults\": {\"arrowcolor\": \"#2a3f5f\", \"arrowhead\": 0, \"arrowwidth\": 1}, \"coloraxis\": {\"colorbar\": {\"outlinewidth\": 0, \"ticks\": \"\"}}, \"colorscale\": {\"diverging\": [[0, \"#8e0152\"], [0.1, \"#c51b7d\"], [0.2, \"#de77ae\"], [0.3, \"#f1b6da\"], [0.4, \"#fde0ef\"], [0.5, \"#f7f7f7\"], [0.6, \"#e6f5d0\"], [0.7, \"#b8e186\"], [0.8, \"#7fbc41\"], [0.9, \"#4d9221\"], [1, \"#276419\"]], \"sequential\": [[0.0, \"#0d0887\"], [0.1111111111111111, \"#46039f\"], [0.2222222222222222, \"#7201a8\"], [0.3333333333333333, \"#9c179e\"], [0.4444444444444444, \"#bd3786\"], [0.5555555555555556, \"#d8576b\"], [0.6666666666666666, \"#ed7953\"], [0.7777777777777778, \"#fb9f3a\"], [0.8888888888888888, \"#fdca26\"], [1.0, \"#f0f921\"]], \"sequentialminus\": [[0.0, \"#0d0887\"], [0.1111111111111111, \"#46039f\"], [0.2222222222222222, \"#7201a8\"], [0.3333333333333333, \"#9c179e\"], [0.4444444444444444, \"#bd3786\"], [0.5555555555555556, \"#d8576b\"], [0.6666666666666666, \"#ed7953\"], [0.7777777777777778, \"#fb9f3a\"], [0.8888888888888888, \"#fdca26\"], [1.0, \"#f0f921\"]]}, \"colorway\": [\"#636efa\", \"#EF553B\", \"#00cc96\", \"#ab63fa\", \"#FFA15A\", \"#19d3f3\", \"#FF6692\", \"#B6E880\", \"#FF97FF\", \"#FECB52\"], \"font\": {\"color\": \"#2a3f5f\"}, \"geo\": {\"bgcolor\": \"white\", \"lakecolor\": \"white\", \"landcolor\": \"#E5ECF6\", \"showlakes\": true, \"showland\": true, \"subunitcolor\": \"white\"}, \"hoverlabel\": {\"align\": \"left\"}, \"hovermode\": \"closest\", \"mapbox\": {\"style\": \"light\"}, \"paper_bgcolor\": \"white\", \"plot_bgcolor\": \"#E5ECF6\", \"polar\": {\"angularaxis\": {\"gridcolor\": \"white\", \"linecolor\": \"white\", \"ticks\": \"\"}, \"bgcolor\": \"#E5ECF6\", \"radialaxis\": {\"gridcolor\": \"white\", \"linecolor\": \"white\", \"ticks\": \"\"}}, \"scene\": {\"xaxis\": {\"backgroundcolor\": \"#E5ECF6\", \"gridcolor\": \"white\", \"gridwidth\": 2, \"linecolor\": \"white\", \"showbackground\": true, \"ticks\": \"\", \"zerolinecolor\": \"white\"}, \"yaxis\": {\"backgroundcolor\": \"#E5ECF6\", \"gridcolor\": \"white\", \"gridwidth\": 2, \"linecolor\": \"white\", \"showbackground\": true, \"ticks\": \"\", \"zerolinecolor\": \"white\"}, \"zaxis\": {\"backgroundcolor\": \"#E5ECF6\", \"gridcolor\": \"white\", \"gridwidth\": 2, \"linecolor\": \"white\", \"showbackground\": true, \"ticks\": \"\", \"zerolinecolor\": \"white\"}}, \"shapedefaults\": {\"line\": {\"color\": \"#2a3f5f\"}}, \"ternary\": {\"aaxis\": {\"gridcolor\": \"white\", \"linecolor\": \"white\", \"ticks\": \"\"}, \"baxis\": {\"gridcolor\": \"white\", \"linecolor\": \"white\", \"ticks\": \"\"}, \"bgcolor\": \"#E5ECF6\", \"caxis\": {\"gridcolor\": \"white\", \"linecolor\": \"white\", \"ticks\": \"\"}}, \"title\": {\"x\": 0.05}, \"xaxis\": {\"automargin\": true, \"gridcolor\": \"white\", \"linecolor\": \"white\", \"ticks\": \"\", \"title\": {\"standoff\": 15}, \"zerolinecolor\": \"white\", \"zerolinewidth\": 2}, \"yaxis\": {\"automargin\": true, \"gridcolor\": \"white\", \"linecolor\": \"white\", \"ticks\": \"\", \"title\": {\"standoff\": 15}, \"zerolinecolor\": \"white\", \"zerolinewidth\": 2}}}, \"title\": {\"text\": \"Review Rating Distributions for ['Bubble', 'Neutrogena', 'Cerave', 'Cetaphil', 'Clean & Clear']\", \"x\": 0.5}, \"width\": 1450, \"xaxis\": {\"anchor\": \"y\", \"domain\": [0.0, 1.0], \"tickformat\": \".0%\", \"title\": {\"text\": \"Percent of Reviewers\"}}, \"yaxis\": {\"anchor\": \"x\", \"categoryorder\": \"total descending\", \"domain\": [0.0, 1.0], \"title\": {\"text\": \"Brand\"}}},\n",
       "                        {\"responsive\": true}\n",
       "                    ).then(function(){\n",
       "                            \n",
       "var gd = document.getElementById('00ae53cf-363e-4c1e-b9ed-472fb4e55685');\n",
       "var x = new MutationObserver(function (mutations, observer) {{\n",
       "        var display = window.getComputedStyle(gd).display;\n",
       "        if (!display || display === 'none') {{\n",
       "            console.log([gd, 'removed!']);\n",
       "            Plotly.purge(gd);\n",
       "            observer.disconnect();\n",
       "        }}\n",
       "}});\n",
       "\n",
       "// Listen for the removal of the full notebook cells\n",
       "var notebookContainer = gd.closest('#notebook-container');\n",
       "if (notebookContainer) {{\n",
       "    x.observe(notebookContainer, {childList: true});\n",
       "}}\n",
       "\n",
       "// Listen for the clearing of the current output cell\n",
       "var outputEl = gd.closest('.output');\n",
       "if (outputEl) {{\n",
       "    x.observe(outputEl, {childList: true});\n",
       "}}\n",
       "\n",
       "                        })\n",
       "                };\n",
       "                });\n",
       "            </script>\n",
       "        </div>"
      ]
     },
     "metadata": {},
     "output_type": "display_data"
    }
   ],
   "source": [
    "fig = px.bar(\n",
    "    rev_rating_pdf,\n",
    "    orientation='h',\n",
    "    y=\"brand_name\",\n",
    "    x=\"review_rating_frac\",\n",
    "    color=\"review_rating\",\n",
    "    title=f\"Review Rating Distributions for {BRAND_NAME_LI}\",\n",
    "    labels={\n",
    "        \"brand_name\": \"Brand\",\n",
    "        \"review_rating_frac\": \"Percent of Reviewers\",\n",
    "        \"sum(reviewer_count)\": \"Review Sum\",\n",
    "        \"review_rating\": \"Review Rating\",\n",
    "        \"reviewer_count\": \"Review Count\",\n",
    "        \n",
    "    },\n",
    "    text='reviewer_count',\n",
    "    color_discrete_sequence=px.colors.sequential.Plasma[::2][::-1],\n",
    ")\n",
    "\n",
    "fig.update_layout(\n",
    "    width=1450,\n",
    "    height=800,\n",
    "    font=Font.plot_title.value,\n",
    "    plot_bgcolor=\"white\",\n",
    "    title={\"x\": 0.5},\n",
    "    xaxis_tickformat='.0%',\n",
    "    yaxis={'categoryorder':'total descending'}\n",
    ")\n",
    "\n",
    "fig.show()"
   ]
  },
  {
   "cell_type": "markdown",
   "metadata": {},
   "source": [
    "# Tokenize to Words"
   ]
  },
  {
   "cell_type": "code",
   "execution_count": 75,
   "metadata": {
    "ExecuteTime": {
     "end_time": "2022-03-30T20:17:17.921329Z",
     "start_time": "2022-03-30T20:17:17.916440Z"
    }
   },
   "outputs": [],
   "source": [
    "# additional words to filter before combining into ngrams\n",
    "CUSTOM_STOPWORDS = [\n",
    "\n",
    "]\n",
    "\n",
    "GROUP_CUSTOM_STOPWORDS = [\n",
    "     \n",
    "]\n",
    "\n",
    "# words to filter after combined into ngrams\n",
    "BIGRAM_UNIGRAM_WORD_FILTER = []"
   ]
  },
  {
   "cell_type": "code",
   "execution_count": 76,
   "metadata": {
    "ExecuteTime": {
     "end_time": "2022-03-30T20:17:19.069736Z",
     "start_time": "2022-03-30T20:17:18.958752Z"
    }
   },
   "outputs": [],
   "source": [
    "token_brand_revs = (\n",
    "    brand_revs\n",
    "    .withColumn('tokenized_text', lemmatize(tokenize(F.col('review_content'), F.lit(' '.join(GROUP_CUSTOM_STOPWORDS + CUSTOM_STOPWORDS)))))\n",
    "    .dropna(subset=['tokenized_text'])\n",
    ")\n",
    "\n",
    "unigram_sdf = (\n",
    "    token_brand_revs\n",
    "    .withColumn('tokenized_word', F.explode(unique_list(F.col('tokenized_text'))))\n",
    "    .dropna(subset=['tokenized_word'])\n",
    "    .filter(F.col('tokenized_word') != '')\n",
    ")\n",
    "\n",
    "bigram_sdf = (\n",
    "    token_brand_revs\n",
    "    .withColumn('bigram', unique_list(bigram(F.col('tokenized_text'))))\n",
    "    .dropna(subset=['bigram'])\n",
    "    .withColumn('bigram_word', F.explode(F.col('bigram')))\n",
    "    .dropna(subset=['bigram_word'])\n",
    "    .filter(F.col('bigram_word') != '')\n",
    ")\n",
    "\n",
    "unibi_sdf = (\n",
    "    token_brand_revs\n",
    "    .withColumn('unibi', unique_list(F.concat(bigram(F.col('tokenized_text')), F.col('tokenized_text'))))\n",
    "    .withColumn('unibi_word', F.explode(F.col('unibi')))\n",
    "    .dropna(subset=['unibi_word'])\n",
    "    .filter(F.col('unibi_word') != '')\n",
    ")"
   ]
  },
  {
   "cell_type": "code",
   "execution_count": 77,
   "metadata": {
    "ExecuteTime": {
     "end_time": "2022-03-30T20:17:27.724707Z",
     "start_time": "2022-03-30T20:17:20.244429Z"
    }
   },
   "outputs": [
    {
     "name": "stdout",
     "output_type": "stream",
     "text": [
      "+-----------------+--------------------+---------+--------------------+--------------------+\n",
      "|   normalized_url|              tokens|rev_count|                  tf|               tfidf|\n",
      "+-----------------+--------------------+---------+--------------------+--------------------+\n",
      "|       cerave.com|[application_hard...|  1192848|(262144,[0,1,2,3,...|(262144,[0,1,2,3,...|\n",
      "|cleanandclear.com|[bleaching_anyhti...|   395394|(262144,[0,1,2,3,...|(262144,[0,1,2,3,...|\n",
      "|     cetaphil.com|[complicated_pull...|   778897|(262144,[0,1,2,3,...|(262144,[0,1,2,3,...|\n",
      "|  hellobubble.com|[really_sensitive...|    34324|(262144,[0,1,2,3,...|(262144,[0,1,2,3,...|\n",
      "|   neutrogena.com|[none, highly_pro...|  2507956|(262144,[0,1,2,3,...|(262144,[0,1,2,3,...|\n",
      "+-----------------+--------------------+---------+--------------------+--------------------+\n",
      "\n"
     ]
    }
   ],
   "source": [
    "tfidf.show()"
   ]
  },
  {
   "cell_type": "markdown",
   "metadata": {},
   "source": [
    "# TFIDF"
   ]
  },
  {
   "cell_type": "code",
   "execution_count": 78,
   "metadata": {
    "ExecuteTime": {
     "end_time": "2022-03-30T20:17:33.033283Z",
     "start_time": "2022-03-30T20:17:32.943404Z"
    }
   },
   "outputs": [],
   "source": [
    "example_sdf = (\n",
    "    bigram_sdf\n",
    "    .groupby(['normalized_url'])\n",
    "    .agg(F.collect_list('bigram_word').alias('tokens'), F.count(F.concat(F.col('source_name'), F.col('reviewer_source_id'))).alias('rev_count'))\n",
    "#     .filter(F.col('rev_count')>2000)\n",
    "    .persist()\n",
    ")"
   ]
  },
  {
   "cell_type": "code",
   "execution_count": 79,
   "metadata": {
    "ExecuteTime": {
     "end_time": "2022-03-30T20:17:33.266155Z",
     "start_time": "2022-03-30T20:17:33.198327Z"
    }
   },
   "outputs": [],
   "source": [
    "example_sdf = (\n",
    "    unibi_sdf\n",
    "    .groupby(['normalized_url'])\n",
    "    .agg(F.collect_list('unibi_word').alias('tokens'), F.count(F.concat(F.col('source_name'), F.col('reviewer_source_id'))).alias('rev_count'))\n",
    "#     .filter(F.col('rev_count')>2000)\n",
    "    .persist()\n",
    ")"
   ]
  },
  {
   "cell_type": "code",
   "execution_count": 80,
   "metadata": {
    "ExecuteTime": {
     "end_time": "2022-03-30T20:18:10.351109Z",
     "start_time": "2022-03-30T20:17:33.707898Z"
    }
   },
   "outputs": [],
   "source": [
    "# tf = HashingTF(inputCol=\"tokens\", outputCol=\"tf\").transform(example_sdf)\n",
    "tf_mod = CountVectorizer(inputCol=\"tokens\", outputCol=\"tf\").fit(example_sdf)\n",
    "tf = tf_mod.transform(example_sdf)\n",
    "\n",
    "idf = IDF(inputCol=\"tf\", outputCol=\"tfidf\").fit(tf)\n",
    "tfidf = idf.transform(tf).persist()\n"
   ]
  },
  {
   "cell_type": "code",
   "execution_count": 81,
   "metadata": {
    "ExecuteTime": {
     "end_time": "2022-03-30T20:18:10.611029Z",
     "start_time": "2022-03-30T20:18:10.354764Z"
    },
    "scrolled": true
   },
   "outputs": [
    {
     "ename": "NameError",
     "evalue": "name 'vocab_sdf' is not defined",
     "output_type": "error",
     "traceback": [
      "\u001b[0;31m---------------------------------------------------------------------------\u001b[0m",
      "\u001b[0;31mNameError\u001b[0m                                 Traceback (most recent call last)",
      "\u001b[0;32m<ipython-input-81-5b1077918a23>\u001b[0m in \u001b[0;36m<module>\u001b[0;34m()\u001b[0m\n\u001b[1;32m      5\u001b[0m     \u001b[0;34m.\u001b[0m\u001b[0mwithColumnRenamed\u001b[0m\u001b[0;34m(\u001b[0m\u001b[0;34m'col'\u001b[0m\u001b[0;34m,\u001b[0m \u001b[0;34m'tf'\u001b[0m\u001b[0;34m)\u001b[0m\u001b[0;34m\u001b[0m\u001b[0;34m\u001b[0m\u001b[0m\n\u001b[1;32m      6\u001b[0m     \u001b[0;31m#.filter(F.col(\"tfidf\") > 0)\u001b[0m\u001b[0;34m\u001b[0m\u001b[0;34m\u001b[0m\u001b[0;34m\u001b[0m\u001b[0m\n\u001b[0;32m----> 7\u001b[0;31m     \u001b[0;34m.\u001b[0m\u001b[0mjoin\u001b[0m\u001b[0;34m(\u001b[0m\u001b[0mvocab_sdf\u001b[0m\u001b[0;34m,\u001b[0m \u001b[0mon\u001b[0m\u001b[0;34m=\u001b[0m\u001b[0;34m'pos'\u001b[0m\u001b[0;34m)\u001b[0m\u001b[0;34m\u001b[0m\u001b[0;34m\u001b[0m\u001b[0m\n\u001b[0m\u001b[1;32m      8\u001b[0m )\n\u001b[1;32m      9\u001b[0m \u001b[0mtf_out_sdf\u001b[0m\u001b[0;34m.\u001b[0m\u001b[0mshow\u001b[0m\u001b[0;34m(\u001b[0m\u001b[0;34m)\u001b[0m\u001b[0;34m\u001b[0m\u001b[0;34m\u001b[0m\u001b[0m\n",
      "\u001b[0;31mNameError\u001b[0m: name 'vocab_sdf' is not defined"
     ]
    }
   ],
   "source": [
    "tf_out_sdf = (\n",
    "    tf\n",
    "    .withColumn('array', to_array(\"tf\"))\n",
    "    .select('normalized_url', F.posexplode('array'))\n",
    "    .withColumnRenamed('col', 'tf')\n",
    "    #.filter(F.col(\"tfidf\") > 0)\n",
    "    .join(vocab_sdf, on='pos')\n",
    ")\n",
    "tf_out_sdf.show()"
   ]
  },
  {
   "cell_type": "code",
   "execution_count": null,
   "metadata": {
    "ExecuteTime": {
     "end_time": "2022-03-30T20:11:24.453101Z",
     "start_time": "2022-03-30T20:10:54.652Z"
    }
   },
   "outputs": [],
   "source": []
  },
  {
   "cell_type": "code",
   "execution_count": 82,
   "metadata": {
    "ExecuteTime": {
     "end_time": "2022-03-30T20:18:41.136025Z",
     "start_time": "2022-03-30T20:18:40.110180Z"
    }
   },
   "outputs": [
    {
     "data": {
      "text/plain": [
       "262144"
      ]
     },
     "execution_count": 82,
     "metadata": {},
     "output_type": "execute_result"
    }
   ],
   "source": [
    "#total terms used across reviews\n",
    "len(tf_mod.vocabulary)"
   ]
  },
  {
   "cell_type": "code",
   "execution_count": 83,
   "metadata": {
    "ExecuteTime": {
     "end_time": "2022-03-30T20:18:49.051637Z",
     "start_time": "2022-03-30T20:18:41.137836Z"
    }
   },
   "outputs": [],
   "source": [
    "#DF for all vocab terms from reviews \n",
    "vocab_pdf = pd.DataFrame(tf_mod.vocabulary).reset_index()\n",
    "vocab_pdf.columns = ['pos', 'vocab']\n",
    "\n",
    "vocab_sdf = spark.createDataFrame(vocab_pdf)"
   ]
  },
  {
   "cell_type": "code",
   "execution_count": 84,
   "metadata": {
    "ExecuteTime": {
     "end_time": "2022-03-30T20:18:49.081322Z",
     "start_time": "2022-03-30T20:18:49.053488Z"
    }
   },
   "outputs": [],
   "source": [
    "tfidf_out_sdf = (\n",
    "    tfidf\n",
    "    .withColumn('array', to_array(\"tfidf\"))\n",
    "    .select('normalized_url', F.posexplode('array'))\n",
    "    .withColumnRenamed('col', 'tfidf')\n",
    "    #.filter(F.col(\"tfidf\") > 0)\n",
    "    .join(vocab_sdf, on='pos')\n",
    ")"
   ]
  },
  {
   "cell_type": "code",
   "execution_count": 85,
   "metadata": {
    "ExecuteTime": {
     "end_time": "2022-03-30T20:18:54.463491Z",
     "start_time": "2022-03-30T20:18:49.083081Z"
    }
   },
   "outputs": [
    {
     "name": "stdout",
     "output_type": "stream",
     "text": [
      "+---+-----------------+------------------+-----------+\n",
      "|pos|   normalized_url|             tfidf|      vocab|\n",
      "+---+-----------------+------------------+-----------+\n",
      "| 26|       cerave.com|               0.0|       make|\n",
      "| 26|   neutrogena.com|               0.0|       make|\n",
      "| 26|cleanandclear.com|               0.0|       make|\n",
      "| 26|     cetaphil.com|               0.0|       make|\n",
      "| 26|  hellobubble.com|               0.0|       make|\n",
      "| 29|       cerave.com|               0.0|        one|\n",
      "| 29|   neutrogena.com|               0.0|        one|\n",
      "| 29|cleanandclear.com|               0.0|        one|\n",
      "| 29|     cetaphil.com|               0.0|        one|\n",
      "| 29|  hellobubble.com|               0.0|        one|\n",
      "|474|       cerave.com|36.099668245203006|skin_review|\n",
      "|474|   neutrogena.com| 57.97825506047756|skin_review|\n",
      "|474|cleanandclear.com| 9.298399396491684|skin_review|\n",
      "|474|     cetaphil.com|121.79079993836167|skin_review|\n",
      "|474|  hellobubble.com|               0.0|skin_review|\n",
      "|964|       cerave.com|               0.0| face_clean|\n",
      "|964|   neutrogena.com|               0.0| face_clean|\n",
      "|964|cleanandclear.com|               0.0| face_clean|\n",
      "|964|     cetaphil.com|               0.0| face_clean|\n",
      "|964|  hellobubble.com|               0.0| face_clean|\n",
      "+---+-----------------+------------------+-----------+\n",
      "only showing top 20 rows\n",
      "\n"
     ]
    }
   ],
   "source": [
    "tfidf_out_sdf.show()"
   ]
  },
  {
   "cell_type": "code",
   "execution_count": 86,
   "metadata": {
    "ExecuteTime": {
     "end_time": "2022-03-30T20:18:54.468969Z",
     "start_time": "2022-03-30T20:18:54.465777Z"
    }
   },
   "outputs": [],
   "source": [
    "TOP_N_WORDS = 10\n",
    "TFIDF_THRESHOLD = 0.5 # depends on amount of reviews to have enough signal"
   ]
  },
  {
   "cell_type": "code",
   "execution_count": 87,
   "metadata": {
    "ExecuteTime": {
     "end_time": "2022-03-30T20:18:54.482014Z",
     "start_time": "2022-03-30T20:18:54.470627Z"
    },
    "scrolled": true
   },
   "outputs": [],
   "source": [
    "# for words that somehow make it through the stopwords checks\n",
    "exclude_list = [\n",
    "    \n",
    "]\n",
    "#ADD REGEX REPLACE FOR ‚äô replace with apostrophe\n",
    "tfidf_out_sdf = (\n",
    "    tfidf_out_sdf\n",
    "    .filter(~(F.col('vocab').isin(exclude_list)))\n",
    ")\n",
    "\n",
    "\n",
    "#tfidf_out_sdf.where(c.normalized_url=='odelebeauty.com').orderBy('tfidf', ascending=False).show()"
   ]
  },
  {
   "cell_type": "code",
   "execution_count": 88,
   "metadata": {
    "ExecuteTime": {
     "end_time": "2022-03-30T20:19:30.108851Z",
     "start_time": "2022-03-30T20:18:54.485379Z"
    }
   },
   "outputs": [],
   "source": [
    "#Get all terms with avg rating and tfidf to csv\n",
    "all_terms_sdf = (\n",
    "    unibi_sdf\n",
    "    .withColumnRenamed('unibi_word', 'vocab')\n",
    "    .join(tfidf_out_sdf.select('normalized_url','vocab'), on=['normalized_url', 'vocab'])\n",
    ")\n",
    "terms_avg_rating_sdf = all_terms_sdf.groupby('normalized_url','vocab').agg(F.mean(F.col('review_rating')).alias('avg_rating'))\n",
    "terms_avg_rating_pdf = terms_avg_rating_sdf.toPandas()\n",
    "\n",
    "all_terms = tfidf_out_sdf.toPandas().merge(terms_avg_rating_pdf, on=['normalized_url', 'vocab'])\n",
    "all_terms.to_csv('rowdy_comps_allterms.csv')"
   ]
  },
  {
   "cell_type": "code",
   "execution_count": 89,
   "metadata": {
    "ExecuteTime": {
     "end_time": "2022-03-30T20:19:35.029694Z",
     "start_time": "2022-03-30T20:19:30.110698Z"
    }
   },
   "outputs": [
    {
     "name": "stdout",
     "output_type": "stream",
     "text": [
      "+-----+-----------------+------------------+--------------------+\n",
      "|  pos|   normalized_url|             tfidf|               vocab|\n",
      "+-----+-----------------+------------------+--------------------+\n",
      "|  753|       cerave.com| 516.3946495171592|         love_cerave|\n",
      "|  589|       cerave.com|395.32848040546025|      cerave_product|\n",
      "|  569|       cerave.com|295.58406381085183|                cast|\n",
      "|  823|       cerave.com|275.71627351355176| cerave_moisturizing|\n",
      "|  633|       cerave.com| 269.6342968919293|          white_cast|\n",
      "|  392|       cerave.com|  240.846776524814|  moisturizing_cream|\n",
      "| 1845|       cerave.com| 191.3086218345449|        using_cerave|\n",
      "| 3036|       cerave.com| 177.9751907642338|       cerave_facial|\n",
      "|  607|       cerave.com|165.42976410813108|          hyaluronic|\n",
      "|  344|       cerave.com| 162.2661855466196|             foaming|\n",
      "|  393|cleanandclear.com|239.57052562725633|         clean_clear|\n",
      "| 1721|cleanandclear.com|204.47841826518385|       morning_burst|\n",
      "| 2792|cleanandclear.com|196.65159967159164|         deep_action|\n",
      "| 3751|cleanandclear.com|140.62237294951805|          clear_deep|\n",
      "|  261|cleanandclear.com| 107.2050753948453|               scrub|\n",
      "| 3297|cleanandclear.com|101.89263554231195|         shower_mask|\n",
      "| 5737|cleanandclear.com|   90.086207670785|             action_|\n",
      "| 7095|cleanandclear.com| 71.40979876342713|       bursting_bead|\n",
      "| 7195|cleanandclear.com| 70.31118647475903|           eye_sheet|\n",
      "| 4917|cleanandclear.com| 66.54212933375474|       second_shower|\n",
      "|   90|     cetaphil.com|1005.8680288322474|            cetaphil|\n",
      "| 1005|     cetaphil.com| 608.6312079221328|     sample_cetaphil|\n",
      "|  283|     cetaphil.com| 376.1293716659283|     cetaphil_gentle|\n",
      "| 1182|     cetaphil.com|320.23399741869474|       love_cetaphil|\n",
      "| 1814|     cetaphil.com|309.80866540440695|   received_cetaphil|\n",
      "| 1834|     cetaphil.com|306.51282853840263|         freeproduct|\n",
      "| 1627|     cetaphil.com| 219.0345090569427|    cleanser_pinchme|\n",
      "| 2655|     cetaphil.com|207.63772255827274|  promotion_cetaphil|\n",
      "| 2727|     cetaphil.com| 201.0460488262641|       trywithtopbox|\n",
      "| 1145|     cetaphil.com|193.81232167570258|    cetaphil_product|\n",
      "|12240|  hellobubble.com| 23.56700413903814|      bubble_product|\n",
      "| 6849|  hellobubble.com|15.813139216218412|          love_toner|\n",
      "|45539|  hellobubble.com| 9.887510598012987|        using_bubble|\n",
      "|50271|  hellobubble.com| 8.788898309344878|        brand_bubble|\n",
      "|30086|  hellobubble.com| 8.317766166719343|balancing_moistur...|\n",
      "|56813|  hellobubble.com| 7.690286020676768|     bubble_skincare|\n",
      "|64246|  hellobubble.com| 6.591673732008658|    dunk_moisturizer|\n",
      "|65419|  hellobubble.com| 6.591673732008658|  moisturizer_bubble|\n",
      "|59366|  hellobubble.com| 6.591673732008658|     favorite_bubble|\n",
      "|43937|  hellobubble.com| 5.545177444479562|           start_gel|\n",
      "| 9232|  hellobubble.com| 5.545177444479562|          love_spray|\n",
      "|   47|   neutrogena.com| 1871.530780489944|          neutrogena|\n",
      "|  318|   neutrogena.com|1259.4484270774205|         hydro_boost|\n",
      "|  508|   neutrogena.com|1256.8124582363175|         neutrogena®|\n",
      "|  689|   neutrogena.com| 897.5662398418457|promotion_neutrogena|\n",
      "|  710|   neutrogena.com| 873.3967694911473|     member_crowdtap|\n",
      "|  720|   neutrogena.com| 862.4106466044661|      reward_program|\n",
      "|  767|   neutrogena.com|  800.888358439052|    neutrogena®_sent|\n",
      "|  768|   neutrogena.com|  800.888358439052| program_neutrogena®|\n",
      "|  769|   neutrogena.com|  799.789746150384|  neutrogena®_reward|\n",
      "|  772|   neutrogena.com|  799.789746150384|crowdtap_neutrogena®|\n",
      "+-----+-----------------+------------------+--------------------+\n",
      "\n"
     ]
    }
   ],
   "source": [
    "window = Window.partitionBy('normalized_url').orderBy(F.col('tfidf').desc())\n",
    "\n",
    "\n",
    "top_tfidf_sdf = (\n",
    "    tfidf_out_sdf\n",
    "    .select('*', F.rank().over(window).alias('rank'))\n",
    "    .filter(F.col('tfidf') > TFIDF_THRESHOLD)\n",
    "    .filter(F.col('rank') <= TOP_N_WORDS)\n",
    "    .drop('rank')\n",
    ")\n",
    "\n",
    "top_tfidf_sdf.show(100)"
   ]
  },
  {
   "cell_type": "code",
   "execution_count": 90,
   "metadata": {
    "ExecuteTime": {
     "end_time": "2022-03-30T20:19:40.510702Z",
     "start_time": "2022-03-30T20:19:35.032011Z"
    }
   },
   "outputs": [
    {
     "data": {
      "text/html": [
       "<div>\n",
       "<style>\n",
       "    .dataframe thead tr:only-child th {\n",
       "        text-align: right;\n",
       "    }\n",
       "\n",
       "    .dataframe thead th {\n",
       "        text-align: left;\n",
       "    }\n",
       "\n",
       "    .dataframe tbody tr th {\n",
       "        vertical-align: top;\n",
       "    }\n",
       "</style>\n",
       "<table border=\"1\" class=\"dataframe\">\n",
       "  <thead>\n",
       "    <tr style=\"text-align: right;\">\n",
       "      <th></th>\n",
       "      <th>pos</th>\n",
       "      <th>normalized_url</th>\n",
       "      <th>tfidf</th>\n",
       "      <th>vocab</th>\n",
       "    </tr>\n",
       "  </thead>\n",
       "  <tbody>\n",
       "    <tr>\n",
       "      <th>50</th>\n",
       "      <td>47</td>\n",
       "      <td>neutrogena.com</td>\n",
       "      <td>1871.530780</td>\n",
       "      <td>neutrogena</td>\n",
       "    </tr>\n",
       "    <tr>\n",
       "      <th>49</th>\n",
       "      <td>318</td>\n",
       "      <td>neutrogena.com</td>\n",
       "      <td>1259.448427</td>\n",
       "      <td>hydro_boost</td>\n",
       "    </tr>\n",
       "    <tr>\n",
       "      <th>48</th>\n",
       "      <td>508</td>\n",
       "      <td>neutrogena.com</td>\n",
       "      <td>1256.812458</td>\n",
       "      <td>neutrogena®</td>\n",
       "    </tr>\n",
       "    <tr>\n",
       "      <th>46</th>\n",
       "      <td>689</td>\n",
       "      <td>neutrogena.com</td>\n",
       "      <td>897.566240</td>\n",
       "      <td>promotion_neutrogena</td>\n",
       "    </tr>\n",
       "    <tr>\n",
       "      <th>45</th>\n",
       "      <td>710</td>\n",
       "      <td>neutrogena.com</td>\n",
       "      <td>873.396769</td>\n",
       "      <td>member_crowdtap</td>\n",
       "    </tr>\n",
       "    <tr>\n",
       "      <th>44</th>\n",
       "      <td>720</td>\n",
       "      <td>neutrogena.com</td>\n",
       "      <td>862.410647</td>\n",
       "      <td>reward_program</td>\n",
       "    </tr>\n",
       "    <tr>\n",
       "      <th>42</th>\n",
       "      <td>767</td>\n",
       "      <td>neutrogena.com</td>\n",
       "      <td>800.888358</td>\n",
       "      <td>neutrogena®_sent</td>\n",
       "    </tr>\n",
       "    <tr>\n",
       "      <th>43</th>\n",
       "      <td>768</td>\n",
       "      <td>neutrogena.com</td>\n",
       "      <td>800.888358</td>\n",
       "      <td>program_neutrogena®</td>\n",
       "    </tr>\n",
       "    <tr>\n",
       "      <th>40</th>\n",
       "      <td>769</td>\n",
       "      <td>neutrogena.com</td>\n",
       "      <td>799.789746</td>\n",
       "      <td>neutrogena®_reward</td>\n",
       "    </tr>\n",
       "    <tr>\n",
       "      <th>41</th>\n",
       "      <td>772</td>\n",
       "      <td>neutrogena.com</td>\n",
       "      <td>799.789746</td>\n",
       "      <td>crowdtap_neutrogena®</td>\n",
       "    </tr>\n",
       "    <tr>\n",
       "      <th>10</th>\n",
       "      <td>12240</td>\n",
       "      <td>hellobubble.com</td>\n",
       "      <td>23.567004</td>\n",
       "      <td>bubble_product</td>\n",
       "    </tr>\n",
       "    <tr>\n",
       "      <th>9</th>\n",
       "      <td>6849</td>\n",
       "      <td>hellobubble.com</td>\n",
       "      <td>15.813139</td>\n",
       "      <td>love_toner</td>\n",
       "    </tr>\n",
       "    <tr>\n",
       "      <th>8</th>\n",
       "      <td>45539</td>\n",
       "      <td>hellobubble.com</td>\n",
       "      <td>9.887511</td>\n",
       "      <td>using_bubble</td>\n",
       "    </tr>\n",
       "    <tr>\n",
       "      <th>7</th>\n",
       "      <td>50271</td>\n",
       "      <td>hellobubble.com</td>\n",
       "      <td>8.788898</td>\n",
       "      <td>brand_bubble</td>\n",
       "    </tr>\n",
       "    <tr>\n",
       "      <th>6</th>\n",
       "      <td>30086</td>\n",
       "      <td>hellobubble.com</td>\n",
       "      <td>8.317766</td>\n",
       "      <td>balancing_moisturizer</td>\n",
       "    </tr>\n",
       "    <tr>\n",
       "      <th>5</th>\n",
       "      <td>56813</td>\n",
       "      <td>hellobubble.com</td>\n",
       "      <td>7.690286</td>\n",
       "      <td>bubble_skincare</td>\n",
       "    </tr>\n",
       "    <tr>\n",
       "      <th>2</th>\n",
       "      <td>59366</td>\n",
       "      <td>hellobubble.com</td>\n",
       "      <td>6.591674</td>\n",
       "      <td>favorite_bubble</td>\n",
       "    </tr>\n",
       "    <tr>\n",
       "      <th>3</th>\n",
       "      <td>64246</td>\n",
       "      <td>hellobubble.com</td>\n",
       "      <td>6.591674</td>\n",
       "      <td>dunk_moisturizer</td>\n",
       "    </tr>\n",
       "    <tr>\n",
       "      <th>4</th>\n",
       "      <td>65419</td>\n",
       "      <td>hellobubble.com</td>\n",
       "      <td>6.591674</td>\n",
       "      <td>moisturizer_bubble</td>\n",
       "    </tr>\n",
       "    <tr>\n",
       "      <th>0</th>\n",
       "      <td>9232</td>\n",
       "      <td>hellobubble.com</td>\n",
       "      <td>5.545177</td>\n",
       "      <td>love_spray</td>\n",
       "    </tr>\n",
       "    <tr>\n",
       "      <th>1</th>\n",
       "      <td>43937</td>\n",
       "      <td>hellobubble.com</td>\n",
       "      <td>5.545177</td>\n",
       "      <td>start_gel</td>\n",
       "    </tr>\n",
       "    <tr>\n",
       "      <th>28</th>\n",
       "      <td>393</td>\n",
       "      <td>cleanandclear.com</td>\n",
       "      <td>239.570526</td>\n",
       "      <td>clean_clear</td>\n",
       "    </tr>\n",
       "    <tr>\n",
       "      <th>25</th>\n",
       "      <td>1721</td>\n",
       "      <td>cleanandclear.com</td>\n",
       "      <td>204.478418</td>\n",
       "      <td>morning_burst</td>\n",
       "    </tr>\n",
       "    <tr>\n",
       "      <th>23</th>\n",
       "      <td>2792</td>\n",
       "      <td>cleanandclear.com</td>\n",
       "      <td>196.651600</td>\n",
       "      <td>deep_action</td>\n",
       "    </tr>\n",
       "    <tr>\n",
       "      <th>17</th>\n",
       "      <td>3751</td>\n",
       "      <td>cleanandclear.com</td>\n",
       "      <td>140.622373</td>\n",
       "      <td>clear_deep</td>\n",
       "    </tr>\n",
       "    <tr>\n",
       "      <th>16</th>\n",
       "      <td>261</td>\n",
       "      <td>cleanandclear.com</td>\n",
       "      <td>107.205075</td>\n",
       "      <td>scrub</td>\n",
       "    </tr>\n",
       "    <tr>\n",
       "      <th>15</th>\n",
       "      <td>3297</td>\n",
       "      <td>cleanandclear.com</td>\n",
       "      <td>101.892636</td>\n",
       "      <td>shower_mask</td>\n",
       "    </tr>\n",
       "    <tr>\n",
       "      <th>14</th>\n",
       "      <td>5737</td>\n",
       "      <td>cleanandclear.com</td>\n",
       "      <td>90.086208</td>\n",
       "      <td>action_</td>\n",
       "    </tr>\n",
       "    <tr>\n",
       "      <th>13</th>\n",
       "      <td>7095</td>\n",
       "      <td>cleanandclear.com</td>\n",
       "      <td>71.409799</td>\n",
       "      <td>bursting_bead</td>\n",
       "    </tr>\n",
       "    <tr>\n",
       "      <th>12</th>\n",
       "      <td>7195</td>\n",
       "      <td>cleanandclear.com</td>\n",
       "      <td>70.311186</td>\n",
       "      <td>eye_sheet</td>\n",
       "    </tr>\n",
       "    <tr>\n",
       "      <th>11</th>\n",
       "      <td>4917</td>\n",
       "      <td>cleanandclear.com</td>\n",
       "      <td>66.542129</td>\n",
       "      <td>second_shower</td>\n",
       "    </tr>\n",
       "    <tr>\n",
       "      <th>47</th>\n",
       "      <td>90</td>\n",
       "      <td>cetaphil.com</td>\n",
       "      <td>1005.868029</td>\n",
       "      <td>cetaphil</td>\n",
       "    </tr>\n",
       "    <tr>\n",
       "      <th>39</th>\n",
       "      <td>1005</td>\n",
       "      <td>cetaphil.com</td>\n",
       "      <td>608.631208</td>\n",
       "      <td>sample_cetaphil</td>\n",
       "    </tr>\n",
       "    <tr>\n",
       "      <th>36</th>\n",
       "      <td>283</td>\n",
       "      <td>cetaphil.com</td>\n",
       "      <td>376.129372</td>\n",
       "      <td>cetaphil_gentle</td>\n",
       "    </tr>\n",
       "    <tr>\n",
       "      <th>35</th>\n",
       "      <td>1182</td>\n",
       "      <td>cetaphil.com</td>\n",
       "      <td>320.233997</td>\n",
       "      <td>love_cetaphil</td>\n",
       "    </tr>\n",
       "    <tr>\n",
       "      <th>34</th>\n",
       "      <td>1814</td>\n",
       "      <td>cetaphil.com</td>\n",
       "      <td>309.808665</td>\n",
       "      <td>received_cetaphil</td>\n",
       "    </tr>\n",
       "    <tr>\n",
       "      <th>33</th>\n",
       "      <td>1834</td>\n",
       "      <td>cetaphil.com</td>\n",
       "      <td>306.512829</td>\n",
       "      <td>freeproduct</td>\n",
       "    </tr>\n",
       "    <tr>\n",
       "      <th>27</th>\n",
       "      <td>1627</td>\n",
       "      <td>cetaphil.com</td>\n",
       "      <td>219.034509</td>\n",
       "      <td>cleanser_pinchme</td>\n",
       "    </tr>\n",
       "    <tr>\n",
       "      <th>26</th>\n",
       "      <td>2655</td>\n",
       "      <td>cetaphil.com</td>\n",
       "      <td>207.637723</td>\n",
       "      <td>promotion_cetaphil</td>\n",
       "    </tr>\n",
       "    <tr>\n",
       "      <th>24</th>\n",
       "      <td>2727</td>\n",
       "      <td>cetaphil.com</td>\n",
       "      <td>201.046049</td>\n",
       "      <td>trywithtopbox</td>\n",
       "    </tr>\n",
       "    <tr>\n",
       "      <th>22</th>\n",
       "      <td>1145</td>\n",
       "      <td>cetaphil.com</td>\n",
       "      <td>193.812322</td>\n",
       "      <td>cetaphil_product</td>\n",
       "    </tr>\n",
       "    <tr>\n",
       "      <th>38</th>\n",
       "      <td>753</td>\n",
       "      <td>cerave.com</td>\n",
       "      <td>516.394650</td>\n",
       "      <td>love_cerave</td>\n",
       "    </tr>\n",
       "    <tr>\n",
       "      <th>37</th>\n",
       "      <td>589</td>\n",
       "      <td>cerave.com</td>\n",
       "      <td>395.328480</td>\n",
       "      <td>cerave_product</td>\n",
       "    </tr>\n",
       "    <tr>\n",
       "      <th>32</th>\n",
       "      <td>569</td>\n",
       "      <td>cerave.com</td>\n",
       "      <td>295.584064</td>\n",
       "      <td>cast</td>\n",
       "    </tr>\n",
       "    <tr>\n",
       "      <th>31</th>\n",
       "      <td>823</td>\n",
       "      <td>cerave.com</td>\n",
       "      <td>275.716274</td>\n",
       "      <td>cerave_moisturizing</td>\n",
       "    </tr>\n",
       "    <tr>\n",
       "      <th>30</th>\n",
       "      <td>633</td>\n",
       "      <td>cerave.com</td>\n",
       "      <td>269.634297</td>\n",
       "      <td>white_cast</td>\n",
       "    </tr>\n",
       "    <tr>\n",
       "      <th>29</th>\n",
       "      <td>392</td>\n",
       "      <td>cerave.com</td>\n",
       "      <td>240.846777</td>\n",
       "      <td>moisturizing_cream</td>\n",
       "    </tr>\n",
       "    <tr>\n",
       "      <th>21</th>\n",
       "      <td>1845</td>\n",
       "      <td>cerave.com</td>\n",
       "      <td>191.308622</td>\n",
       "      <td>using_cerave</td>\n",
       "    </tr>\n",
       "    <tr>\n",
       "      <th>20</th>\n",
       "      <td>3036</td>\n",
       "      <td>cerave.com</td>\n",
       "      <td>177.975191</td>\n",
       "      <td>cerave_facial</td>\n",
       "    </tr>\n",
       "    <tr>\n",
       "      <th>19</th>\n",
       "      <td>607</td>\n",
       "      <td>cerave.com</td>\n",
       "      <td>165.429764</td>\n",
       "      <td>hyaluronic</td>\n",
       "    </tr>\n",
       "    <tr>\n",
       "      <th>18</th>\n",
       "      <td>344</td>\n",
       "      <td>cerave.com</td>\n",
       "      <td>162.266186</td>\n",
       "      <td>foaming</td>\n",
       "    </tr>\n",
       "  </tbody>\n",
       "</table>\n",
       "</div>"
      ],
      "text/plain": [
       "      pos     normalized_url        tfidf                  vocab\n",
       "50     47     neutrogena.com  1871.530780             neutrogena\n",
       "49    318     neutrogena.com  1259.448427            hydro_boost\n",
       "48    508     neutrogena.com  1256.812458            neutrogena®\n",
       "46    689     neutrogena.com   897.566240   promotion_neutrogena\n",
       "45    710     neutrogena.com   873.396769        member_crowdtap\n",
       "44    720     neutrogena.com   862.410647         reward_program\n",
       "42    767     neutrogena.com   800.888358       neutrogena®_sent\n",
       "43    768     neutrogena.com   800.888358    program_neutrogena®\n",
       "40    769     neutrogena.com   799.789746     neutrogena®_reward\n",
       "41    772     neutrogena.com   799.789746   crowdtap_neutrogena®\n",
       "10  12240    hellobubble.com    23.567004         bubble_product\n",
       "9    6849    hellobubble.com    15.813139             love_toner\n",
       "8   45539    hellobubble.com     9.887511           using_bubble\n",
       "7   50271    hellobubble.com     8.788898           brand_bubble\n",
       "6   30086    hellobubble.com     8.317766  balancing_moisturizer\n",
       "5   56813    hellobubble.com     7.690286        bubble_skincare\n",
       "2   59366    hellobubble.com     6.591674        favorite_bubble\n",
       "3   64246    hellobubble.com     6.591674       dunk_moisturizer\n",
       "4   65419    hellobubble.com     6.591674     moisturizer_bubble\n",
       "0    9232    hellobubble.com     5.545177             love_spray\n",
       "1   43937    hellobubble.com     5.545177              start_gel\n",
       "28    393  cleanandclear.com   239.570526            clean_clear\n",
       "25   1721  cleanandclear.com   204.478418          morning_burst\n",
       "23   2792  cleanandclear.com   196.651600            deep_action\n",
       "17   3751  cleanandclear.com   140.622373             clear_deep\n",
       "16    261  cleanandclear.com   107.205075                  scrub\n",
       "15   3297  cleanandclear.com   101.892636            shower_mask\n",
       "14   5737  cleanandclear.com    90.086208                action_\n",
       "13   7095  cleanandclear.com    71.409799          bursting_bead\n",
       "12   7195  cleanandclear.com    70.311186              eye_sheet\n",
       "11   4917  cleanandclear.com    66.542129          second_shower\n",
       "47     90       cetaphil.com  1005.868029               cetaphil\n",
       "39   1005       cetaphil.com   608.631208        sample_cetaphil\n",
       "36    283       cetaphil.com   376.129372        cetaphil_gentle\n",
       "35   1182       cetaphil.com   320.233997          love_cetaphil\n",
       "34   1814       cetaphil.com   309.808665      received_cetaphil\n",
       "33   1834       cetaphil.com   306.512829            freeproduct\n",
       "27   1627       cetaphil.com   219.034509       cleanser_pinchme\n",
       "26   2655       cetaphil.com   207.637723     promotion_cetaphil\n",
       "24   2727       cetaphil.com   201.046049          trywithtopbox\n",
       "22   1145       cetaphil.com   193.812322       cetaphil_product\n",
       "38    753         cerave.com   516.394650            love_cerave\n",
       "37    589         cerave.com   395.328480         cerave_product\n",
       "32    569         cerave.com   295.584064                   cast\n",
       "31    823         cerave.com   275.716274    cerave_moisturizing\n",
       "30    633         cerave.com   269.634297             white_cast\n",
       "29    392         cerave.com   240.846777     moisturizing_cream\n",
       "21   1845         cerave.com   191.308622           using_cerave\n",
       "20   3036         cerave.com   177.975191          cerave_facial\n",
       "19    607         cerave.com   165.429764             hyaluronic\n",
       "18    344         cerave.com   162.266186                foaming"
      ]
     },
     "execution_count": 90,
     "metadata": {},
     "output_type": "execute_result"
    }
   ],
   "source": [
    "top_tfidf_pdf = top_tfidf_sdf.sort('tfidf', ascending = True).toPandas()\n",
    "top_tfidf_pdf.sort_values(['normalized_url','tfidf'], ascending = False)"
   ]
  },
  {
   "cell_type": "code",
   "execution_count": 91,
   "metadata": {
    "ExecuteTime": {
     "end_time": "2022-03-30T20:19:40.556687Z",
     "start_time": "2022-03-30T20:19:40.512475Z"
    }
   },
   "outputs": [],
   "source": [
    "#this join is where peatos.com is getting dropped\n",
    "joined_tfidf_sdf = (\n",
    "    unibi_sdf\n",
    "    .withColumnRenamed('unibi_word', 'vocab')\n",
    "    .join(top_tfidf_sdf.select('normalized_url','vocab'), on=['normalized_url', 'vocab'])\n",
    ")"
   ]
  },
  {
   "cell_type": "code",
   "execution_count": 92,
   "metadata": {
    "ExecuteTime": {
     "end_time": "2022-03-30T20:19:58.815537Z",
     "start_time": "2022-03-30T20:19:40.558444Z"
    }
   },
   "outputs": [],
   "source": [
    "avg_rating_sdf = joined_tfidf_sdf.groupby('normalized_url','vocab').agg(F.mean(F.col('review_rating')).alias('avg_rating'))\n",
    "avg_rating_pdf = avg_rating_sdf.toPandas()"
   ]
  },
  {
   "cell_type": "code",
   "execution_count": 93,
   "metadata": {
    "ExecuteTime": {
     "end_time": "2022-03-30T20:19:58.823854Z",
     "start_time": "2022-03-30T20:19:58.817571Z"
    }
   },
   "outputs": [],
   "source": [
    "top_tfidf_pdf = top_tfidf_pdf.merge(avg_rating_pdf, on=['normalized_url', 'vocab'])"
   ]
  },
  {
   "cell_type": "code",
   "execution_count": 94,
   "metadata": {
    "ExecuteTime": {
     "end_time": "2022-03-30T20:19:58.834923Z",
     "start_time": "2022-03-30T20:19:58.826478Z"
    }
   },
   "outputs": [],
   "source": [
    "n_brands = top_tfidf_pdf.normalized_url.nunique()"
   ]
  },
  {
   "cell_type": "code",
   "execution_count": 95,
   "metadata": {
    "ExecuteTime": {
     "end_time": "2022-03-30T20:19:59.154287Z",
     "start_time": "2022-03-30T20:19:58.836886Z"
    },
    "scrolled": false
   },
   "outputs": [
    {
     "data": {
      "application/vnd.plotly.v1+json": {
       "config": {
        "plotlyServerURL": "https://plot.ly"
       },
       "data": [
        {
         "marker": {
          "color": [
           4.558426966292135,
           4.703431372549019,
           4.580246913580247,
           4.648550724637682,
           4.749432248296745,
           3.3473684210526318,
           4.7441176470588236,
           3.393689986282579,
           4.2615384615384615,
           4.369127516778524
          ],
          "coloraxis": "coloraxis"
         },
         "orientation": "h",
         "type": "bar",
         "x": [
          162.2661855466196,
          165.42976410813108,
          177.9751907642338,
          191.3086218345449,
          240.846776524814,
          269.6342968919293,
          275.71627351355176,
          295.58406381085183,
          395.32848040546025,
          516.3946495171592
         ],
         "xaxis": "x",
         "y": [
          "foaming",
          "hyaluronic",
          "cerave_facial",
          "using_cerave",
          "moisturizing_cream",
          "white_cast",
          "cerave_moisturizing",
          "cast",
          "cerave_product",
          "love_cerave"
         ],
         "yaxis": "y"
        },
        {
         "marker": {
          "color": [
           4.546025104602511,
           4.721311475409836,
           4.185185185185185,
           3.8987341772151898,
           4.666666666666667,
           4.067375886524823,
           4.683982683982684,
           4.062045564711585,
           3.9819494584837547,
           4.375022657241255
          ],
          "coloraxis": "coloraxis"
         },
         "orientation": "h",
         "type": "bar",
         "x": [
          193.81232167570258,
          201.0460488262641,
          207.63772255827274,
          219.0345090569427,
          306.51282853840263,
          309.80866540440695,
          320.23399741869474,
          376.1293716659283,
          608.6312079221328,
          1005.8680288322474
         ],
         "xaxis": "x2",
         "y": [
          "cetaphil_product",
          "trywithtopbox",
          "promotion_cetaphil",
          "cleanser_pinchme",
          "freeproduct",
          "received_cetaphil",
          "love_cetaphil",
          "cetaphil_gentle",
          "sample_cetaphil",
          "cetaphil"
         ],
         "yaxis": "y2"
        },
        {
         "marker": {
          "color": [
           4.208333333333333,
           4.359375,
           4.415384615384616,
           4.329268292682927,
           4.224489795918367,
           4.253401360544218,
           4.3828125,
           4.329608938547486,
           4.145762711864407,
           4.121004566210046
          ],
          "coloraxis": "coloraxis"
         },
         "orientation": "h",
         "type": "bar",
         "x": [
          66.54212933375474,
          70.31118647475903,
          71.40979876342713,
          90.086207670785,
          101.89263554231195,
          107.2050753948453,
          140.62237294951805,
          196.65159967159164,
          204.47841826518385,
          239.57052562725633
         ],
         "xaxis": "x3",
         "y": [
          "second_shower",
          "eye_sheet",
          "bursting_bead",
          "action_",
          "shower_mask",
          "scrub",
          "clear_deep",
          "deep_action",
          "morning_burst",
          "clean_clear"
         ],
         "yaxis": "y3"
        },
        {
         "marker": {
          "color": [
           4.875,
           4.875,
           5,
           5,
           5,
           5,
           4.583333333333333,
           5,
           5,
           5,
           4.911764705882353
          ],
          "coloraxis": "coloraxis"
         },
         "orientation": "h",
         "type": "bar",
         "x": [
          5.545177444479562,
          5.545177444479562,
          6.591673732008658,
          6.591673732008658,
          6.591673732008658,
          7.690286020676768,
          8.317766166719343,
          8.788898309344878,
          9.887510598012987,
          15.813139216218412,
          23.56700413903814
         ],
         "xaxis": "x4",
         "y": [
          "love_spray",
          "start_gel",
          "favorite_bubble",
          "dunk_moisturizer",
          "moisturizer_bubble",
          "bubble_skincare",
          "balancing_moisturizer",
          "brand_bubble",
          "using_bubble",
          "love_toner",
          "bubble_product"
         ],
         "yaxis": "y4"
        },
        {
         "marker": {
          "color": [
           4.741758241758242,
           4.741758241758242,
           4.742112482853224,
           4.742112482853224,
           4.747770700636942,
           4.747169811320755,
           4.607099143206854,
           4.681818181818182,
           4.505778756191525,
           4.21656113005358
          ],
          "coloraxis": "coloraxis"
         },
         "orientation": "h",
         "type": "bar",
         "x": [
          799.789746150384,
          799.789746150384,
          800.888358439052,
          800.888358439052,
          862.4106466044661,
          873.3967694911473,
          897.5662398418457,
          1256.8124582363175,
          1259.4484270774205,
          1871.530780489944
         ],
         "xaxis": "x5",
         "y": [
          "neutrogena®_reward",
          "crowdtap_neutrogena®",
          "neutrogena®_sent",
          "program_neutrogena®",
          "reward_program",
          "member_crowdtap",
          "promotion_neutrogena",
          "neutrogena®",
          "hydro_boost",
          "neutrogena"
         ],
         "yaxis": "y5"
        }
       ],
       "layout": {
        "autosize": true,
        "coloraxis": {
         "colorbar": {
          "title": {
           "text": "<b>average rating</b>"
          }
         },
         "colorscale": [
          [
           0,
           "#0d0887"
          ],
          [
           0.1111111111111111,
           "#46039f"
          ],
          [
           0.2222222222222222,
           "#7201a8"
          ],
          [
           0.3333333333333333,
           "#9c179e"
          ],
          [
           0.4444444444444444,
           "#bd3786"
          ],
          [
           0.5555555555555556,
           "#d8576b"
          ],
          [
           0.6666666666666666,
           "#ed7953"
          ],
          [
           0.7777777777777778,
           "#fb9f3a"
          ],
          [
           0.8888888888888888,
           "#fdca26"
          ],
          [
           1,
           "#f0f921"
          ]
         ]
        },
        "font": {
         "color": "#313131",
         "family": "Muli, AppleGothic, Futura, sans-serif",
         "size": 18
        },
        "height": 1800,
        "plot_bgcolor": "white",
        "showlegend": false,
        "template": {
         "data": {
          "bar": [
           {
            "error_x": {
             "color": "#2a3f5f"
            },
            "error_y": {
             "color": "#2a3f5f"
            },
            "marker": {
             "line": {
              "color": "#E5ECF6",
              "width": 0.5
             }
            },
            "type": "bar"
           }
          ],
          "barpolar": [
           {
            "marker": {
             "line": {
              "color": "#E5ECF6",
              "width": 0.5
             }
            },
            "type": "barpolar"
           }
          ],
          "carpet": [
           {
            "aaxis": {
             "endlinecolor": "#2a3f5f",
             "gridcolor": "white",
             "linecolor": "white",
             "minorgridcolor": "white",
             "startlinecolor": "#2a3f5f"
            },
            "baxis": {
             "endlinecolor": "#2a3f5f",
             "gridcolor": "white",
             "linecolor": "white",
             "minorgridcolor": "white",
             "startlinecolor": "#2a3f5f"
            },
            "type": "carpet"
           }
          ],
          "choropleth": [
           {
            "colorbar": {
             "outlinewidth": 0,
             "ticks": ""
            },
            "type": "choropleth"
           }
          ],
          "contour": [
           {
            "colorbar": {
             "outlinewidth": 0,
             "ticks": ""
            },
            "colorscale": [
             [
              0,
              "#0d0887"
             ],
             [
              0.1111111111111111,
              "#46039f"
             ],
             [
              0.2222222222222222,
              "#7201a8"
             ],
             [
              0.3333333333333333,
              "#9c179e"
             ],
             [
              0.4444444444444444,
              "#bd3786"
             ],
             [
              0.5555555555555556,
              "#d8576b"
             ],
             [
              0.6666666666666666,
              "#ed7953"
             ],
             [
              0.7777777777777778,
              "#fb9f3a"
             ],
             [
              0.8888888888888888,
              "#fdca26"
             ],
             [
              1,
              "#f0f921"
             ]
            ],
            "type": "contour"
           }
          ],
          "contourcarpet": [
           {
            "colorbar": {
             "outlinewidth": 0,
             "ticks": ""
            },
            "type": "contourcarpet"
           }
          ],
          "heatmap": [
           {
            "colorbar": {
             "outlinewidth": 0,
             "ticks": ""
            },
            "colorscale": [
             [
              0,
              "#0d0887"
             ],
             [
              0.1111111111111111,
              "#46039f"
             ],
             [
              0.2222222222222222,
              "#7201a8"
             ],
             [
              0.3333333333333333,
              "#9c179e"
             ],
             [
              0.4444444444444444,
              "#bd3786"
             ],
             [
              0.5555555555555556,
              "#d8576b"
             ],
             [
              0.6666666666666666,
              "#ed7953"
             ],
             [
              0.7777777777777778,
              "#fb9f3a"
             ],
             [
              0.8888888888888888,
              "#fdca26"
             ],
             [
              1,
              "#f0f921"
             ]
            ],
            "type": "heatmap"
           }
          ],
          "heatmapgl": [
           {
            "colorbar": {
             "outlinewidth": 0,
             "ticks": ""
            },
            "colorscale": [
             [
              0,
              "#0d0887"
             ],
             [
              0.1111111111111111,
              "#46039f"
             ],
             [
              0.2222222222222222,
              "#7201a8"
             ],
             [
              0.3333333333333333,
              "#9c179e"
             ],
             [
              0.4444444444444444,
              "#bd3786"
             ],
             [
              0.5555555555555556,
              "#d8576b"
             ],
             [
              0.6666666666666666,
              "#ed7953"
             ],
             [
              0.7777777777777778,
              "#fb9f3a"
             ],
             [
              0.8888888888888888,
              "#fdca26"
             ],
             [
              1,
              "#f0f921"
             ]
            ],
            "type": "heatmapgl"
           }
          ],
          "histogram": [
           {
            "marker": {
             "colorbar": {
              "outlinewidth": 0,
              "ticks": ""
             }
            },
            "type": "histogram"
           }
          ],
          "histogram2d": [
           {
            "colorbar": {
             "outlinewidth": 0,
             "ticks": ""
            },
            "colorscale": [
             [
              0,
              "#0d0887"
             ],
             [
              0.1111111111111111,
              "#46039f"
             ],
             [
              0.2222222222222222,
              "#7201a8"
             ],
             [
              0.3333333333333333,
              "#9c179e"
             ],
             [
              0.4444444444444444,
              "#bd3786"
             ],
             [
              0.5555555555555556,
              "#d8576b"
             ],
             [
              0.6666666666666666,
              "#ed7953"
             ],
             [
              0.7777777777777778,
              "#fb9f3a"
             ],
             [
              0.8888888888888888,
              "#fdca26"
             ],
             [
              1,
              "#f0f921"
             ]
            ],
            "type": "histogram2d"
           }
          ],
          "histogram2dcontour": [
           {
            "colorbar": {
             "outlinewidth": 0,
             "ticks": ""
            },
            "colorscale": [
             [
              0,
              "#0d0887"
             ],
             [
              0.1111111111111111,
              "#46039f"
             ],
             [
              0.2222222222222222,
              "#7201a8"
             ],
             [
              0.3333333333333333,
              "#9c179e"
             ],
             [
              0.4444444444444444,
              "#bd3786"
             ],
             [
              0.5555555555555556,
              "#d8576b"
             ],
             [
              0.6666666666666666,
              "#ed7953"
             ],
             [
              0.7777777777777778,
              "#fb9f3a"
             ],
             [
              0.8888888888888888,
              "#fdca26"
             ],
             [
              1,
              "#f0f921"
             ]
            ],
            "type": "histogram2dcontour"
           }
          ],
          "mesh3d": [
           {
            "colorbar": {
             "outlinewidth": 0,
             "ticks": ""
            },
            "type": "mesh3d"
           }
          ],
          "parcoords": [
           {
            "line": {
             "colorbar": {
              "outlinewidth": 0,
              "ticks": ""
             }
            },
            "type": "parcoords"
           }
          ],
          "pie": [
           {
            "automargin": true,
            "type": "pie"
           }
          ],
          "scatter": [
           {
            "marker": {
             "colorbar": {
              "outlinewidth": 0,
              "ticks": ""
             }
            },
            "type": "scatter"
           }
          ],
          "scatter3d": [
           {
            "line": {
             "colorbar": {
              "outlinewidth": 0,
              "ticks": ""
             }
            },
            "marker": {
             "colorbar": {
              "outlinewidth": 0,
              "ticks": ""
             }
            },
            "type": "scatter3d"
           }
          ],
          "scattercarpet": [
           {
            "marker": {
             "colorbar": {
              "outlinewidth": 0,
              "ticks": ""
             }
            },
            "type": "scattercarpet"
           }
          ],
          "scattergeo": [
           {
            "marker": {
             "colorbar": {
              "outlinewidth": 0,
              "ticks": ""
             }
            },
            "type": "scattergeo"
           }
          ],
          "scattergl": [
           {
            "marker": {
             "colorbar": {
              "outlinewidth": 0,
              "ticks": ""
             }
            },
            "type": "scattergl"
           }
          ],
          "scattermapbox": [
           {
            "marker": {
             "colorbar": {
              "outlinewidth": 0,
              "ticks": ""
             }
            },
            "type": "scattermapbox"
           }
          ],
          "scatterpolar": [
           {
            "marker": {
             "colorbar": {
              "outlinewidth": 0,
              "ticks": ""
             }
            },
            "type": "scatterpolar"
           }
          ],
          "scatterpolargl": [
           {
            "marker": {
             "colorbar": {
              "outlinewidth": 0,
              "ticks": ""
             }
            },
            "type": "scatterpolargl"
           }
          ],
          "scatterternary": [
           {
            "marker": {
             "colorbar": {
              "outlinewidth": 0,
              "ticks": ""
             }
            },
            "type": "scatterternary"
           }
          ],
          "surface": [
           {
            "colorbar": {
             "outlinewidth": 0,
             "ticks": ""
            },
            "colorscale": [
             [
              0,
              "#0d0887"
             ],
             [
              0.1111111111111111,
              "#46039f"
             ],
             [
              0.2222222222222222,
              "#7201a8"
             ],
             [
              0.3333333333333333,
              "#9c179e"
             ],
             [
              0.4444444444444444,
              "#bd3786"
             ],
             [
              0.5555555555555556,
              "#d8576b"
             ],
             [
              0.6666666666666666,
              "#ed7953"
             ],
             [
              0.7777777777777778,
              "#fb9f3a"
             ],
             [
              0.8888888888888888,
              "#fdca26"
             ],
             [
              1,
              "#f0f921"
             ]
            ],
            "type": "surface"
           }
          ],
          "table": [
           {
            "cells": {
             "fill": {
              "color": "#EBF0F8"
             },
             "line": {
              "color": "white"
             }
            },
            "header": {
             "fill": {
              "color": "#C8D4E3"
             },
             "line": {
              "color": "white"
             }
            },
            "type": "table"
           }
          ]
         },
         "layout": {
          "annotationdefaults": {
           "arrowcolor": "#2a3f5f",
           "arrowhead": 0,
           "arrowwidth": 1
          },
          "coloraxis": {
           "colorbar": {
            "outlinewidth": 0,
            "ticks": ""
           }
          },
          "colorscale": {
           "diverging": [
            [
             0,
             "#8e0152"
            ],
            [
             0.1,
             "#c51b7d"
            ],
            [
             0.2,
             "#de77ae"
            ],
            [
             0.3,
             "#f1b6da"
            ],
            [
             0.4,
             "#fde0ef"
            ],
            [
             0.5,
             "#f7f7f7"
            ],
            [
             0.6,
             "#e6f5d0"
            ],
            [
             0.7,
             "#b8e186"
            ],
            [
             0.8,
             "#7fbc41"
            ],
            [
             0.9,
             "#4d9221"
            ],
            [
             1,
             "#276419"
            ]
           ],
           "sequential": [
            [
             0,
             "#0d0887"
            ],
            [
             0.1111111111111111,
             "#46039f"
            ],
            [
             0.2222222222222222,
             "#7201a8"
            ],
            [
             0.3333333333333333,
             "#9c179e"
            ],
            [
             0.4444444444444444,
             "#bd3786"
            ],
            [
             0.5555555555555556,
             "#d8576b"
            ],
            [
             0.6666666666666666,
             "#ed7953"
            ],
            [
             0.7777777777777778,
             "#fb9f3a"
            ],
            [
             0.8888888888888888,
             "#fdca26"
            ],
            [
             1,
             "#f0f921"
            ]
           ],
           "sequentialminus": [
            [
             0,
             "#0d0887"
            ],
            [
             0.1111111111111111,
             "#46039f"
            ],
            [
             0.2222222222222222,
             "#7201a8"
            ],
            [
             0.3333333333333333,
             "#9c179e"
            ],
            [
             0.4444444444444444,
             "#bd3786"
            ],
            [
             0.5555555555555556,
             "#d8576b"
            ],
            [
             0.6666666666666666,
             "#ed7953"
            ],
            [
             0.7777777777777778,
             "#fb9f3a"
            ],
            [
             0.8888888888888888,
             "#fdca26"
            ],
            [
             1,
             "#f0f921"
            ]
           ]
          },
          "colorway": [
           "#636efa",
           "#EF553B",
           "#00cc96",
           "#ab63fa",
           "#FFA15A",
           "#19d3f3",
           "#FF6692",
           "#B6E880",
           "#FF97FF",
           "#FECB52"
          ],
          "font": {
           "color": "#2a3f5f"
          },
          "geo": {
           "bgcolor": "white",
           "lakecolor": "white",
           "landcolor": "#E5ECF6",
           "showlakes": true,
           "showland": true,
           "subunitcolor": "white"
          },
          "hoverlabel": {
           "align": "left"
          },
          "hovermode": "closest",
          "mapbox": {
           "style": "light"
          },
          "paper_bgcolor": "white",
          "plot_bgcolor": "#E5ECF6",
          "polar": {
           "angularaxis": {
            "gridcolor": "white",
            "linecolor": "white",
            "ticks": ""
           },
           "bgcolor": "#E5ECF6",
           "radialaxis": {
            "gridcolor": "white",
            "linecolor": "white",
            "ticks": ""
           }
          },
          "scene": {
           "xaxis": {
            "backgroundcolor": "#E5ECF6",
            "gridcolor": "white",
            "gridwidth": 2,
            "linecolor": "white",
            "showbackground": true,
            "ticks": "",
            "zerolinecolor": "white"
           },
           "yaxis": {
            "backgroundcolor": "#E5ECF6",
            "gridcolor": "white",
            "gridwidth": 2,
            "linecolor": "white",
            "showbackground": true,
            "ticks": "",
            "zerolinecolor": "white"
           },
           "zaxis": {
            "backgroundcolor": "#E5ECF6",
            "gridcolor": "white",
            "gridwidth": 2,
            "linecolor": "white",
            "showbackground": true,
            "ticks": "",
            "zerolinecolor": "white"
           }
          },
          "shapedefaults": {
           "line": {
            "color": "#2a3f5f"
           }
          },
          "ternary": {
           "aaxis": {
            "gridcolor": "white",
            "linecolor": "white",
            "ticks": ""
           },
           "baxis": {
            "gridcolor": "white",
            "linecolor": "white",
            "ticks": ""
           },
           "bgcolor": "#E5ECF6",
           "caxis": {
            "gridcolor": "white",
            "linecolor": "white",
            "ticks": ""
           }
          },
          "title": {
           "x": 0.05
          },
          "xaxis": {
           "automargin": true,
           "gridcolor": "white",
           "linecolor": "white",
           "ticks": "",
           "title": {
            "standoff": 15
           },
           "zerolinecolor": "white",
           "zerolinewidth": 2
          },
          "yaxis": {
           "automargin": true,
           "gridcolor": "white",
           "linecolor": "white",
           "ticks": "",
           "title": {
            "standoff": 15
           },
           "zerolinecolor": "white",
           "zerolinewidth": 2
          }
         }
        },
        "title": {
         "text": "Top Unique Terms by Review Sentiment for Select Skincare Brands",
         "x": 0.5
        },
        "width": 1400,
        "xaxis": {
         "anchor": "y",
         "automargin": true,
         "domain": [
          0,
          1
         ],
         "showticklabels": false
        },
        "xaxis2": {
         "anchor": "y2",
         "automargin": true,
         "domain": [
          0,
          1
         ],
         "showticklabels": false
        },
        "xaxis3": {
         "anchor": "y3",
         "automargin": true,
         "domain": [
          0,
          1
         ],
         "showticklabels": false
        },
        "xaxis4": {
         "anchor": "y4",
         "automargin": true,
         "domain": [
          0,
          1
         ],
         "showticklabels": false
        },
        "xaxis5": {
         "anchor": "y5",
         "automargin": true,
         "domain": [
          0,
          1
         ],
         "showticklabels": false
        },
        "yaxis": {
         "anchor": "x",
         "automargin": true,
         "domain": [
          0.848,
          1
         ],
         "dtick": 0.5,
         "title": {
          "text": "Cerave"
         }
        },
        "yaxis2": {
         "anchor": "x2",
         "automargin": true,
         "domain": [
          0.6359999999999999,
          0.7879999999999999
         ],
         "dtick": 0.5,
         "title": {
          "text": "Cetaphil"
         }
        },
        "yaxis3": {
         "anchor": "x3",
         "automargin": true,
         "domain": [
          0.424,
          0.576
         ],
         "dtick": 0.5,
         "title": {
          "text": "Clean & Clear"
         }
        },
        "yaxis4": {
         "anchor": "x4",
         "automargin": true,
         "domain": [
          0.212,
          0.364
         ],
         "dtick": 0.5,
         "title": {
          "text": "Bubble"
         }
        },
        "yaxis5": {
         "anchor": "x5",
         "automargin": true,
         "domain": [
          0,
          0.152
         ],
         "dtick": 0.5,
         "title": {
          "text": "Neutrogena"
         }
        }
       }
      },
      "text/html": [
       "<div>\n",
       "        \n",
       "        \n",
       "            <div id=\"48b7964c-d8be-40b0-8568-72709c9453da\" class=\"plotly-graph-div\" style=\"height:1800px; width:1400px;\"></div>\n",
       "            <script type=\"text/javascript\">\n",
       "                require([\"plotly\"], function(Plotly) {\n",
       "                    window.PLOTLYENV=window.PLOTLYENV || {};\n",
       "                    \n",
       "                if (document.getElementById(\"48b7964c-d8be-40b0-8568-72709c9453da\")) {\n",
       "                    Plotly.newPlot(\n",
       "                        '48b7964c-d8be-40b0-8568-72709c9453da',\n",
       "                        [{\"marker\": {\"color\": [4.558426966292135, 4.703431372549019, 4.580246913580247, 4.648550724637682, 4.749432248296745, 3.3473684210526318, 4.7441176470588236, 3.393689986282579, 4.2615384615384615, 4.369127516778524], \"coloraxis\": \"coloraxis\"}, \"orientation\": \"h\", \"type\": \"bar\", \"x\": [162.2661855466196, 165.42976410813108, 177.9751907642338, 191.3086218345449, 240.846776524814, 269.6342968919293, 275.71627351355176, 295.58406381085183, 395.32848040546025, 516.3946495171592], \"xaxis\": \"x\", \"y\": [\"foaming\", \"hyaluronic\", \"cerave_facial\", \"using_cerave\", \"moisturizing_cream\", \"white_cast\", \"cerave_moisturizing\", \"cast\", \"cerave_product\", \"love_cerave\"], \"yaxis\": \"y\"}, {\"marker\": {\"color\": [4.546025104602511, 4.721311475409836, 4.185185185185185, 3.8987341772151898, 4.666666666666667, 4.067375886524823, 4.683982683982684, 4.062045564711585, 3.9819494584837547, 4.375022657241255], \"coloraxis\": \"coloraxis\"}, \"orientation\": \"h\", \"type\": \"bar\", \"x\": [193.81232167570258, 201.0460488262641, 207.63772255827274, 219.0345090569427, 306.51282853840263, 309.80866540440695, 320.23399741869474, 376.1293716659283, 608.6312079221328, 1005.8680288322474], \"xaxis\": \"x2\", \"y\": [\"cetaphil_product\", \"trywithtopbox\", \"promotion_cetaphil\", \"cleanser_pinchme\", \"freeproduct\", \"received_cetaphil\", \"love_cetaphil\", \"cetaphil_gentle\", \"sample_cetaphil\", \"cetaphil\"], \"yaxis\": \"y2\"}, {\"marker\": {\"color\": [4.208333333333333, 4.359375, 4.415384615384616, 4.329268292682927, 4.224489795918367, 4.253401360544218, 4.3828125, 4.329608938547486, 4.145762711864407, 4.121004566210046], \"coloraxis\": \"coloraxis\"}, \"orientation\": \"h\", \"type\": \"bar\", \"x\": [66.54212933375474, 70.31118647475903, 71.40979876342713, 90.086207670785, 101.89263554231195, 107.2050753948453, 140.62237294951805, 196.65159967159164, 204.47841826518385, 239.57052562725633], \"xaxis\": \"x3\", \"y\": [\"second_shower\", \"eye_sheet\", \"bursting_bead\", \"action_\", \"shower_mask\", \"scrub\", \"clear_deep\", \"deep_action\", \"morning_burst\", \"clean_clear\"], \"yaxis\": \"y3\"}, {\"marker\": {\"color\": [4.875, 4.875, 5.0, 5.0, 5.0, 5.0, 4.583333333333333, 5.0, 5.0, 5.0, 4.911764705882353], \"coloraxis\": \"coloraxis\"}, \"orientation\": \"h\", \"type\": \"bar\", \"x\": [5.545177444479562, 5.545177444479562, 6.591673732008658, 6.591673732008658, 6.591673732008658, 7.690286020676768, 8.317766166719343, 8.788898309344878, 9.887510598012987, 15.813139216218412, 23.56700413903814], \"xaxis\": \"x4\", \"y\": [\"love_spray\", \"start_gel\", \"favorite_bubble\", \"dunk_moisturizer\", \"moisturizer_bubble\", \"bubble_skincare\", \"balancing_moisturizer\", \"brand_bubble\", \"using_bubble\", \"love_toner\", \"bubble_product\"], \"yaxis\": \"y4\"}, {\"marker\": {\"color\": [4.741758241758242, 4.741758241758242, 4.742112482853224, 4.742112482853224, 4.747770700636942, 4.747169811320755, 4.607099143206854, 4.681818181818182, 4.505778756191525, 4.21656113005358], \"coloraxis\": \"coloraxis\"}, \"orientation\": \"h\", \"type\": \"bar\", \"x\": [799.789746150384, 799.789746150384, 800.888358439052, 800.888358439052, 862.4106466044661, 873.3967694911473, 897.5662398418457, 1256.8124582363175, 1259.4484270774205, 1871.530780489944], \"xaxis\": \"x5\", \"y\": [\"neutrogena\\u00ae_reward\", \"crowdtap_neutrogena\\u00ae\", \"neutrogena\\u00ae_sent\", \"program_neutrogena\\u00ae\", \"reward_program\", \"member_crowdtap\", \"promotion_neutrogena\", \"neutrogena\\u00ae\", \"hydro_boost\", \"neutrogena\"], \"yaxis\": \"y5\"}],\n",
       "                        {\"autosize\": true, \"coloraxis\": {\"colorbar\": {\"title\": {\"text\": \"<b>average rating</b>\"}}, \"colorscale\": [[0.0, \"#0d0887\"], [0.1111111111111111, \"#46039f\"], [0.2222222222222222, \"#7201a8\"], [0.3333333333333333, \"#9c179e\"], [0.4444444444444444, \"#bd3786\"], [0.5555555555555556, \"#d8576b\"], [0.6666666666666666, \"#ed7953\"], [0.7777777777777778, \"#fb9f3a\"], [0.8888888888888888, \"#fdca26\"], [1.0, \"#f0f921\"]]}, \"font\": {\"color\": \"#313131\", \"family\": \"Muli, AppleGothic, Futura, sans-serif\", \"size\": 18}, \"height\": 1800, \"plot_bgcolor\": \"white\", \"showlegend\": false, \"template\": {\"data\": {\"bar\": [{\"error_x\": {\"color\": \"#2a3f5f\"}, \"error_y\": {\"color\": \"#2a3f5f\"}, \"marker\": {\"line\": {\"color\": \"#E5ECF6\", \"width\": 0.5}}, \"type\": \"bar\"}], \"barpolar\": [{\"marker\": {\"line\": {\"color\": \"#E5ECF6\", \"width\": 0.5}}, \"type\": \"barpolar\"}], \"carpet\": [{\"aaxis\": {\"endlinecolor\": \"#2a3f5f\", \"gridcolor\": \"white\", \"linecolor\": \"white\", \"minorgridcolor\": \"white\", \"startlinecolor\": \"#2a3f5f\"}, \"baxis\": {\"endlinecolor\": \"#2a3f5f\", \"gridcolor\": \"white\", \"linecolor\": \"white\", \"minorgridcolor\": \"white\", \"startlinecolor\": \"#2a3f5f\"}, \"type\": \"carpet\"}], \"choropleth\": [{\"colorbar\": {\"outlinewidth\": 0, \"ticks\": \"\"}, \"type\": \"choropleth\"}], \"contour\": [{\"colorbar\": {\"outlinewidth\": 0, \"ticks\": \"\"}, \"colorscale\": [[0.0, \"#0d0887\"], [0.1111111111111111, \"#46039f\"], [0.2222222222222222, \"#7201a8\"], [0.3333333333333333, \"#9c179e\"], [0.4444444444444444, \"#bd3786\"], [0.5555555555555556, \"#d8576b\"], [0.6666666666666666, \"#ed7953\"], [0.7777777777777778, \"#fb9f3a\"], [0.8888888888888888, \"#fdca26\"], [1.0, \"#f0f921\"]], \"type\": \"contour\"}], \"contourcarpet\": [{\"colorbar\": {\"outlinewidth\": 0, \"ticks\": \"\"}, \"type\": \"contourcarpet\"}], \"heatmap\": [{\"colorbar\": {\"outlinewidth\": 0, \"ticks\": \"\"}, \"colorscale\": [[0.0, \"#0d0887\"], [0.1111111111111111, \"#46039f\"], [0.2222222222222222, \"#7201a8\"], [0.3333333333333333, \"#9c179e\"], [0.4444444444444444, \"#bd3786\"], [0.5555555555555556, \"#d8576b\"], [0.6666666666666666, \"#ed7953\"], [0.7777777777777778, \"#fb9f3a\"], [0.8888888888888888, \"#fdca26\"], [1.0, \"#f0f921\"]], \"type\": \"heatmap\"}], \"heatmapgl\": [{\"colorbar\": {\"outlinewidth\": 0, \"ticks\": \"\"}, \"colorscale\": [[0.0, \"#0d0887\"], [0.1111111111111111, \"#46039f\"], [0.2222222222222222, \"#7201a8\"], [0.3333333333333333, \"#9c179e\"], [0.4444444444444444, \"#bd3786\"], [0.5555555555555556, \"#d8576b\"], [0.6666666666666666, \"#ed7953\"], [0.7777777777777778, \"#fb9f3a\"], [0.8888888888888888, \"#fdca26\"], [1.0, \"#f0f921\"]], \"type\": \"heatmapgl\"}], \"histogram\": [{\"marker\": {\"colorbar\": {\"outlinewidth\": 0, \"ticks\": \"\"}}, \"type\": \"histogram\"}], \"histogram2d\": [{\"colorbar\": {\"outlinewidth\": 0, \"ticks\": \"\"}, \"colorscale\": [[0.0, \"#0d0887\"], [0.1111111111111111, \"#46039f\"], [0.2222222222222222, \"#7201a8\"], [0.3333333333333333, \"#9c179e\"], [0.4444444444444444, \"#bd3786\"], [0.5555555555555556, \"#d8576b\"], [0.6666666666666666, \"#ed7953\"], [0.7777777777777778, \"#fb9f3a\"], [0.8888888888888888, \"#fdca26\"], [1.0, \"#f0f921\"]], \"type\": \"histogram2d\"}], \"histogram2dcontour\": [{\"colorbar\": {\"outlinewidth\": 0, \"ticks\": \"\"}, \"colorscale\": [[0.0, \"#0d0887\"], [0.1111111111111111, \"#46039f\"], [0.2222222222222222, \"#7201a8\"], [0.3333333333333333, \"#9c179e\"], [0.4444444444444444, \"#bd3786\"], [0.5555555555555556, \"#d8576b\"], [0.6666666666666666, \"#ed7953\"], [0.7777777777777778, \"#fb9f3a\"], [0.8888888888888888, \"#fdca26\"], [1.0, \"#f0f921\"]], \"type\": \"histogram2dcontour\"}], \"mesh3d\": [{\"colorbar\": {\"outlinewidth\": 0, \"ticks\": \"\"}, \"type\": \"mesh3d\"}], \"parcoords\": [{\"line\": {\"colorbar\": {\"outlinewidth\": 0, \"ticks\": \"\"}}, \"type\": \"parcoords\"}], \"pie\": [{\"automargin\": true, \"type\": \"pie\"}], \"scatter\": [{\"marker\": {\"colorbar\": {\"outlinewidth\": 0, \"ticks\": \"\"}}, \"type\": \"scatter\"}], \"scatter3d\": [{\"line\": {\"colorbar\": {\"outlinewidth\": 0, \"ticks\": \"\"}}, \"marker\": {\"colorbar\": {\"outlinewidth\": 0, \"ticks\": \"\"}}, \"type\": \"scatter3d\"}], \"scattercarpet\": [{\"marker\": {\"colorbar\": {\"outlinewidth\": 0, \"ticks\": \"\"}}, \"type\": \"scattercarpet\"}], \"scattergeo\": [{\"marker\": {\"colorbar\": {\"outlinewidth\": 0, \"ticks\": \"\"}}, \"type\": \"scattergeo\"}], \"scattergl\": [{\"marker\": {\"colorbar\": {\"outlinewidth\": 0, \"ticks\": \"\"}}, \"type\": \"scattergl\"}], \"scattermapbox\": [{\"marker\": {\"colorbar\": {\"outlinewidth\": 0, \"ticks\": \"\"}}, \"type\": \"scattermapbox\"}], \"scatterpolar\": [{\"marker\": {\"colorbar\": {\"outlinewidth\": 0, \"ticks\": \"\"}}, \"type\": \"scatterpolar\"}], \"scatterpolargl\": [{\"marker\": {\"colorbar\": {\"outlinewidth\": 0, \"ticks\": \"\"}}, \"type\": \"scatterpolargl\"}], \"scatterternary\": [{\"marker\": {\"colorbar\": {\"outlinewidth\": 0, \"ticks\": \"\"}}, \"type\": \"scatterternary\"}], \"surface\": [{\"colorbar\": {\"outlinewidth\": 0, \"ticks\": \"\"}, \"colorscale\": [[0.0, \"#0d0887\"], [0.1111111111111111, \"#46039f\"], [0.2222222222222222, \"#7201a8\"], [0.3333333333333333, \"#9c179e\"], [0.4444444444444444, \"#bd3786\"], [0.5555555555555556, \"#d8576b\"], [0.6666666666666666, \"#ed7953\"], [0.7777777777777778, \"#fb9f3a\"], [0.8888888888888888, \"#fdca26\"], [1.0, \"#f0f921\"]], \"type\": \"surface\"}], \"table\": [{\"cells\": {\"fill\": {\"color\": \"#EBF0F8\"}, \"line\": {\"color\": \"white\"}}, \"header\": {\"fill\": {\"color\": \"#C8D4E3\"}, \"line\": {\"color\": \"white\"}}, \"type\": \"table\"}]}, \"layout\": {\"annotationdefaults\": {\"arrowcolor\": \"#2a3f5f\", \"arrowhead\": 0, \"arrowwidth\": 1}, \"coloraxis\": {\"colorbar\": {\"outlinewidth\": 0, \"ticks\": \"\"}}, \"colorscale\": {\"diverging\": [[0, \"#8e0152\"], [0.1, \"#c51b7d\"], [0.2, \"#de77ae\"], [0.3, \"#f1b6da\"], [0.4, \"#fde0ef\"], [0.5, \"#f7f7f7\"], [0.6, \"#e6f5d0\"], [0.7, \"#b8e186\"], [0.8, \"#7fbc41\"], [0.9, \"#4d9221\"], [1, \"#276419\"]], \"sequential\": [[0.0, \"#0d0887\"], [0.1111111111111111, \"#46039f\"], [0.2222222222222222, \"#7201a8\"], [0.3333333333333333, \"#9c179e\"], [0.4444444444444444, \"#bd3786\"], [0.5555555555555556, \"#d8576b\"], [0.6666666666666666, \"#ed7953\"], [0.7777777777777778, \"#fb9f3a\"], [0.8888888888888888, \"#fdca26\"], [1.0, \"#f0f921\"]], \"sequentialminus\": [[0.0, \"#0d0887\"], [0.1111111111111111, \"#46039f\"], [0.2222222222222222, \"#7201a8\"], [0.3333333333333333, \"#9c179e\"], [0.4444444444444444, \"#bd3786\"], [0.5555555555555556, \"#d8576b\"], [0.6666666666666666, \"#ed7953\"], [0.7777777777777778, \"#fb9f3a\"], [0.8888888888888888, \"#fdca26\"], [1.0, \"#f0f921\"]]}, \"colorway\": [\"#636efa\", \"#EF553B\", \"#00cc96\", \"#ab63fa\", \"#FFA15A\", \"#19d3f3\", \"#FF6692\", \"#B6E880\", \"#FF97FF\", \"#FECB52\"], \"font\": {\"color\": \"#2a3f5f\"}, \"geo\": {\"bgcolor\": \"white\", \"lakecolor\": \"white\", \"landcolor\": \"#E5ECF6\", \"showlakes\": true, \"showland\": true, \"subunitcolor\": \"white\"}, \"hoverlabel\": {\"align\": \"left\"}, \"hovermode\": \"closest\", \"mapbox\": {\"style\": \"light\"}, \"paper_bgcolor\": \"white\", \"plot_bgcolor\": \"#E5ECF6\", \"polar\": {\"angularaxis\": {\"gridcolor\": \"white\", \"linecolor\": \"white\", \"ticks\": \"\"}, \"bgcolor\": \"#E5ECF6\", \"radialaxis\": {\"gridcolor\": \"white\", \"linecolor\": \"white\", \"ticks\": \"\"}}, \"scene\": {\"xaxis\": {\"backgroundcolor\": \"#E5ECF6\", \"gridcolor\": \"white\", \"gridwidth\": 2, \"linecolor\": \"white\", \"showbackground\": true, \"ticks\": \"\", \"zerolinecolor\": \"white\"}, \"yaxis\": {\"backgroundcolor\": \"#E5ECF6\", \"gridcolor\": \"white\", \"gridwidth\": 2, \"linecolor\": \"white\", \"showbackground\": true, \"ticks\": \"\", \"zerolinecolor\": \"white\"}, \"zaxis\": {\"backgroundcolor\": \"#E5ECF6\", \"gridcolor\": \"white\", \"gridwidth\": 2, \"linecolor\": \"white\", \"showbackground\": true, \"ticks\": \"\", \"zerolinecolor\": \"white\"}}, \"shapedefaults\": {\"line\": {\"color\": \"#2a3f5f\"}}, \"ternary\": {\"aaxis\": {\"gridcolor\": \"white\", \"linecolor\": \"white\", \"ticks\": \"\"}, \"baxis\": {\"gridcolor\": \"white\", \"linecolor\": \"white\", \"ticks\": \"\"}, \"bgcolor\": \"#E5ECF6\", \"caxis\": {\"gridcolor\": \"white\", \"linecolor\": \"white\", \"ticks\": \"\"}}, \"title\": {\"x\": 0.05}, \"xaxis\": {\"automargin\": true, \"gridcolor\": \"white\", \"linecolor\": \"white\", \"ticks\": \"\", \"title\": {\"standoff\": 15}, \"zerolinecolor\": \"white\", \"zerolinewidth\": 2}, \"yaxis\": {\"automargin\": true, \"gridcolor\": \"white\", \"linecolor\": \"white\", \"ticks\": \"\", \"title\": {\"standoff\": 15}, \"zerolinecolor\": \"white\", \"zerolinewidth\": 2}}}, \"title\": {\"text\": \"Top Unique Terms by Review Sentiment for Select Skincare Brands\", \"x\": 0.5}, \"width\": 1400, \"xaxis\": {\"anchor\": \"y\", \"automargin\": true, \"domain\": [0.0, 1.0], \"showticklabels\": false}, \"xaxis2\": {\"anchor\": \"y2\", \"automargin\": true, \"domain\": [0.0, 1.0], \"showticklabels\": false}, \"xaxis3\": {\"anchor\": \"y3\", \"automargin\": true, \"domain\": [0.0, 1.0], \"showticklabels\": false}, \"xaxis4\": {\"anchor\": \"y4\", \"automargin\": true, \"domain\": [0.0, 1.0], \"showticklabels\": false}, \"xaxis5\": {\"anchor\": \"y5\", \"automargin\": true, \"domain\": [0.0, 1.0], \"showticklabels\": false}, \"yaxis\": {\"anchor\": \"x\", \"automargin\": true, \"domain\": [0.848, 1.0], \"dtick\": 0.5, \"title\": {\"text\": \"Cerave\"}}, \"yaxis2\": {\"anchor\": \"x2\", \"automargin\": true, \"domain\": [0.6359999999999999, 0.7879999999999999], \"dtick\": 0.5, \"title\": {\"text\": \"Cetaphil\"}}, \"yaxis3\": {\"anchor\": \"x3\", \"automargin\": true, \"domain\": [0.424, 0.576], \"dtick\": 0.5, \"title\": {\"text\": \"Clean & Clear\"}}, \"yaxis4\": {\"anchor\": \"x4\", \"automargin\": true, \"domain\": [0.212, 0.364], \"dtick\": 0.5, \"title\": {\"text\": \"Bubble\"}}, \"yaxis5\": {\"anchor\": \"x5\", \"automargin\": true, \"domain\": [0.0, 0.152], \"dtick\": 0.5, \"title\": {\"text\": \"Neutrogena\"}}},\n",
       "                        {\"responsive\": true}\n",
       "                    ).then(function(){\n",
       "                            \n",
       "var gd = document.getElementById('48b7964c-d8be-40b0-8568-72709c9453da');\n",
       "var x = new MutationObserver(function (mutations, observer) {{\n",
       "        var display = window.getComputedStyle(gd).display;\n",
       "        if (!display || display === 'none') {{\n",
       "            console.log([gd, 'removed!']);\n",
       "            Plotly.purge(gd);\n",
       "            observer.disconnect();\n",
       "        }}\n",
       "}});\n",
       "\n",
       "// Listen for the removal of the full notebook cells\n",
       "var notebookContainer = gd.closest('#notebook-container');\n",
       "if (notebookContainer) {{\n",
       "    x.observe(notebookContainer, {childList: true});\n",
       "}}\n",
       "\n",
       "// Listen for the clearing of the current output cell\n",
       "var outputEl = gd.closest('.output');\n",
       "if (outputEl) {{\n",
       "    x.observe(outputEl, {childList: true});\n",
       "}}\n",
       "\n",
       "                        })\n",
       "                };\n",
       "                });\n",
       "            </script>\n",
       "        </div>"
      ]
     },
     "metadata": {},
     "output_type": "display_data"
    }
   ],
   "source": [
    "fig = make_subplots(\n",
    "    rows=n_brands,\n",
    "    cols=1,\n",
    ")\n",
    "\n",
    "j = 0\n",
    "\n",
    "for url, data in top_tfidf_pdf.groupby('normalized_url'):\n",
    "#for url, data in top_tfidf_pdf.groupby('normalized_url'):\n",
    "\n",
    "    fig.add_trace(\n",
    "        go.Bar(\n",
    "            orientation='h',\n",
    "            x=data.tfidf,\n",
    "            y=data.vocab,\n",
    "            marker=dict(color=data.avg_rating, coloraxis=\"coloraxis\")\n",
    "        ),\n",
    "        row=j+1, col=1\n",
    "    )\n",
    "    j += 1\n",
    "    fig.update_yaxes(automargin = True,title_text=brand_name_di.get(url), row=j, col=1, dtick =.5)#use dtick if not all term labels show up \n",
    "    fig.update_xaxes(automargin = True,showticklabels=False)\n",
    "#     fig.update_xaxes(title_text=sentiment, row=j, col=1)\n",
    "        \n",
    "    \n",
    "fig.update_layout(\n",
    "    autosize = True,\n",
    "    width=1400,\n",
    "    height=1800,\n",
    "    font=Font.plot_title.value,\n",
    "    plot_bgcolor=\"white\",\n",
    "    title={\"x\": 0.5},\n",
    "    coloraxis=dict(colorscale='Plasma', colorbar_title_text='<b>average rating</b>'),\n",
    "    title_text=f\"Top Unique Terms by Review Sentiment for Select {GROUP_NAME} Brands\",\n",
    "    showlegend=False\n",
    ")\n",
    "#fig.update_xaxes(automargin=True)\n",
    "\n",
    "fig.show()"
   ]
  },
  {
   "cell_type": "markdown",
   "metadata": {},
   "source": [
    "# TFIDF sklearn implementation"
   ]
  },
  {
   "cell_type": "code",
   "execution_count": 289,
   "metadata": {
    "ExecuteTime": {
     "end_time": "2021-04-14T22:01:31.494980Z",
     "start_time": "2021-04-14T22:01:31.490396Z"
    }
   },
   "outputs": [],
   "source": [
    "DOC_GROUP = ['normalized_url']"
   ]
  },
  {
   "cell_type": "code",
   "execution_count": 290,
   "metadata": {
    "ExecuteTime": {
     "end_time": "2021-04-14T22:01:31.532863Z",
     "start_time": "2021-04-14T22:01:31.508252Z"
    }
   },
   "outputs": [],
   "source": [
    "sk_form = (\n",
    "    brand_revs\n",
    "    .groupby(DOC_GROUP)\n",
    "    .agg(F.concat_ws('\\n', F.collect_list('review_content')).alias('review_text'))\n",
    "    .persist()\n",
    ")"
   ]
  },
  {
   "cell_type": "code",
   "execution_count": 291,
   "metadata": {
    "ExecuteTime": {
     "end_time": "2021-04-14T22:01:33.203103Z",
     "start_time": "2021-04-14T22:01:31.536560Z"
    }
   },
   "outputs": [],
   "source": [
    "example_pdf = sk_form.toPandas()"
   ]
  },
  {
   "cell_type": "code",
   "execution_count": 292,
   "metadata": {
    "ExecuteTime": {
     "end_time": "2021-04-14T22:01:33.212950Z",
     "start_time": "2021-04-14T22:01:33.206953Z"
    }
   },
   "outputs": [],
   "source": [
    "# if CUSTOM_STOPWORDS:\n",
    "#     def tokenize(s, custom_words=CUSTOM_STOPWORDS):\n",
    "#         filter_words = added_stopwords_li + stopwords_li + punkts_li + custom_words\n",
    "#         return [w.lower() for w in word_tokenize(str(s)) if w.lower() not in filter_words]\n",
    "\n",
    "#     tokenize_udf = spark.udf.register(\"tokenize\", tokenize, T.ArrayType(T.StringType()))"
   ]
  },
  {
   "cell_type": "code",
   "execution_count": 293,
   "metadata": {
    "ExecuteTime": {
     "end_time": "2021-04-14T22:01:33.219961Z",
     "start_time": "2021-04-14T22:01:33.216644Z"
    }
   },
   "outputs": [],
   "source": [
    "REV_WORDS = []"
   ]
  },
  {
   "cell_type": "code",
   "execution_count": 294,
   "metadata": {
    "ExecuteTime": {
     "end_time": "2021-04-14T22:02:16.699028Z",
     "start_time": "2021-04-14T22:01:33.222739Z"
    }
   },
   "outputs": [],
   "source": [
    "from sklearn.feature_extraction.text import TfidfVectorizer\n",
    "sk_tfidf = TfidfVectorizer(\n",
    "    stop_words = GROUP_CUSTOM_STOPWORDS + CUSTOM_STOPWORDS + added_stopwords_li + stopwords_li + punkts_li + \\\n",
    "    REV_WORDS + GROUP_CUSTOM_STOPWORDS + BIGRAM_UNIGRAM_WORD_FILTER,\n",
    "    ngram_range=(2, 3)\n",
    ")\n",
    "sk_out = sk_tfidf.fit_transform(example_pdf['review_text'])"
   ]
  },
  {
   "cell_type": "code",
   "execution_count": 295,
   "metadata": {
    "ExecuteTime": {
     "end_time": "2021-04-14T22:02:44.110877Z",
     "start_time": "2021-04-14T22:02:16.701706Z"
    }
   },
   "outputs": [],
   "source": [
    "tfidf_pdf = (\n",
    "    pd.DataFrame(sk_out.toarray(), columns = sk_tfidf.get_feature_names())\n",
    "    .stack()\n",
    "    .to_frame()\n",
    "    .reset_index()\n",
    "    .rename(columns={0:'tfidf', 'level_1':'tokens'})\n",
    "    .merge(example_pdf[['normalized_url']], right_index=True, left_on='level_0', how='left')\n",
    "    .drop(['level_0'], axis=1)\n",
    ")"
   ]
  },
  {
   "cell_type": "code",
   "execution_count": 296,
   "metadata": {
    "ExecuteTime": {
     "end_time": "2021-04-14T22:02:44.121089Z",
     "start_time": "2021-04-14T22:02:44.114127Z"
    }
   },
   "outputs": [
    {
     "data": {
      "text/plain": [
       "18071135"
      ]
     },
     "execution_count": 296,
     "metadata": {},
     "output_type": "execute_result"
    }
   ],
   "source": [
    "len(tfidf_pdf)"
   ]
  },
  {
   "cell_type": "code",
   "execution_count": 297,
   "metadata": {
    "ExecuteTime": {
     "end_time": "2021-04-14T22:02:44.128422Z",
     "start_time": "2021-04-14T22:02:44.124622Z"
    }
   },
   "outputs": [],
   "source": [
    "# how many words per brand\n",
    "TOP_N_PER_GROUP = 6"
   ]
  },
  {
   "cell_type": "code",
   "execution_count": 298,
   "metadata": {
    "ExecuteTime": {
     "end_time": "2021-04-14T22:02:49.406700Z",
     "start_time": "2021-04-14T22:02:44.131406Z"
    }
   },
   "outputs": [],
   "source": [
    "top_tfidf_pdf = (\n",
    "    tfidf_pdf\n",
    "    .sort_values(['tfidf'], ascending=False)\n",
    "    .groupby(DOC_GROUP)\n",
    "    .head(TOP_N_PER_GROUP)\n",
    "    .sort_values(['tfidf'])\n",
    ")"
   ]
  },
  {
   "cell_type": "code",
   "execution_count": 299,
   "metadata": {
    "ExecuteTime": {
     "end_time": "2021-04-14T22:02:49.430092Z",
     "start_time": "2021-04-14T22:02:49.409757Z"
    },
    "scrolled": true
   },
   "outputs": [
    {
     "data": {
      "text/html": [
       "<div>\n",
       "<style>\n",
       "    .dataframe thead tr:only-child th {\n",
       "        text-align: right;\n",
       "    }\n",
       "\n",
       "    .dataframe thead th {\n",
       "        text-align: left;\n",
       "    }\n",
       "\n",
       "    .dataframe tbody tr th {\n",
       "        vertical-align: top;\n",
       "    }\n",
       "</style>\n",
       "<table border=\"1\" class=\"dataframe\">\n",
       "  <thead>\n",
       "    <tr style=\"text-align: right;\">\n",
       "      <th></th>\n",
       "      <th>tokens</th>\n",
       "      <th>tfidf</th>\n",
       "      <th>normalized_url</th>\n",
       "    </tr>\n",
       "  </thead>\n",
       "  <tbody>\n",
       "    <tr>\n",
       "      <th>1301242</th>\n",
       "      <td>hair feeling</td>\n",
       "      <td>0.091366</td>\n",
       "      <td>purezerobeauty.com</td>\n",
       "    </tr>\n",
       "    <tr>\n",
       "      <th>1362177</th>\n",
       "      <td>hair soft</td>\n",
       "      <td>0.101155</td>\n",
       "      <td>purezerobeauty.com</td>\n",
       "    </tr>\n",
       "    <tr>\n",
       "      <th>1301877</th>\n",
       "      <td>hair feels</td>\n",
       "      <td>0.114208</td>\n",
       "      <td>purezerobeauty.com</td>\n",
       "    </tr>\n",
       "    <tr>\n",
       "      <th>1300186</th>\n",
       "      <td>hair feel</td>\n",
       "      <td>0.120734</td>\n",
       "      <td>purezerobeauty.com</td>\n",
       "    </tr>\n",
       "    <tr>\n",
       "      <th>8530331</th>\n",
       "      <td>hair feels</td>\n",
       "      <td>0.121990</td>\n",
       "      <td>odelebeauty.com</td>\n",
       "    </tr>\n",
       "    <tr>\n",
       "      <th>7297789</th>\n",
       "      <td>air dry</td>\n",
       "      <td>0.127948</td>\n",
       "      <td>odelebeauty.com</td>\n",
       "    </tr>\n",
       "    <tr>\n",
       "      <th>15501960</th>\n",
       "      <td>fine hair</td>\n",
       "      <td>0.131396</td>\n",
       "      <td>evolvh.com</td>\n",
       "    </tr>\n",
       "    <tr>\n",
       "      <th>8893950</th>\n",
       "      <td>leaves hair</td>\n",
       "      <td>0.135763</td>\n",
       "      <td>odelebeauty.com</td>\n",
       "    </tr>\n",
       "    <tr>\n",
       "      <th>9068231</th>\n",
       "      <td>makes hair</td>\n",
       "      <td>0.137731</td>\n",
       "      <td>odelebeauty.com</td>\n",
       "    </tr>\n",
       "    <tr>\n",
       "      <th>1839777</th>\n",
       "      <td>makes hair</td>\n",
       "      <td>0.140312</td>\n",
       "      <td>purezerobeauty.com</td>\n",
       "    </tr>\n",
       "    <tr>\n",
       "      <th>5437663</th>\n",
       "      <td>made hair</td>\n",
       "      <td>0.143694</td>\n",
       "      <td>theouai.com</td>\n",
       "    </tr>\n",
       "    <tr>\n",
       "      <th>1665496</th>\n",
       "      <td>leaves hair</td>\n",
       "      <td>0.146838</td>\n",
       "      <td>purezerobeauty.com</td>\n",
       "    </tr>\n",
       "    <tr>\n",
       "      <th>8528640</th>\n",
       "      <td>hair feel</td>\n",
       "      <td>0.151504</td>\n",
       "      <td>odelebeauty.com</td>\n",
       "    </tr>\n",
       "    <tr>\n",
       "      <th>15758785</th>\n",
       "      <td>hair feels</td>\n",
       "      <td>0.154368</td>\n",
       "      <td>evolvh.com</td>\n",
       "    </tr>\n",
       "    <tr>\n",
       "      <th>11463017</th>\n",
       "      <td>curly hair</td>\n",
       "      <td>0.161111</td>\n",
       "      <td>ogxbeauty.com</td>\n",
       "    </tr>\n",
       "    <tr>\n",
       "      <th>7848790</th>\n",
       "      <td>curly hair</td>\n",
       "      <td>0.161342</td>\n",
       "      <td>odelebeauty.com</td>\n",
       "    </tr>\n",
       "    <tr>\n",
       "      <th>7048850</th>\n",
       "      <td>wave spray</td>\n",
       "      <td>0.164553</td>\n",
       "      <td>theouai.com</td>\n",
       "    </tr>\n",
       "    <tr>\n",
       "      <th>15819085</th>\n",
       "      <td>hair soft</td>\n",
       "      <td>0.184690</td>\n",
       "      <td>evolvh.com</td>\n",
       "    </tr>\n",
       "    <tr>\n",
       "      <th>12143923</th>\n",
       "      <td>hair feeling</td>\n",
       "      <td>0.185585</td>\n",
       "      <td>ogxbeauty.com</td>\n",
       "    </tr>\n",
       "    <tr>\n",
       "      <th>4914413</th>\n",
       "      <td>hair feel</td>\n",
       "      <td>0.190787</td>\n",
       "      <td>theouai.com</td>\n",
       "    </tr>\n",
       "    <tr>\n",
       "      <th>15077244</th>\n",
       "      <td>curly hair</td>\n",
       "      <td>0.191122</td>\n",
       "      <td>evolvh.com</td>\n",
       "    </tr>\n",
       "    <tr>\n",
       "      <th>16296685</th>\n",
       "      <td>makes hair</td>\n",
       "      <td>0.203067</td>\n",
       "      <td>evolvh.com</td>\n",
       "    </tr>\n",
       "    <tr>\n",
       "      <th>4952582</th>\n",
       "      <td>hair oil</td>\n",
       "      <td>0.206001</td>\n",
       "      <td>theouai.com</td>\n",
       "    </tr>\n",
       "    <tr>\n",
       "      <th>5279723</th>\n",
       "      <td>leaves hair</td>\n",
       "      <td>0.206460</td>\n",
       "      <td>theouai.com</td>\n",
       "    </tr>\n",
       "    <tr>\n",
       "      <th>12204858</th>\n",
       "      <td>hair soft</td>\n",
       "      <td>0.214137</td>\n",
       "      <td>ogxbeauty.com</td>\n",
       "    </tr>\n",
       "    <tr>\n",
       "      <th>16122404</th>\n",
       "      <td>leaves hair</td>\n",
       "      <td>0.215931</td>\n",
       "      <td>evolvh.com</td>\n",
       "    </tr>\n",
       "    <tr>\n",
       "      <th>12142867</th>\n",
       "      <td>hair feel</td>\n",
       "      <td>0.229210</td>\n",
       "      <td>ogxbeauty.com</td>\n",
       "    </tr>\n",
       "    <tr>\n",
       "      <th>5454004</th>\n",
       "      <td>makes hair</td>\n",
       "      <td>0.258752</td>\n",
       "      <td>theouai.com</td>\n",
       "    </tr>\n",
       "    <tr>\n",
       "      <th>12508177</th>\n",
       "      <td>leaves hair</td>\n",
       "      <td>0.320966</td>\n",
       "      <td>ogxbeauty.com</td>\n",
       "    </tr>\n",
       "    <tr>\n",
       "      <th>12682458</th>\n",
       "      <td>makes hair</td>\n",
       "      <td>0.366029</td>\n",
       "      <td>ogxbeauty.com</td>\n",
       "    </tr>\n",
       "  </tbody>\n",
       "</table>\n",
       "</div>"
      ],
      "text/plain": [
       "                tokens     tfidf      normalized_url\n",
       "1301242   hair feeling  0.091366  purezerobeauty.com\n",
       "1362177      hair soft  0.101155  purezerobeauty.com\n",
       "1301877     hair feels  0.114208  purezerobeauty.com\n",
       "1300186      hair feel  0.120734  purezerobeauty.com\n",
       "8530331     hair feels  0.121990     odelebeauty.com\n",
       "7297789        air dry  0.127948     odelebeauty.com\n",
       "15501960     fine hair  0.131396          evolvh.com\n",
       "8893950    leaves hair  0.135763     odelebeauty.com\n",
       "9068231     makes hair  0.137731     odelebeauty.com\n",
       "1839777     makes hair  0.140312  purezerobeauty.com\n",
       "5437663      made hair  0.143694         theouai.com\n",
       "1665496    leaves hair  0.146838  purezerobeauty.com\n",
       "8528640      hair feel  0.151504     odelebeauty.com\n",
       "15758785    hair feels  0.154368          evolvh.com\n",
       "11463017    curly hair  0.161111       ogxbeauty.com\n",
       "7848790     curly hair  0.161342     odelebeauty.com\n",
       "7048850     wave spray  0.164553         theouai.com\n",
       "15819085     hair soft  0.184690          evolvh.com\n",
       "12143923  hair feeling  0.185585       ogxbeauty.com\n",
       "4914413      hair feel  0.190787         theouai.com\n",
       "15077244    curly hair  0.191122          evolvh.com\n",
       "16296685    makes hair  0.203067          evolvh.com\n",
       "4952582       hair oil  0.206001         theouai.com\n",
       "5279723    leaves hair  0.206460         theouai.com\n",
       "12204858     hair soft  0.214137       ogxbeauty.com\n",
       "16122404   leaves hair  0.215931          evolvh.com\n",
       "12142867     hair feel  0.229210       ogxbeauty.com\n",
       "5454004     makes hair  0.258752         theouai.com\n",
       "12508177   leaves hair  0.320966       ogxbeauty.com\n",
       "12682458    makes hair  0.366029       ogxbeauty.com"
      ]
     },
     "execution_count": 299,
     "metadata": {},
     "output_type": "execute_result"
    }
   ],
   "source": [
    "top_tfidf_pdf"
   ]
  },
  {
   "cell_type": "code",
   "execution_count": 300,
   "metadata": {
    "ExecuteTime": {
     "end_time": "2021-04-14T22:02:49.439669Z",
     "start_time": "2021-04-14T22:02:49.434251Z"
    }
   },
   "outputs": [],
   "source": [
    "n_brands = top_tfidf_pdf.normalized_url.nunique()"
   ]
  },
  {
   "cell_type": "code",
   "execution_count": 301,
   "metadata": {
    "ExecuteTime": {
     "end_time": "2021-04-14T22:02:50.051240Z",
     "start_time": "2021-04-14T22:02:49.442632Z"
    },
    "scrolled": false
   },
   "outputs": [
    {
     "data": {
      "application/vnd.plotly.v1+json": {
       "config": {
        "plotlyServerURL": "https://plot.ly"
       },
       "data": [
        {
         "orientation": "h",
         "type": "bar",
         "x": [
          0.13139633859147484,
          0.1543677264571173,
          0.18468995843976532,
          0.19112194704214522,
          0.20306706873227928,
          0.21593104593703907
         ],
         "xaxis": "x",
         "y": [
          "fine hair",
          "hair feels",
          "hair soft",
          "curly hair",
          "makes hair",
          "leaves hair"
         ],
         "yaxis": "y"
        },
        {
         "orientation": "h",
         "type": "bar",
         "x": [
          0.12199037563543036,
          0.12794760961183668,
          0.1357634825620112,
          0.13773106926580847,
          0.15150417619238932,
          0.16134210971137564
         ],
         "xaxis": "x2",
         "y": [
          "hair feels",
          "air dry",
          "leaves hair",
          "makes hair",
          "hair feel",
          "curly hair"
         ],
         "yaxis": "y2"
        },
        {
         "orientation": "h",
         "type": "bar",
         "x": [
          0.16111108840192598,
          0.18558464225819024,
          0.21413712175716523,
          0.22920972317975338,
          0.32096612668530294,
          0.36602854330953555
         ],
         "xaxis": "x3",
         "y": [
          "curly hair",
          "hair feeling",
          "hair soft",
          "hair feel",
          "leaves hair",
          "makes hair"
         ],
         "yaxis": "y3"
        },
        {
         "orientation": "h",
         "type": "bar",
         "x": [
          0.09136608146505151,
          0.10115530447916418,
          0.1142076018313144,
          0.1207337505073895,
          0.14031219653561483,
          0.14683834521168992
         ],
         "xaxis": "x4",
         "y": [
          "hair feeling",
          "hair soft",
          "hair feels",
          "hair feel",
          "makes hair",
          "leaves hair"
         ],
         "yaxis": "y4"
        },
        {
         "orientation": "h",
         "type": "bar",
         "x": [
          0.14369412270438858,
          0.164552936494088,
          0.19078653906469537,
          0.2060013432330114,
          0.2064595983199141,
          0.25875195490041025
         ],
         "xaxis": "x5",
         "y": [
          "made hair",
          "wave spray",
          "hair feel",
          "hair oil",
          "leaves hair",
          "makes hair"
         ],
         "yaxis": "y5"
        }
       ],
       "layout": {
        "colorway": [
         "#365bb7",
         "#e56725",
         "#128dbd",
         "#5fa036",
         "#e33a2b",
         "#feb40b",
         "#984e99",
         "#8c350d",
         "#0c5d7b",
         "#6c6c6c"
        ],
        "font": {
         "color": "#313131",
         "family": "Muli, AppleGothic, Futura, sans-serif",
         "size": 18
        },
        "height": 1000,
        "plot_bgcolor": "white",
        "showlegend": false,
        "template": {
         "data": {
          "bar": [
           {
            "error_x": {
             "color": "#2a3f5f"
            },
            "error_y": {
             "color": "#2a3f5f"
            },
            "marker": {
             "line": {
              "color": "#E5ECF6",
              "width": 0.5
             }
            },
            "type": "bar"
           }
          ],
          "barpolar": [
           {
            "marker": {
             "line": {
              "color": "#E5ECF6",
              "width": 0.5
             }
            },
            "type": "barpolar"
           }
          ],
          "carpet": [
           {
            "aaxis": {
             "endlinecolor": "#2a3f5f",
             "gridcolor": "white",
             "linecolor": "white",
             "minorgridcolor": "white",
             "startlinecolor": "#2a3f5f"
            },
            "baxis": {
             "endlinecolor": "#2a3f5f",
             "gridcolor": "white",
             "linecolor": "white",
             "minorgridcolor": "white",
             "startlinecolor": "#2a3f5f"
            },
            "type": "carpet"
           }
          ],
          "choropleth": [
           {
            "colorbar": {
             "outlinewidth": 0,
             "ticks": ""
            },
            "type": "choropleth"
           }
          ],
          "contour": [
           {
            "colorbar": {
             "outlinewidth": 0,
             "ticks": ""
            },
            "colorscale": [
             [
              0,
              "#0d0887"
             ],
             [
              0.1111111111111111,
              "#46039f"
             ],
             [
              0.2222222222222222,
              "#7201a8"
             ],
             [
              0.3333333333333333,
              "#9c179e"
             ],
             [
              0.4444444444444444,
              "#bd3786"
             ],
             [
              0.5555555555555556,
              "#d8576b"
             ],
             [
              0.6666666666666666,
              "#ed7953"
             ],
             [
              0.7777777777777778,
              "#fb9f3a"
             ],
             [
              0.8888888888888888,
              "#fdca26"
             ],
             [
              1,
              "#f0f921"
             ]
            ],
            "type": "contour"
           }
          ],
          "contourcarpet": [
           {
            "colorbar": {
             "outlinewidth": 0,
             "ticks": ""
            },
            "type": "contourcarpet"
           }
          ],
          "heatmap": [
           {
            "colorbar": {
             "outlinewidth": 0,
             "ticks": ""
            },
            "colorscale": [
             [
              0,
              "#0d0887"
             ],
             [
              0.1111111111111111,
              "#46039f"
             ],
             [
              0.2222222222222222,
              "#7201a8"
             ],
             [
              0.3333333333333333,
              "#9c179e"
             ],
             [
              0.4444444444444444,
              "#bd3786"
             ],
             [
              0.5555555555555556,
              "#d8576b"
             ],
             [
              0.6666666666666666,
              "#ed7953"
             ],
             [
              0.7777777777777778,
              "#fb9f3a"
             ],
             [
              0.8888888888888888,
              "#fdca26"
             ],
             [
              1,
              "#f0f921"
             ]
            ],
            "type": "heatmap"
           }
          ],
          "heatmapgl": [
           {
            "colorbar": {
             "outlinewidth": 0,
             "ticks": ""
            },
            "colorscale": [
             [
              0,
              "#0d0887"
             ],
             [
              0.1111111111111111,
              "#46039f"
             ],
             [
              0.2222222222222222,
              "#7201a8"
             ],
             [
              0.3333333333333333,
              "#9c179e"
             ],
             [
              0.4444444444444444,
              "#bd3786"
             ],
             [
              0.5555555555555556,
              "#d8576b"
             ],
             [
              0.6666666666666666,
              "#ed7953"
             ],
             [
              0.7777777777777778,
              "#fb9f3a"
             ],
             [
              0.8888888888888888,
              "#fdca26"
             ],
             [
              1,
              "#f0f921"
             ]
            ],
            "type": "heatmapgl"
           }
          ],
          "histogram": [
           {
            "marker": {
             "colorbar": {
              "outlinewidth": 0,
              "ticks": ""
             }
            },
            "type": "histogram"
           }
          ],
          "histogram2d": [
           {
            "colorbar": {
             "outlinewidth": 0,
             "ticks": ""
            },
            "colorscale": [
             [
              0,
              "#0d0887"
             ],
             [
              0.1111111111111111,
              "#46039f"
             ],
             [
              0.2222222222222222,
              "#7201a8"
             ],
             [
              0.3333333333333333,
              "#9c179e"
             ],
             [
              0.4444444444444444,
              "#bd3786"
             ],
             [
              0.5555555555555556,
              "#d8576b"
             ],
             [
              0.6666666666666666,
              "#ed7953"
             ],
             [
              0.7777777777777778,
              "#fb9f3a"
             ],
             [
              0.8888888888888888,
              "#fdca26"
             ],
             [
              1,
              "#f0f921"
             ]
            ],
            "type": "histogram2d"
           }
          ],
          "histogram2dcontour": [
           {
            "colorbar": {
             "outlinewidth": 0,
             "ticks": ""
            },
            "colorscale": [
             [
              0,
              "#0d0887"
             ],
             [
              0.1111111111111111,
              "#46039f"
             ],
             [
              0.2222222222222222,
              "#7201a8"
             ],
             [
              0.3333333333333333,
              "#9c179e"
             ],
             [
              0.4444444444444444,
              "#bd3786"
             ],
             [
              0.5555555555555556,
              "#d8576b"
             ],
             [
              0.6666666666666666,
              "#ed7953"
             ],
             [
              0.7777777777777778,
              "#fb9f3a"
             ],
             [
              0.8888888888888888,
              "#fdca26"
             ],
             [
              1,
              "#f0f921"
             ]
            ],
            "type": "histogram2dcontour"
           }
          ],
          "mesh3d": [
           {
            "colorbar": {
             "outlinewidth": 0,
             "ticks": ""
            },
            "type": "mesh3d"
           }
          ],
          "parcoords": [
           {
            "line": {
             "colorbar": {
              "outlinewidth": 0,
              "ticks": ""
             }
            },
            "type": "parcoords"
           }
          ],
          "pie": [
           {
            "automargin": true,
            "type": "pie"
           }
          ],
          "scatter": [
           {
            "marker": {
             "colorbar": {
              "outlinewidth": 0,
              "ticks": ""
             }
            },
            "type": "scatter"
           }
          ],
          "scatter3d": [
           {
            "line": {
             "colorbar": {
              "outlinewidth": 0,
              "ticks": ""
             }
            },
            "marker": {
             "colorbar": {
              "outlinewidth": 0,
              "ticks": ""
             }
            },
            "type": "scatter3d"
           }
          ],
          "scattercarpet": [
           {
            "marker": {
             "colorbar": {
              "outlinewidth": 0,
              "ticks": ""
             }
            },
            "type": "scattercarpet"
           }
          ],
          "scattergeo": [
           {
            "marker": {
             "colorbar": {
              "outlinewidth": 0,
              "ticks": ""
             }
            },
            "type": "scattergeo"
           }
          ],
          "scattergl": [
           {
            "marker": {
             "colorbar": {
              "outlinewidth": 0,
              "ticks": ""
             }
            },
            "type": "scattergl"
           }
          ],
          "scattermapbox": [
           {
            "marker": {
             "colorbar": {
              "outlinewidth": 0,
              "ticks": ""
             }
            },
            "type": "scattermapbox"
           }
          ],
          "scatterpolar": [
           {
            "marker": {
             "colorbar": {
              "outlinewidth": 0,
              "ticks": ""
             }
            },
            "type": "scatterpolar"
           }
          ],
          "scatterpolargl": [
           {
            "marker": {
             "colorbar": {
              "outlinewidth": 0,
              "ticks": ""
             }
            },
            "type": "scatterpolargl"
           }
          ],
          "scatterternary": [
           {
            "marker": {
             "colorbar": {
              "outlinewidth": 0,
              "ticks": ""
             }
            },
            "type": "scatterternary"
           }
          ],
          "surface": [
           {
            "colorbar": {
             "outlinewidth": 0,
             "ticks": ""
            },
            "colorscale": [
             [
              0,
              "#0d0887"
             ],
             [
              0.1111111111111111,
              "#46039f"
             ],
             [
              0.2222222222222222,
              "#7201a8"
             ],
             [
              0.3333333333333333,
              "#9c179e"
             ],
             [
              0.4444444444444444,
              "#bd3786"
             ],
             [
              0.5555555555555556,
              "#d8576b"
             ],
             [
              0.6666666666666666,
              "#ed7953"
             ],
             [
              0.7777777777777778,
              "#fb9f3a"
             ],
             [
              0.8888888888888888,
              "#fdca26"
             ],
             [
              1,
              "#f0f921"
             ]
            ],
            "type": "surface"
           }
          ],
          "table": [
           {
            "cells": {
             "fill": {
              "color": "#EBF0F8"
             },
             "line": {
              "color": "white"
             }
            },
            "header": {
             "fill": {
              "color": "#C8D4E3"
             },
             "line": {
              "color": "white"
             }
            },
            "type": "table"
           }
          ]
         },
         "layout": {
          "annotationdefaults": {
           "arrowcolor": "#2a3f5f",
           "arrowhead": 0,
           "arrowwidth": 1
          },
          "coloraxis": {
           "colorbar": {
            "outlinewidth": 0,
            "ticks": ""
           }
          },
          "colorscale": {
           "diverging": [
            [
             0,
             "#8e0152"
            ],
            [
             0.1,
             "#c51b7d"
            ],
            [
             0.2,
             "#de77ae"
            ],
            [
             0.3,
             "#f1b6da"
            ],
            [
             0.4,
             "#fde0ef"
            ],
            [
             0.5,
             "#f7f7f7"
            ],
            [
             0.6,
             "#e6f5d0"
            ],
            [
             0.7,
             "#b8e186"
            ],
            [
             0.8,
             "#7fbc41"
            ],
            [
             0.9,
             "#4d9221"
            ],
            [
             1,
             "#276419"
            ]
           ],
           "sequential": [
            [
             0,
             "#0d0887"
            ],
            [
             0.1111111111111111,
             "#46039f"
            ],
            [
             0.2222222222222222,
             "#7201a8"
            ],
            [
             0.3333333333333333,
             "#9c179e"
            ],
            [
             0.4444444444444444,
             "#bd3786"
            ],
            [
             0.5555555555555556,
             "#d8576b"
            ],
            [
             0.6666666666666666,
             "#ed7953"
            ],
            [
             0.7777777777777778,
             "#fb9f3a"
            ],
            [
             0.8888888888888888,
             "#fdca26"
            ],
            [
             1,
             "#f0f921"
            ]
           ],
           "sequentialminus": [
            [
             0,
             "#0d0887"
            ],
            [
             0.1111111111111111,
             "#46039f"
            ],
            [
             0.2222222222222222,
             "#7201a8"
            ],
            [
             0.3333333333333333,
             "#9c179e"
            ],
            [
             0.4444444444444444,
             "#bd3786"
            ],
            [
             0.5555555555555556,
             "#d8576b"
            ],
            [
             0.6666666666666666,
             "#ed7953"
            ],
            [
             0.7777777777777778,
             "#fb9f3a"
            ],
            [
             0.8888888888888888,
             "#fdca26"
            ],
            [
             1,
             "#f0f921"
            ]
           ]
          },
          "colorway": [
           "#636efa",
           "#EF553B",
           "#00cc96",
           "#ab63fa",
           "#FFA15A",
           "#19d3f3",
           "#FF6692",
           "#B6E880",
           "#FF97FF",
           "#FECB52"
          ],
          "font": {
           "color": "#2a3f5f"
          },
          "geo": {
           "bgcolor": "white",
           "lakecolor": "white",
           "landcolor": "#E5ECF6",
           "showlakes": true,
           "showland": true,
           "subunitcolor": "white"
          },
          "hoverlabel": {
           "align": "left"
          },
          "hovermode": "closest",
          "mapbox": {
           "style": "light"
          },
          "paper_bgcolor": "white",
          "plot_bgcolor": "#E5ECF6",
          "polar": {
           "angularaxis": {
            "gridcolor": "white",
            "linecolor": "white",
            "ticks": ""
           },
           "bgcolor": "#E5ECF6",
           "radialaxis": {
            "gridcolor": "white",
            "linecolor": "white",
            "ticks": ""
           }
          },
          "scene": {
           "xaxis": {
            "backgroundcolor": "#E5ECF6",
            "gridcolor": "white",
            "gridwidth": 2,
            "linecolor": "white",
            "showbackground": true,
            "ticks": "",
            "zerolinecolor": "white"
           },
           "yaxis": {
            "backgroundcolor": "#E5ECF6",
            "gridcolor": "white",
            "gridwidth": 2,
            "linecolor": "white",
            "showbackground": true,
            "ticks": "",
            "zerolinecolor": "white"
           },
           "zaxis": {
            "backgroundcolor": "#E5ECF6",
            "gridcolor": "white",
            "gridwidth": 2,
            "linecolor": "white",
            "showbackground": true,
            "ticks": "",
            "zerolinecolor": "white"
           }
          },
          "shapedefaults": {
           "line": {
            "color": "#2a3f5f"
           }
          },
          "ternary": {
           "aaxis": {
            "gridcolor": "white",
            "linecolor": "white",
            "ticks": ""
           },
           "baxis": {
            "gridcolor": "white",
            "linecolor": "white",
            "ticks": ""
           },
           "bgcolor": "#E5ECF6",
           "caxis": {
            "gridcolor": "white",
            "linecolor": "white",
            "ticks": ""
           }
          },
          "title": {
           "x": 0.05
          },
          "xaxis": {
           "automargin": true,
           "gridcolor": "white",
           "linecolor": "white",
           "ticks": "",
           "title": {
            "standoff": 15
           },
           "zerolinecolor": "white",
           "zerolinewidth": 2
          },
          "yaxis": {
           "automargin": true,
           "gridcolor": "white",
           "linecolor": "white",
           "ticks": "",
           "title": {
            "standoff": 15
           },
           "zerolinecolor": "white",
           "zerolinewidth": 2
          }
         }
        },
        "title": {
         "text": "Top Unique Terms for Select Hair Care Brands",
         "x": 0.5
        },
        "width": 1400,
        "xaxis": {
         "anchor": "y",
         "domain": [
          0,
          1
         ],
         "showticklabels": false
        },
        "xaxis2": {
         "anchor": "y2",
         "domain": [
          0,
          1
         ],
         "showticklabels": false
        },
        "xaxis3": {
         "anchor": "y3",
         "domain": [
          0,
          1
         ],
         "showticklabels": false
        },
        "xaxis4": {
         "anchor": "y4",
         "domain": [
          0,
          1
         ],
         "showticklabels": false
        },
        "xaxis5": {
         "anchor": "y5",
         "domain": [
          0,
          1
         ],
         "showticklabels": false
        },
        "yaxis": {
         "anchor": "x",
         "domain": [
          0.848,
          1
         ],
         "title": {
          "text": "EVOLVh"
         }
        },
        "yaxis2": {
         "anchor": "x2",
         "domain": [
          0.6359999999999999,
          0.7879999999999999
         ],
         "title": {
          "text": "Odele"
         }
        },
        "yaxis3": {
         "anchor": "x3",
         "domain": [
          0.424,
          0.576
         ],
         "title": {
          "text": "OGX"
         }
        },
        "yaxis4": {
         "anchor": "x4",
         "domain": [
          0.212,
          0.364
         ],
         "title": {
          "text": "Pure Zero"
         }
        },
        "yaxis5": {
         "anchor": "x5",
         "domain": [
          0,
          0.152
         ],
         "title": {
          "text": "OUAI"
         }
        }
       }
      },
      "text/html": [
       "<div>\n",
       "        \n",
       "        \n",
       "            <div id=\"4189d735-d205-484c-bbc5-721e4b9c9e7f\" class=\"plotly-graph-div\" style=\"height:1000px; width:1400px;\"></div>\n",
       "            <script type=\"text/javascript\">\n",
       "                require([\"plotly\"], function(Plotly) {\n",
       "                    window.PLOTLYENV=window.PLOTLYENV || {};\n",
       "                    \n",
       "                if (document.getElementById(\"4189d735-d205-484c-bbc5-721e4b9c9e7f\")) {\n",
       "                    Plotly.newPlot(\n",
       "                        '4189d735-d205-484c-bbc5-721e4b9c9e7f',\n",
       "                        [{\"orientation\": \"h\", \"type\": \"bar\", \"x\": [0.13139633859147484, 0.1543677264571173, 0.18468995843976532, 0.19112194704214522, 0.20306706873227928, 0.21593104593703907], \"xaxis\": \"x\", \"y\": [\"fine hair\", \"hair feels\", \"hair soft\", \"curly hair\", \"makes hair\", \"leaves hair\"], \"yaxis\": \"y\"}, {\"orientation\": \"h\", \"type\": \"bar\", \"x\": [0.12199037563543036, 0.12794760961183668, 0.1357634825620112, 0.13773106926580847, 0.15150417619238932, 0.16134210971137564], \"xaxis\": \"x2\", \"y\": [\"hair feels\", \"air dry\", \"leaves hair\", \"makes hair\", \"hair feel\", \"curly hair\"], \"yaxis\": \"y2\"}, {\"orientation\": \"h\", \"type\": \"bar\", \"x\": [0.16111108840192598, 0.18558464225819024, 0.21413712175716523, 0.22920972317975338, 0.32096612668530294, 0.36602854330953555], \"xaxis\": \"x3\", \"y\": [\"curly hair\", \"hair feeling\", \"hair soft\", \"hair feel\", \"leaves hair\", \"makes hair\"], \"yaxis\": \"y3\"}, {\"orientation\": \"h\", \"type\": \"bar\", \"x\": [0.09136608146505151, 0.10115530447916418, 0.1142076018313144, 0.1207337505073895, 0.14031219653561483, 0.14683834521168992], \"xaxis\": \"x4\", \"y\": [\"hair feeling\", \"hair soft\", \"hair feels\", \"hair feel\", \"makes hair\", \"leaves hair\"], \"yaxis\": \"y4\"}, {\"orientation\": \"h\", \"type\": \"bar\", \"x\": [0.14369412270438858, 0.164552936494088, 0.19078653906469537, 0.2060013432330114, 0.2064595983199141, 0.25875195490041025], \"xaxis\": \"x5\", \"y\": [\"made hair\", \"wave spray\", \"hair feel\", \"hair oil\", \"leaves hair\", \"makes hair\"], \"yaxis\": \"y5\"}],\n",
       "                        {\"colorway\": [\"#365bb7\", \"#e56725\", \"#128dbd\", \"#5fa036\", \"#e33a2b\", \"#feb40b\", \"#984e99\", \"#8c350d\", \"#0c5d7b\", \"#6c6c6c\"], \"font\": {\"color\": \"#313131\", \"family\": \"Muli, AppleGothic, Futura, sans-serif\", \"size\": 18}, \"height\": 1000, \"plot_bgcolor\": \"white\", \"showlegend\": false, \"template\": {\"data\": {\"bar\": [{\"error_x\": {\"color\": \"#2a3f5f\"}, \"error_y\": {\"color\": \"#2a3f5f\"}, \"marker\": {\"line\": {\"color\": \"#E5ECF6\", \"width\": 0.5}}, \"type\": \"bar\"}], \"barpolar\": [{\"marker\": {\"line\": {\"color\": \"#E5ECF6\", \"width\": 0.5}}, \"type\": \"barpolar\"}], \"carpet\": [{\"aaxis\": {\"endlinecolor\": \"#2a3f5f\", \"gridcolor\": \"white\", \"linecolor\": \"white\", \"minorgridcolor\": \"white\", \"startlinecolor\": \"#2a3f5f\"}, \"baxis\": {\"endlinecolor\": \"#2a3f5f\", \"gridcolor\": \"white\", \"linecolor\": \"white\", \"minorgridcolor\": \"white\", \"startlinecolor\": \"#2a3f5f\"}, \"type\": \"carpet\"}], \"choropleth\": [{\"colorbar\": {\"outlinewidth\": 0, \"ticks\": \"\"}, \"type\": \"choropleth\"}], \"contour\": [{\"colorbar\": {\"outlinewidth\": 0, \"ticks\": \"\"}, \"colorscale\": [[0.0, \"#0d0887\"], [0.1111111111111111, \"#46039f\"], [0.2222222222222222, \"#7201a8\"], [0.3333333333333333, \"#9c179e\"], [0.4444444444444444, \"#bd3786\"], [0.5555555555555556, \"#d8576b\"], [0.6666666666666666, \"#ed7953\"], [0.7777777777777778, \"#fb9f3a\"], [0.8888888888888888, \"#fdca26\"], [1.0, \"#f0f921\"]], \"type\": \"contour\"}], \"contourcarpet\": [{\"colorbar\": {\"outlinewidth\": 0, \"ticks\": \"\"}, \"type\": \"contourcarpet\"}], \"heatmap\": [{\"colorbar\": {\"outlinewidth\": 0, \"ticks\": \"\"}, \"colorscale\": [[0.0, \"#0d0887\"], [0.1111111111111111, \"#46039f\"], [0.2222222222222222, \"#7201a8\"], [0.3333333333333333, \"#9c179e\"], [0.4444444444444444, \"#bd3786\"], [0.5555555555555556, \"#d8576b\"], [0.6666666666666666, \"#ed7953\"], [0.7777777777777778, \"#fb9f3a\"], [0.8888888888888888, \"#fdca26\"], [1.0, \"#f0f921\"]], \"type\": \"heatmap\"}], \"heatmapgl\": [{\"colorbar\": {\"outlinewidth\": 0, \"ticks\": \"\"}, \"colorscale\": [[0.0, \"#0d0887\"], [0.1111111111111111, \"#46039f\"], [0.2222222222222222, \"#7201a8\"], [0.3333333333333333, \"#9c179e\"], [0.4444444444444444, \"#bd3786\"], [0.5555555555555556, \"#d8576b\"], [0.6666666666666666, \"#ed7953\"], [0.7777777777777778, \"#fb9f3a\"], [0.8888888888888888, \"#fdca26\"], [1.0, \"#f0f921\"]], \"type\": \"heatmapgl\"}], \"histogram\": [{\"marker\": {\"colorbar\": {\"outlinewidth\": 0, \"ticks\": \"\"}}, \"type\": \"histogram\"}], \"histogram2d\": [{\"colorbar\": {\"outlinewidth\": 0, \"ticks\": \"\"}, \"colorscale\": [[0.0, \"#0d0887\"], [0.1111111111111111, \"#46039f\"], [0.2222222222222222, \"#7201a8\"], [0.3333333333333333, \"#9c179e\"], [0.4444444444444444, \"#bd3786\"], [0.5555555555555556, \"#d8576b\"], [0.6666666666666666, \"#ed7953\"], [0.7777777777777778, \"#fb9f3a\"], [0.8888888888888888, \"#fdca26\"], [1.0, \"#f0f921\"]], \"type\": \"histogram2d\"}], \"histogram2dcontour\": [{\"colorbar\": {\"outlinewidth\": 0, \"ticks\": \"\"}, \"colorscale\": [[0.0, \"#0d0887\"], [0.1111111111111111, \"#46039f\"], [0.2222222222222222, \"#7201a8\"], [0.3333333333333333, \"#9c179e\"], [0.4444444444444444, \"#bd3786\"], [0.5555555555555556, \"#d8576b\"], [0.6666666666666666, \"#ed7953\"], [0.7777777777777778, \"#fb9f3a\"], [0.8888888888888888, \"#fdca26\"], [1.0, \"#f0f921\"]], \"type\": \"histogram2dcontour\"}], \"mesh3d\": [{\"colorbar\": {\"outlinewidth\": 0, \"ticks\": \"\"}, \"type\": \"mesh3d\"}], \"parcoords\": [{\"line\": {\"colorbar\": {\"outlinewidth\": 0, \"ticks\": \"\"}}, \"type\": \"parcoords\"}], \"pie\": [{\"automargin\": true, \"type\": \"pie\"}], \"scatter\": [{\"marker\": {\"colorbar\": {\"outlinewidth\": 0, \"ticks\": \"\"}}, \"type\": \"scatter\"}], \"scatter3d\": [{\"line\": {\"colorbar\": {\"outlinewidth\": 0, \"ticks\": \"\"}}, \"marker\": {\"colorbar\": {\"outlinewidth\": 0, \"ticks\": \"\"}}, \"type\": \"scatter3d\"}], \"scattercarpet\": [{\"marker\": {\"colorbar\": {\"outlinewidth\": 0, \"ticks\": \"\"}}, \"type\": \"scattercarpet\"}], \"scattergeo\": [{\"marker\": {\"colorbar\": {\"outlinewidth\": 0, \"ticks\": \"\"}}, \"type\": \"scattergeo\"}], \"scattergl\": [{\"marker\": {\"colorbar\": {\"outlinewidth\": 0, \"ticks\": \"\"}}, \"type\": \"scattergl\"}], \"scattermapbox\": [{\"marker\": {\"colorbar\": {\"outlinewidth\": 0, \"ticks\": \"\"}}, \"type\": \"scattermapbox\"}], \"scatterpolar\": [{\"marker\": {\"colorbar\": {\"outlinewidth\": 0, \"ticks\": \"\"}}, \"type\": \"scatterpolar\"}], \"scatterpolargl\": [{\"marker\": {\"colorbar\": {\"outlinewidth\": 0, \"ticks\": \"\"}}, \"type\": \"scatterpolargl\"}], \"scatterternary\": [{\"marker\": {\"colorbar\": {\"outlinewidth\": 0, \"ticks\": \"\"}}, \"type\": \"scatterternary\"}], \"surface\": [{\"colorbar\": {\"outlinewidth\": 0, \"ticks\": \"\"}, \"colorscale\": [[0.0, \"#0d0887\"], [0.1111111111111111, \"#46039f\"], [0.2222222222222222, \"#7201a8\"], [0.3333333333333333, \"#9c179e\"], [0.4444444444444444, \"#bd3786\"], [0.5555555555555556, \"#d8576b\"], [0.6666666666666666, \"#ed7953\"], [0.7777777777777778, \"#fb9f3a\"], [0.8888888888888888, \"#fdca26\"], [1.0, \"#f0f921\"]], \"type\": \"surface\"}], \"table\": [{\"cells\": {\"fill\": {\"color\": \"#EBF0F8\"}, \"line\": {\"color\": \"white\"}}, \"header\": {\"fill\": {\"color\": \"#C8D4E3\"}, \"line\": {\"color\": \"white\"}}, \"type\": \"table\"}]}, \"layout\": {\"annotationdefaults\": {\"arrowcolor\": \"#2a3f5f\", \"arrowhead\": 0, \"arrowwidth\": 1}, \"coloraxis\": {\"colorbar\": {\"outlinewidth\": 0, \"ticks\": \"\"}}, \"colorscale\": {\"diverging\": [[0, \"#8e0152\"], [0.1, \"#c51b7d\"], [0.2, \"#de77ae\"], [0.3, \"#f1b6da\"], [0.4, \"#fde0ef\"], [0.5, \"#f7f7f7\"], [0.6, \"#e6f5d0\"], [0.7, \"#b8e186\"], [0.8, \"#7fbc41\"], [0.9, \"#4d9221\"], [1, \"#276419\"]], \"sequential\": [[0.0, \"#0d0887\"], [0.1111111111111111, \"#46039f\"], [0.2222222222222222, \"#7201a8\"], [0.3333333333333333, \"#9c179e\"], [0.4444444444444444, \"#bd3786\"], [0.5555555555555556, \"#d8576b\"], [0.6666666666666666, \"#ed7953\"], [0.7777777777777778, \"#fb9f3a\"], [0.8888888888888888, \"#fdca26\"], [1.0, \"#f0f921\"]], \"sequentialminus\": [[0.0, \"#0d0887\"], [0.1111111111111111, \"#46039f\"], [0.2222222222222222, \"#7201a8\"], [0.3333333333333333, \"#9c179e\"], [0.4444444444444444, \"#bd3786\"], [0.5555555555555556, \"#d8576b\"], [0.6666666666666666, \"#ed7953\"], [0.7777777777777778, \"#fb9f3a\"], [0.8888888888888888, \"#fdca26\"], [1.0, \"#f0f921\"]]}, \"colorway\": [\"#636efa\", \"#EF553B\", \"#00cc96\", \"#ab63fa\", \"#FFA15A\", \"#19d3f3\", \"#FF6692\", \"#B6E880\", \"#FF97FF\", \"#FECB52\"], \"font\": {\"color\": \"#2a3f5f\"}, \"geo\": {\"bgcolor\": \"white\", \"lakecolor\": \"white\", \"landcolor\": \"#E5ECF6\", \"showlakes\": true, \"showland\": true, \"subunitcolor\": \"white\"}, \"hoverlabel\": {\"align\": \"left\"}, \"hovermode\": \"closest\", \"mapbox\": {\"style\": \"light\"}, \"paper_bgcolor\": \"white\", \"plot_bgcolor\": \"#E5ECF6\", \"polar\": {\"angularaxis\": {\"gridcolor\": \"white\", \"linecolor\": \"white\", \"ticks\": \"\"}, \"bgcolor\": \"#E5ECF6\", \"radialaxis\": {\"gridcolor\": \"white\", \"linecolor\": \"white\", \"ticks\": \"\"}}, \"scene\": {\"xaxis\": {\"backgroundcolor\": \"#E5ECF6\", \"gridcolor\": \"white\", \"gridwidth\": 2, \"linecolor\": \"white\", \"showbackground\": true, \"ticks\": \"\", \"zerolinecolor\": \"white\"}, \"yaxis\": {\"backgroundcolor\": \"#E5ECF6\", \"gridcolor\": \"white\", \"gridwidth\": 2, \"linecolor\": \"white\", \"showbackground\": true, \"ticks\": \"\", \"zerolinecolor\": \"white\"}, \"zaxis\": {\"backgroundcolor\": \"#E5ECF6\", \"gridcolor\": \"white\", \"gridwidth\": 2, \"linecolor\": \"white\", \"showbackground\": true, \"ticks\": \"\", \"zerolinecolor\": \"white\"}}, \"shapedefaults\": {\"line\": {\"color\": \"#2a3f5f\"}}, \"ternary\": {\"aaxis\": {\"gridcolor\": \"white\", \"linecolor\": \"white\", \"ticks\": \"\"}, \"baxis\": {\"gridcolor\": \"white\", \"linecolor\": \"white\", \"ticks\": \"\"}, \"bgcolor\": \"#E5ECF6\", \"caxis\": {\"gridcolor\": \"white\", \"linecolor\": \"white\", \"ticks\": \"\"}}, \"title\": {\"x\": 0.05}, \"xaxis\": {\"automargin\": true, \"gridcolor\": \"white\", \"linecolor\": \"white\", \"ticks\": \"\", \"title\": {\"standoff\": 15}, \"zerolinecolor\": \"white\", \"zerolinewidth\": 2}, \"yaxis\": {\"automargin\": true, \"gridcolor\": \"white\", \"linecolor\": \"white\", \"ticks\": \"\", \"title\": {\"standoff\": 15}, \"zerolinecolor\": \"white\", \"zerolinewidth\": 2}}}, \"title\": {\"text\": \"Top Unique Terms for Select Hair Care Brands\", \"x\": 0.5}, \"width\": 1400, \"xaxis\": {\"anchor\": \"y\", \"domain\": [0.0, 1.0], \"showticklabels\": false}, \"xaxis2\": {\"anchor\": \"y2\", \"domain\": [0.0, 1.0], \"showticklabels\": false}, \"xaxis3\": {\"anchor\": \"y3\", \"domain\": [0.0, 1.0], \"showticklabels\": false}, \"xaxis4\": {\"anchor\": \"y4\", \"domain\": [0.0, 1.0], \"showticklabels\": false}, \"xaxis5\": {\"anchor\": \"y5\", \"domain\": [0.0, 1.0], \"showticklabels\": false}, \"yaxis\": {\"anchor\": \"x\", \"domain\": [0.848, 1.0], \"title\": {\"text\": \"EVOLVh\"}}, \"yaxis2\": {\"anchor\": \"x2\", \"domain\": [0.6359999999999999, 0.7879999999999999], \"title\": {\"text\": \"Odele\"}}, \"yaxis3\": {\"anchor\": \"x3\", \"domain\": [0.424, 0.576], \"title\": {\"text\": \"OGX\"}}, \"yaxis4\": {\"anchor\": \"x4\", \"domain\": [0.212, 0.364], \"title\": {\"text\": \"Pure Zero\"}}, \"yaxis5\": {\"anchor\": \"x5\", \"domain\": [0.0, 0.152], \"title\": {\"text\": \"OUAI\"}}},\n",
       "                        {\"responsive\": true}\n",
       "                    ).then(function(){\n",
       "                            \n",
       "var gd = document.getElementById('4189d735-d205-484c-bbc5-721e4b9c9e7f');\n",
       "var x = new MutationObserver(function (mutations, observer) {{\n",
       "        var display = window.getComputedStyle(gd).display;\n",
       "        if (!display || display === 'none') {{\n",
       "            console.log([gd, 'removed!']);\n",
       "            Plotly.purge(gd);\n",
       "            observer.disconnect();\n",
       "        }}\n",
       "}});\n",
       "\n",
       "// Listen for the removal of the full notebook cells\n",
       "var notebookContainer = gd.closest('#notebook-container');\n",
       "if (notebookContainer) {{\n",
       "    x.observe(notebookContainer, {childList: true});\n",
       "}}\n",
       "\n",
       "// Listen for the clearing of the current output cell\n",
       "var outputEl = gd.closest('.output');\n",
       "if (outputEl) {{\n",
       "    x.observe(outputEl, {childList: true});\n",
       "}}\n",
       "\n",
       "                        })\n",
       "                };\n",
       "                });\n",
       "            </script>\n",
       "        </div>"
      ]
     },
     "metadata": {},
     "output_type": "display_data"
    }
   ],
   "source": [
    "fig = make_subplots(\n",
    "    rows=n_brands,\n",
    "    cols=1,\n",
    ")\n",
    "\n",
    "j = 0\n",
    "    \n",
    "for url, data in top_tfidf_pdf.groupby('normalized_url'):\n",
    "\n",
    "    fig.add_trace(\n",
    "        go.Bar(\n",
    "            orientation='h',\n",
    "            x=data.tfidf,\n",
    "            y=data.tokens,\n",
    "\n",
    "        ),\n",
    "        row=j+1, col=1\n",
    "    )\n",
    "    j += 1\n",
    "    fig.update_yaxes(title_text=brand_name_di.get(url), row=j, col=1)\n",
    "    fig.update_xaxes(showticklabels=False)\n",
    "    #fig.update_xaxes(title_text=sentiment, row=j, col=1)\n",
    "        \n",
    "    \n",
    "fig.update_layout(\n",
    "    width=1400,\n",
    "    height=1000,\n",
    "    font=Font.plot_title.value,\n",
    "    plot_bgcolor=\"white\",\n",
    "    title={\"x\": 0.5},\n",
    "    colorway=CU_PLOTLY_COLOR_SEQUENCE,\n",
    "    title_text=f\"Top Unique Terms for Select {GROUP_NAME} Brands\",\n",
    "    showlegend=False\n",
    ")\n",
    "\n",
    "\n",
    "fig.show()"
   ]
  },
  {
   "cell_type": "markdown",
   "metadata": {},
   "source": [
    "# TFIDF by Sentiment"
   ]
  },
  {
   "cell_type": "code",
   "execution_count": 302,
   "metadata": {
    "ExecuteTime": {
     "end_time": "2021-04-14T22:02:50.178723Z",
     "start_time": "2021-04-14T22:02:50.055289Z"
    }
   },
   "outputs": [],
   "source": [
    "example_sdf = (\n",
    "    bigram_sdf\n",
    "    .groupby(['normalized_url', 'sentiment'])\n",
    "    .agg(F.collect_list('bigram_word').alias('tokens'), F.count(F.concat(F.col('source_name'), F.col('reviewer_source_id'))).alias('rev_count'))\n",
    "#     .filter(F.col('rev_count')>2000)\n",
    "    .persist()\n",
    ")"
   ]
  },
  {
   "cell_type": "code",
   "execution_count": 303,
   "metadata": {
    "ExecuteTime": {
     "end_time": "2021-04-14T22:03:41.425982Z",
     "start_time": "2021-04-14T22:02:50.181702Z"
    }
   },
   "outputs": [
    {
     "ename": "KeyboardInterrupt",
     "evalue": "",
     "output_type": "error",
     "traceback": [
      "\u001b[0;31m---------------------------------------------------------------------------\u001b[0m",
      "\u001b[0;31mKeyboardInterrupt\u001b[0m                         Traceback (most recent call last)",
      "\u001b[0;32m<ipython-input-303-bd373d59d82e>\u001b[0m in \u001b[0;36m<module>\u001b[0;34m()\u001b[0m\n\u001b[1;32m      3\u001b[0m \u001b[0mtf\u001b[0m \u001b[0;34m=\u001b[0m \u001b[0mtf_mod\u001b[0m\u001b[0;34m.\u001b[0m\u001b[0mtransform\u001b[0m\u001b[0;34m(\u001b[0m\u001b[0mexample_sdf\u001b[0m\u001b[0;34m)\u001b[0m\u001b[0;34m\u001b[0m\u001b[0;34m\u001b[0m\u001b[0m\n\u001b[1;32m      4\u001b[0m \u001b[0;34m\u001b[0m\u001b[0m\n\u001b[0;32m----> 5\u001b[0;31m \u001b[0midf\u001b[0m \u001b[0;34m=\u001b[0m \u001b[0mIDF\u001b[0m\u001b[0;34m(\u001b[0m\u001b[0minputCol\u001b[0m\u001b[0;34m=\u001b[0m\u001b[0;34m\"tf\"\u001b[0m\u001b[0;34m,\u001b[0m \u001b[0moutputCol\u001b[0m\u001b[0;34m=\u001b[0m\u001b[0;34m\"tfidf\"\u001b[0m\u001b[0;34m)\u001b[0m\u001b[0;34m.\u001b[0m\u001b[0mfit\u001b[0m\u001b[0;34m(\u001b[0m\u001b[0mtf\u001b[0m\u001b[0;34m)\u001b[0m\u001b[0;34m\u001b[0m\u001b[0;34m\u001b[0m\u001b[0m\n\u001b[0m\u001b[1;32m      6\u001b[0m \u001b[0mtfidf\u001b[0m \u001b[0;34m=\u001b[0m \u001b[0midf\u001b[0m\u001b[0;34m.\u001b[0m\u001b[0mtransform\u001b[0m\u001b[0;34m(\u001b[0m\u001b[0mtf\u001b[0m\u001b[0;34m)\u001b[0m\u001b[0;34m.\u001b[0m\u001b[0mpersist\u001b[0m\u001b[0;34m(\u001b[0m\u001b[0;34m)\u001b[0m\u001b[0;34m\u001b[0m\u001b[0;34m\u001b[0m\u001b[0m\n",
      "\u001b[0;32m/usr/local/spark/python/pyspark/ml/base.py\u001b[0m in \u001b[0;36mfit\u001b[0;34m(self, dataset, params)\u001b[0m\n\u001b[1;32m    130\u001b[0m                 \u001b[0;32mreturn\u001b[0m \u001b[0mself\u001b[0m\u001b[0;34m.\u001b[0m\u001b[0mcopy\u001b[0m\u001b[0;34m(\u001b[0m\u001b[0mparams\u001b[0m\u001b[0;34m)\u001b[0m\u001b[0;34m.\u001b[0m\u001b[0m_fit\u001b[0m\u001b[0;34m(\u001b[0m\u001b[0mdataset\u001b[0m\u001b[0;34m)\u001b[0m\u001b[0;34m\u001b[0m\u001b[0;34m\u001b[0m\u001b[0m\n\u001b[1;32m    131\u001b[0m             \u001b[0;32melse\u001b[0m\u001b[0;34m:\u001b[0m\u001b[0;34m\u001b[0m\u001b[0;34m\u001b[0m\u001b[0m\n\u001b[0;32m--> 132\u001b[0;31m                 \u001b[0;32mreturn\u001b[0m \u001b[0mself\u001b[0m\u001b[0;34m.\u001b[0m\u001b[0m_fit\u001b[0m\u001b[0;34m(\u001b[0m\u001b[0mdataset\u001b[0m\u001b[0;34m)\u001b[0m\u001b[0;34m\u001b[0m\u001b[0;34m\u001b[0m\u001b[0m\n\u001b[0m\u001b[1;32m    133\u001b[0m         \u001b[0;32melse\u001b[0m\u001b[0;34m:\u001b[0m\u001b[0;34m\u001b[0m\u001b[0;34m\u001b[0m\u001b[0m\n\u001b[1;32m    134\u001b[0m             raise ValueError(\"Params must be either a param map or a list/tuple of param maps, \"\n",
      "\u001b[0;32m/usr/local/spark/python/pyspark/ml/wrapper.py\u001b[0m in \u001b[0;36m_fit\u001b[0;34m(self, dataset)\u001b[0m\n\u001b[1;32m    293\u001b[0m \u001b[0;34m\u001b[0m\u001b[0m\n\u001b[1;32m    294\u001b[0m     \u001b[0;32mdef\u001b[0m \u001b[0m_fit\u001b[0m\u001b[0;34m(\u001b[0m\u001b[0mself\u001b[0m\u001b[0;34m,\u001b[0m \u001b[0mdataset\u001b[0m\u001b[0;34m)\u001b[0m\u001b[0;34m:\u001b[0m\u001b[0;34m\u001b[0m\u001b[0;34m\u001b[0m\u001b[0m\n\u001b[0;32m--> 295\u001b[0;31m         \u001b[0mjava_model\u001b[0m \u001b[0;34m=\u001b[0m \u001b[0mself\u001b[0m\u001b[0;34m.\u001b[0m\u001b[0m_fit_java\u001b[0m\u001b[0;34m(\u001b[0m\u001b[0mdataset\u001b[0m\u001b[0;34m)\u001b[0m\u001b[0;34m\u001b[0m\u001b[0;34m\u001b[0m\u001b[0m\n\u001b[0m\u001b[1;32m    296\u001b[0m         \u001b[0mmodel\u001b[0m \u001b[0;34m=\u001b[0m \u001b[0mself\u001b[0m\u001b[0;34m.\u001b[0m\u001b[0m_create_model\u001b[0m\u001b[0;34m(\u001b[0m\u001b[0mjava_model\u001b[0m\u001b[0;34m)\u001b[0m\u001b[0;34m\u001b[0m\u001b[0;34m\u001b[0m\u001b[0m\n\u001b[1;32m    297\u001b[0m         \u001b[0;32mreturn\u001b[0m \u001b[0mself\u001b[0m\u001b[0;34m.\u001b[0m\u001b[0m_copyValues\u001b[0m\u001b[0;34m(\u001b[0m\u001b[0mmodel\u001b[0m\u001b[0;34m)\u001b[0m\u001b[0;34m\u001b[0m\u001b[0;34m\u001b[0m\u001b[0m\n",
      "\u001b[0;32m/usr/local/spark/python/pyspark/ml/wrapper.py\u001b[0m in \u001b[0;36m_fit_java\u001b[0;34m(self, dataset)\u001b[0m\n\u001b[1;32m    290\u001b[0m         \"\"\"\n\u001b[1;32m    291\u001b[0m         \u001b[0mself\u001b[0m\u001b[0;34m.\u001b[0m\u001b[0m_transfer_params_to_java\u001b[0m\u001b[0;34m(\u001b[0m\u001b[0;34m)\u001b[0m\u001b[0;34m\u001b[0m\u001b[0;34m\u001b[0m\u001b[0m\n\u001b[0;32m--> 292\u001b[0;31m         \u001b[0;32mreturn\u001b[0m \u001b[0mself\u001b[0m\u001b[0;34m.\u001b[0m\u001b[0m_java_obj\u001b[0m\u001b[0;34m.\u001b[0m\u001b[0mfit\u001b[0m\u001b[0;34m(\u001b[0m\u001b[0mdataset\u001b[0m\u001b[0;34m.\u001b[0m\u001b[0m_jdf\u001b[0m\u001b[0;34m)\u001b[0m\u001b[0;34m\u001b[0m\u001b[0;34m\u001b[0m\u001b[0m\n\u001b[0m\u001b[1;32m    293\u001b[0m \u001b[0;34m\u001b[0m\u001b[0m\n\u001b[1;32m    294\u001b[0m     \u001b[0;32mdef\u001b[0m \u001b[0m_fit\u001b[0m\u001b[0;34m(\u001b[0m\u001b[0mself\u001b[0m\u001b[0;34m,\u001b[0m \u001b[0mdataset\u001b[0m\u001b[0;34m)\u001b[0m\u001b[0;34m:\u001b[0m\u001b[0;34m\u001b[0m\u001b[0;34m\u001b[0m\u001b[0m\n",
      "\u001b[0;32m/usr/local/spark/python/lib/py4j-0.10.7-src.zip/py4j/java_gateway.py\u001b[0m in \u001b[0;36m__call__\u001b[0;34m(self, *args)\u001b[0m\n\u001b[1;32m   1253\u001b[0m             \u001b[0mproto\u001b[0m\u001b[0;34m.\u001b[0m\u001b[0mEND_COMMAND_PART\u001b[0m\u001b[0;34m\u001b[0m\u001b[0;34m\u001b[0m\u001b[0m\n\u001b[1;32m   1254\u001b[0m \u001b[0;34m\u001b[0m\u001b[0m\n\u001b[0;32m-> 1255\u001b[0;31m         \u001b[0manswer\u001b[0m \u001b[0;34m=\u001b[0m \u001b[0mself\u001b[0m\u001b[0;34m.\u001b[0m\u001b[0mgateway_client\u001b[0m\u001b[0;34m.\u001b[0m\u001b[0msend_command\u001b[0m\u001b[0;34m(\u001b[0m\u001b[0mcommand\u001b[0m\u001b[0;34m)\u001b[0m\u001b[0;34m\u001b[0m\u001b[0;34m\u001b[0m\u001b[0m\n\u001b[0m\u001b[1;32m   1256\u001b[0m         return_value = get_return_value(\n\u001b[1;32m   1257\u001b[0m             answer, self.gateway_client, self.target_id, self.name)\n",
      "\u001b[0;32m/usr/local/spark/python/lib/py4j-0.10.7-src.zip/py4j/java_gateway.py\u001b[0m in \u001b[0;36msend_command\u001b[0;34m(self, command, retry, binary)\u001b[0m\n\u001b[1;32m    983\u001b[0m         \u001b[0mconnection\u001b[0m \u001b[0;34m=\u001b[0m \u001b[0mself\u001b[0m\u001b[0;34m.\u001b[0m\u001b[0m_get_connection\u001b[0m\u001b[0;34m(\u001b[0m\u001b[0;34m)\u001b[0m\u001b[0;34m\u001b[0m\u001b[0;34m\u001b[0m\u001b[0m\n\u001b[1;32m    984\u001b[0m         \u001b[0;32mtry\u001b[0m\u001b[0;34m:\u001b[0m\u001b[0;34m\u001b[0m\u001b[0;34m\u001b[0m\u001b[0m\n\u001b[0;32m--> 985\u001b[0;31m             \u001b[0mresponse\u001b[0m \u001b[0;34m=\u001b[0m \u001b[0mconnection\u001b[0m\u001b[0;34m.\u001b[0m\u001b[0msend_command\u001b[0m\u001b[0;34m(\u001b[0m\u001b[0mcommand\u001b[0m\u001b[0;34m)\u001b[0m\u001b[0;34m\u001b[0m\u001b[0;34m\u001b[0m\u001b[0m\n\u001b[0m\u001b[1;32m    986\u001b[0m             \u001b[0;32mif\u001b[0m \u001b[0mbinary\u001b[0m\u001b[0;34m:\u001b[0m\u001b[0;34m\u001b[0m\u001b[0;34m\u001b[0m\u001b[0m\n\u001b[1;32m    987\u001b[0m                 \u001b[0;32mreturn\u001b[0m \u001b[0mresponse\u001b[0m\u001b[0;34m,\u001b[0m \u001b[0mself\u001b[0m\u001b[0;34m.\u001b[0m\u001b[0m_create_connection_guard\u001b[0m\u001b[0;34m(\u001b[0m\u001b[0mconnection\u001b[0m\u001b[0;34m)\u001b[0m\u001b[0;34m\u001b[0m\u001b[0;34m\u001b[0m\u001b[0m\n",
      "\u001b[0;32m/usr/local/spark/python/lib/py4j-0.10.7-src.zip/py4j/java_gateway.py\u001b[0m in \u001b[0;36msend_command\u001b[0;34m(self, command)\u001b[0m\n\u001b[1;32m   1150\u001b[0m \u001b[0;34m\u001b[0m\u001b[0m\n\u001b[1;32m   1151\u001b[0m         \u001b[0;32mtry\u001b[0m\u001b[0;34m:\u001b[0m\u001b[0;34m\u001b[0m\u001b[0;34m\u001b[0m\u001b[0m\n\u001b[0;32m-> 1152\u001b[0;31m             \u001b[0manswer\u001b[0m \u001b[0;34m=\u001b[0m \u001b[0msmart_decode\u001b[0m\u001b[0;34m(\u001b[0m\u001b[0mself\u001b[0m\u001b[0;34m.\u001b[0m\u001b[0mstream\u001b[0m\u001b[0;34m.\u001b[0m\u001b[0mreadline\u001b[0m\u001b[0;34m(\u001b[0m\u001b[0;34m)\u001b[0m\u001b[0;34m[\u001b[0m\u001b[0;34m:\u001b[0m\u001b[0;34m-\u001b[0m\u001b[0;36m1\u001b[0m\u001b[0;34m]\u001b[0m\u001b[0;34m)\u001b[0m\u001b[0;34m\u001b[0m\u001b[0;34m\u001b[0m\u001b[0m\n\u001b[0m\u001b[1;32m   1153\u001b[0m             \u001b[0mlogger\u001b[0m\u001b[0;34m.\u001b[0m\u001b[0mdebug\u001b[0m\u001b[0;34m(\u001b[0m\u001b[0;34m\"Answer received: {0}\"\u001b[0m\u001b[0;34m.\u001b[0m\u001b[0mformat\u001b[0m\u001b[0;34m(\u001b[0m\u001b[0manswer\u001b[0m\u001b[0;34m)\u001b[0m\u001b[0;34m)\u001b[0m\u001b[0;34m\u001b[0m\u001b[0;34m\u001b[0m\u001b[0m\n\u001b[1;32m   1154\u001b[0m             \u001b[0;32mif\u001b[0m \u001b[0manswer\u001b[0m\u001b[0;34m.\u001b[0m\u001b[0mstartswith\u001b[0m\u001b[0;34m(\u001b[0m\u001b[0mproto\u001b[0m\u001b[0;34m.\u001b[0m\u001b[0mRETURN_MESSAGE\u001b[0m\u001b[0;34m)\u001b[0m\u001b[0;34m:\u001b[0m\u001b[0;34m\u001b[0m\u001b[0;34m\u001b[0m\u001b[0m\n",
      "\u001b[0;32m/usr/local/lib/python3.6/socket.py\u001b[0m in \u001b[0;36mreadinto\u001b[0;34m(self, b)\u001b[0m\n\u001b[1;32m    584\u001b[0m         \u001b[0;32mwhile\u001b[0m \u001b[0;32mTrue\u001b[0m\u001b[0;34m:\u001b[0m\u001b[0;34m\u001b[0m\u001b[0;34m\u001b[0m\u001b[0m\n\u001b[1;32m    585\u001b[0m             \u001b[0;32mtry\u001b[0m\u001b[0;34m:\u001b[0m\u001b[0;34m\u001b[0m\u001b[0;34m\u001b[0m\u001b[0m\n\u001b[0;32m--> 586\u001b[0;31m                 \u001b[0;32mreturn\u001b[0m \u001b[0mself\u001b[0m\u001b[0;34m.\u001b[0m\u001b[0m_sock\u001b[0m\u001b[0;34m.\u001b[0m\u001b[0mrecv_into\u001b[0m\u001b[0;34m(\u001b[0m\u001b[0mb\u001b[0m\u001b[0;34m)\u001b[0m\u001b[0;34m\u001b[0m\u001b[0;34m\u001b[0m\u001b[0m\n\u001b[0m\u001b[1;32m    587\u001b[0m             \u001b[0;32mexcept\u001b[0m \u001b[0mtimeout\u001b[0m\u001b[0;34m:\u001b[0m\u001b[0;34m\u001b[0m\u001b[0;34m\u001b[0m\u001b[0m\n\u001b[1;32m    588\u001b[0m                 \u001b[0mself\u001b[0m\u001b[0;34m.\u001b[0m\u001b[0m_timeout_occurred\u001b[0m \u001b[0;34m=\u001b[0m \u001b[0;32mTrue\u001b[0m\u001b[0;34m\u001b[0m\u001b[0;34m\u001b[0m\u001b[0m\n",
      "\u001b[0;31mKeyboardInterrupt\u001b[0m: "
     ]
    }
   ],
   "source": [
    "# tf = HashingTF(inputCol=\"tokens\", outputCol=\"tf\").transform(example_sdf)\n",
    "tf_mod = CountVectorizer(inputCol=\"tokens\", outputCol=\"tf\").fit(example_sdf)\n",
    "tf = tf_mod.transform(example_sdf)\n",
    "\n",
    "idf = IDF(inputCol=\"tf\", outputCol=\"tfidf\").fit(tf)\n",
    "tfidf = idf.transform(tf).persist()\n"
   ]
  },
  {
   "cell_type": "code",
   "execution_count": null,
   "metadata": {
    "ExecuteTime": {
     "end_time": "2021-04-14T22:03:41.429620Z",
     "start_time": "2021-04-14T21:59:07.008Z"
    }
   },
   "outputs": [],
   "source": [
    "len(tf_mod.vocabulary)"
   ]
  },
  {
   "cell_type": "code",
   "execution_count": null,
   "metadata": {
    "ExecuteTime": {
     "end_time": "2021-04-14T22:03:41.431730Z",
     "start_time": "2021-04-14T21:59:07.012Z"
    }
   },
   "outputs": [],
   "source": [
    "vocab_pdf = pd.DataFrame(tf_mod.vocabulary).reset_index()\n",
    "vocab_pdf.columns = ['pos', 'vocab']"
   ]
  },
  {
   "cell_type": "code",
   "execution_count": null,
   "metadata": {
    "ExecuteTime": {
     "end_time": "2021-04-14T22:03:41.433651Z",
     "start_time": "2021-04-14T21:59:07.016Z"
    }
   },
   "outputs": [],
   "source": [
    "vocab_sdf = spark.createDataFrame(vocab_pdf)"
   ]
  },
  {
   "cell_type": "code",
   "execution_count": null,
   "metadata": {
    "ExecuteTime": {
     "end_time": "2021-04-14T22:03:41.435331Z",
     "start_time": "2021-04-14T21:59:07.020Z"
    }
   },
   "outputs": [],
   "source": [
    "tfidf_out_sdf = (\n",
    "    tfidf\n",
    "    .withColumn('array', to_array(\"tfidf\"))\n",
    "    .select('normalized_url', 'sentiment', F.posexplode('array'))\n",
    "    .withColumnRenamed('col', 'tfidf')\n",
    "    .filter(F.col(\"tfidf\") > 0)\n",
    "    .join(vocab_sdf, on='pos')\n",
    ")"
   ]
  },
  {
   "cell_type": "code",
   "execution_count": null,
   "metadata": {
    "ExecuteTime": {
     "end_time": "2021-04-14T22:03:41.436945Z",
     "start_time": "2021-04-14T21:59:07.024Z"
    }
   },
   "outputs": [],
   "source": [
    "TOP_N_WORDS = 7\n",
    "TFIDF_THRESHOLD = 2.1 # depends on amount of reviews to have enough signal, could lead to blank areas where there's not enough"
   ]
  },
  {
   "cell_type": "code",
   "execution_count": null,
   "metadata": {
    "ExecuteTime": {
     "end_time": "2021-04-14T22:03:41.439683Z",
     "start_time": "2021-04-14T21:59:07.028Z"
    }
   },
   "outputs": [],
   "source": [
    "window = Window.partitionBy('sentiment', 'normalized_url').orderBy(F.col('tfidf').desc())\n",
    "\n",
    "top_tfidf_sdf = (\n",
    "    tfidf_out_sdf\n",
    "    .select('*', F.rank().over(window).alias('rank'))\n",
    "    .filter(F.col('tfidf') > TFIDF_THRESHOLD)\n",
    "    .filter(F.col('rank') <= TOP_N_WORDS)\n",
    "    .drop('rank')\n",
    ")"
   ]
  },
  {
   "cell_type": "code",
   "execution_count": null,
   "metadata": {
    "ExecuteTime": {
     "end_time": "2021-04-14T22:03:41.442604Z",
     "start_time": "2021-04-14T21:59:07.032Z"
    }
   },
   "outputs": [],
   "source": [
    "# top_tfidf_sdf = tfidf_out_sdf.filter(F.col('tfidf')>10)"
   ]
  },
  {
   "cell_type": "code",
   "execution_count": null,
   "metadata": {
    "ExecuteTime": {
     "end_time": "2021-04-14T22:03:41.445479Z",
     "start_time": "2021-04-14T21:59:07.036Z"
    }
   },
   "outputs": [],
   "source": [
    "top_tfidf_pdf = top_tfidf_sdf.sort('tfidf').toPandas()"
   ]
  },
  {
   "cell_type": "code",
   "execution_count": null,
   "metadata": {
    "ExecuteTime": {
     "end_time": "2021-04-14T22:03:41.448241Z",
     "start_time": "2021-04-14T21:59:07.040Z"
    },
    "scrolled": false
   },
   "outputs": [],
   "source": [
    "color_map = {'Positive':0, 'Neutral':2, 'Negative':1}"
   ]
  },
  {
   "cell_type": "code",
   "execution_count": null,
   "metadata": {
    "ExecuteTime": {
     "end_time": "2021-04-14T22:03:41.451043Z",
     "start_time": "2021-04-14T21:59:07.044Z"
    }
   },
   "outputs": [],
   "source": [
    "n_brands = top_tfidf_pdf.normalized_url.nunique()"
   ]
  },
  {
   "cell_type": "code",
   "execution_count": null,
   "metadata": {
    "ExecuteTime": {
     "end_time": "2021-04-14T22:03:41.453895Z",
     "start_time": "2021-04-14T21:59:07.053Z"
    },
    "scrolled": false
   },
   "outputs": [],
   "source": [
    "fig = make_subplots(\n",
    "    rows=n_brands,\n",
    "    cols=2,\n",
    ")\n",
    "\n",
    "i = 0\n",
    "\n",
    "top_tfidf_pdf = top_tfidf_pdf[top_tfidf_pdf.sentiment!='Neutral']\n",
    "for sentiment, sent_data in top_tfidf_pdf.groupby('sentiment'):\n",
    "    \n",
    "    j = 0\n",
    "    \n",
    "    for url, data in sent_data.groupby('normalized_url'):\n",
    "\n",
    "        fig.add_trace(\n",
    "            go.Bar(\n",
    "                orientation='h',\n",
    "                x=data.tfidf,\n",
    "                y=data.vocab,\n",
    "                marker_color=CU_PLOTLY_COLOR_SEQUENCE[color_map[sentiment]]\n",
    "            ),\n",
    "            row=j+1, col=i+1\n",
    "        )\n",
    "        j += 1\n",
    "        fig.update_yaxes(title_text=brand_name_di.get(url), row=j, col=1)\n",
    "        fig.update_xaxes(showticklabels=False)\n",
    "        fig.update_xaxes(title_text=sentiment, row=j, col=i+1)\n",
    "        \n",
    "    i += 1\n",
    "    \n",
    "fig.update_layout(\n",
    "    width=1400,\n",
    "    height=1800,\n",
    "    font=Font.plot_title.value,\n",
    "    plot_bgcolor=\"white\",\n",
    "    title={\"x\": 0.5},\n",
    "    colorway=CU_PLOTLY_COLOR_SEQUENCE,\n",
    "    title_text=f\"Top Unique Terms by Review Sentiment for Select {GROUP_NAME} Brands\",\n",
    "    showlegend=False\n",
    ")\n",
    "\n",
    "\n",
    "fig.show()"
   ]
  },
  {
   "cell_type": "markdown",
   "metadata": {},
   "source": [
    "# TFIDF by Sentiment sklearn implementation"
   ]
  },
  {
   "cell_type": "code",
   "execution_count": null,
   "metadata": {
    "ExecuteTime": {
     "end_time": "2021-04-14T22:03:41.455872Z",
     "start_time": "2021-04-14T21:59:07.058Z"
    }
   },
   "outputs": [],
   "source": [
    "DOC_GROUP = ['sentiment', 'normalized_url']"
   ]
  },
  {
   "cell_type": "code",
   "execution_count": null,
   "metadata": {
    "ExecuteTime": {
     "end_time": "2021-04-14T22:03:41.457679Z",
     "start_time": "2021-04-14T21:59:07.063Z"
    }
   },
   "outputs": [],
   "source": [
    "sk_form = (\n",
    "    brand_revs\n",
    "    .groupby(DOC_GROUP)\n",
    "    .agg(F.concat_ws('\\n', F.collect_list('review_content')).alias('review_text'))\n",
    "    .persist()\n",
    ")"
   ]
  },
  {
   "cell_type": "code",
   "execution_count": null,
   "metadata": {
    "ExecuteTime": {
     "end_time": "2021-04-14T22:03:41.459377Z",
     "start_time": "2021-04-14T21:59:07.067Z"
    }
   },
   "outputs": [],
   "source": [
    "example_pdf = sk_form.toPandas()"
   ]
  },
  {
   "cell_type": "code",
   "execution_count": null,
   "metadata": {
    "ExecuteTime": {
     "end_time": "2021-04-14T22:03:41.466053Z",
     "start_time": "2021-04-14T21:59:07.071Z"
    }
   },
   "outputs": [],
   "source": [
    "# if CUSTOM_STOPWORDS:\n",
    "#     def tokenize(s, custom_words=CUSTOM_STOPWORDS):\n",
    "#         filter_words = added_stopwords_li + stopwords_li + punkts_li + custom_words\n",
    "#         return [w.lower() for w in word_tokenize(str(s)) if w.lower() not in filter_words]\n",
    "\n",
    "#     tokenize_udf = spark.udf.register(\"tokenize\", tokenize, T.ArrayType(T.StringType()))"
   ]
  },
  {
   "cell_type": "code",
   "execution_count": null,
   "metadata": {
    "ExecuteTime": {
     "end_time": "2021-04-14T22:03:41.468982Z",
     "start_time": "2021-04-14T21:59:07.075Z"
    }
   },
   "outputs": [],
   "source": [
    "REV_WORDS = []"
   ]
  },
  {
   "cell_type": "code",
   "execution_count": null,
   "metadata": {
    "ExecuteTime": {
     "end_time": "2021-04-14T22:03:41.471788Z",
     "start_time": "2021-04-14T21:59:07.079Z"
    }
   },
   "outputs": [],
   "source": [
    "from sklearn.feature_extraction.text import TfidfVectorizer\n",
    "sk_tfidf = TfidfVectorizer(\n",
    "    stop_words = GROUP_CUSTOM_STOPWORDS + CUSTOM_STOPWORDS + added_stopwords_li + stopwords_li + punkts_li + \\\n",
    "    REV_WORDS + GROUP_CUSTOM_STOPWORDS + BIGRAM_UNIGRAM_WORD_FILTER,\n",
    "    ngram_range=(2, 2)\n",
    ")\n",
    "sk_out = sk_tfidf.fit_transform(example_pdf['review_text'])"
   ]
  },
  {
   "cell_type": "code",
   "execution_count": null,
   "metadata": {
    "ExecuteTime": {
     "end_time": "2021-04-14T22:03:41.474977Z",
     "start_time": "2021-04-14T21:59:07.083Z"
    }
   },
   "outputs": [],
   "source": [
    "tfidf_pdf = (\n",
    "    pd.DataFrame(sk_out.toarray(), columns = sk_tfidf.get_feature_names())\n",
    "    .stack()\n",
    "    .to_frame()\n",
    "    .reset_index()\n",
    "    .rename(columns={0:'tfidf', 'level_1':'tokens'})\n",
    "    .merge(example_pdf[['sentiment','normalized_url']], right_index=True, left_on='level_0', how='left')\n",
    "    .drop(['level_0'], axis=1)\n",
    ")"
   ]
  },
  {
   "cell_type": "code",
   "execution_count": null,
   "metadata": {
    "ExecuteTime": {
     "end_time": "2021-04-14T22:03:41.477719Z",
     "start_time": "2021-04-14T21:59:07.088Z"
    }
   },
   "outputs": [],
   "source": [
    "#top_tfidf_pdf"
   ]
  },
  {
   "cell_type": "code",
   "execution_count": null,
   "metadata": {
    "ExecuteTime": {
     "end_time": "2021-04-14T22:03:41.479701Z",
     "start_time": "2021-04-14T21:59:07.092Z"
    }
   },
   "outputs": [],
   "source": [
    "TOP_N_PER_GROUP = 7"
   ]
  },
  {
   "cell_type": "code",
   "execution_count": null,
   "metadata": {
    "ExecuteTime": {
     "end_time": "2021-04-14T22:03:41.481569Z",
     "start_time": "2021-04-14T21:59:07.097Z"
    }
   },
   "outputs": [],
   "source": [
    "top_tfidf_pdf = (\n",
    "    tfidf_pdf\n",
    "    .sort_values(['tfidf','sentiment'], ascending=False)\n",
    "    .groupby(DOC_GROUP)\n",
    "    .head(TOP_N_PER_GROUP)\n",
    "    .sort_values(['tfidf'])\n",
    ")"
   ]
  },
  {
   "cell_type": "code",
   "execution_count": null,
   "metadata": {
    "ExecuteTime": {
     "end_time": "2021-04-14T22:03:41.483334Z",
     "start_time": "2021-04-14T21:59:07.101Z"
    }
   },
   "outputs": [],
   "source": [
    "# IFIDF_THRESHOLD = 0.06"
   ]
  },
  {
   "cell_type": "code",
   "execution_count": null,
   "metadata": {
    "ExecuteTime": {
     "end_time": "2021-04-14T22:03:41.484999Z",
     "start_time": "2021-04-14T21:59:07.105Z"
    }
   },
   "outputs": [],
   "source": [
    "# top_tfidf_pdf = (\n",
    "#     tfidf_pdf[tfidf_pdf.tfidf>IFIDF_THRESHOLD]\n",
    "#     .sort_values(['tfidf'])\n",
    "# )"
   ]
  },
  {
   "cell_type": "code",
   "execution_count": null,
   "metadata": {
    "ExecuteTime": {
     "end_time": "2021-04-14T22:03:41.486691Z",
     "start_time": "2021-04-14T21:59:07.110Z"
    },
    "scrolled": false
   },
   "outputs": [],
   "source": [
    "color_map = {'Positive':0, 'Neutral':2, 'Negative':1}"
   ]
  },
  {
   "cell_type": "code",
   "execution_count": null,
   "metadata": {
    "ExecuteTime": {
     "end_time": "2021-04-14T22:03:41.488423Z",
     "start_time": "2021-04-14T21:59:07.114Z"
    }
   },
   "outputs": [],
   "source": [
    "n_brands = top_tfidf_pdf.normalized_url.nunique()"
   ]
  },
  {
   "cell_type": "code",
   "execution_count": null,
   "metadata": {
    "ExecuteTime": {
     "end_time": "2021-04-14T22:03:41.490397Z",
     "start_time": "2021-04-14T21:59:07.123Z"
    },
    "scrolled": false
   },
   "outputs": [],
   "source": [
    "fig = make_subplots(\n",
    "    rows=n_brands,\n",
    "    cols=2,\n",
    ")\n",
    "\n",
    "i = 0\n",
    "\n",
    "top_tfidf_pdf = top_tfidf_pdf[top_tfidf_pdf.sentiment!='Neutral'].sort_values(['normalized_url','tfidf'])\n",
    "for sentiment, sent_data in top_tfidf_pdf.groupby('sentiment'):\n",
    "    j = 0\n",
    "    \n",
    "    for url, data in sent_data.groupby('normalized_url'):\n",
    "\n",
    "        fig.add_trace(\n",
    "            go.Bar(\n",
    "                orientation='h',\n",
    "                x=data.tfidf,\n",
    "                y=data.tokens,\n",
    "                marker_color=CU_PLOTLY_COLOR_SEQUENCE[color_map[sentiment]]\n",
    "            ),\n",
    "            row=j+1, col=i+1\n",
    "        )\n",
    "        j += 1\n",
    "        fig.update_yaxes(title_text=brand_name_di.get(url), row=j, col=1)\n",
    "        fig.update_xaxes(showticklabels=False)\n",
    "        fig.update_xaxes(title_text=sentiment, row=j, col=i+1)\n",
    "        \n",
    "    i += 1\n",
    "    \n",
    "fig.update_layout(\n",
    "    width=1300,\n",
    "    height=1200,\n",
    "    font=Font.plot_title.value,\n",
    "    plot_bgcolor=\"white\",\n",
    "    title={\"x\": 0.5},\n",
    "    colorway=CU_PLOTLY_COLOR_SEQUENCE,\n",
    "    title_text=f\"Top Unique Terms by Review Sentiment for Select {GROUP_NAME} Brands\",\n",
    "    showlegend=False\n",
    ")\n",
    "\n",
    "\n",
    "fig.show()"
   ]
  },
  {
   "cell_type": "code",
   "execution_count": null,
   "metadata": {
    "ExecuteTime": {
     "end_time": "2021-04-14T22:03:41.492384Z",
     "start_time": "2021-04-14T21:59:07.128Z"
    }
   },
   "outputs": [],
   "source": [
    "rev_rating_sdf = (\n",
    "    brand_revs\n",
    "    .filter(F.col('review_rating').isin([1,2,3,4,5]))\n",
    "    .groupby('normalized_url', 'review_rating')\n",
    "    .agg(\n",
    "        F.countDistinct(F.concat(F.col('source_name'), F.col('review_source_id'))).alias('reviewer_count')\n",
    "    )\n",
    ")\n",
    "\n",
    "rev_rating_sdf_sum = rev_rating_sdf.groupBy('normalized_url').sum('reviewer_count').alias('reviewer_sum')\n",
    "\n",
    "rev_rating_sdf = rev_rating_sdf.join(rev_rating_sdf_sum, 'normalized_url')"
   ]
  },
  {
   "cell_type": "code",
   "execution_count": null,
   "metadata": {
    "ExecuteTime": {
     "end_time": "2021-04-14T22:03:41.494130Z",
     "start_time": "2021-04-14T21:59:07.133Z"
    }
   },
   "outputs": [],
   "source": [
    "rev_rating_sdf.show()"
   ]
  },
  {
   "cell_type": "code",
   "execution_count": null,
   "metadata": {
    "ExecuteTime": {
     "end_time": "2021-04-14T22:03:41.495720Z",
     "start_time": "2021-04-14T21:59:07.137Z"
    }
   },
   "outputs": [],
   "source": [
    "# For exporting to CSV if necessary (must be pandas dataframe)\n",
    "#top_tfidf_pdf.to_csv(f'bain__review_analysis__top_unique_terms__20210309.csv', index=False)"
   ]
  }
 ],
 "metadata": {
  "kernelspec": {
   "display_name": "Python 3",
   "language": "python",
   "name": "python3"
  },
  "language_info": {
   "codemirror_mode": {
    "name": "ipython",
    "version": 3
   },
   "file_extension": ".py",
   "mimetype": "text/x-python",
   "name": "python",
   "nbconvert_exporter": "python",
   "pygments_lexer": "ipython3",
   "version": "3.6.8"
  },
  "toc": {
   "colors": {
    "hover_highlight": "#DAA520",
    "navigate_num": "#000000",
    "navigate_text": "#333333",
    "running_highlight": "#FF0000",
    "selected_highlight": "#FFD700",
    "sidebar_border": "#EEEEEE",
    "wrapper_background": "#FFFFFF"
   },
   "moveMenuLeft": true,
   "nav_menu": {
    "height": "282px",
    "width": "252px"
   },
   "navigate_menu": true,
   "number_sections": true,
   "sideBar": true,
   "threshold": 4,
   "toc_cell": true,
   "toc_position": {
    "height": "782.875px",
    "left": "0px",
    "right": "1488px",
    "top": "111.125px",
    "width": "171.969px"
   },
   "toc_section_display": "block",
   "toc_window_display": true,
   "widenNotebook": false
  }
 },
 "nbformat": 4,
 "nbformat_minor": 4
}
