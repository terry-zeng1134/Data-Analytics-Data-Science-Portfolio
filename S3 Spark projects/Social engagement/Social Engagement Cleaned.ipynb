{
 "cells": [
  {
   "cell_type": "markdown",
   "metadata": {},
   "source": [
    "# Imports"
   ]
  },
  {
   "cell_type": "code",
   "execution_count": 1,
   "metadata": {
    "ExecuteTime": {
     "end_time": "2022-03-31T23:16:49.003188Z",
     "start_time": "2022-03-31T23:16:41.140966Z"
    }
   },
   "outputs": [],
   "source": [
    "%%capture\n",
    "!pip install plotly\n",
    "!pip install watermark"
   ]
  },
  {
   "cell_type": "code",
   "execution_count": 2,
   "metadata": {
    "ExecuteTime": {
     "end_time": "2022-03-31T23:17:16.487496Z",
     "start_time": "2022-03-31T23:16:49.005139Z"
    }
   },
   "outputs": [],
   "source": [
    "%%capture\n",
    "!pip3 install --upgrade --no-cache-dir --extra-index-url http://pypi.cu/root/circleup/+simple/ --trusted-host pypi.cu cu-helio-insights==0.0.12"
   ]
  },
  {
   "cell_type": "code",
   "execution_count": 3,
   "metadata": {
    "ExecuteTime": {
     "end_time": "2022-03-31T23:17:20.385830Z",
     "start_time": "2022-03-31T23:17:16.489790Z"
    }
   },
   "outputs": [
    {
     "name": "stdout",
     "output_type": "stream",
     "text": [
      "Requirement already satisfied: numpy in /usr/local/lib/python3.6/site-packages (1.15.1)\n",
      "\u001b[33mWARNING: You are using pip version 20.0.2; however, version 21.3.1 is available.\n",
      "You should consider upgrading via the '/usr/local/bin/python -m pip install --upgrade pip' command.\u001b[0m\n"
     ]
    }
   ],
   "source": [
    "!pip install numpy"
   ]
  },
  {
   "cell_type": "code",
   "execution_count": 4,
   "metadata": {
    "ExecuteTime": {
     "end_time": "2022-03-31T23:17:21.676165Z",
     "start_time": "2022-03-31T23:17:20.387943Z"
    }
   },
   "outputs": [
    {
     "ename": "AttributeError",
     "evalue": "module 'numpy' has no attribute 'version'",
     "output_type": "error",
     "traceback": [
      "\u001b[0;31m---------------------------------------------------------------------------\u001b[0m",
      "\u001b[0;31mAttributeError\u001b[0m                            Traceback (most recent call last)",
      "\u001b[0;32m<ipython-input-4-241641f3643f>\u001b[0m in \u001b[0;36m<module>\u001b[0;34m()\u001b[0m\n\u001b[0;32m----> 1\u001b[0;31m \u001b[0;32mfrom\u001b[0m \u001b[0mspark_tools\u001b[0m \u001b[0;32mimport\u001b[0m \u001b[0;34m*\u001b[0m\u001b[0;34m\u001b[0m\u001b[0;34m\u001b[0m\u001b[0m\n\u001b[0m\u001b[1;32m      2\u001b[0m \u001b[0;34m\u001b[0m\u001b[0m\n\u001b[1;32m      3\u001b[0m \u001b[0;32mfrom\u001b[0m \u001b[0mmatplotlib\u001b[0m \u001b[0;32mimport\u001b[0m \u001b[0mpyplot\u001b[0m \u001b[0;32mas\u001b[0m \u001b[0mplt\u001b[0m\u001b[0;34m\u001b[0m\u001b[0;34m\u001b[0m\u001b[0m\n\u001b[1;32m      4\u001b[0m \u001b[0;32mimport\u001b[0m \u001b[0mpandas\u001b[0m \u001b[0;32mas\u001b[0m \u001b[0mpd\u001b[0m\u001b[0;34m\u001b[0m\u001b[0;34m\u001b[0m\u001b[0m\n\u001b[1;32m      5\u001b[0m \u001b[0;32mimport\u001b[0m \u001b[0mnumpy\u001b[0m \u001b[0;32mas\u001b[0m \u001b[0mnp\u001b[0m\u001b[0;34m\u001b[0m\u001b[0;34m\u001b[0m\u001b[0m\n",
      "\u001b[0;32m/usr/local/lib/python3.6/site-packages/spark_tools/__init__.py\u001b[0m in \u001b[0;36m<module>\u001b[0;34m()\u001b[0m\n\u001b[0;32m----> 1\u001b[0;31m \u001b[0;32mfrom\u001b[0m \u001b[0;34m.\u001b[0m\u001b[0mspark_tools\u001b[0m \u001b[0;32mimport\u001b[0m \u001b[0;34m*\u001b[0m  \u001b[0;31m# noqa\u001b[0m\u001b[0;34m\u001b[0m\u001b[0;34m\u001b[0m\u001b[0m\n\u001b[0m\u001b[1;32m      2\u001b[0m \u001b[0;32mfrom\u001b[0m \u001b[0;34m.\u001b[0m\u001b[0mschema_tools\u001b[0m \u001b[0;32mimport\u001b[0m \u001b[0;34m*\u001b[0m  \u001b[0;31m# noqa\u001b[0m\u001b[0;34m\u001b[0m\u001b[0;34m\u001b[0m\u001b[0m\n\u001b[1;32m      3\u001b[0m \u001b[0;32mfrom\u001b[0m \u001b[0;34m.\u001b[0m\u001b[0mfile_tools\u001b[0m \u001b[0;32mimport\u001b[0m \u001b[0;34m*\u001b[0m  \u001b[0;31m# noqa\u001b[0m\u001b[0;34m\u001b[0m\u001b[0;34m\u001b[0m\u001b[0m\n",
      "\u001b[0;32m/usr/local/lib/python3.6/site-packages/spark_tools/spark_tools.py\u001b[0m in \u001b[0;36m<module>\u001b[0;34m()\u001b[0m\n\u001b[1;32m     10\u001b[0m \u001b[0;34m\u001b[0m\u001b[0m\n\u001b[1;32m     11\u001b[0m \u001b[0;32mimport\u001b[0m \u001b[0mboto3\u001b[0m\u001b[0;34m\u001b[0m\u001b[0;34m\u001b[0m\u001b[0m\n\u001b[0;32m---> 12\u001b[0;31m \u001b[0;32mimport\u001b[0m \u001b[0mpandas\u001b[0m \u001b[0;32mas\u001b[0m \u001b[0mpd\u001b[0m\u001b[0;34m\u001b[0m\u001b[0;34m\u001b[0m\u001b[0m\n\u001b[0m\u001b[1;32m     13\u001b[0m \u001b[0;32mimport\u001b[0m \u001b[0mpygsheets\u001b[0m\u001b[0;34m\u001b[0m\u001b[0;34m\u001b[0m\u001b[0m\n\u001b[1;32m     14\u001b[0m \u001b[0;32mfrom\u001b[0m \u001b[0mbotocore\u001b[0m\u001b[0;34m.\u001b[0m\u001b[0mexceptions\u001b[0m \u001b[0;32mimport\u001b[0m \u001b[0mClientError\u001b[0m\u001b[0;34m\u001b[0m\u001b[0;34m\u001b[0m\u001b[0m\n",
      "\u001b[0;32m/usr/local/lib/python3.6/site-packages/pandas/__init__.py\u001b[0m in \u001b[0;36m<module>\u001b[0;34m()\u001b[0m\n\u001b[1;32m     40\u001b[0m \u001b[0;32mimport\u001b[0m \u001b[0mpandas\u001b[0m\u001b[0;34m.\u001b[0m\u001b[0mcore\u001b[0m\u001b[0;34m.\u001b[0m\u001b[0mconfig_init\u001b[0m\u001b[0;34m\u001b[0m\u001b[0;34m\u001b[0m\u001b[0m\n\u001b[1;32m     41\u001b[0m \u001b[0;34m\u001b[0m\u001b[0m\n\u001b[0;32m---> 42\u001b[0;31m \u001b[0;32mfrom\u001b[0m \u001b[0mpandas\u001b[0m\u001b[0;34m.\u001b[0m\u001b[0mcore\u001b[0m\u001b[0;34m.\u001b[0m\u001b[0mapi\u001b[0m \u001b[0;32mimport\u001b[0m \u001b[0;34m*\u001b[0m\u001b[0;34m\u001b[0m\u001b[0;34m\u001b[0m\u001b[0m\n\u001b[0m\u001b[1;32m     43\u001b[0m \u001b[0;32mfrom\u001b[0m \u001b[0mpandas\u001b[0m\u001b[0;34m.\u001b[0m\u001b[0mcore\u001b[0m\u001b[0;34m.\u001b[0m\u001b[0msparse\u001b[0m\u001b[0;34m.\u001b[0m\u001b[0mapi\u001b[0m \u001b[0;32mimport\u001b[0m \u001b[0;34m*\u001b[0m\u001b[0;34m\u001b[0m\u001b[0;34m\u001b[0m\u001b[0m\n\u001b[1;32m     44\u001b[0m \u001b[0;32mfrom\u001b[0m \u001b[0mpandas\u001b[0m\u001b[0;34m.\u001b[0m\u001b[0mstats\u001b[0m\u001b[0;34m.\u001b[0m\u001b[0mapi\u001b[0m \u001b[0;32mimport\u001b[0m \u001b[0;34m*\u001b[0m\u001b[0;34m\u001b[0m\u001b[0;34m\u001b[0m\u001b[0m\n",
      "\u001b[0;32m/usr/local/lib/python3.6/site-packages/pandas/core/api.py\u001b[0m in \u001b[0;36m<module>\u001b[0;34m()\u001b[0m\n\u001b[1;32m      8\u001b[0m \u001b[0;32mfrom\u001b[0m \u001b[0mpandas\u001b[0m\u001b[0;34m.\u001b[0m\u001b[0mcore\u001b[0m\u001b[0;34m.\u001b[0m\u001b[0mdtypes\u001b[0m\u001b[0;34m.\u001b[0m\u001b[0mmissing\u001b[0m \u001b[0;32mimport\u001b[0m \u001b[0misnull\u001b[0m\u001b[0;34m,\u001b[0m \u001b[0mnotnull\u001b[0m\u001b[0;34m\u001b[0m\u001b[0;34m\u001b[0m\u001b[0m\n\u001b[1;32m      9\u001b[0m \u001b[0;32mfrom\u001b[0m \u001b[0mpandas\u001b[0m\u001b[0;34m.\u001b[0m\u001b[0mcore\u001b[0m\u001b[0;34m.\u001b[0m\u001b[0mcategorical\u001b[0m \u001b[0;32mimport\u001b[0m \u001b[0mCategorical\u001b[0m\u001b[0;34m\u001b[0m\u001b[0;34m\u001b[0m\u001b[0m\n\u001b[0;32m---> 10\u001b[0;31m \u001b[0;32mfrom\u001b[0m \u001b[0mpandas\u001b[0m\u001b[0;34m.\u001b[0m\u001b[0mcore\u001b[0m\u001b[0;34m.\u001b[0m\u001b[0mgroupby\u001b[0m \u001b[0;32mimport\u001b[0m \u001b[0mGrouper\u001b[0m\u001b[0;34m\u001b[0m\u001b[0;34m\u001b[0m\u001b[0m\n\u001b[0m\u001b[1;32m     11\u001b[0m \u001b[0;32mfrom\u001b[0m \u001b[0mpandas\u001b[0m\u001b[0;34m.\u001b[0m\u001b[0mio\u001b[0m\u001b[0;34m.\u001b[0m\u001b[0mformats\u001b[0m\u001b[0;34m.\u001b[0m\u001b[0mformat\u001b[0m \u001b[0;32mimport\u001b[0m \u001b[0mset_eng_float_format\u001b[0m\u001b[0;34m\u001b[0m\u001b[0;34m\u001b[0m\u001b[0m\n\u001b[1;32m     12\u001b[0m from pandas.core.index import (Index, CategoricalIndex, Int64Index,\n",
      "\u001b[0;32m/usr/local/lib/python3.6/site-packages/pandas/core/groupby.py\u001b[0m in \u001b[0;36m<module>\u001b[0;34m()\u001b[0m\n\u001b[1;32m     47\u001b[0m                                CategoricalIndex, _ensure_index)\n\u001b[1;32m     48\u001b[0m \u001b[0;32mfrom\u001b[0m \u001b[0mpandas\u001b[0m\u001b[0;34m.\u001b[0m\u001b[0mcore\u001b[0m\u001b[0;34m.\u001b[0m\u001b[0mcategorical\u001b[0m \u001b[0;32mimport\u001b[0m \u001b[0mCategorical\u001b[0m\u001b[0;34m\u001b[0m\u001b[0;34m\u001b[0m\u001b[0m\n\u001b[0;32m---> 49\u001b[0;31m \u001b[0;32mfrom\u001b[0m \u001b[0mpandas\u001b[0m\u001b[0;34m.\u001b[0m\u001b[0mcore\u001b[0m\u001b[0;34m.\u001b[0m\u001b[0mframe\u001b[0m \u001b[0;32mimport\u001b[0m \u001b[0mDataFrame\u001b[0m\u001b[0;34m\u001b[0m\u001b[0;34m\u001b[0m\u001b[0m\n\u001b[0m\u001b[1;32m     50\u001b[0m \u001b[0;32mfrom\u001b[0m \u001b[0mpandas\u001b[0m\u001b[0;34m.\u001b[0m\u001b[0mcore\u001b[0m\u001b[0;34m.\u001b[0m\u001b[0mgeneric\u001b[0m \u001b[0;32mimport\u001b[0m \u001b[0mNDFrame\u001b[0m\u001b[0;34m,\u001b[0m \u001b[0m_shared_docs\u001b[0m\u001b[0;34m\u001b[0m\u001b[0;34m\u001b[0m\u001b[0m\n\u001b[1;32m     51\u001b[0m \u001b[0;32mfrom\u001b[0m \u001b[0mpandas\u001b[0m\u001b[0;34m.\u001b[0m\u001b[0mcore\u001b[0m\u001b[0;34m.\u001b[0m\u001b[0minternals\u001b[0m \u001b[0;32mimport\u001b[0m \u001b[0mBlockManager\u001b[0m\u001b[0;34m,\u001b[0m \u001b[0mmake_block\u001b[0m\u001b[0;34m\u001b[0m\u001b[0;34m\u001b[0m\u001b[0m\n",
      "\u001b[0;32m/usr/local/lib/python3.6/site-packages/pandas/core/frame.py\u001b[0m in \u001b[0;36m<module>\u001b[0;34m()\u001b[0m\n\u001b[1;32m     65\u001b[0m                                 \u001b[0m_maybe_box_datetimelike\u001b[0m\u001b[0;34m,\u001b[0m\u001b[0;34m\u001b[0m\u001b[0;34m\u001b[0m\u001b[0m\n\u001b[1;32m     66\u001b[0m                                 _dict_compat)\n\u001b[0;32m---> 67\u001b[0;31m \u001b[0;32mfrom\u001b[0m \u001b[0mpandas\u001b[0m\u001b[0;34m.\u001b[0m\u001b[0mcore\u001b[0m\u001b[0;34m.\u001b[0m\u001b[0mgeneric\u001b[0m \u001b[0;32mimport\u001b[0m \u001b[0mNDFrame\u001b[0m\u001b[0;34m,\u001b[0m \u001b[0m_shared_docs\u001b[0m\u001b[0;34m\u001b[0m\u001b[0;34m\u001b[0m\u001b[0m\n\u001b[0m\u001b[1;32m     68\u001b[0m \u001b[0;32mfrom\u001b[0m \u001b[0mpandas\u001b[0m\u001b[0;34m.\u001b[0m\u001b[0mcore\u001b[0m\u001b[0;34m.\u001b[0m\u001b[0mindex\u001b[0m \u001b[0;32mimport\u001b[0m \u001b[0mIndex\u001b[0m\u001b[0;34m,\u001b[0m \u001b[0mMultiIndex\u001b[0m\u001b[0;34m,\u001b[0m \u001b[0m_ensure_index\u001b[0m\u001b[0;34m\u001b[0m\u001b[0;34m\u001b[0m\u001b[0m\n\u001b[1;32m     69\u001b[0m from pandas.core.indexing import (maybe_droplevels, convert_to_index_sliceable,\n",
      "\u001b[0;32m/usr/local/lib/python3.6/site-packages/pandas/core/generic.py\u001b[0m in \u001b[0;36m<module>\u001b[0;34m()\u001b[0m\n\u001b[1;32m     42\u001b[0m \u001b[0;32mfrom\u001b[0m \u001b[0mpandas\u001b[0m\u001b[0;34m.\u001b[0m\u001b[0mcore\u001b[0m\u001b[0;34m.\u001b[0m\u001b[0mindexes\u001b[0m\u001b[0;34m.\u001b[0m\u001b[0mdatetimes\u001b[0m \u001b[0;32mimport\u001b[0m \u001b[0mDatetimeIndex\u001b[0m\u001b[0;34m\u001b[0m\u001b[0;34m\u001b[0m\u001b[0m\n\u001b[1;32m     43\u001b[0m \u001b[0;32mfrom\u001b[0m \u001b[0mpandas\u001b[0m\u001b[0;34m.\u001b[0m\u001b[0mcore\u001b[0m\u001b[0;34m.\u001b[0m\u001b[0mindexes\u001b[0m\u001b[0;34m.\u001b[0m\u001b[0mperiod\u001b[0m \u001b[0;32mimport\u001b[0m \u001b[0mPeriodIndex\u001b[0m\u001b[0;34m,\u001b[0m \u001b[0mPeriod\u001b[0m\u001b[0;34m\u001b[0m\u001b[0;34m\u001b[0m\u001b[0m\n\u001b[0;32m---> 44\u001b[0;31m \u001b[0;32mfrom\u001b[0m \u001b[0mpandas\u001b[0m\u001b[0;34m.\u001b[0m\u001b[0mcore\u001b[0m\u001b[0;34m.\u001b[0m\u001b[0minternals\u001b[0m \u001b[0;32mimport\u001b[0m \u001b[0mBlockManager\u001b[0m\u001b[0;34m\u001b[0m\u001b[0;34m\u001b[0m\u001b[0m\n\u001b[0m\u001b[1;32m     45\u001b[0m \u001b[0;32mimport\u001b[0m \u001b[0mpandas\u001b[0m\u001b[0;34m.\u001b[0m\u001b[0mcore\u001b[0m\u001b[0;34m.\u001b[0m\u001b[0malgorithms\u001b[0m \u001b[0;32mas\u001b[0m \u001b[0malgos\u001b[0m\u001b[0;34m\u001b[0m\u001b[0;34m\u001b[0m\u001b[0m\n\u001b[1;32m     46\u001b[0m \u001b[0;32mimport\u001b[0m \u001b[0mpandas\u001b[0m\u001b[0;34m.\u001b[0m\u001b[0mcore\u001b[0m\u001b[0;34m.\u001b[0m\u001b[0mcommon\u001b[0m \u001b[0;32mas\u001b[0m \u001b[0mcom\u001b[0m\u001b[0;34m\u001b[0m\u001b[0;34m\u001b[0m\u001b[0m\n",
      "\u001b[0;32m/usr/local/lib/python3.6/site-packages/pandas/core/internals.py\u001b[0m in \u001b[0;36m<module>\u001b[0;34m()\u001b[0m\n\u001b[1;32m     59\u001b[0m \u001b[0;34m\u001b[0m\u001b[0m\n\u001b[1;32m     60\u001b[0m \u001b[0;32mimport\u001b[0m \u001b[0mpandas\u001b[0m\u001b[0;34m.\u001b[0m\u001b[0mcore\u001b[0m\u001b[0;34m.\u001b[0m\u001b[0mmissing\u001b[0m \u001b[0;32mas\u001b[0m \u001b[0mmissing\u001b[0m\u001b[0;34m\u001b[0m\u001b[0;34m\u001b[0m\u001b[0m\n\u001b[0;32m---> 61\u001b[0;31m \u001b[0;32mfrom\u001b[0m \u001b[0mpandas\u001b[0m\u001b[0;34m.\u001b[0m\u001b[0mcore\u001b[0m\u001b[0;34m.\u001b[0m\u001b[0msparse\u001b[0m\u001b[0;34m.\u001b[0m\u001b[0marray\u001b[0m \u001b[0;32mimport\u001b[0m \u001b[0m_maybe_to_sparse\u001b[0m\u001b[0;34m,\u001b[0m \u001b[0mSparseArray\u001b[0m\u001b[0;34m\u001b[0m\u001b[0;34m\u001b[0m\u001b[0m\n\u001b[0m\u001b[1;32m     62\u001b[0m \u001b[0;32mfrom\u001b[0m \u001b[0mpandas\u001b[0m\u001b[0;34m.\u001b[0m\u001b[0m_libs\u001b[0m \u001b[0;32mimport\u001b[0m \u001b[0mlib\u001b[0m\u001b[0;34m,\u001b[0m \u001b[0mtslib\u001b[0m\u001b[0;34m\u001b[0m\u001b[0;34m\u001b[0m\u001b[0m\n\u001b[1;32m     63\u001b[0m \u001b[0;32mfrom\u001b[0m \u001b[0mpandas\u001b[0m\u001b[0;34m.\u001b[0m\u001b[0m_libs\u001b[0m\u001b[0;34m.\u001b[0m\u001b[0mtslib\u001b[0m \u001b[0;32mimport\u001b[0m \u001b[0mTimedelta\u001b[0m\u001b[0;34m\u001b[0m\u001b[0;34m\u001b[0m\u001b[0m\n",
      "\u001b[0;32m/usr/local/lib/python3.6/site-packages/pandas/core/sparse/array.py\u001b[0m in \u001b[0;36m<module>\u001b[0;34m()\u001b[0m\n\u001b[1;32m     30\u001b[0m \u001b[0;32mfrom\u001b[0m \u001b[0mpandas\u001b[0m\u001b[0;34m.\u001b[0m\u001b[0mcore\u001b[0m\u001b[0;34m.\u001b[0m\u001b[0mdtypes\u001b[0m\u001b[0;34m.\u001b[0m\u001b[0mmissing\u001b[0m \u001b[0;32mimport\u001b[0m \u001b[0misnull\u001b[0m\u001b[0;34m,\u001b[0m \u001b[0mnotnull\u001b[0m\u001b[0;34m,\u001b[0m \u001b[0mna_value_for_dtype\u001b[0m\u001b[0;34m\u001b[0m\u001b[0;34m\u001b[0m\u001b[0m\n\u001b[1;32m     31\u001b[0m \u001b[0;34m\u001b[0m\u001b[0m\n\u001b[0;32m---> 32\u001b[0;31m \u001b[0;32mimport\u001b[0m \u001b[0mpandas\u001b[0m\u001b[0;34m.\u001b[0m\u001b[0m_libs\u001b[0m\u001b[0;34m.\u001b[0m\u001b[0msparse\u001b[0m \u001b[0;32mas\u001b[0m \u001b[0msplib\u001b[0m\u001b[0;34m\u001b[0m\u001b[0;34m\u001b[0m\u001b[0m\n\u001b[0m\u001b[1;32m     33\u001b[0m \u001b[0;32mfrom\u001b[0m \u001b[0mpandas\u001b[0m\u001b[0;34m.\u001b[0m\u001b[0m_libs\u001b[0m\u001b[0;34m.\u001b[0m\u001b[0msparse\u001b[0m \u001b[0;32mimport\u001b[0m \u001b[0mSparseIndex\u001b[0m\u001b[0;34m,\u001b[0m \u001b[0mBlockIndex\u001b[0m\u001b[0;34m,\u001b[0m \u001b[0mIntIndex\u001b[0m\u001b[0;34m\u001b[0m\u001b[0;34m\u001b[0m\u001b[0m\n\u001b[1;32m     34\u001b[0m \u001b[0;32mfrom\u001b[0m \u001b[0mpandas\u001b[0m\u001b[0;34m.\u001b[0m\u001b[0m_libs\u001b[0m \u001b[0;32mimport\u001b[0m \u001b[0mindex\u001b[0m \u001b[0;32mas\u001b[0m \u001b[0mlibindex\u001b[0m\u001b[0;34m\u001b[0m\u001b[0;34m\u001b[0m\u001b[0m\n",
      "\u001b[0;32mpandas/_libs/sparse.pyx\u001b[0m in \u001b[0;36minit pandas._libs.sparse (pandas/_libs/sparse.c:82918)\u001b[0;34m()\u001b[0m\n",
      "\u001b[0;31mAttributeError\u001b[0m: module 'numpy' has no attribute 'version'"
     ]
    }
   ],
   "source": [
    "from spark_tools import *\n",
    "\n",
    "from matplotlib import pyplot as plt\n",
    "import pandas as pd\n",
    "import numpy as np\n",
    "#import seaborn as sns\n",
    "\n",
    "import apollo\n",
    "from apollo import OverrideConfiguration\n",
    "from apollo import dataset\n",
    "import apollo_artifacts\n",
    "from apollo_artifacts import datasets\n",
    "\n",
    "import plotly\n",
    "import plotly.graph_objs as go\n",
    "from plotly.offline import download_plotlyjs, init_notebook_mode, plot, iplot\n",
    "import plotly.express as px\n",
    "from insights.investor_tools.widgets.style import (\n",
    "    Font,\n",
    "    CU_PLOTLY_COLOR_SEQUENCE,\n",
    "    CU_PLOTLY_COLORSCALE,\n",
    ")\n",
    "\n",
    "import datetime\n",
    "from features.brand_score.data_frames import BrandMetricDataFrames\n",
    "from ml.models.utils import remove_bad_mapped_accounts\n",
    "from schema_registry.spark.utils import data_set_to_data_frame\n",
    "\n",
    "from pyspark.sql.functions import lower, col, year, month, concat, lit, row_number\n",
    "from pyspark.sql.window import Window\n",
    "from schema_registry import get_schema\n",
    "from spark_tools import c, F\n",
    "from itertools import chain\n",
    "from pyspark.sql.functions import create_map, lit, to_date"
   ]
  },
  {
   "cell_type": "code",
   "execution_count": null,
   "metadata": {
    "ExecuteTime": {
     "end_time": "2022-03-31T23:17:21.680118Z",
     "start_time": "2022-03-31T23:16:41.656Z"
    }
   },
   "outputs": [],
   "source": [
    "import textwrap\n",
    "def add_line_breaks(string, length):\n",
    "    if string:\n",
    "        return '<br>'.join(textwrap.wrap(string, length))"
   ]
  },
  {
   "cell_type": "code",
   "execution_count": null,
   "metadata": {
    "ExecuteTime": {
     "end_time": "2022-03-31T23:17:21.681213Z",
     "start_time": "2022-03-31T23:16:41.841Z"
    }
   },
   "outputs": [],
   "source": [
    "OverrideConfiguration(default_to_production=True).apply()"
   ]
  },
  {
   "cell_type": "code",
   "execution_count": null,
   "metadata": {
    "ExecuteTime": {
     "end_time": "2022-03-31T23:17:21.682270Z",
     "start_time": "2022-03-31T23:16:42.123Z"
    }
   },
   "outputs": [],
   "source": [
    "pd.options.display.max_rows = 300"
   ]
  },
  {
   "cell_type": "code",
   "execution_count": null,
   "metadata": {
    "ExecuteTime": {
     "end_time": "2022-03-31T23:17:21.683290Z",
     "start_time": "2022-03-31T23:16:42.315Z"
    }
   },
   "outputs": [],
   "source": [
    "spark.conf.set('spark.sql.execution.arrow.enabled', 'false')"
   ]
  },
  {
   "cell_type": "code",
   "execution_count": null,
   "metadata": {
    "ExecuteTime": {
     "end_time": "2022-03-31T23:17:21.684311Z",
     "start_time": "2022-03-31T23:16:42.489Z"
    }
   },
   "outputs": [],
   "source": [
    "%load_ext watermark\n",
    "%watermark -v -m --iversions -g"
   ]
  },
  {
   "cell_type": "markdown",
   "metadata": {},
   "source": [
    "# Set Times"
   ]
  },
  {
   "cell_type": "code",
   "execution_count": null,
   "metadata": {
    "ExecuteTime": {
     "end_time": "2022-03-31T23:17:21.685264Z",
     "start_time": "2022-03-31T23:16:42.924Z"
    }
   },
   "outputs": [],
   "source": [
    "now = datetime.datetime.now()\n",
    "max_dt = datetime.date(now.year, now.month - 1 , now.day)\n",
    "max_date = max_dt.strftime(\"%Y-%m\")\n",
    "#backup_max_date = datetime.date(now.year, now.month - 2 , now.day).strftime(\"%Y-%m\")\n",
    "year_ago_dt = datetime.date(now.year - 1, now.month , now.day)\n",
    "year_ago_date = year_ago_dt.strftime(\"%Y-%m\")\n",
    "year2_ago_date = datetime.date(now.year - 2, now.month , now.day).strftime(\"%Y-%m\")"
   ]
  },
  {
   "cell_type": "markdown",
   "metadata": {},
   "source": [
    "# Time Series Brand Agg Data"
   ]
  },
  {
   "cell_type": "code",
   "execution_count": null,
   "metadata": {
    "ExecuteTime": {
     "end_time": "2022-03-31T23:17:21.686225Z",
     "start_time": "2022-03-31T23:16:43.339Z"
    }
   },
   "outputs": [],
   "source": [
    "#OLD\n",
    "IG_COLS = [\n",
    "    \"normalized_url\",\n",
    "    \"name\",\n",
    "    \"instagram_id\",\n",
    "    \"instagram_collected_on\",\n",
    "    \"fct_date\",\n",
    "    \"total_media_likes\",\n",
    "    \"total_media_comments\",\n",
    "    \"instagram_followed_by\",\n",
    "    \"instagram_media_count\",\n",
    "]"
   ]
  },
  {
   "cell_type": "code",
   "execution_count": null,
   "metadata": {
    "ExecuteTime": {
     "end_time": "2022-03-31T23:17:21.687347Z",
     "start_time": "2022-03-31T23:16:43.577Z"
    }
   },
   "outputs": [],
   "source": [
    "#fb=datasets.facebook_post__3_0.latest_segment_for_each_component_value_df([\"source_name\"])\n"
   ]
  },
  {
   "cell_type": "code",
   "execution_count": null,
   "metadata": {
    "ExecuteTime": {
     "end_time": "2022-03-31T23:17:21.688388Z",
     "start_time": "2022-03-31T23:16:43.886Z"
    },
    "scrolled": false
   },
   "outputs": [],
   "source": [
    "ig_sdf = (apollo\n",
    "    .dataset('instagram__canonical_brand_account__ts_interpolated__1_0')\n",
    "    #.latest_segment_df()\n",
    "    .read()\n",
    "    .select('*')\n",
    "    .persist())\n",
    "\n",
    "#ig_sdf.show()"
   ]
  },
  {
   "cell_type": "code",
   "execution_count": null,
   "metadata": {
    "ExecuteTime": {
     "end_time": "2022-03-31T23:17:21.689301Z",
     "start_time": "2022-03-31T23:16:44.077Z"
    }
   },
   "outputs": [],
   "source": [
    "ig_sdf.sort('y/m', ascending = True).show()"
   ]
  },
  {
   "cell_type": "markdown",
   "metadata": {},
   "source": [
    "## Load likes & comment data"
   ]
  },
  {
   "cell_type": "code",
   "execution_count": null,
   "metadata": {
    "ExecuteTime": {
     "end_time": "2022-03-31T23:17:21.690192Z",
     "start_time": "2022-03-31T23:16:44.599Z"
    }
   },
   "outputs": [],
   "source": [
    "path = 's3a://circleup-helio-normalized/instagram/version=1_0_0/entity=media'\n",
    "schema_id = 'instagram_media__normalized'\n",
    "schema_version = '1_0_0'\n",
    "w = Window.partitionBy(c.instagram_id, c.media_id).orderBy(c.collected_on.desc())\n",
    "schema = get_schema(identifier=schema_id, version=schema_version)\n",
    "df = spark.read.format('parquet').load(path, schema=schema.as_spark())\n",
    "df = (\n",
    "    df.withColumn(\"row_num\", F.row_number().over(w))\n",
    "    .where(c.row_num == 1)\n",
    "    .drop(\"row_num\")\n",
    ")\n",
    "df"
   ]
  },
  {
   "cell_type": "code",
   "execution_count": null,
   "metadata": {
    "ExecuteTime": {
     "end_time": "2022-03-31T23:17:21.691077Z",
     "start_time": "2022-03-31T23:16:44.875Z"
    }
   },
   "outputs": [],
   "source": [
    "#aggregate social activity data\n",
    "df = df.withColumn('fct_date', concat(year('collected_on'), lit('-'), month('collected_on')))\n",
    "likes_comm = df.groupBy('instagram_id','fct_date').sum('comments_count','likes_count')\n"
   ]
  },
  {
   "cell_type": "markdown",
   "metadata": {},
   "source": [
    "# Input Brands"
   ]
  },
  {
   "cell_type": "code",
   "execution_count": null,
   "metadata": {
    "ExecuteTime": {
     "end_time": "2022-03-31T23:17:21.692062Z",
     "start_time": "2022-03-31T23:16:46.106Z"
    }
   },
   "outputs": [],
   "source": [
    "NORMALIZED_URLS = [\n",
    "    'hellobubble.com',\n",
    "    'neutrogena.com',\n",
    "    'cerave.com',\n",
    "    'cetaphil.com',\n",
    "    'cleanandclear.com',\n",
    "]"
   ]
  },
  {
   "cell_type": "code",
   "execution_count": null,
   "metadata": {
    "ExecuteTime": {
     "end_time": "2022-03-31T23:17:21.693079Z",
     "start_time": "2022-03-31T23:16:46.503Z"
    }
   },
   "outputs": [],
   "source": [
    "BRAND_NAMES = [\n",
    "    'Bubble',\n",
    "    'Neutrogena',\n",
    "    'Cerave',\n",
    "    'Cetaphil',\n",
    "    'Clean & Clear'\n",
    "]"
   ]
  },
  {
   "cell_type": "code",
   "execution_count": null,
   "metadata": {
    "ExecuteTime": {
     "end_time": "2022-03-31T23:17:21.694041Z",
     "start_time": "2022-03-31T23:16:46.677Z"
    }
   },
   "outputs": [],
   "source": [
    "ids=[\n",
    "    ]"
   ]
  },
  {
   "cell_type": "code",
   "execution_count": null,
   "metadata": {
    "ExecuteTime": {
     "end_time": "2022-03-31T23:17:21.694938Z",
     "start_time": "2022-03-31T23:16:47.106Z"
    }
   },
   "outputs": [],
   "source": [
    "brand_map_di = dict(zip(NORMALIZED_URLS, BRAND_NAMES))"
   ]
  },
  {
   "cell_type": "markdown",
   "metadata": {},
   "source": [
    "Create mapping for URLs to Instagram ID to merge social activity data"
   ]
  },
  {
   "cell_type": "code",
   "execution_count": null,
   "metadata": {
    "ExecuteTime": {
     "end_time": "2022-03-31T23:17:21.695858Z",
     "start_time": "2022-03-31T23:16:48.652Z"
    }
   },
   "outputs": [],
   "source": [
    "ids = ig_sdf.where((F.col('canonical_brand_url').isin(NORMALIZED_URLS)) & (~F.col('instagram_id').isNull()))\n",
    "id_map = ids.select('canonical_brand_url',col('instagram_id').alias('id')).distinct()#.toPandas().set_index('canonical_brand_url').T.to_dict('list')\n",
    "urls = list(id_map.select('canonical_brand_url').toPandas()['canonical_brand_url'])\n",
    "ids = list(id_map.select('id').toPandas()['id'])\n",
    "url_di = dict(zip(urls, ids))\n",
    "mapping_expr = create_map([lit(x) for x in chain(*url_di.items())])\n",
    "ig_sdf = ig_sdf.withColumn('instagram_id', mapping_expr[ig_sdf['canonical_brand_url']])"
   ]
  },
  {
   "cell_type": "markdown",
   "metadata": {},
   "source": [
    "## Connect Follower Data to Social Activity "
   ]
  },
  {
   "cell_type": "code",
   "execution_count": null,
   "metadata": {
    "ExecuteTime": {
     "end_time": "2022-03-31T23:17:21.696835Z",
     "start_time": "2022-03-31T23:16:50.321Z"
    },
    "scrolled": true
   },
   "outputs": [],
   "source": [
    "ig_sdf = ig_sdf.withColumnRenamed('y/m','fct_date')\n",
    "ig_sdf = ig_sdf.withColumn('fct_date', to_date(F.col('fct_date')))\n",
    "likes_comm = likes_comm.withColumnRenamed('y/m','fct_date')\n",
    "likes_comm = likes_comm.withColumn('fct_date', to_date(F.col('fct_date')))\n",
    "brands_ig = ig_sdf.join(likes_comm, on = ['instagram_id','fct_date'], how = 'left')\n",
    "brands_ig = brands_ig.where(F.col('canonical_brand_url').isin(NORMALIZED_URLS))\n"
   ]
  },
  {
   "cell_type": "code",
   "execution_count": null,
   "metadata": {
    "ExecuteTime": {
     "end_time": "2022-03-31T23:17:21.697678Z",
     "start_time": "2022-03-31T23:16:50.871Z"
    }
   },
   "outputs": [],
   "source": [
    "window = Window.partitionBy([\"canonical_brand_url\", 'fct_date']).orderBy(col(\"execution_period\").desc())\n",
    "brands_ig = brands_ig.withColumn(\"row\",row_number().over(window)).filter(col(\"row\") == 1).drop(\"row\").sort('fct_date')"
   ]
  },
  {
   "cell_type": "code",
   "execution_count": null,
   "metadata": {
    "ExecuteTime": {
     "end_time": "2022-03-31T23:17:21.698647Z",
     "start_time": "2022-03-31T23:16:51.126Z"
    }
   },
   "outputs": [],
   "source": [
    "brands_ig.filter(F.col('fct_date') >= '2018-01-01').toPandas().sort_values('fct_date')"
   ]
  },
  {
   "cell_type": "code",
   "execution_count": null,
   "metadata": {
    "ExecuteTime": {
     "end_time": "2022-03-31T23:17:21.699559Z",
     "start_time": "2022-03-31T23:16:51.253Z"
    }
   },
   "outputs": [],
   "source": [
    "IG_COLS = [\n",
    "    \"canonical_brand_url\",\n",
    "    \"instagram_id\",\n",
    "    \"fct_date\",\n",
    "    'fct_followers_count', \n",
    "    'fct_following_count', \n",
    "    'est_following_count', \n",
    "    'est_posts_count', \n",
    "    'est_followers_count', \n",
    "    'fct_posts_count',\n",
    "    'sum(comments_count)',\n",
    "    'sum(likes_count)'\n",
    "]"
   ]
  },
  {
   "cell_type": "code",
   "execution_count": null,
   "metadata": {
    "ExecuteTime": {
     "end_time": "2022-03-31T23:17:21.700417Z",
     "start_time": "2022-03-31T23:16:51.821Z"
    }
   },
   "outputs": [],
   "source": [
    "brands_ig = brands_ig.select(IG_COLS).dropna().sort(F.col('fct_date')).dropDuplicates()"
   ]
  },
  {
   "cell_type": "markdown",
   "metadata": {},
   "source": [
    "## Calculate Social Engagement Metrics"
   ]
  },
  {
   "cell_type": "code",
   "execution_count": null,
   "metadata": {
    "ExecuteTime": {
     "end_time": "2022-03-31T23:17:21.701343Z",
     "start_time": "2022-03-31T23:16:54.500Z"
    }
   },
   "outputs": [],
   "source": [
    "ig_brand_sdf = (\n",
    "    brands_ig\n",
    "    .withColumn('likes_per_post_pax', F.col('sum(likes_count)') / F.col('est_posts_count') / F.col('est_followers_count'))\n",
    "    .withColumn('comments_per_post_pax', F.col('sum(comments_count)') / F.col('est_posts_count') / F.col('est_followers_count'))\n",
    "    .withColumn('likes_per_post', F.col('sum(comments_count)') / F.col('est_posts_count'))\n",
    "    #.filter((F.col('canonical_brand_url').isin(NORMALIZED_URLS)) | (F.col('instagram_id').isin(ids)))\n",
    ")\n"
   ]
  },
  {
   "cell_type": "code",
   "execution_count": null,
   "metadata": {
    "ExecuteTime": {
     "end_time": "2022-03-31T23:17:21.702300Z",
     "start_time": "2022-03-31T23:16:55.136Z"
    }
   },
   "outputs": [],
   "source": [
    "chart_data_0 = ig_brand_sdf.toPandas()\n",
    "if brand_map_di:\n",
    "    chart_data_0['name'] = chart_data_0['canonical_brand_url'].map(brand_map_di)"
   ]
  },
  {
   "cell_type": "code",
   "execution_count": null,
   "metadata": {
    "ExecuteTime": {
     "end_time": "2022-03-31T23:17:21.703255Z",
     "start_time": "2022-03-31T23:16:55.414Z"
    }
   },
   "outputs": [],
   "source": [
    "chart_data_0"
   ]
  },
  {
   "cell_type": "code",
   "execution_count": null,
   "metadata": {
    "ExecuteTime": {
     "end_time": "2022-03-31T23:17:21.704205Z",
     "start_time": "2022-03-31T23:16:55.626Z"
    }
   },
   "outputs": [],
   "source": [
    "# sort plotting order\n",
    "chart_data_0 = chart_data_0.sort_values(\n",
    "    'canonical_brand_url',\n",
    "     ascending=True\n",
    ")"
   ]
  },
  {
   "cell_type": "markdown",
   "metadata": {},
   "source": [
    "# Plot"
   ]
  },
  {
   "cell_type": "code",
   "execution_count": null,
   "metadata": {
    "ExecuteTime": {
     "end_time": "2022-03-31T23:17:21.705125Z",
     "start_time": "2022-03-31T23:16:56.895Z"
    }
   },
   "outputs": [],
   "source": [
    "fig = px.scatter(chart_data_0, \n",
    "                 x='fct_date',\n",
    "                 y='likes_per_post',\n",
    "                 size='comments_per_post',\n",
    "                 color='name',\n",
    "                 opacity=.8,\n",
    "                 labels={\n",
    "                     'likes_per_post': 'Likes per Post',\n",
    "                     'comments_per_post': 'Comments per Post',\n",
    "                     'name': 'Size of Bubble =<br>Comments per Post<br><br><b>Brand</b>',\n",
    "                     'fct_date': 'Date',\n",
    "                 },\n",
    "                 title='Social Media Engagement Over Time'\n",
    "                 \n",
    "                 ,color_discrete_sequence=CU_PLOTLY_COLOR_SEQUENCE\n",
    "                )\n",
    "\n",
    "\n",
    "sizeref = 2 * max(chart_data_0['comments_per_post'])/(100**2)\n",
    "smaller_font = dict(Font.plot_title.value)\n",
    "smaller_font.update({'size':14})\n",
    "fig.update_traces(\n",
    "    marker=dict(sizemode='area',\n",
    "                sizeref=sizeref,\n",
    "                \n",
    "               ),\n",
    "    textfont=smaller_font\n",
    ")\n",
    "\n",
    "fig.update_layout(\n",
    "    width=1200,\n",
    "    height=800,\n",
    ")\n",
    "\n",
    "fig.update_layout(\n",
    "    font=Font.plot_title.value,\n",
    "    plot_bgcolor=\"white\",\n",
    "     title={\"x\": 0.5},\n",
    "    colorway=CU_PLOTLY_COLOR_SEQUENCE,\n",
    "    coloraxis={\"autocolorscale\": True},\n",
    ")\n",
    "\n",
    "updatemenus = list([\n",
    "    dict(active=1,\n",
    "         buttons=list([\n",
    "            dict(label='Log Scale',\n",
    "                 method='update',\n",
    "                 args=[{'visible': [True]},\n",
    "                        {'yaxis': {'type': 'log', 'title':\"Likes per Post\"}\n",
    "                        }]),\n",
    "            dict(label='Linear Scale',\n",
    "                 method='update',\n",
    "                 args=[{'visible': [True]},\n",
    "                       {'yaxis': {'type': 'linear', 'title':\"Likes per Post\"}\n",
    "                       }])\n",
    "            ]),\n",
    "         xanchor=\"left\",\n",
    "         yanchor=\"top\",\n",
    "         y=1.05,\n",
    "        )\n",
    "    ])\n",
    "\n",
    "fig.update_layout(dict(updatemenus=updatemenus))\n",
    "fig.show()"
   ]
  },
  {
   "cell_type": "code",
   "execution_count": null,
   "metadata": {
    "ExecuteTime": {
     "end_time": "2022-03-31T23:17:21.706003Z",
     "start_time": "2022-03-31T23:16:57.453Z"
    }
   },
   "outputs": [],
   "source": [
    "chart_data_0"
   ]
  },
  {
   "cell_type": "code",
   "execution_count": null,
   "metadata": {
    "ExecuteTime": {
     "end_time": "2022-03-31T23:17:21.706996Z",
     "start_time": "2022-03-31T23:16:57.833Z"
    }
   },
   "outputs": [],
   "source": [
    "fig.write_html(f\"data/{NORMALIZED_URLS[0]}_ig_engagement.html\")"
   ]
  },
  {
   "cell_type": "code",
   "execution_count": null,
   "metadata": {
    "ExecuteTime": {
     "end_time": "2022-03-31T23:17:21.708005Z",
     "start_time": "2022-03-31T23:16:58.032Z"
    }
   },
   "outputs": [],
   "source": [
    "fig = px.scatter(chart_data_0, \n",
    "                 x='fct_date',\n",
    "                 y='likes_per_post_pax',\n",
    "                 size='comments_per_post_pax',\n",
    "                 color='name',\n",
    "                 labels={\n",
    "                     'likes_per_post_pax': 'Likes per Post per Follower',\n",
    "                     'comments_per_post_pax': 'Comments per Post per Follower',\n",
    "                     'normalized_url':'Brand',\n",
    "                     'name': 'Size of Bubble =<br>Comments<br>per Post<br>per Follower<br><br><b>Brand</b>',\n",
    "                     'fct_date': 'Date',\n",
    "                 },\n",
    "                 title='Normalized Social Media Engagement Over Time',\n",
    "                 color_discrete_sequence=CU_PLOTLY_COLOR_SEQUENCE\n",
    "                )\n",
    "\n",
    "\n",
    "sizeref = 2 * max(chart_data_0['comments_per_post_pax'])/(100**2)\n",
    "smaller_font = dict(Font.plot_title.value)\n",
    "smaller_font.update({'size':14})\n",
    "fig.update_traces(\n",
    "    marker=dict(sizemode='area',\n",
    "                sizeref=sizeref\n",
    "               ),\n",
    "    textfont=smaller_font\n",
    ")\n",
    "\n",
    "fig.update_layout(\n",
    "    width=1200,\n",
    "    height=800,\n",
    ")\n",
    "\n",
    "fig.update_layout(\n",
    "    font=Font.plot_title.value,\n",
    "    plot_bgcolor=\"white\",\n",
    "     title={\"x\": 0.5},\n",
    "    colorway=CU_PLOTLY_COLOR_SEQUENCE,\n",
    "    coloraxis={\"autocolorscale\": True},\n",
    ")\n",
    "\n",
    "updatemenus = list([\n",
    "    dict(active=1,\n",
    "         buttons=list([\n",
    "            dict(label='Log Scale',\n",
    "                 method='update',\n",
    "                 args=[{'visible': [True]},\n",
    "                        {'yaxis': {'type': 'log', 'title':\"Likes per Post per Follower\"}\n",
    "                        }]),\n",
    "            dict(label='Linear Scale',\n",
    "                 method='update',\n",
    "                 args=[{'visible': [True]},\n",
    "                       {'yaxis': {'type': 'linear', 'title':\"Likes per Post per Follower\"}\n",
    "                       }])\n",
    "            ]),\n",
    "         xanchor=\"left\",\n",
    "         yanchor=\"top\",\n",
    "         y=1.05,\n",
    "        )\n",
    "    ])\n",
    "\n",
    "fig.update_layout(dict(updatemenus=updatemenus))\n",
    "fig.show()"
   ]
  },
  {
   "cell_type": "code",
   "execution_count": null,
   "metadata": {
    "ExecuteTime": {
     "end_time": "2022-03-31T23:17:21.708922Z",
     "start_time": "2022-03-31T23:16:58.720Z"
    }
   },
   "outputs": [],
   "source": [
    "fig.write_html(f\"data/{NORMALIZED_URLS}_ig_engagement_normalized.html\")"
   ]
  },
  {
   "cell_type": "markdown",
   "metadata": {},
   "source": [
    "# Per Post Basis"
   ]
  },
  {
   "cell_type": "code",
   "execution_count": null,
   "metadata": {
    "ExecuteTime": {
     "end_time": "2022-03-31T23:17:21.709815Z",
     "start_time": "2022-03-31T23:16:59.469Z"
    }
   },
   "outputs": [],
   "source": [
    "# spark.read.parquet(f's3a://circleup-helio-normalized/instagram/version=1_0_0/entity=media/year=2020/month=05').printSchema()"
   ]
  },
  {
   "cell_type": "code",
   "execution_count": null,
   "metadata": {
    "ExecuteTime": {
     "end_time": "2022-03-31T23:17:21.710873Z",
     "start_time": "2022-03-31T23:17:00.161Z"
    }
   },
   "outputs": [],
   "source": [
    "class AdhocDF(BrandMetricDataFrames):\n",
    "    \n",
    "    def load_and_persist(self, reference_date: datetime):\n",
    "        self._load_instagram_data()\n",
    "        \n",
    "    def _load_instagram_data(self):\n",
    "        by_url_window = Window.partitionBy(c.normalized_url).orderBy(\n",
    "            c.collected_on.desc()\n",
    "        )\n",
    "\n",
    "        self.instagram_account_data = datasets.instagram_account__1_0.read()\n",
    "\n",
    "        self.instagram_account_data = self.instagram_account_data.select(\n",
    "            c.collected_on, c.instagram_id, c.followers_count, c.posts_count, \n",
    "        )\n",
    "\n",
    "        brand_map_data_ig = datasets.instagram_brand_map__1_0.read()\n",
    "\n",
    "        brand_map_data_ig = (\n",
    "            brand_map_data_ig.withColumn(\"row_num\", F.row_number().over(by_url_window))\n",
    "            .where(c.row_num == 1)\n",
    "            .select(c.normalized_url, c.instagram_id)\n",
    "            .repartition(32)\n",
    "        )\n",
    "        brand_map_data_ig = F.broadcast(brand_map_data_ig)\n",
    "\n",
    "        self.instagram_account_data = self.instagram_account_data.join(\n",
    "            brand_map_data_ig, on=\"instagram_id\", how=\"inner\"\n",
    "        )\n",
    "\n",
    "        self.instagram_account_data = self.instagram_account_data.repartition(\n",
    "            c.normalized_url\n",
    "        )\n",
    "        self.instagram_account_data = remove_bad_mapped_accounts(\n",
    "            self.instagram_account_data, \"instagram_id\"\n",
    "        )\n",
    "\n",
    "        self.instagram_account_data = self.instagram_account_data.persist()\n",
    "\n",
    "        self.instagram_media_data = data_set_to_data_frame(\n",
    "            session=self.spark,\n",
    "            data_set=self.data_sets[\"instagram_media\"],\n",
    "            data_set_mode='prod',\n",
    "            execution_date=None,\n",
    "        )\n",
    "\n",
    "        self.instagram_media_data = self.instagram_media_data.select(\n",
    "            c.collected_on, c.instagram_id, c.media_id, c.likes_count, c.comments_count, c.media_created_time, c.caption\n",
    "        ).dropna()\n",
    "        self.instagram_media_data = self.instagram_media_data.repartition(\n",
    "            \"instagram_id\"\n",
    "        ).persist()\n",
    "        \n",
    "    def instagram_for_date(self, reference_date: datetime):\n",
    "        by_url_window = Window.partitionBy(c.normalized_url).orderBy(\n",
    "            c.collected_on.desc()\n",
    "        )\n",
    "        by_media_id_window = Window.partitionBy(c.instagram_id, c.media_id).orderBy(\n",
    "            c.collected_on.desc()\n",
    "        )\n",
    "\n",
    "        account = self._latest_within_date_window(\n",
    "            self.instagram_account_data, by_url_window, reference_date\n",
    "        ).repartition(c.instagram_id)\n",
    "        account = account.withColumnRenamed(\"collected_on\", \"instagram_collected_on\")\n",
    "\n",
    "        media = self._latest_within_date_window(\n",
    "            self.instagram_media_data,\n",
    "            by_media_id_window,\n",
    "            reference_date,\n",
    "            filter_stale=False,\n",
    "        )\n",
    "\n",
    "        result = account.join(media, on=\"instagram_id\", how=\"left\")\n",
    "        return result"
   ]
  },
  {
   "cell_type": "code",
   "execution_count": null,
   "metadata": {
    "ExecuteTime": {
     "end_time": "2022-03-31T23:17:21.711848Z",
     "start_time": "2022-03-31T23:17:00.424Z"
    }
   },
   "outputs": [],
   "source": [
    "dfs = AdhocDF(spark)\n",
    "dfs.load_and_persist(max_dt)\n",
    "ig_post_sdf = dfs.instagram_for_date(max_dt).persist()"
   ]
  },
  {
   "cell_type": "code",
   "execution_count": null,
   "metadata": {
    "ExecuteTime": {
     "end_time": "2022-03-31T23:17:21.712784Z",
     "start_time": "2022-03-31T23:17:01.263Z"
    }
   },
   "outputs": [],
   "source": [
    "joined_post_sdf = (\n",
    "    ig_post_sdf\n",
    "    .withColumn('post_date', F.date_format(F.col('media_created_time'),\"yyyy-MM-dd\"))\n",
    "    .withColumn('fct_date', F.date_format(F.col('media_created_time'),\"yyyy-MM\"))\n",
    "    .join(\n",
    "        ig_sdf.select('normalized_url', 'name','fct_date', 'instagram_followed_by'),\n",
    "        on=['normalized_url', 'fct_date'],\n",
    "        how='left'\n",
    "    ) # can't find where name comes from here, so reused\n",
    "    .withColumn('likes_pax', F.col('likes_count') / F.col('instagram_followed_by'))\n",
    "    .withColumn('comments_pax', F.col('comments_count') / F.col('instagram_followed_by'))\n",
    ")"
   ]
  },
  {
   "cell_type": "code",
   "execution_count": null,
   "metadata": {
    "ExecuteTime": {
     "end_time": "2022-03-31T23:17:21.713713Z",
     "start_time": "2022-03-31T23:17:01.764Z"
    }
   },
   "outputs": [],
   "source": [
    "filtered_ig_post_sdf = (\n",
    "    joined_post_sdf\n",
    "    .filter(F.col('normalized_url').isin(NORMALIZED_URLS))\n",
    ")"
   ]
  },
  {
   "cell_type": "code",
   "execution_count": null,
   "metadata": {
    "ExecuteTime": {
     "end_time": "2022-03-31T23:17:21.714704Z",
     "start_time": "2022-03-31T23:17:01.842Z"
    }
   },
   "outputs": [],
   "source": [
    "# filtered_ig_post_sdf.count()"
   ]
  },
  {
   "cell_type": "code",
   "execution_count": null,
   "metadata": {
    "ExecuteTime": {
     "end_time": "2022-03-31T23:17:21.715650Z",
     "start_time": "2022-03-31T23:17:01.928Z"
    }
   },
   "outputs": [],
   "source": [
    "chart_data_1 = filtered_ig_post_sdf.sort(F.col('normalized_url')).toPandas()"
   ]
  },
  {
   "cell_type": "code",
   "execution_count": null,
   "metadata": {
    "ExecuteTime": {
     "end_time": "2022-03-31T23:17:21.716607Z",
     "start_time": "2022-03-31T23:17:02.335Z"
    }
   },
   "outputs": [],
   "source": [
    "wrap_length = 50\n",
    "chart_data_1['caption'] = chart_data_1['caption'].apply(add_line_breaks, args=(wrap_length,))"
   ]
  },
  {
   "cell_type": "code",
   "execution_count": null,
   "metadata": {
    "ExecuteTime": {
     "end_time": "2022-03-31T23:17:21.717556Z",
     "start_time": "2022-03-31T23:17:02.797Z"
    }
   },
   "outputs": [],
   "source": [
    "chart_data_1 = chart_data_1.dropna(subset=['post_date', 'name', 'likes_pax', 'comments_pax'])"
   ]
  },
  {
   "cell_type": "code",
   "execution_count": null,
   "metadata": {
    "ExecuteTime": {
     "end_time": "2022-03-31T23:17:21.718578Z",
     "start_time": "2022-03-31T23:17:02.985Z"
    }
   },
   "outputs": [],
   "source": [
    "chart_data_1 = chart_data_1[chart_data_1.post_date >= year2_ago_date].sort_values(\n",
    "    'normalized_url',\n",
    "    ascending=False\n",
    ")"
   ]
  },
  {
   "cell_type": "code",
   "execution_count": null,
   "metadata": {
    "ExecuteTime": {
     "end_time": "2022-03-31T23:17:21.719504Z",
     "start_time": "2022-03-31T23:17:03.233Z"
    }
   },
   "outputs": [],
   "source": [
    "if brand_map_di:\n",
    "    chart_data_1['name'] = chart_data_1['normalized_url'].map(brand_map_di)"
   ]
  },
  {
   "cell_type": "markdown",
   "metadata": {},
   "source": [
    "# Plot"
   ]
  },
  {
   "cell_type": "code",
   "execution_count": null,
   "metadata": {
    "ExecuteTime": {
     "end_time": "2022-03-31T23:17:21.720452Z",
     "start_time": "2022-03-31T23:17:03.696Z"
    }
   },
   "outputs": [],
   "source": [
    "fig = px.scatter(chart_data_1.sort_values('normalized_url'), \n",
    "                 x='post_date',\n",
    "                 y='likes_pax',\n",
    "                 size='comments_pax',\n",
    "                 color='name',\n",
    "                 labels={\n",
    "                     'likes_pax': 'Likes per Follower',\n",
    "                     'comments_pax': 'Comments per Follower',\n",
    "                     'name': 'Size of Bubble =<br>Comments per Follower<br><br><b>Brand</b>',\n",
    "                     'post_date': 'Date',\n",
    "                 },\n",
    "                 hover_data=['caption'],\n",
    "                 title='Normalized Social Media Engagement Over Time per Post',\n",
    "                 color_discrete_sequence=CU_PLOTLY_COLOR_SEQUENCE,\n",
    "                 opacity=0.5,\n",
    "                )\n",
    "\n",
    "\n",
    "sizeref = 2 * max(chart_data_1['comments_pax'])/(100**2)\n",
    "smaller_font = dict(Font.plot_title.value)\n",
    "smaller_font.update({'size':14})\n",
    "fig.update_traces(\n",
    "    marker=dict(sizemode='area',\n",
    "                sizeref=sizeref\n",
    "               ),\n",
    "    textfont=smaller_font\n",
    ")\n",
    "\n",
    "fig.update_layout(\n",
    "    width=1200,\n",
    "    height=800,\n",
    ")\n",
    "\n",
    "fig.update_layout(\n",
    "    font=Font.plot_title.value,\n",
    "    plot_bgcolor=\"white\",\n",
    "     title={\"x\": 0.5},\n",
    "    colorway=CU_PLOTLY_COLOR_SEQUENCE,\n",
    "    coloraxis={\"autocolorscale\": True},\n",
    ")\n",
    "\n",
    "updatemenus = list([\n",
    "    dict(active=1,\n",
    "         buttons=list([\n",
    "            dict(label='Log Scale',\n",
    "                 method='update',\n",
    "                 args=[{'visible': [True]},\n",
    "                        {'yaxis': {'type': 'log', 'title':\"Likes per Follower\"}\n",
    "                        }]),\n",
    "            dict(label='Linear Scale',\n",
    "                 method='update',\n",
    "                 args=[{'visible': [True]},\n",
    "                       {'yaxis': {'type': 'linear', 'title':\"Likes per Follower\"}\n",
    "                       }])\n",
    "            ]),\n",
    "         xanchor=\"left\",\n",
    "         yanchor=\"top\",\n",
    "         y=1.02,\n",
    "        )\n",
    "    ])\n",
    "\n",
    "fig.update_layout(dict(updatemenus=updatemenus))\n",
    "fig.show()"
   ]
  },
  {
   "cell_type": "code",
   "execution_count": null,
   "metadata": {
    "ExecuteTime": {
     "end_time": "2022-03-31T23:17:21.721410Z",
     "start_time": "2022-03-31T23:17:03.916Z"
    }
   },
   "outputs": [],
   "source": [
    "fig.write_html(f\"data/{NORMALIZED_URLS[0]}_ig_engagement_post.html\")"
   ]
  },
  {
   "cell_type": "code",
   "execution_count": null,
   "metadata": {
    "ExecuteTime": {
     "end_time": "2022-03-31T23:17:21.722505Z",
     "start_time": "2022-03-31T23:17:04.137Z"
    }
   },
   "outputs": [],
   "source": [
    "fig = px.scatter(chart_data_1, \n",
    "                 x='post_date',\n",
    "                 y='likes_count',\n",
    "                 size='comments_count',\n",
    "                 color='name',\n",
    "                 labels={\n",
    "                     'likes_count': 'Likes',\n",
    "                     'comments_count': 'Comments',\n",
    "                     'name': 'Size of Bubble =<br>Comments<br><br><b>Brand</b>',\n",
    "                     'post_date': 'Date',\n",
    "                 },\n",
    "                 title='Social Media Engagement Over Time per Post',\n",
    "                 hover_data=['caption'],\n",
    "                 color_discrete_sequence=CU_PLOTLY_COLOR_SEQUENCE,\n",
    "                 opacity=0.5,\n",
    "                )\n",
    "\n",
    "\n",
    "sizeref = 2 * max(chart_data_1['comments_count'])/(100**2)\n",
    "smaller_font = dict(Font.plot_title.value)\n",
    "smaller_font.update({'size':14})\n",
    "fig.update_traces(\n",
    "    marker=dict(sizemode='area',\n",
    "                sizeref=sizeref\n",
    "               ),\n",
    "    textfont=smaller_font\n",
    ")\n",
    "\n",
    "fig.update_layout(\n",
    "    width=1250,\n",
    "    height=800,\n",
    ")\n",
    "\n",
    "fig.update_layout(\n",
    "    font=Font.plot_title.value,\n",
    "    plot_bgcolor=\"white\",\n",
    "     title={\"x\": 0.5},\n",
    "    colorway=CU_PLOTLY_COLOR_SEQUENCE,\n",
    "    coloraxis={\"autocolorscale\": True},\n",
    ")\n",
    "\n",
    "updatemenus = list([\n",
    "    dict(active=1,\n",
    "         buttons=list([\n",
    "            dict(label='Log Scale',\n",
    "                 method='update',\n",
    "                 args=[{'visible': [True]},\n",
    "                        {'yaxis': {'type': 'log', 'title':\"Likes\"}\n",
    "                        }]),\n",
    "            dict(label='Linear Scale',\n",
    "                 method='update',\n",
    "                 args=[{'visible': [True]},\n",
    "                       {'yaxis': {'type': 'linear', 'title':\"Likes\"}\n",
    "                       }])\n",
    "            ]),\n",
    "         xanchor=\"left\",\n",
    "         yanchor=\"top\",\n",
    "         y=1.02,\n",
    "        )\n",
    "    ])\n",
    "\n",
    "fig.update_layout(dict(updatemenus=updatemenus))\n",
    "fig.show()"
   ]
  },
  {
   "cell_type": "markdown",
   "metadata": {},
   "source": [
    "# Last Year Post Aggs"
   ]
  },
  {
   "cell_type": "code",
   "execution_count": null,
   "metadata": {
    "ExecuteTime": {
     "end_time": "2022-03-31T23:17:21.723396Z",
     "start_time": "2022-03-31T23:17:04.714Z"
    }
   },
   "outputs": [],
   "source": [
    "ig_post_agg_sdf = (\n",
    "    joined_post_sdf\n",
    "    .filter(F.col('post_date') >= year_ago_dt)\n",
    "    .groupby('normalized_url', 'name')\n",
    "    .agg(\n",
    "        F.count('*').alias('post_count'),\n",
    "        F.mean(F.col('likes_pax')).alias('avg_likes_pax'),\n",
    "        F.mean(F.col('comments_pax')).alias('avg_comments_pax'),\n",
    "    )\n",
    ")"
   ]
  },
  {
   "cell_type": "code",
   "execution_count": null,
   "metadata": {
    "ExecuteTime": {
     "end_time": "2022-03-31T23:17:21.724275Z",
     "start_time": "2022-03-31T23:17:05.103Z"
    }
   },
   "outputs": [],
   "source": [
    "chart_data_2 = ig_post_agg_sdf.filter(F.col('normalized_url').isin(NORMALIZED_URLS)).toPandas()"
   ]
  },
  {
   "cell_type": "code",
   "execution_count": null,
   "metadata": {
    "ExecuteTime": {
     "end_time": "2022-03-31T23:17:21.725197Z",
     "start_time": "2022-03-31T23:17:05.529Z"
    }
   },
   "outputs": [],
   "source": [
    "chart_data_2 = chart_data_2.sort_values('normalized_url')"
   ]
  },
  {
   "cell_type": "code",
   "execution_count": null,
   "metadata": {
    "ExecuteTime": {
     "end_time": "2022-03-31T23:17:21.726069Z",
     "start_time": "2022-03-31T23:17:06.026Z"
    }
   },
   "outputs": [],
   "source": [
    "chart_data_2"
   ]
  },
  {
   "cell_type": "code",
   "execution_count": null,
   "metadata": {
    "ExecuteTime": {
     "end_time": "2022-03-31T23:17:21.727016Z",
     "start_time": "2022-03-31T23:17:06.244Z"
    }
   },
   "outputs": [],
   "source": [
    "chart_data_2 = chart_data_2.sort_values(\n",
    "    'normalized_url',\n",
    "    ascending=False\n",
    ").dropna(subset=['avg_likes_pax', 'avg_comments_pax'])"
   ]
  },
  {
   "cell_type": "code",
   "execution_count": null,
   "metadata": {
    "ExecuteTime": {
     "end_time": "2022-03-31T23:17:21.727958Z",
     "start_time": "2022-03-31T23:17:06.409Z"
    }
   },
   "outputs": [],
   "source": [
    "if brand_map_di:\n",
    "    chart_data_2['name'] = chart_data_2['normalized_url'].map(brand_map_di)"
   ]
  },
  {
   "cell_type": "code",
   "execution_count": null,
   "metadata": {
    "ExecuteTime": {
     "end_time": "2022-03-31T23:17:21.728926Z",
     "start_time": "2022-03-31T23:17:07.235Z"
    }
   },
   "outputs": [],
   "source": [
    "fig = px.scatter(chart_data_2.sort_values('normalized_url'), \n",
    "                 x='avg_comments_pax',\n",
    "                 y='avg_likes_pax',\n",
    "                 size='post_count',\n",
    "                 color='name',\n",
    "                 text='name',\n",
    "                 labels={\n",
    "                     'avg_likes_pax': 'Average Likes per Follower',\n",
    "                     'avg_comments_pax': 'Average Comments per Follower',\n",
    "                     'name': 'Size of Bubble =<br>Post Count<br><br><b>Brand<b/>',\n",
    "                 },\n",
    "                 title=f'Social Media Engagement Since {year_ago_date}',\n",
    "                 color_discrete_sequence=CU_PLOTLY_COLOR_SEQUENCE,\n",
    "                )\n",
    "\n",
    "\n",
    "sizeref = 2 * max(chart_data_2['post_count'])/(100**2)\n",
    "smaller_font = dict(Font.plot_title.value)\n",
    "smaller_font.update({'size':16})\n",
    "fig.update_traces(\n",
    "    marker=dict(sizemode='area',\n",
    "                sizeref=sizeref\n",
    "               ),\n",
    "    textfont=smaller_font\n",
    ")\n",
    "\n",
    "fig.update_layout(\n",
    "    width=1200,\n",
    "    height=800,\n",
    ")\n",
    "\n",
    "fig.update_layout(\n",
    "    font=Font.plot_title.value,\n",
    "    plot_bgcolor=\"white\",\n",
    "     title={\"x\": 0.5},\n",
    "    colorway=CU_PLOTLY_COLOR_SEQUENCE,\n",
    "    coloraxis={\"autocolorscale\": True},\n",
    "    xaxis_tickformat='.4f',\n",
    "     xaxis = dict(\n",
    "        tickmode = 'array',\n",
    "        tickvals = [-0.01, 0.0, 0.01, 0.02, 0.03, 0.04, 0.05, 0.06, 0.07, 0.08],\n",
    "    )\n",
    "#     showlegend=False\n",
    ")\n",
    "\n",
    "updatemenus = list([\n",
    "    dict(active=1,\n",
    "         buttons=list([\n",
    "            dict(label='Log Scale',\n",
    "                 method='update',\n",
    "                 args=[{'visible': [True]},\n",
    "                        {'yaxis': {'type': 'log', 'title':\"Average Likes per Follower\"}\n",
    "                        }]),\n",
    "            dict(label='Linear Scale',\n",
    "                 method='update',\n",
    "                 args=[{'visible': [True]},\n",
    "                       {'yaxis': {'type': 'linear', 'title':\"Average Likes per Follower\"}\n",
    "                       }])\n",
    "            ]),\n",
    "         xanchor=\"left\",\n",
    "         yanchor=\"top\",\n",
    "         y=1.02,\n",
    "        )\n",
    "    ])\n",
    "\n",
    "fig.update_layout(dict(updatemenus=updatemenus))\n",
    "fig.show()"
   ]
  },
  {
   "cell_type": "code",
   "execution_count": null,
   "metadata": {
    "ExecuteTime": {
     "end_time": "2022-03-31T23:17:21.729864Z",
     "start_time": "2022-03-31T23:17:07.879Z"
    }
   },
   "outputs": [],
   "source": [
    "fig.write_html(f\"data/{NORMALIZED_URLS[0]}_ig_engagement_year.html\")"
   ]
  },
  {
   "cell_type": "code",
   "execution_count": null,
   "metadata": {
    "ExecuteTime": {
     "end_time": "2022-03-31T23:17:21.730859Z",
     "start_time": "2022-03-31T23:17:08.127Z"
    }
   },
   "outputs": [],
   "source": [
    "chart_data_2.to_csv('bain_social_agg.csv')"
   ]
  },
  {
   "cell_type": "code",
   "execution_count": null,
   "metadata": {
    "ExecuteTime": {
     "end_time": "2022-03-31T23:17:21.731844Z",
     "start_time": "2022-03-31T23:17:08.293Z"
    }
   },
   "outputs": [],
   "source": [
    "chart_data_2"
   ]
  },
  {
   "cell_type": "code",
   "execution_count": null,
   "metadata": {},
   "outputs": [],
   "source": []
  }
 ],
 "metadata": {
  "kernelspec": {
   "display_name": "Python 3",
   "language": "python",
   "name": "python3"
  },
  "language_info": {
   "codemirror_mode": {
    "name": "ipython",
    "version": 3
   },
   "file_extension": ".py",
   "mimetype": "text/x-python",
   "name": "python",
   "nbconvert_exporter": "python",
   "pygments_lexer": "ipython3",
   "version": "3.6.8"
  },
  "toc": {
   "colors": {
    "hover_highlight": "#DAA520",
    "navigate_num": "#000000",
    "navigate_text": "#333333",
    "running_highlight": "#FF0000",
    "selected_highlight": "#FFD700",
    "sidebar_border": "#EEEEEE",
    "wrapper_background": "#FFFFFF"
   },
   "moveMenuLeft": true,
   "nav_menu": {
    "height": "282px",
    "width": "252px"
   },
   "navigate_menu": true,
   "number_sections": true,
   "sideBar": true,
   "threshold": 4,
   "toc_cell": false,
   "toc_position": {
    "height": "1068px",
    "left": "0px",
    "right": "1691px",
    "top": "110px",
    "width": "212px"
   },
   "toc_section_display": "block",
   "toc_window_display": true,
   "widenNotebook": false
  }
 },
 "nbformat": 4,
 "nbformat_minor": 4
}
