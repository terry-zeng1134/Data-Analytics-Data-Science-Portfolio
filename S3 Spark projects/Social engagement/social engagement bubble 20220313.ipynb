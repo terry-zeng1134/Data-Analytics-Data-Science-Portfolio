{
 "cells": [
  {
   "cell_type": "markdown",
   "metadata": {},
   "source": [
    "# Imports"
   ]
  },
  {
   "cell_type": "code",
   "execution_count": 80,
   "metadata": {
    "ExecuteTime": {
     "end_time": "2022-04-06T01:16:44.722047Z",
     "start_time": "2022-04-06T01:16:36.559409Z"
    }
   },
   "outputs": [],
   "source": [
    "%%capture\n",
    "!pip install plotly\n",
    "!pip install watermark"
   ]
  },
  {
   "cell_type": "code",
   "execution_count": 81,
   "metadata": {
    "ExecuteTime": {
     "end_time": "2022-04-06T01:17:10.851639Z",
     "start_time": "2022-04-06T01:16:44.724049Z"
    }
   },
   "outputs": [],
   "source": [
    "%%capture\n",
    "!pip3 install --upgrade --no-cache-dir --extra-index-url http://pypi.cu/root/circleup/+simple/ --trusted-host pypi.cu cu-helio-insights==0.0.12"
   ]
  },
  {
   "cell_type": "code",
   "execution_count": 82,
   "metadata": {
    "ExecuteTime": {
     "end_time": "2022-04-06T01:17:14.889759Z",
     "start_time": "2022-04-06T01:17:10.854064Z"
    }
   },
   "outputs": [
    {
     "name": "stdout",
     "output_type": "stream",
     "text": [
      "Requirement already satisfied: numpy in /usr/local/lib/python3.6/site-packages (1.15.1)\n",
      "\u001b[33mWARNING: You are using pip version 20.0.2; however, version 21.3.1 is available.\n",
      "You should consider upgrading via the '/usr/local/bin/python -m pip install --upgrade pip' command.\u001b[0m\n"
     ]
    }
   ],
   "source": [
    "!pip install numpy"
   ]
  },
  {
   "cell_type": "code",
   "execution_count": 83,
   "metadata": {
    "ExecuteTime": {
     "end_time": "2022-04-06T01:17:14.916212Z",
     "start_time": "2022-04-06T01:17:14.892183Z"
    }
   },
   "outputs": [],
   "source": [
    "from spark_tools import *\n",
    "\n",
    "from matplotlib import pyplot as plt\n",
    "import pandas as pd\n",
    "import numpy as np\n",
    "#import seaborn as sns\n",
    "\n",
    "import apollo\n",
    "from apollo import OverrideConfiguration\n",
    "from apollo import dataset\n",
    "import apollo_artifacts\n",
    "from apollo_artifacts import datasets\n",
    "\n",
    "import plotly\n",
    "import plotly.graph_objs as go\n",
    "from plotly.offline import download_plotlyjs, init_notebook_mode, plot, iplot\n",
    "import plotly.express as px\n",
    "from insights.investor_tools.widgets.style import (\n",
    "    Font,\n",
    "    CU_PLOTLY_COLOR_SEQUENCE,\n",
    "    CU_PLOTLY_COLORSCALE,\n",
    ")\n",
    "\n",
    "import datetime\n",
    "from features.brand_score.data_frames import BrandMetricDataFrames\n",
    "from ml.models.utils import remove_bad_mapped_accounts\n",
    "from schema_registry.spark.utils import data_set_to_data_frame\n",
    "\n",
    "from pyspark.sql.functions import lower, col, year, month, concat, lit, row_number\n",
    "from pyspark.sql.window import Window\n",
    "from schema_registry import get_schema\n",
    "from spark_tools import c, F\n",
    "from itertools import chain\n",
    "from pyspark.sql.functions import create_map, lit, to_date"
   ]
  },
  {
   "cell_type": "code",
   "execution_count": 84,
   "metadata": {
    "ExecuteTime": {
     "end_time": "2022-04-06T01:17:14.921089Z",
     "start_time": "2022-04-06T01:17:14.917872Z"
    }
   },
   "outputs": [],
   "source": [
    "import textwrap\n",
    "def add_line_breaks(string, length):\n",
    "    if string:\n",
    "        return '<br>'.join(textwrap.wrap(string, length))"
   ]
  },
  {
   "cell_type": "code",
   "execution_count": 85,
   "metadata": {
    "ExecuteTime": {
     "end_time": "2022-04-06T01:17:14.925852Z",
     "start_time": "2022-04-06T01:17:14.922579Z"
    }
   },
   "outputs": [],
   "source": [
    "OverrideConfiguration(default_to_production=True).apply()"
   ]
  },
  {
   "cell_type": "code",
   "execution_count": 86,
   "metadata": {
    "ExecuteTime": {
     "end_time": "2022-04-06T01:17:14.930332Z",
     "start_time": "2022-04-06T01:17:14.927317Z"
    }
   },
   "outputs": [],
   "source": [
    "pd.options.display.max_rows = 300"
   ]
  },
  {
   "cell_type": "code",
   "execution_count": 87,
   "metadata": {
    "ExecuteTime": {
     "end_time": "2022-04-06T01:17:14.935269Z",
     "start_time": "2022-04-06T01:17:14.932691Z"
    }
   },
   "outputs": [],
   "source": [
    "spark.conf.set('spark.sql.execution.arrow.enabled', 'false')"
   ]
  },
  {
   "cell_type": "code",
   "execution_count": 88,
   "metadata": {
    "ExecuteTime": {
     "end_time": "2022-04-06T01:17:14.939258Z",
     "start_time": "2022-04-06T01:17:14.937148Z"
    }
   },
   "outputs": [],
   "source": [
    "#%load_ext watermark\n",
    "#%watermark -v -m --iversions -g"
   ]
  },
  {
   "cell_type": "markdown",
   "metadata": {},
   "source": [
    "# Set Times"
   ]
  },
  {
   "cell_type": "code",
   "execution_count": 89,
   "metadata": {
    "ExecuteTime": {
     "end_time": "2022-04-06T01:17:14.946284Z",
     "start_time": "2022-04-06T01:17:14.940800Z"
    }
   },
   "outputs": [],
   "source": [
    "now = datetime.datetime.now()\n",
    "max_dt = datetime.date(now.year, now.month , now.day)\n",
    "max_date = max_dt.strftime(\"%Y-%m\")\n",
    "#backup_max_date = datetime.date(now.year, now.month - 2 , now.day).strftime(\"%Y-%m\")\n",
    "year_ago_dt = datetime.date(now.year - 1, now.month , now.day)\n",
    "year_ago_date = year_ago_dt.strftime(\"%Y-%m\")\n",
    "year2_ago_date = datetime.date(now.year - 2, now.month , now.day).strftime(\"%Y-%m\")"
   ]
  },
  {
   "cell_type": "markdown",
   "metadata": {},
   "source": [
    "# Time Series Brand Agg Data"
   ]
  },
  {
   "cell_type": "code",
   "execution_count": 90,
   "metadata": {
    "ExecuteTime": {
     "end_time": "2022-04-06T01:17:14.951706Z",
     "start_time": "2022-04-06T01:17:14.947696Z"
    }
   },
   "outputs": [],
   "source": [
    "#OLD\n",
    "IG_COLS = [\n",
    "    \"normalized_url\",\n",
    "    \"name\",\n",
    "    \"instagram_id\",\n",
    "    \"instagram_collected_on\",\n",
    "    \"fct_date\",\n",
    "    \"total_media_likes\",\n",
    "    \"total_media_comments\",\n",
    "    \"instagram_followed_by\",\n",
    "    \"instagram_media_count\",\n",
    "]"
   ]
  },
  {
   "cell_type": "code",
   "execution_count": 91,
   "metadata": {
    "ExecuteTime": {
     "end_time": "2022-04-06T01:17:14.955725Z",
     "start_time": "2022-04-06T01:17:14.953175Z"
    }
   },
   "outputs": [],
   "source": [
    "#fb=datasets.facebook_post__3_0.latest_segment_for_each_component_value_df([\"source_name\"])\n"
   ]
  },
  {
   "cell_type": "code",
   "execution_count": 92,
   "metadata": {
    "ExecuteTime": {
     "end_time": "2022-04-06T01:17:15.787404Z",
     "start_time": "2022-04-06T01:17:14.957237Z"
    },
    "scrolled": false
   },
   "outputs": [],
   "source": [
    "ig_sdf = (apollo\n",
    "    .dataset('instagram__canonical_brand_account__ts_interpolated__1_0')\n",
    "    #.latest_segment_df()\n",
    "    .read()\n",
    "    .select('*')\n",
    "    .persist())\n",
    "\n",
    "#ig_sdf.show()"
   ]
  },
  {
   "cell_type": "code",
   "execution_count": 93,
   "metadata": {
    "ExecuteTime": {
     "end_time": "2022-04-06T01:17:21.218759Z",
     "start_time": "2022-04-06T01:17:15.789129Z"
    }
   },
   "outputs": [
    {
     "name": "stdout",
     "output_type": "stream",
     "text": [
      "+--------------------+-------+------------+-------------------+-------------------+-------------------+-------------------+---------------+---------------+----------------+\n",
      "| canonical_brand_url|    y/m|instagram_id|fct_followers_count|est_followers_count|fct_following_count|est_following_count|fct_posts_count|est_posts_count|execution_period|\n",
      "+--------------------+-------+------------+-------------------+-------------------+-------------------+-------------------+---------------+---------------+----------------+\n",
      "|             cca.edu|2013-06|        null|               null|               null|               null|               null|           null|           null|         2015-06|\n",
      "|         clembbq.com|2013-06|        null|               null|               null|               null|               null|           null|           null|         2015-06|\n",
      "|      eatyour.coffee|2013-06|        null|               null|               null|               null|               null|           null|           null|         2015-06|\n",
      "|        daraloud.com|2013-06|        null|               null|               null|               null|               null|           null|           null|         2015-06|\n",
      "|davidrasmussendes...|2013-06|        null|               null|               null|               null|               null|           null|           null|         2015-06|\n",
      "|earlstevensselect...|2013-06|        null|               null|               null|               null|               null|           null|           null|         2015-06|\n",
      "|        blincinc.com|2013-06|        null|               null|               null|               null|               null|           null|           null|         2015-06|\n",
      "|crystal-ghere.squ...|2013-06|        null|               null|               null|               null|               null|           null|           null|         2015-06|\n",
      "|      bernardaud.com|2013-06|        null|               null|               null|               null|               null|           null|           null|         2015-06|\n",
      "|     davidarthur.com|2013-06|        null|               null|               null|               null|               null|           null|           null|         2015-06|\n",
      "|   canopynewyork.com|2013-06|        null|               null|               null|               null|               null|           null|           null|         2015-06|\n",
      "| deathwishcoffee.com|2013-06|        null|               null|               null|               null|               null|           null|           null|         2015-06|\n",
      "|     drinkmymosa.com|2013-06|        null|               null|               null|               null|               null|           null|           null|         2015-06|\n",
      "| breezyexcursion.com|2013-06|        null|               null|               null|               null|               null|           null|           null|         2015-06|\n",
      "| eatatluckybelly.com|2013-06|        null|               null|               null|               null|               null|           null|           null|         2015-06|\n",
      "|columbiasportswea...|2013-06|        null|               null|               null|               null|               null|           null|           null|         2015-06|\n",
      "|       flyingdog.com|2013-06|        null|               null|               null|               null|               null|           null|           null|         2015-06|\n",
      "|collectionbnewyor...|2013-06|        null|               null|               null|               null|               null|           null|           null|         2015-06|\n",
      "|       cuisinart.com|2013-06|        null|               null|               null|               null|               null|           null|           null|         2015-06|\n",
      "|          anovos.com|2013-06|        null|               null|               null|               null|               null|           null|           null|         2015-06|\n",
      "+--------------------+-------+------------+-------------------+-------------------+-------------------+-------------------+---------------+---------------+----------------+\n",
      "only showing top 20 rows\n",
      "\n"
     ]
    }
   ],
   "source": [
    "ig_sdf.sort('y/m', ascending = True).show()"
   ]
  },
  {
   "cell_type": "markdown",
   "metadata": {},
   "source": [
    "## Load likes & comment data"
   ]
  },
  {
   "cell_type": "code",
   "execution_count": 94,
   "metadata": {
    "ExecuteTime": {
     "end_time": "2022-04-06T01:21:45.379233Z",
     "start_time": "2022-04-06T01:17:21.221130Z"
    }
   },
   "outputs": [
    {
     "data": {
      "text/plain": [
       "DataFrame[collected_on: timestamp, media_created_time: timestamp, media_id: string, media_filter: string, caption_id: string, caption: string, comments_count: int, likes_count: int, media_source_url: string, media_url: string, media_type: string, instagram_id: string, year: int, month: int, day: int]"
      ]
     },
     "execution_count": 94,
     "metadata": {},
     "output_type": "execute_result"
    }
   ],
   "source": [
    "path = 's3a://circleup-helio-normalized/instagram/version=1_0_0/entity=media'\n",
    "schema_id = 'instagram_media__normalized'\n",
    "schema_version = '1_0_0'\n",
    "w = Window.partitionBy(c.instagram_id, c.media_id).orderBy(c.collected_on.desc())\n",
    "schema = get_schema(identifier=schema_id, version=schema_version)\n",
    "df = spark.read.format('parquet').load(path, schema=schema.as_spark())\n",
    "df = (\n",
    "    df.withColumn(\"row_num\", F.row_number().over(w))\n",
    "    .where(c.row_num == 1)\n",
    "    .drop(\"row_num\")\n",
    ")\n",
    "df"
   ]
  },
  {
   "cell_type": "code",
   "execution_count": 95,
   "metadata": {
    "ExecuteTime": {
     "end_time": "2022-04-06T01:21:45.412914Z",
     "start_time": "2022-04-06T01:21:45.381774Z"
    }
   },
   "outputs": [],
   "source": [
    "#aggregate social activity data\n",
    "df = df.withColumn('fct_date', concat(year('collected_on'), lit('-'), month('collected_on')))\n",
    "likes_comm = df.groupBy('instagram_id','fct_date').sum('comments_count','likes_count')\n"
   ]
  },
  {
   "cell_type": "markdown",
   "metadata": {},
   "source": [
    "# Input Brands"
   ]
  },
  {
   "cell_type": "code",
   "execution_count": 96,
   "metadata": {
    "ExecuteTime": {
     "end_time": "2022-04-06T01:21:45.419216Z",
     "start_time": "2022-04-06T01:21:45.415360Z"
    }
   },
   "outputs": [],
   "source": [
    "NORMALIZED_URLS = [\n",
    "    'hellobubble.com',\n",
    "    'neutrogena.com',\n",
    "    'cerave.com',\n",
    "    'cetaphil.com',\n",
    "    'cleanandclear.com',\n",
    "    'innbeautyproject.com',\n",
    "    'lovekinship.com',\n",
    "    'rosenskincare.com'\n",
    "]"
   ]
  },
  {
   "cell_type": "code",
   "execution_count": 97,
   "metadata": {
    "ExecuteTime": {
     "end_time": "2022-04-06T01:21:45.424413Z",
     "start_time": "2022-04-06T01:21:45.420908Z"
    }
   },
   "outputs": [],
   "source": [
    "BRAND_NAMES = [\n",
    "    'Bubble',\n",
    "    'Neutrogena',\n",
    "    'Cerave',\n",
    "    'Cetaphil',\n",
    "    'Clean & Clear',\n",
    "    'Inn Beauty',\n",
    "    'Kinship',\n",
    "    'Rosen Skincare'\n",
    "]"
   ]
  },
  {
   "cell_type": "code",
   "execution_count": 98,
   "metadata": {
    "ExecuteTime": {
     "end_time": "2022-04-06T01:21:45.429837Z",
     "start_time": "2022-04-06T01:21:45.426023Z"
    }
   },
   "outputs": [],
   "source": [
    "ids=[\n",
    "    ]"
   ]
  },
  {
   "cell_type": "code",
   "execution_count": 99,
   "metadata": {
    "ExecuteTime": {
     "end_time": "2022-04-06T01:21:45.436446Z",
     "start_time": "2022-04-06T01:21:45.431232Z"
    }
   },
   "outputs": [],
   "source": [
    "brand_map_di = dict(zip(NORMALIZED_URLS, BRAND_NAMES))"
   ]
  },
  {
   "cell_type": "markdown",
   "metadata": {},
   "source": [
    "Create mapping for URLs to Instagram ID to merge social activity data"
   ]
  },
  {
   "cell_type": "code",
   "execution_count": 100,
   "metadata": {
    "ExecuteTime": {
     "end_time": "2022-04-06T01:21:48.222564Z",
     "start_time": "2022-04-06T01:21:45.437837Z"
    }
   },
   "outputs": [],
   "source": [
    "ids = ig_sdf.where((F.col('canonical_brand_url').isin(NORMALIZED_URLS)) & (~F.col('instagram_id').isNull()))\n",
    "id_map = ids.select('canonical_brand_url',col('instagram_id').alias('id')).distinct()#.toPandas().set_index('canonical_brand_url').T.to_dict('list')\n",
    "urls = list(id_map.select('canonical_brand_url').toPandas()['canonical_brand_url'])\n",
    "ids = list(id_map.select('id').toPandas()['id'])\n",
    "url_di = dict(zip(urls, ids))\n",
    "mapping_expr = create_map([lit(x) for x in chain(*url_di.items())])\n",
    "ig_sdf = ig_sdf.withColumn('instagram_id', mapping_expr[ig_sdf['canonical_brand_url']])"
   ]
  },
  {
   "cell_type": "markdown",
   "metadata": {},
   "source": [
    "## Connect Follower Data to Social Activity "
   ]
  },
  {
   "cell_type": "code",
   "execution_count": 101,
   "metadata": {
    "ExecuteTime": {
     "end_time": "2022-04-06T01:21:48.267532Z",
     "start_time": "2022-04-06T01:21:48.224169Z"
    },
    "scrolled": true
   },
   "outputs": [],
   "source": [
    "ig_sdf = ig_sdf.withColumnRenamed('y/m','fct_date')\n",
    "ig_sdf = ig_sdf.withColumn('fct_date', to_date(F.col('fct_date')))\n",
    "likes_comm = likes_comm.withColumnRenamed('y/m','fct_date')\n",
    "likes_comm = likes_comm.withColumn('fct_date', to_date(F.col('fct_date')))\n",
    "brands_ig = ig_sdf.join(likes_comm, on = ['instagram_id','fct_date'], how = 'left')\n",
    "brands_ig = brands_ig.where(F.col('canonical_brand_url').isin(NORMALIZED_URLS))\n"
   ]
  },
  {
   "cell_type": "code",
   "execution_count": 102,
   "metadata": {
    "ExecuteTime": {
     "end_time": "2022-04-06T01:21:48.301569Z",
     "start_time": "2022-04-06T01:21:48.270460Z"
    }
   },
   "outputs": [],
   "source": [
    "window = Window.partitionBy([\"canonical_brand_url\", 'fct_date']).orderBy(col(\"execution_period\").desc())\n",
    "brands_ig = brands_ig.withColumn(\"row\",row_number().over(window)).filter(col(\"row\") == 1).drop(\"row\").sort('fct_date')"
   ]
  },
  {
   "cell_type": "code",
   "execution_count": 103,
   "metadata": {
    "ExecuteTime": {
     "end_time": "2022-04-06T01:21:48.305321Z",
     "start_time": "2022-04-06T01:21:48.303272Z"
    }
   },
   "outputs": [],
   "source": [
    "#brands_ig.filter(F.col('fct_date') >= '2021-07-01').toPandas().sort_values('fct_date')"
   ]
  },
  {
   "cell_type": "code",
   "execution_count": 104,
   "metadata": {
    "ExecuteTime": {
     "end_time": "2022-04-06T01:21:48.312044Z",
     "start_time": "2022-04-06T01:21:48.306998Z"
    }
   },
   "outputs": [],
   "source": [
    "IG_COLS = [\n",
    "    \"canonical_brand_url\",\n",
    "    \"instagram_id\",\n",
    "    \"fct_date\",\n",
    "    'fct_followers_count', \n",
    "    'fct_following_count', \n",
    "    'est_following_count', \n",
    "    'est_posts_count', \n",
    "    'est_followers_count', \n",
    "    'fct_posts_count',\n",
    "    'sum(comments_count)',\n",
    "    'sum(likes_count)'\n",
    "]\n",
    "\n",
    "IG_COLS1 = [\n",
    "    \"canonical_brand_url\",\n",
    "    \"instagram_id\",\n",
    "    \"y/m\",\n",
    "    'fct_followers_count', \n",
    "    'fct_following_count', \n",
    "    'est_following_count', \n",
    "    'est_posts_count', \n",
    "    'est_followers_count', \n",
    "    'fct_posts_count',\n",
    "]"
   ]
  },
  {
   "cell_type": "code",
   "execution_count": 105,
   "metadata": {
    "ExecuteTime": {
     "end_time": "2022-04-06T01:21:48.337095Z",
     "start_time": "2022-04-06T01:21:48.313591Z"
    }
   },
   "outputs": [],
   "source": [
    "brands_ig = brands_ig.select(IG_COLS).sort(F.col('fct_date'))"
   ]
  },
  {
   "cell_type": "code",
   "execution_count": 106,
   "metadata": {
    "ExecuteTime": {
     "end_time": "2022-04-06T01:24:26.686751Z",
     "start_time": "2022-04-06T01:21:48.339370Z"
    }
   },
   "outputs": [
    {
     "data": {
      "text/html": [
       "<div>\n",
       "<style>\n",
       "    .dataframe thead tr:only-child th {\n",
       "        text-align: right;\n",
       "    }\n",
       "\n",
       "    .dataframe thead th {\n",
       "        text-align: left;\n",
       "    }\n",
       "\n",
       "    .dataframe tbody tr th {\n",
       "        vertical-align: top;\n",
       "    }\n",
       "</style>\n",
       "<table border=\"1\" class=\"dataframe\">\n",
       "  <thead>\n",
       "    <tr style=\"text-align: right;\">\n",
       "      <th></th>\n",
       "      <th>instagram_id</th>\n",
       "      <th>fct_date</th>\n",
       "      <th>fct_followers_count</th>\n",
       "      <th>fct_following_count</th>\n",
       "      <th>est_following_count</th>\n",
       "      <th>est_posts_count</th>\n",
       "      <th>est_followers_count</th>\n",
       "      <th>fct_posts_count</th>\n",
       "      <th>sum(comments_count)</th>\n",
       "      <th>sum(likes_count)</th>\n",
       "    </tr>\n",
       "    <tr>\n",
       "      <th>canonical_brand_url</th>\n",
       "      <th></th>\n",
       "      <th></th>\n",
       "      <th></th>\n",
       "      <th></th>\n",
       "      <th></th>\n",
       "      <th></th>\n",
       "      <th></th>\n",
       "      <th></th>\n",
       "      <th></th>\n",
       "      <th></th>\n",
       "    </tr>\n",
       "  </thead>\n",
       "  <tbody>\n",
       "    <tr>\n",
       "      <th>cerave.com</th>\n",
       "      <td>81</td>\n",
       "      <td>81</td>\n",
       "      <td>34</td>\n",
       "      <td>34</td>\n",
       "      <td>50</td>\n",
       "      <td>50</td>\n",
       "      <td>50</td>\n",
       "      <td>34</td>\n",
       "      <td>0</td>\n",
       "      <td>0</td>\n",
       "    </tr>\n",
       "    <tr>\n",
       "      <th>cetaphil.com</th>\n",
       "      <td>97</td>\n",
       "      <td>97</td>\n",
       "      <td>52</td>\n",
       "      <td>52</td>\n",
       "      <td>73</td>\n",
       "      <td>73</td>\n",
       "      <td>73</td>\n",
       "      <td>52</td>\n",
       "      <td>29</td>\n",
       "      <td>29</td>\n",
       "    </tr>\n",
       "    <tr>\n",
       "      <th>cleanandclear.com</th>\n",
       "      <td>98</td>\n",
       "      <td>98</td>\n",
       "      <td>55</td>\n",
       "      <td>55</td>\n",
       "      <td>75</td>\n",
       "      <td>75</td>\n",
       "      <td>75</td>\n",
       "      <td>55</td>\n",
       "      <td>0</td>\n",
       "      <td>0</td>\n",
       "    </tr>\n",
       "    <tr>\n",
       "      <th>hellobubble.com</th>\n",
       "      <td>81</td>\n",
       "      <td>81</td>\n",
       "      <td>12</td>\n",
       "      <td>12</td>\n",
       "      <td>17</td>\n",
       "      <td>17</td>\n",
       "      <td>17</td>\n",
       "      <td>12</td>\n",
       "      <td>8</td>\n",
       "      <td>8</td>\n",
       "    </tr>\n",
       "    <tr>\n",
       "      <th>innbeautyproject.com</th>\n",
       "      <td>81</td>\n",
       "      <td>81</td>\n",
       "      <td>15</td>\n",
       "      <td>15</td>\n",
       "      <td>27</td>\n",
       "      <td>27</td>\n",
       "      <td>27</td>\n",
       "      <td>15</td>\n",
       "      <td>10</td>\n",
       "      <td>10</td>\n",
       "    </tr>\n",
       "    <tr>\n",
       "      <th>lovekinship.com</th>\n",
       "      <td>81</td>\n",
       "      <td>81</td>\n",
       "      <td>19</td>\n",
       "      <td>19</td>\n",
       "      <td>28</td>\n",
       "      <td>28</td>\n",
       "      <td>28</td>\n",
       "      <td>19</td>\n",
       "      <td>0</td>\n",
       "      <td>0</td>\n",
       "    </tr>\n",
       "    <tr>\n",
       "      <th>neutrogena.com</th>\n",
       "      <td>98</td>\n",
       "      <td>98</td>\n",
       "      <td>54</td>\n",
       "      <td>54</td>\n",
       "      <td>74</td>\n",
       "      <td>74</td>\n",
       "      <td>74</td>\n",
       "      <td>54</td>\n",
       "      <td>0</td>\n",
       "      <td>0</td>\n",
       "    </tr>\n",
       "    <tr>\n",
       "      <th>rosenskincare.com</th>\n",
       "      <td>81</td>\n",
       "      <td>81</td>\n",
       "      <td>21</td>\n",
       "      <td>21</td>\n",
       "      <td>37</td>\n",
       "      <td>37</td>\n",
       "      <td>37</td>\n",
       "      <td>21</td>\n",
       "      <td>0</td>\n",
       "      <td>0</td>\n",
       "    </tr>\n",
       "  </tbody>\n",
       "</table>\n",
       "</div>"
      ],
      "text/plain": [
       "                      instagram_id  fct_date  fct_followers_count  \\\n",
       "canonical_brand_url                                                 \n",
       "cerave.com                      81        81                   34   \n",
       "cetaphil.com                    97        97                   52   \n",
       "cleanandclear.com               98        98                   55   \n",
       "hellobubble.com                 81        81                   12   \n",
       "innbeautyproject.com            81        81                   15   \n",
       "lovekinship.com                 81        81                   19   \n",
       "neutrogena.com                  98        98                   54   \n",
       "rosenskincare.com               81        81                   21   \n",
       "\n",
       "                      fct_following_count  est_following_count  \\\n",
       "canonical_brand_url                                              \n",
       "cerave.com                             34                   50   \n",
       "cetaphil.com                           52                   73   \n",
       "cleanandclear.com                      55                   75   \n",
       "hellobubble.com                        12                   17   \n",
       "innbeautyproject.com                   15                   27   \n",
       "lovekinship.com                        19                   28   \n",
       "neutrogena.com                         54                   74   \n",
       "rosenskincare.com                      21                   37   \n",
       "\n",
       "                      est_posts_count  est_followers_count  fct_posts_count  \\\n",
       "canonical_brand_url                                                           \n",
       "cerave.com                         50                   50               34   \n",
       "cetaphil.com                       73                   73               52   \n",
       "cleanandclear.com                  75                   75               55   \n",
       "hellobubble.com                    17                   17               12   \n",
       "innbeautyproject.com               27                   27               15   \n",
       "lovekinship.com                    28                   28               19   \n",
       "neutrogena.com                     74                   74               54   \n",
       "rosenskincare.com                  37                   37               21   \n",
       "\n",
       "                      sum(comments_count)  sum(likes_count)  \n",
       "canonical_brand_url                                          \n",
       "cerave.com                              0                 0  \n",
       "cetaphil.com                           29                29  \n",
       "cleanandclear.com                       0                 0  \n",
       "hellobubble.com                         8                 8  \n",
       "innbeautyproject.com                   10                10  \n",
       "lovekinship.com                         0                 0  \n",
       "neutrogena.com                          0                 0  \n",
       "rosenskincare.com                       0                 0  "
      ]
     },
     "execution_count": 106,
     "metadata": {},
     "output_type": "execute_result"
    }
   ],
   "source": [
    "#brands_ig.toPandas().to_csv(\"bubble.csv\")\n",
    "brands_ig.toPandas().groupby('canonical_brand_url').count()"
   ]
  },
  {
   "cell_type": "markdown",
   "metadata": {},
   "source": [
    "# Actually getting the data"
   ]
  },
  {
   "cell_type": "code",
   "execution_count": 161,
   "metadata": {
    "ExecuteTime": {
     "end_time": "2022-04-05T01:36:11.916033Z",
     "start_time": "2022-04-05T01:36:11.290548Z"
    }
   },
   "outputs": [],
   "source": [
    "#ig_sdf = (apollo\n",
    "#    .dataset('instagram__canonical_brand_account__ts_interpolated__1_0')\n",
    "#    #.latest_segment_df()\n",
    "#    .read()\n",
    "#    .select(IG_COLS1)\n",
    "#    .persist())\n"
   ]
  },
  {
   "cell_type": "code",
   "execution_count": 162,
   "metadata": {
    "ExecuteTime": {
     "end_time": "2022-04-05T01:36:11.969159Z",
     "start_time": "2022-04-05T01:36:11.918352Z"
    }
   },
   "outputs": [],
   "source": [
    "#ig_sdf = ig_sdf.where(F.col('canonical_brand_url').isin(NORMALIZED_URLS))"
   ]
  },
  {
   "cell_type": "code",
   "execution_count": 163,
   "metadata": {
    "ExecuteTime": {
     "end_time": "2022-04-05T01:36:14.354159Z",
     "start_time": "2022-04-05T01:36:13.135942Z"
    }
   },
   "outputs": [
    {
     "name": "stdout",
     "output_type": "stream",
     "text": [
      "+--------------------+-----+\n",
      "| canonical_brand_url|count|\n",
      "+--------------------+-----+\n",
      "|innbeautyproject.com| 1059|\n",
      "|     lovekinship.com| 1084|\n",
      "|          cerave.com| 1259|\n",
      "|   cleanandclear.com| 1559|\n",
      "|        cetaphil.com| 1461|\n",
      "|     hellobubble.com|  809|\n",
      "|      neutrogena.com| 1559|\n",
      "|   rosenskincare.com| 1259|\n",
      "+--------------------+-----+\n",
      "\n"
     ]
    }
   ],
   "source": [
    "#ig_sdf.groupBy(['canonical_brand_url']).count().show()"
   ]
  },
  {
   "cell_type": "code",
   "execution_count": 168,
   "metadata": {
    "ExecuteTime": {
     "end_time": "2022-04-05T01:37:19.483051Z",
     "start_time": "2022-04-05T01:37:19.476425Z"
    }
   },
   "outputs": [],
   "source": [
    "#ig_sdf = ig_sdf.where(F.col('y/m')>= '2021-07')"
   ]
  },
  {
   "cell_type": "code",
   "execution_count": 172,
   "metadata": {
    "ExecuteTime": {
     "end_time": "2022-04-05T01:37:43.990800Z",
     "start_time": "2022-04-05T01:37:42.817098Z"
    }
   },
   "outputs": [],
   "source": [
    "#data = ig_sdf.toPandas()"
   ]
  },
  {
   "cell_type": "code",
   "execution_count": 186,
   "metadata": {
    "ExecuteTime": {
     "end_time": "2022-04-05T02:03:12.307686Z",
     "start_time": "2022-04-05T02:03:12.282383Z"
    }
   },
   "outputs": [],
   "source": [
    "#data_interpolate=data.groupby(\"canonical_brand_url\").apply(lambda x: x.interpolate())\n"
   ]
  },
  {
   "cell_type": "code",
   "execution_count": 193,
   "metadata": {
    "ExecuteTime": {
     "end_time": "2022-04-05T02:06:00.802908Z",
     "start_time": "2022-04-05T02:06:00.800578Z"
    }
   },
   "outputs": [],
   "source": [
    "#data_interpolate"
   ]
  },
  {
   "cell_type": "markdown",
   "metadata": {},
   "source": [
    "## Calculate Social Engagement Metrics"
   ]
  },
  {
   "cell_type": "code",
   "execution_count": 27,
   "metadata": {
    "ExecuteTime": {
     "end_time": "2022-04-05T21:30:12.373539Z",
     "start_time": "2022-04-05T21:30:12.327865Z"
    }
   },
   "outputs": [],
   "source": [
    "ig_brand_sdf = (\n",
    "    brands_ig\n",
    "    .withColumn('likes_per_post_pax', F.col('sum(likes_count)') / F.col('est_posts_count') / F.col('est_followers_count'))\n",
    "    .withColumn('comments_per_post_pax', F.col('sum(comments_count)') / F.col('est_posts_count') / F.col('est_followers_count'))\n",
    "    .withColumn('likes_per_post', F.col('sum(comments_count)') / F.col('est_posts_count'))\n",
    "    #.filter((F.col('canonical_brand_url').isin(NORMALIZED_URLS)) | (F.col('instagram_id').isin(ids)))\n",
    ")\n"
   ]
  },
  {
   "cell_type": "code",
   "execution_count": 45,
   "metadata": {
    "ExecuteTime": {
     "end_time": "2022-04-05T22:03:11.684346Z",
     "start_time": "2022-04-05T22:03:11.679560Z"
    }
   },
   "outputs": [
    {
     "data": {
      "text/plain": [
       "DataFrame[canonical_brand_url: string, instagram_id: string, fct_date: date, fct_followers_count: int, fct_following_count: int, est_following_count: float, est_posts_count: float, est_followers_count: float, fct_posts_count: int, sum(comments_count): bigint, sum(likes_count): bigint]"
      ]
     },
     "execution_count": 45,
     "metadata": {},
     "output_type": "execute_result"
    }
   ],
   "source": [
    "brands_ig"
   ]
  },
  {
   "cell_type": "code",
   "execution_count": 29,
   "metadata": {
    "ExecuteTime": {
     "end_time": "2022-04-05T21:35:08.715108Z",
     "start_time": "2022-04-05T21:32:41.709248Z"
    }
   },
   "outputs": [],
   "source": [
    "chart_data_0 = ig_brand_sdf.toPandas()\n",
    "if brand_map_di:\n",
    "    chart_data_0['name'] = chart_data_0['canonical_brand_url'].map(brand_map_di)"
   ]
  },
  {
   "cell_type": "code",
   "execution_count": 30,
   "metadata": {
    "ExecuteTime": {
     "end_time": "2022-04-05T21:35:08.760534Z",
     "start_time": "2022-04-05T21:35:08.720821Z"
    }
   },
   "outputs": [],
   "source": [
    "chart_data_0 = chart_data_0.groupby(\"canonical_brand_url\").apply(lambda x: x.interpolate())"
   ]
  },
  {
   "cell_type": "code",
   "execution_count": 31,
   "metadata": {
    "ExecuteTime": {
     "end_time": "2022-04-05T21:35:08.765983Z",
     "start_time": "2022-04-05T21:35:08.762119Z"
    }
   },
   "outputs": [],
   "source": [
    "chart_data_1 = chart_data_0[chart_data_0[\"fct_date\"]>=datetime.date(year=2021,month=7,day=1)]"
   ]
  },
  {
   "cell_type": "code",
   "execution_count": null,
   "metadata": {
    "ExecuteTime": {
     "end_time": "2022-04-05T21:35:08.928389Z",
     "start_time": "2022-04-05T21:35:08.767584Z"
    }
   },
   "outputs": [],
   "source": []
  },
  {
   "cell_type": "code",
   "execution_count": null,
   "metadata": {
    "ExecuteTime": {
     "end_time": "2022-04-05T21:35:08.980641Z",
     "start_time": "2022-04-05T21:35:08.930036Z"
    }
   },
   "outputs": [],
   "source": []
  },
  {
   "cell_type": "code",
   "execution_count": 34,
   "metadata": {
    "ExecuteTime": {
     "end_time": "2022-04-05T21:35:08.987936Z",
     "start_time": "2022-04-05T21:35:08.982390Z"
    }
   },
   "outputs": [],
   "source": [
    "# sort plotting order\n",
    "chart_data_0 = chart_data_0.sort_values(\n",
    "    'canonical_brand_url',\n",
    "     ascending=True\n",
    ")\n",
    "# sort plotting order\n",
    "chart_data_1 = chart_data_1.sort_values(\n",
    "    'canonical_brand_url',\n",
    "     ascending=True\n",
    ")"
   ]
  },
  {
   "cell_type": "code",
   "execution_count": 40,
   "metadata": {
    "ExecuteTime": {
     "end_time": "2022-04-05T21:55:09.834561Z",
     "start_time": "2022-04-05T21:55:09.829420Z"
    }
   },
   "outputs": [],
   "source": [
    "chart_data_0 = chart_data_0.fillna(0)\n",
    "chart_data_1 = chart_data_1.fillna(0)"
   ]
  },
  {
   "cell_type": "code",
   "execution_count": null,
   "metadata": {
    "ExecuteTime": {
     "end_time": "2022-04-05T21:57:41.209710Z",
     "start_time": "2022-04-05T21:55:14.034521Z"
    }
   },
   "outputs": [],
   "source": []
  },
  {
   "cell_type": "markdown",
   "metadata": {},
   "source": [
    "# Plot"
   ]
  },
  {
   "cell_type": "code",
   "execution_count": 38,
   "metadata": {
    "ExecuteTime": {
     "end_time": "2022-04-05T21:52:49.514767Z",
     "start_time": "2022-04-05T21:52:49.167337Z"
    }
   },
   "outputs": [
    {
     "data": {
      "application/vnd.plotly.v1+json": {
       "config": {
        "plotlyServerURL": "https://plot.ly"
       },
       "data": [
        {
         "hoverlabel": {
          "namelength": 0
         },
         "hovertemplate": "Size of Bubble =<br>Comments per Post<br><br><b>Brand</b>=Cetaphil<br>Date=%{x}<br>Likes per Post=%{y}<br>Comments per Post=%{marker.size}",
         "legendgroup": "Cetaphil",
         "marker": {
          "color": "#365bb7",
          "opacity": 0.8,
          "size": [
           5.848069865879638e-06,
           5.963632305862504e-06,
           3.4447268757083847e-06,
           5.848069865879638e-06,
           5.848069865879638e-06,
           8.482537736016623e-06,
           1.1001443166170743e-05,
           5.848069865879638e-06,
           5.848069865879638e-06
          ],
          "sizemode": "area",
          "sizeref": 4.4195076945688864e-08,
          "symbol": "circle"
         },
         "mode": "markers",
         "name": "Cetaphil",
         "showlegend": true,
         "textfont": {
          "color": "#313131",
          "family": "Muli, AppleGothic, Futura, sans-serif",
          "size": 14
         },
         "type": "scatter",
         "x": [
          "2022-02-01",
          "2021-09-01",
          "2021-10-01",
          "2022-01-01",
          "2021-12-01",
          "2021-08-01",
          "2021-07-01",
          "2022-03-01",
          "2021-11-01"
         ],
         "xaxis": "x",
         "y": [
          0.5667779811360526,
          0.5037909561156378,
          0.32358800823356515,
          0.5667779811360526,
          0.5667779811360526,
          0.6839939039977105,
          0.8641968518797832,
          0.5667779811360526,
          0.5667779811360526
         ],
         "yaxis": "y"
        },
        {
         "hoverlabel": {
          "namelength": 0
         },
         "hovertemplate": "Size of Bubble =<br>Comments per Post<br><br><b>Brand</b>=Bubble<br>Date=%{x}<br>Likes per Post=%{y}<br>Comments per Post=%{marker.size}",
         "legendgroup": "Bubble",
         "marker": {
          "color": "#e56725",
          "opacity": 0.8,
          "size": [
           2.1839124303320914e-05,
           2.1839124303320914e-05,
           2.7677514314575093e-05,
           2.1839124303320914e-05,
           2.1839124303320914e-05,
           3.3515904325829275e-05,
           3.935429433708345e-05,
           2.1839124303320914e-05,
           2.1839124303320914e-05
          ],
          "sizemode": "area",
          "sizeref": 4.4195076945688864e-08,
          "symbol": "circle"
         },
         "mode": "markers",
         "name": "Bubble",
         "showlegend": true,
         "textfont": {
          "color": "#313131",
          "family": "Muli, AppleGothic, Futura, sans-serif",
          "size": 14
         },
         "type": "scatter",
         "x": [
          "2021-10-01",
          "2021-12-01",
          "2021-09-01",
          "2022-03-01",
          "2022-01-01",
          "2021-08-01",
          "2021-07-01",
          "2022-02-01",
          "2021-11-01"
         ],
         "xaxis": "x",
         "y": [
          2.0611071101568696,
          2.0611071101568696,
          2.383676573415193,
          2.0611071101568696,
          2.0611071101568696,
          2.7062460366735164,
          3.0288154999318397,
          2.0611071101568696,
          2.0611071101568696
         ],
         "yaxis": "y"
        },
        {
         "hoverlabel": {
          "namelength": 0
         },
         "hovertemplate": "Size of Bubble =<br>Comments per Post<br><br><b>Brand</b>=Inn Beauty<br>Date=%{x}<br>Likes per Post=%{y}<br>Comments per Post=%{marker.size}",
         "legendgroup": "Inn Beauty",
         "marker": {
          "color": "#128dbd",
          "opacity": 0.8,
          "size": [
           4.4714485364198064e-06,
           4.4714485364198064e-06,
           4.4714485364198064e-06,
           4.4714485364198064e-06,
           4.4714485364198064e-06,
           4.4714485364198064e-06,
           4.4714485364198064e-06,
           4.4714485364198064e-06,
           4.4714485364198064e-06
          ],
          "sizemode": "area",
          "sizeref": 4.4195076945688864e-08,
          "symbol": "circle"
         },
         "mode": "markers",
         "name": "Inn Beauty",
         "showlegend": true,
         "textfont": {
          "color": "#313131",
          "family": "Muli, AppleGothic, Futura, sans-serif",
          "size": 14
         },
         "type": "scatter",
         "x": [
          "2021-12-01",
          "2022-01-01",
          "2022-02-01",
          "2021-07-01",
          "2021-11-01",
          "2021-10-01",
          "2021-09-01",
          "2021-08-01",
          "2022-03-01"
         ],
         "xaxis": "x",
         "y": [
          0.14846955800498296,
          0.14846955800498296,
          0.14846955800498296,
          0.14846955800498296,
          0.14846955800498296,
          0.14846955800498296,
          0.14846955800498296,
          0.14846955800498296,
          0.14846955800498296
         ],
         "yaxis": "y"
        }
       ],
       "layout": {
        "coloraxis": {
         "autocolorscale": true
        },
        "colorway": [
         "#365bb7",
         "#e56725",
         "#128dbd",
         "#5fa036",
         "#e33a2b",
         "#feb40b",
         "#984e99",
         "#8c350d",
         "#0c5d7b",
         "#6c6c6c"
        ],
        "font": {
         "color": "#313131",
         "family": "Muli, AppleGothic, Futura, sans-serif",
         "size": 18
        },
        "height": 800,
        "legend": {
         "itemsizing": "constant",
         "title": {
          "text": "Size of Bubble =<br>Comments per Post<br><br><b>Brand</b>"
         },
         "tracegroupgap": 0
        },
        "plot_bgcolor": "white",
        "template": {
         "data": {
          "bar": [
           {
            "error_x": {
             "color": "#2a3f5f"
            },
            "error_y": {
             "color": "#2a3f5f"
            },
            "marker": {
             "line": {
              "color": "#E5ECF6",
              "width": 0.5
             }
            },
            "type": "bar"
           }
          ],
          "barpolar": [
           {
            "marker": {
             "line": {
              "color": "#E5ECF6",
              "width": 0.5
             }
            },
            "type": "barpolar"
           }
          ],
          "carpet": [
           {
            "aaxis": {
             "endlinecolor": "#2a3f5f",
             "gridcolor": "white",
             "linecolor": "white",
             "minorgridcolor": "white",
             "startlinecolor": "#2a3f5f"
            },
            "baxis": {
             "endlinecolor": "#2a3f5f",
             "gridcolor": "white",
             "linecolor": "white",
             "minorgridcolor": "white",
             "startlinecolor": "#2a3f5f"
            },
            "type": "carpet"
           }
          ],
          "choropleth": [
           {
            "colorbar": {
             "outlinewidth": 0,
             "ticks": ""
            },
            "type": "choropleth"
           }
          ],
          "contour": [
           {
            "colorbar": {
             "outlinewidth": 0,
             "ticks": ""
            },
            "colorscale": [
             [
              0,
              "#0d0887"
             ],
             [
              0.1111111111111111,
              "#46039f"
             ],
             [
              0.2222222222222222,
              "#7201a8"
             ],
             [
              0.3333333333333333,
              "#9c179e"
             ],
             [
              0.4444444444444444,
              "#bd3786"
             ],
             [
              0.5555555555555556,
              "#d8576b"
             ],
             [
              0.6666666666666666,
              "#ed7953"
             ],
             [
              0.7777777777777778,
              "#fb9f3a"
             ],
             [
              0.8888888888888888,
              "#fdca26"
             ],
             [
              1,
              "#f0f921"
             ]
            ],
            "type": "contour"
           }
          ],
          "contourcarpet": [
           {
            "colorbar": {
             "outlinewidth": 0,
             "ticks": ""
            },
            "type": "contourcarpet"
           }
          ],
          "heatmap": [
           {
            "colorbar": {
             "outlinewidth": 0,
             "ticks": ""
            },
            "colorscale": [
             [
              0,
              "#0d0887"
             ],
             [
              0.1111111111111111,
              "#46039f"
             ],
             [
              0.2222222222222222,
              "#7201a8"
             ],
             [
              0.3333333333333333,
              "#9c179e"
             ],
             [
              0.4444444444444444,
              "#bd3786"
             ],
             [
              0.5555555555555556,
              "#d8576b"
             ],
             [
              0.6666666666666666,
              "#ed7953"
             ],
             [
              0.7777777777777778,
              "#fb9f3a"
             ],
             [
              0.8888888888888888,
              "#fdca26"
             ],
             [
              1,
              "#f0f921"
             ]
            ],
            "type": "heatmap"
           }
          ],
          "heatmapgl": [
           {
            "colorbar": {
             "outlinewidth": 0,
             "ticks": ""
            },
            "colorscale": [
             [
              0,
              "#0d0887"
             ],
             [
              0.1111111111111111,
              "#46039f"
             ],
             [
              0.2222222222222222,
              "#7201a8"
             ],
             [
              0.3333333333333333,
              "#9c179e"
             ],
             [
              0.4444444444444444,
              "#bd3786"
             ],
             [
              0.5555555555555556,
              "#d8576b"
             ],
             [
              0.6666666666666666,
              "#ed7953"
             ],
             [
              0.7777777777777778,
              "#fb9f3a"
             ],
             [
              0.8888888888888888,
              "#fdca26"
             ],
             [
              1,
              "#f0f921"
             ]
            ],
            "type": "heatmapgl"
           }
          ],
          "histogram": [
           {
            "marker": {
             "colorbar": {
              "outlinewidth": 0,
              "ticks": ""
             }
            },
            "type": "histogram"
           }
          ],
          "histogram2d": [
           {
            "colorbar": {
             "outlinewidth": 0,
             "ticks": ""
            },
            "colorscale": [
             [
              0,
              "#0d0887"
             ],
             [
              0.1111111111111111,
              "#46039f"
             ],
             [
              0.2222222222222222,
              "#7201a8"
             ],
             [
              0.3333333333333333,
              "#9c179e"
             ],
             [
              0.4444444444444444,
              "#bd3786"
             ],
             [
              0.5555555555555556,
              "#d8576b"
             ],
             [
              0.6666666666666666,
              "#ed7953"
             ],
             [
              0.7777777777777778,
              "#fb9f3a"
             ],
             [
              0.8888888888888888,
              "#fdca26"
             ],
             [
              1,
              "#f0f921"
             ]
            ],
            "type": "histogram2d"
           }
          ],
          "histogram2dcontour": [
           {
            "colorbar": {
             "outlinewidth": 0,
             "ticks": ""
            },
            "colorscale": [
             [
              0,
              "#0d0887"
             ],
             [
              0.1111111111111111,
              "#46039f"
             ],
             [
              0.2222222222222222,
              "#7201a8"
             ],
             [
              0.3333333333333333,
              "#9c179e"
             ],
             [
              0.4444444444444444,
              "#bd3786"
             ],
             [
              0.5555555555555556,
              "#d8576b"
             ],
             [
              0.6666666666666666,
              "#ed7953"
             ],
             [
              0.7777777777777778,
              "#fb9f3a"
             ],
             [
              0.8888888888888888,
              "#fdca26"
             ],
             [
              1,
              "#f0f921"
             ]
            ],
            "type": "histogram2dcontour"
           }
          ],
          "mesh3d": [
           {
            "colorbar": {
             "outlinewidth": 0,
             "ticks": ""
            },
            "type": "mesh3d"
           }
          ],
          "parcoords": [
           {
            "line": {
             "colorbar": {
              "outlinewidth": 0,
              "ticks": ""
             }
            },
            "type": "parcoords"
           }
          ],
          "pie": [
           {
            "automargin": true,
            "type": "pie"
           }
          ],
          "scatter": [
           {
            "marker": {
             "colorbar": {
              "outlinewidth": 0,
              "ticks": ""
             }
            },
            "type": "scatter"
           }
          ],
          "scatter3d": [
           {
            "line": {
             "colorbar": {
              "outlinewidth": 0,
              "ticks": ""
             }
            },
            "marker": {
             "colorbar": {
              "outlinewidth": 0,
              "ticks": ""
             }
            },
            "type": "scatter3d"
           }
          ],
          "scattercarpet": [
           {
            "marker": {
             "colorbar": {
              "outlinewidth": 0,
              "ticks": ""
             }
            },
            "type": "scattercarpet"
           }
          ],
          "scattergeo": [
           {
            "marker": {
             "colorbar": {
              "outlinewidth": 0,
              "ticks": ""
             }
            },
            "type": "scattergeo"
           }
          ],
          "scattergl": [
           {
            "marker": {
             "colorbar": {
              "outlinewidth": 0,
              "ticks": ""
             }
            },
            "type": "scattergl"
           }
          ],
          "scattermapbox": [
           {
            "marker": {
             "colorbar": {
              "outlinewidth": 0,
              "ticks": ""
             }
            },
            "type": "scattermapbox"
           }
          ],
          "scatterpolar": [
           {
            "marker": {
             "colorbar": {
              "outlinewidth": 0,
              "ticks": ""
             }
            },
            "type": "scatterpolar"
           }
          ],
          "scatterpolargl": [
           {
            "marker": {
             "colorbar": {
              "outlinewidth": 0,
              "ticks": ""
             }
            },
            "type": "scatterpolargl"
           }
          ],
          "scatterternary": [
           {
            "marker": {
             "colorbar": {
              "outlinewidth": 0,
              "ticks": ""
             }
            },
            "type": "scatterternary"
           }
          ],
          "surface": [
           {
            "colorbar": {
             "outlinewidth": 0,
             "ticks": ""
            },
            "colorscale": [
             [
              0,
              "#0d0887"
             ],
             [
              0.1111111111111111,
              "#46039f"
             ],
             [
              0.2222222222222222,
              "#7201a8"
             ],
             [
              0.3333333333333333,
              "#9c179e"
             ],
             [
              0.4444444444444444,
              "#bd3786"
             ],
             [
              0.5555555555555556,
              "#d8576b"
             ],
             [
              0.6666666666666666,
              "#ed7953"
             ],
             [
              0.7777777777777778,
              "#fb9f3a"
             ],
             [
              0.8888888888888888,
              "#fdca26"
             ],
             [
              1,
              "#f0f921"
             ]
            ],
            "type": "surface"
           }
          ],
          "table": [
           {
            "cells": {
             "fill": {
              "color": "#EBF0F8"
             },
             "line": {
              "color": "white"
             }
            },
            "header": {
             "fill": {
              "color": "#C8D4E3"
             },
             "line": {
              "color": "white"
             }
            },
            "type": "table"
           }
          ]
         },
         "layout": {
          "annotationdefaults": {
           "arrowcolor": "#2a3f5f",
           "arrowhead": 0,
           "arrowwidth": 1
          },
          "coloraxis": {
           "colorbar": {
            "outlinewidth": 0,
            "ticks": ""
           }
          },
          "colorscale": {
           "diverging": [
            [
             0,
             "#8e0152"
            ],
            [
             0.1,
             "#c51b7d"
            ],
            [
             0.2,
             "#de77ae"
            ],
            [
             0.3,
             "#f1b6da"
            ],
            [
             0.4,
             "#fde0ef"
            ],
            [
             0.5,
             "#f7f7f7"
            ],
            [
             0.6,
             "#e6f5d0"
            ],
            [
             0.7,
             "#b8e186"
            ],
            [
             0.8,
             "#7fbc41"
            ],
            [
             0.9,
             "#4d9221"
            ],
            [
             1,
             "#276419"
            ]
           ],
           "sequential": [
            [
             0,
             "#0d0887"
            ],
            [
             0.1111111111111111,
             "#46039f"
            ],
            [
             0.2222222222222222,
             "#7201a8"
            ],
            [
             0.3333333333333333,
             "#9c179e"
            ],
            [
             0.4444444444444444,
             "#bd3786"
            ],
            [
             0.5555555555555556,
             "#d8576b"
            ],
            [
             0.6666666666666666,
             "#ed7953"
            ],
            [
             0.7777777777777778,
             "#fb9f3a"
            ],
            [
             0.8888888888888888,
             "#fdca26"
            ],
            [
             1,
             "#f0f921"
            ]
           ],
           "sequentialminus": [
            [
             0,
             "#0d0887"
            ],
            [
             0.1111111111111111,
             "#46039f"
            ],
            [
             0.2222222222222222,
             "#7201a8"
            ],
            [
             0.3333333333333333,
             "#9c179e"
            ],
            [
             0.4444444444444444,
             "#bd3786"
            ],
            [
             0.5555555555555556,
             "#d8576b"
            ],
            [
             0.6666666666666666,
             "#ed7953"
            ],
            [
             0.7777777777777778,
             "#fb9f3a"
            ],
            [
             0.8888888888888888,
             "#fdca26"
            ],
            [
             1,
             "#f0f921"
            ]
           ]
          },
          "colorway": [
           "#636efa",
           "#EF553B",
           "#00cc96",
           "#ab63fa",
           "#FFA15A",
           "#19d3f3",
           "#FF6692",
           "#B6E880",
           "#FF97FF",
           "#FECB52"
          ],
          "font": {
           "color": "#2a3f5f"
          },
          "geo": {
           "bgcolor": "white",
           "lakecolor": "white",
           "landcolor": "#E5ECF6",
           "showlakes": true,
           "showland": true,
           "subunitcolor": "white"
          },
          "hoverlabel": {
           "align": "left"
          },
          "hovermode": "closest",
          "mapbox": {
           "style": "light"
          },
          "paper_bgcolor": "white",
          "plot_bgcolor": "#E5ECF6",
          "polar": {
           "angularaxis": {
            "gridcolor": "white",
            "linecolor": "white",
            "ticks": ""
           },
           "bgcolor": "#E5ECF6",
           "radialaxis": {
            "gridcolor": "white",
            "linecolor": "white",
            "ticks": ""
           }
          },
          "scene": {
           "xaxis": {
            "backgroundcolor": "#E5ECF6",
            "gridcolor": "white",
            "gridwidth": 2,
            "linecolor": "white",
            "showbackground": true,
            "ticks": "",
            "zerolinecolor": "white"
           },
           "yaxis": {
            "backgroundcolor": "#E5ECF6",
            "gridcolor": "white",
            "gridwidth": 2,
            "linecolor": "white",
            "showbackground": true,
            "ticks": "",
            "zerolinecolor": "white"
           },
           "zaxis": {
            "backgroundcolor": "#E5ECF6",
            "gridcolor": "white",
            "gridwidth": 2,
            "linecolor": "white",
            "showbackground": true,
            "ticks": "",
            "zerolinecolor": "white"
           }
          },
          "shapedefaults": {
           "line": {
            "color": "#2a3f5f"
           }
          },
          "ternary": {
           "aaxis": {
            "gridcolor": "white",
            "linecolor": "white",
            "ticks": ""
           },
           "baxis": {
            "gridcolor": "white",
            "linecolor": "white",
            "ticks": ""
           },
           "bgcolor": "#E5ECF6",
           "caxis": {
            "gridcolor": "white",
            "linecolor": "white",
            "ticks": ""
           }
          },
          "title": {
           "x": 0.05
          },
          "xaxis": {
           "automargin": true,
           "gridcolor": "white",
           "linecolor": "white",
           "ticks": "",
           "title": {
            "standoff": 15
           },
           "zerolinecolor": "white",
           "zerolinewidth": 2
          },
          "yaxis": {
           "automargin": true,
           "gridcolor": "white",
           "linecolor": "white",
           "ticks": "",
           "title": {
            "standoff": 15
           },
           "zerolinecolor": "white",
           "zerolinewidth": 2
          }
         }
        },
        "title": {
         "text": "Social Media Engagement Over Time",
         "x": 0.5
        },
        "updatemenus": [
         {
          "active": 1,
          "buttons": [
           {
            "args": [
             {
              "visible": [
               true
              ]
             },
             {
              "yaxis": {
               "title": "Likes per Post",
               "type": "log"
              }
             }
            ],
            "label": "Log Scale",
            "method": "update"
           },
           {
            "args": [
             {
              "visible": [
               true
              ]
             },
             {
              "yaxis": {
               "title": "Likes per Post",
               "type": "linear"
              }
             }
            ],
            "label": "Linear Scale",
            "method": "update"
           }
          ],
          "xanchor": "left",
          "y": 1.05,
          "yanchor": "top"
         }
        ],
        "width": 1200,
        "xaxis": {
         "anchor": "y",
         "domain": [
          0,
          1
         ],
         "title": {
          "text": "Date"
         }
        },
        "yaxis": {
         "anchor": "x",
         "domain": [
          0,
          1
         ],
         "title": {
          "text": "Likes per Post"
         }
        }
       }
      },
      "text/html": [
       "<div>\n",
       "        \n",
       "        \n",
       "            <div id=\"a6001faa-40bc-4f07-8662-ea73ce7e6f0e\" class=\"plotly-graph-div\" style=\"height:800px; width:1200px;\"></div>\n",
       "            <script type=\"text/javascript\">\n",
       "                require([\"plotly\"], function(Plotly) {\n",
       "                    window.PLOTLYENV=window.PLOTLYENV || {};\n",
       "                    \n",
       "                if (document.getElementById(\"a6001faa-40bc-4f07-8662-ea73ce7e6f0e\")) {\n",
       "                    Plotly.newPlot(\n",
       "                        'a6001faa-40bc-4f07-8662-ea73ce7e6f0e',\n",
       "                        [{\"hoverlabel\": {\"namelength\": 0}, \"hovertemplate\": \"Size of Bubble =<br>Comments per Post<br><br><b>Brand</b>=Cetaphil<br>Date=%{x}<br>Likes per Post=%{y}<br>Comments per Post=%{marker.size}\", \"legendgroup\": \"Cetaphil\", \"marker\": {\"color\": \"#365bb7\", \"opacity\": 0.8, \"size\": [5.848069865879638e-06, 5.963632305862504e-06, 3.4447268757083847e-06, 5.848069865879638e-06, 5.848069865879638e-06, 8.482537736016623e-06, 1.1001443166170743e-05, 5.848069865879638e-06, 5.848069865879638e-06], \"sizemode\": \"area\", \"sizeref\": 4.4195076945688864e-08, \"symbol\": \"circle\"}, \"mode\": \"markers\", \"name\": \"Cetaphil\", \"showlegend\": true, \"textfont\": {\"color\": \"#313131\", \"family\": \"Muli, AppleGothic, Futura, sans-serif\", \"size\": 14}, \"type\": \"scatter\", \"x\": [\"2022-02-01\", \"2021-09-01\", \"2021-10-01\", \"2022-01-01\", \"2021-12-01\", \"2021-08-01\", \"2021-07-01\", \"2022-03-01\", \"2021-11-01\"], \"xaxis\": \"x\", \"y\": [0.5667779811360526, 0.5037909561156378, 0.32358800823356515, 0.5667779811360526, 0.5667779811360526, 0.6839939039977105, 0.8641968518797832, 0.5667779811360526, 0.5667779811360526], \"yaxis\": \"y\"}, {\"hoverlabel\": {\"namelength\": 0}, \"hovertemplate\": \"Size of Bubble =<br>Comments per Post<br><br><b>Brand</b>=Bubble<br>Date=%{x}<br>Likes per Post=%{y}<br>Comments per Post=%{marker.size}\", \"legendgroup\": \"Bubble\", \"marker\": {\"color\": \"#e56725\", \"opacity\": 0.8, \"size\": [2.1839124303320914e-05, 2.1839124303320914e-05, 2.7677514314575093e-05, 2.1839124303320914e-05, 2.1839124303320914e-05, 3.3515904325829275e-05, 3.935429433708345e-05, 2.1839124303320914e-05, 2.1839124303320914e-05], \"sizemode\": \"area\", \"sizeref\": 4.4195076945688864e-08, \"symbol\": \"circle\"}, \"mode\": \"markers\", \"name\": \"Bubble\", \"showlegend\": true, \"textfont\": {\"color\": \"#313131\", \"family\": \"Muli, AppleGothic, Futura, sans-serif\", \"size\": 14}, \"type\": \"scatter\", \"x\": [\"2021-10-01\", \"2021-12-01\", \"2021-09-01\", \"2022-03-01\", \"2022-01-01\", \"2021-08-01\", \"2021-07-01\", \"2022-02-01\", \"2021-11-01\"], \"xaxis\": \"x\", \"y\": [2.0611071101568696, 2.0611071101568696, 2.383676573415193, 2.0611071101568696, 2.0611071101568696, 2.7062460366735164, 3.0288154999318397, 2.0611071101568696, 2.0611071101568696], \"yaxis\": \"y\"}, {\"hoverlabel\": {\"namelength\": 0}, \"hovertemplate\": \"Size of Bubble =<br>Comments per Post<br><br><b>Brand</b>=Inn Beauty<br>Date=%{x}<br>Likes per Post=%{y}<br>Comments per Post=%{marker.size}\", \"legendgroup\": \"Inn Beauty\", \"marker\": {\"color\": \"#128dbd\", \"opacity\": 0.8, \"size\": [4.4714485364198064e-06, 4.4714485364198064e-06, 4.4714485364198064e-06, 4.4714485364198064e-06, 4.4714485364198064e-06, 4.4714485364198064e-06, 4.4714485364198064e-06, 4.4714485364198064e-06, 4.4714485364198064e-06], \"sizemode\": \"area\", \"sizeref\": 4.4195076945688864e-08, \"symbol\": \"circle\"}, \"mode\": \"markers\", \"name\": \"Inn Beauty\", \"showlegend\": true, \"textfont\": {\"color\": \"#313131\", \"family\": \"Muli, AppleGothic, Futura, sans-serif\", \"size\": 14}, \"type\": \"scatter\", \"x\": [\"2021-12-01\", \"2022-01-01\", \"2022-02-01\", \"2021-07-01\", \"2021-11-01\", \"2021-10-01\", \"2021-09-01\", \"2021-08-01\", \"2022-03-01\"], \"xaxis\": \"x\", \"y\": [0.14846955800498296, 0.14846955800498296, 0.14846955800498296, 0.14846955800498296, 0.14846955800498296, 0.14846955800498296, 0.14846955800498296, 0.14846955800498296, 0.14846955800498296], \"yaxis\": \"y\"}],\n",
       "                        {\"coloraxis\": {\"autocolorscale\": true}, \"colorway\": [\"#365bb7\", \"#e56725\", \"#128dbd\", \"#5fa036\", \"#e33a2b\", \"#feb40b\", \"#984e99\", \"#8c350d\", \"#0c5d7b\", \"#6c6c6c\"], \"font\": {\"color\": \"#313131\", \"family\": \"Muli, AppleGothic, Futura, sans-serif\", \"size\": 18}, \"height\": 800, \"legend\": {\"itemsizing\": \"constant\", \"title\": {\"text\": \"Size of Bubble =<br>Comments per Post<br><br><b>Brand</b>\"}, \"tracegroupgap\": 0}, \"plot_bgcolor\": \"white\", \"template\": {\"data\": {\"bar\": [{\"error_x\": {\"color\": \"#2a3f5f\"}, \"error_y\": {\"color\": \"#2a3f5f\"}, \"marker\": {\"line\": {\"color\": \"#E5ECF6\", \"width\": 0.5}}, \"type\": \"bar\"}], \"barpolar\": [{\"marker\": {\"line\": {\"color\": \"#E5ECF6\", \"width\": 0.5}}, \"type\": \"barpolar\"}], \"carpet\": [{\"aaxis\": {\"endlinecolor\": \"#2a3f5f\", \"gridcolor\": \"white\", \"linecolor\": \"white\", \"minorgridcolor\": \"white\", \"startlinecolor\": \"#2a3f5f\"}, \"baxis\": {\"endlinecolor\": \"#2a3f5f\", \"gridcolor\": \"white\", \"linecolor\": \"white\", \"minorgridcolor\": \"white\", \"startlinecolor\": \"#2a3f5f\"}, \"type\": \"carpet\"}], \"choropleth\": [{\"colorbar\": {\"outlinewidth\": 0, \"ticks\": \"\"}, \"type\": \"choropleth\"}], \"contour\": [{\"colorbar\": {\"outlinewidth\": 0, \"ticks\": \"\"}, \"colorscale\": [[0.0, \"#0d0887\"], [0.1111111111111111, \"#46039f\"], [0.2222222222222222, \"#7201a8\"], [0.3333333333333333, \"#9c179e\"], [0.4444444444444444, \"#bd3786\"], [0.5555555555555556, \"#d8576b\"], [0.6666666666666666, \"#ed7953\"], [0.7777777777777778, \"#fb9f3a\"], [0.8888888888888888, \"#fdca26\"], [1.0, \"#f0f921\"]], \"type\": \"contour\"}], \"contourcarpet\": [{\"colorbar\": {\"outlinewidth\": 0, \"ticks\": \"\"}, \"type\": \"contourcarpet\"}], \"heatmap\": [{\"colorbar\": {\"outlinewidth\": 0, \"ticks\": \"\"}, \"colorscale\": [[0.0, \"#0d0887\"], [0.1111111111111111, \"#46039f\"], [0.2222222222222222, \"#7201a8\"], [0.3333333333333333, \"#9c179e\"], [0.4444444444444444, \"#bd3786\"], [0.5555555555555556, \"#d8576b\"], [0.6666666666666666, \"#ed7953\"], [0.7777777777777778, \"#fb9f3a\"], [0.8888888888888888, \"#fdca26\"], [1.0, \"#f0f921\"]], \"type\": \"heatmap\"}], \"heatmapgl\": [{\"colorbar\": {\"outlinewidth\": 0, \"ticks\": \"\"}, \"colorscale\": [[0.0, \"#0d0887\"], [0.1111111111111111, \"#46039f\"], [0.2222222222222222, \"#7201a8\"], [0.3333333333333333, \"#9c179e\"], [0.4444444444444444, \"#bd3786\"], [0.5555555555555556, \"#d8576b\"], [0.6666666666666666, \"#ed7953\"], [0.7777777777777778, \"#fb9f3a\"], [0.8888888888888888, \"#fdca26\"], [1.0, \"#f0f921\"]], \"type\": \"heatmapgl\"}], \"histogram\": [{\"marker\": {\"colorbar\": {\"outlinewidth\": 0, \"ticks\": \"\"}}, \"type\": \"histogram\"}], \"histogram2d\": [{\"colorbar\": {\"outlinewidth\": 0, \"ticks\": \"\"}, \"colorscale\": [[0.0, \"#0d0887\"], [0.1111111111111111, \"#46039f\"], [0.2222222222222222, \"#7201a8\"], [0.3333333333333333, \"#9c179e\"], [0.4444444444444444, \"#bd3786\"], [0.5555555555555556, \"#d8576b\"], [0.6666666666666666, \"#ed7953\"], [0.7777777777777778, \"#fb9f3a\"], [0.8888888888888888, \"#fdca26\"], [1.0, \"#f0f921\"]], \"type\": \"histogram2d\"}], \"histogram2dcontour\": [{\"colorbar\": {\"outlinewidth\": 0, \"ticks\": \"\"}, \"colorscale\": [[0.0, \"#0d0887\"], [0.1111111111111111, \"#46039f\"], [0.2222222222222222, \"#7201a8\"], [0.3333333333333333, \"#9c179e\"], [0.4444444444444444, \"#bd3786\"], [0.5555555555555556, \"#d8576b\"], [0.6666666666666666, \"#ed7953\"], [0.7777777777777778, \"#fb9f3a\"], [0.8888888888888888, \"#fdca26\"], [1.0, \"#f0f921\"]], \"type\": \"histogram2dcontour\"}], \"mesh3d\": [{\"colorbar\": {\"outlinewidth\": 0, \"ticks\": \"\"}, \"type\": \"mesh3d\"}], \"parcoords\": [{\"line\": {\"colorbar\": {\"outlinewidth\": 0, \"ticks\": \"\"}}, \"type\": \"parcoords\"}], \"pie\": [{\"automargin\": true, \"type\": \"pie\"}], \"scatter\": [{\"marker\": {\"colorbar\": {\"outlinewidth\": 0, \"ticks\": \"\"}}, \"type\": \"scatter\"}], \"scatter3d\": [{\"line\": {\"colorbar\": {\"outlinewidth\": 0, \"ticks\": \"\"}}, \"marker\": {\"colorbar\": {\"outlinewidth\": 0, \"ticks\": \"\"}}, \"type\": \"scatter3d\"}], \"scattercarpet\": [{\"marker\": {\"colorbar\": {\"outlinewidth\": 0, \"ticks\": \"\"}}, \"type\": \"scattercarpet\"}], \"scattergeo\": [{\"marker\": {\"colorbar\": {\"outlinewidth\": 0, \"ticks\": \"\"}}, \"type\": \"scattergeo\"}], \"scattergl\": [{\"marker\": {\"colorbar\": {\"outlinewidth\": 0, \"ticks\": \"\"}}, \"type\": \"scattergl\"}], \"scattermapbox\": [{\"marker\": {\"colorbar\": {\"outlinewidth\": 0, \"ticks\": \"\"}}, \"type\": \"scattermapbox\"}], \"scatterpolar\": [{\"marker\": {\"colorbar\": {\"outlinewidth\": 0, \"ticks\": \"\"}}, \"type\": \"scatterpolar\"}], \"scatterpolargl\": [{\"marker\": {\"colorbar\": {\"outlinewidth\": 0, \"ticks\": \"\"}}, \"type\": \"scatterpolargl\"}], \"scatterternary\": [{\"marker\": {\"colorbar\": {\"outlinewidth\": 0, \"ticks\": \"\"}}, \"type\": \"scatterternary\"}], \"surface\": [{\"colorbar\": {\"outlinewidth\": 0, \"ticks\": \"\"}, \"colorscale\": [[0.0, \"#0d0887\"], [0.1111111111111111, \"#46039f\"], [0.2222222222222222, \"#7201a8\"], [0.3333333333333333, \"#9c179e\"], [0.4444444444444444, \"#bd3786\"], [0.5555555555555556, \"#d8576b\"], [0.6666666666666666, \"#ed7953\"], [0.7777777777777778, \"#fb9f3a\"], [0.8888888888888888, \"#fdca26\"], [1.0, \"#f0f921\"]], \"type\": \"surface\"}], \"table\": [{\"cells\": {\"fill\": {\"color\": \"#EBF0F8\"}, \"line\": {\"color\": \"white\"}}, \"header\": {\"fill\": {\"color\": \"#C8D4E3\"}, \"line\": {\"color\": \"white\"}}, \"type\": \"table\"}]}, \"layout\": {\"annotationdefaults\": {\"arrowcolor\": \"#2a3f5f\", \"arrowhead\": 0, \"arrowwidth\": 1}, \"coloraxis\": {\"colorbar\": {\"outlinewidth\": 0, \"ticks\": \"\"}}, \"colorscale\": {\"diverging\": [[0, \"#8e0152\"], [0.1, \"#c51b7d\"], [0.2, \"#de77ae\"], [0.3, \"#f1b6da\"], [0.4, \"#fde0ef\"], [0.5, \"#f7f7f7\"], [0.6, \"#e6f5d0\"], [0.7, \"#b8e186\"], [0.8, \"#7fbc41\"], [0.9, \"#4d9221\"], [1, \"#276419\"]], \"sequential\": [[0.0, \"#0d0887\"], [0.1111111111111111, \"#46039f\"], [0.2222222222222222, \"#7201a8\"], [0.3333333333333333, \"#9c179e\"], [0.4444444444444444, \"#bd3786\"], [0.5555555555555556, \"#d8576b\"], [0.6666666666666666, \"#ed7953\"], [0.7777777777777778, \"#fb9f3a\"], [0.8888888888888888, \"#fdca26\"], [1.0, \"#f0f921\"]], \"sequentialminus\": [[0.0, \"#0d0887\"], [0.1111111111111111, \"#46039f\"], [0.2222222222222222, \"#7201a8\"], [0.3333333333333333, \"#9c179e\"], [0.4444444444444444, \"#bd3786\"], [0.5555555555555556, \"#d8576b\"], [0.6666666666666666, \"#ed7953\"], [0.7777777777777778, \"#fb9f3a\"], [0.8888888888888888, \"#fdca26\"], [1.0, \"#f0f921\"]]}, \"colorway\": [\"#636efa\", \"#EF553B\", \"#00cc96\", \"#ab63fa\", \"#FFA15A\", \"#19d3f3\", \"#FF6692\", \"#B6E880\", \"#FF97FF\", \"#FECB52\"], \"font\": {\"color\": \"#2a3f5f\"}, \"geo\": {\"bgcolor\": \"white\", \"lakecolor\": \"white\", \"landcolor\": \"#E5ECF6\", \"showlakes\": true, \"showland\": true, \"subunitcolor\": \"white\"}, \"hoverlabel\": {\"align\": \"left\"}, \"hovermode\": \"closest\", \"mapbox\": {\"style\": \"light\"}, \"paper_bgcolor\": \"white\", \"plot_bgcolor\": \"#E5ECF6\", \"polar\": {\"angularaxis\": {\"gridcolor\": \"white\", \"linecolor\": \"white\", \"ticks\": \"\"}, \"bgcolor\": \"#E5ECF6\", \"radialaxis\": {\"gridcolor\": \"white\", \"linecolor\": \"white\", \"ticks\": \"\"}}, \"scene\": {\"xaxis\": {\"backgroundcolor\": \"#E5ECF6\", \"gridcolor\": \"white\", \"gridwidth\": 2, \"linecolor\": \"white\", \"showbackground\": true, \"ticks\": \"\", \"zerolinecolor\": \"white\"}, \"yaxis\": {\"backgroundcolor\": \"#E5ECF6\", \"gridcolor\": \"white\", \"gridwidth\": 2, \"linecolor\": \"white\", \"showbackground\": true, \"ticks\": \"\", \"zerolinecolor\": \"white\"}, \"zaxis\": {\"backgroundcolor\": \"#E5ECF6\", \"gridcolor\": \"white\", \"gridwidth\": 2, \"linecolor\": \"white\", \"showbackground\": true, \"ticks\": \"\", \"zerolinecolor\": \"white\"}}, \"shapedefaults\": {\"line\": {\"color\": \"#2a3f5f\"}}, \"ternary\": {\"aaxis\": {\"gridcolor\": \"white\", \"linecolor\": \"white\", \"ticks\": \"\"}, \"baxis\": {\"gridcolor\": \"white\", \"linecolor\": \"white\", \"ticks\": \"\"}, \"bgcolor\": \"#E5ECF6\", \"caxis\": {\"gridcolor\": \"white\", \"linecolor\": \"white\", \"ticks\": \"\"}}, \"title\": {\"x\": 0.05}, \"xaxis\": {\"automargin\": true, \"gridcolor\": \"white\", \"linecolor\": \"white\", \"ticks\": \"\", \"title\": {\"standoff\": 15}, \"zerolinecolor\": \"white\", \"zerolinewidth\": 2}, \"yaxis\": {\"automargin\": true, \"gridcolor\": \"white\", \"linecolor\": \"white\", \"ticks\": \"\", \"title\": {\"standoff\": 15}, \"zerolinecolor\": \"white\", \"zerolinewidth\": 2}}}, \"title\": {\"text\": \"Social Media Engagement Over Time\", \"x\": 0.5}, \"updatemenus\": [{\"active\": 1, \"buttons\": [{\"args\": [{\"visible\": [true]}, {\"yaxis\": {\"title\": \"Likes per Post\", \"type\": \"log\"}}], \"label\": \"Log Scale\", \"method\": \"update\"}, {\"args\": [{\"visible\": [true]}, {\"yaxis\": {\"title\": \"Likes per Post\", \"type\": \"linear\"}}], \"label\": \"Linear Scale\", \"method\": \"update\"}], \"xanchor\": \"left\", \"y\": 1.05, \"yanchor\": \"top\"}], \"width\": 1200, \"xaxis\": {\"anchor\": \"y\", \"domain\": [0.0, 1.0], \"title\": {\"text\": \"Date\"}}, \"yaxis\": {\"anchor\": \"x\", \"domain\": [0.0, 1.0], \"title\": {\"text\": \"Likes per Post\"}}},\n",
       "                        {\"responsive\": true}\n",
       "                    ).then(function(){\n",
       "                            \n",
       "var gd = document.getElementById('a6001faa-40bc-4f07-8662-ea73ce7e6f0e');\n",
       "var x = new MutationObserver(function (mutations, observer) {{\n",
       "        var display = window.getComputedStyle(gd).display;\n",
       "        if (!display || display === 'none') {{\n",
       "            console.log([gd, 'removed!']);\n",
       "            Plotly.purge(gd);\n",
       "            observer.disconnect();\n",
       "        }}\n",
       "}});\n",
       "\n",
       "// Listen for the removal of the full notebook cells\n",
       "var notebookContainer = gd.closest('#notebook-container');\n",
       "if (notebookContainer) {{\n",
       "    x.observe(notebookContainer, {childList: true});\n",
       "}}\n",
       "\n",
       "// Listen for the clearing of the current output cell\n",
       "var outputEl = gd.closest('.output');\n",
       "if (outputEl) {{\n",
       "    x.observe(outputEl, {childList: true});\n",
       "}}\n",
       "\n",
       "                        })\n",
       "                };\n",
       "                });\n",
       "            </script>\n",
       "        </div>"
      ]
     },
     "metadata": {},
     "output_type": "display_data"
    }
   ],
   "source": [
    "fig = px.scatter(chart_data_1, \n",
    "                 x='fct_date',\n",
    "                 y='likes_per_post',\n",
    "                 size='comments_per_post_pax',\n",
    "                 color='name',\n",
    "                 opacity=.8,\n",
    "                 labels={\n",
    "                     'likes_per_post': 'Likes per Post',\n",
    "                     'comments_per_post_pax': 'Comments per Post',\n",
    "                     'name': 'Size of Bubble =<br>Comments per Post<br><br><b>Brand</b>',\n",
    "                     'fct_date': 'Date',\n",
    "                 },\n",
    "                 title='Social Media Engagement Over Time'\n",
    "                 \n",
    "                 ,color_discrete_sequence=CU_PLOTLY_COLOR_SEQUENCE\n",
    "                )\n",
    "\n",
    "\n",
    "sizeref = 0.5 * max(chart_data_0['comments_per_post_pax'])/(100**2)\n",
    "smaller_font = dict(Font.plot_title.value)\n",
    "smaller_font.update({'size':14})\n",
    "fig.update_traces(\n",
    "    marker=dict(sizemode='area',\n",
    "                sizeref=sizeref,\n",
    "                \n",
    "               ),\n",
    "    textfont=smaller_font\n",
    ")\n",
    "\n",
    "fig.update_layout(\n",
    "    width=1200,\n",
    "    height=800,\n",
    ")\n",
    "\n",
    "fig.update_layout(\n",
    "    font=Font.plot_title.value,\n",
    "    plot_bgcolor=\"white\",\n",
    "     title={\"x\": 0.5},\n",
    "    colorway=CU_PLOTLY_COLOR_SEQUENCE,\n",
    "    coloraxis={\"autocolorscale\": True},\n",
    ")\n",
    "\n",
    "updatemenus = list([\n",
    "    dict(active=1,\n",
    "         buttons=list([\n",
    "            dict(label='Log Scale',\n",
    "                 method='update',\n",
    "                 args=[{'visible': [True]},\n",
    "                        {'yaxis': {'type': 'log', 'title':\"Likes per Post\"}\n",
    "                        }]),\n",
    "            dict(label='Linear Scale',\n",
    "                 method='update',\n",
    "                 args=[{'visible': [True]},\n",
    "                       {'yaxis': {'type': 'linear', 'title':\"Likes per Post\"}\n",
    "                       }])\n",
    "            ]),\n",
    "         xanchor=\"left\",\n",
    "         yanchor=\"top\",\n",
    "         y=1.05,\n",
    "        )\n",
    "    ])\n",
    "\n",
    "fig.update_layout(dict(updatemenus=updatemenus))\n",
    "fig.show()"
   ]
  },
  {
   "cell_type": "code",
   "execution_count": 39,
   "metadata": {
    "ExecuteTime": {
     "end_time": "2022-04-05T21:52:49.519803Z",
     "start_time": "2022-04-05T21:52:49.516614Z"
    }
   },
   "outputs": [],
   "source": [
    "chart_data_1=chart_data_1[chart_data_1[\"comments_per_post_pax\"]>0]"
   ]
  },
  {
   "cell_type": "code",
   "execution_count": 33,
   "metadata": {
    "ExecuteTime": {
     "end_time": "2022-04-04T21:29:29.788027Z",
     "start_time": "2022-04-04T21:29:29.306242Z"
    }
   },
   "outputs": [
    {
     "ename": "FileNotFoundError",
     "evalue": "[Errno 2] No such file or directory: 'data/hellobubble.com_ig_engagement.html'",
     "output_type": "error",
     "traceback": [
      "\u001b[0;31m---------------------------------------------------------------------------\u001b[0m",
      "\u001b[0;31mFileNotFoundError\u001b[0m                         Traceback (most recent call last)",
      "\u001b[0;32m<ipython-input-33-d0026342a3f8>\u001b[0m in \u001b[0;36m<module>\u001b[0;34m()\u001b[0m\n\u001b[0;32m----> 1\u001b[0;31m \u001b[0mfig\u001b[0m\u001b[0;34m.\u001b[0m\u001b[0mwrite_html\u001b[0m\u001b[0;34m(\u001b[0m\u001b[0;34mf\"data/{NORMALIZED_URLS[0]}_ig_engagement.html\"\u001b[0m\u001b[0;34m)\u001b[0m\u001b[0;34m\u001b[0m\u001b[0;34m\u001b[0m\u001b[0m\n\u001b[0m",
      "\u001b[0;32m/usr/local/lib/python3.6/site-packages/plotly/basedatatypes.py\u001b[0m in \u001b[0;36mwrite_html\u001b[0;34m(self, *args, **kwargs)\u001b[0m\n\u001b[1;32m   2812\u001b[0m         \u001b[0;32mimport\u001b[0m \u001b[0mplotly\u001b[0m\u001b[0;34m.\u001b[0m\u001b[0mio\u001b[0m \u001b[0;32mas\u001b[0m \u001b[0mpio\u001b[0m\u001b[0;34m\u001b[0m\u001b[0;34m\u001b[0m\u001b[0m\n\u001b[1;32m   2813\u001b[0m \u001b[0;34m\u001b[0m\u001b[0m\n\u001b[0;32m-> 2814\u001b[0;31m         \u001b[0;32mreturn\u001b[0m \u001b[0mpio\u001b[0m\u001b[0;34m.\u001b[0m\u001b[0mwrite_html\u001b[0m\u001b[0;34m(\u001b[0m\u001b[0mself\u001b[0m\u001b[0;34m,\u001b[0m \u001b[0;34m*\u001b[0m\u001b[0margs\u001b[0m\u001b[0;34m,\u001b[0m \u001b[0;34m**\u001b[0m\u001b[0mkwargs\u001b[0m\u001b[0;34m)\u001b[0m\u001b[0;34m\u001b[0m\u001b[0;34m\u001b[0m\u001b[0m\n\u001b[0m\u001b[1;32m   2815\u001b[0m \u001b[0;34m\u001b[0m\u001b[0m\n\u001b[1;32m   2816\u001b[0m     \u001b[0;32mdef\u001b[0m \u001b[0mto_image\u001b[0m\u001b[0;34m(\u001b[0m\u001b[0mself\u001b[0m\u001b[0;34m,\u001b[0m \u001b[0;34m*\u001b[0m\u001b[0margs\u001b[0m\u001b[0;34m,\u001b[0m \u001b[0;34m**\u001b[0m\u001b[0mkwargs\u001b[0m\u001b[0;34m)\u001b[0m\u001b[0;34m:\u001b[0m\u001b[0;34m\u001b[0m\u001b[0;34m\u001b[0m\u001b[0m\n",
      "\u001b[0;32m/usr/local/lib/python3.6/site-packages/plotly/io/_html.py\u001b[0m in \u001b[0;36mwrite_html\u001b[0;34m(fig, file, config, auto_play, include_plotlyjs, include_mathjax, post_script, full_html, animation_opts, validate, default_width, default_height, auto_open)\u001b[0m\n\u001b[1;32m    525\u001b[0m     \u001b[0;31m# Write HTML string\u001b[0m\u001b[0;34m\u001b[0m\u001b[0;34m\u001b[0m\u001b[0;34m\u001b[0m\u001b[0m\n\u001b[1;32m    526\u001b[0m     \u001b[0;32mif\u001b[0m \u001b[0mfile_is_str\u001b[0m\u001b[0;34m:\u001b[0m\u001b[0;34m\u001b[0m\u001b[0;34m\u001b[0m\u001b[0m\n\u001b[0;32m--> 527\u001b[0;31m         \u001b[0;32mwith\u001b[0m \u001b[0mopen\u001b[0m\u001b[0;34m(\u001b[0m\u001b[0mfile\u001b[0m\u001b[0;34m,\u001b[0m \u001b[0;34m\"w\"\u001b[0m\u001b[0;34m)\u001b[0m \u001b[0;32mas\u001b[0m \u001b[0mf\u001b[0m\u001b[0;34m:\u001b[0m\u001b[0;34m\u001b[0m\u001b[0;34m\u001b[0m\u001b[0m\n\u001b[0m\u001b[1;32m    528\u001b[0m             \u001b[0mf\u001b[0m\u001b[0;34m.\u001b[0m\u001b[0mwrite\u001b[0m\u001b[0;34m(\u001b[0m\u001b[0mhtml_str\u001b[0m\u001b[0;34m)\u001b[0m\u001b[0;34m\u001b[0m\u001b[0;34m\u001b[0m\u001b[0m\n\u001b[1;32m    529\u001b[0m     \u001b[0;32melse\u001b[0m\u001b[0;34m:\u001b[0m\u001b[0;34m\u001b[0m\u001b[0;34m\u001b[0m\u001b[0m\n",
      "\u001b[0;31mFileNotFoundError\u001b[0m: [Errno 2] No such file or directory: 'data/hellobubble.com_ig_engagement.html'"
     ]
    }
   ],
   "source": [
    "fig.write_html(f\"data/{NORMALIZED_URLS[0]}_ig_engagement.html\")"
   ]
  },
  {
   "cell_type": "code",
   "execution_count": 86,
   "metadata": {
    "ExecuteTime": {
     "end_time": "2022-04-04T22:07:04.623790Z",
     "start_time": "2022-04-04T22:07:04.144858Z"
    }
   },
   "outputs": [
    {
     "data": {
      "application/vnd.plotly.v1+json": {
       "config": {
        "plotlyServerURL": "https://plot.ly"
       },
       "data": [
        {
         "hoverlabel": {
          "namelength": 0
         },
         "hovertemplate": "Size of Bubble =<br>Comments<br>per Post<br>per Follower<br><br><b>Brand</b>=Cetaphil<br>Date=%{x}<br>Likes per Post per Follower=%{y}<br>Comments per Post per Follower=%{marker.size}",
         "legendgroup": "Cetaphil",
         "marker": {
          "color": "#365bb7",
          "size": [
           0.00028499610328527853,
           1.8558159456633103e-05,
           1.6841926154736924e-05,
           1.793068036922387e-05,
           1.3416786598033191e-05,
           4.256646108533256e-05,
           3.632292067354958e-06,
           5.798197388427713e-05,
           0.00012152462739258432,
           5.4369581967455645e-05,
           7.850269968968315e-05,
           9.331544129985851e-05,
           2.058656593808836e-06,
           0.00010626474768123245,
           5.147075996935501e-05,
           1.0687642678182393e-05,
           7.27694296023219e-05,
           8.284036522930314e-05,
           8.918337166520892e-05,
           3.1973610545143136e-05,
           0.00014826584954046997,
           3.4447268757083847e-06,
           0.00010761370246036452,
           7.038016808255078e-05,
           0.000132409586815104,
           1.7793658275053757e-05,
           4.120968856354096e-05,
           0.00030431479292714503
          ],
          "sizemode": "area",
          "sizeref": 1.7678030778275546e-07,
          "symbol": "circle"
         },
         "mode": "markers",
         "name": "Cetaphil",
         "showlegend": true,
         "textfont": {
          "color": "#313131",
          "family": "Muli, AppleGothic, Futura, sans-serif",
          "size": 14
         },
         "type": "scatter",
         "x": [
          "2017-07-01",
          "2021-04-01",
          "2021-02-01",
          "2021-01-01",
          "2020-12-01",
          "2020-11-01",
          "2020-10-01",
          "2020-08-01",
          "2020-06-01",
          "2020-05-01",
          "2020-03-01",
          "2019-08-01",
          "2019-06-01",
          "2020-04-01",
          "2018-12-01",
          "2017-09-01",
          "2017-10-01",
          "2017-12-01",
          "2018-04-01",
          "2019-05-01",
          "2018-05-01",
          "2021-10-01",
          "2018-07-01",
          "2018-08-01",
          "2018-09-01",
          "2018-10-01",
          "2018-11-01",
          "2018-06-01"
         ],
         "xaxis": "x",
         "y": [
          4.310707725291959,
          1.4048056955260013,
          1.1988905396617267,
          1.2340748739086214,
          0.9019238779661107,
          2.7969174514882416,
          0.23279047709578388,
          3.5306129866478284,
          6.881059070399029,
          2.9554493461402966,
          3.9961038782129963,
          4.0017674522382105,
          0.08347895912682354,
          5.562323613013114,
          1.8263598965654226,
          0.18754145164400976,
          1.3572047234110896,
          1.69238222572681,
          2.3485350521965143,
          1.278510280125042,
          4.068694936930546,
          0.32358800823356515,
          3.1605307884218843,
          2.1496293090374983,
          4.177728319546032,
          0.5808522188616295,
          1.3991880484882195,
          8.577552268625736
         ],
         "yaxis": "y"
        },
        {
         "hoverlabel": {
          "namelength": 0
         },
         "hovertemplate": "Size of Bubble =<br>Comments<br>per Post<br>per Follower<br><br><b>Brand</b>=Bubble<br>Date=%{x}<br>Likes per Post per Follower=%{y}<br>Comments per Post per Follower=%{marker.size}",
         "legendgroup": "Bubble",
         "marker": {
          "color": "#e56725",
          "size": [
           0.0004836238606598465,
           2.1839124303320914e-05,
           0.0003813410252667762,
           0.00020974393781286458,
           0.00025114154166340724,
           0.00015781650552729054,
           4.519268434833763e-05,
           0.0008839015389137773
          ],
          "sizemode": "area",
          "sizeref": 1.7678030778275546e-07,
          "symbol": "circle"
         },
         "mode": "markers",
         "name": "Bubble",
         "showlegend": true,
         "textfont": {
          "color": "#313131",
          "family": "Muli, AppleGothic, Futura, sans-serif",
          "size": 14
         },
         "type": "scatter",
         "x": [
          "2020-11-01",
          "2021-10-01",
          "2021-01-01",
          "2021-02-01",
          "2021-03-01",
          "2021-04-01",
          "2021-06-01",
          "2020-12-01"
         ],
         "xaxis": "x",
         "y": [
          22.833333333333332,
          2.0611071101568696,
          20.820512413210505,
          12.820710444590567,
          16.31728989163914,
          10.830769230769231,
          3.351384963190163,
          46.49999867624315
         ],
         "yaxis": "y"
        }
       ],
       "layout": {
        "coloraxis": {
         "autocolorscale": true
        },
        "colorway": [
         "#365bb7",
         "#e56725",
         "#128dbd",
         "#5fa036",
         "#e33a2b",
         "#feb40b",
         "#984e99",
         "#8c350d",
         "#0c5d7b",
         "#6c6c6c"
        ],
        "font": {
         "color": "#313131",
         "family": "Muli, AppleGothic, Futura, sans-serif",
         "size": 18
        },
        "height": 800,
        "legend": {
         "itemsizing": "constant",
         "title": {
          "text": "Size of Bubble =<br>Comments<br>per Post<br>per Follower<br><br><b>Brand</b>"
         },
         "tracegroupgap": 0
        },
        "plot_bgcolor": "white",
        "template": {
         "data": {
          "bar": [
           {
            "error_x": {
             "color": "#2a3f5f"
            },
            "error_y": {
             "color": "#2a3f5f"
            },
            "marker": {
             "line": {
              "color": "#E5ECF6",
              "width": 0.5
             }
            },
            "type": "bar"
           }
          ],
          "barpolar": [
           {
            "marker": {
             "line": {
              "color": "#E5ECF6",
              "width": 0.5
             }
            },
            "type": "barpolar"
           }
          ],
          "carpet": [
           {
            "aaxis": {
             "endlinecolor": "#2a3f5f",
             "gridcolor": "white",
             "linecolor": "white",
             "minorgridcolor": "white",
             "startlinecolor": "#2a3f5f"
            },
            "baxis": {
             "endlinecolor": "#2a3f5f",
             "gridcolor": "white",
             "linecolor": "white",
             "minorgridcolor": "white",
             "startlinecolor": "#2a3f5f"
            },
            "type": "carpet"
           }
          ],
          "choropleth": [
           {
            "colorbar": {
             "outlinewidth": 0,
             "ticks": ""
            },
            "type": "choropleth"
           }
          ],
          "contour": [
           {
            "colorbar": {
             "outlinewidth": 0,
             "ticks": ""
            },
            "colorscale": [
             [
              0,
              "#0d0887"
             ],
             [
              0.1111111111111111,
              "#46039f"
             ],
             [
              0.2222222222222222,
              "#7201a8"
             ],
             [
              0.3333333333333333,
              "#9c179e"
             ],
             [
              0.4444444444444444,
              "#bd3786"
             ],
             [
              0.5555555555555556,
              "#d8576b"
             ],
             [
              0.6666666666666666,
              "#ed7953"
             ],
             [
              0.7777777777777778,
              "#fb9f3a"
             ],
             [
              0.8888888888888888,
              "#fdca26"
             ],
             [
              1,
              "#f0f921"
             ]
            ],
            "type": "contour"
           }
          ],
          "contourcarpet": [
           {
            "colorbar": {
             "outlinewidth": 0,
             "ticks": ""
            },
            "type": "contourcarpet"
           }
          ],
          "heatmap": [
           {
            "colorbar": {
             "outlinewidth": 0,
             "ticks": ""
            },
            "colorscale": [
             [
              0,
              "#0d0887"
             ],
             [
              0.1111111111111111,
              "#46039f"
             ],
             [
              0.2222222222222222,
              "#7201a8"
             ],
             [
              0.3333333333333333,
              "#9c179e"
             ],
             [
              0.4444444444444444,
              "#bd3786"
             ],
             [
              0.5555555555555556,
              "#d8576b"
             ],
             [
              0.6666666666666666,
              "#ed7953"
             ],
             [
              0.7777777777777778,
              "#fb9f3a"
             ],
             [
              0.8888888888888888,
              "#fdca26"
             ],
             [
              1,
              "#f0f921"
             ]
            ],
            "type": "heatmap"
           }
          ],
          "heatmapgl": [
           {
            "colorbar": {
             "outlinewidth": 0,
             "ticks": ""
            },
            "colorscale": [
             [
              0,
              "#0d0887"
             ],
             [
              0.1111111111111111,
              "#46039f"
             ],
             [
              0.2222222222222222,
              "#7201a8"
             ],
             [
              0.3333333333333333,
              "#9c179e"
             ],
             [
              0.4444444444444444,
              "#bd3786"
             ],
             [
              0.5555555555555556,
              "#d8576b"
             ],
             [
              0.6666666666666666,
              "#ed7953"
             ],
             [
              0.7777777777777778,
              "#fb9f3a"
             ],
             [
              0.8888888888888888,
              "#fdca26"
             ],
             [
              1,
              "#f0f921"
             ]
            ],
            "type": "heatmapgl"
           }
          ],
          "histogram": [
           {
            "marker": {
             "colorbar": {
              "outlinewidth": 0,
              "ticks": ""
             }
            },
            "type": "histogram"
           }
          ],
          "histogram2d": [
           {
            "colorbar": {
             "outlinewidth": 0,
             "ticks": ""
            },
            "colorscale": [
             [
              0,
              "#0d0887"
             ],
             [
              0.1111111111111111,
              "#46039f"
             ],
             [
              0.2222222222222222,
              "#7201a8"
             ],
             [
              0.3333333333333333,
              "#9c179e"
             ],
             [
              0.4444444444444444,
              "#bd3786"
             ],
             [
              0.5555555555555556,
              "#d8576b"
             ],
             [
              0.6666666666666666,
              "#ed7953"
             ],
             [
              0.7777777777777778,
              "#fb9f3a"
             ],
             [
              0.8888888888888888,
              "#fdca26"
             ],
             [
              1,
              "#f0f921"
             ]
            ],
            "type": "histogram2d"
           }
          ],
          "histogram2dcontour": [
           {
            "colorbar": {
             "outlinewidth": 0,
             "ticks": ""
            },
            "colorscale": [
             [
              0,
              "#0d0887"
             ],
             [
              0.1111111111111111,
              "#46039f"
             ],
             [
              0.2222222222222222,
              "#7201a8"
             ],
             [
              0.3333333333333333,
              "#9c179e"
             ],
             [
              0.4444444444444444,
              "#bd3786"
             ],
             [
              0.5555555555555556,
              "#d8576b"
             ],
             [
              0.6666666666666666,
              "#ed7953"
             ],
             [
              0.7777777777777778,
              "#fb9f3a"
             ],
             [
              0.8888888888888888,
              "#fdca26"
             ],
             [
              1,
              "#f0f921"
             ]
            ],
            "type": "histogram2dcontour"
           }
          ],
          "mesh3d": [
           {
            "colorbar": {
             "outlinewidth": 0,
             "ticks": ""
            },
            "type": "mesh3d"
           }
          ],
          "parcoords": [
           {
            "line": {
             "colorbar": {
              "outlinewidth": 0,
              "ticks": ""
             }
            },
            "type": "parcoords"
           }
          ],
          "pie": [
           {
            "automargin": true,
            "type": "pie"
           }
          ],
          "scatter": [
           {
            "marker": {
             "colorbar": {
              "outlinewidth": 0,
              "ticks": ""
             }
            },
            "type": "scatter"
           }
          ],
          "scatter3d": [
           {
            "line": {
             "colorbar": {
              "outlinewidth": 0,
              "ticks": ""
             }
            },
            "marker": {
             "colorbar": {
              "outlinewidth": 0,
              "ticks": ""
             }
            },
            "type": "scatter3d"
           }
          ],
          "scattercarpet": [
           {
            "marker": {
             "colorbar": {
              "outlinewidth": 0,
              "ticks": ""
             }
            },
            "type": "scattercarpet"
           }
          ],
          "scattergeo": [
           {
            "marker": {
             "colorbar": {
              "outlinewidth": 0,
              "ticks": ""
             }
            },
            "type": "scattergeo"
           }
          ],
          "scattergl": [
           {
            "marker": {
             "colorbar": {
              "outlinewidth": 0,
              "ticks": ""
             }
            },
            "type": "scattergl"
           }
          ],
          "scattermapbox": [
           {
            "marker": {
             "colorbar": {
              "outlinewidth": 0,
              "ticks": ""
             }
            },
            "type": "scattermapbox"
           }
          ],
          "scatterpolar": [
           {
            "marker": {
             "colorbar": {
              "outlinewidth": 0,
              "ticks": ""
             }
            },
            "type": "scatterpolar"
           }
          ],
          "scatterpolargl": [
           {
            "marker": {
             "colorbar": {
              "outlinewidth": 0,
              "ticks": ""
             }
            },
            "type": "scatterpolargl"
           }
          ],
          "scatterternary": [
           {
            "marker": {
             "colorbar": {
              "outlinewidth": 0,
              "ticks": ""
             }
            },
            "type": "scatterternary"
           }
          ],
          "surface": [
           {
            "colorbar": {
             "outlinewidth": 0,
             "ticks": ""
            },
            "colorscale": [
             [
              0,
              "#0d0887"
             ],
             [
              0.1111111111111111,
              "#46039f"
             ],
             [
              0.2222222222222222,
              "#7201a8"
             ],
             [
              0.3333333333333333,
              "#9c179e"
             ],
             [
              0.4444444444444444,
              "#bd3786"
             ],
             [
              0.5555555555555556,
              "#d8576b"
             ],
             [
              0.6666666666666666,
              "#ed7953"
             ],
             [
              0.7777777777777778,
              "#fb9f3a"
             ],
             [
              0.8888888888888888,
              "#fdca26"
             ],
             [
              1,
              "#f0f921"
             ]
            ],
            "type": "surface"
           }
          ],
          "table": [
           {
            "cells": {
             "fill": {
              "color": "#EBF0F8"
             },
             "line": {
              "color": "white"
             }
            },
            "header": {
             "fill": {
              "color": "#C8D4E3"
             },
             "line": {
              "color": "white"
             }
            },
            "type": "table"
           }
          ]
         },
         "layout": {
          "annotationdefaults": {
           "arrowcolor": "#2a3f5f",
           "arrowhead": 0,
           "arrowwidth": 1
          },
          "coloraxis": {
           "colorbar": {
            "outlinewidth": 0,
            "ticks": ""
           }
          },
          "colorscale": {
           "diverging": [
            [
             0,
             "#8e0152"
            ],
            [
             0.1,
             "#c51b7d"
            ],
            [
             0.2,
             "#de77ae"
            ],
            [
             0.3,
             "#f1b6da"
            ],
            [
             0.4,
             "#fde0ef"
            ],
            [
             0.5,
             "#f7f7f7"
            ],
            [
             0.6,
             "#e6f5d0"
            ],
            [
             0.7,
             "#b8e186"
            ],
            [
             0.8,
             "#7fbc41"
            ],
            [
             0.9,
             "#4d9221"
            ],
            [
             1,
             "#276419"
            ]
           ],
           "sequential": [
            [
             0,
             "#0d0887"
            ],
            [
             0.1111111111111111,
             "#46039f"
            ],
            [
             0.2222222222222222,
             "#7201a8"
            ],
            [
             0.3333333333333333,
             "#9c179e"
            ],
            [
             0.4444444444444444,
             "#bd3786"
            ],
            [
             0.5555555555555556,
             "#d8576b"
            ],
            [
             0.6666666666666666,
             "#ed7953"
            ],
            [
             0.7777777777777778,
             "#fb9f3a"
            ],
            [
             0.8888888888888888,
             "#fdca26"
            ],
            [
             1,
             "#f0f921"
            ]
           ],
           "sequentialminus": [
            [
             0,
             "#0d0887"
            ],
            [
             0.1111111111111111,
             "#46039f"
            ],
            [
             0.2222222222222222,
             "#7201a8"
            ],
            [
             0.3333333333333333,
             "#9c179e"
            ],
            [
             0.4444444444444444,
             "#bd3786"
            ],
            [
             0.5555555555555556,
             "#d8576b"
            ],
            [
             0.6666666666666666,
             "#ed7953"
            ],
            [
             0.7777777777777778,
             "#fb9f3a"
            ],
            [
             0.8888888888888888,
             "#fdca26"
            ],
            [
             1,
             "#f0f921"
            ]
           ]
          },
          "colorway": [
           "#636efa",
           "#EF553B",
           "#00cc96",
           "#ab63fa",
           "#FFA15A",
           "#19d3f3",
           "#FF6692",
           "#B6E880",
           "#FF97FF",
           "#FECB52"
          ],
          "font": {
           "color": "#2a3f5f"
          },
          "geo": {
           "bgcolor": "white",
           "lakecolor": "white",
           "landcolor": "#E5ECF6",
           "showlakes": true,
           "showland": true,
           "subunitcolor": "white"
          },
          "hoverlabel": {
           "align": "left"
          },
          "hovermode": "closest",
          "mapbox": {
           "style": "light"
          },
          "paper_bgcolor": "white",
          "plot_bgcolor": "#E5ECF6",
          "polar": {
           "angularaxis": {
            "gridcolor": "white",
            "linecolor": "white",
            "ticks": ""
           },
           "bgcolor": "#E5ECF6",
           "radialaxis": {
            "gridcolor": "white",
            "linecolor": "white",
            "ticks": ""
           }
          },
          "scene": {
           "xaxis": {
            "backgroundcolor": "#E5ECF6",
            "gridcolor": "white",
            "gridwidth": 2,
            "linecolor": "white",
            "showbackground": true,
            "ticks": "",
            "zerolinecolor": "white"
           },
           "yaxis": {
            "backgroundcolor": "#E5ECF6",
            "gridcolor": "white",
            "gridwidth": 2,
            "linecolor": "white",
            "showbackground": true,
            "ticks": "",
            "zerolinecolor": "white"
           },
           "zaxis": {
            "backgroundcolor": "#E5ECF6",
            "gridcolor": "white",
            "gridwidth": 2,
            "linecolor": "white",
            "showbackground": true,
            "ticks": "",
            "zerolinecolor": "white"
           }
          },
          "shapedefaults": {
           "line": {
            "color": "#2a3f5f"
           }
          },
          "ternary": {
           "aaxis": {
            "gridcolor": "white",
            "linecolor": "white",
            "ticks": ""
           },
           "baxis": {
            "gridcolor": "white",
            "linecolor": "white",
            "ticks": ""
           },
           "bgcolor": "#E5ECF6",
           "caxis": {
            "gridcolor": "white",
            "linecolor": "white",
            "ticks": ""
           }
          },
          "title": {
           "x": 0.05
          },
          "xaxis": {
           "automargin": true,
           "gridcolor": "white",
           "linecolor": "white",
           "ticks": "",
           "title": {
            "standoff": 15
           },
           "zerolinecolor": "white",
           "zerolinewidth": 2
          },
          "yaxis": {
           "automargin": true,
           "gridcolor": "white",
           "linecolor": "white",
           "ticks": "",
           "title": {
            "standoff": 15
           },
           "zerolinecolor": "white",
           "zerolinewidth": 2
          }
         }
        },
        "title": {
         "text": "Normalized Social Media Engagement Over Time",
         "x": 0.5
        },
        "updatemenus": [
         {
          "active": 1,
          "buttons": [
           {
            "args": [
             {
              "visible": [
               true
              ]
             },
             {
              "yaxis": {
               "title": "Likes per Post per Follower",
               "type": "log"
              }
             }
            ],
            "label": "Log Scale",
            "method": "update"
           },
           {
            "args": [
             {
              "visible": [
               true
              ]
             },
             {
              "yaxis": {
               "title": "Likes per Post per Follower",
               "type": "linear"
              }
             }
            ],
            "label": "Linear Scale",
            "method": "update"
           }
          ],
          "xanchor": "left",
          "y": 1.05,
          "yanchor": "top"
         }
        ],
        "width": 1200,
        "xaxis": {
         "anchor": "y",
         "domain": [
          0,
          1
         ],
         "title": {
          "text": "Date"
         }
        },
        "yaxis": {
         "anchor": "x",
         "domain": [
          0,
          1
         ],
         "title": {
          "text": "Likes per Post per Follower"
         }
        }
       }
      },
      "text/html": [
       "<div>\n",
       "        \n",
       "        \n",
       "            <div id=\"110bb2e4-61e6-4ac0-b3a3-b5e478b372bd\" class=\"plotly-graph-div\" style=\"height:800px; width:1200px;\"></div>\n",
       "            <script type=\"text/javascript\">\n",
       "                require([\"plotly\"], function(Plotly) {\n",
       "                    window.PLOTLYENV=window.PLOTLYENV || {};\n",
       "                    \n",
       "                if (document.getElementById(\"110bb2e4-61e6-4ac0-b3a3-b5e478b372bd\")) {\n",
       "                    Plotly.newPlot(\n",
       "                        '110bb2e4-61e6-4ac0-b3a3-b5e478b372bd',\n",
       "                        [{\"hoverlabel\": {\"namelength\": 0}, \"hovertemplate\": \"Size of Bubble =<br>Comments<br>per Post<br>per Follower<br><br><b>Brand</b>=Cetaphil<br>Date=%{x}<br>Likes per Post per Follower=%{y}<br>Comments per Post per Follower=%{marker.size}\", \"legendgroup\": \"Cetaphil\", \"marker\": {\"color\": \"#365bb7\", \"size\": [0.00028499610328527853, 1.8558159456633103e-05, 1.6841926154736924e-05, 1.793068036922387e-05, 1.3416786598033191e-05, 4.256646108533256e-05, 3.632292067354958e-06, 5.798197388427713e-05, 0.00012152462739258432, 5.4369581967455645e-05, 7.850269968968315e-05, 9.331544129985851e-05, 2.058656593808836e-06, 0.00010626474768123245, 5.147075996935501e-05, 1.0687642678182393e-05, 7.27694296023219e-05, 8.284036522930314e-05, 8.918337166520892e-05, 3.1973610545143136e-05, 0.00014826584954046997, 3.4447268757083847e-06, 0.00010761370246036452, 7.038016808255078e-05, 0.000132409586815104, 1.7793658275053757e-05, 4.120968856354096e-05, 0.00030431479292714503], \"sizemode\": \"area\", \"sizeref\": 1.7678030778275546e-07, \"symbol\": \"circle\"}, \"mode\": \"markers\", \"name\": \"Cetaphil\", \"showlegend\": true, \"textfont\": {\"color\": \"#313131\", \"family\": \"Muli, AppleGothic, Futura, sans-serif\", \"size\": 14}, \"type\": \"scatter\", \"x\": [\"2017-07-01\", \"2021-04-01\", \"2021-02-01\", \"2021-01-01\", \"2020-12-01\", \"2020-11-01\", \"2020-10-01\", \"2020-08-01\", \"2020-06-01\", \"2020-05-01\", \"2020-03-01\", \"2019-08-01\", \"2019-06-01\", \"2020-04-01\", \"2018-12-01\", \"2017-09-01\", \"2017-10-01\", \"2017-12-01\", \"2018-04-01\", \"2019-05-01\", \"2018-05-01\", \"2021-10-01\", \"2018-07-01\", \"2018-08-01\", \"2018-09-01\", \"2018-10-01\", \"2018-11-01\", \"2018-06-01\"], \"xaxis\": \"x\", \"y\": [4.310707725291959, 1.4048056955260013, 1.1988905396617267, 1.2340748739086214, 0.9019238779661107, 2.7969174514882416, 0.23279047709578388, 3.5306129866478284, 6.881059070399029, 2.9554493461402966, 3.9961038782129963, 4.0017674522382105, 0.08347895912682354, 5.562323613013114, 1.8263598965654226, 0.18754145164400976, 1.3572047234110896, 1.69238222572681, 2.3485350521965143, 1.278510280125042, 4.068694936930546, 0.32358800823356515, 3.1605307884218843, 2.1496293090374983, 4.177728319546032, 0.5808522188616295, 1.3991880484882195, 8.577552268625736], \"yaxis\": \"y\"}, {\"hoverlabel\": {\"namelength\": 0}, \"hovertemplate\": \"Size of Bubble =<br>Comments<br>per Post<br>per Follower<br><br><b>Brand</b>=Bubble<br>Date=%{x}<br>Likes per Post per Follower=%{y}<br>Comments per Post per Follower=%{marker.size}\", \"legendgroup\": \"Bubble\", \"marker\": {\"color\": \"#e56725\", \"size\": [0.0004836238606598465, 2.1839124303320914e-05, 0.0003813410252667762, 0.00020974393781286458, 0.00025114154166340724, 0.00015781650552729054, 4.519268434833763e-05, 0.0008839015389137773], \"sizemode\": \"area\", \"sizeref\": 1.7678030778275546e-07, \"symbol\": \"circle\"}, \"mode\": \"markers\", \"name\": \"Bubble\", \"showlegend\": true, \"textfont\": {\"color\": \"#313131\", \"family\": \"Muli, AppleGothic, Futura, sans-serif\", \"size\": 14}, \"type\": \"scatter\", \"x\": [\"2020-11-01\", \"2021-10-01\", \"2021-01-01\", \"2021-02-01\", \"2021-03-01\", \"2021-04-01\", \"2021-06-01\", \"2020-12-01\"], \"xaxis\": \"x\", \"y\": [22.833333333333332, 2.0611071101568696, 20.820512413210505, 12.820710444590567, 16.31728989163914, 10.830769230769231, 3.351384963190163, 46.49999867624315], \"yaxis\": \"y\"}],\n",
       "                        {\"coloraxis\": {\"autocolorscale\": true}, \"colorway\": [\"#365bb7\", \"#e56725\", \"#128dbd\", \"#5fa036\", \"#e33a2b\", \"#feb40b\", \"#984e99\", \"#8c350d\", \"#0c5d7b\", \"#6c6c6c\"], \"font\": {\"color\": \"#313131\", \"family\": \"Muli, AppleGothic, Futura, sans-serif\", \"size\": 18}, \"height\": 800, \"legend\": {\"itemsizing\": \"constant\", \"title\": {\"text\": \"Size of Bubble =<br>Comments<br>per Post<br>per Follower<br><br><b>Brand</b>\"}, \"tracegroupgap\": 0}, \"plot_bgcolor\": \"white\", \"template\": {\"data\": {\"bar\": [{\"error_x\": {\"color\": \"#2a3f5f\"}, \"error_y\": {\"color\": \"#2a3f5f\"}, \"marker\": {\"line\": {\"color\": \"#E5ECF6\", \"width\": 0.5}}, \"type\": \"bar\"}], \"barpolar\": [{\"marker\": {\"line\": {\"color\": \"#E5ECF6\", \"width\": 0.5}}, \"type\": \"barpolar\"}], \"carpet\": [{\"aaxis\": {\"endlinecolor\": \"#2a3f5f\", \"gridcolor\": \"white\", \"linecolor\": \"white\", \"minorgridcolor\": \"white\", \"startlinecolor\": \"#2a3f5f\"}, \"baxis\": {\"endlinecolor\": \"#2a3f5f\", \"gridcolor\": \"white\", \"linecolor\": \"white\", \"minorgridcolor\": \"white\", \"startlinecolor\": \"#2a3f5f\"}, \"type\": \"carpet\"}], \"choropleth\": [{\"colorbar\": {\"outlinewidth\": 0, \"ticks\": \"\"}, \"type\": \"choropleth\"}], \"contour\": [{\"colorbar\": {\"outlinewidth\": 0, \"ticks\": \"\"}, \"colorscale\": [[0.0, \"#0d0887\"], [0.1111111111111111, \"#46039f\"], [0.2222222222222222, \"#7201a8\"], [0.3333333333333333, \"#9c179e\"], [0.4444444444444444, \"#bd3786\"], [0.5555555555555556, \"#d8576b\"], [0.6666666666666666, \"#ed7953\"], [0.7777777777777778, \"#fb9f3a\"], [0.8888888888888888, \"#fdca26\"], [1.0, \"#f0f921\"]], \"type\": \"contour\"}], \"contourcarpet\": [{\"colorbar\": {\"outlinewidth\": 0, \"ticks\": \"\"}, \"type\": \"contourcarpet\"}], \"heatmap\": [{\"colorbar\": {\"outlinewidth\": 0, \"ticks\": \"\"}, \"colorscale\": [[0.0, \"#0d0887\"], [0.1111111111111111, \"#46039f\"], [0.2222222222222222, \"#7201a8\"], [0.3333333333333333, \"#9c179e\"], [0.4444444444444444, \"#bd3786\"], [0.5555555555555556, \"#d8576b\"], [0.6666666666666666, \"#ed7953\"], [0.7777777777777778, \"#fb9f3a\"], [0.8888888888888888, \"#fdca26\"], [1.0, \"#f0f921\"]], \"type\": \"heatmap\"}], \"heatmapgl\": [{\"colorbar\": {\"outlinewidth\": 0, \"ticks\": \"\"}, \"colorscale\": [[0.0, \"#0d0887\"], [0.1111111111111111, \"#46039f\"], [0.2222222222222222, \"#7201a8\"], [0.3333333333333333, \"#9c179e\"], [0.4444444444444444, \"#bd3786\"], [0.5555555555555556, \"#d8576b\"], [0.6666666666666666, \"#ed7953\"], [0.7777777777777778, \"#fb9f3a\"], [0.8888888888888888, \"#fdca26\"], [1.0, \"#f0f921\"]], \"type\": \"heatmapgl\"}], \"histogram\": [{\"marker\": {\"colorbar\": {\"outlinewidth\": 0, \"ticks\": \"\"}}, \"type\": \"histogram\"}], \"histogram2d\": [{\"colorbar\": {\"outlinewidth\": 0, \"ticks\": \"\"}, \"colorscale\": [[0.0, \"#0d0887\"], [0.1111111111111111, \"#46039f\"], [0.2222222222222222, \"#7201a8\"], [0.3333333333333333, \"#9c179e\"], [0.4444444444444444, \"#bd3786\"], [0.5555555555555556, \"#d8576b\"], [0.6666666666666666, \"#ed7953\"], [0.7777777777777778, \"#fb9f3a\"], [0.8888888888888888, \"#fdca26\"], [1.0, \"#f0f921\"]], \"type\": \"histogram2d\"}], \"histogram2dcontour\": [{\"colorbar\": {\"outlinewidth\": 0, \"ticks\": \"\"}, \"colorscale\": [[0.0, \"#0d0887\"], [0.1111111111111111, \"#46039f\"], [0.2222222222222222, \"#7201a8\"], [0.3333333333333333, \"#9c179e\"], [0.4444444444444444, \"#bd3786\"], [0.5555555555555556, \"#d8576b\"], [0.6666666666666666, \"#ed7953\"], [0.7777777777777778, \"#fb9f3a\"], [0.8888888888888888, \"#fdca26\"], [1.0, \"#f0f921\"]], \"type\": \"histogram2dcontour\"}], \"mesh3d\": [{\"colorbar\": {\"outlinewidth\": 0, \"ticks\": \"\"}, \"type\": \"mesh3d\"}], \"parcoords\": [{\"line\": {\"colorbar\": {\"outlinewidth\": 0, \"ticks\": \"\"}}, \"type\": \"parcoords\"}], \"pie\": [{\"automargin\": true, \"type\": \"pie\"}], \"scatter\": [{\"marker\": {\"colorbar\": {\"outlinewidth\": 0, \"ticks\": \"\"}}, \"type\": \"scatter\"}], \"scatter3d\": [{\"line\": {\"colorbar\": {\"outlinewidth\": 0, \"ticks\": \"\"}}, \"marker\": {\"colorbar\": {\"outlinewidth\": 0, \"ticks\": \"\"}}, \"type\": \"scatter3d\"}], \"scattercarpet\": [{\"marker\": {\"colorbar\": {\"outlinewidth\": 0, \"ticks\": \"\"}}, \"type\": \"scattercarpet\"}], \"scattergeo\": [{\"marker\": {\"colorbar\": {\"outlinewidth\": 0, \"ticks\": \"\"}}, \"type\": \"scattergeo\"}], \"scattergl\": [{\"marker\": {\"colorbar\": {\"outlinewidth\": 0, \"ticks\": \"\"}}, \"type\": \"scattergl\"}], \"scattermapbox\": [{\"marker\": {\"colorbar\": {\"outlinewidth\": 0, \"ticks\": \"\"}}, \"type\": \"scattermapbox\"}], \"scatterpolar\": [{\"marker\": {\"colorbar\": {\"outlinewidth\": 0, \"ticks\": \"\"}}, \"type\": \"scatterpolar\"}], \"scatterpolargl\": [{\"marker\": {\"colorbar\": {\"outlinewidth\": 0, \"ticks\": \"\"}}, \"type\": \"scatterpolargl\"}], \"scatterternary\": [{\"marker\": {\"colorbar\": {\"outlinewidth\": 0, \"ticks\": \"\"}}, \"type\": \"scatterternary\"}], \"surface\": [{\"colorbar\": {\"outlinewidth\": 0, \"ticks\": \"\"}, \"colorscale\": [[0.0, \"#0d0887\"], [0.1111111111111111, \"#46039f\"], [0.2222222222222222, \"#7201a8\"], [0.3333333333333333, \"#9c179e\"], [0.4444444444444444, \"#bd3786\"], [0.5555555555555556, \"#d8576b\"], [0.6666666666666666, \"#ed7953\"], [0.7777777777777778, \"#fb9f3a\"], [0.8888888888888888, \"#fdca26\"], [1.0, \"#f0f921\"]], \"type\": \"surface\"}], \"table\": [{\"cells\": {\"fill\": {\"color\": \"#EBF0F8\"}, \"line\": {\"color\": \"white\"}}, \"header\": {\"fill\": {\"color\": \"#C8D4E3\"}, \"line\": {\"color\": \"white\"}}, \"type\": \"table\"}]}, \"layout\": {\"annotationdefaults\": {\"arrowcolor\": \"#2a3f5f\", \"arrowhead\": 0, \"arrowwidth\": 1}, \"coloraxis\": {\"colorbar\": {\"outlinewidth\": 0, \"ticks\": \"\"}}, \"colorscale\": {\"diverging\": [[0, \"#8e0152\"], [0.1, \"#c51b7d\"], [0.2, \"#de77ae\"], [0.3, \"#f1b6da\"], [0.4, \"#fde0ef\"], [0.5, \"#f7f7f7\"], [0.6, \"#e6f5d0\"], [0.7, \"#b8e186\"], [0.8, \"#7fbc41\"], [0.9, \"#4d9221\"], [1, \"#276419\"]], \"sequential\": [[0.0, \"#0d0887\"], [0.1111111111111111, \"#46039f\"], [0.2222222222222222, \"#7201a8\"], [0.3333333333333333, \"#9c179e\"], [0.4444444444444444, \"#bd3786\"], [0.5555555555555556, \"#d8576b\"], [0.6666666666666666, \"#ed7953\"], [0.7777777777777778, \"#fb9f3a\"], [0.8888888888888888, \"#fdca26\"], [1.0, \"#f0f921\"]], \"sequentialminus\": [[0.0, \"#0d0887\"], [0.1111111111111111, \"#46039f\"], [0.2222222222222222, \"#7201a8\"], [0.3333333333333333, \"#9c179e\"], [0.4444444444444444, \"#bd3786\"], [0.5555555555555556, \"#d8576b\"], [0.6666666666666666, \"#ed7953\"], [0.7777777777777778, \"#fb9f3a\"], [0.8888888888888888, \"#fdca26\"], [1.0, \"#f0f921\"]]}, \"colorway\": [\"#636efa\", \"#EF553B\", \"#00cc96\", \"#ab63fa\", \"#FFA15A\", \"#19d3f3\", \"#FF6692\", \"#B6E880\", \"#FF97FF\", \"#FECB52\"], \"font\": {\"color\": \"#2a3f5f\"}, \"geo\": {\"bgcolor\": \"white\", \"lakecolor\": \"white\", \"landcolor\": \"#E5ECF6\", \"showlakes\": true, \"showland\": true, \"subunitcolor\": \"white\"}, \"hoverlabel\": {\"align\": \"left\"}, \"hovermode\": \"closest\", \"mapbox\": {\"style\": \"light\"}, \"paper_bgcolor\": \"white\", \"plot_bgcolor\": \"#E5ECF6\", \"polar\": {\"angularaxis\": {\"gridcolor\": \"white\", \"linecolor\": \"white\", \"ticks\": \"\"}, \"bgcolor\": \"#E5ECF6\", \"radialaxis\": {\"gridcolor\": \"white\", \"linecolor\": \"white\", \"ticks\": \"\"}}, \"scene\": {\"xaxis\": {\"backgroundcolor\": \"#E5ECF6\", \"gridcolor\": \"white\", \"gridwidth\": 2, \"linecolor\": \"white\", \"showbackground\": true, \"ticks\": \"\", \"zerolinecolor\": \"white\"}, \"yaxis\": {\"backgroundcolor\": \"#E5ECF6\", \"gridcolor\": \"white\", \"gridwidth\": 2, \"linecolor\": \"white\", \"showbackground\": true, \"ticks\": \"\", \"zerolinecolor\": \"white\"}, \"zaxis\": {\"backgroundcolor\": \"#E5ECF6\", \"gridcolor\": \"white\", \"gridwidth\": 2, \"linecolor\": \"white\", \"showbackground\": true, \"ticks\": \"\", \"zerolinecolor\": \"white\"}}, \"shapedefaults\": {\"line\": {\"color\": \"#2a3f5f\"}}, \"ternary\": {\"aaxis\": {\"gridcolor\": \"white\", \"linecolor\": \"white\", \"ticks\": \"\"}, \"baxis\": {\"gridcolor\": \"white\", \"linecolor\": \"white\", \"ticks\": \"\"}, \"bgcolor\": \"#E5ECF6\", \"caxis\": {\"gridcolor\": \"white\", \"linecolor\": \"white\", \"ticks\": \"\"}}, \"title\": {\"x\": 0.05}, \"xaxis\": {\"automargin\": true, \"gridcolor\": \"white\", \"linecolor\": \"white\", \"ticks\": \"\", \"title\": {\"standoff\": 15}, \"zerolinecolor\": \"white\", \"zerolinewidth\": 2}, \"yaxis\": {\"automargin\": true, \"gridcolor\": \"white\", \"linecolor\": \"white\", \"ticks\": \"\", \"title\": {\"standoff\": 15}, \"zerolinecolor\": \"white\", \"zerolinewidth\": 2}}}, \"title\": {\"text\": \"Normalized Social Media Engagement Over Time\", \"x\": 0.5}, \"updatemenus\": [{\"active\": 1, \"buttons\": [{\"args\": [{\"visible\": [true]}, {\"yaxis\": {\"title\": \"Likes per Post per Follower\", \"type\": \"log\"}}], \"label\": \"Log Scale\", \"method\": \"update\"}, {\"args\": [{\"visible\": [true]}, {\"yaxis\": {\"title\": \"Likes per Post per Follower\", \"type\": \"linear\"}}], \"label\": \"Linear Scale\", \"method\": \"update\"}], \"xanchor\": \"left\", \"y\": 1.05, \"yanchor\": \"top\"}], \"width\": 1200, \"xaxis\": {\"anchor\": \"y\", \"domain\": [0.0, 1.0], \"title\": {\"text\": \"Date\"}}, \"yaxis\": {\"anchor\": \"x\", \"domain\": [0.0, 1.0], \"title\": {\"text\": \"Likes per Post per Follower\"}}},\n",
       "                        {\"responsive\": true}\n",
       "                    ).then(function(){\n",
       "                            \n",
       "var gd = document.getElementById('110bb2e4-61e6-4ac0-b3a3-b5e478b372bd');\n",
       "var x = new MutationObserver(function (mutations, observer) {{\n",
       "        var display = window.getComputedStyle(gd).display;\n",
       "        if (!display || display === 'none') {{\n",
       "            console.log([gd, 'removed!']);\n",
       "            Plotly.purge(gd);\n",
       "            observer.disconnect();\n",
       "        }}\n",
       "}});\n",
       "\n",
       "// Listen for the removal of the full notebook cells\n",
       "var notebookContainer = gd.closest('#notebook-container');\n",
       "if (notebookContainer) {{\n",
       "    x.observe(notebookContainer, {childList: true});\n",
       "}}\n",
       "\n",
       "// Listen for the clearing of the current output cell\n",
       "var outputEl = gd.closest('.output');\n",
       "if (outputEl) {{\n",
       "    x.observe(outputEl, {childList: true});\n",
       "}}\n",
       "\n",
       "                        })\n",
       "                };\n",
       "                });\n",
       "            </script>\n",
       "        </div>"
      ]
     },
     "metadata": {},
     "output_type": "display_data"
    }
   ],
   "source": [
    "fig = px.scatter(chart_data_0, \n",
    "                 x='fct_date',\n",
    "                 y='likes_per_post',\n",
    "                 size='comments_per_post_pax',\n",
    "                 color='name',\n",
    "                 labels={\n",
    "                     'likes_per_post': 'Likes per Post per Follower',\n",
    "                     'comments_per_post_pax': 'Comments per Post per Follower',\n",
    "                     'normalized_url':'Brand',\n",
    "                     'name': 'Size of Bubble =<br>Comments<br>per Post<br>per Follower<br><br><b>Brand</b>',\n",
    "                     'fct_date': 'Date',\n",
    "                 },\n",
    "                 title='Normalized Social Media Engagement Over Time',\n",
    "                 color_discrete_sequence=CU_PLOTLY_COLOR_SEQUENCE\n",
    "                )\n",
    "\n",
    "\n",
    "sizeref = 2 * max(chart_data_0['comments_per_post_pax'])/(100**2)\n",
    "smaller_font = dict(Font.plot_title.value)\n",
    "smaller_font.update({'size':14})\n",
    "fig.update_traces(\n",
    "    marker=dict(sizemode='area',\n",
    "                sizeref=sizeref\n",
    "               ),\n",
    "    textfont=smaller_font\n",
    ")\n",
    "\n",
    "fig.update_layout(\n",
    "    width=1200,\n",
    "    height=800,\n",
    ")\n",
    "\n",
    "fig.update_layout(\n",
    "    font=Font.plot_title.value,\n",
    "    plot_bgcolor=\"white\",\n",
    "     title={\"x\": 0.5},\n",
    "    colorway=CU_PLOTLY_COLOR_SEQUENCE,\n",
    "    coloraxis={\"autocolorscale\": True},\n",
    ")\n",
    "\n",
    "updatemenus = list([\n",
    "    dict(active=1,\n",
    "         buttons=list([\n",
    "            dict(label='Log Scale',\n",
    "                 method='update',\n",
    "                 args=[{'visible': [True]},\n",
    "                        {'yaxis': {'type': 'log', 'title':\"Likes per Post per Follower\"}\n",
    "                        }]),\n",
    "            dict(label='Linear Scale',\n",
    "                 method='update',\n",
    "                 args=[{'visible': [True]},\n",
    "                       {'yaxis': {'type': 'linear', 'title':\"Likes per Post per Follower\"}\n",
    "                       }])\n",
    "            ]),\n",
    "         xanchor=\"left\",\n",
    "         yanchor=\"top\",\n",
    "         y=1.05,\n",
    "        )\n",
    "    ])\n",
    "\n",
    "fig.update_layout(dict(updatemenus=updatemenus))\n",
    "fig.show()"
   ]
  },
  {
   "cell_type": "code",
   "execution_count": null,
   "metadata": {
    "ExecuteTime": {
     "end_time": "2022-04-04T21:29:29.791012Z",
     "start_time": "2022-04-04T21:17:39.472Z"
    }
   },
   "outputs": [],
   "source": [
    "fig.write_html(f\"data/{NORMALIZED_URLS}_ig_engagement_normalized.html\")"
   ]
  },
  {
   "cell_type": "markdown",
   "metadata": {},
   "source": [
    "# Per Post Basis"
   ]
  },
  {
   "cell_type": "code",
   "execution_count": null,
   "metadata": {
    "ExecuteTime": {
     "end_time": "2022-03-31T23:17:21.709815Z",
     "start_time": "2022-03-31T23:16:59.469Z"
    }
   },
   "outputs": [],
   "source": [
    "# spark.read.parquet(f's3a://circleup-helio-normalized/instagram/version=1_0_0/entity=media/year=2020/month=05').printSchema()"
   ]
  },
  {
   "cell_type": "code",
   "execution_count": null,
   "metadata": {
    "ExecuteTime": {
     "end_time": "2022-03-31T23:17:21.710873Z",
     "start_time": "2022-03-31T23:17:00.161Z"
    }
   },
   "outputs": [],
   "source": [
    "class AdhocDF(BrandMetricDataFrames):\n",
    "    \n",
    "    def load_and_persist(self, reference_date: datetime):\n",
    "        self._load_instagram_data()\n",
    "        \n",
    "    def _load_instagram_data(self):\n",
    "        by_url_window = Window.partitionBy(c.normalized_url).orderBy(\n",
    "            c.collected_on.desc()\n",
    "        )\n",
    "\n",
    "        self.instagram_account_data = datasets.instagram_account__1_0.read()\n",
    "\n",
    "        self.instagram_account_data = self.instagram_account_data.select(\n",
    "            c.collected_on, c.instagram_id, c.followers_count, c.posts_count, \n",
    "        )\n",
    "\n",
    "        brand_map_data_ig = datasets.instagram_brand_map__1_0.read()\n",
    "\n",
    "        brand_map_data_ig = (\n",
    "            brand_map_data_ig.withColumn(\"row_num\", F.row_number().over(by_url_window))\n",
    "            .where(c.row_num == 1)\n",
    "            .select(c.normalized_url, c.instagram_id)\n",
    "            .repartition(32)\n",
    "        )\n",
    "        brand_map_data_ig = F.broadcast(brand_map_data_ig)\n",
    "\n",
    "        self.instagram_account_data = self.instagram_account_data.join(\n",
    "            brand_map_data_ig, on=\"instagram_id\", how=\"inner\"\n",
    "        )\n",
    "\n",
    "        self.instagram_account_data = self.instagram_account_data.repartition(\n",
    "            c.normalized_url\n",
    "        )\n",
    "        self.instagram_account_data = remove_bad_mapped_accounts(\n",
    "            self.instagram_account_data, \"instagram_id\"\n",
    "        )\n",
    "\n",
    "        self.instagram_account_data = self.instagram_account_data.persist()\n",
    "\n",
    "        self.instagram_media_data = data_set_to_data_frame(\n",
    "            session=self.spark,\n",
    "            data_set=self.data_sets[\"instagram_media\"],\n",
    "            data_set_mode='prod',\n",
    "            execution_date=None,\n",
    "        )\n",
    "\n",
    "        self.instagram_media_data = self.instagram_media_data.select(\n",
    "            c.collected_on, c.instagram_id, c.media_id, c.likes_count, c.comments_count, c.media_created_time, c.caption\n",
    "        ).dropna()\n",
    "        self.instagram_media_data = self.instagram_media_data.repartition(\n",
    "            \"instagram_id\"\n",
    "        ).persist()\n",
    "        \n",
    "    def instagram_for_date(self, reference_date: datetime):\n",
    "        by_url_window = Window.partitionBy(c.normalized_url).orderBy(\n",
    "            c.collected_on.desc()\n",
    "        )\n",
    "        by_media_id_window = Window.partitionBy(c.instagram_id, c.media_id).orderBy(\n",
    "            c.collected_on.desc()\n",
    "        )\n",
    "\n",
    "        account = self._latest_within_date_window(\n",
    "            self.instagram_account_data, by_url_window, reference_date\n",
    "        ).repartition(c.instagram_id)\n",
    "        account = account.withColumnRenamed(\"collected_on\", \"instagram_collected_on\")\n",
    "\n",
    "        media = self._latest_within_date_window(\n",
    "            self.instagram_media_data,\n",
    "            by_media_id_window,\n",
    "            reference_date,\n",
    "            filter_stale=False,\n",
    "        )\n",
    "\n",
    "        result = account.join(media, on=\"instagram_id\", how=\"left\")\n",
    "        return result"
   ]
  },
  {
   "cell_type": "code",
   "execution_count": null,
   "metadata": {
    "ExecuteTime": {
     "end_time": "2022-03-31T23:17:21.711848Z",
     "start_time": "2022-03-31T23:17:00.424Z"
    }
   },
   "outputs": [],
   "source": [
    "dfs = AdhocDF(spark)\n",
    "dfs.load_and_persist(max_dt)\n",
    "ig_post_sdf = dfs.instagram_for_date(max_dt).persist()"
   ]
  },
  {
   "cell_type": "code",
   "execution_count": null,
   "metadata": {
    "ExecuteTime": {
     "end_time": "2022-03-31T23:17:21.712784Z",
     "start_time": "2022-03-31T23:17:01.263Z"
    }
   },
   "outputs": [],
   "source": [
    "joined_post_sdf = (\n",
    "    ig_post_sdf\n",
    "    .withColumn('post_date', F.date_format(F.col('media_created_time'),\"yyyy-MM-dd\"))\n",
    "    .withColumn('fct_date', F.date_format(F.col('media_created_time'),\"yyyy-MM\"))\n",
    "    .join(\n",
    "        ig_sdf.select('normalized_url', 'name','fct_date', 'instagram_followed_by'),\n",
    "        on=['normalized_url', 'fct_date'],\n",
    "        how='left'\n",
    "    ) # can't find where name comes from here, so reused\n",
    "    .withColumn('likes_pax', F.col('likes_count') / F.col('instagram_followed_by'))\n",
    "    .withColumn('comments_pax', F.col('comments_count') / F.col('instagram_followed_by'))\n",
    ")"
   ]
  },
  {
   "cell_type": "code",
   "execution_count": null,
   "metadata": {
    "ExecuteTime": {
     "end_time": "2022-03-31T23:17:21.713713Z",
     "start_time": "2022-03-31T23:17:01.764Z"
    }
   },
   "outputs": [],
   "source": [
    "filtered_ig_post_sdf = (\n",
    "    joined_post_sdf\n",
    "    .filter(F.col('normalized_url').isin(NORMALIZED_URLS))\n",
    ")"
   ]
  },
  {
   "cell_type": "code",
   "execution_count": null,
   "metadata": {
    "ExecuteTime": {
     "end_time": "2022-03-31T23:17:21.714704Z",
     "start_time": "2022-03-31T23:17:01.842Z"
    }
   },
   "outputs": [],
   "source": [
    "# filtered_ig_post_sdf.count()"
   ]
  },
  {
   "cell_type": "code",
   "execution_count": null,
   "metadata": {
    "ExecuteTime": {
     "end_time": "2022-03-31T23:17:21.715650Z",
     "start_time": "2022-03-31T23:17:01.928Z"
    }
   },
   "outputs": [],
   "source": [
    "chart_data_1 = filtered_ig_post_sdf.sort(F.col('normalized_url')).toPandas()"
   ]
  },
  {
   "cell_type": "code",
   "execution_count": null,
   "metadata": {
    "ExecuteTime": {
     "end_time": "2022-03-31T23:17:21.716607Z",
     "start_time": "2022-03-31T23:17:02.335Z"
    }
   },
   "outputs": [],
   "source": [
    "wrap_length = 50\n",
    "chart_data_1['caption'] = chart_data_1['caption'].apply(add_line_breaks, args=(wrap_length,))"
   ]
  },
  {
   "cell_type": "code",
   "execution_count": null,
   "metadata": {
    "ExecuteTime": {
     "end_time": "2022-03-31T23:17:21.717556Z",
     "start_time": "2022-03-31T23:17:02.797Z"
    }
   },
   "outputs": [],
   "source": [
    "chart_data_1 = chart_data_1.dropna(subset=['post_date', 'name', 'likes_pax', 'comments_pax'])"
   ]
  },
  {
   "cell_type": "code",
   "execution_count": null,
   "metadata": {
    "ExecuteTime": {
     "end_time": "2022-03-31T23:17:21.718578Z",
     "start_time": "2022-03-31T23:17:02.985Z"
    }
   },
   "outputs": [],
   "source": [
    "chart_data_1 = chart_data_1[chart_data_1.post_date >= year2_ago_date].sort_values(\n",
    "    'normalized_url',\n",
    "    ascending=False\n",
    ")"
   ]
  },
  {
   "cell_type": "code",
   "execution_count": null,
   "metadata": {
    "ExecuteTime": {
     "end_time": "2022-03-31T23:17:21.719504Z",
     "start_time": "2022-03-31T23:17:03.233Z"
    }
   },
   "outputs": [],
   "source": [
    "if brand_map_di:\n",
    "    chart_data_1['name'] = chart_data_1['normalized_url'].map(brand_map_di)"
   ]
  },
  {
   "cell_type": "markdown",
   "metadata": {},
   "source": [
    "# Plot"
   ]
  },
  {
   "cell_type": "code",
   "execution_count": null,
   "metadata": {
    "ExecuteTime": {
     "end_time": "2022-03-31T23:17:21.720452Z",
     "start_time": "2022-03-31T23:17:03.696Z"
    }
   },
   "outputs": [],
   "source": [
    "fig = px.scatter(chart_data_1.sort_values('normalized_url'), \n",
    "                 x='post_date',\n",
    "                 y='likes_pax',\n",
    "                 size='comments_pax',\n",
    "                 color='name',\n",
    "                 labels={\n",
    "                     'likes_pax': 'Likes per Follower',\n",
    "                     'comments_pax': 'Comments per Follower',\n",
    "                     'name': 'Size of Bubble =<br>Comments per Follower<br><br><b>Brand</b>',\n",
    "                     'post_date': 'Date',\n",
    "                 },\n",
    "                 hover_data=['caption'],\n",
    "                 title='Normalized Social Media Engagement Over Time per Post',\n",
    "                 color_discrete_sequence=CU_PLOTLY_COLOR_SEQUENCE,\n",
    "                 opacity=0.5,\n",
    "                )\n",
    "\n",
    "\n",
    "sizeref = 2 * max(chart_data_1['comments_pax'])/(100**2)\n",
    "smaller_font = dict(Font.plot_title.value)\n",
    "smaller_font.update({'size':14})\n",
    "fig.update_traces(\n",
    "    marker=dict(sizemode='area',\n",
    "                sizeref=sizeref\n",
    "               ),\n",
    "    textfont=smaller_font\n",
    ")\n",
    "\n",
    "fig.update_layout(\n",
    "    width=1200,\n",
    "    height=800,\n",
    ")\n",
    "\n",
    "fig.update_layout(\n",
    "    font=Font.plot_title.value,\n",
    "    plot_bgcolor=\"white\",\n",
    "     title={\"x\": 0.5},\n",
    "    colorway=CU_PLOTLY_COLOR_SEQUENCE,\n",
    "    coloraxis={\"autocolorscale\": True},\n",
    ")\n",
    "\n",
    "updatemenus = list([\n",
    "    dict(active=1,\n",
    "         buttons=list([\n",
    "            dict(label='Log Scale',\n",
    "                 method='update',\n",
    "                 args=[{'visible': [True]},\n",
    "                        {'yaxis': {'type': 'log', 'title':\"Likes per Follower\"}\n",
    "                        }]),\n",
    "            dict(label='Linear Scale',\n",
    "                 method='update',\n",
    "                 args=[{'visible': [True]},\n",
    "                       {'yaxis': {'type': 'linear', 'title':\"Likes per Follower\"}\n",
    "                       }])\n",
    "            ]),\n",
    "         xanchor=\"left\",\n",
    "         yanchor=\"top\",\n",
    "         y=1.02,\n",
    "        )\n",
    "    ])\n",
    "\n",
    "fig.update_layout(dict(updatemenus=updatemenus))\n",
    "fig.show()"
   ]
  },
  {
   "cell_type": "code",
   "execution_count": null,
   "metadata": {
    "ExecuteTime": {
     "end_time": "2022-03-31T23:17:21.721410Z",
     "start_time": "2022-03-31T23:17:03.916Z"
    }
   },
   "outputs": [],
   "source": [
    "fig.write_html(f\"data/{NORMALIZED_URLS[0]}_ig_engagement_post.html\")"
   ]
  },
  {
   "cell_type": "code",
   "execution_count": null,
   "metadata": {
    "ExecuteTime": {
     "end_time": "2022-03-31T23:17:21.722505Z",
     "start_time": "2022-03-31T23:17:04.137Z"
    }
   },
   "outputs": [],
   "source": [
    "fig = px.scatter(chart_data_1, \n",
    "                 x='post_date',\n",
    "                 y='likes_count',\n",
    "                 size='comments_count',\n",
    "                 color='name',\n",
    "                 labels={\n",
    "                     'likes_count': 'Likes',\n",
    "                     'comments_count': 'Comments',\n",
    "                     'name': 'Size of Bubble =<br>Comments<br><br><b>Brand</b>',\n",
    "                     'post_date': 'Date',\n",
    "                 },\n",
    "                 title='Social Media Engagement Over Time per Post',\n",
    "                 hover_data=['caption'],\n",
    "                 color_discrete_sequence=CU_PLOTLY_COLOR_SEQUENCE,\n",
    "                 opacity=0.5,\n",
    "                )\n",
    "\n",
    "\n",
    "sizeref = 2 * max(chart_data_1['comments_count'])/(100**2)\n",
    "smaller_font = dict(Font.plot_title.value)\n",
    "smaller_font.update({'size':14})\n",
    "fig.update_traces(\n",
    "    marker=dict(sizemode='area',\n",
    "                sizeref=sizeref\n",
    "               ),\n",
    "    textfont=smaller_font\n",
    ")\n",
    "\n",
    "fig.update_layout(\n",
    "    width=1250,\n",
    "    height=800,\n",
    ")\n",
    "\n",
    "fig.update_layout(\n",
    "    font=Font.plot_title.value,\n",
    "    plot_bgcolor=\"white\",\n",
    "     title={\"x\": 0.5},\n",
    "    colorway=CU_PLOTLY_COLOR_SEQUENCE,\n",
    "    coloraxis={\"autocolorscale\": True},\n",
    ")\n",
    "\n",
    "updatemenus = list([\n",
    "    dict(active=1,\n",
    "         buttons=list([\n",
    "            dict(label='Log Scale',\n",
    "                 method='update',\n",
    "                 args=[{'visible': [True]},\n",
    "                        {'yaxis': {'type': 'log', 'title':\"Likes\"}\n",
    "                        }]),\n",
    "            dict(label='Linear Scale',\n",
    "                 method='update',\n",
    "                 args=[{'visible': [True]},\n",
    "                       {'yaxis': {'type': 'linear', 'title':\"Likes\"}\n",
    "                       }])\n",
    "            ]),\n",
    "         xanchor=\"left\",\n",
    "         yanchor=\"top\",\n",
    "         y=1.02,\n",
    "        )\n",
    "    ])\n",
    "\n",
    "fig.update_layout(dict(updatemenus=updatemenus))\n",
    "fig.show()"
   ]
  },
  {
   "cell_type": "markdown",
   "metadata": {},
   "source": [
    "# Last Year Post Aggs"
   ]
  },
  {
   "cell_type": "code",
   "execution_count": null,
   "metadata": {
    "ExecuteTime": {
     "end_time": "2022-03-31T23:17:21.723396Z",
     "start_time": "2022-03-31T23:17:04.714Z"
    }
   },
   "outputs": [],
   "source": [
    "ig_post_agg_sdf = (\n",
    "    joined_post_sdf\n",
    "    .filter(F.col('post_date') >= year_ago_dt)\n",
    "    .groupby('normalized_url', 'name')\n",
    "    .agg(\n",
    "        F.count('*').alias('post_count'),\n",
    "        F.mean(F.col('likes_pax')).alias('avg_likes_pax'),\n",
    "        F.mean(F.col('comments_pax')).alias('avg_comments_pax'),\n",
    "    )\n",
    ")"
   ]
  },
  {
   "cell_type": "code",
   "execution_count": null,
   "metadata": {
    "ExecuteTime": {
     "end_time": "2022-03-31T23:17:21.724275Z",
     "start_time": "2022-03-31T23:17:05.103Z"
    }
   },
   "outputs": [],
   "source": [
    "chart_data_2 = ig_post_agg_sdf.filter(F.col('normalized_url').isin(NORMALIZED_URLS)).toPandas()"
   ]
  },
  {
   "cell_type": "code",
   "execution_count": null,
   "metadata": {
    "ExecuteTime": {
     "end_time": "2022-03-31T23:17:21.725197Z",
     "start_time": "2022-03-31T23:17:05.529Z"
    }
   },
   "outputs": [],
   "source": [
    "chart_data_2 = chart_data_2.sort_values('normalized_url')"
   ]
  },
  {
   "cell_type": "code",
   "execution_count": null,
   "metadata": {
    "ExecuteTime": {
     "end_time": "2022-03-31T23:17:21.726069Z",
     "start_time": "2022-03-31T23:17:06.026Z"
    }
   },
   "outputs": [],
   "source": [
    "chart_data_2"
   ]
  },
  {
   "cell_type": "code",
   "execution_count": null,
   "metadata": {
    "ExecuteTime": {
     "end_time": "2022-03-31T23:17:21.727016Z",
     "start_time": "2022-03-31T23:17:06.244Z"
    }
   },
   "outputs": [],
   "source": [
    "chart_data_2 = chart_data_2.sort_values(\n",
    "    'normalized_url',\n",
    "    ascending=False\n",
    ").dropna(subset=['avg_likes_pax', 'avg_comments_pax'])"
   ]
  },
  {
   "cell_type": "code",
   "execution_count": null,
   "metadata": {
    "ExecuteTime": {
     "end_time": "2022-03-31T23:17:21.727958Z",
     "start_time": "2022-03-31T23:17:06.409Z"
    }
   },
   "outputs": [],
   "source": [
    "if brand_map_di:\n",
    "    chart_data_2['name'] = chart_data_2['normalized_url'].map(brand_map_di)"
   ]
  },
  {
   "cell_type": "code",
   "execution_count": null,
   "metadata": {
    "ExecuteTime": {
     "end_time": "2022-03-31T23:17:21.728926Z",
     "start_time": "2022-03-31T23:17:07.235Z"
    }
   },
   "outputs": [],
   "source": [
    "fig = px.scatter(chart_data_2.sort_values('normalized_url'), \n",
    "                 x='avg_comments_pax',\n",
    "                 y='avg_likes_pax',\n",
    "                 size='post_count',\n",
    "                 color='name',\n",
    "                 text='name',\n",
    "                 labels={\n",
    "                     'avg_likes_pax': 'Average Likes per Follower',\n",
    "                     'avg_comments_pax': 'Average Comments per Follower',\n",
    "                     'name': 'Size of Bubble =<br>Post Count<br><br><b>Brand<b/>',\n",
    "                 },\n",
    "                 title=f'Social Media Engagement Since {year_ago_date}',\n",
    "                 color_discrete_sequence=CU_PLOTLY_COLOR_SEQUENCE,\n",
    "                )\n",
    "\n",
    "\n",
    "sizeref = 2 * max(chart_data_2['post_count'])/(100**2)\n",
    "smaller_font = dict(Font.plot_title.value)\n",
    "smaller_font.update({'size':16})\n",
    "fig.update_traces(\n",
    "    marker=dict(sizemode='area',\n",
    "                sizeref=sizeref\n",
    "               ),\n",
    "    textfont=smaller_font\n",
    ")\n",
    "\n",
    "fig.update_layout(\n",
    "    width=1200,\n",
    "    height=800,\n",
    ")\n",
    "\n",
    "fig.update_layout(\n",
    "    font=Font.plot_title.value,\n",
    "    plot_bgcolor=\"white\",\n",
    "     title={\"x\": 0.5},\n",
    "    colorway=CU_PLOTLY_COLOR_SEQUENCE,\n",
    "    coloraxis={\"autocolorscale\": True},\n",
    "    xaxis_tickformat='.4f',\n",
    "     xaxis = dict(\n",
    "        tickmode = 'array',\n",
    "        tickvals = [-0.01, 0.0, 0.01, 0.02, 0.03, 0.04, 0.05, 0.06, 0.07, 0.08],\n",
    "    )\n",
    "#     showlegend=False\n",
    ")\n",
    "\n",
    "updatemenus = list([\n",
    "    dict(active=1,\n",
    "         buttons=list([\n",
    "            dict(label='Log Scale',\n",
    "                 method='update',\n",
    "                 args=[{'visible': [True]},\n",
    "                        {'yaxis': {'type': 'log', 'title':\"Average Likes per Follower\"}\n",
    "                        }]),\n",
    "            dict(label='Linear Scale',\n",
    "                 method='update',\n",
    "                 args=[{'visible': [True]},\n",
    "                       {'yaxis': {'type': 'linear', 'title':\"Average Likes per Follower\"}\n",
    "                       }])\n",
    "            ]),\n",
    "         xanchor=\"left\",\n",
    "         yanchor=\"top\",\n",
    "         y=1.02,\n",
    "        )\n",
    "    ])\n",
    "\n",
    "fig.update_layout(dict(updatemenus=updatemenus))\n",
    "fig.show()"
   ]
  },
  {
   "cell_type": "code",
   "execution_count": null,
   "metadata": {
    "ExecuteTime": {
     "end_time": "2022-03-31T23:17:21.729864Z",
     "start_time": "2022-03-31T23:17:07.879Z"
    }
   },
   "outputs": [],
   "source": [
    "fig.write_html(f\"data/{NORMALIZED_URLS[0]}_ig_engagement_year.html\")"
   ]
  },
  {
   "cell_type": "code",
   "execution_count": null,
   "metadata": {
    "ExecuteTime": {
     "end_time": "2022-03-31T23:17:21.730859Z",
     "start_time": "2022-03-31T23:17:08.127Z"
    }
   },
   "outputs": [],
   "source": [
    "chart_data_2.to_csv('bain_social_agg.csv')"
   ]
  },
  {
   "cell_type": "code",
   "execution_count": null,
   "metadata": {
    "ExecuteTime": {
     "end_time": "2022-03-31T23:17:21.731844Z",
     "start_time": "2022-03-31T23:17:08.293Z"
    }
   },
   "outputs": [],
   "source": [
    "chart_data_2"
   ]
  },
  {
   "cell_type": "code",
   "execution_count": null,
   "metadata": {},
   "outputs": [],
   "source": []
  }
 ],
 "metadata": {
  "kernelspec": {
   "display_name": "Python 3",
   "language": "python",
   "name": "python3"
  },
  "language_info": {
   "codemirror_mode": {
    "name": "ipython",
    "version": 3
   },
   "file_extension": ".py",
   "mimetype": "text/x-python",
   "name": "python",
   "nbconvert_exporter": "python",
   "pygments_lexer": "ipython3",
   "version": "3.6.8"
  },
  "toc": {
   "colors": {
    "hover_highlight": "#DAA520",
    "navigate_num": "#000000",
    "navigate_text": "#333333",
    "running_highlight": "#FF0000",
    "selected_highlight": "#FFD700",
    "sidebar_border": "#EEEEEE",
    "wrapper_background": "#FFFFFF"
   },
   "moveMenuLeft": true,
   "nav_menu": {
    "height": "282px",
    "width": "252px"
   },
   "navigate_menu": true,
   "number_sections": true,
   "sideBar": true,
   "threshold": 4,
   "toc_cell": false,
   "toc_position": {
    "height": "1672.88px",
    "left": "0px",
    "right": "1691px",
    "top": "111.125px",
    "width": "212px"
   },
   "toc_section_display": "block",
   "toc_window_display": true,
   "widenNotebook": false
  }
 },
 "nbformat": 4,
 "nbformat_minor": 4
}
